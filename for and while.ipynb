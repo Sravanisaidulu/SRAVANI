{
 "cells": [
  {
   "cell_type": "code",
   "execution_count": 24,
   "metadata": {},
   "outputs": [
    {
     "name": "stdout",
     "output_type": "stream",
     "text": [
      "a\n",
      "S\n",
      "D\n",
      "E\n",
      "R\n",
      "2\n",
      "3\n"
     ]
    }
   ],
   "source": [
    "# 1 wap to print all the items present in the string between the range from m to n\n",
    "st='sraSDER2345&*()'\n",
    "for i in range(2,9):\n",
    "    print(st[i])"
   ]
  },
  {
   "cell_type": "code",
   "execution_count": 2,
   "metadata": {},
   "outputs": [
    {
     "name": "stdout",
     "output_type": "stream",
     "text": [
      "P\n",
      "Y\n",
      "T\n",
      "C\n",
      "O\n"
     ]
    }
   ],
   "source": [
    "# 2 wap to print the uppercase cht in given string\n",
    "st=\"PYTon is my COurs245\"\n",
    "for i in st:\n",
    "    if 'A'<=i<='Z':\n",
    "        print(i)"
   ]
  },
  {
   "cell_type": "code",
   "execution_count": 3,
   "metadata": {},
   "outputs": [
    {
     "name": "stdout",
     "output_type": "stream",
     "text": [
      "o\n",
      "n\n",
      "i\n",
      "s\n",
      "m\n",
      "y\n",
      "u\n",
      "r\n",
      "s\n"
     ]
    }
   ],
   "source": [
    "# 3 wap to print the lowercase cht in given string\n",
    "st=\"PYTon is my COurs245\"\n",
    "for i in st:\n",
    "    if 'a'<=i<='z':\n",
    "        print(i)\n"
   ]
  },
  {
   "cell_type": "code",
   "execution_count": 4,
   "metadata": {},
   "outputs": [
    {
     "name": "stdout",
     "output_type": "stream",
     "text": [
      "2\n",
      "4\n",
      "5\n"
     ]
    }
   ],
   "source": [
    "# 4 wap to print the ascii number char in given string\n",
    "st=\"PYTon is my COurs245\"\n",
    "for i in st:\n",
    "    if '0'<=i<='9':\n",
    "        print(i)"
   ]
  },
  {
   "cell_type": "code",
   "execution_count": 9,
   "metadata": {},
   "outputs": [
    {
     "name": "stdout",
     "output_type": "stream",
     "text": [
      "#\n",
      "&\n",
      "*\n",
      "!\n"
     ]
    }
   ],
   "source": [
    "# 5 wap to print the special char in given string\n",
    "st=\"pyth#&o*!nFD356\"\n",
    "for i in st:\n",
    "    if not('A'<=i<='z' or 'a'<=i<='z' or '0'<=i<='9'):\n",
    "        print(i)"
   ]
  },
  {
   "cell_type": "code",
   "execution_count": 10,
   "metadata": {},
   "outputs": [
    {
     "name": "stdout",
     "output_type": "stream",
     "text": [
      "O\n",
      "e\n",
      "e\n",
      "i\n",
      "o\n"
     ]
    }
   ],
   "source": [
    "# 6 wap to print the vowels in given string\n",
    "st=\"XCOleection\"\n",
    "for i in st:\n",
    "    if i in 'AEIOUaeiou':\n",
    "        print(i)"
   ]
  },
  {
   "cell_type": "code",
   "execution_count": 12,
   "metadata": {},
   "outputs": [
    {
     "name": "stdout",
     "output_type": "stream",
     "text": [
      "X\n",
      "C\n",
      "l\n",
      "c\n",
      "t\n",
      "n\n",
      "p\n",
      "y\n",
      "t\n",
      "h\n",
      "n\n"
     ]
    }
   ],
   "source": [
    "# 7 wap to print the consonants in given string\n",
    "st=\"XCOleectionpython\"\n",
    "for i in st:\n",
    "    if i not in 'AEIOUaeiou':\n",
    "        print(i)"
   ]
  },
  {
   "cell_type": "code",
   "execution_count": 15,
   "metadata": {},
   "outputs": [
    {
     "name": "stdout",
     "output_type": "stream",
     "text": [
      "eibrab olleh\n"
     ]
    }
   ],
   "source": [
    "# 8 wap to print the reverse of the char in a given string without slicing\n",
    "st=\"hello barbie\"\n",
    "rev=\"\"\n",
    "for i in st:\n",
    "    rev=i+rev\n",
    "print(rev)\n"
   ]
  },
  {
   "cell_type": "code",
   "execution_count": 16,
   "metadata": {},
   "outputs": [
    {
     "name": "stdout",
     "output_type": "stream",
     "text": [
      "h\n",
      "l\n",
      "o\n",
      "b\n",
      "r\n",
      "i\n"
     ]
    }
   ],
   "source": [
    "# 9 WAP to print even position values characters in a given string.\n",
    "st=\"hello barbie\"\n",
    "for i in range(0,len(st)):\n",
    "    if i%2==0:\n",
    "        print(st[i])"
   ]
  },
  {
   "cell_type": "code",
   "execution_count": 17,
   "metadata": {},
   "outputs": [
    {
     "name": "stdout",
     "output_type": "stream",
     "text": [
      "e\n",
      "l\n",
      " \n",
      "a\n",
      "b\n",
      "e\n"
     ]
    }
   ],
   "source": [
    "# 10 WAP to print odd position values characters in a given string.\n",
    "st=\"hello barbie\"\n",
    "for i in range(0,len(st)):\n",
    "    if i%2!=0:\n",
    "        print(st[i])"
   ]
  },
  {
   "cell_type": "code",
   "execution_count": 4,
   "metadata": {},
   "outputs": [
    {
     "name": "stdout",
     "output_type": "stream",
     "text": [
      "6\n"
     ]
    }
   ],
   "source": [
    "# 11 WAP to count the total Number of characters in a given string.(withlength function)\n",
    "st=\"jailer\"\n",
    "\n",
    "\n",
    "print(len(st))"
   ]
  },
  {
   "cell_type": "code",
   "execution_count": 20,
   "metadata": {},
   "outputs": [
    {
     "name": "stdout",
     "output_type": "stream",
     "text": [
      "25\n"
     ]
    }
   ],
   "source": [
    "# 12 WAP to count the total Number of characters in a given string.(without length function)\n",
    "st=\"mr polisheety miss shetty\"\n",
    "count=0\n",
    "for i in st:\n",
    "    count+=1\n",
    "print(count)"
   ]
  },
  {
   "cell_type": "code",
   "execution_count": 22,
   "metadata": {},
   "outputs": [
    {
     "name": "stdout",
     "output_type": "stream",
     "text": [
      "22\n"
     ]
    }
   ],
   "source": [
    "# 13 WAP to count alphabets in a given string.\n",
    "st=\"mr polisheety miss shetty\"\n",
    "count=0\n",
    "for i in st:\n",
    "    if 'A'<=i<='z' or 'a'<=i<='z':\n",
    "        count+=1\n",
    "print(count)"
   ]
  },
  {
   "cell_type": "code",
   "execution_count": 25,
   "metadata": {},
   "outputs": [
    {
     "name": "stdout",
     "output_type": "stream",
     "text": [
      "3\n"
     ]
    }
   ],
   "source": [
    "# 14 WAP to count Number of uppercase in a given string.\n",
    "st=\"hEllo baRbiE\"\n",
    "count=0\n",
    "for i in st:\n",
    "    if 'A'<=i<='Z':\n",
    "        count+=1\n",
    "print(count)"
   ]
  },
  {
   "cell_type": "code",
   "execution_count": 26,
   "metadata": {},
   "outputs": [
    {
     "name": "stdout",
     "output_type": "stream",
     "text": [
      "8\n"
     ]
    }
   ],
   "source": [
    "# 15 WAP to count lowercase in a given string.\n",
    "st=\"hEllo baRbiE\"\n",
    "count=0\n",
    "for i in st:\n",
    "    if 'a'<=i<='z':\n",
    "        count+=1\n",
    "print(count)"
   ]
  },
  {
   "cell_type": "code",
   "execution_count": 27,
   "metadata": {},
   "outputs": [
    {
     "name": "stdout",
     "output_type": "stream",
     "text": [
      "4\n"
     ]
    }
   ],
   "source": [
    "# 16 WAP to count Number of special symbols in a given string.\n",
    "st=\"pyth#&o*!nFD356\"\n",
    "count=0\n",
    "for i in st:\n",
    "    if not('A'<=i<'Z' or 'a'<=i<='z' or '0'<=i<='9'):\n",
    "        count+=1\n",
    "print(count)"
   ]
  },
  {
   "cell_type": "code",
   "execution_count": 37,
   "metadata": {},
   "outputs": [
    {
     "name": "stdout",
     "output_type": "stream",
     "text": [
      "4 10\n"
     ]
    }
   ],
   "source": [
    "# 17 WAP to count uppercase and lowercase in a given string.\n",
    "s=\"SRavaNI235#$%678pkjbvfb\"\n",
    "upcount=0\n",
    "lowcount=0\n",
    "for i in s:\n",
    "    if 'A'<=i<='Z':\n",
    "        upcount+=1\n",
    "    elif 'a'<=i<='z':\n",
    "        lowcount+=1\n",
    "print(upcount,lowcount)"
   ]
  },
  {
   "cell_type": "code",
   "execution_count": 30,
   "metadata": {},
   "outputs": [
    {
     "name": "stdout",
     "output_type": "stream",
     "text": [
      "6\n"
     ]
    }
   ],
   "source": [
    "# 18 WAP to count Number of ascii numbers in a given string.\n",
    "s='SRavaNI235#$%678pkjbvfb'\n",
    "count=0\n",
    "for i in s:\n",
    "    if '0'<i<='9':\n",
    "        count+=1\n",
    "print(count)"
   ]
  },
  {
   "cell_type": "code",
   "execution_count": 39,
   "metadata": {},
   "outputs": [
    {
     "name": "stdout",
     "output_type": "stream",
     "text": [
      "['disney', 'world'] 2\n"
     ]
    }
   ],
   "source": [
    "# 19 WAP to Count Total Number of Words in a String.\n",
    "st=' disney world'\n",
    "s=\"\"\n",
    "l=[]\n",
    "for i in st:\n",
    "    if i!=\" \":\n",
    "        s+=i\n",
    "    else:\n",
    "        if len(s)>0:\n",
    "            l+=[s]\n",
    "            s=\"\"\n",
    "if len(s)>0:\n",
    "    l+=[s]\n",
    "    s=\"\"\n",
    "print(l,len(l))\n"
   ]
  },
  {
   "cell_type": "code",
   "execution_count": 33,
   "metadata": {},
   "outputs": [
    {
     "name": "stdout",
     "output_type": "stream",
     "text": [
      "3\n"
     ]
    }
   ],
   "source": [
    "# 20 WAP to Count Total Number of spaces in a String.\n",
    "st=' disney world '\n",
    "count=0\n",
    "for i in st:\n",
    "    if i==\" \":\n",
    "        count+=1\n",
    "print(count)"
   ]
  },
  {
   "cell_type": "code",
   "execution_count": 34,
   "metadata": {},
   "outputs": [
    {
     "name": "stdout",
     "output_type": "stream",
     "text": [
      "3\n"
     ]
    }
   ],
   "source": [
    "# 21 WAP to Count Vowels in a String.\n",
    "st=\"mommdasd3boss\"\n",
    "c=0\n",
    "for i in st:\n",
    "    if i in'AEIOUaeiou':\n",
    "        c+=1\n",
    "print(c)"
   ]
  },
  {
   "cell_type": "code",
   "execution_count": 35,
   "metadata": {},
   "outputs": [
    {
     "name": "stdout",
     "output_type": "stream",
     "text": [
      "10\n"
     ]
    }
   ],
   "source": [
    "# 22 WAP to Count consonants in a String.\n",
    "st=\"mommdasd3boss\"\n",
    "c=0\n",
    "for i in st:\n",
    "    if i not in'AEIOUaeiou':\n",
    "        c+=1\n",
    "print(c)"
   ]
  },
  {
   "cell_type": "code",
   "execution_count": 36,
   "metadata": {},
   "outputs": [
    {
     "name": "stdout",
     "output_type": "stream",
     "text": [
      "3\n",
      "10\n"
     ]
    }
   ],
   "source": [
    "# 23 WAP to Count Vowels and Consonants in a String.\n",
    "st=\"mommdasd3boss\"\n",
    "v=0\n",
    "c=0\n",
    "for i in st:\n",
    "    if i in 'aeiouAEIOU':\n",
    "        v+=1\n",
    "    elif i not in 'AEIOUaeiou':\n",
    "        c+=1\n",
    "print(v)\n",
    "print(c)"
   ]
  },
  {
   "cell_type": "code",
   "execution_count": 46,
   "metadata": {},
   "outputs": [
    {
     "name": "stdout",
     "output_type": "stream",
     "text": [
      "2\n"
     ]
    }
   ],
   "source": [
    "#24 WAP to count Number of new lines in a given string\n",
    "n=\"qwety\\nwqeasdf\\nwsgdfhv\\nwefg\"\n",
    "c=0\n",
    "sp='\\n'\n",
    "for i in n:\n",
    "    if i==sp:\n",
    "        c+=1\n",
    "print(c-1)                                       # new lines means except fist line"
   ]
  },
  {
   "cell_type": "code",
   "execution_count": 47,
   "metadata": {},
   "outputs": [
    {
     "name": "stdout",
     "output_type": "stream",
     "text": [
      "3\n"
     ]
    }
   ],
   "source": [
    "# 25 WAP to count Number of lines in a given string.\n",
    "n=\"qwety\\nwqeasdf\\nwsgdfhv\\nwefg\"\n",
    "c=0\n",
    "for i in n:\n",
    "    if i=='\\n':\n",
    "        c+=1\n",
    "print(c)                                       "
   ]
  },
  {
   "cell_type": "code",
   "execution_count": 1,
   "metadata": {},
   "outputs": [
    {
     "name": "stdout",
     "output_type": "stream",
     "text": [
      "14\n",
      "6\n",
      "3\n"
     ]
    }
   ],
   "source": [
    "# 26 WAP to count no of alphabets, numbers, and special characters in a given string.\n",
    "s=\"SRavaNI235#$%678pkjbvfb\"\n",
    "alp,num,spe=0,0,0\n",
    "for i in s:\n",
    "    if 'A'<=i<='Z'or 'a'<=i<='z':\n",
    "        alp+=1\n",
    "    elif '0'<=i<='9':\n",
    "        num+=1\n",
    "    else:\n",
    "        spe+=1\n",
    "print(alp)\n",
    "print(num)\n",
    "print(spe)"
   ]
  },
  {
   "cell_type": "code",
   "execution_count": 5,
   "metadata": {},
   "outputs": [
    {
     "name": "stdout",
     "output_type": "stream",
     "text": [
      "3\n"
     ]
    }
   ],
   "source": [
    "# 27 WAP to Count Total no of words in a first line of the Doc String.\n",
    "n=\"\"\" qwety python ganesh\n",
    "anakawqeasdf \n",
    "wqerwsgd\n",
    "fhvwefg\"\"\"\n",
    "res=\"\"\n",
    "for i in range(0,len(n)):\n",
    "    if n[i]=='\\n':\n",
    "        res+=n[0:i]\n",
    "        break\n",
    "st=\"\"\n",
    "l=[]\n",
    "for x in res:\n",
    "    if x!=\" \":\n",
    "        st+=x\n",
    "    else:\n",
    "        if len(st)>0:\n",
    "            l+=[st]\n",
    "            st=\"\"\n",
    "if len(st)>0:\n",
    "    l+=[st]\n",
    "print(len(l))\n",
    "    "
   ]
  },
  {
   "cell_type": "code",
   "execution_count": 6,
   "metadata": {},
   "outputs": [
    {
     "name": "stdout",
     "output_type": "stream",
     "text": [
      "16\n"
     ]
    }
   ],
   "source": [
    "# 28 WAP to sum of digits in a given string\n",
    "st=\"sravani 29 12 2000 dob\"\n",
    "sum=0\n",
    "for x in st:\n",
    "    if '0'<=x<='9':\n",
    "        sum+=int(x)\n",
    "print(sum)"
   ]
  },
  {
   "cell_type": "code",
   "execution_count": 8,
   "metadata": {},
   "outputs": [
    {
     "name": "stdout",
     "output_type": "stream",
     "text": [
      "{'p': 1, 'r': 2, 'o': 1, 'g': 5, 'a': 3, 'm': 2, 'i': 1, 'n': 2, ' ': 1, 'l': 1, 'u': 1, 'e': 1}\n",
      "r\n"
     ]
    }
   ],
   "source": [
    "# 29 WAP to Print First Occurrence of a Character in a String.\n",
    "s=\"programming langugage\"\n",
    "d={}\n",
    "for x in s:\n",
    "    if x not in d:\n",
    "        d[x]=1\n",
    "    else:\n",
    "        d[x]+=1\n",
    "print(d)\n",
    "l=list(d)\n",
    "for i in l:\n",
    "    if d[i]>1:\n",
    "        print(i)\n",
    "        break"
   ]
  },
  {
   "cell_type": "code",
   "execution_count": 12,
   "metadata": {},
   "outputs": [
    {
     "name": "stdout",
     "output_type": "stream",
     "text": [
      "{'p': 1, 'r': 2, 'o': 1, 'g': 5, 'a': 3, 'm': 2, 'i': 1, 'n': 2, ' ': 1, 'l': 1, 'u': 1, 'e': 1}\n",
      "['r', 'g', 'a', 'm', 'n']\n",
      "n\n"
     ]
    }
   ],
   "source": [
    "# 30 WAP to Print Last Occurrence of a Character in a String.\n",
    "s=\"programming langugage\"\n",
    "d={}\n",
    "for x in s:\n",
    "    if x not in d:\n",
    "        d[x]=1\n",
    "    else:\n",
    "        d[x]+=1\n",
    "print(d)\n",
    "l=list(d)\n",
    "x=[]\n",
    "for i in l:\n",
    "    if d[i]>1:\n",
    "        x+=[i]\n",
    "print(x)\n",
    "print(x[-1])"
   ]
  },
  {
   "cell_type": "code",
   "execution_count": 15,
   "metadata": {},
   "outputs": [
    {
     "name": "stdout",
     "output_type": "stream",
     "text": [
      "{'p': 1, 'r': 2, 'o': 1, 'g': 5, 'a': 3, 'm': 2, 'i': 1, 'n': 2, ' ': 1, 'l': 1, 'u': 1, 'e': 1}\n",
      "p\n"
     ]
    }
   ],
   "source": [
    "# 31 WAP to Print First not Occurrence of a Character in a String.\n",
    "s=\"programming langugage\"\n",
    "d={}\n",
    "for x in s:\n",
    "    if x not in d:\n",
    "        d[x]=1\n",
    "    else:\n",
    "        d[x]+=1\n",
    "print(d)\n",
    "l=list(d)\n",
    "for m in l:\n",
    "    if d[m]==1:\n",
    "        print(m)\n",
    "        break"
   ]
  },
  {
   "cell_type": "code",
   "execution_count": 16,
   "metadata": {},
   "outputs": [
    {
     "name": "stdout",
     "output_type": "stream",
     "text": [
      "{'p': 1, 'r': 2, 'o': 1, 'g': 5, 'a': 3, 'm': 2, 'i': 1, 'n': 2, ' ': 1, 'l': 1, 'u': 1, 'e': 1}\n",
      "e\n"
     ]
    }
   ],
   "source": [
    "# 32 WAP to Print last not Occurrence of a Character in a String.\n",
    "s=\"programming langugage\"\n",
    "d={}\n",
    "for x in s:\n",
    "    if x not in d:\n",
    "        d[x]=1\n",
    "    else:\n",
    "        d[x]+=1\n",
    "print(d)\n",
    "l=list(d)\n",
    "x=[]\n",
    "for i in l:\n",
    "    if d[i]==1:\n",
    "        x+=[i]\n",
    "print(x[-1])"
   ]
  },
  {
   "cell_type": "code",
   "execution_count": 22,
   "metadata": {},
   "outputs": [
    {
     "name": "stdout",
     "output_type": "stream",
     "text": [
      "{'p': 1, 'r': 2, 'o': 1, 'g': 4, 'a': 3, 'm': 2, 'i': 1, 'n': 2, ' ': 1, 'l': 1, 'u': 1, 'e': 1}\n",
      "['p', 'r', 'o', 'g', 'a', 'm', 'i', 'n', ' ', 'l', 'u', 'e']\n",
      "['p', 'o', 'g', 'a', 'm', 'i', 'n', ' ', 'l', 'u', 'e']\n"
     ]
    }
   ],
   "source": [
    "# 33 WAP to Remove First Occurrence of a Character in a String.\n",
    "st=\"programming language\"\n",
    "uni={}\n",
    "for i in st:\n",
    "    if i not in uni:\n",
    "        uni[i]=1\n",
    "    else:\n",
    "        uni[i]+=1\n",
    "print(uni)\n",
    "l=list(uni)\n",
    "print(l)\n",
    "for x in range(len(l)):\n",
    "    if uni[l[x]]>1:\n",
    "        del l[x]\n",
    "        break\n",
    "print(l)\n"
   ]
  },
  {
   "cell_type": "code",
   "execution_count": 26,
   "metadata": {},
   "outputs": [
    {
     "name": "stdout",
     "output_type": "stream",
     "text": [
      "{'p': 1, 'r': 2, 'o': 1, 'g': 4, 'a': 3, 'm': 2, 'i': 1, 'n': 2, ' ': 1, 'l': 1, 'u': 1, 'e': 1}\n",
      "['r', 'g', 'a', 'm', 'n']\n",
      "['r', 'g', 'a', 'm']\n"
     ]
    }
   ],
   "source": [
    "# 34 WAP to Remove Last Occurred Character in a String.\n",
    "st=\"programming language\"\n",
    "d={}\n",
    "for i in st:\n",
    "    if i not in d:\n",
    "        d[i]=1\n",
    "    else:\n",
    "        d[i]+=1\n",
    "print(d)\n",
    "l=list(d)\n",
    "u=[]\n",
    "for x in range(0,len(l)):\n",
    "    if d[l[x]]>1:\n",
    "        u+=[l[x]]\n",
    "print(u)\n",
    "del u[-1]\n",
    "print(u)\n"
   ]
  },
  {
   "cell_type": "code",
   "execution_count": 2,
   "metadata": {},
   "outputs": [
    {
     "name": "stdout",
     "output_type": "stream",
     "text": [
      "2\n"
     ]
    }
   ],
   "source": [
    "# 35 WAP to count the occurrence of a specific character in a given string\n",
    "st=\"malayalam\"\n",
    "sp='m'\n",
    "c=0\n",
    "for i in st:\n",
    "    if i==sp:\n",
    "        c+=1\n",
    "print(c)"
   ]
  },
  {
   "cell_type": "code",
   "execution_count": 1,
   "metadata": {},
   "outputs": [
    {
     "name": "stdout",
     "output_type": "stream",
     "text": [
      "{'h': 2, 'e': 2, 'l': 3, 'i': 1, 'u': 5, 'm': 2, ' ': 4, 'b': 1, 'a': 3, 'o': 2, 'n': 1, 's': 2, 'k': 1, 'g': 1}\n",
      "u\n"
     ]
    }
   ],
   "source": [
    "# 36 WAP to count the max occurrence of a character in a given string.\n",
    "st=\"helium baloons make us lauuugh\"\n",
    "d={}\n",
    "for i in st:\n",
    "    if i not in d:\n",
    "        d[i]=1\n",
    "    else:\n",
    "        d[i]+=1\n",
    "print(d)\n",
    "l=list(d)\n",
    "small=0\n",
    "ch=None\n",
    "for x in range(len(l)):\n",
    "    if small<d[l[x]]:\n",
    "        small=d[l[x]]\n",
    "        ch=l[x]\n",
    "print(ch)"
   ]
  },
  {
   "cell_type": "code",
   "execution_count": 15,
   "metadata": {},
   "outputs": [
    {
     "name": "stdout",
     "output_type": "stream",
     "text": [
      "{'h': 2, 'e': 2, 'l': 3, 'i': 1, 'u': 5, 'm': 2, ' ': 3, 'b': 1, 'a': 3, 'o': 2, 'n': 1, 's': 2, 'k': 1, 'g': 1}\n",
      "5\n"
     ]
    }
   ],
   "source": [
    "# 37 WAP to count the min occurrence of a character in a given string.\n",
    "st=\"helium baloons make uslauuugh\"\n",
    "d={}\n",
    "for i in st:\n",
    "    if i not in d:\n",
    "        d[i]=1\n",
    "    else:\n",
    "        d[i]+=1\n",
    "print(d)\n",
    "l=list(d)\n",
    "min=9\n",
    "k=[]\n",
    "for x in l:\n",
    "    if d[x]<min and d[x]>1:\n",
    "        min=d[x]\n",
    "    if d[x]==min:\n",
    "        k+=x\n",
    "print(len(k))\n"
   ]
  },
  {
   "cell_type": "code",
   "execution_count": 16,
   "metadata": {},
   "outputs": [
    {
     "name": "stdout",
     "output_type": "stream",
     "text": [
      "1\n"
     ]
    }
   ],
   "source": [
    "# 38 WAP to count the repeats of a specific character in a given string.\n",
    "st=\"helium baloons make uslauuugh\"\n",
    "sp='o'\n",
    "c=0\n",
    "for i in st:\n",
    "    if i==sp:\n",
    "        c+=1\n",
    "print(c-1)\n"
   ]
  },
  {
   "cell_type": "code",
   "execution_count": 22,
   "metadata": {},
   "outputs": [
    {
     "name": "stdout",
     "output_type": "stream",
     "text": [
      "{'h': 2, 'e': 2, 'l': 3, 'i': 1, 'u': 5, 'm': 2, ' ': 3, 'b': 1, 'a': 3, 'o': 2, 'n': 1, 's': 2, 'k': 1, 'g': 1}\n",
      "1\n"
     ]
    }
   ],
   "source": [
    "# 39 WAP to count the max repeated character in a given string.\n",
    "st=\"helium baloons make uslauuugh\"\n",
    "d={}\n",
    "for x in st:\n",
    "    if x not in d:\n",
    "        d[x]=1\n",
    "    else:\n",
    "        d[x]+=1\n",
    "print(d)\n",
    "s=list(d)\n",
    "small=0\n",
    "for i in s:\n",
    "    if d[i]>small:\n",
    "        small=d[i]\n",
    "c=0\n",
    "for p in s:\n",
    "    if small==d[p]:\n",
    "        c+=1\n",
    "print(c)\n",
    "\n"
   ]
  },
  {
   "cell_type": "code",
   "execution_count": 2,
   "metadata": {},
   "outputs": [
    {
     "name": "stdout",
     "output_type": "stream",
     "text": [
      "{'h': 2, 'e': 2, 'l': 3, 'i': 1, 'u': 5, 'm': 2, ' ': 3, 'b': 1, 'a': 3, 'o': 2, 'n': 1, 's': 2, 'k': 1, 'g': 1}\n",
      "5\n"
     ]
    }
   ],
   "source": [
    "# 40 WAP to count the min repeated character in a given string.\n",
    "st=\"helium baloons make uslauuugh\"\n",
    "d={}\n",
    "for i in st:\n",
    "    if i not in d:\n",
    "        d[i]=1\n",
    "    else:\n",
    "        d[i]+=1\n",
    "print(d)\n",
    "l=list(d)\n",
    "min=9\n",
    "k=[]\n",
    "for x in l:\n",
    "    if d[x]<min and d[x]>1:\n",
    "        min=d[x]\n",
    "    if d[x]==min:\n",
    "        k+=x\n",
    "print(len(k))"
   ]
  },
  {
   "cell_type": "code",
   "execution_count": 23,
   "metadata": {},
   "outputs": [
    {
     "name": "stdout",
     "output_type": "stream",
     "text": [
      "sea-witch\n"
     ]
    }
   ],
   "source": [
    "# 41 WAP to replace a specific character into a new character.\n",
    "s=\"sea witch\"\n",
    "sp=\" \"\n",
    "for i in range(len(s)):\n",
    "    if s[i]==sp:\n",
    "        s=s[0:i]+'-'+s[i+1:]\n",
    "print(s)\n"
   ]
  },
  {
   "cell_type": "code",
   "execution_count": 24,
   "metadata": {},
   "outputs": [
    {
     "name": "stdout",
     "output_type": "stream",
     "text": [
      "sea-witch\n"
     ]
    }
   ],
   "source": [
    "# without slicing\n",
    "s=\"sea witch\"\n",
    "sp=\" \"\n",
    "res=\"\"\n",
    "for i in s:\n",
    "    if i!=sp:\n",
    "        res+=i\n",
    "    else: \n",
    "        res+='-'\n",
    "print(res)\n",
    "    \n"
   ]
  },
  {
   "cell_type": "code",
   "execution_count": 12,
   "metadata": {},
   "outputs": [
    {
     "name": "stdout",
     "output_type": "stream",
     "text": [
      "HELLOO HII5W345#$5\n"
     ]
    }
   ],
   "source": [
    "# 42 WAP to convert lowercase to uppercase in a given string.\n",
    "st=\"hellOO Hii5w345#$5\"\n",
    "res=\"\"\n",
    "for i in st:\n",
    "    if 'a'<=i<='z':\n",
    "        res+=chr(ord(i)-32)\n",
    "    else:\n",
    "        res+=i\n",
    "print(res)\n"
   ]
  },
  {
   "cell_type": "code",
   "execution_count": 26,
   "metadata": {},
   "outputs": [
    {
     "name": "stdout",
     "output_type": "stream",
     "text": [
      "helloo hii5w345#$5\n"
     ]
    }
   ],
   "source": [
    "# 43 WAP to convert uppercase to lowercase in a given string.\n",
    "st=\"hellOO Hii5w345#$5\"\n",
    "res=\"\"\n",
    "for i in st:\n",
    "    if 'A'<=i<='Z':\n",
    "        res+=chr(ord(i)+32)\n",
    "    else:\n",
    "        res+=i\n",
    "print(res)\n"
   ]
  },
  {
   "cell_type": "code",
   "execution_count": 29,
   "metadata": {},
   "outputs": [
    {
     "name": "stdout",
     "output_type": "stream",
     "text": [
      "jmndl\n"
     ]
    }
   ],
   "source": [
    "# 44 WAP to convert uppercase to lowercase in even position characters in a given string.\n",
    "s=\"34JU$%MANjeaDBfdfgjOL.\"\n",
    "res=\"\"\n",
    "for i in range(len(s)):\n",
    "    if 'A'<=s[i]<='Z' and i%2==0:\n",
    "        res+=chr(ord(s[i])+32)\n",
    "\n",
    "print(res)\n"
   ]
  },
  {
   "cell_type": "code",
   "execution_count": 30,
   "metadata": {},
   "outputs": [
    {
     "name": "stdout",
     "output_type": "stream",
     "text": [
      "uabo\n"
     ]
    }
   ],
   "source": [
    "# 45 WAP to convert uppercase to lowercase in odd position characters in a given string.\n",
    "s=\"34JU$%MANjeaDBfdfgjOL.\"\n",
    "res=\"\"\n",
    "for i in range(len(s)):\n",
    "    if 'A'<=s[i]<='Z' and i%2!=0:\n",
    "        res+=chr(ord(s[i])+32)\n",
    "\n",
    "print(res)\n"
   ]
  },
  {
   "cell_type": "code",
   "execution_count": 13,
   "metadata": {},
   "outputs": [
    {
     "name": "stdout",
     "output_type": "stream",
     "text": [
      "34ju**manJEAdbFDFGJol*\n"
     ]
    }
   ],
   "source": [
    "# 46 WAP to convert the uppercase letter to lowercase letter and lowercase letter to uppercase letter,if the character is special symbol replace with * for the given input string.\n",
    "s=\"34JU$%MANjeaDBfdfgjOL.\"\n",
    "res=\"\"\n",
    "for i in s:\n",
    "    if 'A'<=i<='Z':\n",
    "        res+=chr(ord(i)+32)\n",
    "    elif 'a'<=i<='z':\n",
    "        res+=chr(ord(i)-32)\n",
    "    elif '0'<=i<='9':\n",
    "        res+=i\n",
    "    else:\n",
    "        res+='*'\n",
    "print(res)"
   ]
  },
  {
   "cell_type": "code",
   "execution_count": 16,
   "metadata": {},
   "outputs": [
    {
     "name": "stdout",
     "output_type": "stream",
     "text": [
      "Hello Wwo233Rrld @@##  Iipl\n"
     ]
    }
   ],
   "source": [
    "# 47 WAP to convert title case in a given string.\n",
    "s=\"hello wo23rld @# ipl\"\n",
    "res=\"\"\n",
    "temp=0\n",
    "if 'a'<=s[0]<='z':\n",
    "    res+=chr(ord(s[0])-32)\n",
    "    temp=1\n",
    "elif 'A'<=s[0]<='Z':\n",
    "    res+=s[0]\n",
    "    temp=1\n",
    "for temp in range(1,len(s)):\n",
    "    if not('A'<=s[temp]<='Z' or 'a'<=s[temp]<='z'):\n",
    "        res+=s[temp]\n",
    "        if 'a'<=s[temp+1]<='z':\n",
    "            res+=chr(ord(s[temp+1])-32)\n",
    "        else:\n",
    "            res+=s[temp+1]\n",
    "    elif 'A'<=s[temp]<='Z':\n",
    "        res+=chr(ord(s[temp])+32)\n",
    "    else:\n",
    "        res+=s[temp]\n",
    "print(res)\n",
    "      \n",
    "\n"
   ]
  },
  {
   "cell_type": "code",
   "execution_count": 1,
   "metadata": {},
   "outputs": [
    {
     "name": "stdout",
     "output_type": "stream",
     "text": [
      "hello_world_123#$56\n"
     ]
    }
   ],
   "source": [
    "# 48 WAP to convert snake_case in a given string.\n",
    "s='Hello WorlD 123#$56'\n",
    "res=''\n",
    "for i in s:\n",
    "    if 'A'<=i<='Z':\n",
    "        res+=chr(ord(i)+32)\n",
    "    elif i==\" \":\n",
    "        res+=\"_\"\n",
    "    else:\n",
    "        res+=i\n",
    "print(res)"
   ]
  },
  {
   "cell_type": "code",
   "execution_count": 11,
   "metadata": {},
   "outputs": [
    {
     "name": "stdout",
     "output_type": "stream",
     "text": [
      "HELLO WORLS 1234aweds#$\n"
     ]
    }
   ],
   "source": [
    "# 49 WAP to Toggle Characters Case in a String.\n",
    "st=\"hello worls 1234AWEDS#$\"\n",
    "res=\"\"\n",
    "for i in st:\n",
    "    if 'a'<=i<='z':\n",
    "        res+=chr(ord(i)-32)\n",
    "    elif 'A'<=i<='Z':\n",
    "        res+=chr(ord(i)+32)\n",
    "    else:\n",
    "        res+=i\n",
    "print(res)"
   ]
  },
  {
   "cell_type": "code",
   "execution_count": 7,
   "metadata": {},
   "outputs": [
    {
     "name": "stdout",
     "output_type": "stream",
     "text": [
      "h101l111111\n"
     ]
    }
   ],
   "source": [
    "#50 WAP to replace vowels into ascii values in a given string.(both with temp variable)\n",
    "st=\"heloo\"\n",
    "res=\"\"\n",
    "for i in st:\n",
    "    if i in 'AEIOUaeiou':\n",
    "        res+=str(ord(i))\n",
    "    else:\n",
    "        res+=i\n",
    "print(res)"
   ]
  },
  {
   "cell_type": "code",
   "execution_count": 18,
   "metadata": {},
   "outputs": [
    {
     "ename": "TypeError",
     "evalue": "ord() expected string of length 1, but int found",
     "output_type": "error",
     "traceback": [
      "\u001b[1;31m---------------------------------------------------------------------------\u001b[0m",
      "\u001b[1;31mTypeError\u001b[0m                                 Traceback (most recent call last)",
      "\u001b[1;32mc:\\Users\\sravani\\OneDrive\\Documents\\GitHub\\SRAVANI\\for and while.ipynb Cell 52\u001b[0m line \u001b[0;36m6\n\u001b[0;32m      <a href='vscode-notebook-cell:/c%3A/Users/sravani/OneDrive/Documents/GitHub/SRAVANI/for%20and%20while.ipynb#Y102sZmlsZQ%3D%3D?line=3'>4</a>\u001b[0m \u001b[39mfor\u001b[39;00m i \u001b[39min\u001b[39;00m \u001b[39mrange\u001b[39m(\u001b[39m0\u001b[39m,\u001b[39mlen\u001b[39m(st)):\n\u001b[0;32m      <a href='vscode-notebook-cell:/c%3A/Users/sravani/OneDrive/Documents/GitHub/SRAVANI/for%20and%20while.ipynb#Y102sZmlsZQ%3D%3D?line=4'>5</a>\u001b[0m     \u001b[39mif\u001b[39;00m st[i]\u001b[39min\u001b[39;00m \u001b[39m'\u001b[39m\u001b[39mAEIOUaeiou\u001b[39m\u001b[39m'\u001b[39m:\n\u001b[1;32m----> <a href='vscode-notebook-cell:/c%3A/Users/sravani/OneDrive/Documents/GitHub/SRAVANI/for%20and%20while.ipynb#Y102sZmlsZQ%3D%3D?line=5'>6</a>\u001b[0m         st\u001b[39m=\u001b[39mst[\u001b[39m0\u001b[39m:i]\u001b[39m+\u001b[39m\u001b[39mstr\u001b[39m(\u001b[39mord\u001b[39;49m(i))\u001b[39m+\u001b[39mst[i\u001b[39m+\u001b[39m\u001b[39m1\u001b[39m:]\n\u001b[0;32m      <a href='vscode-notebook-cell:/c%3A/Users/sravani/OneDrive/Documents/GitHub/SRAVANI/for%20and%20while.ipynb#Y102sZmlsZQ%3D%3D?line=6'>7</a>\u001b[0m \u001b[39mprint\u001b[39m(st)\n",
      "\u001b[1;31mTypeError\u001b[0m: ord() expected string of length 1, but int found"
     ]
    }
   ],
   "source": [
    "#WAP to replace vowels into ascii values in a given string.(without  temp variable)\n",
    "st=\"hello guys\"\n",
    "p=[]\n",
    "for i in range(0,len(st)):\n",
    "    if st[i]in 'AEIOUaeiou':\n",
    "        st=st[0:i]+str(ord(i))+st[i+1:]\n",
    "print(st)\n",
    "\n"
   ]
  },
  {
   "cell_type": "code",
   "execution_count": 27,
   "metadata": {},
   "outputs": [
    {
     "name": "stdout",
     "output_type": "stream",
     "text": [
      "104e108$108o 119o114108100\n"
     ]
    }
   ],
   "source": [
    "# 51 WAP to replace consonants into ascii values in a given string. (with temp variable)\n",
    "st=\"hel$lo world\"\n",
    "res=\"\"\n",
    "for i in st:\n",
    "    if '0'<=i<='9'or not('A'<=i<='Z' or 'a'<=i<='z'):\n",
    "        res+=i\n",
    "    elif i in 'AEIOUaeiou':\n",
    "        res+=i\n",
    "    else:\n",
    "        res+=str(ord(i))\n",
    "print(res)"
   ]
  },
  {
   "cell_type": "code",
   "execution_count": 30,
   "metadata": {},
   "outputs": [
    {
     "name": "stdout",
     "output_type": "stream",
     "text": [
      "hel$lo 119o114l100\n"
     ]
    }
   ],
   "source": [
    "# 52 WAP to replace consonants to ascii values in odd position characters in a given string.(both with and with temp variable)\n",
    "st=\"hel$lo world\"\n",
    "res=\"\"\n",
    "for i in range(len(st)):\n",
    "    if '0'<=st[i]<='9'or not('A'<=st[i]<='Z' or 'a'<=st[i]<='z'):\n",
    "        res+=st[i]\n",
    "    elif st[i] in 'AEIOUaeiou':\n",
    "        res+=st[i]\n",
    "    else:\n",
    "        if i%2!=0:\n",
    "            res+=str(ord(st[i]))\n",
    "        else:\n",
    "            res+=st[i]\n",
    "print(res)"
   ]
  },
  {
   "cell_type": "code",
   "execution_count": 33,
   "metadata": {},
   "outputs": [
    {
     "name": "stdout",
     "output_type": "stream",
     "text": [
      "hel$lo w111rld\n"
     ]
    }
   ],
   "source": [
    "# 53 WAP to replace vowels to ascii values in even position characters in a given string.(both with and with temp variable)\n",
    "st=\"hel$lo world\"\n",
    "res=\"\"\n",
    "for i in range(len(st)):\n",
    "    if st[i] in 'AEIOUaeiou' and i%2==0:\n",
    "        res+=str(ord(st[i]))\n",
    "    else:\n",
    "        res+=st[i]\n",
    "print(res)"
   ]
  },
  {
   "cell_type": "code",
   "execution_count": 35,
   "metadata": {},
   "outputs": [
    {
     "name": "stdout",
     "output_type": "stream",
     "text": [
      "google-space-area\n"
     ]
    }
   ],
   "source": [
    "# 54 WAP to Replace white Spaces with Hyphen in a String.(both with and with temp variable)\n",
    "s=\"google space area\"\n",
    "res=\"\"\n",
    "for t in s:\n",
    "    if t==\" \":\n",
    "        res+='-'\n",
    "    else:\n",
    "        res+=t\n",
    "print(res)"
   ]
  },
  {
   "cell_type": "code",
   "execution_count": 37,
   "metadata": {},
   "outputs": [
    {
     "name": "stdout",
     "output_type": "stream",
     "text": [
      "gol\n"
     ]
    }
   ],
   "source": [
    "# 55 WAP to Remove Odd position Characters in a given String.\n",
    "s=\"google\"\n",
    "res=\"\"\n",
    "for i in range(0,len(s)):\n",
    "    if i%2==0:\n",
    "        res+=s[i]\n",
    "print(res)\n"
   ]
  },
  {
   "cell_type": "code",
   "execution_count": 38,
   "metadata": {},
   "outputs": [
    {
     "name": "stdout",
     "output_type": "stream",
     "text": [
      "ogesae\n"
     ]
    }
   ],
   "source": [
    "#56 WAP to Remove even position Characters in a given String.\n",
    "st=\"google space\"\n",
    "res=\"\"\n",
    "for i in range(len(st)):\n",
    "    if i%2!=0:\n",
    "        res+=st[i]\n",
    "print(res)"
   ]
  },
  {
   "cell_type": "code",
   "execution_count": 40,
   "metadata": {},
   "outputs": [
    {
     "name": "stdout",
     "output_type": "stream",
     "text": [
      "45#$%987\n"
     ]
    }
   ],
   "source": [
    "# 57 WAP to Remove alphabets in a given String.\n",
    "s=\"he45ll#$%jhk987owe\"\n",
    "temp=\"\"\n",
    "for i in s:\n",
    "    if not('a'<=i<='z'or 'A'<=i<='Z'):\n",
    "        temp+=i\n",
    "print(temp)"
   ]
  },
  {
   "cell_type": "code",
   "execution_count": 41,
   "metadata": {},
   "outputs": [
    {
     "name": "stdout",
     "output_type": "stream",
     "text": [
      "hell#$%jhkowe\n"
     ]
    }
   ],
   "source": [
    "# 58 WAP to Remove ascii numbers in a given String.\n",
    "s=\"he45ll#$%jhk987owe\"\n",
    "temp=\"\"\n",
    "for i in s:\n",
    "    if not('0'<=i<='9'):\n",
    "        temp+=i\n",
    "print(temp)\n"
   ]
  },
  {
   "cell_type": "code",
   "execution_count": 43,
   "metadata": {},
   "outputs": [
    {
     "name": "stdout",
     "output_type": "stream",
     "text": [
      "he45lljhk987owe\n"
     ]
    }
   ],
   "source": [
    "# 59 WAP to Remove special characters in a given String.\n",
    "s=\"he45ll#$%jhk987owe\"\n",
    "temp=\"\"\n",
    "for i in s:\n",
    "    if 'A'<=i<='Z' or 'a'<=i<='z' or '0'<=i<='9':\n",
    "        temp+=i\n",
    "print(temp)"
   ]
  },
  {
   "cell_type": "code",
   "execution_count": 45,
   "metadata": {},
   "outputs": [
    {
     "name": "stdout",
     "output_type": "stream",
     "text": [
      "palindrome\n"
     ]
    }
   ],
   "source": [
    "# 60 WAP to check if the given string is Palindrome or Not.\n",
    "st=\"dad\"\n",
    "rev=\"\"\n",
    "for i in st:\n",
    "    rev=i+rev\n",
    "if rev==st:\n",
    "    print(\"palindrome\")\n",
    "else:\n",
    "    print(\"not palindrome\")"
   ]
  },
  {
   "cell_type": "code",
   "execution_count": 46,
   "metadata": {},
   "outputs": [
    {
     "name": "stdout",
     "output_type": "stream",
     "text": [
      "palindrome\n"
     ]
    }
   ],
   "source": [
    "st=\"dad\"\n",
    "rev=\"\"\n",
    "for i in st:\n",
    "    rev+=i\n",
    "if rev[::-1]==st:\n",
    "    print(\"palindrome\")\n",
    "else:\n",
    "    print(\"not palindrome\")"
   ]
  },
  {
   "cell_type": "code",
   "execution_count": 10,
   "metadata": {},
   "outputs": [
    {
     "name": "stdout",
     "output_type": "stream",
     "text": [
      "False\n"
     ]
    }
   ],
   "source": [
    "# 61 WAP to check whether the given string is lowercase or not.\n",
    "st=\"w134567tikjmnbvcxzWDFGH@#$%^&\"\n",
    "for i in st:\n",
    "    if 'A'<=i<='Z':\n",
    "        break\n",
    "print(False)"
   ]
  },
  {
   "cell_type": "code",
   "execution_count": 8,
   "metadata": {},
   "outputs": [
    {
     "name": "stdout",
     "output_type": "stream",
     "text": [
      "True\n"
     ]
    }
   ],
   "source": [
    "# 62WAP to check whether the given number is string or not.\n",
    "s=\"23479\"\n",
    "n=\"7\"\n",
    "if type(s)==str:\n",
    "    for i in s:\n",
    "        if '0'<=i<='9' and n==i:\n",
    "            print(True)\n",
    "else:\n",
    "    print(\"not a string\")"
   ]
  },
  {
   "cell_type": "code",
   "execution_count": 1,
   "metadata": {},
   "outputs": [
    {
     "name": "stdout",
     "output_type": "stream",
     "text": [
      "eoo123aii\n"
     ]
    }
   ],
   "source": [
    "# 63 I/p: ‘hello world 123 haii’ o/p:’eoo123aii’\n",
    "st='hello world 123 haii'\n",
    "r=\"\"\n",
    "for i in st:\n",
    "    if i in 'AEIOUaeiou':\n",
    "        r+=i\n",
    "    elif '0'<=i<='9':\n",
    "        r+=i\n",
    "print(r)\n"
   ]
  },
  {
   "cell_type": "code",
   "execution_count": 5,
   "metadata": {},
   "outputs": [
    {
     "name": "stdout",
     "output_type": "stream",
     "text": [
      "eo o 123 aii\n"
     ]
    }
   ],
   "source": [
    "#64 I/p: ‘hello world 123 haii’ o/p:’eo o 123 aii’\n",
    "s='hello world 123 haii'\n",
    "r=\"\"\n",
    "for i in st:\n",
    "    if i in 'aeiouAEIOU':\n",
    "        r+=i\n",
    "    elif '0'<=i<='9' or i==\" \":\n",
    "        r+=i\n",
    "print(r)\n"
   ]
  },
  {
   "cell_type": "code",
   "execution_count": 4,
   "metadata": {},
   "outputs": [
    {
     "name": "stdout",
     "output_type": "stream",
     "text": [
      "eo o  aii\n"
     ]
    }
   ],
   "source": [
    "# 65 I/p: ‘hello world 123 haii’ o/p:’eo o aii’\n",
    "s='hello world 123 haii'\n",
    "t=\"\"\n",
    "for i in s:\n",
    "    if i in 'AEIOUaeiou':\n",
    "        t+=i\n",
    "    elif i==\" \":\n",
    "        t+=i\n",
    "print(t)\n"
   ]
  },
  {
   "cell_type": "code",
   "execution_count": 19,
   "metadata": {},
   "outputs": [
    {
     "name": "stdout",
     "output_type": "stream",
     "text": [
      "hll\n",
      "hll world haii\n"
     ]
    }
   ],
   "source": [
    "# 66 I/p: ‘hello world 123 haii’ o/p:’hll world haii’\n",
    "s='hello world 123 haii'\n",
    "res=\"\"\n",
    "for i in s:\n",
    "    if i!=\" \":\n",
    "        if  i not in 'aeiou':\n",
    "            res+=i\n",
    "    else:\n",
    "        break\n",
    "print(res)\n",
    "l=[]\n",
    "t=\"\"\n",
    "for i in s:\n",
    "    if i!=\" \":\n",
    "        t+=i\n",
    "    else:\n",
    "        if len(t)>0:\n",
    "            l+=[t]\n",
    "            t=\"\"  \n",
    "if len(t)>0:\n",
    "    l+=[t]\n",
    "res+=\" \"+l[1]+\" \"+l[-1]\n",
    "print(res)\n",
    "\n"
   ]
  },
  {
   "cell_type": "code",
   "execution_count": 9,
   "metadata": {},
   "outputs": [
    {
     "name": "stdout",
     "output_type": "stream",
     "text": [
      "hll wrld\n",
      "eoo\n"
     ]
    }
   ],
   "source": [
    "#67 i/p:’hello world’ o/p:’hll wrld’ o/p:’eoo’\n",
    "s=\"hello world\"\n",
    "v,c=\"\",\"\"\n",
    "for i in s:\n",
    "    if i in 'AEIOUaeiou':\n",
    "        v+=i\n",
    "    else:\n",
    "        c+=i\n",
    "print(c)\n",
    "print(v)\n"
   ]
  },
  {
   "cell_type": "code",
   "execution_count": 11,
   "metadata": {},
   "outputs": [
    {
     "name": "stdout",
     "output_type": "stream",
     "text": [
      "hll wrld\n",
      "eoo\n",
      "12344\n"
     ]
    }
   ],
   "source": [
    "#68 i/p:’12hello3 4world4’ o/p:’hll wrld’ o/p:’eoo’ o/p:’12344’\n",
    "s=\"12hello3 4world4\"\n",
    "v,c,n=\"\",\"\",\"\"\n",
    "for i in s:\n",
    "    if i in 'AEIOUaeiou':\n",
    "        v+=i\n",
    "    elif '0'<=i<='9':\n",
    "        n+=i\n",
    "    else:\n",
    "        c+=i\n",
    "print(c)\n",
    "print(v)\n",
    "print(n)"
   ]
  },
  {
   "cell_type": "code",
   "execution_count": 12,
   "metadata": {},
   "outputs": [
    {
     "name": "stdout",
     "output_type": "stream",
     "text": [
      "hllwrld\n",
      "eoo\n",
      "12344\n",
      "(*$ $#*)\n"
     ]
    }
   ],
   "source": [
    "# 69 i/p:’(*12hello3$ $4#world4*)’ o/p:’hllwrld’ o/p:’eoo’ o/p:’12344’  o/p:’(*$ $#*)\n",
    "st=\"(*12hello3$ $4#world4*)\"\n",
    "c,v,n,sp=\"\",\"\",\"\",\"\"\n",
    "for i in st:\n",
    "    if i in 'AEIOUaeiou':\n",
    "        v+=i\n",
    "    elif '0'<=i<='9':\n",
    "        n+=i\n",
    "    elif not('A'<=i<='Z'or 'a'<=i<='z' or '0'<=i<='9'):\n",
    "        sp+=i\n",
    "    elif i not in 'AEIOUaeiou':\n",
    "        c+=i\n",
    "print(c)\n",
    "print(v)\n",
    "print(n)\n",
    "print(sp)"
   ]
  },
  {
   "cell_type": "code",
   "execution_count": 14,
   "metadata": {},
   "outputs": [
    {
     "name": "stdout",
     "output_type": "stream",
     "text": [
      ")*#$ $*(,44321,ooe,dlrwllh\n"
     ]
    }
   ],
   "source": [
    "# 70 i/p: ’(*12hello3$ $4#world4*)’      o/p: ')*#$ $*(,44321,ooe,dlrwllh'\n",
    "st=\"(*12hello3$ $4#world4*)\"\n",
    "c,v,n,sp=\"\",\"\",\"\",\"\"\n",
    "res=\"\"\n",
    "for i in st:\n",
    "    if i in 'AEIOUaeiou':\n",
    "        v+=i\n",
    "    elif '0'<=i<='9':\n",
    "        n+=i\n",
    "    elif not('A'<=i<='Z'or 'a'<=i<='z' or '0'<=i<='9'):\n",
    "        sp+=i\n",
    "    elif i not in 'AEIOUaeiou':\n",
    "        c+=i\n",
    "res+=sp[::-1]+','+n[::-1]+\",\"+v[::-1]+\",\"+c[::-1]\n",
    "print(res)"
   ]
  },
  {
   "cell_type": "code",
   "execution_count": 15,
   "metadata": {},
   "outputs": [
    {
     "name": "stdout",
     "output_type": "stream",
     "text": [
      "hllwrld,eoo,12344,(*$ $#*)\n"
     ]
    }
   ],
   "source": [
    "# 71 i/p:’(*12hello3$ $4#world4*)’    o/p:’hllwrld,eoo,12344,(*$ $#*)’\n",
    "s=\"(*12hello3$ $4#world4*)\"\n",
    "c,v,n,sp=\"\",\"\",\"\",\"\"\n",
    "res=\"\"\n",
    "for i in s:\n",
    "    if i in 'AEIOUaeiou':\n",
    "        v+=i\n",
    "    elif '0'<=i<='9':\n",
    "        n+=i\n",
    "    elif not('A'<=i<='Z'or 'a'<=i<='z' or '0'<=i<='9'):\n",
    "        sp+=i\n",
    "    elif i not in 'AEIOUaeiou':\n",
    "        c+=i\n",
    "res+=c+','+v+','+n+','+sp\n",
    "print(res)\n",
    "\n"
   ]
  },
  {
   "cell_type": "code",
   "execution_count": 16,
   "metadata": {},
   "outputs": [
    {
     "name": "stdout",
     "output_type": "stream",
     "text": [
      ",hllwrld,)*#$ $*(,eoo,44321\n"
     ]
    }
   ],
   "source": [
    "# 72 i/p: ’(*12hello3$ $4#world4*)’          o/p:’,hllwrld,)*#$ $*(’,eoo,44321’\n",
    "s=\"(*12hello3$ $4#world4*)\"\n",
    "c,v,n,sp=\"\",\"\",\"\",\"\"\n",
    "res=\"\"\n",
    "for i in s:\n",
    "    if i in 'AEIOUaeiou':\n",
    "        v+=i\n",
    "    elif '0'<=i<='9':\n",
    "        n+=i\n",
    "    elif not('A'<=i<='Z'or 'a'<=i<='z' or '0'<=i<='9'):\n",
    "        sp+=i\n",
    "    elif i not in 'AEIOUaeiou':\n",
    "        c+=i\n",
    "res+=','+c+','+sp[::-1]+','+v+','+n[::-1]\n",
    "print(res)"
   ]
  },
  {
   "cell_type": "code",
   "execution_count": 18,
   "metadata": {},
   "outputs": [
    {
     "name": "stdout",
     "output_type": "stream",
     "text": [
      ")*#$ $*(,44321,eoo,hllwrld\n"
     ]
    }
   ],
   "source": [
    "# 73 i/p: ’(*12hello3$ $4#world4*)’      o/p: ')*#$ $*(,44321,ooe,dlrwllh'\n",
    "s=\"(*12hello3$ $4#world4*)\"\n",
    "c,v,n,sp=\"\",\"\",\"\",\"\"\n",
    "res=\"\"\n",
    "for i in s:\n",
    "    if i in 'AEIOUaeiou':\n",
    "        v+=i\n",
    "    elif '0'<=i<='9':\n",
    "        n+=i\n",
    "    elif not('A'<=i<='Z'or 'a'<=i<='z' or '0'<=i<='9'):\n",
    "        sp+=i\n",
    "    elif i not in 'AEIOUaeiou':\n",
    "        c+=i\n",
    "res+=sp[::-1]+','+n[::-1]+','+v+','+c\n",
    "print(res)"
   ]
  },
  {
   "cell_type": "code",
   "execution_count": 20,
   "metadata": {},
   "outputs": [
    {
     "name": "stdout",
     "output_type": "stream",
     "text": [
      "dlrwllh)*#$ $*(ooedlrwllh\n"
     ]
    }
   ],
   "source": [
    "# 74 i/p: ’(*12hello3$ $4#world4*)’ o/p:’dlrwllh)*#$ $*(ooe44321’\n",
    "st=\"(*12hello3$ $4#world4*)\"\n",
    "c,v,n,sp=\"\",\"\",\"\",\"\"\n",
    "res=\"\"\n",
    "for i in st:\n",
    "    if i in 'AEIOUaeiou':\n",
    "        v+=i\n",
    "    elif '0'<=i<='9':\n",
    "        n+=i\n",
    "    elif not('A'<=i<='Z'or 'a'<=i<='z' or '0'<=i<='9'):\n",
    "        sp+=i\n",
    "    elif i not in 'AEIOUaeiou':\n",
    "        c+=i\n",
    "res+=c[::-1]+sp[::-1]+v[::-1]+c[::-1]\n",
    "print(res)"
   ]
  },
  {
   "cell_type": "code",
   "execution_count": 23,
   "metadata": {},
   "outputs": [
    {
     "name": "stdout",
     "output_type": "stream",
     "text": [
      "h$ll*w*rld\n"
     ]
    }
   ],
   "source": [
    "# 75 I/p:’HELLOWORLD’   o/p:’h$ll*w*rld’\n",
    "s=\"HELLOWORLD\"\n",
    "res=\"\"\n",
    "for i in s:\n",
    "    if i in 'AEIOU':\n",
    "        if i=='E':\n",
    "            res+=\"$\"\n",
    "        elif i==\"O\":\n",
    "            res+=\"*\"\n",
    "    else: \n",
    "        res+=chr(ord(i)+32)\n",
    "print(res)"
   ]
  },
  {
   "cell_type": "code",
   "execution_count": 24,
   "metadata": {},
   "outputs": [
    {
     "name": "stdout",
     "output_type": "stream",
     "text": [
      "hllwrld21\n"
     ]
    }
   ],
   "source": [
    "# 76 #I/p:’123HELLO WORLD456’\n",
    "#o/p:’hllwrld21’\n",
    "s=\"123HELLO WORLD456\"\n",
    "c,n,v,sp=\"\",\"\",\"\",\"\"\n",
    "res=\"\"\n",
    "for i in s:\n",
    "    if '0'<=i<'9':\n",
    "        n+=i\n",
    "    elif i in 'AEIOU':\n",
    "        v+=i\n",
    "    elif not('a'<=i<='z' or 'A'<=i<='Z' or '0'<=i<='9'):\n",
    "        sp+=i\n",
    "    elif i not in 'AEIOU':\n",
    "        c+=chr(ord(i)+32)\n",
    "res+=c+n[0:2][::-1]\n",
    "print(res)\n",
    "    "
   ]
  },
  {
   "cell_type": "code",
   "execution_count": 26,
   "metadata": {},
   "outputs": [
    {
     "name": "stdout",
     "output_type": "stream",
     "text": [
      "123hEllO wOrld456\n"
     ]
    }
   ],
   "source": [
    "#77 #I/p:’123HELLO WORLD456’\n",
    "#o/p:’123hEllO wOrld456’\n",
    "s=\"123HELLO WORLD456\"\n",
    "res=\"\"\n",
    "for i in s:\n",
    "    if '0'<=i<='9'or i==\" \":\n",
    "        res+=i\n",
    "    elif i in 'AEIOU':\n",
    "        res+=i\n",
    "    elif i not in 'AEIOU':\n",
    "        res+=chr(ord(i)+32)\n",
    "print(res)"
   ]
  },
  {
   "cell_type": "code",
   "execution_count": 29,
   "metadata": {},
   "outputs": [
    {
     "name": "stdout",
     "output_type": "stream",
     "text": [
      "321hEllO wOrld456\n"
     ]
    }
   ],
   "source": [
    "#78 #I/p:’123HELLO WORLD456’\n",
    "#o/p:’321hEllO wOrld654’\n",
    "s=\"123HELLO WORLD456\"\n",
    "res,ch=\"\",\"\"\n",
    "for i in s:\n",
    "    if '0'<=i<='9'or i==\" \":\n",
    "        res+=i\n",
    "    elif i in 'AEIOU':\n",
    "        res+=i\n",
    "    elif i not in 'AEIOU':\n",
    "        res+=chr(ord(i)+32)\n",
    "ch+=res[2::-1]+res[3::]\n",
    "print(ch)"
   ]
  },
  {
   "cell_type": "code",
   "execution_count": 30,
   "metadata": {},
   "outputs": [
    {
     "name": "stdout",
     "output_type": "stream",
     "text": [
      "321*E**O *O***456\n"
     ]
    }
   ],
   "source": [
    "#79\n",
    "#I/p:’123HELLO WORLD456’\n",
    "#o/p:’321*E**O *O***654’\n",
    "s=\"123HELLO WORLD456\"\n",
    "res,ch=\"\",\"\"\n",
    "for i in s:\n",
    "    if '0'<=i<='9'or i==\" \":\n",
    "        res+=i\n",
    "    elif i in 'AEIOU':\n",
    "        res+=i\n",
    "    elif i not in 'AEIOU':\n",
    "        res+='*'\n",
    "ch+=res[2::-1]+res[3::]\n",
    "print(ch)"
   ]
  },
  {
   "cell_type": "code",
   "execution_count": 32,
   "metadata": {},
   "outputs": [
    {
     "name": "stdout",
     "output_type": "stream",
     "text": [
      "123*E**O *O***456\n"
     ]
    }
   ],
   "source": [
    "# 80 #I/p:’123HELLO WORLD456’\n",
    "#o/p:’123*E**O *O***456’\n",
    "s=\"123HELLO WORLD456\"\n",
    "res=\"\"\n",
    "for i in s:\n",
    "    if '0'<=i<='9'or not('A'<=i<='z'or 'a'<=i<='z'):\n",
    "        res+=i\n",
    "    elif i in 'AEIOU':\n",
    "        res+=i\n",
    "    elif i not in 'AEIOU':\n",
    "        res+='*'\n",
    "print(res)"
   ]
  },
  {
   "cell_type": "code",
   "execution_count": 12,
   "metadata": {},
   "outputs": [
    {
     "name": "stdout",
     "output_type": "stream",
     "text": [
      "axbycz\n"
     ]
    }
   ],
   "source": [
    "# 82 i/p: ‘abc’ i/p: ‘xyz’\n",
    "# o/p:’axbycz’\n",
    "s=\"abc\"\n",
    "p=\"xyz\"\n",
    "r=\"\"\n",
    "for i in range(0,len(s)):\n",
    "    r+=s[i]+p[i]\n",
    "print(r)\n"
   ]
  },
  {
   "cell_type": "code",
   "execution_count": 17,
   "metadata": {},
   "outputs": [
    {
     "name": "stdout",
     "output_type": "stream",
     "text": [
      "axbyczw\n"
     ]
    }
   ],
   "source": [
    "# 83 i/p: ‘abc’     i/p: ‘xyzw’                     o/p:’axbyczw’\n",
    "s='abc'\n",
    "b='xyzw'\n",
    "r=\"\"\n",
    "for i in range(0,len(s)):\n",
    "    r+=s[i]+b[i]\n",
    "r+=b[-1]\n",
    "print(r)\n"
   ]
  },
  {
   "cell_type": "code",
   "execution_count": 20,
   "metadata": {},
   "outputs": [
    {
     "name": "stdout",
     "output_type": "stream",
     "text": [
      "axbyczd\n"
     ]
    }
   ],
   "source": [
    "# 84 i/p: ‘abcd’          i/p: ‘xyz’             o/p:’axbyczd’\n",
    "s='abcd'\n",
    "r='xyz'\n",
    "t=\"\"\n",
    "for i in range(0,len(r)):\n",
    "    t+=s[i]+r[i]\n",
    "t+=s[-1]\n",
    "print(t)"
   ]
  },
  {
   "cell_type": "code",
   "execution_count": 21,
   "metadata": {},
   "outputs": [
    {
     "name": "stdout",
     "output_type": "stream",
     "text": [
      "axbyczwop\n"
     ]
    }
   ],
   "source": [
    "# 85 i/p: ‘abc’   i/p: ‘xyzwop’\n",
    "# o/p:’axbyczwop’\n",
    "n='abc'\n",
    "m='xyzwop'\n",
    "res=\"\"\n",
    "for i in range(0,len(n)):\n",
    "    res+=n[i]+m[i]\n",
    "res+=m[i+1:]\n",
    "print(res)"
   ]
  },
  {
   "cell_type": "code",
   "execution_count": 1,
   "metadata": {},
   "outputs": [
    {
     "name": "stdout",
     "output_type": "stream",
     "text": [
      "a1b2c3\n"
     ]
    }
   ],
   "source": [
    "#86 i/p:’abc123’\n",
    "#o/p:’a1b2c3’\n",
    "s=\"abc123\"\n",
    "n,alp=\"\",\"\"\n",
    "for i in s:\n",
    "    if '0'<=i<='9':\n",
    "        n+=i\n",
    "    elif 'a'<=i<='z':\n",
    "        alp+=i\n",
    "temp=\"\"\n",
    "for x in range(len(alp)):\n",
    "    temp+=alp[x]+n[x]\n",
    "print(temp)"
   ]
  },
  {
   "cell_type": "code",
   "execution_count": 4,
   "metadata": {},
   "outputs": [
    {
     "name": "stdout",
     "output_type": "stream",
     "text": [
      "a1b2c\n"
     ]
    }
   ],
   "source": [
    "# 87 i/p:’abc12’\n",
    "# o/p:’a1b2c’\n",
    "s=\"abc12\"\n",
    "n,alp=\"\",\"\"\n",
    "for i in s:\n",
    "    if '0'<=i<='9':\n",
    "        n+=i\n",
    "    elif 'a'<=i<='z':\n",
    "        alp+=i\n",
    "t=\"\"\n",
    "for x in range(len(n)):\n",
    "    t+=alp[x]+n[x]\n",
    "t+=alp[x+1:]\n",
    "print(t)"
   ]
  },
  {
   "cell_type": "code",
   "execution_count": 6,
   "metadata": {},
   "outputs": [
    {
     "name": "stdout",
     "output_type": "stream",
     "text": [
      "a1b2c34\n"
     ]
    }
   ],
   "source": [
    "# 88 i/p: ‘abc1234’                o/p: ‘a1b2c34’\n",
    "s=\"abc1234\"\n",
    "n,alp=\"\",\"\"\n",
    "for i in s:\n",
    "    if '0'<=i<='9':\n",
    "        n+=i\n",
    "    elif 'a'<=i<='z':\n",
    "        alp+=i\n",
    "t=\"\"\n",
    "for i in range(len(alp)):\n",
    "    t+=alp[i]+n[i]\n",
    "t+=n[i+1:]\n",
    "print(t)\n"
   ]
  },
  {
   "cell_type": "code",
   "execution_count": 8,
   "metadata": {},
   "outputs": [
    {
     "name": "stdout",
     "output_type": "stream",
     "text": [
      "a1b2c34\n"
     ]
    }
   ],
   "source": [
    "#89 i/p: ‘1a2bc34’             o/p:’a1b2c34’\n",
    "s=\"1a2bc34\"\n",
    "n,alp=\"\",\"\"\n",
    "for i in s:\n",
    "    if '0'<=i<='9':\n",
    "        n+=i\n",
    "    elif 'a'<=i<='z':\n",
    "        alp+=i\n",
    "t=\"\"\n",
    "for i in range(len(alp)):\n",
    "    t+=alp[i]+n[i]\n",
    "t+=n[i+1:]\n",
    "print(t)\n"
   ]
  },
  {
   "cell_type": "code",
   "execution_count": 12,
   "metadata": {},
   "outputs": [
    {
     "name": "stdout",
     "output_type": "stream",
     "text": [
      "125\n",
      "3\n"
     ]
    }
   ],
   "source": [
    "# 90 i/p:’abcdnmpoijkl12yzabcd5’            o/p:3\n",
    "s='abcdnmpoijkl12yzabcd5'\n",
    "res=\"\"\n",
    "for i in s:\n",
    "    if '0'<=i<='9':\n",
    "        res+=i\n",
    "print(res)\n",
    "prod=1\n",
    "for x in range(0,len(res)-1):\n",
    "    prod*=int(res[x])\n",
    "print(int(res[-1])-prod)"
   ]
  },
  {
   "cell_type": "code",
   "execution_count": 19,
   "metadata": {},
   "outputs": [
    {
     "name": "stdout",
     "output_type": "stream",
     "text": [
      "animals\n",
      "Owl\n"
     ]
    }
   ],
   "source": [
    "# 93 WAP to print all the string values present inside the list if the length  of the string is odd under the first character starts with a vowel.\n",
    "l=[10,'amma','hello','animals',(10,30,40),'Owl']\n",
    "for i in range(len(l)):\n",
    "    if type(l[i])==str:\n",
    "        if l[i][0] in 'AEIOUaeiou' and len(l[i])%2!=0:\n",
    "            print(l[i])"
   ]
  },
  {
   "cell_type": "code",
   "execution_count": 20,
   "metadata": {},
   "outputs": [
    {
     "name": "stdout",
     "output_type": "stream",
     "text": [
      "aaabbcccc\n"
     ]
    }
   ],
   "source": [
    "#94 Write a program for series           Input:- “a3b2c4” ,                   Output: “aaabbcccc”\n",
    "ip=\"a3b2c4\"\n",
    "n,c=\"\",\"\"\n",
    "for i in ip:\n",
    "    if '0'<=i<='9':\n",
    "        n+=i\n",
    "    elif 'a'<=i<='z' or 'A'<=i<='Z':\n",
    "        c+=i\n",
    "t=\"\"\n",
    "for x in range(len(c)):\n",
    "    t+=c[x]*int(n[x])\n",
    "print(t)\n"
   ]
  },
  {
   "cell_type": "code",
   "execution_count": 25,
   "metadata": {},
   "outputs": [
    {
     "name": "stdout",
     "output_type": "stream",
     "text": [
      "{'a': 3, 'b': 2, 'c': 4}\n",
      "a3b2c4\n"
     ]
    }
   ],
   "source": [
    "# 95 Write a program for series            Input: “aaabbcccc”                     Output:- “a3b2c4”\n",
    "ip='aaabbcccc'\n",
    "res={}\n",
    "for x in ip:\n",
    "    if x not in res:\n",
    "        res[x]=1\n",
    "    else:\n",
    "        res[x]+=1\n",
    "print(res)\n",
    "l=list(res)\n",
    "temp=\"\"\n",
    "for y in l:\n",
    "    temp+=y+str(res[y])\n",
    "print(temp)"
   ]
  },
  {
   "cell_type": "code",
   "execution_count": 12,
   "metadata": {},
   "outputs": [
    {
     "name": "stdout",
     "output_type": "stream",
     "text": [
      "{'a': 4, 'B': 3, 'c': 1, 'd': 4, 'f': 5}\n",
      "['a', 'B', 'c', 'd', 'f']\n",
      "['f5']\n"
     ]
    }
   ],
   "source": [
    "# 96Write a program frequency of each character in given string when count is a prime number\n",
    "# input:”aaaaBBBcddddfffff”\n",
    "# Output: (“B3”,”c1”,”f5”)\n",
    "st=\"aaaaBBBcddddfffff\"\n",
    "d={}\n",
    "for i in st:\n",
    "    if i not in d:\n",
    "        d[i]=1\n",
    "    else:\n",
    "        d[i]+=1\n",
    "print(d)\n",
    "l=list(d)\n",
    "print(l)\n",
    "t=[]\n",
    "count=0\n",
    "for i in range(0,len(l)):\n",
    "    for n in range(1,d[l[i]]):\n",
    "        if d[l[i]]%n==1:\n",
    "            count+=1\n",
    "        if count==2:\n",
    "            t+=[l[i]+str(d[l[i]])]\n",
    "print(t)\n",
    "\n"
   ]
  },
  {
   "cell_type": "code",
   "execution_count": null,
   "metadata": {},
   "outputs": [],
   "source": [
    "# 97 Write a program to swap neighbor char in string.\n",
    "#Input: “abcdefg”\n",
    "# Output:- “badcfeg”"
   ]
  },
  {
   "cell_type": "code",
   "execution_count": 13,
   "metadata": {},
   "outputs": [
    {
     "name": "stdout",
     "output_type": "stream",
     "text": [
      "['haii', 'how', 'are', 'you', 'venu']\n"
     ]
    }
   ],
   "source": [
    "# 98 WAP to split the sentence in a given string.\n",
    "# i/p:’haii how are you venu’\n",
    "# o/p:[‘haii’, ’how’,’are’,’you’,’venu’]\n",
    "st=\"haii how are you venu\"\n",
    "l=[]\n",
    "res=\"\"\n",
    "for i in st:\n",
    "    if i!=\" \":\n",
    "        res+=i\n",
    "    else:\n",
    "        if len(res)>0:\n",
    "            l+=[res]\n",
    "            res=\"\"\n",
    "if len(res)>0:\n",
    "    l+=[res]\n",
    "print(l)\n"
   ]
  },
  {
   "cell_type": "code",
   "execution_count": 15,
   "metadata": {},
   "outputs": [
    {
     "name": "stdout",
     "output_type": "stream",
     "text": [
      "7 welcome\n"
     ]
    }
   ],
   "source": [
    "# 99 Find out the longest word in the string below.\n",
    "# Sentence =”hello world welcome to python”\n",
    "st=\"hello world welcome to python\"\n",
    "d={}\n",
    "res=\"\"\n",
    "for i in st:\n",
    "    if i!=\" \":\n",
    "        res+=i\n",
    "    else:\n",
    "        if len(res)>0:\n",
    "            d[res]=len(res)\n",
    "            res=\"\"\n",
    "if len(res)>0:\n",
    "    d[res]=len(res)\n",
    "    res=\"\"\n",
    "l=list(d)\n",
    "max=0\n",
    "ch=None\n",
    "for x in l:\n",
    "    if max<d[x]:\n",
    "        max=d[x]\n",
    "        ch=x\n",
    "print(max,ch)\n"
   ]
  },
  {
   "cell_type": "code",
   "execution_count": 19,
   "metadata": {},
   "outputs": [
    {
     "name": "stdout",
     "output_type": "stream",
     "text": [
      "olleh dlrow emoclew ot nohtyp \n"
     ]
    }
   ],
   "source": [
    "# 100 . sentence=” hello world welcome to python”\n",
    "# Output: ’olleh dlrow emoclew ot nohtyp’\n",
    "st=\"hello world welcome to python\"\n",
    "res=\"\"\n",
    "l=\"\"\n",
    "for i in st:\n",
    "    if i!=\" \":\n",
    "        res+=i\n",
    "    else:\n",
    "        if len(res)>0:\n",
    "            l+=res[::-1]+' '\n",
    "            res=\"\"\n",
    "if len(res)>0:\n",
    "    l+=res[::-1]\n",
    "print(l)     \n",
    "\n",
    "\n"
   ]
  },
  {
   "cell_type": "code",
   "execution_count": 23,
   "metadata": {},
   "outputs": [
    {
     "name": "stdout",
     "output_type": "stream",
     "text": [
      "{'python': 1, 'is': 1, 'a': 1, 'programming': 1, 'language': 1}\n"
     ]
    }
   ],
   "source": [
    "# 101 sentence=” python is a programming language” (Using dictionary comprehension)\n",
    "# Output: {‘python’:1, is:1,’a’:1,’language’:1,’programming:1’}\n",
    "st=\"python is a programming language\"\n",
    "res=\"\"\n",
    "d={}\n",
    "for i in st:\n",
    "    if i!=' ':\n",
    "        res+=i\n",
    "    else:\n",
    "        if len(res)>0:\n",
    "            d[res]=1\n",
    "            res=\"\"\n",
    "if len(res)>0:\n",
    "    d[res]=1\n",
    "print(d)"
   ]
  },
  {
   "cell_type": "code",
   "execution_count": 25,
   "metadata": {},
   "outputs": [
    {
     "name": "stdout",
     "output_type": "stream",
     "text": [
      "['PYTHON', 'SCRIPTING', 'PROGRAMMING', 'LANGUAGE']\n"
     ]
    }
   ],
   "source": [
    "# 102 I/p:'PYTHON SCRIPTING PROGRAMMING LANGUAGE'\n",
    "# o/p:['PYTHON’,’SCRIPTING’, ‘PROGRAMMING’,’ LANGUAGE']\n",
    "st=\"PYTHON SCRIPTING PROGRAMMING LANGUAGE\"\n",
    "res=\"\"\n",
    "l=[]\n",
    "for i in st:\n",
    "    if i!=\" \":\n",
    "        res+=i\n",
    "    else:\n",
    "        if len(res)>0:\n",
    "            l+=[res]\n",
    "            res=\"\"\n",
    "if len(res)>0:\n",
    "    l+=[res]\n",
    "print(l)     \n",
    "\n"
   ]
  },
  {
   "cell_type": "code",
   "execution_count": 1,
   "metadata": {},
   "outputs": [
    {
     "name": "stdout",
     "output_type": "stream",
     "text": [
      "['nohtyp', 'gnitpircs', 'gnimmargorp', 'egaugnal']\n"
     ]
    }
   ],
   "source": [
    "# 104 I/p:'PYTHON SCRIPTING PROGRAMMING LANGUAGE'\n",
    "# o/p:['nothyp', 'scripting','gnimmargorp', 'language']\n",
    "st='PYTHON SCRIPTING PROGRAMMING LANGUAGE'\n",
    "l=[]\n",
    "res=\"\"\n",
    "for i in st:\n",
    "    if i!=' ':\n",
    "        if'A'<=i<='z':\n",
    "            res=chr(ord(i)+32)+res\n",
    "        else:\n",
    "            res=i+res\n",
    "    else:\n",
    "        if len(res)>0:\n",
    "            l+=[res]\n",
    "            res=\"\"\n",
    "if len(res)>0:\n",
    "    l+=[res]\n",
    "print(l)\n",
    "\n",
    "        \n"
   ]
  },
  {
   "cell_type": "code",
   "execution_count": 16,
   "metadata": {},
   "outputs": [
    {
     "ename": "IndexError",
     "evalue": "string index out of range",
     "output_type": "error",
     "traceback": [
      "\u001b[1;31m---------------------------------------------------------------------------\u001b[0m",
      "\u001b[1;31mIndexError\u001b[0m                                Traceback (most recent call last)",
      "\u001b[1;32mc:\\Users\\sravani\\OneDrive\\Documents\\GitHub\\SRAVANI\\for and while.ipynb Cell 104\u001b[0m line \u001b[0;36m8\n\u001b[0;32m      <a href='vscode-notebook-cell:/c%3A/Users/sravani/OneDrive/Documents/GitHub/SRAVANI/for%20and%20while.ipynb#Y205sZmlsZQ%3D%3D?line=5'>6</a>\u001b[0m \u001b[39mfor\u001b[39;00m i \u001b[39min\u001b[39;00m \u001b[39mrange\u001b[39m(\u001b[39m0\u001b[39m,\u001b[39mlen\u001b[39m(s)):\n\u001b[0;32m      <a href='vscode-notebook-cell:/c%3A/Users/sravani/OneDrive/Documents/GitHub/SRAVANI/for%20and%20while.ipynb#Y205sZmlsZQ%3D%3D?line=6'>7</a>\u001b[0m     \u001b[39mfor\u001b[39;00m x \u001b[39min\u001b[39;00m \u001b[39mrange\u001b[39m(i\u001b[39m+\u001b[39m\u001b[39m1\u001b[39m,\u001b[39mlen\u001b[39m(s)\u001b[39m+\u001b[39m\u001b[39m1\u001b[39m):\n\u001b[1;32m----> <a href='vscode-notebook-cell:/c%3A/Users/sravani/OneDrive/Documents/GitHub/SRAVANI/for%20and%20while.ipynb#Y205sZmlsZQ%3D%3D?line=7'>8</a>\u001b[0m         \u001b[39mif\u001b[39;00m s[i]\u001b[39m==\u001b[39m\u001b[39mchr\u001b[39m(\u001b[39mord\u001b[39m(s[x])\u001b[39m-\u001b[39m\u001b[39m1\u001b[39m):\n\u001b[0;32m      <a href='vscode-notebook-cell:/c%3A/Users/sravani/OneDrive/Documents/GitHub/SRAVANI/for%20and%20while.ipynb#Y205sZmlsZQ%3D%3D?line=8'>9</a>\u001b[0m             res\u001b[39m+\u001b[39m\u001b[39m=\u001b[39ms[i]\u001b[39m+\u001b[39ms[x]\n\u001b[0;32m     <a href='vscode-notebook-cell:/c%3A/Users/sravani/OneDrive/Documents/GitHub/SRAVANI/for%20and%20while.ipynb#Y205sZmlsZQ%3D%3D?line=9'>10</a>\u001b[0m         \u001b[39melse\u001b[39;00m:\n",
      "\u001b[1;31mIndexError\u001b[0m: string index out of range"
     ]
    }
   ],
   "source": [
    "# 105 I/p: ‘ABCDEFGIJKABC’\n",
    "# O/p: [‘ABCDEFG’, ‘IJK’, ‘ ABC’]\n",
    "s=\"ABCDEFGIJKABC\"\n",
    "l=[]\n",
    "res=\"\"\n",
    "for i in range(0,len(s)):\n",
    "    for x in range(i+1,len(s)):\n",
    "        if s[i]==chr(ord(s[x])-1):\n",
    "            res+=s[i]+s[x]\n",
    "        else:\n",
    "            l+=[res]\n",
    "            res=\"\"\n",
    "print(l)"
   ]
  },
  {
   "cell_type": "code",
   "execution_count": 5,
   "metadata": {},
   "outputs": [
    {
     "name": "stdout",
     "output_type": "stream",
     "text": [
      "['ABCDEFG', 'IJK', 'AB']\n"
     ]
    }
   ],
   "source": [
    "s=\"ABCDEFGIJKABC\"\n",
    "l=[]\n",
    "res=\"\"\n",
    "i=0\n",
    "while i<len(s):\n",
    "    if i!=len(s)-1 and s[i]==chr(ord(s[i+1])-1):\n",
    "        res=res+s[i]+s[i+1]\n",
    "        i+=1\n",
    "    else:\n",
    "        if i!=len(s)-1 and s[i]!=chr(ord(s[i+1])-1):\n",
    "            res+=s[i]\n",
    "        l+=[res]\n",
    "        res=\"\"\n",
    "    i+=1\n",
    "print(l)"
   ]
  },
  {
   "cell_type": "code",
   "execution_count": 11,
   "metadata": {},
   "outputs": [
    {
     "name": "stdout",
     "output_type": "stream",
     "text": [
      "True\n"
     ]
    }
   ],
   "source": [
    "# 106 WAP to check whether two given strings contain the same set of characters but in different order.For example, “POT” and “OTP” are\n",
    "#           having the same set of characters.\n",
    "m='pot'\n",
    "n='otp'\n",
    "s=\"\"\n",
    "if len(m)==len(n):\n",
    "    for i in m:\n",
    "        if i in n:\n",
    "            s+=i\n",
    "    if m==s:\n",
    "        print(True)\n",
    "else:\n",
    "    print(\"not same length char\")\n",
    "            \n"
   ]
  },
  {
   "cell_type": "code",
   "execution_count": 23,
   "metadata": {},
   "outputs": [
    {
     "name": "stdout",
     "output_type": "stream",
     "text": [
      "aavJ toncepC roF ehT yaD\n"
     ]
    }
   ],
   "source": [
    "# 107 WAPto reverse alternate words of a given string starting with the first    word and the swap first and last char of the remaining words.\n",
    "#  For example, if “Java Concept for The Day” is input string then output should be “aavJ toncepc rof eht yaD”\n",
    "st=\"Java Concept For The Day\"\n",
    "l=\"\"\n",
    "res=\"\"\n",
    "for i in range(0,len(st)):\n",
    "    if st[i]!=\" \":\n",
    "        l+=st[i]\n",
    "    else:\n",
    "        res+=l[-1]+l[1:len(l)-1]+l[0]+st[i]\n",
    "        l=\"\"\n",
    "res+=l[-1]+l[1:len(l)-1]+l[0]\n",
    "print(res)\n"
   ]
  },
  {
   "cell_type": "code",
   "execution_count": null,
   "metadata": {},
   "outputs": [],
   "source": [
    "# 108 Find the sum of all numbers present in the string and consider -12 as a  negative number in string.\n",
    "# Ex: saf67as71mha-12v1   o/p: 67 + 71 - 12 + 1 = 127\n",
    "st=\"saf67as71mha-12v1\"\n",
    "l=\"\"\n",
    "for i in st:\n",
    "    if '0'<=i<='9':\n",
    "        l+=i"
   ]
  },
  {
   "cell_type": "code",
   "execution_count": 17,
   "metadata": {},
   "outputs": [
    {
     "name": "stdout",
     "output_type": "stream",
     "text": [
      "helo wrdi\n"
     ]
    },
    {
     "ename": "IndexError",
     "evalue": "string index out of range",
     "output_type": "error",
     "traceback": [
      "\u001b[1;31m---------------------------------------------------------------------------\u001b[0m",
      "\u001b[1;31mIndexError\u001b[0m                                Traceback (most recent call last)",
      "\u001b[1;32mc:\\Users\\sravani\\OneDrive\\Documents\\GitHub\\SRAVANI\\for and while.ipynb Cell 109\u001b[0m line \u001b[0;36m1\n\u001b[0;32m     <a href='vscode-notebook-cell:/c%3A/Users/sravani/OneDrive/Documents/GitHub/SRAVANI/for%20and%20while.ipynb#Y213sZmlsZQ%3D%3D?line=12'>13</a>\u001b[0m count\u001b[39m=\u001b[39m\u001b[39m0\u001b[39m\n\u001b[0;32m     <a href='vscode-notebook-cell:/c%3A/Users/sravani/OneDrive/Documents/GitHub/SRAVANI/for%20and%20while.ipynb#Y213sZmlsZQ%3D%3D?line=13'>14</a>\u001b[0m \u001b[39mfor\u001b[39;00m s \u001b[39min\u001b[39;00m \u001b[39mrange\u001b[39m(\u001b[39m0\u001b[39m,\u001b[39mlen\u001b[39m(st)):\n\u001b[1;32m---> <a href='vscode-notebook-cell:/c%3A/Users/sravani/OneDrive/Documents/GitHub/SRAVANI/for%20and%20while.ipynb#Y213sZmlsZQ%3D%3D?line=14'>15</a>\u001b[0m     \u001b[39mif\u001b[39;00m st[s]\u001b[39m==\u001b[39mr[x]:\n\u001b[0;32m     <a href='vscode-notebook-cell:/c%3A/Users/sravani/OneDrive/Documents/GitHub/SRAVANI/for%20and%20while.ipynb#Y213sZmlsZQ%3D%3D?line=15'>16</a>\u001b[0m         count\u001b[39m+\u001b[39m\u001b[39m=\u001b[39m\u001b[39m1\u001b[39m\n\u001b[0;32m     <a href='vscode-notebook-cell:/c%3A/Users/sravani/OneDrive/Documents/GitHub/SRAVANI/for%20and%20while.ipynb#Y213sZmlsZQ%3D%3D?line=16'>17</a>\u001b[0m         \u001b[39mif\u001b[39;00m count\u001b[39m==\u001b[39mn:\n",
      "\u001b[1;31mIndexError\u001b[0m: string index out of range"
     ]
    }
   ],
   "source": [
    "# WAP You are given a string and a number n. Remove the characters\n",
    "# which repeat n times or more consecutively and print the remaining  string.\n",
    "#  Ex: n=2         Input: Shaanvi        Output: Shnvi\n",
    "st=\"hello world hii\"\n",
    "n=2\n",
    "r=\"\"\n",
    "for i in range(len(st)):\n",
    "    if st[i] not in r:\n",
    "        r+=st[i]\n",
    "print(r)\n",
    "\n",
    "for x in range(0,len(r)):\n",
    "    count=0\n",
    "    for s in range(0,len(st)):\n",
    "        if st[s]==r[x]:\n",
    "            count+=1\n",
    "            if count==n:\n",
    "                st=st[0:s]+st[s+1:]\n",
    "print(st)\n",
    "\n",
    "\n",
    "\n",
    "\n"
   ]
  },
  {
   "cell_type": "code",
   "execution_count": 31,
   "metadata": {},
   "outputs": [
    {
     "name": "stdout",
     "output_type": "stream",
     "text": [
      "helo wrdi\n",
      "helo wrldi\n"
     ]
    }
   ],
   "source": [
    "st=\"hello world hii\"\n",
    "n=2\n",
    "i=0\n",
    "r=\"\"\n",
    "while i<len(st):\n",
    "    if st[i] not in r:\n",
    "        r+=st[i]\n",
    "    i+=1\n",
    "print(r)\n",
    "x=0\n",
    "while x<len(r):\n",
    "    y=0\n",
    "    count=0\n",
    "    while y<len(st):\n",
    "        if st[y]==r[x]:\n",
    "            count+=1\n",
    "            if count==n:\n",
    "                st=st[0:y]+st[y+1:]\n",
    "        y+=1\n",
    "    x+=1\n",
    "print(st)\n"
   ]
  },
  {
   "cell_type": "code",
   "execution_count": 2,
   "metadata": {},
   "outputs": [
    {
     "name": "stdout",
     "output_type": "stream",
     "text": [
      "[5, 3, 2, 1, 6, 4]\n"
     ]
    }
   ],
   "source": [
    "# 113 Write a program to remove the duplicates in a given list.\n",
    "# For example,Sample Input: [5, 3, 5, 2, 1, 6, 6, 4]\n",
    "# Sample Output: [5, 3, 2, 1, 6, 4]\n",
    "s=[5,3,5,2,1,6,6,4]\n",
    "uni=[]\n",
    "for i in s:\n",
    "    if i not in uni:\n",
    "        uni+=[i]\n",
    "print(uni)\n"
   ]
  },
  {
   "cell_type": "code",
   "execution_count": 14,
   "metadata": {},
   "outputs": [
    {
     "name": "stdout",
     "output_type": "stream",
     "text": [
      "ppuY oediv secivres\n"
     ]
    }
   ],
   "source": [
    "# 114 WAP to reverse words in a given sentence without using any library method.\n",
    "# Sample Input: Yupp video services\n",
    "# Sample Output: ppuy oediv secivres\n",
    "s=\"Yupp video services\"\n",
    "res=\"\"\n",
    "l=[]\n",
    "for i in s:\n",
    "    if i!=\" \":\n",
    "        res=i+res\n",
    "    else:\n",
    "      l+=[res]\n",
    "      res=\"\"\n",
    "l+=[res]\n",
    "rev=\"\"\n",
    "for x in range(len(l)):\n",
    "   if x!=len(l)-1:\n",
    "    rev+=l[x]+\" \"\n",
    "   else:\n",
    "      rev+=l[x]\n",
    "\n",
    "    \n",
    "print(rev)\n",
    "\n",
    "\n"
   ]
  },
  {
   "cell_type": "code",
   "execution_count": 29,
   "metadata": {},
   "outputs": [
    {
     "name": "stdout",
     "output_type": "stream",
     "text": [
      "dello worlh\n"
     ]
    }
   ],
   "source": [
    "# 115 WAP to Form a New String where the First Character and the Last Character have been Exchanged\n",
    "st=\"hello world\"\n",
    "res=\"\"\n",
    "for i in range(0,len(st)):\n",
    "    if i!=0 and i!=len(st)-1:\n",
    "        res+=st[i]\n",
    "res=st[-1]+res+st[0]\n",
    "print(res)\n",
    "\n",
    "\n"
   ]
  },
  {
   "cell_type": "code",
   "execution_count": 1,
   "metadata": {},
   "outputs": [
    {
     "name": "stdout",
     "output_type": "stream",
     "text": [
      "10\n",
      "(4+6j)\n",
      "(100, 200)\n",
      "{'a': 10}\n",
      "-99\n"
     ]
    }
   ],
   "source": [
    "#              LIST AND TUPLE\n",
    "#117 WAP to print the data items in a given list.\n",
    "l=[10,4+6j,(100,200),{'a':10},-99]\n",
    "for i in l:\n",
    "    print(i)"
   ]
  },
  {
   "cell_type": "code",
   "execution_count": 2,
   "metadata": {},
   "outputs": [
    {
     "name": "stdout",
     "output_type": "stream",
     "text": [
      "[-99, {'a': 10}, (100, 200), (4+6j), 10]\n"
     ]
    }
   ],
   "source": [
    "# 118 WAP to reverse the data items in a given list.\n",
    "l=[10,4+6j,(100,200),{'a':10},-99]\n",
    "rev=[]\n",
    "for i in l:\n",
    "    rev=[i]+rev\n",
    "print(rev)"
   ]
  },
  {
   "cell_type": "code",
   "execution_count": 3,
   "metadata": {},
   "outputs": [
    {
     "name": "stdout",
     "output_type": "stream",
     "text": [
      "[10, (4+6j), -99, False]\n"
     ]
    }
   ],
   "source": [
    "# 119 WAP to extract and store the single value data types in a given list. (store the values in list)\n",
    "l=[10,4+6j,(100,200),{'a':10},-99,False,[2,5,6],{23,456}]\n",
    "temp=[]\n",
    "for i in l:\n",
    "    if type(i) in [int,float,complex,bytes,bool,type(None)]:\n",
    "        temp+=[i]\n",
    "print(temp)"
   ]
  },
  {
   "cell_type": "code",
   "execution_count": 4,
   "metadata": {},
   "outputs": [
    {
     "name": "stdout",
     "output_type": "stream",
     "text": [
      "[(100, 200), {'a': 10}, [2, 5, 6], {456, 23}]\n"
     ]
    }
   ],
   "source": [
    "# 120 WAP to extract and store the multi value data types in a given list. (store the values in tuple)\n",
    "l=[10,4+6j,(100,200),{'a':10},-99,False,[2,5,6],{23,456}]\n",
    "li=[]\n",
    "for  i in l:\n",
    "    if type(i) in [str,list,tuple,set,dict]:\n",
    "        li+=[i]\n",
    "print(li)"
   ]
  },
  {
   "cell_type": "code",
   "execution_count": 5,
   "metadata": {},
   "outputs": [
    {
     "name": "stdout",
     "output_type": "stream",
     "text": [
      "[{'a': 10}, [2, 5, 6], {456, 23}]\n"
     ]
    }
   ],
   "source": [
    "# 121 WAP to extract and store the mutable values data types in a given list. (store the values in set)\n",
    "l=[10,4+6j,(100,200),{'a':10},-99,False,[2,5,6],{23,456}]\n",
    "res=[]\n",
    "for i in l:\n",
    "    if type(i) in [list,set,dict]:\n",
    "        res+=[i]\n",
    "print(res)"
   ]
  },
  {
   "cell_type": "code",
   "execution_count": 6,
   "metadata": {},
   "outputs": [
    {
     "name": "stdout",
     "output_type": "stream",
     "text": [
      "[10, (4+6j), (100, 200), -99, False, 'hello']\n"
     ]
    }
   ],
   "source": [
    "# 122 WAP to extract and store the immutable value data types in a given list. (store the values in tuple)\n",
    "l=[10,4+6j,(100,200),{'a':10},-99,False,[2,5,6],{23,456},'hello']\n",
    "res=[]\n",
    "for i in l:\n",
    "    if type(i) not in [list,set,dict]:\n",
    "        res+=[i]\n",
    "print(res)"
   ]
  },
  {
   "cell_type": "code",
   "execution_count": 8,
   "metadata": {},
   "outputs": [
    {
     "name": "stdout",
     "output_type": "stream",
     "text": [
      "a\n",
      "59.9\n",
      "hello world\n"
     ]
    }
   ],
   "source": [
    "# 123 WAP to print only string items present in the list.\n",
    "r=['a',10,'59.9','hello world',100]\n",
    "for i in r:\n",
    "    if type(i)==str:\n",
    "        print(i)"
   ]
  },
  {
   "cell_type": "code",
   "execution_count": 13,
   "metadata": {},
   "outputs": [
    {
     "name": "stdout",
     "output_type": "stream",
     "text": [
      "(10.2825+2.25j)\n"
     ]
    }
   ],
   "source": [
    "# 124 WAP To Calculate the Average of Numbers in a Given List.\n",
    "l=[10,20,5.13,6+9j,'palse',(100,200)]\n",
    "count=0\n",
    "sum=0\n",
    "for i in l:\n",
    "    if type(i) in [int,float,complex]:\n",
    "        #print(i)\n",
    "        sum+=i\n",
    "        count+=1\n",
    "print(sum/count)"
   ]
  },
  {
   "cell_type": "code",
   "execution_count": 1,
   "metadata": {},
   "outputs": [
    {
     "ename": "TypeError",
     "evalue": "'int' object is not iterable",
     "output_type": "error",
     "traceback": [
      "\u001b[1;31m---------------------------------------------------------------------------\u001b[0m",
      "\u001b[1;31mTypeError\u001b[0m                                 Traceback (most recent call last)",
      "\u001b[1;32mc:\\Users\\sravani\\OneDrive\\Documents\\GitHub\\SRAVANI\\for and while.ipynb Cell 122\u001b[0m line \u001b[0;36m8\n\u001b[0;32m      <a href='vscode-notebook-cell:/c%3A/Users/sravani/OneDrive/Documents/GitHub/SRAVANI/for%20and%20while.ipynb#Y232sZmlsZQ%3D%3D?line=5'>6</a>\u001b[0m \u001b[39mif\u001b[39;00m \u001b[39mtype\u001b[39m(i)\u001b[39m==\u001b[39m\u001b[39mint\u001b[39m:\n\u001b[0;32m      <a href='vscode-notebook-cell:/c%3A/Users/sravani/OneDrive/Documents/GitHub/SRAVANI/for%20and%20while.ipynb#Y232sZmlsZQ%3D%3D?line=6'>7</a>\u001b[0m     \u001b[39mfor\u001b[39;00m x \u001b[39min\u001b[39;00m \u001b[39mrange\u001b[39m(\u001b[39m3\u001b[39m,):\n\u001b[1;32m----> <a href='vscode-notebook-cell:/c%3A/Users/sravani/OneDrive/Documents/GitHub/SRAVANI/for%20and%20while.ipynb#Y232sZmlsZQ%3D%3D?line=7'>8</a>\u001b[0m         \u001b[39mfor\u001b[39;00m y \u001b[39min\u001b[39;00m \u001b[39mlist\u001b[39m(combinations(i,x)):\n\u001b[0;32m      <a href='vscode-notebook-cell:/c%3A/Users/sravani/OneDrive/Documents/GitHub/SRAVANI/for%20and%20while.ipynb#Y232sZmlsZQ%3D%3D?line=8'>9</a>\u001b[0m             \u001b[39mprint\u001b[39m(y)\n",
      "\u001b[1;31mTypeError\u001b[0m: 'int' object is not iterable"
     ]
    }
   ],
   "source": [
    "# 125 WAP To Accept Three Digits and Print all Possible Combinations from the Digits\n",
    "l=[100,456,10]\n",
    "from itertools import combinations\n",
    "count=1\n",
    "for i in l:\n",
    "    if type(i)==int:\n",
    "        for x in range(3,):\n",
    "            for y in list(combinations(i,x)):\n",
    "                print(y)\n",
    "\n"
   ]
  },
  {
   "cell_type": "code",
   "execution_count": 17,
   "metadata": {},
   "outputs": [
    {
     "name": "stdout",
     "output_type": "stream",
     "text": [
      "59.9\n",
      "hello world\n",
      "@!23Tasdfg\n",
      "dam\n"
     ]
    }
   ],
   "source": [
    "# 126 WAP to print only string items present in the list in between the range  from m to n.\n",
    "r=['a',10,'59.9','hello world',100,'@!23Tasdfg','dam']\n",
    "for i in range(2,len(r)):\n",
    "    if type(r[i])==str:\n",
    "        print(r[i])"
   ]
  },
  {
   "cell_type": "code",
   "execution_count": 18,
   "metadata": {},
   "outputs": [
    {
     "name": "stdout",
     "output_type": "stream",
     "text": [
      "['a', '59.9', 'hello world', '@!23Tasdfg', 'dam']\n"
     ]
    }
   ],
   "source": [
    "# 127 WAP to extract and store the string value in a given list. (store the values in list)\n",
    "r=['a',10,'59.9','hello world',100,'@!23Tasdfg','dam']\n",
    "res=[]\n",
    "for i in r:\n",
    "    if type(i)==str:\n",
    "        res+=[i]\n",
    "print(res)\n"
   ]
  },
  {
   "cell_type": "code",
   "execution_count": 19,
   "metadata": {},
   "outputs": [
    {
     "name": "stdout",
     "output_type": "stream",
     "text": [
      "20\n",
      "40\n"
     ]
    }
   ],
   "source": [
    "# 128 WAP to print all the even numbers present in the odd index position inside the tuple.\n",
    "t=(10,20,15,40,22,59,456)\n",
    "for i in range(0,len(t)):\n",
    "    if type(t[i])==int and t[i]%2==0 and i%2!=0:\n",
    "        print(t[i])"
   ]
  },
  {
   "cell_type": "code",
   "execution_count": 24,
   "metadata": {},
   "outputs": [
    {
     "name": "stdout",
     "output_type": "stream",
     "text": [
      "4.6\n",
      "987\n",
      "55\n",
      "67\n"
     ]
    }
   ],
   "source": [
    "# 129 WAP to print all the odd numbers present in the even index position inside the list.\n",
    "l=[20,0.39,4.6,478,987,1001,55,23,67]\n",
    "for i in range(0,len(l)):\n",
    "    if l[i]%2!=0 and i%2==0:\n",
    "        print(l[i])\n"
   ]
  },
  {
   "cell_type": "code",
   "execution_count": 26,
   "metadata": {},
   "outputs": [
    {
     "name": "stdout",
     "output_type": "stream",
     "text": [
      "2\n"
     ]
    }
   ],
   "source": [
    "# 130 WAP to count the number of duplicate elements in a given list or tuple.\n",
    "# for list\n",
    "l=[10,30,40,10,56,46,56,23]\n",
    "res=[]\n",
    "dup=[]\n",
    "for i in l:\n",
    "    if i not in res:\n",
    "        res+=[i]\n",
    "    else:\n",
    "        dup+=[i]\n",
    "print(len(dup))\n",
    "\n",
    "\n"
   ]
  },
  {
   "cell_type": "code",
   "execution_count": 27,
   "metadata": {},
   "outputs": [
    {
     "name": "stdout",
     "output_type": "stream",
     "text": [
      "66\n"
     ]
    }
   ],
   "source": [
    "# 131 WAP Sum of duplicate elements(single value data types) in a given collection\n",
    "l=[10,30,40,10,56,46,56,23]\n",
    "res=[]\n",
    "dup=[]\n",
    "for i in l:\n",
    "    if i not in res:\n",
    "        res+=[i]\n",
    "    else:\n",
    "        dup+=[i]\n",
    "sum=0\n",
    "for x in dup:\n",
    "    if type(x) in [int,float,complex]:\n",
    "        sum+=x\n",
    "print(sum)\n",
    "\n"
   ]
  },
  {
   "cell_type": "code",
   "execution_count": 2,
   "metadata": {},
   "outputs": [
    {
     "name": "stdout",
     "output_type": "stream",
     "text": [
      "600\n"
     ]
    }
   ],
   "source": [
    "# 132 WAP to find out the first max value in a given collection.\n",
    "l=[10,30,'hello',4.56,True,(100,300),600]\n",
    "max=0\n",
    "for i in range(0,len(l)):\n",
    "    if type(l[i])==int:\n",
    "        if max<l[i]:\n",
    "            max=l[i]\n",
    "print(max)"
   ]
  },
  {
   "cell_type": "code",
   "execution_count": 7,
   "metadata": {},
   "outputs": [
    {
     "name": "stdout",
     "output_type": "stream",
     "text": [
      "600\n",
      "30\n"
     ]
    }
   ],
   "source": [
    "# 133 WAP to find out the second max value in a given collection.\n",
    "l=[10,30,'hello',4.56,True,(100,300),600]\n",
    "max=0\n",
    "for i in range(0,len(l)):\n",
    "    if type(l[i])==int:\n",
    "        if max<l[i]:\n",
    "            max=l[i]\n",
    "print(max)\n",
    "secmax=0\n",
    "for x in range(0,len(l)):\n",
    "    if type(l[x])==int and l[x]!=max:\n",
    "        if secmax<l[x]:\n",
    "            secmax=l[x]\n",
    "print(secmax)\n",
    "\n"
   ]
  },
  {
   "cell_type": "code",
   "execution_count": 14,
   "metadata": {},
   "outputs": [
    {
     "name": "stdout",
     "output_type": "stream",
     "text": [
      "10\n",
      "5\n"
     ]
    }
   ],
   "source": [
    "# 134 WAP to find out the first min value in a given collection.\n",
    "l=[10,30,'hello',4.56,5,True,(100,300),600]\n",
    "min=None\n",
    "for i in range(0,len(l)):\n",
    "    if type(l[i])==int:\n",
    "        min=l[i]\n",
    "        break\n",
    "print(min)\n",
    "for x in range(0,len(l)):\n",
    "    if type(l[x])==int:\n",
    "        if min>l[x]:\n",
    "            min=l[x]\n",
    "print(min)\n"
   ]
  },
  {
   "cell_type": "code",
   "execution_count": 17,
   "metadata": {},
   "outputs": [
    {
     "name": "stdout",
     "output_type": "stream",
     "text": [
      "10\n",
      "3\n"
     ]
    }
   ],
   "source": [
    "# 135 WAP to find out the second min value in a given collection.\n",
    "l=[10,30,'hello',4.56,5,True,3,(100,300),600,11]\n",
    "min=None\n",
    "for i in range(0,len(l)):\n",
    "    if type(l[i])==int:\n",
    "        min=l[i]\n",
    "        break\n",
    "print(min)\n",
    "for x in range(0,len(l)):\n",
    "    if type(l[x])==int:\n",
    "        if min>l[x]:\n",
    "            min=l[x]\n",
    "secmin=min\n",
    "for y in range(0,len(l)):\n",
    "    if type(l[y])==int and min!=l[y]:\n",
    "        if secmin>l[y]:\n",
    "            secmin=l[y]\n",
    "            break\n",
    "print(secmin)\n"
   ]
  },
  {
   "cell_type": "code",
   "execution_count": 14,
   "metadata": {},
   "outputs": [
    {
     "name": "stdout",
     "output_type": "stream",
     "text": [
      "600\n",
      "3\n",
      "600\n"
     ]
    }
   ],
   "source": [
    "# with min and max find secmin\n",
    "l=[10,30,'hello',4.56,5,True,3,(100,300),600,11]\n",
    "max=0\n",
    "for i in l:\n",
    "    if type(i)==int:\n",
    "        if max<i:\n",
    "            max=i\n",
    "print(max)\n",
    "n=max\n",
    "for x in l:\n",
    "    if type(x)==int:\n",
    "        if n>x:\n",
    "            n=x\n",
    "print(n)\n",
    "min=n\n",
    "for y in l:\n",
    "    if type(y)==int and y!=min:\n",
    "        if min>y :\n",
    "            min=y\n",
    "print(min)\n"
   ]
  },
  {
   "cell_type": "code",
   "execution_count": 18,
   "metadata": {},
   "outputs": [
    {
     "name": "stdout",
     "output_type": "stream",
     "text": [
      "2\n"
     ]
    }
   ],
   "source": [
    "# 136 wap count the number of sub same collections in a main collection.\n",
    "# ip= [1,2,3,[1,2],[2,5]]            op:2\n",
    "s=[1,2,3,[1,2],[2,5]]  \n",
    "count=0\n",
    "for i in s:\n",
    "    if type(i)==list:\n",
    "        count+=1\n",
    "print(count)\n"
   ]
  },
  {
   "cell_type": "code",
   "execution_count": 31,
   "metadata": {},
   "outputs": [
    {
     "name": "stdout",
     "output_type": "stream",
     "text": [
      "{'even': 5, 'odd': 6}\n"
     ]
    }
   ],
   "source": [
    "# 137 Wap to count the number of even and odd numbers is given a list.\n",
    "#  i/p:[1,8,9,7,25,26,98,75,74,36,15]                o/p:{'even':5,'odd':6}\n",
    "s=[1,8,9,7,25,26,98,75,74,36,15]\n",
    "d={'even':0,'odd':0}\n",
    "count=0\n",
    "no=0\n",
    "for i in s:\n",
    "    if i%2==0:\n",
    "        d['even']+=1\n",
    "    else:\n",
    "        d['odd']+=1\n",
    "print(d)"
   ]
  },
  {
   "cell_type": "code",
   "execution_count": 5,
   "metadata": {},
   "outputs": [
    {
     "name": "stdout",
     "output_type": "stream",
     "text": [
      "[1, 3, 2, 5, (4+10j)]\n",
      "['GOOD', 'HAVE', 'HAI', 'A', 'Hello', 'NICE', 'DAY']\n"
     ]
    }
   ],
   "source": [
    "# 138 I/P:\n",
    "#List_1 = [1, 2, 5, ”HAI, ”Hello”, 4+10j],\n",
    "#List_2= [3, ”GOOD”, “HAVE”, ”A”, ”NICE”, ”DAY”]\n",
    "#o/p:\n",
    "#List_1 = [1, 2, 5, 3, 4+10j],\n",
    "#List_2= [”HAI, ”Hello”, ”GOOD”, “HAVE”, ”A”, ”NICE”, ”DAY”]\n",
    "s=[1, 2, 5, \"HAI\", \"Hello\", 4+10j]\n",
    "t=[3, \"GOOD\", \"HAVE\", \"A\", \"NICE\", \"DAY\"]\n",
    "l1=[]\n",
    "l2=[]\n",
    "if len(s)==len(t):\n",
    "    for i in range(0,len(s)):\n",
    "        if type(s[i]) in [int,float,complex,bytes,bool,type(None)] and type(t[i]) in [int,float,complex,bytes,bool,type(None)]:\n",
    "            l1+=[s[i],t[i]]\n",
    "        elif type(s[i]) in [int,float,complex,bytes,bool,type(None)] and type(t[i]) not in [int,float,complex,bytes,bool,type(None)]:\n",
    "            l2+=[t[i]]\n",
    "            l1+=[s[i]]\n",
    "        elif type(s[i])  not in [int,float,complex,bytes,bool,type(None)] and type(t[i]) in [int,float,complex,bytes,bool,type(None)]:\n",
    "            l1+=[t[i]]\n",
    "            l2+=[s[i]]\n",
    "        else:\n",
    "            l2+=[s[i],t[i]]\n",
    "print(l1)\n",
    "print(l2)\n",
    "\n"
   ]
  },
  {
   "cell_type": "code",
   "execution_count": 28,
   "metadata": {},
   "outputs": [
    {
     "name": "stdout",
     "output_type": "stream",
     "text": [
      "[10, 20, 30, 40, 50, 60, 70]\n"
     ]
    },
    {
     "ename": "IndexError",
     "evalue": "list index out of range",
     "output_type": "error",
     "traceback": [
      "\u001b[1;31m---------------------------------------------------------------------------\u001b[0m",
      "\u001b[1;31mIndexError\u001b[0m                                Traceback (most recent call last)",
      "\u001b[1;32mc:\\Users\\sravani\\OneDrive\\Documents\\GitHub\\SRAVANI\\for and while.ipynb Cell 136\u001b[0m line \u001b[0;36m1\n\u001b[0;32m     <a href='vscode-notebook-cell:/c%3A/Users/sravani/OneDrive/Documents/GitHub/SRAVANI/for%20and%20while.ipynb#Y252sZmlsZQ%3D%3D?line=9'>10</a>\u001b[0m \u001b[39mfor\u001b[39;00m x \u001b[39min\u001b[39;00m \u001b[39mrange\u001b[39m(\u001b[39m0\u001b[39m,\u001b[39mlen\u001b[39m(uni)):\n\u001b[0;32m     <a href='vscode-notebook-cell:/c%3A/Users/sravani/OneDrive/Documents/GitHub/SRAVANI/for%20and%20while.ipynb#Y252sZmlsZQ%3D%3D?line=10'>11</a>\u001b[0m     \u001b[39mfor\u001b[39;00m y \u001b[39min\u001b[39;00m \u001b[39mrange\u001b[39m(\u001b[39m0\u001b[39m,\u001b[39mlen\u001b[39m(l)):\n\u001b[1;32m---> <a href='vscode-notebook-cell:/c%3A/Users/sravani/OneDrive/Documents/GitHub/SRAVANI/for%20and%20while.ipynb#Y252sZmlsZQ%3D%3D?line=11'>12</a>\u001b[0m         \u001b[39mif\u001b[39;00m uni[x]\u001b[39m==\u001b[39ml[y]:\n\u001b[0;32m     <a href='vscode-notebook-cell:/c%3A/Users/sravani/OneDrive/Documents/GitHub/SRAVANI/for%20and%20while.ipynb#Y252sZmlsZQ%3D%3D?line=12'>13</a>\u001b[0m             c\u001b[39m+\u001b[39m\u001b[39m=\u001b[39m\u001b[39m1\u001b[39m\n\u001b[0;32m     <a href='vscode-notebook-cell:/c%3A/Users/sravani/OneDrive/Documents/GitHub/SRAVANI/for%20and%20while.ipynb#Y252sZmlsZQ%3D%3D?line=13'>14</a>\u001b[0m             \u001b[39mif\u001b[39;00m c\u001b[39m>\u001b[39m\u001b[39m1\u001b[39m:\n",
      "\u001b[1;31mIndexError\u001b[0m: list index out of range"
     ]
    }
   ],
   "source": [
    "# 139 Input=[10,10,10,20,30,40,40,50,60,70,70,70]              o/p:[10,20,30,40,50,60,70]\n",
    "# Eliminate repeated values.Without using built in functions, set, set compershive, membership operator.\n",
    "l=[10,10,10,20,30,40,40,50,60,70,70,70]\n",
    "uni=[]\n",
    "for i in l:\n",
    "    if i not in uni:\n",
    "        uni+=[i]\n",
    "print(uni)\n",
    "c=0\n",
    "for x in range(0,len(uni)):\n",
    "    for y in range(0,len(l)):\n",
    "        if uni[x]==l[y]:\n",
    "            c+=1\n",
    "            if c>1:\n",
    "                del l[y]\n",
    "print(l)"
   ]
  },
  {
   "cell_type": "code",
   "execution_count": 3,
   "metadata": {},
   "outputs": [
    {
     "name": "stdout",
     "output_type": "stream",
     "text": [
      "[10, 20, 30, 40, 50, 60, 70]\n"
     ]
    },
    {
     "ename": "IndexError",
     "evalue": "list index out of range",
     "output_type": "error",
     "traceback": [
      "\u001b[1;31m---------------------------------------------------------------------------\u001b[0m",
      "\u001b[1;31mIndexError\u001b[0m                                Traceback (most recent call last)",
      "\u001b[1;32mc:\\Users\\sravani\\OneDrive\\Documents\\GitHub\\SRAVANI\\for and while.ipynb Cell 137\u001b[0m line \u001b[0;36m1\n\u001b[0;32m     <a href='vscode-notebook-cell:/c%3A/Users/sravani/OneDrive/Documents/GitHub/SRAVANI/for%20and%20while.ipynb#Y253sZmlsZQ%3D%3D?line=12'>13</a>\u001b[0m count\u001b[39m=\u001b[39m\u001b[39m0\u001b[39m\n\u001b[0;32m     <a href='vscode-notebook-cell:/c%3A/Users/sravani/OneDrive/Documents/GitHub/SRAVANI/for%20and%20while.ipynb#Y253sZmlsZQ%3D%3D?line=13'>14</a>\u001b[0m \u001b[39mwhile\u001b[39;00m y\u001b[39m<\u001b[39m\u001b[39mlen\u001b[39m(c):\n\u001b[1;32m---> <a href='vscode-notebook-cell:/c%3A/Users/sravani/OneDrive/Documents/GitHub/SRAVANI/for%20and%20while.ipynb#Y253sZmlsZQ%3D%3D?line=14'>15</a>\u001b[0m     \u001b[39mif\u001b[39;00m uni[x]\u001b[39m==\u001b[39mc[y]:\n\u001b[0;32m     <a href='vscode-notebook-cell:/c%3A/Users/sravani/OneDrive/Documents/GitHub/SRAVANI/for%20and%20while.ipynb#Y253sZmlsZQ%3D%3D?line=15'>16</a>\u001b[0m         count\u001b[39m+\u001b[39m\u001b[39m=\u001b[39m\u001b[39m1\u001b[39m\n\u001b[0;32m     <a href='vscode-notebook-cell:/c%3A/Users/sravani/OneDrive/Documents/GitHub/SRAVANI/for%20and%20while.ipynb#Y253sZmlsZQ%3D%3D?line=16'>17</a>\u001b[0m         \u001b[39mif\u001b[39;00m count\u001b[39m>\u001b[39m\u001b[39m1\u001b[39m:\n",
      "\u001b[1;31mIndexError\u001b[0m: list index out of range"
     ]
    }
   ],
   "source": [
    "l=[10,10,10,20,30,40,40,50,60,70,70,70]\n",
    "uni=[]\n",
    "c=l.copy()\n",
    "i=0\n",
    "while i<len(l):\n",
    "    if l[i] not in uni:\n",
    "        uni+=[l[i]]\n",
    "    i+=1\n",
    "print(uni)\n",
    "x=0\n",
    "while x<len(uni):\n",
    "    y=0\n",
    "    count=0\n",
    "    while y<len(c):\n",
    "        if uni[x]==c[y]:\n",
    "            count+=1\n",
    "            if count>1:\n",
    "                del l[y]\n",
    "            y+=1\n",
    "        x+=1\n",
    "print(l)"
   ]
  },
  {
   "cell_type": "code",
   "execution_count": 9,
   "metadata": {},
   "outputs": [
    {
     "name": "stdout",
     "output_type": "stream",
     "text": [
      "{2, 3, 6, 8, 10, 60}\n"
     ]
    }
   ],
   "source": [
    "# 140 You are given an array of n numbers and values of l and m. Print the\n",
    "#positive elements of the array which are either divisible by l or by m\n",
    "# but not by both. Consider the number if divisible by both and the sum of digits is 6.\n",
    "# Ex: arr = {2,3,5,6,8,12,10,60,66} l = 2, m = 3   O/P: {2,3,6,8,10,60}\n",
    "arr = {2,3,5,6,8,12,10,60,66}\n",
    "s=list(arr)\n",
    "l = 2\n",
    "m = 3\n",
    "i=0\n",
    "d=[]\n",
    "while i<len(s):\n",
    "    if s[i]%l==0 and s[i]%m==0:\n",
    "        n=s[i]\n",
    "        sum=0\n",
    "        x=0\n",
    "        while n:\n",
    "            ld=n%10\n",
    "            sum+=ld\n",
    "            n=n//10\n",
    "        if sum==6:\n",
    "            d+=[s[i]]\n",
    "    elif s[i]%l==0:\n",
    "        d+=[s[i]]\n",
    "    elif s[i]%m==0:\n",
    "        d+=[s[i]]\n",
    "    i+=1\n",
    "s=set(d)\n",
    "print(s)\n"
   ]
  },
  {
   "cell_type": "code",
   "execution_count": 11,
   "metadata": {},
   "outputs": [
    {
     "name": "stdout",
     "output_type": "stream",
     "text": [
      "9\n",
      "8\n"
     ]
    }
   ],
   "source": [
    "# 141 Write a program to find out the 2nd largest number in an array.\n",
    "# For example: [1,2,3,4,5,6,7,8,9,0].\n",
    "l=[1,2,3,4,5,6,7,8,9,0]\n",
    "min=0\n",
    "for i in l:\n",
    "    if type(i)==int:\n",
    "        if min<i:\n",
    "            min=i\n",
    "print(min)\n",
    "secmax=0\n",
    "for s in l:\n",
    "    if type(s)==int and s!=min:\n",
    "        if secmax<s:\n",
    "            secmax=s\n",
    "print(secmax)\n",
    "\n"
   ]
  },
  {
   "cell_type": "code",
   "execution_count": 1,
   "metadata": {},
   "outputs": [
    {
     "name": "stdout",
     "output_type": "stream",
     "text": [
      "[32, 21, 8, 9, 10]\n"
     ]
    }
   ],
   "source": [
    "# 142 WAP to find a continuous subarray of the given array whose sum is equal   to a given number.\n",
    "#For example, If {52, 10, 32, 9, 21, 8} is the given array and 51 is the given\n",
    "#number then you have to find a continuous subarray in this array such that its elements add up to 51. In this case, {10, 32, 9} is such a sub array\n",
    "#hose elements add up to 51.\n",
    "s={52, 10, 32, 9, 21, 8}\n",
    "l=list(s)\n",
    "d=[]\n",
    "n=51\n",
    "i=0\n",
    "sum=0\n",
    "while i<len(l):\n",
    "    if l[i]<n:\n",
    "        sum+=l[i]\n",
    "        d+=[l[i]]\n",
    "        if sum==n:\n",
    "            break\n",
    "    i+=1\n",
    "print(d)\n"
   ]
  },
  {
   "cell_type": "code",
   "execution_count": 16,
   "metadata": {},
   "outputs": [
    {
     "name": "stdout",
     "output_type": "stream",
     "text": [
      "[-9, -5, 0, 1, 4]\n"
     ]
    }
   ],
   "source": [
    "# 143 WAP Arrange the elements of the number array such that all negative  numbers are at the left. Print one possible solution.\n",
    "# Ex: {-5, 4, -9, 1, 0}\n",
    "# Op: {-5, -9, 4, 1, 0}                {-5, -9, 1, 4, 0}\n",
    "s={-5, 4, -9, 1, 0}\n",
    "l=list(s)\n",
    "d=[]\n",
    "p=[]\n",
    "for i in l:\n",
    "    if i<0:\n",
    "        d+=[i]\n",
    "    else:\n",
    "        p+=[i]\n",
    "d+=p\n",
    "print(d)"
   ]
  },
  {
   "cell_type": "code",
   "execution_count": 21,
   "metadata": {},
   "outputs": [
    {
     "name": "stdout",
     "output_type": "stream",
     "text": [
      "['facebook.in', 'youtube.com', 'python.edu', 'google.com']\n",
      "['facebook', 'youtube', 'python', 'google']\n",
      "{8: ['facebook'], 7: ['youtube'], 6: ['python', 'google']}\n"
     ]
    }
   ],
   "source": [
    "##                           COMBINE\n",
    "# 144 4.wap         li={'google.com','facebook.in','python.edu','youtube.com'}\n",
    "# op:{'6':['google','python'],'7':['youtube'],'8':['facebook']}\n",
    "li={'google.com','facebook.in','python.edu','youtube.com'}\n",
    "l=list(li)\n",
    "print(l)\n",
    "d=[]\n",
    "x=0\n",
    "while x<len(l):\n",
    "    n=l[x]\n",
    "    m=0\n",
    "    while m<len(n):\n",
    "        if n[m]=='.':\n",
    "            d+=[n[0:m]]\n",
    "        m+=1\n",
    "    x+=1\n",
    "print(d)\n",
    "tem={}\n",
    "a=0\n",
    "while a<len(d):\n",
    "    if len(d[a]) not in tem:\n",
    "        tem[len(d[a])]=[d[a]]\n",
    "    else:\n",
    "        tem[len(d[a])]+=[d[a]]\n",
    "    a+=1\n",
    "print(tem)"
   ]
  },
  {
   "cell_type": "code",
   "execution_count": 29,
   "metadata": {},
   "outputs": [
    {
     "name": "stdout",
     "output_type": "stream",
     "text": [
      "['in', 'com', 'edu', 'com']\n",
      "[('in', 1), ('com', 2), ('edu', 1)]\n"
     ]
    }
   ],
   "source": [
    "# 145 wap           li={'google.com','facebook.in','python.edu','youtube.com'}\n",
    "#op=[['com',2],['in',1],['edu',1]]\n",
    "li={'google.com','facebook.in','python.edu','youtube.com'}\n",
    "l=list(li)\n",
    "i=0\n",
    "d=[]\n",
    "while i<len(l):\n",
    "    n=l[i]\n",
    "    x=0\n",
    "    while x<len(n):\n",
    "        if n[x]=='.':\n",
    "            d+=[n[x+1:]]\n",
    "        x+=1\n",
    "    i+=1\n",
    "print(d)\n",
    "f={}\n",
    "c=0\n",
    "while c<len(d):\n",
    "    if d[c] not in f:\n",
    "        f[d[c]]=1\n",
    "    else:\n",
    "        f[d[c]]+=1\n",
    "    c+=1\n",
    "coll=list(f.items())\n",
    "print(coll)\n",
    "\n"
   ]
  },
  {
   "cell_type": "code",
   "execution_count": null,
   "metadata": {},
   "outputs": [],
   "source": [
    "# 146 wap               st='welcome to pyspiders all the best your career '\n",
    "# op=('reerac','ruoy','tseb','eth','lla','sredipsys','ot','emoclew')\n",
    "st=st='welcome to pyspiders all the best your career '"
   ]
  },
  {
   "cell_type": "code",
   "execution_count": 3,
   "metadata": {},
   "outputs": [
    {
     "name": "stdout",
     "output_type": "stream",
     "text": [
      "[1, 2, 35, 5, 6]\n",
      "[1, 2, 35, 5, 6, {5, 6}]\n"
     ]
    }
   ],
   "source": [
    "s=[1,2,35]\n",
    "d={5,6}\n",
    "s.extend(d)\n",
    "print(s)\n",
    "\n",
    "\n",
    "s.append(d)\n",
    "print(s)"
   ]
  }
 ],
 "metadata": {
  "kernelspec": {
   "display_name": "Python 3",
   "language": "python",
   "name": "python3"
  },
  "language_info": {
   "codemirror_mode": {
    "name": "ipython",
    "version": 3
   },
   "file_extension": ".py",
   "mimetype": "text/x-python",
   "name": "python",
   "nbconvert_exporter": "python",
   "pygments_lexer": "ipython3",
   "version": "3.11.4"
  },
  "orig_nbformat": 4
 },
 "nbformat": 4,
 "nbformat_minor": 2
}
