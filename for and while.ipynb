{
 "cells": [
  {
   "cell_type": "code",
   "execution_count": 24,
   "metadata": {},
   "outputs": [
    {
     "name": "stdout",
     "output_type": "stream",
     "text": [
      "a\n",
      "S\n",
      "D\n",
      "E\n",
      "R\n",
      "2\n",
      "3\n"
     ]
    }
   ],
   "source": [
    "# 1 wap to print all the items present in the string between the range from m to n\n",
    "st='sraSDER2345&*()'\n",
    "for i in range(2,9):\n",
    "    print(st[i])"
   ]
  },
  {
   "cell_type": "code",
   "execution_count": 2,
   "metadata": {},
   "outputs": [
    {
     "name": "stdout",
     "output_type": "stream",
     "text": [
      "P\n",
      "Y\n",
      "T\n",
      "C\n",
      "O\n"
     ]
    }
   ],
   "source": [
    "# 2 wap to print the uppercase cht in given string\n",
    "st=\"PYTon is my COurs245\"\n",
    "for i in st:\n",
    "    if 'A'<=i<='Z':\n",
    "        print(i)"
   ]
  },
  {
   "cell_type": "code",
   "execution_count": 3,
   "metadata": {},
   "outputs": [
    {
     "name": "stdout",
     "output_type": "stream",
     "text": [
      "o\n",
      "n\n",
      "i\n",
      "s\n",
      "m\n",
      "y\n",
      "u\n",
      "r\n",
      "s\n"
     ]
    }
   ],
   "source": [
    "# 3 wap to print the lowercase cht in given string\n",
    "st=\"PYTon is my COurs245\"\n",
    "for i in st:\n",
    "    if 'a'<=i<='z':\n",
    "        print(i)\n"
   ]
  },
  {
   "cell_type": "code",
   "execution_count": 4,
   "metadata": {},
   "outputs": [
    {
     "name": "stdout",
     "output_type": "stream",
     "text": [
      "2\n",
      "4\n",
      "5\n"
     ]
    }
   ],
   "source": [
    "# 4 wap to print the ascii number char in given string\n",
    "st=\"PYTon is my COurs245\"\n",
    "for i in st:\n",
    "    if '0'<=i<='9':\n",
    "        print(i)"
   ]
  },
  {
   "cell_type": "code",
   "execution_count": 9,
   "metadata": {},
   "outputs": [
    {
     "name": "stdout",
     "output_type": "stream",
     "text": [
      "#\n",
      "&\n",
      "*\n",
      "!\n"
     ]
    }
   ],
   "source": [
    "# 5 wap to print the special char in given string\n",
    "st=\"pyth#&o*!nFD356\"\n",
    "for i in st:\n",
    "    if not('A'<=i<='z' or 'a'<=i<='z' or '0'<=i<='9'):\n",
    "        print(i)"
   ]
  },
  {
   "cell_type": "code",
   "execution_count": 10,
   "metadata": {},
   "outputs": [
    {
     "name": "stdout",
     "output_type": "stream",
     "text": [
      "O\n",
      "e\n",
      "e\n",
      "i\n",
      "o\n"
     ]
    }
   ],
   "source": [
    "# 6 wap to print the vowels in given string\n",
    "st=\"XCOleection\"\n",
    "for i in st:\n",
    "    if i in 'AEIOUaeiou':\n",
    "        print(i)"
   ]
  },
  {
   "cell_type": "code",
   "execution_count": 12,
   "metadata": {},
   "outputs": [
    {
     "name": "stdout",
     "output_type": "stream",
     "text": [
      "X\n",
      "C\n",
      "l\n",
      "c\n",
      "t\n",
      "n\n",
      "p\n",
      "y\n",
      "t\n",
      "h\n",
      "n\n"
     ]
    }
   ],
   "source": [
    "# 7 wap to print the consonants in given string\n",
    "st=\"XCOleectionpython\"\n",
    "for i in st:\n",
    "    if i not in 'AEIOUaeiou':\n",
    "        print(i)"
   ]
  },
  {
   "cell_type": "code",
   "execution_count": 15,
   "metadata": {},
   "outputs": [
    {
     "name": "stdout",
     "output_type": "stream",
     "text": [
      "eibrab olleh\n"
     ]
    }
   ],
   "source": [
    "# 8 wap to print the reverse of the char in a given string without slicing\n",
    "st=\"hello barbie\"\n",
    "rev=\"\"\n",
    "for i in st:\n",
    "    rev=i+rev\n",
    "print(rev)\n"
   ]
  },
  {
   "cell_type": "code",
   "execution_count": 16,
   "metadata": {},
   "outputs": [
    {
     "name": "stdout",
     "output_type": "stream",
     "text": [
      "h\n",
      "l\n",
      "o\n",
      "b\n",
      "r\n",
      "i\n"
     ]
    }
   ],
   "source": [
    "# 9 WAP to print even position values characters in a given string.\n",
    "st=\"hello barbie\"\n",
    "for i in range(0,len(st)):\n",
    "    if i%2==0:\n",
    "        print(st[i])"
   ]
  },
  {
   "cell_type": "code",
   "execution_count": 17,
   "metadata": {},
   "outputs": [
    {
     "name": "stdout",
     "output_type": "stream",
     "text": [
      "e\n",
      "l\n",
      " \n",
      "a\n",
      "b\n",
      "e\n"
     ]
    }
   ],
   "source": [
    "# 10 WAP to print odd position values characters in a given string.\n",
    "st=\"hello barbie\"\n",
    "for i in range(0,len(st)):\n",
    "    if i%2!=0:\n",
    "        print(st[i])"
   ]
  },
  {
   "cell_type": "code",
   "execution_count": 4,
   "metadata": {},
   "outputs": [
    {
     "name": "stdout",
     "output_type": "stream",
     "text": [
      "6\n"
     ]
    }
   ],
   "source": [
    "# 11 WAP to count the total Number of characters in a given string.(withlength function)\n",
    "st=\"jailer\"\n",
    "\n",
    "\n",
    "print(len(st))"
   ]
  },
  {
   "cell_type": "code",
   "execution_count": 20,
   "metadata": {},
   "outputs": [
    {
     "name": "stdout",
     "output_type": "stream",
     "text": [
      "25\n"
     ]
    }
   ],
   "source": [
    "# 12 WAP to count the total Number of characters in a given string.(without length function)\n",
    "st=\"mr polisheety miss shetty\"\n",
    "count=0\n",
    "for i in st:\n",
    "    count+=1\n",
    "print(count)"
   ]
  },
  {
   "cell_type": "code",
   "execution_count": 22,
   "metadata": {},
   "outputs": [
    {
     "name": "stdout",
     "output_type": "stream",
     "text": [
      "22\n"
     ]
    }
   ],
   "source": [
    "# 13 WAP to count alphabets in a given string.\n",
    "st=\"mr polisheety miss shetty\"\n",
    "count=0\n",
    "for i in st:\n",
    "    if 'A'<=i<='z' or 'a'<=i<='z':\n",
    "        count+=1\n",
    "print(count)"
   ]
  },
  {
   "cell_type": "code",
   "execution_count": 25,
   "metadata": {},
   "outputs": [
    {
     "name": "stdout",
     "output_type": "stream",
     "text": [
      "3\n"
     ]
    }
   ],
   "source": [
    "# 14 WAP to count Number of uppercase in a given string.\n",
    "st=\"hEllo baRbiE\"\n",
    "count=0\n",
    "for i in st:\n",
    "    if 'A'<=i<='Z':\n",
    "        count+=1\n",
    "print(count)"
   ]
  },
  {
   "cell_type": "code",
   "execution_count": 26,
   "metadata": {},
   "outputs": [
    {
     "name": "stdout",
     "output_type": "stream",
     "text": [
      "8\n"
     ]
    }
   ],
   "source": [
    "# 15 WAP to count lowercase in a given string.\n",
    "st=\"hEllo baRbiE\"\n",
    "count=0\n",
    "for i in st:\n",
    "    if 'a'<=i<='z':\n",
    "        count+=1\n",
    "print(count)"
   ]
  },
  {
   "cell_type": "code",
   "execution_count": 27,
   "metadata": {},
   "outputs": [
    {
     "name": "stdout",
     "output_type": "stream",
     "text": [
      "4\n"
     ]
    }
   ],
   "source": [
    "# 16 WAP to count Number of special symbols in a given string.\n",
    "st=\"pyth#&o*!nFD356\"\n",
    "count=0\n",
    "for i in st:\n",
    "    if not('A'<=i<'Z' or 'a'<=i<='z' or '0'<=i<='9'):\n",
    "        count+=1\n",
    "print(count)"
   ]
  },
  {
   "cell_type": "code",
   "execution_count": 37,
   "metadata": {},
   "outputs": [
    {
     "name": "stdout",
     "output_type": "stream",
     "text": [
      "4 10\n"
     ]
    }
   ],
   "source": [
    "# 17 WAP to count uppercase and lowercase in a given string.\n",
    "s=\"SRavaNI235#$%678pkjbvfb\"\n",
    "upcount=0\n",
    "lowcount=0\n",
    "for i in s:\n",
    "    if 'A'<=i<='Z':\n",
    "        upcount+=1\n",
    "    elif 'a'<=i<='z':\n",
    "        lowcount+=1\n",
    "print(upcount,lowcount)"
   ]
  },
  {
   "cell_type": "code",
   "execution_count": 30,
   "metadata": {},
   "outputs": [
    {
     "name": "stdout",
     "output_type": "stream",
     "text": [
      "6\n"
     ]
    }
   ],
   "source": [
    "# 18 WAP to count Number of ascii numbers in a given string.\n",
    "s='SRavaNI235#$%678pkjbvfb'\n",
    "count=0\n",
    "for i in s:\n",
    "    if '0'<i<='9':\n",
    "        count+=1\n",
    "print(count)"
   ]
  },
  {
   "cell_type": "code",
   "execution_count": 39,
   "metadata": {},
   "outputs": [
    {
     "name": "stdout",
     "output_type": "stream",
     "text": [
      "['disney', 'world'] 2\n"
     ]
    }
   ],
   "source": [
    "# 19 WAP to Count Total Number of Words in a String.\n",
    "st=' disney world'\n",
    "s=\"\"\n",
    "l=[]\n",
    "for i in st:\n",
    "    if i!=\" \":\n",
    "        s+=i\n",
    "    else:\n",
    "        if len(s)>0:\n",
    "            l+=[s]\n",
    "            s=\"\"\n",
    "if len(s)>0:\n",
    "    l+=[s]\n",
    "    s=\"\"\n",
    "print(l,len(l))\n"
   ]
  },
  {
   "cell_type": "code",
   "execution_count": 33,
   "metadata": {},
   "outputs": [
    {
     "name": "stdout",
     "output_type": "stream",
     "text": [
      "3\n"
     ]
    }
   ],
   "source": [
    "# 20 WAP to Count Total Number of spaces in a String.\n",
    "st=' disney world '\n",
    "count=0\n",
    "for i in st:\n",
    "    if i==\" \":\n",
    "        count+=1\n",
    "print(count)"
   ]
  },
  {
   "cell_type": "code",
   "execution_count": 34,
   "metadata": {},
   "outputs": [
    {
     "name": "stdout",
     "output_type": "stream",
     "text": [
      "3\n"
     ]
    }
   ],
   "source": [
    "# 21 WAP to Count Vowels in a String.\n",
    "st=\"mommdasd3boss\"\n",
    "c=0\n",
    "for i in st:\n",
    "    if i in'AEIOUaeiou':\n",
    "        c+=1\n",
    "print(c)"
   ]
  },
  {
   "cell_type": "code",
   "execution_count": 35,
   "metadata": {},
   "outputs": [
    {
     "name": "stdout",
     "output_type": "stream",
     "text": [
      "10\n"
     ]
    }
   ],
   "source": [
    "# 22 WAP to Count consonants in a String.\n",
    "st=\"mommdasd3boss\"\n",
    "c=0\n",
    "for i in st:\n",
    "    if i not in'AEIOUaeiou':\n",
    "        c+=1\n",
    "print(c)"
   ]
  },
  {
   "cell_type": "code",
   "execution_count": 36,
   "metadata": {},
   "outputs": [
    {
     "name": "stdout",
     "output_type": "stream",
     "text": [
      "3\n",
      "10\n"
     ]
    }
   ],
   "source": [
    "# 23 WAP to Count Vowels and Consonants in a String.\n",
    "st=\"mommdasd3boss\"\n",
    "v=0\n",
    "c=0\n",
    "for i in st:\n",
    "    if i in 'aeiouAEIOU':\n",
    "        v+=1\n",
    "    elif i not in 'AEIOUaeiou':\n",
    "        c+=1\n",
    "print(v)\n",
    "print(c)"
   ]
  },
  {
   "cell_type": "code",
   "execution_count": 46,
   "metadata": {},
   "outputs": [
    {
     "name": "stdout",
     "output_type": "stream",
     "text": [
      "2\n"
     ]
    }
   ],
   "source": [
    "#24 WAP to count Number of new lines in a given string\n",
    "n=\"qwety\\nwqeasdf\\nwsgdfhv\\nwefg\"\n",
    "c=0\n",
    "sp='\\n'\n",
    "for i in n:\n",
    "    if i==sp:\n",
    "        c+=1\n",
    "print(c-1)                                       # new lines means except fist line"
   ]
  },
  {
   "cell_type": "code",
   "execution_count": 47,
   "metadata": {},
   "outputs": [
    {
     "name": "stdout",
     "output_type": "stream",
     "text": [
      "3\n"
     ]
    }
   ],
   "source": [
    "# 25 WAP to count Number of lines in a given string.\n",
    "n=\"qwety\\nwqeasdf\\nwsgdfhv\\nwefg\"\n",
    "c=0\n",
    "for i in n:\n",
    "    if i=='\\n':\n",
    "        c+=1\n",
    "print(c)                                       "
   ]
  },
  {
   "cell_type": "code",
   "execution_count": 1,
   "metadata": {},
   "outputs": [
    {
     "name": "stdout",
     "output_type": "stream",
     "text": [
      "14\n",
      "6\n",
      "3\n"
     ]
    }
   ],
   "source": [
    "# 26 WAP to count no of alphabets, numbers, and special characters in a given string.\n",
    "s=\"SRavaNI235#$%678pkjbvfb\"\n",
    "alp,num,spe=0,0,0\n",
    "for i in s:\n",
    "    if 'A'<=i<='Z'or 'a'<=i<='z':\n",
    "        alp+=1\n",
    "    elif '0'<=i<='9':\n",
    "        num+=1\n",
    "    else:\n",
    "        spe+=1\n",
    "print(alp)\n",
    "print(num)\n",
    "print(spe)"
   ]
  },
  {
   "cell_type": "code",
   "execution_count": 5,
   "metadata": {},
   "outputs": [
    {
     "name": "stdout",
     "output_type": "stream",
     "text": [
      "3\n"
     ]
    }
   ],
   "source": [
    "# 27 WAP to Count Total no of words in a first line of the Doc String.\n",
    "n=\"\"\" qwety python ganesh\n",
    "anakawqeasdf \n",
    "wqerwsgd\n",
    "fhvwefg\"\"\"\n",
    "res=\"\"\n",
    "for i in range(0,len(n)):\n",
    "    if n[i]=='\\n':\n",
    "        res+=n[0:i]\n",
    "        break\n",
    "st=\"\"\n",
    "l=[]\n",
    "for x in res:\n",
    "    if x!=\" \":\n",
    "        st+=x\n",
    "    else:\n",
    "        if len(st)>0:\n",
    "            l+=[st]\n",
    "            st=\"\"\n",
    "if len(st)>0:\n",
    "    l+=[st]\n",
    "print(len(l))\n",
    "            \n",
    "\n",
    "\n"
   ]
  },
  {
   "cell_type": "code",
   "execution_count": 6,
   "metadata": {},
   "outputs": [
    {
     "name": "stdout",
     "output_type": "stream",
     "text": [
      "16\n"
     ]
    }
   ],
   "source": [
    "# 28 WAP to sum of digits in a given string\n",
    "st=\"sravani 29 12 2000 dob\"\n",
    "sum=0\n",
    "for x in st:\n",
    "    if '0'<=x<='9':\n",
    "        sum+=int(x)\n",
    "print(sum)"
   ]
  },
  {
   "cell_type": "code",
   "execution_count": 8,
   "metadata": {},
   "outputs": [
    {
     "name": "stdout",
     "output_type": "stream",
     "text": [
      "{'p': 1, 'r': 2, 'o': 1, 'g': 5, 'a': 3, 'm': 2, 'i': 1, 'n': 2, ' ': 1, 'l': 1, 'u': 1, 'e': 1}\n",
      "r\n"
     ]
    }
   ],
   "source": [
    "# 29 WAP to Print First Occurrence of a Character in a String.\n",
    "s=\"programming langugage\"\n",
    "d={}\n",
    "for x in s:\n",
    "    if x not in d:\n",
    "        d[x]=1\n",
    "    else:\n",
    "        d[x]+=1\n",
    "print(d)\n",
    "l=list(d)\n",
    "for i in l:\n",
    "    if d[i]>1:\n",
    "        print(i)\n",
    "        break"
   ]
  },
  {
   "cell_type": "code",
   "execution_count": 12,
   "metadata": {},
   "outputs": [
    {
     "name": "stdout",
     "output_type": "stream",
     "text": [
      "{'p': 1, 'r': 2, 'o': 1, 'g': 5, 'a': 3, 'm': 2, 'i': 1, 'n': 2, ' ': 1, 'l': 1, 'u': 1, 'e': 1}\n",
      "['r', 'g', 'a', 'm', 'n']\n",
      "n\n"
     ]
    }
   ],
   "source": [
    "# 30 WAP to Print Last Occurrence of a Character in a String.\n",
    "s=\"programming langugage\"\n",
    "d={}\n",
    "for x in s:\n",
    "    if x not in d:\n",
    "        d[x]=1\n",
    "    else:\n",
    "        d[x]+=1\n",
    "print(d)\n",
    "l=list(d)\n",
    "x=[]\n",
    "for i in l:\n",
    "    if d[i]>1:\n",
    "        x+=[i]\n",
    "print(x)\n",
    "print(x[-1])"
   ]
  },
  {
   "cell_type": "code",
   "execution_count": 15,
   "metadata": {},
   "outputs": [
    {
     "name": "stdout",
     "output_type": "stream",
     "text": [
      "{'p': 1, 'r': 2, 'o': 1, 'g': 5, 'a': 3, 'm': 2, 'i': 1, 'n': 2, ' ': 1, 'l': 1, 'u': 1, 'e': 1}\n",
      "p\n"
     ]
    }
   ],
   "source": [
    "# 31 WAP to Print First not Occurrence of a Character in a String.\n",
    "s=\"programming langugage\"\n",
    "d={}\n",
    "for x in s:\n",
    "    if x not in d:\n",
    "        d[x]=1\n",
    "    else:\n",
    "        d[x]+=1\n",
    "print(d)\n",
    "l=list(d)\n",
    "for m in l:\n",
    "    if d[m]==1:\n",
    "        print(m)\n",
    "        break"
   ]
  },
  {
   "cell_type": "code",
   "execution_count": 16,
   "metadata": {},
   "outputs": [
    {
     "name": "stdout",
     "output_type": "stream",
     "text": [
      "{'p': 1, 'r': 2, 'o': 1, 'g': 5, 'a': 3, 'm': 2, 'i': 1, 'n': 2, ' ': 1, 'l': 1, 'u': 1, 'e': 1}\n",
      "e\n"
     ]
    }
   ],
   "source": [
    "# 32 WAP to Print last not Occurrence of a Character in a String.\n",
    "s=\"programming langugage\"\n",
    "d={}\n",
    "for x in s:\n",
    "    if x not in d:\n",
    "        d[x]=1\n",
    "    else:\n",
    "        d[x]+=1\n",
    "print(d)\n",
    "l=list(d)\n",
    "x=[]\n",
    "for i in l:\n",
    "    if d[i]==1:\n",
    "        x+=[i]\n",
    "print(x[-1])"
   ]
  },
  {
   "cell_type": "code",
   "execution_count": 22,
   "metadata": {},
   "outputs": [
    {
     "name": "stdout",
     "output_type": "stream",
     "text": [
      "{'p': 1, 'r': 2, 'o': 1, 'g': 4, 'a': 3, 'm': 2, 'i': 1, 'n': 2, ' ': 1, 'l': 1, 'u': 1, 'e': 1}\n",
      "['p', 'r', 'o', 'g', 'a', 'm', 'i', 'n', ' ', 'l', 'u', 'e']\n",
      "['p', 'o', 'g', 'a', 'm', 'i', 'n', ' ', 'l', 'u', 'e']\n"
     ]
    }
   ],
   "source": [
    "# 33 WAP to Remove First Occurrence of a Character in a String.\n",
    "st=\"programming language\"\n",
    "uni={}\n",
    "for i in st:\n",
    "    if i not in uni:\n",
    "        uni[i]=1\n",
    "    else:\n",
    "        uni[i]+=1\n",
    "print(uni)\n",
    "l=list(uni)\n",
    "print(l)\n",
    "for x in range(len(l)):\n",
    "    if uni[l[x]]>1:\n",
    "        del l[x]\n",
    "        break\n",
    "print(l)\n"
   ]
  },
  {
   "cell_type": "code",
   "execution_count": 26,
   "metadata": {},
   "outputs": [
    {
     "name": "stdout",
     "output_type": "stream",
     "text": [
      "{'p': 1, 'r': 2, 'o': 1, 'g': 4, 'a': 3, 'm': 2, 'i': 1, 'n': 2, ' ': 1, 'l': 1, 'u': 1, 'e': 1}\n",
      "['r', 'g', 'a', 'm', 'n']\n",
      "['r', 'g', 'a', 'm']\n"
     ]
    }
   ],
   "source": [
    "# 34 WAP to Remove Last Occurred Character in a String.\n",
    "st=\"programming language\"\n",
    "d={}\n",
    "for i in st:\n",
    "    if i not in d:\n",
    "        d[i]=1\n",
    "    else:\n",
    "        d[i]+=1\n",
    "print(d)\n",
    "l=list(d)\n",
    "u=[]\n",
    "for x in range(0,len(l)):\n",
    "    if d[l[x]]>1:\n",
    "        u+=[l[x]]\n",
    "print(u)\n",
    "del u[-1]\n",
    "print(u)\n"
   ]
  },
  {
   "cell_type": "code",
   "execution_count": 2,
   "metadata": {},
   "outputs": [
    {
     "name": "stdout",
     "output_type": "stream",
     "text": [
      "2\n"
     ]
    }
   ],
   "source": [
    "# 35 WAP to count the occurrence of a specific character in a given string\n",
    "st=\"malayalam\"\n",
    "sp='m'\n",
    "c=0\n",
    "for i in st:\n",
    "    if i==sp:\n",
    "        c+=1\n",
    "print(c)"
   ]
  },
  {
   "cell_type": "code",
   "execution_count": 4,
   "metadata": {},
   "outputs": [
    {
     "name": "stdout",
     "output_type": "stream",
     "text": [
      "{'h': 2, 'e': 2, 'l': 3, 'i': 1, 'u': 5, 'm': 2, ' ': 3, 'b': 1, 'a': 3, 'o': 2, 'n': 1, 's': 2, 'k': 1, 'g': 1}\n",
      "u\n"
     ]
    }
   ],
   "source": [
    "# 36 WAP to count the max occurrence of a character in a given string.\n",
    "st=\"helium baloons make uslauuugh\"\n",
    "d={}\n",
    "for i in st:\n",
    "    if i not in d:\n",
    "        d[i]=1\n",
    "    else:\n",
    "        d[i]+=1\n",
    "print(d)\n",
    "l=list(d)\n",
    "small=0\n",
    "ch=None\n",
    "for x in range(len(l)):\n",
    "    if small<d[l[x]]:\n",
    "        small=d[l[x]]\n",
    "        ch=l[x]\n",
    "print(ch)"
   ]
  },
  {
   "cell_type": "code",
   "execution_count": 15,
   "metadata": {},
   "outputs": [
    {
     "name": "stdout",
     "output_type": "stream",
     "text": [
      "{'h': 2, 'e': 2, 'l': 3, 'i': 1, 'u': 5, 'm': 2, ' ': 3, 'b': 1, 'a': 3, 'o': 2, 'n': 1, 's': 2, 'k': 1, 'g': 1}\n",
      "5\n"
     ]
    }
   ],
   "source": [
    "# 37 WAP to count the min occurrence of a character in a given string.\n",
    "st=\"helium baloons make uslauuugh\"\n",
    "d={}\n",
    "for i in st:\n",
    "    if i not in d:\n",
    "        d[i]=1\n",
    "    else:\n",
    "        d[i]+=1\n",
    "print(d)\n",
    "l=list(d)\n",
    "min=9\n",
    "k=[]\n",
    "for x in l:\n",
    "    if d[x]<min and d[x]>1:\n",
    "        min=d[x]\n",
    "    if d[x]==min:\n",
    "        k+=x\n",
    "print(len(k))\n"
   ]
  },
  {
   "cell_type": "code",
   "execution_count": 16,
   "metadata": {},
   "outputs": [
    {
     "name": "stdout",
     "output_type": "stream",
     "text": [
      "1\n"
     ]
    }
   ],
   "source": [
    "# 38 WAP to count the repeats of a specific character in a given string.\n",
    "st=\"helium baloons make uslauuugh\"\n",
    "sp='o'\n",
    "c=0\n",
    "for i in st:\n",
    "    if i==sp:\n",
    "        c+=1\n",
    "print(c-1)\n"
   ]
  },
  {
   "cell_type": "code",
   "execution_count": 22,
   "metadata": {},
   "outputs": [
    {
     "name": "stdout",
     "output_type": "stream",
     "text": [
      "{'h': 2, 'e': 2, 'l': 3, 'i': 1, 'u': 5, 'm': 2, ' ': 3, 'b': 1, 'a': 3, 'o': 2, 'n': 1, 's': 2, 'k': 1, 'g': 1}\n",
      "1\n"
     ]
    }
   ],
   "source": [
    "# 39 WAP to count the max repeated character in a given string.\n",
    "st=\"helium baloons make uslauuugh\"\n",
    "d={}\n",
    "for x in st:\n",
    "    if x not in d:\n",
    "        d[x]=1\n",
    "    else:\n",
    "        d[x]+=1\n",
    "print(d)\n",
    "s=list(d)\n",
    "small=0\n",
    "for i in s:\n",
    "    if d[i]>small:\n",
    "        small=d[i]\n",
    "c=0\n",
    "for p in s:\n",
    "    if small==d[p]:\n",
    "        c+=1\n",
    "print(c)\n",
    "\n"
   ]
  },
  {
   "cell_type": "code",
   "execution_count": null,
   "metadata": {},
   "outputs": [],
   "source": [
    "# 40 WAP to count the min repeated character in a given string.\n",
    "st=\"helium baloons make uslauuugh\"\n",
    "d={}\n",
    "for i in st:\n",
    "    if i not in d:\n",
    "        d[i]=1\n",
    "    else:\n",
    "        d[i]+=1\n",
    "print(d)\n",
    "l=list(d)\n",
    "min=9\n",
    "k=[]\n",
    "for x in l:\n",
    "    if d[x]<min and d[x]>1:\n",
    "        min=d[x]\n",
    "    if d[x]==min:\n",
    "        k+=x\n",
    "print(len(k))"
   ]
  },
  {
   "cell_type": "code",
   "execution_count": 23,
   "metadata": {},
   "outputs": [
    {
     "name": "stdout",
     "output_type": "stream",
     "text": [
      "sea-witch\n"
     ]
    }
   ],
   "source": [
    "# 41 WAP to replace a specific character into a new character.\n",
    "s=\"sea witch\"\n",
    "sp=\" \"\n",
    "for i in range(len(s)):\n",
    "    if s[i]==sp:\n",
    "        s=s[0:i]+'-'+s[i+1:]\n",
    "print(s)\n"
   ]
  },
  {
   "cell_type": "code",
   "execution_count": 24,
   "metadata": {},
   "outputs": [
    {
     "name": "stdout",
     "output_type": "stream",
     "text": [
      "sea-witch\n"
     ]
    }
   ],
   "source": [
    "# without slicing\n",
    "s=\"sea witch\"\n",
    "sp=\" \"\n",
    "res=\"\"\n",
    "for i in s:\n",
    "    if i!=sp:\n",
    "        res+=i\n",
    "    else: \n",
    "        res+='-'\n",
    "print(res)\n",
    "    \n"
   ]
  },
  {
   "cell_type": "code",
   "execution_count": 25,
   "metadata": {},
   "outputs": [
    {
     "name": "stdout",
     "output_type": "stream",
     "text": [
      "HELLOO HII5W345#$5\n"
     ]
    }
   ],
   "source": [
    "# 42 WAP to convert lowercase to uppercase in a given string.\n",
    "st=\"hellOO Hii5w345#$5\"\n",
    "res=\"\"\n",
    "for i in st:\n",
    "    if 'a'<=i<='z':\n",
    "        res+=chr(ord(i)-32)\n",
    "    else:\n",
    "        res+=i\n",
    "print(res)"
   ]
  },
  {
   "cell_type": "code",
   "execution_count": 26,
   "metadata": {},
   "outputs": [
    {
     "name": "stdout",
     "output_type": "stream",
     "text": [
      "helloo hii5w345#$5\n"
     ]
    }
   ],
   "source": [
    "# 43 WAP to convert uppercase to lowercase in a given string.\n",
    "st=\"hellOO Hii5w345#$5\"\n",
    "res=\"\"\n",
    "for i in st:\n",
    "    if 'A'<=i<='Z':\n",
    "        res+=chr(ord(i)+32)\n",
    "    else:\n",
    "        res+=i\n",
    "print(res)\n"
   ]
  },
  {
   "cell_type": "code",
   "execution_count": 29,
   "metadata": {},
   "outputs": [
    {
     "name": "stdout",
     "output_type": "stream",
     "text": [
      "jmndl\n"
     ]
    }
   ],
   "source": [
    "# 44 WAP to convert uppercase to lowercase in even position characters in a given string.\n",
    "s=\"34JU$%MANjeaDBfdfgjOL.\"\n",
    "res=\"\"\n",
    "for i in range(len(s)):\n",
    "    if 'A'<=s[i]<='Z' and i%2==0:\n",
    "        res+=chr(ord(s[i])+32)\n",
    "\n",
    "print(res)\n"
   ]
  },
  {
   "cell_type": "code",
   "execution_count": 30,
   "metadata": {},
   "outputs": [
    {
     "name": "stdout",
     "output_type": "stream",
     "text": [
      "uabo\n"
     ]
    }
   ],
   "source": [
    "# 45 WAP to convert uppercase to lowercase in odd position characters in a given string.\n",
    "s=\"34JU$%MANjeaDBfdfgjOL.\"\n",
    "res=\"\"\n",
    "for i in range(len(s)):\n",
    "    if 'A'<=s[i]<='Z' and i%2!=0:\n",
    "        res+=chr(ord(s[i])+32)\n",
    "\n",
    "print(res)\n"
   ]
  },
  {
   "cell_type": "code",
   "execution_count": 31,
   "metadata": {},
   "outputs": [
    {
     "name": "stdout",
     "output_type": "stream",
     "text": [
      "34ju**manJEAdbFDFGJol*\n"
     ]
    }
   ],
   "source": [
    "# 46 WAP to convert the uppercase letter to lowercase letter and lowercase\n",
    "#letter to uppercase letter,if the character is special symbol replace with * for the given input string.\n",
    "s=\"34JU$%MANjeaDBfdfgjOL.\"\n",
    "res=\"\"\n",
    "for i in s:\n",
    "    if 'A'<=i<='Z':\n",
    "        res+=chr(ord(i)+32)\n",
    "    elif 'a'<=i<='z':\n",
    "        res+=chr(ord(i)-32)\n",
    "    elif '0'<=i<='9':\n",
    "        res+=i\n",
    "    else:\n",
    "        res+='*'\n",
    "print(res)"
   ]
  },
  {
   "cell_type": "code",
   "execution_count": 16,
   "metadata": {},
   "outputs": [
    {
     "name": "stdout",
     "output_type": "stream",
     "text": [
      "Hello Wwo233Rrld @@##  Iipl\n"
     ]
    }
   ],
   "source": [
    "# 47 WAP to convert title case in a given string.\n",
    "s=\"hello wo23rld @# ipl\"\n",
    "res=\"\"\n",
    "temp=0\n",
    "if 'a'<=s[0]<='z':\n",
    "    res+=chr(ord(s[0])-32)\n",
    "    temp=1\n",
    "elif 'A'<=s[0]<='Z':\n",
    "    res+=s[0]\n",
    "    temp=1\n",
    "for temp in range(1,len(s)):\n",
    "    if not('A'<=s[temp]<='Z' or 'a'<=s[temp]<='z'):\n",
    "        res+=s[temp]\n",
    "        if 'a'<=s[temp+1]<='z':\n",
    "            res+=chr(ord(s[temp+1])-32)\n",
    "        else:\n",
    "            res+=s[temp+1]\n",
    "    elif 'A'<=s[temp]<='Z':\n",
    "        res+=chr(ord(s[temp])+32)\n",
    "    else:\n",
    "        res+=s[temp]\n",
    "print(res)\n",
    "      \n",
    "\n"
   ]
  },
  {
   "cell_type": "code",
   "execution_count": 1,
   "metadata": {},
   "outputs": [
    {
     "name": "stdout",
     "output_type": "stream",
     "text": [
      "hello_world_123#$56\n"
     ]
    }
   ],
   "source": [
    "# 48 WAP to convert snake_case in a given string.\n",
    "s='Hello WorlD 123#$56'\n",
    "res=''\n",
    "for i in s:\n",
    "    if 'A'<=i<='Z':\n",
    "        res+=chr(ord(i)+32)\n",
    "    elif i==\" \":\n",
    "        res+=\"_\"\n",
    "    else:\n",
    "        res+=i\n",
    "print(res)"
   ]
  },
  {
   "cell_type": "code",
   "execution_count": 11,
   "metadata": {},
   "outputs": [
    {
     "name": "stdout",
     "output_type": "stream",
     "text": [
      "HELLO WORLS 1234aweds#$\n"
     ]
    }
   ],
   "source": [
    "# 49 WAP to Toggle Characters Case in a String.\n",
    "st=\"hello worls 1234AWEDS#$\"\n",
    "res=\"\"\n",
    "for i in st:\n",
    "    if 'a'<=i<='z':\n",
    "        res+=chr(ord(i)-32)\n",
    "    elif 'A'<=i<='Z':\n",
    "        res+=chr(ord(i)+32)\n",
    "    else:\n",
    "        res+=i\n",
    "print(res)"
   ]
  },
  {
   "cell_type": "code",
   "execution_count": 7,
   "metadata": {},
   "outputs": [
    {
     "name": "stdout",
     "output_type": "stream",
     "text": [
      "h101l111111\n"
     ]
    }
   ],
   "source": [
    "#50 WAP to replace vowels into ascii values in a given string.(both with temp variable)\n",
    "st=\"heloo\"\n",
    "res=\"\"\n",
    "for i in st:\n",
    "    if i in 'AEIOUaeiou':\n",
    "        res+=str(ord(i))\n",
    "    else:\n",
    "        res+=i\n",
    "print(res)"
   ]
  },
  {
   "cell_type": "code",
   "execution_count": 18,
   "metadata": {},
   "outputs": [
    {
     "ename": "TypeError",
     "evalue": "ord() expected string of length 1, but int found",
     "output_type": "error",
     "traceback": [
      "\u001b[1;31m---------------------------------------------------------------------------\u001b[0m",
      "\u001b[1;31mTypeError\u001b[0m                                 Traceback (most recent call last)",
      "\u001b[1;32mc:\\Users\\sravani\\OneDrive\\Documents\\GitHub\\SRAVANI\\for and while.ipynb Cell 52\u001b[0m line \u001b[0;36m6\n\u001b[0;32m      <a href='vscode-notebook-cell:/c%3A/Users/sravani/OneDrive/Documents/GitHub/SRAVANI/for%20and%20while.ipynb#Y102sZmlsZQ%3D%3D?line=3'>4</a>\u001b[0m \u001b[39mfor\u001b[39;00m i \u001b[39min\u001b[39;00m \u001b[39mrange\u001b[39m(\u001b[39m0\u001b[39m,\u001b[39mlen\u001b[39m(st)):\n\u001b[0;32m      <a href='vscode-notebook-cell:/c%3A/Users/sravani/OneDrive/Documents/GitHub/SRAVANI/for%20and%20while.ipynb#Y102sZmlsZQ%3D%3D?line=4'>5</a>\u001b[0m     \u001b[39mif\u001b[39;00m st[i]\u001b[39min\u001b[39;00m \u001b[39m'\u001b[39m\u001b[39mAEIOUaeiou\u001b[39m\u001b[39m'\u001b[39m:\n\u001b[1;32m----> <a href='vscode-notebook-cell:/c%3A/Users/sravani/OneDrive/Documents/GitHub/SRAVANI/for%20and%20while.ipynb#Y102sZmlsZQ%3D%3D?line=5'>6</a>\u001b[0m         st\u001b[39m=\u001b[39mst[\u001b[39m0\u001b[39m:i]\u001b[39m+\u001b[39m\u001b[39mstr\u001b[39m(\u001b[39mord\u001b[39;49m(i))\u001b[39m+\u001b[39mst[i\u001b[39m+\u001b[39m\u001b[39m1\u001b[39m:]\n\u001b[0;32m      <a href='vscode-notebook-cell:/c%3A/Users/sravani/OneDrive/Documents/GitHub/SRAVANI/for%20and%20while.ipynb#Y102sZmlsZQ%3D%3D?line=6'>7</a>\u001b[0m \u001b[39mprint\u001b[39m(st)\n",
      "\u001b[1;31mTypeError\u001b[0m: ord() expected string of length 1, but int found"
     ]
    }
   ],
   "source": [
    "#WAP to replace vowels into ascii values in a given string.(without  temp variable)\n",
    "st=\"hello guys\"\n",
    "p=[]\n",
    "for i in range(0,len(st)):\n",
    "    if st[i]in 'AEIOUaeiou':\n",
    "        st=st[0:i]+str(ord(i))+st[i+1:]\n",
    "print(st)\n",
    "\n"
   ]
  },
  {
   "cell_type": "code",
   "execution_count": 27,
   "metadata": {},
   "outputs": [
    {
     "name": "stdout",
     "output_type": "stream",
     "text": [
      "104e108$108o 119o114108100\n"
     ]
    }
   ],
   "source": [
    "# 51 WAP to replace consonants into ascii values in a given string. (with temp variable)\n",
    "st=\"hel$lo world\"\n",
    "res=\"\"\n",
    "for i in st:\n",
    "    if '0'<=i<='9'or not('A'<=i<='Z' or 'a'<=i<='z'):\n",
    "        res+=i\n",
    "    elif i in 'AEIOUaeiou':\n",
    "        res+=i\n",
    "    else:\n",
    "        res+=str(ord(i))\n",
    "print(res)"
   ]
  },
  {
   "cell_type": "code",
   "execution_count": 30,
   "metadata": {},
   "outputs": [
    {
     "name": "stdout",
     "output_type": "stream",
     "text": [
      "hel$lo 119o114l100\n"
     ]
    }
   ],
   "source": [
    "# 52 WAP to replace consonants to ascii values in odd position characters in a given string.(both with and with temp variable)\n",
    "st=\"hel$lo world\"\n",
    "res=\"\"\n",
    "for i in range(len(st)):\n",
    "    if '0'<=st[i]<='9'or not('A'<=st[i]<='Z' or 'a'<=st[i]<='z'):\n",
    "        res+=st[i]\n",
    "    elif st[i] in 'AEIOUaeiou':\n",
    "        res+=st[i]\n",
    "    else:\n",
    "        if i%2!=0:\n",
    "            res+=str(ord(st[i]))\n",
    "        else:\n",
    "            res+=st[i]\n",
    "print(res)"
   ]
  },
  {
   "cell_type": "code",
   "execution_count": 33,
   "metadata": {},
   "outputs": [
    {
     "name": "stdout",
     "output_type": "stream",
     "text": [
      "hel$lo w111rld\n"
     ]
    }
   ],
   "source": [
    "# 53 WAP to replace vowels to ascii values in even position characters in a given string.(both with and with temp variable)\n",
    "st=\"hel$lo world\"\n",
    "res=\"\"\n",
    "for i in range(len(st)):\n",
    "    if st[i] in 'AEIOUaeiou' and i%2==0:\n",
    "        res+=str(ord(st[i]))\n",
    "    else:\n",
    "        res+=st[i]\n",
    "print(res)"
   ]
  },
  {
   "cell_type": "code",
   "execution_count": 35,
   "metadata": {},
   "outputs": [
    {
     "name": "stdout",
     "output_type": "stream",
     "text": [
      "google-space-area\n"
     ]
    }
   ],
   "source": [
    "# 54 WAP to Replace white Spaces with Hyphen in a String.(both with and with temp variable)\n",
    "s=\"google space area\"\n",
    "res=\"\"\n",
    "for t in s:\n",
    "    if t==\" \":\n",
    "        res+='-'\n",
    "    else:\n",
    "        res+=t\n",
    "print(res)"
   ]
  },
  {
   "cell_type": "code",
   "execution_count": 37,
   "metadata": {},
   "outputs": [
    {
     "name": "stdout",
     "output_type": "stream",
     "text": [
      "gol\n"
     ]
    }
   ],
   "source": [
    "# 55 WAP to Remove Odd position Characters in a given String.\n",
    "s=\"google\"\n",
    "res=\"\"\n",
    "for i in range(0,len(s)):\n",
    "    if i%2==0:\n",
    "        res+=s[i]\n",
    "print(res)\n"
   ]
  },
  {
   "cell_type": "code",
   "execution_count": 38,
   "metadata": {},
   "outputs": [
    {
     "name": "stdout",
     "output_type": "stream",
     "text": [
      "ogesae\n"
     ]
    }
   ],
   "source": [
    "#56 WAP to Remove even position Characters in a given String.\n",
    "st=\"google space\"\n",
    "res=\"\"\n",
    "for i in range(len(st)):\n",
    "    if i%2!=0:\n",
    "        res+=st[i]\n",
    "print(res)"
   ]
  },
  {
   "cell_type": "code",
   "execution_count": 40,
   "metadata": {},
   "outputs": [
    {
     "name": "stdout",
     "output_type": "stream",
     "text": [
      "45#$%987\n"
     ]
    }
   ],
   "source": [
    "# 57 WAP to Remove alphabets in a given String.\n",
    "s=\"he45ll#$%jhk987owe\"\n",
    "temp=\"\"\n",
    "for i in s:\n",
    "    if not('a'<=i<='z'or 'A'<=i<='Z'):\n",
    "        temp+=i\n",
    "print(temp)"
   ]
  },
  {
   "cell_type": "code",
   "execution_count": 41,
   "metadata": {},
   "outputs": [
    {
     "name": "stdout",
     "output_type": "stream",
     "text": [
      "hell#$%jhkowe\n"
     ]
    }
   ],
   "source": [
    "# 58 WAP to Remove ascii numbers in a given String.\n",
    "s=\"he45ll#$%jhk987owe\"\n",
    "temp=\"\"\n",
    "for i in s:\n",
    "    if not('0'<=i<='9'):\n",
    "        temp+=i\n",
    "print(temp)\n"
   ]
  },
  {
   "cell_type": "code",
   "execution_count": 43,
   "metadata": {},
   "outputs": [
    {
     "name": "stdout",
     "output_type": "stream",
     "text": [
      "he45lljhk987owe\n"
     ]
    }
   ],
   "source": [
    "# 59 WAP to Remove special characters in a given String.\n",
    "s=\"he45ll#$%jhk987owe\"\n",
    "temp=\"\"\n",
    "for i in s:\n",
    "    if 'A'<=i<='Z' or 'a'<=i<='z' or '0'<=i<='9':\n",
    "        temp+=i\n",
    "print(temp)"
   ]
  },
  {
   "cell_type": "code",
   "execution_count": 45,
   "metadata": {},
   "outputs": [
    {
     "name": "stdout",
     "output_type": "stream",
     "text": [
      "palindrome\n"
     ]
    }
   ],
   "source": [
    "# 60 WAP to check if the given string is Palindrome or Not.\n",
    "st=\"dad\"\n",
    "rev=\"\"\n",
    "for i in st:\n",
    "    rev=i+rev\n",
    "if rev==st:\n",
    "    print(\"palindrome\")\n",
    "else:\n",
    "    print(\"not palindrome\")"
   ]
  },
  {
   "cell_type": "code",
   "execution_count": 46,
   "metadata": {},
   "outputs": [
    {
     "name": "stdout",
     "output_type": "stream",
     "text": [
      "palindrome\n"
     ]
    }
   ],
   "source": [
    "st=\"dad\"\n",
    "rev=\"\"\n",
    "for i in st:\n",
    "    rev+=i\n",
    "if rev[::-1]==st:\n",
    "    print(\"palindrome\")\n",
    "else:\n",
    "    print(\"not palindrome\")"
   ]
  },
  {
   "cell_type": "code",
   "execution_count": 10,
   "metadata": {},
   "outputs": [
    {
     "name": "stdout",
     "output_type": "stream",
     "text": [
      "False\n"
     ]
    }
   ],
   "source": [
    "# 61 WAP to check whether the given string is lowercase or not.\n",
    "st=\"w134567tikjmnbvcxzWDFGH@#$%^&\"\n",
    "for i in st:\n",
    "    if 'A'<=i<='Z':\n",
    "        break\n",
    "print(False)"
   ]
  },
  {
   "cell_type": "code",
   "execution_count": 8,
   "metadata": {},
   "outputs": [
    {
     "name": "stdout",
     "output_type": "stream",
     "text": [
      "True\n"
     ]
    }
   ],
   "source": [
    "# 62WAP to check whether the given number is string or not.\n",
    "s=\"23479\"\n",
    "n=\"7\"\n",
    "if type(s)==str:\n",
    "    for i in s:\n",
    "        if '0'<=i<='9' and n==i:\n",
    "            print(True)\n",
    "else:\n",
    "    print(\"not a string\")"
   ]
  },
  {
   "cell_type": "code",
   "execution_count": 1,
   "metadata": {},
   "outputs": [
    {
     "name": "stdout",
     "output_type": "stream",
     "text": [
      "eoo123aii\n"
     ]
    }
   ],
   "source": [
    "# 63 I/p: ‘hello world 123 haii’ o/p:’eoo123aii’\n",
    "st='hello world 123 haii'\n",
    "r=\"\"\n",
    "for i in st:\n",
    "    if i in 'AEIOUaeiou':\n",
    "        r+=i\n",
    "    elif '0'<=i<='9':\n",
    "        r+=i\n",
    "print(r)\n"
   ]
  },
  {
   "cell_type": "code",
   "execution_count": 5,
   "metadata": {},
   "outputs": [
    {
     "name": "stdout",
     "output_type": "stream",
     "text": [
      "eo o 123 aii\n"
     ]
    }
   ],
   "source": [
    "#64 I/p: ‘hello world 123 haii’ o/p:’eo o 123 aii’\n",
    "s='hello world 123 haii'\n",
    "r=\"\"\n",
    "for i in st:\n",
    "    if i in 'aeiouAEIOU':\n",
    "        r+=i\n",
    "    elif '0'<=i<='9' or i==\" \":\n",
    "        r+=i\n",
    "print(r)\n"
   ]
  },
  {
   "cell_type": "code",
   "execution_count": 4,
   "metadata": {},
   "outputs": [
    {
     "name": "stdout",
     "output_type": "stream",
     "text": [
      "eo o  aii\n"
     ]
    }
   ],
   "source": [
    "# 65 I/p: ‘hello world 123 haii’ o/p:’eo o aii’\n",
    "s='hello world 123 haii'\n",
    "t=\"\"\n",
    "for i in s:\n",
    "    if i in 'AEIOUaeiou':\n",
    "        t+=i\n",
    "    elif i==\" \":\n",
    "        t+=i\n",
    "print(t)\n"
   ]
  },
  {
   "cell_type": "code",
   "execution_count": 19,
   "metadata": {},
   "outputs": [
    {
     "name": "stdout",
     "output_type": "stream",
     "text": [
      "hll\n",
      "hll world haii\n"
     ]
    }
   ],
   "source": [
    "# 66 I/p: ‘hello world 123 haii’ o/p:’hll world haii’\n",
    "s='hello world 123 haii'\n",
    "res=\"\"\n",
    "for i in s:\n",
    "    if i!=\" \":\n",
    "        if  i not in 'aeiou':\n",
    "            res+=i\n",
    "    else:\n",
    "        break\n",
    "print(res)\n",
    "l=[]\n",
    "t=\"\"\n",
    "for i in s:\n",
    "    if i!=\" \":\n",
    "        t+=i\n",
    "    else:\n",
    "        if len(t)>0:\n",
    "            l+=[t]\n",
    "            t=\"\"  \n",
    "if len(t)>0:\n",
    "    l+=[t]\n",
    "res+=\" \"+l[1]+\" \"+l[-1]\n",
    "print(res)\n",
    "\n"
   ]
  },
  {
   "cell_type": "code",
   "execution_count": 9,
   "metadata": {},
   "outputs": [
    {
     "name": "stdout",
     "output_type": "stream",
     "text": [
      "hll wrld\n",
      "eoo\n"
     ]
    }
   ],
   "source": [
    "#67 i/p:’hello world’ o/p:’hll wrld’ o/p:’eoo’\n",
    "s=\"hello world\"\n",
    "v,c=\"\",\"\"\n",
    "for i in s:\n",
    "    if i in 'AEIOUaeiou':\n",
    "        v+=i\n",
    "    else:\n",
    "        c+=i\n",
    "print(c)\n",
    "print(v)\n"
   ]
  },
  {
   "cell_type": "code",
   "execution_count": 11,
   "metadata": {},
   "outputs": [
    {
     "name": "stdout",
     "output_type": "stream",
     "text": [
      "hll wrld\n",
      "eoo\n",
      "12344\n"
     ]
    }
   ],
   "source": [
    "#68 i/p:’12hello3 4world4’ o/p:’hll wrld’ o/p:’eoo’ o/p:’12344’\n",
    "s=\"12hello3 4world4\"\n",
    "v,c,n=\"\",\"\",\"\"\n",
    "for i in s:\n",
    "    if i in 'AEIOUaeiou':\n",
    "        v+=i\n",
    "    elif '0'<=i<='9':\n",
    "        n+=i\n",
    "    else:\n",
    "        c+=i\n",
    "print(c)\n",
    "print(v)\n",
    "print(n)"
   ]
  },
  {
   "cell_type": "code",
   "execution_count": 12,
   "metadata": {},
   "outputs": [
    {
     "name": "stdout",
     "output_type": "stream",
     "text": [
      "hllwrld\n",
      "eoo\n",
      "12344\n",
      "(*$ $#*)\n"
     ]
    }
   ],
   "source": [
    "# 69 i/p:’(*12hello3$ $4#world4*)’ o/p:’hllwrld’ o/p:’eoo’ o/p:’12344’  o/p:’(*$ $#*)\n",
    "st=\"(*12hello3$ $4#world4*)\"\n",
    "c,v,n,sp=\"\",\"\",\"\",\"\"\n",
    "for i in st:\n",
    "    if i in 'AEIOUaeiou':\n",
    "        v+=i\n",
    "    elif '0'<=i<='9':\n",
    "        n+=i\n",
    "    elif not('A'<=i<='Z'or 'a'<=i<='z' or '0'<=i<='9'):\n",
    "        sp+=i\n",
    "    elif i not in 'AEIOUaeiou':\n",
    "        c+=i\n",
    "print(c)\n",
    "print(v)\n",
    "print(n)\n",
    "print(sp)"
   ]
  },
  {
   "cell_type": "code",
   "execution_count": 14,
   "metadata": {},
   "outputs": [
    {
     "name": "stdout",
     "output_type": "stream",
     "text": [
      ")*#$ $*(,44321,ooe,dlrwllh\n"
     ]
    }
   ],
   "source": [
    "# 70 i/p: ’(*12hello3$ $4#world4*)’      o/p: ')*#$ $*(,44321,ooe,dlrwllh'\n",
    "st=\"(*12hello3$ $4#world4*)\"\n",
    "c,v,n,sp=\"\",\"\",\"\",\"\"\n",
    "res=\"\"\n",
    "for i in st:\n",
    "    if i in 'AEIOUaeiou':\n",
    "        v+=i\n",
    "    elif '0'<=i<='9':\n",
    "        n+=i\n",
    "    elif not('A'<=i<='Z'or 'a'<=i<='z' or '0'<=i<='9'):\n",
    "        sp+=i\n",
    "    elif i not in 'AEIOUaeiou':\n",
    "        c+=i\n",
    "res+=sp[::-1]+','+n[::-1]+\",\"+v[::-1]+\",\"+c[::-1]\n",
    "print(res)"
   ]
  },
  {
   "cell_type": "code",
   "execution_count": 15,
   "metadata": {},
   "outputs": [
    {
     "name": "stdout",
     "output_type": "stream",
     "text": [
      "hllwrld,eoo,12344,(*$ $#*)\n"
     ]
    }
   ],
   "source": [
    "# 71 i/p:’(*12hello3$ $4#world4*)’    o/p:’hllwrld,eoo,12344,(*$ $#*)’\n",
    "s=\"(*12hello3$ $4#world4*)\"\n",
    "c,v,n,sp=\"\",\"\",\"\",\"\"\n",
    "res=\"\"\n",
    "for i in s:\n",
    "    if i in 'AEIOUaeiou':\n",
    "        v+=i\n",
    "    elif '0'<=i<='9':\n",
    "        n+=i\n",
    "    elif not('A'<=i<='Z'or 'a'<=i<='z' or '0'<=i<='9'):\n",
    "        sp+=i\n",
    "    elif i not in 'AEIOUaeiou':\n",
    "        c+=i\n",
    "res+=c+','+v+','+n+','+sp\n",
    "print(res)\n",
    "\n"
   ]
  },
  {
   "cell_type": "code",
   "execution_count": 16,
   "metadata": {},
   "outputs": [
    {
     "name": "stdout",
     "output_type": "stream",
     "text": [
      ",hllwrld,)*#$ $*(,eoo,44321\n"
     ]
    }
   ],
   "source": [
    "# 72 i/p: ’(*12hello3$ $4#world4*)’          o/p:’,hllwrld,)*#$ $*(’,eoo,44321’\n",
    "s=\"(*12hello3$ $4#world4*)\"\n",
    "c,v,n,sp=\"\",\"\",\"\",\"\"\n",
    "res=\"\"\n",
    "for i in s:\n",
    "    if i in 'AEIOUaeiou':\n",
    "        v+=i\n",
    "    elif '0'<=i<='9':\n",
    "        n+=i\n",
    "    elif not('A'<=i<='Z'or 'a'<=i<='z' or '0'<=i<='9'):\n",
    "        sp+=i\n",
    "    elif i not in 'AEIOUaeiou':\n",
    "        c+=i\n",
    "res+=','+c+','+sp[::-1]+','+v+','+n[::-1]\n",
    "print(res)"
   ]
  },
  {
   "cell_type": "code",
   "execution_count": 18,
   "metadata": {},
   "outputs": [
    {
     "name": "stdout",
     "output_type": "stream",
     "text": [
      ")*#$ $*(,44321,eoo,hllwrld\n"
     ]
    }
   ],
   "source": [
    "# 73 i/p: ’(*12hello3$ $4#world4*)’      o/p: ')*#$ $*(,44321,ooe,dlrwllh'\n",
    "s=\"(*12hello3$ $4#world4*)\"\n",
    "c,v,n,sp=\"\",\"\",\"\",\"\"\n",
    "res=\"\"\n",
    "for i in s:\n",
    "    if i in 'AEIOUaeiou':\n",
    "        v+=i\n",
    "    elif '0'<=i<='9':\n",
    "        n+=i\n",
    "    elif not('A'<=i<='Z'or 'a'<=i<='z' or '0'<=i<='9'):\n",
    "        sp+=i\n",
    "    elif i not in 'AEIOUaeiou':\n",
    "        c+=i\n",
    "res+=sp[::-1]+','+n[::-1]+','+v+','+c\n",
    "print(res)"
   ]
  },
  {
   "cell_type": "code",
   "execution_count": 20,
   "metadata": {},
   "outputs": [
    {
     "name": "stdout",
     "output_type": "stream",
     "text": [
      "dlrwllh)*#$ $*(ooedlrwllh\n"
     ]
    }
   ],
   "source": [
    "# 74 i/p: ’(*12hello3$ $4#world4*)’ o/p:’dlrwllh)*#$ $*(ooe44321’\n",
    "st=\"(*12hello3$ $4#world4*)\"\n",
    "c,v,n,sp=\"\",\"\",\"\",\"\"\n",
    "res=\"\"\n",
    "for i in st:\n",
    "    if i in 'AEIOUaeiou':\n",
    "        v+=i\n",
    "    elif '0'<=i<='9':\n",
    "        n+=i\n",
    "    elif not('A'<=i<='Z'or 'a'<=i<='z' or '0'<=i<='9'):\n",
    "        sp+=i\n",
    "    elif i not in 'AEIOUaeiou':\n",
    "        c+=i\n",
    "res+=c[::-1]+sp[::-1]+v[::-1]+c[::-1]\n",
    "print(res)"
   ]
  },
  {
   "cell_type": "code",
   "execution_count": 23,
   "metadata": {},
   "outputs": [
    {
     "name": "stdout",
     "output_type": "stream",
     "text": [
      "h$ll*w*rld\n"
     ]
    }
   ],
   "source": [
    "# 75 I/p:’HELLOWORLD’   o/p:’h$ll*w*rld’\n",
    "s=\"HELLOWORLD\"\n",
    "res=\"\"\n",
    "for i in s:\n",
    "    if i in 'AEIOU':\n",
    "        if i=='E':\n",
    "            res+=\"$\"\n",
    "        elif i==\"O\":\n",
    "            res+=\"*\"\n",
    "    else: \n",
    "        res+=chr(ord(i)+32)\n",
    "print(res)"
   ]
  },
  {
   "cell_type": "code",
   "execution_count": 24,
   "metadata": {},
   "outputs": [
    {
     "name": "stdout",
     "output_type": "stream",
     "text": [
      "hllwrld21\n"
     ]
    }
   ],
   "source": [
    "# 76 #I/p:’123HELLO WORLD456’\n",
    "#o/p:’hllwrld21’\n",
    "s=\"123HELLO WORLD456\"\n",
    "c,n,v,sp=\"\",\"\",\"\",\"\"\n",
    "res=\"\"\n",
    "for i in s:\n",
    "    if '0'<=i<'9':\n",
    "        n+=i\n",
    "    elif i in 'AEIOU':\n",
    "        v+=i\n",
    "    elif not('a'<=i<='z' or 'A'<=i<='Z' or '0'<=i<='9'):\n",
    "        sp+=i\n",
    "    elif i not in 'AEIOU':\n",
    "        c+=chr(ord(i)+32)\n",
    "res+=c+n[0:2][::-1]\n",
    "print(res)\n",
    "    "
   ]
  },
  {
   "cell_type": "code",
   "execution_count": 26,
   "metadata": {},
   "outputs": [
    {
     "name": "stdout",
     "output_type": "stream",
     "text": [
      "123hEllO wOrld456\n"
     ]
    }
   ],
   "source": [
    "#77 #I/p:’123HELLO WORLD456’\n",
    "#o/p:’123hEllO wOrld456’\n",
    "s=\"123HELLO WORLD456\"\n",
    "res=\"\"\n",
    "for i in s:\n",
    "    if '0'<=i<='9'or i==\" \":\n",
    "        res+=i\n",
    "    elif i in 'AEIOU':\n",
    "        res+=i\n",
    "    elif i not in 'AEIOU':\n",
    "        res+=chr(ord(i)+32)\n",
    "print(res)"
   ]
  },
  {
   "cell_type": "code",
   "execution_count": 29,
   "metadata": {},
   "outputs": [
    {
     "name": "stdout",
     "output_type": "stream",
     "text": [
      "321hEllO wOrld456\n"
     ]
    }
   ],
   "source": [
    "#78 #I/p:’123HELLO WORLD456’\n",
    "#o/p:’321hEllO wOrld654’\n",
    "s=\"123HELLO WORLD456\"\n",
    "res,ch=\"\",\"\"\n",
    "for i in s:\n",
    "    if '0'<=i<='9'or i==\" \":\n",
    "        res+=i\n",
    "    elif i in 'AEIOU':\n",
    "        res+=i\n",
    "    elif i not in 'AEIOU':\n",
    "        res+=chr(ord(i)+32)\n",
    "ch+=res[2::-1]+res[3::]\n",
    "print(ch)"
   ]
  },
  {
   "cell_type": "code",
   "execution_count": 30,
   "metadata": {},
   "outputs": [
    {
     "name": "stdout",
     "output_type": "stream",
     "text": [
      "321*E**O *O***456\n"
     ]
    }
   ],
   "source": [
    "#79\n",
    "#I/p:’123HELLO WORLD456’\n",
    "#o/p:’321*E**O *O***654’\n",
    "s=\"123HELLO WORLD456\"\n",
    "res,ch=\"\",\"\"\n",
    "for i in s:\n",
    "    if '0'<=i<='9'or i==\" \":\n",
    "        res+=i\n",
    "    elif i in 'AEIOU':\n",
    "        res+=i\n",
    "    elif i not in 'AEIOU':\n",
    "        res+='*'\n",
    "ch+=res[2::-1]+res[3::]\n",
    "print(ch)"
   ]
  },
  {
   "cell_type": "code",
   "execution_count": 32,
   "metadata": {},
   "outputs": [
    {
     "name": "stdout",
     "output_type": "stream",
     "text": [
      "123*E**O *O***456\n"
     ]
    }
   ],
   "source": [
    "# 80 #I/p:’123HELLO WORLD456’\n",
    "#o/p:’123*E**O *O***456’\n",
    "s=\"123HELLO WORLD456\"\n",
    "res=\"\"\n",
    "for i in s:\n",
    "    if '0'<=i<='9'or not('A'<=i<='z'or 'a'<=i<='z'):\n",
    "        res+=i\n",
    "    elif i in 'AEIOU':\n",
    "        res+=i\n",
    "    elif i not in 'AEIOU':\n",
    "        res+='*'\n",
    "print(res)"
   ]
  },
  {
   "cell_type": "code",
   "execution_count": 12,
   "metadata": {},
   "outputs": [
    {
     "name": "stdout",
     "output_type": "stream",
     "text": [
      "axbycz\n"
     ]
    }
   ],
   "source": [
    "# 82 i/p: ‘abc’ i/p: ‘xyz’\n",
    "# o/p:’axbycz’\n",
    "s=\"abc\"\n",
    "p=\"xyz\"\n",
    "r=\"\"\n",
    "for i in range(0,len(s)):\n",
    "    r+=s[i]+p[i]\n",
    "print(r)\n"
   ]
  },
  {
   "cell_type": "code",
   "execution_count": 17,
   "metadata": {},
   "outputs": [
    {
     "name": "stdout",
     "output_type": "stream",
     "text": [
      "axbyczw\n"
     ]
    }
   ],
   "source": [
    "# 83 i/p: ‘abc’     i/p: ‘xyzw’                     o/p:’axbyczw’\n",
    "s='abc'\n",
    "b='xyzw'\n",
    "r=\"\"\n",
    "for i in range(0,len(s)):\n",
    "    r+=s[i]+b[i]\n",
    "r+=b[-1]\n",
    "print(r)\n"
   ]
  },
  {
   "cell_type": "code",
   "execution_count": 20,
   "metadata": {},
   "outputs": [
    {
     "name": "stdout",
     "output_type": "stream",
     "text": [
      "axbyczd\n"
     ]
    }
   ],
   "source": [
    "# 84 i/p: ‘abcd’          i/p: ‘xyz’             o/p:’axbyczd’\n",
    "s='abcd'\n",
    "r='xyz'\n",
    "t=\"\"\n",
    "for i in range(0,len(r)):\n",
    "    t+=s[i]+r[i]\n",
    "t+=s[-1]\n",
    "print(t)"
   ]
  },
  {
   "cell_type": "code",
   "execution_count": 21,
   "metadata": {},
   "outputs": [
    {
     "name": "stdout",
     "output_type": "stream",
     "text": [
      "axbyczwop\n"
     ]
    }
   ],
   "source": [
    "# 85 i/p: ‘abc’   i/p: ‘xyzwop’\n",
    "# o/p:’axbyczwop’\n",
    "n='abc'\n",
    "m='xyzwop'\n",
    "res=\"\"\n",
    "for i in range(0,len(n)):\n",
    "    res+=n[i]+m[i]\n",
    "res+=m[i+1:]\n",
    "print(res)"
   ]
  },
  {
   "cell_type": "code",
   "execution_count": 1,
   "metadata": {},
   "outputs": [
    {
     "name": "stdout",
     "output_type": "stream",
     "text": [
      "a1b2c3\n"
     ]
    }
   ],
   "source": [
    "#86 i/p:’abc123’\n",
    "#o/p:’a1b2c3’\n",
    "s=\"abc123\"\n",
    "n,alp=\"\",\"\"\n",
    "for i in s:\n",
    "    if '0'<=i<='9':\n",
    "        n+=i\n",
    "    elif 'a'<=i<='z':\n",
    "        alp+=i\n",
    "temp=\"\"\n",
    "for x in range(len(alp)):\n",
    "    temp+=alp[x]+n[x]\n",
    "print(temp)"
   ]
  },
  {
   "cell_type": "code",
   "execution_count": 4,
   "metadata": {},
   "outputs": [
    {
     "name": "stdout",
     "output_type": "stream",
     "text": [
      "a1b2c\n"
     ]
    }
   ],
   "source": [
    "# 87 i/p:’abc12’\n",
    "# o/p:’a1b2c’\n",
    "s=\"abc12\"\n",
    "n,alp=\"\",\"\"\n",
    "for i in s:\n",
    "    if '0'<=i<='9':\n",
    "        n+=i\n",
    "    elif 'a'<=i<='z':\n",
    "        alp+=i\n",
    "t=\"\"\n",
    "for x in range(len(n)):\n",
    "    t+=alp[x]+n[x]\n",
    "t+=alp[x+1:]\n",
    "print(t)"
   ]
  },
  {
   "cell_type": "code",
   "execution_count": 6,
   "metadata": {},
   "outputs": [
    {
     "name": "stdout",
     "output_type": "stream",
     "text": [
      "a1b2c34\n"
     ]
    }
   ],
   "source": [
    "# 88 i/p: ‘abc1234’                o/p: ‘a1b2c34’\n",
    "s=\"abc1234\"\n",
    "n,alp=\"\",\"\"\n",
    "for i in s:\n",
    "    if '0'<=i<='9':\n",
    "        n+=i\n",
    "    elif 'a'<=i<='z':\n",
    "        alp+=i\n",
    "t=\"\"\n",
    "for i in range(len(alp)):\n",
    "    t+=alp[i]+n[i]\n",
    "t+=n[i+1:]\n",
    "print(t)\n"
   ]
  },
  {
   "cell_type": "code",
   "execution_count": 8,
   "metadata": {},
   "outputs": [
    {
     "name": "stdout",
     "output_type": "stream",
     "text": [
      "a1b2c34\n"
     ]
    }
   ],
   "source": [
    "#89 i/p: ‘1a2bc34’             o/p:’a1b2c34’\n",
    "s=\"1a2bc34\"\n",
    "n,alp=\"\",\"\"\n",
    "for i in s:\n",
    "    if '0'<=i<='9':\n",
    "        n+=i\n",
    "    elif 'a'<=i<='z':\n",
    "        alp+=i\n",
    "t=\"\"\n",
    "for i in range(len(alp)):\n",
    "    t+=alp[i]+n[i]\n",
    "t+=n[i+1:]\n",
    "print(t)\n"
   ]
  },
  {
   "cell_type": "code",
   "execution_count": 12,
   "metadata": {},
   "outputs": [
    {
     "name": "stdout",
     "output_type": "stream",
     "text": [
      "125\n",
      "3\n"
     ]
    }
   ],
   "source": [
    "# 90 i/p:’abcdnmpoijkl12yzabcd5’            o/p:3\n",
    "s='abcdnmpoijkl12yzabcd5'\n",
    "res=\"\"\n",
    "for i in s:\n",
    "    if '0'<=i<='9':\n",
    "        res+=i\n",
    "print(res)\n",
    "prod=1\n",
    "for x in range(0,len(res)-1):\n",
    "    prod*=int(res[x])\n",
    "print(int(res[-1])-prod)"
   ]
  },
  {
   "cell_type": "code",
   "execution_count": 19,
   "metadata": {},
   "outputs": [
    {
     "name": "stdout",
     "output_type": "stream",
     "text": [
      "animals\n",
      "Owl\n"
     ]
    }
   ],
   "source": [
    "# 93 WAP to print all the string values present inside the list if the length  of the string is odd under the first character starts with a vowel.\n",
    "l=[10,'amma','hello','animals',(10,30,40),'Owl']\n",
    "for i in range(len(l)):\n",
    "    if type(l[i])==str:\n",
    "        if l[i][0] in 'AEIOUaeiou' and len(l[i])%2!=0:\n",
    "            print(l[i])"
   ]
  },
  {
   "cell_type": "code",
   "execution_count": 20,
   "metadata": {},
   "outputs": [
    {
     "name": "stdout",
     "output_type": "stream",
     "text": [
      "aaabbcccc\n"
     ]
    }
   ],
   "source": [
    "#94 Write a program for series           Input:- “a3b2c4” ,                   Output: “aaabbcccc”\n",
    "ip=\"a3b2c4\"\n",
    "n,c=\"\",\"\"\n",
    "for i in ip:\n",
    "    if '0'<=i<='9':\n",
    "        n+=i\n",
    "    elif 'a'<=i<='z' or 'A'<=i<='Z':\n",
    "        c+=i\n",
    "t=\"\"\n",
    "for x in range(len(c)):\n",
    "    t+=c[x]*int(n[x])\n",
    "print(t)\n"
   ]
  },
  {
   "cell_type": "code",
   "execution_count": 25,
   "metadata": {},
   "outputs": [
    {
     "name": "stdout",
     "output_type": "stream",
     "text": [
      "{'a': 3, 'b': 2, 'c': 4}\n",
      "a3b2c4\n"
     ]
    }
   ],
   "source": [
    "# 95 Write a program for series            Input: “aaabbcccc”                     Output:- “a3b2c4”\n",
    "ip='aaabbcccc'\n",
    "res={}\n",
    "for x in ip:\n",
    "    if x not in res:\n",
    "        res[x]=1\n",
    "    else:\n",
    "        res[x]+=1\n",
    "print(res)\n",
    "l=list(res)\n",
    "temp=\"\"\n",
    "for y in l:\n",
    "    temp+=y+str(res[y])\n",
    "print(temp)"
   ]
  },
  {
   "cell_type": "code",
   "execution_count": 12,
   "metadata": {},
   "outputs": [
    {
     "name": "stdout",
     "output_type": "stream",
     "text": [
      "{'a': 4, 'B': 3, 'c': 1, 'd': 4, 'f': 5}\n",
      "['a', 'B', 'c', 'd', 'f']\n",
      "['f5']\n"
     ]
    }
   ],
   "source": [
    "# 96Write a program frequency of each character in given string when count is a prime number\n",
    "# input:”aaaaBBBcddddfffff”\n",
    "# Output: (“B3”,”c1”,”f5”)\n",
    "st=\"aaaaBBBcddddfffff\"\n",
    "d={}\n",
    "for i in st:\n",
    "    if i not in d:\n",
    "        d[i]=1\n",
    "    else:\n",
    "        d[i]+=1\n",
    "print(d)\n",
    "l=list(d)\n",
    "print(l)\n",
    "t=[]\n",
    "count=0\n",
    "for i in range(0,len(l)):\n",
    "    for n in range(1,d[l[i]]):\n",
    "        if d[l[i]]%n==1:\n",
    "            count+=1\n",
    "        if count==2:\n",
    "            t+=[l[i]+str(d[l[i]])]\n",
    "print(t)\n",
    "\n"
   ]
  },
  {
   "cell_type": "code",
   "execution_count": null,
   "metadata": {},
   "outputs": [],
   "source": [
    "# 97 Write a program to swap neighbor char in string.\n",
    "#Input: “abcdefg”\n",
    "# Output:- “badcfeg”"
   ]
  },
  {
   "cell_type": "code",
   "execution_count": 13,
   "metadata": {},
   "outputs": [
    {
     "name": "stdout",
     "output_type": "stream",
     "text": [
      "['haii', 'how', 'are', 'you', 'venu']\n"
     ]
    }
   ],
   "source": [
    "# 98 WAP to split the sentence in a given string.\n",
    "# i/p:’haii how are you venu’\n",
    "# o/p:[‘haii’, ’how’,’are’,’you’,’venu’]\n",
    "st=\"haii how are you venu\"\n",
    "l=[]\n",
    "res=\"\"\n",
    "for i in st:\n",
    "    if i!=\" \":\n",
    "        res+=i\n",
    "    else:\n",
    "        if len(res)>0:\n",
    "            l+=[res]\n",
    "            res=\"\"\n",
    "if len(res)>0:\n",
    "    l+=[res]\n",
    "print(l)\n"
   ]
  },
  {
   "cell_type": "code",
   "execution_count": 15,
   "metadata": {},
   "outputs": [
    {
     "name": "stdout",
     "output_type": "stream",
     "text": [
      "7 welcome\n"
     ]
    }
   ],
   "source": [
    "# 99 Find out the longest word in the string below.\n",
    "# Sentence =”hello world welcome to python”\n",
    "st=\"hello world welcome to python\"\n",
    "d={}\n",
    "res=\"\"\n",
    "for i in st:\n",
    "    if i!=\" \":\n",
    "        res+=i\n",
    "    else:\n",
    "        if len(res)>0:\n",
    "            d[res]=len(res)\n",
    "            res=\"\"\n",
    "if len(res)>0:\n",
    "    d[res]=len(res)\n",
    "    res=\"\"\n",
    "l=list(d)\n",
    "max=0\n",
    "ch=None\n",
    "for x in l:\n",
    "    if max<d[x]:\n",
    "        max=d[x]\n",
    "        ch=x\n",
    "print(max,ch)\n"
   ]
  },
  {
   "cell_type": "code",
   "execution_count": 19,
   "metadata": {},
   "outputs": [
    {
     "name": "stdout",
     "output_type": "stream",
     "text": [
      "olleh dlrow emoclew ot nohtyp \n"
     ]
    }
   ],
   "source": [
    "# 100 . sentence=” hello world welcome to python”\n",
    "# Output: ’olleh dlrow emoclew ot nohtyp’\n",
    "st=\"hello world welcome to python\"\n",
    "res=\"\"\n",
    "l=\"\"\n",
    "for i in st:\n",
    "    if i!=\" \":\n",
    "        res+=i\n",
    "    else:\n",
    "        if len(res)>0:\n",
    "            l+=res[::-1]+' '\n",
    "            res=\"\"\n",
    "if len(res)>0:\n",
    "    l+=res[::-1]\n",
    "print(l)     \n",
    "\n",
    "\n"
   ]
  },
  {
   "cell_type": "code",
   "execution_count": 23,
   "metadata": {},
   "outputs": [
    {
     "name": "stdout",
     "output_type": "stream",
     "text": [
      "{'python': 1, 'is': 1, 'a': 1, 'programming': 1, 'language': 1}\n"
     ]
    }
   ],
   "source": [
    "# 101 sentence=” python is a programming language” (Using dictionary comprehension)\n",
    "# Output: {‘python’:1, is:1,’a’:1,’language’:1,’programming:1’}\n",
    "st=\"python is a programming language\"\n",
    "res=\"\"\n",
    "d={}\n",
    "for i in st:\n",
    "    if i!=' ':\n",
    "        res+=i\n",
    "    else:\n",
    "        if len(res)>0:\n",
    "            d[res]=1\n",
    "            res=\"\"\n",
    "if len(res)>0:\n",
    "    d[res]=1\n",
    "print(d)"
   ]
  },
  {
   "cell_type": "code",
   "execution_count": 25,
   "metadata": {},
   "outputs": [
    {
     "name": "stdout",
     "output_type": "stream",
     "text": [
      "['PYTHON', 'SCRIPTING', 'PROGRAMMING', 'LANGUAGE']\n"
     ]
    }
   ],
   "source": [
    "# 102 I/p:'PYTHON SCRIPTING PROGRAMMING LANGUAGE'\n",
    "# o/p:['PYTHON’,’SCRIPTING’, ‘PROGRAMMING’,’ LANGUAGE']\n",
    "st=\"PYTHON SCRIPTING PROGRAMMING LANGUAGE\"\n",
    "res=\"\"\n",
    "l=[]\n",
    "for i in st:\n",
    "    if i!=\" \":\n",
    "        res+=i\n",
    "    else:\n",
    "        if len(res)>0:\n",
    "            l+=[res]\n",
    "            res=\"\"\n",
    "if len(res)>0:\n",
    "    l+=[res]\n",
    "print(l)     \n",
    "\n"
   ]
  }
 ],
 "metadata": {
  "kernelspec": {
   "display_name": "Python 3",
   "language": "python",
   "name": "python3"
  },
  "language_info": {
   "codemirror_mode": {
    "name": "ipython",
    "version": 3
   },
   "file_extension": ".py",
   "mimetype": "text/x-python",
   "name": "python",
   "nbconvert_exporter": "python",
   "pygments_lexer": "ipython3",
   "version": "3.11.4"
  },
  "orig_nbformat": 4
 },
 "nbformat": 4,
 "nbformat_minor": 2
}
