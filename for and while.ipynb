{
 "cells": [
  {
   "cell_type": "code",
   "execution_count": 24,
   "metadata": {},
   "outputs": [
    {
     "name": "stdout",
     "output_type": "stream",
     "text": [
      "a\n",
      "S\n",
      "D\n",
      "E\n",
      "R\n",
      "2\n",
      "3\n"
     ]
    }
   ],
   "source": [
    "# 1 wap to print all the items present in the string between the range from m to n\n",
    "st='sraSDER2345&*()'\n",
    "for i in range(2,9):\n",
    "    print(st[i])"
   ]
  },
  {
   "cell_type": "code",
   "execution_count": 2,
   "metadata": {},
   "outputs": [
    {
     "name": "stdout",
     "output_type": "stream",
     "text": [
      "P\n",
      "Y\n",
      "T\n",
      "C\n",
      "O\n"
     ]
    }
   ],
   "source": [
    "# 2 wap to print the uppercase cht in given string\n",
    "st=\"PYTon is my COurs245\"\n",
    "for i in st:\n",
    "    if 'A'<=i<='Z':\n",
    "        print(i)"
   ]
  },
  {
   "cell_type": "code",
   "execution_count": 3,
   "metadata": {},
   "outputs": [
    {
     "name": "stdout",
     "output_type": "stream",
     "text": [
      "o\n",
      "n\n",
      "i\n",
      "s\n",
      "m\n",
      "y\n",
      "u\n",
      "r\n",
      "s\n"
     ]
    }
   ],
   "source": [
    "# 3 wap to print the lowercase cht in given string\n",
    "st=\"PYTon is my COurs245\"\n",
    "for i in st:\n",
    "    if 'a'<=i<='z':\n",
    "        print(i)\n"
   ]
  },
  {
   "cell_type": "code",
   "execution_count": 4,
   "metadata": {},
   "outputs": [
    {
     "name": "stdout",
     "output_type": "stream",
     "text": [
      "2\n",
      "4\n",
      "5\n"
     ]
    }
   ],
   "source": [
    "# 4 wap to print the ascii number char in given string\n",
    "st=\"PYTon is my COurs245\"\n",
    "for i in st:\n",
    "    if '0'<=i<='9':\n",
    "        print(i)"
   ]
  },
  {
   "cell_type": "code",
   "execution_count": 9,
   "metadata": {},
   "outputs": [
    {
     "name": "stdout",
     "output_type": "stream",
     "text": [
      "#\n",
      "&\n",
      "*\n",
      "!\n"
     ]
    }
   ],
   "source": [
    "# 5 wap to print the special char in given string\n",
    "st=\"pyth#&o*!nFD356\"\n",
    "for i in st:\n",
    "    if not('A'<=i<='z' or 'a'<=i<='z' or '0'<=i<='9'):\n",
    "        print(i)"
   ]
  },
  {
   "cell_type": "code",
   "execution_count": 10,
   "metadata": {},
   "outputs": [
    {
     "name": "stdout",
     "output_type": "stream",
     "text": [
      "O\n",
      "e\n",
      "e\n",
      "i\n",
      "o\n"
     ]
    }
   ],
   "source": [
    "# 6 wap to print the vowels in given string\n",
    "st=\"XCOleection\"\n",
    "for i in st:\n",
    "    if i in 'AEIOUaeiou':\n",
    "        print(i)"
   ]
  },
  {
   "cell_type": "code",
   "execution_count": 12,
   "metadata": {},
   "outputs": [
    {
     "name": "stdout",
     "output_type": "stream",
     "text": [
      "X\n",
      "C\n",
      "l\n",
      "c\n",
      "t\n",
      "n\n",
      "p\n",
      "y\n",
      "t\n",
      "h\n",
      "n\n"
     ]
    }
   ],
   "source": [
    "# 7 wap to print the consonants in given string\n",
    "st=\"XCOleectionpython\"\n",
    "for i in st:\n",
    "    if i not in 'AEIOUaeiou':\n",
    "        print(i)"
   ]
  },
  {
   "cell_type": "code",
   "execution_count": 15,
   "metadata": {},
   "outputs": [
    {
     "name": "stdout",
     "output_type": "stream",
     "text": [
      "eibrab olleh\n"
     ]
    }
   ],
   "source": [
    "# 8 wap to print the reverse of the char in a given string without slicing\n",
    "st=\"hello barbie\"\n",
    "rev=\"\"\n",
    "for i in st:\n",
    "    rev=i+rev\n",
    "print(rev)\n"
   ]
  },
  {
   "cell_type": "code",
   "execution_count": 16,
   "metadata": {},
   "outputs": [
    {
     "name": "stdout",
     "output_type": "stream",
     "text": [
      "h\n",
      "l\n",
      "o\n",
      "b\n",
      "r\n",
      "i\n"
     ]
    }
   ],
   "source": [
    "# 9 WAP to print even position values characters in a given string.\n",
    "st=\"hello barbie\"\n",
    "for i in range(0,len(st)):\n",
    "    if i%2==0:\n",
    "        print(st[i])"
   ]
  },
  {
   "cell_type": "code",
   "execution_count": 17,
   "metadata": {},
   "outputs": [
    {
     "name": "stdout",
     "output_type": "stream",
     "text": [
      "e\n",
      "l\n",
      " \n",
      "a\n",
      "b\n",
      "e\n"
     ]
    }
   ],
   "source": [
    "# 10 WAP to print odd position values characters in a given string.\n",
    "st=\"hello barbie\"\n",
    "for i in range(0,len(st)):\n",
    "    if i%2!=0:\n",
    "        print(st[i])"
   ]
  },
  {
   "cell_type": "code",
   "execution_count": 19,
   "metadata": {},
   "outputs": [
    {
     "name": "stdout",
     "output_type": "stream",
     "text": [
      "6\n"
     ]
    }
   ],
   "source": [
    "# 11 WAP to count the total Number of characters in a given string.(withlength function)\n",
    "st=\"jailer\"\n",
    "count=0\n",
    "for i in range(len(st)):\n",
    "    count+=1\n",
    "print(count)"
   ]
  },
  {
   "cell_type": "code",
   "execution_count": 20,
   "metadata": {},
   "outputs": [
    {
     "name": "stdout",
     "output_type": "stream",
     "text": [
      "25\n"
     ]
    }
   ],
   "source": [
    "# 12 WAP to count the total Number of characters in a given string.(without length function)\n",
    "st=\"mr polisheety miss shetty\"\n",
    "count=0\n",
    "for i in st:\n",
    "    count+=1\n",
    "print(count)"
   ]
  },
  {
   "cell_type": "code",
   "execution_count": 22,
   "metadata": {},
   "outputs": [
    {
     "name": "stdout",
     "output_type": "stream",
     "text": [
      "22\n"
     ]
    }
   ],
   "source": [
    "# 13 WAP to count alphabets in a given string.\n",
    "st=\"mr polisheety miss shetty\"\n",
    "count=0\n",
    "for i in st:\n",
    "    if 'A'<=i<='z' or 'a'<=i<='z':\n",
    "        count+=1\n",
    "print(count)"
   ]
  },
  {
   "cell_type": "code",
   "execution_count": 25,
   "metadata": {},
   "outputs": [
    {
     "name": "stdout",
     "output_type": "stream",
     "text": [
      "3\n"
     ]
    }
   ],
   "source": [
    "# 14 WAP to count Number of uppercase in a given string.\n",
    "st=\"hEllo baRbiE\"\n",
    "count=0\n",
    "for i in st:\n",
    "    if 'A'<=i<='Z':\n",
    "        count+=1\n",
    "print(count)"
   ]
  },
  {
   "cell_type": "code",
   "execution_count": 26,
   "metadata": {},
   "outputs": [
    {
     "name": "stdout",
     "output_type": "stream",
     "text": [
      "8\n"
     ]
    }
   ],
   "source": [
    "# 15 WAP to count lowercase in a given string.\n",
    "st=\"hEllo baRbiE\"\n",
    "count=0\n",
    "for i in st:\n",
    "    if 'a'<=i<='z':\n",
    "        count+=1\n",
    "print(count)"
   ]
  },
  {
   "cell_type": "code",
   "execution_count": 27,
   "metadata": {},
   "outputs": [
    {
     "name": "stdout",
     "output_type": "stream",
     "text": [
      "4\n"
     ]
    }
   ],
   "source": [
    "# 16 WAP to count Number of special symbols in a given string.\n",
    "st=\"pyth#&o*!nFD356\"\n",
    "count=0\n",
    "for i in st:\n",
    "    if not('A'<=i<'Z' or 'a'<=i<='z' or '0'<=i<='9'):\n",
    "        count+=1\n",
    "print(count)"
   ]
  },
  {
   "cell_type": "code",
   "execution_count": 37,
   "metadata": {},
   "outputs": [
    {
     "name": "stdout",
     "output_type": "stream",
     "text": [
      "4 10\n"
     ]
    }
   ],
   "source": [
    "# 17 WAP to count uppercase and lowercase in a given string.\n",
    "s=\"SRavaNI235#$%678pkjbvfb\"\n",
    "upcount=0\n",
    "lowcount=0\n",
    "for i in s:\n",
    "    if 'A'<=i<='Z':\n",
    "        upcount+=1\n",
    "    elif 'a'<=i<='z':\n",
    "        lowcount+=1\n",
    "print(upcount,lowcount)"
   ]
  },
  {
   "cell_type": "code",
   "execution_count": 30,
   "metadata": {},
   "outputs": [
    {
     "name": "stdout",
     "output_type": "stream",
     "text": [
      "6\n"
     ]
    }
   ],
   "source": [
    "# 18 WAP to count Number of ascii numbers in a given string.\n",
    "s='SRavaNI235#$%678pkjbvfb'\n",
    "count=0\n",
    "for i in s:\n",
    "    if '0'<i<='9':\n",
    "        count+=1\n",
    "print(count)"
   ]
  },
  {
   "cell_type": "code",
   "execution_count": 39,
   "metadata": {},
   "outputs": [
    {
     "name": "stdout",
     "output_type": "stream",
     "text": [
      "['disney', 'world'] 2\n"
     ]
    }
   ],
   "source": [
    "# 19 WAP to Count Total Number of Words in a String.\n",
    "st=' disney world'\n",
    "s=\"\"\n",
    "l=[]\n",
    "for i in st:\n",
    "    if i!=\" \":\n",
    "        s+=i\n",
    "    else:\n",
    "        if len(s)>0:\n",
    "            l+=[s]\n",
    "            s=\"\"\n",
    "if len(s)>0:\n",
    "    l+=[s]\n",
    "    s=\"\"\n",
    "print(l,len(l))\n"
   ]
  },
  {
   "cell_type": "code",
   "execution_count": 33,
   "metadata": {},
   "outputs": [
    {
     "name": "stdout",
     "output_type": "stream",
     "text": [
      "3\n"
     ]
    }
   ],
   "source": [
    "# 20 WAP to Count Total Number of spaces in a String.\n",
    "st=' disney world '\n",
    "count=0\n",
    "for i in st:\n",
    "    if i==\" \":\n",
    "        count+=1\n",
    "print(count)"
   ]
  },
  {
   "cell_type": "code",
   "execution_count": 34,
   "metadata": {},
   "outputs": [
    {
     "name": "stdout",
     "output_type": "stream",
     "text": [
      "3\n"
     ]
    }
   ],
   "source": [
    "# 21 WAP to Count Vowels in a String.\n",
    "st=\"mommdasd3boss\"\n",
    "c=0\n",
    "for i in st:\n",
    "    if i in'AEIOUaeiou':\n",
    "        c+=1\n",
    "print(c)"
   ]
  },
  {
   "cell_type": "code",
   "execution_count": 35,
   "metadata": {},
   "outputs": [
    {
     "name": "stdout",
     "output_type": "stream",
     "text": [
      "10\n"
     ]
    }
   ],
   "source": [
    "# 22 WAP to Count consonants in a String.\n",
    "st=\"mommdasd3boss\"\n",
    "c=0\n",
    "for i in st:\n",
    "    if i not in'AEIOUaeiou':\n",
    "        c+=1\n",
    "print(c)"
   ]
  },
  {
   "cell_type": "code",
   "execution_count": 36,
   "metadata": {},
   "outputs": [
    {
     "name": "stdout",
     "output_type": "stream",
     "text": [
      "3\n",
      "10\n"
     ]
    }
   ],
   "source": [
    "# 23 WAP to Count Vowels and Consonants in a String.\n",
    "st=\"mommdasd3boss\"\n",
    "v=0\n",
    "c=0\n",
    "for i in st:\n",
    "    if i in 'aeiouAEIOU':\n",
    "        v+=1\n",
    "    elif i not in 'AEIOUaeiou':\n",
    "        c+=1\n",
    "print(v)\n",
    "print(c)"
   ]
  },
  {
   "cell_type": "code",
   "execution_count": 46,
   "metadata": {},
   "outputs": [
    {
     "name": "stdout",
     "output_type": "stream",
     "text": [
      "2\n"
     ]
    }
   ],
   "source": [
    "#24 WAP to count Number of new lines in a given string\n",
    "n=\"qwety\\nwqeasdf\\nwsgdfhv\\nwefg\"\n",
    "c=0\n",
    "sp='\\n'\n",
    "for i in n:\n",
    "    if i==sp:\n",
    "        c+=1\n",
    "print(c-1)                                       # new lines means except fist line"
   ]
  },
  {
   "cell_type": "code",
   "execution_count": null,
   "metadata": {},
   "outputs": [],
   "source": [
    "# 25 WAP to count Number of lines in a given string.\n",
    "n=\"qwety\\nwqeasdf\\nwsgdfhv\\nwefg\"\n",
    "c=0\n",
    "for i in n:\n",
    "    if i=='\\n':\n",
    "        c+=1\n",
    "print(c)                                       "
   ]
  }
 ],
 "metadata": {
  "kernelspec": {
   "display_name": "Python 3",
   "language": "python",
   "name": "python3"
  },
  "language_info": {
   "codemirror_mode": {
    "name": "ipython",
    "version": 3
   },
   "file_extension": ".py",
   "mimetype": "text/x-python",
   "name": "python",
   "nbconvert_exporter": "python",
   "pygments_lexer": "ipython3",
   "version": "3.11.4"
  },
  "orig_nbformat": 4
 },
 "nbformat": 4,
 "nbformat_minor": 2
}
