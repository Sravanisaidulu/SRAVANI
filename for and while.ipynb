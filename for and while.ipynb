{
 "cells": [
  {
   "cell_type": "code",
   "execution_count": 24,
   "metadata": {},
   "outputs": [
    {
     "name": "stdout",
     "output_type": "stream",
     "text": [
      "a\n",
      "S\n",
      "D\n",
      "E\n",
      "R\n",
      "2\n",
      "3\n"
     ]
    }
   ],
   "source": [
    "# 1 wap to print all the items present in the string between the range from m to n\n",
    "st='sraSDER2345&*()'\n",
    "for i in range(2,9):\n",
    "    print(st[i])"
   ]
  },
  {
   "cell_type": "code",
   "execution_count": 2,
   "metadata": {},
   "outputs": [
    {
     "name": "stdout",
     "output_type": "stream",
     "text": [
      "P\n",
      "Y\n",
      "T\n",
      "C\n",
      "O\n"
     ]
    }
   ],
   "source": [
    "# 2 wap to print the uppercase cht in given string\n",
    "st=\"PYTon is my COurs245\"\n",
    "for i in st:\n",
    "    if 'A'<=i<='Z':\n",
    "        print(i)"
   ]
  },
  {
   "cell_type": "code",
   "execution_count": 3,
   "metadata": {},
   "outputs": [
    {
     "name": "stdout",
     "output_type": "stream",
     "text": [
      "o\n",
      "n\n",
      "i\n",
      "s\n",
      "m\n",
      "y\n",
      "u\n",
      "r\n",
      "s\n"
     ]
    }
   ],
   "source": [
    "# 3 wap to print the lowercase cht in given string\n",
    "st=\"PYTon is my COurs245\"\n",
    "for i in st:\n",
    "    if 'a'<=i<='z':\n",
    "        print(i)\n"
   ]
  },
  {
   "cell_type": "code",
   "execution_count": 4,
   "metadata": {},
   "outputs": [
    {
     "name": "stdout",
     "output_type": "stream",
     "text": [
      "2\n",
      "4\n",
      "5\n"
     ]
    }
   ],
   "source": [
    "# 4 wap to print the ascii number char in given string\n",
    "st=\"PYTon is my COurs245\"\n",
    "for i in st:\n",
    "    if '0'<=i<='9':\n",
    "        print(i)"
   ]
  },
  {
   "cell_type": "code",
   "execution_count": 9,
   "metadata": {},
   "outputs": [
    {
     "name": "stdout",
     "output_type": "stream",
     "text": [
      "#\n",
      "&\n",
      "*\n",
      "!\n"
     ]
    }
   ],
   "source": [
    "# 5 wap to print the special char in given string\n",
    "st=\"pyth#&o*!nFD356\"\n",
    "for i in st:\n",
    "    if not('A'<=i<='z' or 'a'<=i<='z' or '0'<=i<='9'):\n",
    "        print(i)"
   ]
  },
  {
   "cell_type": "code",
   "execution_count": 10,
   "metadata": {},
   "outputs": [
    {
     "name": "stdout",
     "output_type": "stream",
     "text": [
      "O\n",
      "e\n",
      "e\n",
      "i\n",
      "o\n"
     ]
    }
   ],
   "source": [
    "# 6 wap to print the vowels in given string\n",
    "st=\"XCOleection\"\n",
    "for i in st:\n",
    "    if i in 'AEIOUaeiou':\n",
    "        print(i)"
   ]
  },
  {
   "cell_type": "code",
   "execution_count": 12,
   "metadata": {},
   "outputs": [
    {
     "name": "stdout",
     "output_type": "stream",
     "text": [
      "X\n",
      "C\n",
      "l\n",
      "c\n",
      "t\n",
      "n\n",
      "p\n",
      "y\n",
      "t\n",
      "h\n",
      "n\n"
     ]
    }
   ],
   "source": [
    "# 7 wap to print the consonants in given string\n",
    "st=\"XCOleectionpython\"\n",
    "for i in st:\n",
    "    if i not in 'AEIOUaeiou':\n",
    "        print(i)"
   ]
  },
  {
   "cell_type": "code",
   "execution_count": 15,
   "metadata": {},
   "outputs": [
    {
     "name": "stdout",
     "output_type": "stream",
     "text": [
      "eibrab olleh\n"
     ]
    }
   ],
   "source": [
    "# 8 wap to print the reverse of the char in a given string without slicing\n",
    "st=\"hello barbie\"\n",
    "rev=\"\"\n",
    "for i in st:\n",
    "    rev=i+rev\n",
    "print(rev)\n"
   ]
  },
  {
   "cell_type": "code",
   "execution_count": 16,
   "metadata": {},
   "outputs": [
    {
     "name": "stdout",
     "output_type": "stream",
     "text": [
      "h\n",
      "l\n",
      "o\n",
      "b\n",
      "r\n",
      "i\n"
     ]
    }
   ],
   "source": [
    "# 9 WAP to print even position values characters in a given string.\n",
    "st=\"hello barbie\"\n",
    "for i in range(0,len(st)):\n",
    "    if i%2==0:\n",
    "        print(st[i])"
   ]
  },
  {
   "cell_type": "code",
   "execution_count": 17,
   "metadata": {},
   "outputs": [
    {
     "name": "stdout",
     "output_type": "stream",
     "text": [
      "e\n",
      "l\n",
      " \n",
      "a\n",
      "b\n",
      "e\n"
     ]
    }
   ],
   "source": [
    "# 10 WAP to print odd position values characters in a given string.\n",
    "st=\"hello barbie\"\n",
    "for i in range(0,len(st)):\n",
    "    if i%2!=0:\n",
    "        print(st[i])"
   ]
  },
  {
   "cell_type": "code",
   "execution_count": 19,
   "metadata": {},
   "outputs": [
    {
     "name": "stdout",
     "output_type": "stream",
     "text": [
      "6\n"
     ]
    }
   ],
   "source": [
    "# 11 WAP to count the total Number of characters in a given string.(withlength function)\n",
    "st=\"jailer\"\n",
    "count=0\n",
    "for i in range(len(st)):\n",
    "    count+=1\n",
    "print(count)"
   ]
  },
  {
   "cell_type": "code",
   "execution_count": 20,
   "metadata": {},
   "outputs": [
    {
     "name": "stdout",
     "output_type": "stream",
     "text": [
      "25\n"
     ]
    }
   ],
   "source": [
    "# 12 WAP to count the total Number of characters in a given string.(without length function)\n",
    "st=\"mr polisheety miss shetty\"\n",
    "count=0\n",
    "for i in st:\n",
    "    count+=1\n",
    "print(count)"
   ]
  },
  {
   "cell_type": "code",
   "execution_count": 22,
   "metadata": {},
   "outputs": [
    {
     "name": "stdout",
     "output_type": "stream",
     "text": [
      "22\n"
     ]
    }
   ],
   "source": [
    "# 13 WAP to count alphabets in a given string.\n",
    "st=\"mr polisheety miss shetty\"\n",
    "count=0\n",
    "for i in st:\n",
    "    if 'A'<=i<='z' or 'a'<=i<='z':\n",
    "        count+=1\n",
    "print(count)"
   ]
  },
  {
   "cell_type": "code",
   "execution_count": 25,
   "metadata": {},
   "outputs": [
    {
     "name": "stdout",
     "output_type": "stream",
     "text": [
      "3\n"
     ]
    }
   ],
   "source": [
    "# 14 WAP to count Number of uppercase in a given string.\n",
    "st=\"hEllo baRbiE\"\n",
    "count=0\n",
    "for i in st:\n",
    "    if 'A'<=i<='Z':\n",
    "        count+=1\n",
    "print(count)"
   ]
  },
  {
   "cell_type": "code",
   "execution_count": 26,
   "metadata": {},
   "outputs": [
    {
     "name": "stdout",
     "output_type": "stream",
     "text": [
      "8\n"
     ]
    }
   ],
   "source": [
    "# 15 WAP to count lowercase in a given string.\n",
    "st=\"hEllo baRbiE\"\n",
    "count=0\n",
    "for i in st:\n",
    "    if 'a'<=i<='z':\n",
    "        count+=1\n",
    "print(count)"
   ]
  },
  {
   "cell_type": "code",
   "execution_count": 27,
   "metadata": {},
   "outputs": [
    {
     "name": "stdout",
     "output_type": "stream",
     "text": [
      "4\n"
     ]
    }
   ],
   "source": [
    "# 16 WAP to count Number of special symbols in a given string.\n",
    "st=\"pyth#&o*!nFD356\"\n",
    "count=0\n",
    "for i in st:\n",
    "    if not('A'<=i<'Z' or 'a'<=i<='z' or '0'<=i<='9'):\n",
    "        count+=1\n",
    "print(count)"
   ]
  },
  {
   "cell_type": "code",
   "execution_count": 37,
   "metadata": {},
   "outputs": [
    {
     "name": "stdout",
     "output_type": "stream",
     "text": [
      "4 10\n"
     ]
    }
   ],
   "source": [
    "# 17 WAP to count uppercase and lowercase in a given string.\n",
    "s=\"SRavaNI235#$%678pkjbvfb\"\n",
    "upcount=0\n",
    "lowcount=0\n",
    "for i in s:\n",
    "    if 'A'<=i<='Z':\n",
    "        upcount+=1\n",
    "    elif 'a'<=i<='z':\n",
    "        lowcount+=1\n",
    "print(upcount,lowcount)"
   ]
  },
  {
   "cell_type": "code",
   "execution_count": 30,
   "metadata": {},
   "outputs": [
    {
     "name": "stdout",
     "output_type": "stream",
     "text": [
      "6\n"
     ]
    }
   ],
   "source": [
    "# 18 WAP to count Number of ascii numbers in a given string.\n",
    "s='SRavaNI235#$%678pkjbvfb'\n",
    "count=0\n",
    "for i in s:\n",
    "    if '0'<i<='9':\n",
    "        count+=1\n",
    "print(count)"
   ]
  },
  {
   "cell_type": "code",
   "execution_count": 39,
   "metadata": {},
   "outputs": [
    {
     "name": "stdout",
     "output_type": "stream",
     "text": [
      "['disney', 'world'] 2\n"
     ]
    }
   ],
   "source": [
    "# 19 WAP to Count Total Number of Words in a String.\n",
    "st=' disney world'\n",
    "s=\"\"\n",
    "l=[]\n",
    "for i in st:\n",
    "    if i!=\" \":\n",
    "        s+=i\n",
    "    else:\n",
    "        if len(s)>0:\n",
    "            l+=[s]\n",
    "            s=\"\"\n",
    "if len(s)>0:\n",
    "    l+=[s]\n",
    "    s=\"\"\n",
    "print(l,len(l))\n"
   ]
  },
  {
   "cell_type": "code",
   "execution_count": 33,
   "metadata": {},
   "outputs": [
    {
     "name": "stdout",
     "output_type": "stream",
     "text": [
      "3\n"
     ]
    }
   ],
   "source": [
    "# 20 WAP to Count Total Number of spaces in a String.\n",
    "st=' disney world '\n",
    "count=0\n",
    "for i in st:\n",
    "    if i==\" \":\n",
    "        count+=1\n",
    "print(count)"
   ]
  },
  {
   "cell_type": "code",
   "execution_count": 34,
   "metadata": {},
   "outputs": [
    {
     "name": "stdout",
     "output_type": "stream",
     "text": [
      "3\n"
     ]
    }
   ],
   "source": [
    "# 21 WAP to Count Vowels in a String.\n",
    "st=\"mommdasd3boss\"\n",
    "c=0\n",
    "for i in st:\n",
    "    if i in'AEIOUaeiou':\n",
    "        c+=1\n",
    "print(c)"
   ]
  },
  {
   "cell_type": "code",
   "execution_count": 35,
   "metadata": {},
   "outputs": [
    {
     "name": "stdout",
     "output_type": "stream",
     "text": [
      "10\n"
     ]
    }
   ],
   "source": [
    "# 22 WAP to Count consonants in a String.\n",
    "st=\"mommdasd3boss\"\n",
    "c=0\n",
    "for i in st:\n",
    "    if i not in'AEIOUaeiou':\n",
    "        c+=1\n",
    "print(c)"
   ]
  },
  {
   "cell_type": "code",
   "execution_count": 36,
   "metadata": {},
   "outputs": [
    {
     "name": "stdout",
     "output_type": "stream",
     "text": [
      "3\n",
      "10\n"
     ]
    }
   ],
   "source": [
    "# 23 WAP to Count Vowels and Consonants in a String.\n",
    "st=\"mommdasd3boss\"\n",
    "v=0\n",
    "c=0\n",
    "for i in st:\n",
    "    if i in 'aeiouAEIOU':\n",
    "        v+=1\n",
    "    elif i not in 'AEIOUaeiou':\n",
    "        c+=1\n",
    "print(v)\n",
    "print(c)"
   ]
  },
  {
   "cell_type": "code",
   "execution_count": 46,
   "metadata": {},
   "outputs": [
    {
     "name": "stdout",
     "output_type": "stream",
     "text": [
      "2\n"
     ]
    }
   ],
   "source": [
    "#24 WAP to count Number of new lines in a given string\n",
    "n=\"qwety\\nwqeasdf\\nwsgdfhv\\nwefg\"\n",
    "c=0\n",
    "sp='\\n'\n",
    "for i in n:\n",
    "    if i==sp:\n",
    "        c+=1\n",
    "print(c-1)                                       # new lines means except fist line"
   ]
  },
  {
   "cell_type": "code",
   "execution_count": 47,
   "metadata": {},
   "outputs": [
    {
     "name": "stdout",
     "output_type": "stream",
     "text": [
      "3\n"
     ]
    }
   ],
   "source": [
    "# 25 WAP to count Number of lines in a given string.\n",
    "n=\"qwety\\nwqeasdf\\nwsgdfhv\\nwefg\"\n",
    "c=0\n",
    "for i in n:\n",
    "    if i=='\\n':\n",
    "        c+=1\n",
    "print(c)                                       "
   ]
  },
  {
   "cell_type": "code",
   "execution_count": 1,
   "metadata": {},
   "outputs": [
    {
     "name": "stdout",
     "output_type": "stream",
     "text": [
      "14\n",
      "6\n",
      "3\n"
     ]
    }
   ],
   "source": [
    "# 26 WAP to count no of alphabets, numbers, and special characters in a given string.\n",
    "s=\"SRavaNI235#$%678pkjbvfb\"\n",
    "alp,num,spe=0,0,0\n",
    "for i in s:\n",
    "    if 'A'<=i<='Z'or 'a'<=i<='z':\n",
    "        alp+=1\n",
    "    elif '0'<=i<='9':\n",
    "        num+=1\n",
    "    else:\n",
    "        spe+=1\n",
    "print(alp)\n",
    "print(num)\n",
    "print(spe)"
   ]
  },
  {
   "cell_type": "code",
   "execution_count": 5,
   "metadata": {},
   "outputs": [
    {
     "name": "stdout",
     "output_type": "stream",
     "text": [
      "4\n"
     ]
    }
   ],
   "source": [
    "# 27 WAP to Count Total no of words in a first line of the Doc String.\n",
    "n=\" qwety python ganesh anaka \\nwqeasdf wqer\\nwsgdfhv\\nwefg\"\n",
    "res=\"\"\n",
    "for i in range(0,len(n)):\n",
    "    if n[i]=='\\n':\n",
    "        res+=n[0:i]\n",
    "        break\n",
    "st=\"\"\n",
    "l=[]\n",
    "for x in res:\n",
    "    if x!=\" \":\n",
    "        st+=x\n",
    "    else:\n",
    "        if len(st)>0:\n",
    "            l+=[st]\n",
    "            st=\"\"\n",
    "if len(st)>0:\n",
    "    l+=[st]\n",
    "print(len(l))\n",
    "            \n",
    "\n",
    "\n"
   ]
  },
  {
   "cell_type": "code",
   "execution_count": 6,
   "metadata": {},
   "outputs": [
    {
     "name": "stdout",
     "output_type": "stream",
     "text": [
      "16\n"
     ]
    }
   ],
   "source": [
    "# 28 WAP to sum of digits in a given string\n",
    "st=\"sravani 29 12 2000 dob\"\n",
    "sum=0\n",
    "for x in st:\n",
    "    if '0'<=x<='9':\n",
    "        sum+=int(x)\n",
    "print(sum)"
   ]
  },
  {
   "cell_type": "code",
   "execution_count": 8,
   "metadata": {},
   "outputs": [
    {
     "name": "stdout",
     "output_type": "stream",
     "text": [
      "{'p': 1, 'r': 2, 'o': 1, 'g': 5, 'a': 3, 'm': 2, 'i': 1, 'n': 2, ' ': 1, 'l': 1, 'u': 1, 'e': 1}\n",
      "r\n"
     ]
    }
   ],
   "source": [
    "# 29 WAP to Print First Occurrence of a Character in a String.\n",
    "s=\"programming langugage\"\n",
    "d={}\n",
    "for x in s:\n",
    "    if x not in d:\n",
    "        d[x]=1\n",
    "    else:\n",
    "        d[x]+=1\n",
    "print(d)\n",
    "l=list(d)\n",
    "for i in l:\n",
    "    if d[i]>1:\n",
    "        print(i)\n",
    "        break"
   ]
  },
  {
   "cell_type": "code",
   "execution_count": 12,
   "metadata": {},
   "outputs": [
    {
     "name": "stdout",
     "output_type": "stream",
     "text": [
      "{'p': 1, 'r': 2, 'o': 1, 'g': 5, 'a': 3, 'm': 2, 'i': 1, 'n': 2, ' ': 1, 'l': 1, 'u': 1, 'e': 1}\n",
      "['r', 'g', 'a', 'm', 'n']\n",
      "n\n"
     ]
    }
   ],
   "source": [
    "# 30 WAP to Print Last Occurrence of a Character in a String.\n",
    "s=\"programming langugage\"\n",
    "d={}\n",
    "for x in s:\n",
    "    if x not in d:\n",
    "        d[x]=1\n",
    "    else:\n",
    "        d[x]+=1\n",
    "print(d)\n",
    "l=list(d)\n",
    "x=[]\n",
    "for i in l:\n",
    "    if d[i]>1:\n",
    "        x+=[i]\n",
    "print(x)\n",
    "print(x[-1])"
   ]
  },
  {
   "cell_type": "code",
   "execution_count": 15,
   "metadata": {},
   "outputs": [
    {
     "name": "stdout",
     "output_type": "stream",
     "text": [
      "{'p': 1, 'r': 2, 'o': 1, 'g': 5, 'a': 3, 'm': 2, 'i': 1, 'n': 2, ' ': 1, 'l': 1, 'u': 1, 'e': 1}\n",
      "p\n"
     ]
    }
   ],
   "source": [
    "# 31 WAP to Print First not Occurrence of a Character in a String.\n",
    "s=\"programming langugage\"\n",
    "d={}\n",
    "for x in s:\n",
    "    if x not in d:\n",
    "        d[x]=1\n",
    "    else:\n",
    "        d[x]+=1\n",
    "print(d)\n",
    "l=list(d)\n",
    "for m in l:\n",
    "    if d[m]==1:\n",
    "        print(m)\n",
    "        break"
   ]
  },
  {
   "cell_type": "code",
   "execution_count": 16,
   "metadata": {},
   "outputs": [
    {
     "name": "stdout",
     "output_type": "stream",
     "text": [
      "{'p': 1, 'r': 2, 'o': 1, 'g': 5, 'a': 3, 'm': 2, 'i': 1, 'n': 2, ' ': 1, 'l': 1, 'u': 1, 'e': 1}\n",
      "e\n"
     ]
    }
   ],
   "source": [
    "# 32 WAP to Print last not Occurrence of a Character in a String.\n",
    "s=\"programming langugage\"\n",
    "d={}\n",
    "for x in s:\n",
    "    if x not in d:\n",
    "        d[x]=1\n",
    "    else:\n",
    "        d[x]+=1\n",
    "print(d)\n",
    "l=list(d)\n",
    "x=[]\n",
    "for i in l:\n",
    "    if d[i]==1:\n",
    "        x+=[i]\n",
    "print(x[-1])"
   ]
  },
  {
   "cell_type": "code",
   "execution_count": 22,
   "metadata": {},
   "outputs": [
    {
     "name": "stdout",
     "output_type": "stream",
     "text": [
      "{'p': 1, 'r': 2, 'o': 1, 'g': 4, 'a': 3, 'm': 2, 'i': 1, 'n': 2, ' ': 1, 'l': 1, 'u': 1, 'e': 1}\n",
      "['p', 'r', 'o', 'g', 'a', 'm', 'i', 'n', ' ', 'l', 'u', 'e']\n",
      "['p', 'o', 'g', 'a', 'm', 'i', 'n', ' ', 'l', 'u', 'e']\n"
     ]
    }
   ],
   "source": [
    "# 33 WAP to Remove First Occurrence of a Character in a String.\n",
    "st=\"programming language\"\n",
    "uni={}\n",
    "for i in st:\n",
    "    if i not in uni:\n",
    "        uni[i]=1\n",
    "    else:\n",
    "        uni[i]+=1\n",
    "print(uni)\n",
    "l=list(uni)\n",
    "print(l)\n",
    "for x in range(len(l)):\n",
    "    if uni[l[x]]>1:\n",
    "        del l[x]\n",
    "        break\n",
    "print(l)\n"
   ]
  },
  {
   "cell_type": "code",
   "execution_count": 26,
   "metadata": {},
   "outputs": [
    {
     "name": "stdout",
     "output_type": "stream",
     "text": [
      "{'p': 1, 'r': 2, 'o': 1, 'g': 4, 'a': 3, 'm': 2, 'i': 1, 'n': 2, ' ': 1, 'l': 1, 'u': 1, 'e': 1}\n",
      "['r', 'g', 'a', 'm', 'n']\n",
      "['r', 'g', 'a', 'm']\n"
     ]
    }
   ],
   "source": [
    "# 34 WAP to Remove Last Occurred Character in a String.\n",
    "st=\"programming language\"\n",
    "d={}\n",
    "for i in st:\n",
    "    if i not in d:\n",
    "        d[i]=1\n",
    "    else:\n",
    "        d[i]+=1\n",
    "print(d)\n",
    "l=list(d)\n",
    "u=[]\n",
    "for x in range(0,len(l)):\n",
    "    if d[l[x]]>1:\n",
    "        u+=[l[x]]\n",
    "print(u)\n",
    "del u[-1]\n",
    "print(u)\n"
   ]
  },
  {
   "cell_type": "code",
   "execution_count": 2,
   "metadata": {},
   "outputs": [
    {
     "name": "stdout",
     "output_type": "stream",
     "text": [
      "2\n"
     ]
    }
   ],
   "source": [
    "# 35 WAP to count the occurrence of a specific character in a given string\n",
    "st=\"malayalam\"\n",
    "sp='m'\n",
    "c=0\n",
    "for i in st:\n",
    "    if i==sp:\n",
    "        c+=1\n",
    "print(c)"
   ]
  },
  {
   "cell_type": "code",
   "execution_count": 4,
   "metadata": {},
   "outputs": [
    {
     "name": "stdout",
     "output_type": "stream",
     "text": [
      "{'h': 2, 'e': 2, 'l': 3, 'i': 1, 'u': 5, 'm': 2, ' ': 3, 'b': 1, 'a': 3, 'o': 2, 'n': 1, 's': 2, 'k': 1, 'g': 1}\n",
      "u\n"
     ]
    }
   ],
   "source": [
    "# 36 WAP to count the max occurrence of a character in a given string.\n",
    "st=\"helium baloons make uslauuugh\"\n",
    "d={}\n",
    "for i in st:\n",
    "    if i not in d:\n",
    "        d[i]=1\n",
    "    else:\n",
    "        d[i]+=1\n",
    "print(d)\n",
    "l=list(d)\n",
    "small=0\n",
    "ch=None\n",
    "for x in range(len(l)):\n",
    "    if small<d[l[x]]:\n",
    "        small=d[l[x]]\n",
    "        ch=l[x]\n",
    "print(ch)"
   ]
  },
  {
   "cell_type": "code",
   "execution_count": 15,
   "metadata": {},
   "outputs": [
    {
     "name": "stdout",
     "output_type": "stream",
     "text": [
      "{'h': 2, 'e': 2, 'l': 3, 'i': 1, 'u': 5, 'm': 2, ' ': 3, 'b': 1, 'a': 3, 'o': 2, 'n': 1, 's': 2, 'k': 1, 'g': 1}\n",
      "5\n"
     ]
    }
   ],
   "source": [
    "# 37 WAP to count the min occurrence of a character in a given string.\n",
    "st=\"helium baloons make uslauuugh\"\n",
    "d={}\n",
    "for i in st:\n",
    "    if i not in d:\n",
    "        d[i]=1\n",
    "    else:\n",
    "        d[i]+=1\n",
    "print(d)\n",
    "l=list(d)\n",
    "min=9\n",
    "k=[]\n",
    "for x in l:\n",
    "    if d[x]<min and d[x]>1:\n",
    "        min=d[x]\n",
    "    if d[x]==min:\n",
    "        k+=x\n",
    "print(len(k))\n"
   ]
  },
  {
   "cell_type": "code",
   "execution_count": 16,
   "metadata": {},
   "outputs": [
    {
     "name": "stdout",
     "output_type": "stream",
     "text": [
      "1\n"
     ]
    }
   ],
   "source": [
    "# 38 WAP to count the repeats of a specific character in a given string.\n",
    "st=\"helium baloons make uslauuugh\"\n",
    "sp='o'\n",
    "c=0\n",
    "for i in st:\n",
    "    if i==sp:\n",
    "        c+=1\n",
    "print(c-1)\n"
   ]
  },
  {
   "cell_type": "code",
   "execution_count": 22,
   "metadata": {},
   "outputs": [
    {
     "name": "stdout",
     "output_type": "stream",
     "text": [
      "{'h': 2, 'e': 2, 'l': 3, 'i': 1, 'u': 5, 'm': 2, ' ': 3, 'b': 1, 'a': 3, 'o': 2, 'n': 1, 's': 2, 'k': 1, 'g': 1}\n",
      "1\n"
     ]
    }
   ],
   "source": [
    "# 39 WAP to count the max repeated character in a given string.\n",
    "st=\"helium baloons make uslauuugh\"\n",
    "d={}\n",
    "for x in st:\n",
    "    if x not in d:\n",
    "        d[x]=1\n",
    "    else:\n",
    "        d[x]+=1\n",
    "print(d)\n",
    "s=list(d)\n",
    "small=0\n",
    "for i in s:\n",
    "    if d[i]>small:\n",
    "        small=d[i]\n",
    "c=0\n",
    "for p in s:\n",
    "    if small==d[p]:\n",
    "        c+=1\n",
    "print(c)\n",
    "\n"
   ]
  },
  {
   "cell_type": "code",
   "execution_count": null,
   "metadata": {},
   "outputs": [],
   "source": [
    "# 40 WAP to count the min repeated character in a given string.\n",
    "st=\"helium baloons make uslauuugh\"\n",
    "d={}\n",
    "for i in st:\n",
    "    if i not in d:\n",
    "        d[i]=1\n",
    "    else:\n",
    "        d[i]+=1\n",
    "print(d)\n",
    "l=list(d)\n",
    "min=9\n",
    "k=[]\n",
    "for x in l:\n",
    "    if d[x]<min and d[x]>1:\n",
    "        min=d[x]\n",
    "    if d[x]==min:\n",
    "        k+=x\n",
    "print(len(k))"
   ]
  },
  {
   "cell_type": "code",
   "execution_count": 23,
   "metadata": {},
   "outputs": [
    {
     "name": "stdout",
     "output_type": "stream",
     "text": [
      "sea-witch\n"
     ]
    }
   ],
   "source": [
    "# 41 WAP to replace a specific character into a new character.\n",
    "s=\"sea witch\"\n",
    "sp=\" \"\n",
    "for i in range(len(s)):\n",
    "    if s[i]==sp:\n",
    "        s=s[0:i]+'-'+s[i+1:]\n",
    "print(s)\n"
   ]
  },
  {
   "cell_type": "code",
   "execution_count": 24,
   "metadata": {},
   "outputs": [
    {
     "name": "stdout",
     "output_type": "stream",
     "text": [
      "sea-witch\n"
     ]
    }
   ],
   "source": [
    "# without slicing\n",
    "s=\"sea witch\"\n",
    "sp=\" \"\n",
    "res=\"\"\n",
    "for i in s:\n",
    "    if i!=sp:\n",
    "        res+=i\n",
    "    else: \n",
    "        res+='-'\n",
    "print(res)\n",
    "    \n"
   ]
  },
  {
   "cell_type": "code",
   "execution_count": 25,
   "metadata": {},
   "outputs": [
    {
     "name": "stdout",
     "output_type": "stream",
     "text": [
      "HELLOO HII5W345#$5\n"
     ]
    }
   ],
   "source": [
    "# 42 WAP to convert lowercase to uppercase in a given string.\n",
    "st=\"hellOO Hii5w345#$5\"\n",
    "res=\"\"\n",
    "for i in st:\n",
    "    if 'a'<=i<='z':\n",
    "        res+=chr(ord(i)-32)\n",
    "    else:\n",
    "        res+=i\n",
    "print(res)"
   ]
  },
  {
   "cell_type": "code",
   "execution_count": 26,
   "metadata": {},
   "outputs": [
    {
     "name": "stdout",
     "output_type": "stream",
     "text": [
      "helloo hii5w345#$5\n"
     ]
    }
   ],
   "source": [
    "# 43 WAP to convert uppercase to lowercase in a given string.\n",
    "st=\"hellOO Hii5w345#$5\"\n",
    "res=\"\"\n",
    "for i in st:\n",
    "    if 'A'<=i<='Z':\n",
    "        res+=chr(ord(i)+32)\n",
    "    else:\n",
    "        res+=i\n",
    "print(res)\n"
   ]
  },
  {
   "cell_type": "code",
   "execution_count": 29,
   "metadata": {},
   "outputs": [
    {
     "name": "stdout",
     "output_type": "stream",
     "text": [
      "jmndl\n"
     ]
    }
   ],
   "source": [
    "# 44 WAP to convert uppercase to lowercase in even position characters in a given string.\n",
    "s=\"34JU$%MANjeaDBfdfgjOL.\"\n",
    "res=\"\"\n",
    "for i in range(len(s)):\n",
    "    if 'A'<=s[i]<='Z' and i%2==0:\n",
    "        res+=chr(ord(s[i])+32)\n",
    "\n",
    "print(res)\n"
   ]
  },
  {
   "cell_type": "code",
   "execution_count": 30,
   "metadata": {},
   "outputs": [
    {
     "name": "stdout",
     "output_type": "stream",
     "text": [
      "uabo\n"
     ]
    }
   ],
   "source": [
    "# 45 WAP to convert uppercase to lowercase in odd position characters in a given string.\n",
    "s=\"34JU$%MANjeaDBfdfgjOL.\"\n",
    "res=\"\"\n",
    "for i in range(len(s)):\n",
    "    if 'A'<=s[i]<='Z' and i%2!=0:\n",
    "        res+=chr(ord(s[i])+32)\n",
    "\n",
    "print(res)\n"
   ]
  },
  {
   "cell_type": "code",
   "execution_count": 31,
   "metadata": {},
   "outputs": [
    {
     "name": "stdout",
     "output_type": "stream",
     "text": [
      "34ju**manJEAdbFDFGJol*\n"
     ]
    }
   ],
   "source": [
    "# 46 WAP to convert the uppercase letter to lowercase letter and lowercase\n",
    "#letter to uppercase letter,if the character is special symbol replace with * for the given input string.\n",
    "s=\"34JU$%MANjeaDBfdfgjOL.\"\n",
    "res=\"\"\n",
    "for i in s:\n",
    "    if 'A'<=i<='Z':\n",
    "        res+=chr(ord(i)+32)\n",
    "    elif 'a'<=i<='z':\n",
    "        res+=chr(ord(i)-32)\n",
    "    elif '0'<=i<='9':\n",
    "        res+=i\n",
    "    else:\n",
    "        res+='*'\n",
    "print(res)"
   ]
  },
  {
   "cell_type": "code",
   "execution_count": null,
   "metadata": {},
   "outputs": [],
   "source": [
    "# 47 WAP to convert title case in a given string.\n"
   ]
  },
  {
   "cell_type": "code",
   "execution_count": 37,
   "metadata": {},
   "outputs": [
    {
     "name": "stdout",
     "output_type": "stream",
     "text": [
      "h_wd_123#$56\n"
     ]
    }
   ],
   "source": [
    "# 48 WAP to convert snake_case in a given string.\n",
    "s='Hello WorlD 123#$56'\n",
    "res=''\n",
    "for i in s:\n",
    "    if 'A'<=i<='z':\n",
    "        res+=chr(ord(i)+32)\n",
    "    elif i==\" \":\n",
    "        res+=\"_\"\n",
    "    else:\n",
    "        res+=i\n",
    "print(res)"
   ]
  },
  {
   "cell_type": "code",
   "execution_count": null,
   "metadata": {},
   "outputs": [],
   "source": [
    "# 49"
   ]
  }
 ],
 "metadata": {
  "kernelspec": {
   "display_name": "Python 3",
   "language": "python",
   "name": "python3"
  },
  "language_info": {
   "codemirror_mode": {
    "name": "ipython",
    "version": 3
   },
   "file_extension": ".py",
   "mimetype": "text/x-python",
   "name": "python",
   "nbconvert_exporter": "python",
   "pygments_lexer": "ipython3",
   "version": "3.11.4"
  },
  "orig_nbformat": 4
 },
 "nbformat": 4,
 "nbformat_minor": 2
}
