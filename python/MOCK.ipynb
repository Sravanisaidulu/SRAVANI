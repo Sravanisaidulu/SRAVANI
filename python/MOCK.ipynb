{
 "cells": [
  {
   "cell_type": "code",
   "execution_count": 4,
   "metadata": {},
   "outputs": [],
   "source": [
    "class student:\n",
    "    collegename='TKR'\n",
    "    clgadress='hyderabad'\n",
    "    clgid=2314\n",
    "    clgphone=94021349872\n",
    "    stud_count=0\n",
    "    stud_details={}\n",
    "    totalmarks=[]\n",
    "    \n",
    "    def __init__(self,studname,phone,email,adress,mark1,mark2,mark3):\n",
    "        self.studnmae=studname\n",
    "        self.phone=phone\n",
    "        self.email=email\n",
    "        self.adress=adress\n",
    "        self.mark1=mark1\n",
    "        self.mark2=mark2\n",
    "        self.mark3=mark3\n",
    "        self.percentage=((self.mark1+self.mark2+self.mark3)/300)*100\n",
    "        self.inc_stud_count()\n",
    "        self.stud_id=200+self.stud_count\n",
    "        self.conc_stud_details(self.stud_id,self)\n",
    "        #self.totalmarks+=[self.mark1,self.mark2,self.mark3]\n",
    "        #self.calculatetotal()\n",
    "    @classmethod\n",
    "    def inc_stud_count(cls):\n",
    "        cls.stud_count+=1\n",
    "    @classmethod\n",
    "    def conc_stud_details(cls,id,self):\n",
    "        cls.stud_details[id]=self\n",
    "    def modify_marks(self):\n",
    "        n=int(input('choose the option\\n1.mark1\\n2.mark2\\n3.mark3\\n4.exit'))\n",
    "        match n:\n",
    "            case 1:\n",
    "                self.mark1=int(input(\"enter new marks\"))\n",
    "            case 2:\n",
    "                self.mark2=int(input(\"enter new marks\"))\n",
    "            case 3:\n",
    "                self.mark3=int(input(\"enter the new marks\"))\n",
    "            case _:\n",
    "                return\n",
    "        print(self.mark1,self.mark2,self.mark3)\n",
    "        return self.modify_marks()\n",
    "    @classmethod\n",
    "    def change_school_phone(cls):\n",
    "        cls.clgphone=int(input(\"enter the new phone no\" ))\n",
    "        cls.sucess()\n",
    "    @staticmethod\n",
    "    def sucess():\n",
    "        print(\"phone changed sucessfuly\")\n",
    "    \n",
    "    def calculatetotal(self):\n",
    "        #sum=0\n",
    "        #for i in cls.totalmarks:\n",
    "            #sum+=i\n",
    "        #print(\"totalmarks:\",sum)\n",
    "        print(self.mark1+self.mark2+self.mark3)\n",
    "        return\n",
    "\n",
    "    \n",
    "    \n",
    "    def displaystuddetails(self):\n",
    "        print(self.stud_id,self.studnmae,self.percentage)\n",
    "    \n",
    "    \n",
    "    def display_specific_student(self):\n",
    "        n=int(input(\"enter the id\"))\n",
    "        if n in self.stud_details:\n",
    "        #for i in self.stud_details:\n",
    "            res=self.stud_details[n]\n",
    "            #if res.stud_id==n:\n",
    "            print(\"student name:\",res.studnmae)\n",
    "            print(\"student phone no:\",res.phone)\n",
    "            print(\"studen email:\",res.email)\n",
    "            print(\"student adress:\",res.adress)\n",
    "            print(\"student mark1:\",res.mark1)\n",
    "            print(\"student mark2:\", res.mark2)\n",
    "            print(\"student mark3:\",res.mark3)\n",
    "\n",
    "    \n",
    "    \n",
    "    @classmethod\n",
    "    def main(cls,self):\n",
    "        n=int(input(\"choose the opition\\n1.studdetails\\n2.specificsudent\\n3.calcutotal\\n4.chnagephone\\5.modifymarks\\n6.exit\"))\n",
    "        match n:\n",
    "            case 1:\n",
    "                self.displaystuddetails()\n",
    "            case 2:\n",
    "                self.display_specific_student()\n",
    "            case 3:\n",
    "                self.calculatetotal()\n",
    "            case 4:\n",
    "                self.change_school_phone()\n",
    "            case 5:\n",
    "                self.modify_marks()\n",
    "            case _:\n",
    "                return\n",
    "            \n",
    "        return cls.main(self)\n",
    "\n",
    "    \n",
    "        \n",
    "\n",
    "s1=student('sravani',9391104229,'sravani@gmail.com','hyd',35,66,78)\n",
    "s2=student('sravs',9391104330,'sravs@gmail.com','guntur',88,99,78)\n",
    "def home(cls):\n",
    "    n=int(input(\"enter the id\"))\n",
    "    if n in cls.stud_details:\n",
    "        self=cls.stud_details[n]\n",
    "        cls.main(self)\n",
    "home(student)\n",
    "#student.stud_details\n",
    "#s2=student('sony',123459,'sony@gmail.com',\"pune\",44,6,6)\n",
    "#s1.stud_details[201].__dict__\n"
   ]
  },
  {
   "cell_type": "code",
   "execution_count": 10,
   "metadata": {},
   "outputs": [
    {
     "data": {
      "text/plain": [
       "{'studnmae': 'sravani',\n",
       " 'phone': 9391104229,\n",
       " 'email': 'sravs@gmail.com',\n",
       " 'adress': 'hyd',\n",
       " 'mark1': 40,\n",
       " 'mark2': 4,\n",
       " 'mark3': 100,\n",
       " 'stud_id': 201}"
      ]
     },
     "execution_count": 10,
     "metadata": {},
     "output_type": "execute_result"
    }
   ],
   "source": [
    "def modify_marks(self):\n",
    "        n=int(input('choose the option\\n1.mark1\\n2.mark2\\n3.mark3\\n4.exit'))\n",
    "        match n:\n",
    "            case 1:\n",
    "                self.mark1=int(input(\"enter new marks\"))\n",
    "            case 2:\n",
    "                self.mark2=int(input(\"enter new marks\"))\n",
    "            case 3:\n",
    "                self.mark3=int(input(\"enter the new marks\"))\n",
    "            case _:\n",
    "                return\n",
    "        return self.modify_marks()\n",
    "modify_marks(s1)\n",
    "s1.__dict__"
   ]
  },
  {
   "cell_type": "code",
   "execution_count": 19,
   "metadata": {},
   "outputs": [
    {
     "name": "stdout",
     "output_type": "stream",
     "text": [
      "35\n",
      "66\n",
      "78\n"
     ]
    }
   ],
   "source": [
    "def calculatetotal(self):\n",
    "        sum=0\n",
    "        for i in self.totalmarks:\n",
    "            sum+=i\n",
    "        print(\"totalmarks:\",sum)\n",
    "calculatetotal(s1)"
   ]
  },
  {
   "cell_type": "code",
   "execution_count": 24,
   "metadata": {},
   "outputs": [
    {
     "name": "stdout",
     "output_type": "stream",
     "text": [
      "totalmarks: 179\n",
      "201 sravani None\n"
     ]
    }
   ],
   "source": [
    "def displaystuddetails(self):\n",
    "        print(self.stud_id,self.studnmae,self.calculatetotal())\n",
    "displaystuddetails(s1)\n"
   ]
  },
  {
   "cell_type": "code",
   "execution_count": 25,
   "metadata": {},
   "outputs": [
    {
     "name": "stdout",
     "output_type": "stream",
     "text": [
      "student name: sravani\n",
      "student phone no: 9391104229\n",
      "studen email: sravs@gmail.com\n",
      "student adress: hyd\n",
      "student mark1: 35\n",
      "student mark2: 66\n",
      "student mark3: 78\n"
     ]
    }
   ],
   "source": [
    "\n",
    "def display_specific_student(self):\n",
    "        n=int(input(\"enter the id\"))\n",
    "        for i in self.stud_details:\n",
    "            res=self.stud_details[i]\n",
    "            if res.stud_id==n:\n",
    "                print(\"student name:\",self.studnmae)\n",
    "                print(\"student phone no:\",self.phone)\n",
    "                print(\"studen email:\",self.email)\n",
    "                print(\"student adress:\",self.adress)\n",
    "                print(\"student mark1:\",self.mark1)\n",
    "                print(\"student mark2:\", self.mark2)\n",
    "                print(\"student mark3:\",self.mark3)\n",
    "display_specific_student(s1)"
   ]
  },
  {
   "cell_type": "code",
   "execution_count": 41,
   "metadata": {},
   "outputs": [
    {
     "ename": "TypeError",
     "evalue": "unsupported operand type(s) for /: 'builtin_function_or_method' and 'int'",
     "output_type": "error",
     "traceback": [
      "\u001b[1;31m---------------------------------------------------------------------------\u001b[0m",
      "\u001b[1;31mTypeError\u001b[0m                                 Traceback (most recent call last)",
      "\u001b[1;32mc:\\Users\\sravani\\OneDrive\\Documents\\GitHub\\SRAVANI\\python\\MOCK.ipynb Cell 6\u001b[0m line \u001b[0;36m1\n\u001b[1;32m----> <a href='vscode-notebook-cell:/c%3A/Users/sravani/OneDrive/Documents/GitHub/SRAVANI/python/MOCK.ipynb#W5sZmlsZQ%3D%3D?line=0'>1</a>\u001b[0m per\u001b[39m=\u001b[39m\u001b[39msum\u001b[39;49m\u001b[39m/\u001b[39;49m\u001b[39m300\u001b[39;49m\n",
      "\u001b[1;31mTypeError\u001b[0m: unsupported operand type(s) for /: 'builtin_function_or_method' and 'int'"
     ]
    }
   ],
   "source": [
    "per=sum/300"
   ]
  }
 ],
 "metadata": {
  "kernelspec": {
   "display_name": "Python 3",
   "language": "python",
   "name": "python3"
  },
  "language_info": {
   "codemirror_mode": {
    "name": "ipython",
    "version": 3
   },
   "file_extension": ".py",
   "mimetype": "text/x-python",
   "name": "python",
   "nbconvert_exporter": "python",
   "pygments_lexer": "ipython3",
   "version": "3.11.4"
  }
 },
 "nbformat": 4,
 "nbformat_minor": 2
}
