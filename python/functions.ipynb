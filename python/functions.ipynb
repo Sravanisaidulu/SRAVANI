{
 "cells": [
  {
   "cell_type": "code",
   "execution_count": 1,
   "metadata": {},
   "outputs": [
    {
     "name": "stdout",
     "output_type": "stream",
     "text": [
      "HELLO HAII 123 @#%\n"
     ]
    }
   ],
   "source": [
    "# function without arguments and without return statement\n",
    "def Upper():\n",
    "    st=\"hello Haii 123 @#%\"\n",
    "    res=\"\"\n",
    "    for i in st:\n",
    "        if 'a'<=i<='z':\n",
    "            res+=chr(ord(i)-32)\n",
    "        else:\n",
    "            res+=i\n",
    "    print(res)\n",
    "Upper()"
   ]
  },
  {
   "cell_type": "code",
   "execution_count": 3,
   "metadata": {},
   "outputs": [
    {
     "name": "stdout",
     "output_type": "stream",
     "text": [
      "HELLO HAII 123 $%#\n",
      "I LOVE YOU\n"
     ]
    }
   ],
   "source": [
    "# function with arg and without return statment\n",
    "def Upper(st):\n",
    "    res=\"\"\n",
    "    for i in st:\n",
    "        if 'a'<=i<='z':\n",
    "            res+=chr(ord(i)-32)\n",
    "        else:\n",
    "            res+=i\n",
    "    print(res)\n",
    "Upper('Hello haii 123 $%#')\n",
    "Upper('i love you')\n"
   ]
  },
  {
   "cell_type": "code",
   "execution_count": 8,
   "metadata": {},
   "outputs": [
    {
     "name": "stdout",
     "output_type": "stream",
     "text": [
      "I LOVE INDIA 34 hoo\n"
     ]
    }
   ],
   "source": [
    "# function without argument with return statement\n",
    "def Upper():\n",
    "    st='i love india 34'\n",
    "    res=\"\"\n",
    "    for i in st:\n",
    "        if 'a'<=i<='z':\n",
    "            res+=chr(ord(i)-32)\n",
    "        else:\n",
    "            res+=i\n",
    "    return res\n",
    "t=Upper()\n",
    "t+=' hoo'\n",
    "print(t)"
   ]
  },
  {
   "cell_type": "code",
   "execution_count": 10,
   "metadata": {},
   "outputs": [
    {
     "data": {
      "text/plain": [
       "'I LOVE INDIA 34'"
      ]
     },
     "execution_count": 10,
     "metadata": {},
     "output_type": "execute_result"
    }
   ],
   "source": [
    "# function with argument with return statement\n",
    "x=\"hello world huYS\"\n",
    "def Upper(st):\n",
    "    st='i love india 34'\n",
    "    res=\"\"\n",
    "    for i in st:\n",
    "        if 'a'<=i<='z':\n",
    "            res+=chr(ord(i)-32)\n",
    "        else:\n",
    "            res+=i\n",
    "    return res\n",
    "Upper(x)"
   ]
  },
  {
   "cell_type": "code",
   "execution_count": 26,
   "metadata": {},
   "outputs": [
    {
     "data": {
      "text/plain": [
       "'Hello 1234'"
      ]
     },
     "execution_count": 26,
     "metadata": {},
     "output_type": "execute_result"
    }
   ],
   "source": [
    "#1. Capatilze\n",
    "st=\"hello 1234\"\n",
    "st.capitalize()"
   ]
  },
  {
   "cell_type": "code",
   "execution_count": 30,
   "metadata": {},
   "outputs": [
    {
     "data": {
      "text/plain": [
       "'Hello world 123%67'"
      ]
     },
     "execution_count": 30,
     "metadata": {},
     "output_type": "execute_result"
    }
   ],
   "source": [
    "st=\"hello world 123%67\"\n",
    "def u_captial(coll):\n",
    "    res=\"\"\n",
    "    if 'a'<=coll[0]<='z':\n",
    "        res+=chr(ord(coll[0])-32)\n",
    "    else:\n",
    "        res+=coll[0]\n",
    "    for i in range(1,len(coll)):\n",
    "        res+=coll[i]\n",
    "    return res\n",
    "u_captial(st)\n"
   ]
  },
  {
   "cell_type": "code",
   "execution_count": 31,
   "metadata": {},
   "outputs": [
    {
     "data": {
      "text/plain": [
       "'hello world 1'"
      ]
     },
     "execution_count": 31,
     "metadata": {},
     "output_type": "execute_result"
    }
   ],
   "source": [
    "# 2. casefold: no upper case char in coll\n",
    "st=\"Hello world 1\"\n",
    "st.casefold()"
   ]
  },
  {
   "cell_type": "code",
   "execution_count": 32,
   "metadata": {},
   "outputs": [
    {
     "data": {
      "text/plain": [
       "'hello world 1'"
      ]
     },
     "execution_count": 32,
     "metadata": {},
     "output_type": "execute_result"
    }
   ],
   "source": [
    "s='Hello world 1'\n",
    "def cs(coll):\n",
    "    res=\"\"\n",
    "    for i in coll:\n",
    "        if 'A'<=i<='Z':\n",
    "            res+=chr(ord(i)+32)\n",
    "        else:\n",
    "            res+=i\n",
    "    return res\n",
    "cs(s)"
   ]
  },
  {
   "cell_type": "code",
   "execution_count": 34,
   "metadata": {},
   "outputs": [
    {
     "data": {
      "text/plain": [
       "'HELLO WORLD456@34'"
      ]
     },
     "execution_count": 34,
     "metadata": {},
     "output_type": "execute_result"
    }
   ],
   "source": [
    "# 3 upper\n",
    "st=\"hello world456@34\"\n",
    "st.upper()"
   ]
  },
  {
   "cell_type": "code",
   "execution_count": 35,
   "metadata": {},
   "outputs": [
    {
     "data": {
      "text/plain": [
       "'HELLO WORLD456@34'"
      ]
     },
     "execution_count": 35,
     "metadata": {},
     "output_type": "execute_result"
    }
   ],
   "source": [
    "st=\"hello world456@34\"\n",
    "def uppercase(coll):\n",
    "    res=\"\"\n",
    "    for i in coll:\n",
    "        if 'a'<=i<='z':\n",
    "            res+=chr(ord(i)-32)\n",
    "        else:\n",
    "            res+=i\n",
    "    return res\n",
    "uppercase(st)"
   ]
  },
  {
   "cell_type": "code",
   "execution_count": 36,
   "metadata": {},
   "outputs": [
    {
     "data": {
      "text/plain": [
       "'hello gu#$456'"
      ]
     },
     "execution_count": 36,
     "metadata": {},
     "output_type": "execute_result"
    }
   ],
   "source": [
    "# 4. lower\n",
    "st=\"HELLO gu#$456\"\n",
    "st.lower()"
   ]
  },
  {
   "cell_type": "code",
   "execution_count": 37,
   "metadata": {},
   "outputs": [
    {
     "data": {
      "text/plain": [
       "'hello gu#$456'"
      ]
     },
     "execution_count": 37,
     "metadata": {},
     "output_type": "execute_result"
    }
   ],
   "source": [
    "st=\"HELLO gu#$456\"\n",
    "def lowercase(coll):\n",
    "    res=\"\"\n",
    "    for i in coll:\n",
    "        if 'A'<=i<='Z':\n",
    "            res+=chr(ord(i)+32)\n",
    "        else:\n",
    "            res+=i\n",
    "    return res\n",
    "lowercase(st)"
   ]
  },
  {
   "cell_type": "code",
   "execution_count": 38,
   "metadata": {},
   "outputs": [
    {
     "data": {
      "text/plain": [
       "'WERFGwertfg34^&8'"
      ]
     },
     "execution_count": 38,
     "metadata": {},
     "output_type": "execute_result"
    }
   ],
   "source": [
    "#5 swapcase\n",
    "st=\"werfgWERTFG34^&8\"\n",
    "st.swapcase()"
   ]
  },
  {
   "cell_type": "code",
   "execution_count": 39,
   "metadata": {},
   "outputs": [
    {
     "data": {
      "text/plain": [
       "'WERFGwertfg34^&8'"
      ]
     },
     "execution_count": 39,
     "metadata": {},
     "output_type": "execute_result"
    }
   ],
   "source": [
    "st=\"werfgWERTFG34^&8\"\n",
    "def swap(coll):\n",
    "    res=\"\"\n",
    "    for i in coll:\n",
    "        if 'a'<=i<='z':\n",
    "            res+=chr(ord(i)-32)\n",
    "        elif 'A'<=i<='Z':\n",
    "            res+=chr(ord(i)+32)\n",
    "        else:\n",
    "            res+=i\n",
    "    return res\n",
    "swap(st) "
   ]
  },
  {
   "cell_type": "code",
   "execution_count": 5,
   "metadata": {},
   "outputs": [
    {
     "data": {
      "text/plain": [
       "'Wedfv 23Dfvgh C4Rfcxcvg34Fdsx$^F #L'"
      ]
     },
     "execution_count": 5,
     "metadata": {},
     "output_type": "execute_result"
    }
   ],
   "source": [
    "#6 title\n",
    "st=\"wedfv 23dfvgh c4rfcxcvg34fdsx$^f #l\"\n",
    "st.title()"
   ]
  },
  {
   "cell_type": "code",
   "execution_count": 2,
   "metadata": {},
   "outputs": [
    {
     "data": {
      "text/plain": [
       "'#Wed1Fv 23Dfvgh C4Rfcxcvg34fdsx$^fs2S $$'"
      ]
     },
     "execution_count": 2,
     "metadata": {},
     "output_type": "execute_result"
    }
   ],
   "source": [
    "st=\"#wed1fv 23dfvgh c4rfcxcvg34fdsx$^fs2s $\"\n",
    "def titlecase(coll):\n",
    "    i=0\n",
    "    x=len(coll)\n",
    "    res=\"\"\n",
    "    d=\"\"\n",
    "    if 'a'<=coll[0]<='z':\n",
    "        res+=chr(ord(coll[0])-32)\n",
    "        i=1\n",
    "    elif 'A'<=coll[0]<='Z':\n",
    "        res+=coll[0]\n",
    "        i=1\n",
    "    #if ('a'<=coll[-2]<='z' or 'A'<=coll[-2]<='Z'):\n",
    "    if not('a'<=coll[-1]<='z' or 'A'<=coll[-1]<='Z'):\n",
    "        d+=coll[-1]\n",
    "        x=len(coll)-1\n",
    "    while i<x:\n",
    "        if not('a'<=coll[i]<='z' or 'A'<=coll[i]<='Z'):\n",
    "            res+=coll[i]\n",
    "            if 'a'<=coll[i+1]<='z':\n",
    "                res+=chr(ord(coll[i+1])-32)\n",
    "            else:\n",
    "                res+=coll[i+1]\n",
    "            i+=1\n",
    "        elif 'A'<=coll[i]<='Z':\n",
    "            res+=chr(ord(coll[i])+32)\n",
    "        else:\n",
    "            res+=coll[i]\n",
    "        i+=1\n",
    "    res+=d\n",
    "    return res\n",
    "titlecase(st)\n"
   ]
  },
  {
   "cell_type": "code",
   "execution_count": 4,
   "metadata": {},
   "outputs": [
    {
     "data": {
      "text/plain": [
       "'#Wed1Fv 23Dfvgh C4Rfcxcvg34fdsx$^fs2S $j'"
      ]
     },
     "execution_count": 4,
     "metadata": {},
     "output_type": "execute_result"
    }
   ],
   "source": [
    "st=\"#wed1fv 23dfvgh c4rfcxcvg34fdsx$^fs2s $j\"\n",
    "def titlecase(coll):\n",
    "    i=0\n",
    "    x=len(coll)\n",
    "    res=\"\"\n",
    "    d=\"\"\n",
    "    if 'a'<=coll[0]<='z':\n",
    "        res+=chr(ord(coll[0])-32)\n",
    "        i=1\n",
    "    elif 'A'<=coll[0]<='Z':\n",
    "        res+=coll[0]\n",
    "        i=1\n",
    "    \n",
    "    while i <x:\n",
    "        if (i==len(coll)-1 and not('a'<=coll[i]<='z' or 'A'<=coll[i]<='Z')):\n",
    "            d+=coll[i]\n",
    "        elif not('a'<=coll[i]<='z' or 'A'<=coll[i]<='Z'):\n",
    "            res+=coll[i]\n",
    "            if 'a'<=coll[i+1]<='z':\n",
    "                res+=chr(ord(coll[i+1])-32)\n",
    "            else:\n",
    "                res+=coll[i+1]\n",
    "            i+=1\n",
    "        elif 'A'<=coll[i]<='Z':\n",
    "            res+=chr(ord(coll[i])+32)\n",
    "        else:\n",
    "            res+=coll[i]\n",
    "        i+=1\n",
    "    res+=d\n",
    "    return res\n",
    "titlecase(st)\n"
   ]
  },
  {
   "cell_type": "code",
   "execution_count": 51,
   "metadata": {},
   "outputs": [
    {
     "data": {
      "text/plain": [
       "'---abd----'"
      ]
     },
     "execution_count": 51,
     "metadata": {},
     "output_type": "execute_result"
    }
   ],
   "source": [
    "#7 center\n",
    "a=\"abd\"\n",
    "a.center(10,'-')"
   ]
  },
  {
   "cell_type": "code",
   "execution_count": 10,
   "metadata": {},
   "outputs": [
    {
     "data": {
      "text/plain": [
       "'-------hello--------'"
      ]
     },
     "execution_count": 10,
     "metadata": {},
     "output_type": "execute_result"
    }
   ],
   "source": [
    "a=\"hello\"\n",
    "def cp(coll,width,fillchar=\" \"):\n",
    "    d=\"\"\n",
    "    if len(fillchar)>1:\n",
    "        return -1\n",
    "    res=width-len(coll)\n",
    "    l=res//2\n",
    "    r=res-l\n",
    "    res=l*fillchar+coll+r*fillchar\n",
    "    return res \n",
    "cp(a,20,'-')"
   ]
  },
  {
   "cell_type": "code",
   "execution_count": 17,
   "metadata": {},
   "outputs": [
    {
     "data": {
      "text/plain": [
       "True"
      ]
     },
     "execution_count": 17,
     "metadata": {},
     "output_type": "execute_result"
    }
   ],
   "source": [
    "# 8 istitle\n",
    "s='#Wed1Fv 23Dfvgh C4Rfcxcvg34Edsx$^Fs2S #1Es'\n",
    "s.istitle()\n"
   ]
  },
  {
   "cell_type": "code",
   "execution_count": 26,
   "metadata": {},
   "outputs": [
    {
     "data": {
      "text/plain": [
       "True"
      ]
     },
     "execution_count": 26,
     "metadata": {},
     "output_type": "execute_result"
    }
   ],
   "source": [
    "s='#Wed1Fv 23Dfvgh C43Afccvg34Esx A^Fs2S #1Es'\n",
    "def u_istitle(coll):\n",
    "    if 'a'<=coll[0]<='z':\n",
    "        return False\n",
    "    i=0\n",
    "    while i<len(coll):\n",
    "        if not('a'<=coll[i]<='z' or 'A'<=coll[i]<='Z'):\n",
    "            if 'a'<=coll[i+1]<='z':\n",
    "                return False\n",
    "        elif 'a'<=coll[i]<='z' and i!=len(coll)-1:\n",
    "            if 'A'<=coll[i+1]<='Z':\n",
    "                return False\n",
    "        i+=1\n",
    "\n",
    "    return True\n",
    "u_istitle(s)\n"
   ]
  },
  {
   "cell_type": "code",
   "execution_count": 22,
   "metadata": {},
   "outputs": [
    {
     "data": {
      "text/plain": [
       "True"
      ]
     },
     "execution_count": 22,
     "metadata": {},
     "output_type": "execute_result"
    }
   ],
   "source": [
    "# 9 isupper\n",
    "st=\"HELLO23454  ^\"\n",
    "st.isupper()"
   ]
  },
  {
   "cell_type": "code",
   "execution_count": 25,
   "metadata": {},
   "outputs": [
    {
     "data": {
      "text/plain": [
       "True"
      ]
     },
     "execution_count": 25,
     "metadata": {},
     "output_type": "execute_result"
    }
   ],
   "source": [
    "st=\"HELO23454  ^\"\n",
    "def u_isupper(coll):\n",
    "    for i in coll:\n",
    "        if 'a'<=i<='z':\n",
    "            return False\n",
    "    return True\n",
    "u_isupper(st)\n"
   ]
  },
  {
   "cell_type": "code",
   "execution_count": 26,
   "metadata": {},
   "outputs": [
    {
     "data": {
      "text/plain": [
       "True"
      ]
     },
     "execution_count": 26,
     "metadata": {},
     "output_type": "execute_result"
    }
   ],
   "source": [
    "# 10 islower\n",
    "st=\"hello world23\"\n",
    "st.islower()"
   ]
  },
  {
   "cell_type": "code",
   "execution_count": 29,
   "metadata": {},
   "outputs": [
    {
     "data": {
      "text/plain": [
       "True"
      ]
     },
     "execution_count": 29,
     "metadata": {},
     "output_type": "execute_result"
    }
   ],
   "source": [
    "st=\"hello world23\"\n",
    "def u_lower(coll):\n",
    "    for i in coll:\n",
    "        if 'A'<=i<='Z':\n",
    "            return False\n",
    "    return True\n",
    "u_lower(st)"
   ]
  },
  {
   "cell_type": "code",
   "execution_count": 31,
   "metadata": {},
   "outputs": [
    {
     "data": {
      "text/plain": [
       "True"
      ]
     },
     "execution_count": 31,
     "metadata": {},
     "output_type": "execute_result"
    }
   ],
   "source": [
    "#11 isalpha\n",
    "st=\"weRT\"\n",
    "st.isalpha()\n"
   ]
  },
  {
   "cell_type": "code",
   "execution_count": 34,
   "metadata": {},
   "outputs": [
    {
     "data": {
      "text/plain": [
       "True"
      ]
     },
     "execution_count": 34,
     "metadata": {},
     "output_type": "execute_result"
    }
   ],
   "source": [
    "st=\"weareJUST\"\n",
    "def u_isalpha(coll):\n",
    "    for i in coll:\n",
    "        if '0'<=i<'9' or not('a'<=i<='z' or 'A'<=i<='Z'):\n",
    "            return False\n",
    "    return True\n",
    "u_isalpha(st)"
   ]
  },
  {
   "cell_type": "code",
   "execution_count": 39,
   "metadata": {},
   "outputs": [
    {
     "data": {
      "text/plain": [
       "True"
      ]
     },
     "execution_count": 39,
     "metadata": {},
     "output_type": "execute_result"
    }
   ],
   "source": [
    "# 12 isnumeric isdigit isdecimal   \n",
    "st=\"123\"               # only  positive integers\n",
    "st.isnumeric()"
   ]
  },
  {
   "cell_type": "code",
   "execution_count": 41,
   "metadata": {},
   "outputs": [
    {
     "data": {
      "text/plain": [
       "True"
      ]
     },
     "execution_count": 41,
     "metadata": {},
     "output_type": "execute_result"
    }
   ],
   "source": [
    "st=\"123485\"\n",
    "def u_isdigit(coll):\n",
    "    for i in coll:\n",
    "        if not('0'<=i<='9'):\n",
    "            return False\n",
    "    return True\n",
    "u_isdigit(st)"
   ]
  },
  {
   "cell_type": "code",
   "execution_count": 52,
   "metadata": {},
   "outputs": [
    {
     "data": {
      "text/plain": [
       "True"
      ]
     },
     "execution_count": 52,
     "metadata": {},
     "output_type": "execute_result"
    }
   ],
   "source": [
    "# 13 isidentifier\n",
    "s=\"r2_\"\n",
    "s.isidentifier()"
   ]
  },
  {
   "cell_type": "code",
   "execution_count": 50,
   "metadata": {},
   "outputs": [
    {
     "data": {
      "text/plain": [
       "True"
      ]
     },
     "execution_count": 50,
     "metadata": {},
     "output_type": "execute_result"
    }
   ],
   "source": [
    "s=\"wer54432_\"\n",
    "def u_isidentifier(coll):\n",
    "    if '0'<=coll[0]<='9':\n",
    "        return False\n",
    "    for i in coll:\n",
    "        if not('a'<=i<='z' or 'A'<=i<='Z' or '0'<=i<='9' or i=='_'):\n",
    "            return False\n",
    "    return True\n",
    "u_isidentifier(s)\n",
    "\n"
   ]
  },
  {
   "cell_type": "code",
   "execution_count": 53,
   "metadata": {},
   "outputs": [
    {
     "data": {
      "text/plain": [
       "True"
      ]
     },
     "execution_count": 53,
     "metadata": {},
     "output_type": "execute_result"
    }
   ],
   "source": [
    "# 14 isalnum\n",
    "st=\"wertSDCV23\"\n",
    "st.isalnum()"
   ]
  },
  {
   "cell_type": "code",
   "execution_count": 39,
   "metadata": {},
   "outputs": [
    {
     "data": {
      "text/plain": [
       "True"
      ]
     },
     "execution_count": 39,
     "metadata": {},
     "output_type": "execute_result"
    }
   ],
   "source": [
    "st=\"ASD345werf\"\n",
    "def u_isalnum(coll):\n",
    "    for i in coll:\n",
    "        if not('a'<=i<='z' or 'A'<=i<='Z' or '0'<=i<='9'):\n",
    "            return False\n",
    "    return True\n",
    "u_isalnum(st)"
   ]
  },
  {
   "cell_type": "code",
   "execution_count": 55,
   "metadata": {},
   "outputs": [
    {
     "data": {
      "text/plain": [
       "'ax+bdf+efgj+dcfvbnk'"
      ]
     },
     "execution_count": 55,
     "metadata": {},
     "output_type": "execute_result"
    }
   ],
   "source": [
    "# 15 join accept only strings in the collection \n",
    "l=['ax','bdf','efgj','dcfvbnk']\n",
    "\"+\".join(l)"
   ]
  },
  {
   "cell_type": "code",
   "execution_count": 9,
   "metadata": {},
   "outputs": [
    {
     "data": {
      "text/plain": [
       "'ax-bdf-efgj-dcfvbnk'"
      ]
     },
     "execution_count": 9,
     "metadata": {},
     "output_type": "execute_result"
    }
   ],
   "source": [
    "# join\n",
    "l=['ax','bdf','efgj','dcfvbnk']\n",
    "def u_join(coll,sep=\"\"):\n",
    "    for i in coll:\n",
    "        if type(i)!=str:\n",
    "            return False\n",
    "    res=\"\"\n",
    "    for i in coll:\n",
    "        res+=i+sep\n",
    "    if sep==\"\":\n",
    "        return res\n",
    "    else:\n",
    "        return res[:-len(sep)]\n",
    "u_join(l,\"-\") \n",
    "    \n"
   ]
  },
  {
   "cell_type": "code",
   "execution_count": 13,
   "metadata": {},
   "outputs": [
    {
     "data": {
      "text/plain": [
       "False"
      ]
     },
     "execution_count": 13,
     "metadata": {},
     "output_type": "execute_result"
    }
   ],
   "source": [
    "# 16 isspace only accepts spaces not accept empty collection\n",
    "st=\"    \"\n",
    "st.isspace()"
   ]
  },
  {
   "cell_type": "code",
   "execution_count": 24,
   "metadata": {},
   "outputs": [
    {
     "data": {
      "text/plain": [
       "True"
      ]
     },
     "execution_count": 24,
     "metadata": {},
     "output_type": "execute_result"
    }
   ],
   "source": [
    "st=\"           \"\n",
    "def u_isspace(coll):\n",
    "    if len(coll)==0 :\n",
    "        return False\n",
    "    else:\n",
    "        for i in coll:\n",
    "            if i!=\" \":\n",
    "                return False\n",
    "        return True\n",
    "u_isspace(st)"
   ]
  },
  {
   "cell_type": "code",
   "execution_count": 25,
   "metadata": {},
   "outputs": [
    {
     "data": {
      "text/plain": [
       "True"
      ]
     },
     "execution_count": 25,
     "metadata": {},
     "output_type": "execute_result"
    }
   ],
   "source": [
    "st=\"           \"\n",
    "def u_isspace(coll):\n",
    "    if coll!=\"\":\n",
    "        for i in coll:\n",
    "            if i!=\" \":\n",
    "                return False\n",
    "        return True\n",
    "    return False\n",
    "u_isspace(st)"
   ]
  },
  {
   "cell_type": "code",
   "execution_count": 54,
   "metadata": {},
   "outputs": [
    {
     "data": {
      "text/plain": [
       "2"
      ]
     },
     "execution_count": 54,
     "metadata": {},
     "output_type": "execute_result"
    }
   ],
   "source": [
    "# 17 count  is used to count the specific char\n",
    "st=\"Hello world\"\n",
    "st.count('l',0,8)"
   ]
  },
  {
   "cell_type": "code",
   "execution_count": 15,
   "metadata": {},
   "outputs": [
    {
     "data": {
      "text/plain": [
       "1"
      ]
     },
     "execution_count": 15,
     "metadata": {},
     "output_type": "execute_result"
    }
   ],
   "source": [
    "# how many times occured\n",
    "st=\"hello world\"\n",
    "def u_count(coll,ele,start=0,end=None):\n",
    "    if end==None:\n",
    "        end=len(coll)\n",
    "    count=0\n",
    "    for i in range(start,end):\n",
    "        if coll[i]==ele:\n",
    "            count+=1\n",
    "    return count\n",
    "u_count(st,'l',3,9)\n",
    "        \n"
   ]
  },
  {
   "cell_type": "code",
   "execution_count": 27,
   "metadata": {},
   "outputs": [
    {
     "data": {
      "text/plain": [
       "2"
      ]
     },
     "execution_count": 27,
     "metadata": {},
     "output_type": "execute_result"
    }
   ],
   "source": [
    "# how mant time repeated\n",
    "st=\"hello world\"\n",
    "def u_count(coll,ele,start=0,end=None):\n",
    "    if end==None:\n",
    "        end=len(coll)\n",
    "    count=0\n",
    "    for i in range(start,end):\n",
    "        if coll[i]==ele:\n",
    "            count+=1\n",
    "    return count-1\n",
    "u_count(st,'l',0)"
   ]
  },
  {
   "cell_type": "code",
   "execution_count": 22,
   "metadata": {},
   "outputs": [
    {
     "name": "stdout",
     "output_type": "stream",
     "text": [
      "2\n",
      "-1\n",
      "9\n"
     ]
    },
    {
     "ename": "ValueError",
     "evalue": "substring not found",
     "output_type": "error",
     "traceback": [
      "\u001b[1;31m---------------------------------------------------------------------------\u001b[0m",
      "\u001b[1;31mValueError\u001b[0m                                Traceback (most recent call last)",
      "\u001b[1;32mc:\\Users\\sravani\\OneDrive\\Documents\\GitHub\\SRAVANI\\python\\functions.ipynb Cell 41\u001b[0m line \u001b[0;36m7\n\u001b[0;32m      <a href='vscode-notebook-cell:/c%3A/Users/sravani/OneDrive/Documents/GitHub/SRAVANI/python/functions.ipynb#X56sZmlsZQ%3D%3D?line=4'>5</a>\u001b[0m \u001b[39mprint\u001b[39m(st\u001b[39m.\u001b[39mfind(\u001b[39m'\u001b[39m\u001b[39mL\u001b[39m\u001b[39m'\u001b[39m))\n\u001b[0;32m      <a href='vscode-notebook-cell:/c%3A/Users/sravani/OneDrive/Documents/GitHub/SRAVANI/python/functions.ipynb#X56sZmlsZQ%3D%3D?line=5'>6</a>\u001b[0m \u001b[39mprint\u001b[39m(st\u001b[39m.\u001b[39mindex(\u001b[39m'\u001b[39m\u001b[39ml\u001b[39m\u001b[39m'\u001b[39m,\u001b[39m5\u001b[39m))\n\u001b[1;32m----> <a href='vscode-notebook-cell:/c%3A/Users/sravani/OneDrive/Documents/GitHub/SRAVANI/python/functions.ipynb#X56sZmlsZQ%3D%3D?line=6'>7</a>\u001b[0m \u001b[39mprint\u001b[39m(st\u001b[39m.\u001b[39;49mindex(\u001b[39m'\u001b[39;49m\u001b[39mL\u001b[39;49m\u001b[39m'\u001b[39;49m))\n",
      "\u001b[1;31mValueError\u001b[0m: substring not found"
     ]
    }
   ],
   "source": [
    "# 18 find() and index() both have same logic but element not present find return -1 ,index return value error and\n",
    "# element present it return 1 occured index position\n",
    "st=\"hello world\"\n",
    "print(st.find('l',0,7))\n",
    "print(st.find('L'))\n",
    "print(st.index('l',5))\n",
    "print(st.index('L'))"
   ]
  },
  {
   "cell_type": "code",
   "execution_count": 25,
   "metadata": {},
   "outputs": [
    {
     "data": {
      "text/plain": [
       "4"
      ]
     },
     "execution_count": 25,
     "metadata": {},
     "output_type": "execute_result"
    }
   ],
   "source": [
    "# first occurance specifc char\n",
    "st=\"hello world\"\n",
    "def u_find(coll,ele,start=0,end=None):\n",
    "    if end==None:\n",
    "        end=len(coll)\n",
    "    if ele not in coll[start:end]:\n",
    "        return -1\n",
    "    for i in range(start,end):\n",
    "        if coll[i]==ele:\n",
    "            return i\n",
    "u_find(st,'o',3)\n",
    "    "
   ]
  },
  {
   "cell_type": "code",
   "execution_count": 32,
   "metadata": {},
   "outputs": [
    {
     "data": {
      "text/plain": [
       "17"
      ]
     },
     "execution_count": 32,
     "metadata": {},
     "output_type": "execute_result"
    }
   ],
   "source": [
    "# nth occurance specific char\n",
    "st=\"baribe world baribe land \"\n",
    "def u_index(coll,ele,n,start=0,end=None):\n",
    "    if end==None:\n",
    "        end=len(coll)\n",
    "    if ele not in coll[start:end]:\n",
    "        return -1\n",
    "    count=0\n",
    "    for i in range(start,end):\n",
    "        if ele==coll[i]:\n",
    "            count+=1\n",
    "        if count==n:\n",
    "            return i\n",
    "    return -1\n",
    "u_index(st,'b',2,6,18)"
   ]
  },
  {
   "cell_type": "code",
   "execution_count": 36,
   "metadata": {},
   "outputs": [
    {
     "data": {
      "text/plain": [
       "17"
      ]
     },
     "execution_count": 36,
     "metadata": {},
     "output_type": "execute_result"
    }
   ],
   "source": [
    "# last occurance specifi char\n",
    "st=\"baribe world baribe land \"\n",
    "def u_find(coll,ele,start=0,end=None):\n",
    "    if end==None:\n",
    "        end=len(coll)\n",
    "    if ele not in coll[start:end]:\n",
    "        return -1\n",
    "    l=[]\n",
    "    while start<end:\n",
    "        if coll[start]==ele:\n",
    "            l+=[start]\n",
    "        start+=1\n",
    "    return l[-1]\n",
    "u_find(st,'b')\n",
    "\n"
   ]
  },
  {
   "cell_type": "code",
   "execution_count": 47,
   "metadata": {},
   "outputs": [
    {
     "name": "stdout",
     "output_type": "stream",
     "text": [
      "{'i': 2, 'b': 3, 'e': 2, ' ': 3, 'w': 1, 'o': 1, 'r': 2, 'l': 2, 'd': 2, 'a': 2, 'n': 1}\n"
     ]
    },
    {
     "data": {
      "text/plain": [
       "'b'"
      ]
     },
     "execution_count": 47,
     "metadata": {},
     "output_type": "execute_result"
    }
   ],
   "source": [
    "# max first repeated char\n",
    "st=\"baribe world baribe land \"\n",
    "def u_find(coll,start=0,end=None):\n",
    "    if end==None:\n",
    "        end=len(coll)\n",
    "    d={}\n",
    "    while start<end:\n",
    "        if  coll[start] not in d:\n",
    "            d[coll[start]]=1\n",
    "        else:\n",
    "            d[coll[start]]+=1\n",
    "        start+=1\n",
    "    print(d)\n",
    "    l=list(d)\n",
    "    i=0\n",
    "    max=1\n",
    "    ch=None\n",
    "    while i<len(l):\n",
    "        if max<d[l[i]]:\n",
    "            max=d[l[i]]\n",
    "            ch=l[i]\n",
    "        i+=1\n",
    "    return ch\n",
    "u_find(st,3,24)"
   ]
  },
  {
   "cell_type": "code",
   "execution_count": 50,
   "metadata": {},
   "outputs": [
    {
     "name": "stdout",
     "output_type": "stream",
     "text": [
      "{' ': 2, 'w': 1, 'o': 1, 'r': 2, 'l': 1, 'd': 1, 'b': 1, 'a': 1, 'i': 1}\n"
     ]
    },
    {
     "data": {
      "text/plain": [
       "'w'"
      ]
     },
     "execution_count": 50,
     "metadata": {},
     "output_type": "execute_result"
    }
   ],
   "source": [
    "# min first repeated char\n",
    "st=\"baribe world baribe land \"\n",
    "def u_find(coll,start=0,end=None):\n",
    "    if end==None:\n",
    "        end=len(coll)\n",
    "    d={}\n",
    "    while start<end:\n",
    "        if  coll[start] not in d:\n",
    "            d[coll[start]]=1\n",
    "        else:\n",
    "            d[coll[start]]+=1\n",
    "        start+=1\n",
    "    print(d)\n",
    "    l=list(d)\n",
    "    i=0\n",
    "    min=1\n",
    "    while i<len(l):\n",
    "        if d[l[i]]==min:\n",
    "            return l[i]\n",
    "        i+=1\n",
    "u_find(st,6,17)       \n",
    "\n"
   ]
  },
  {
   "cell_type": "code",
   "execution_count": 55,
   "metadata": {},
   "outputs": [
    {
     "data": {
      "text/plain": [
       "3"
      ]
     },
     "execution_count": 55,
     "metadata": {},
     "output_type": "execute_result"
    }
   ],
   "source": [
    "# 19 rfind(),rindex()  fetch values from right to left and display the first occured index value\n",
    "st=\"hello world\"\n",
    "st.rfind('l',1,9)"
   ]
  },
  {
   "cell_type": "code",
   "execution_count": 58,
   "metadata": {},
   "outputs": [
    {
     "data": {
      "text/plain": [
       "9"
      ]
     },
     "execution_count": 58,
     "metadata": {},
     "output_type": "execute_result"
    }
   ],
   "source": [
    "st=\"hello world welcome to python\"\n",
    "def u_rfind(coll,ele,start=0,end=None):\n",
    "    if end==None:\n",
    "        end=len(coll)\n",
    "    if ele not in coll[start:end]:\n",
    "        return -1\n",
    "    for i in range(end,start,-1):\n",
    "        if coll[i]==ele:\n",
    "            return i\n",
    "    return -1\n",
    "u_rfind(st,'l',2,13)\n"
   ]
  },
  {
   "cell_type": "code",
   "execution_count": 27,
   "metadata": {},
   "outputs": [
    {
     "data": {
      "text/plain": [
       "7"
      ]
     },
     "execution_count": 27,
     "metadata": {},
     "output_type": "execute_result"
    }
   ],
   "source": [
    "# in while loop\n",
    "st=\"hello world welcome to python\"\n",
    "def u_rindex(coll,ele,start=0,end=None):\n",
    "    if end==None:\n",
    "        end=len(coll)\n",
    "    if ele not in coll[start:]:\n",
    "        return False\n",
    "    while end>=start:\n",
    "        if ele==coll[end]:\n",
    "            return end\n",
    "        end-=1\n",
    "    return -1\n",
    "u_rindex(st,'o',5,14)\n"
   ]
  },
  {
   "cell_type": "code",
   "execution_count": 33,
   "metadata": {},
   "outputs": [
    {
     "data": {
      "text/plain": [
       "['baby d', 'ra m', 'nkey wer']"
      ]
     },
     "execution_count": 33,
     "metadata": {},
     "output_type": "execute_result"
    }
   ],
   "source": [
    "# 20 spilt() it split the collection into string based on the split element and strone in the list\n",
    "st=\"baby dora monkey wer\"\n",
    "st.split('o',2)"
   ]
  },
  {
   "cell_type": "code",
   "execution_count": 43,
   "metadata": {},
   "outputs": [
    {
     "data": {
      "text/plain": [
       "['baby dora monk', 'y w', 'r']"
      ]
     },
     "execution_count": 43,
     "metadata": {},
     "output_type": "execute_result"
    }
   ],
   "source": [
    "st=\"baby dora monkey wer\"\n",
    "def u_split(coll,ele=\" \"):\n",
    "    l=[]\n",
    "    res=\"\"\n",
    "    for i in coll:\n",
    "        if i!=ele:\n",
    "            res+=i\n",
    "        else:\n",
    "            if len(res)!=0:\n",
    "                l+=[res]\n",
    "                res=\"\"\n",
    "    if len(res)!=0:\n",
    "        l+=[res]\n",
    "    return l\n",
    "u_split(st,'e')"
   ]
  },
  {
   "cell_type": "code",
   "execution_count": 63,
   "metadata": {},
   "outputs": [
    {
     "data": {
      "text/plain": [
       "['dora buji in k', 'shi channel']"
      ]
     },
     "execution_count": 63,
     "metadata": {},
     "output_type": "execute_result"
    }
   ],
   "source": [
    "# 21 rsplit() it split the wotds from right to left based on spilt element\n",
    "st=\"dora buji in kushi channel\"\n",
    "st.rsplit('u',maxsplit=1)"
   ]
  },
  {
   "cell_type": "code",
   "execution_count": 71,
   "metadata": {},
   "outputs": [
    {
     "data": {
      "text/plain": [
       "['dora buji in k', 'shi channel']"
      ]
     },
     "execution_count": 71,
     "metadata": {},
     "output_type": "execute_result"
    }
   ],
   "source": [
    "st=\"dora buji in kushi channel\"\n",
    "def u_rsplit(coll,ele=\" \",maxsplit=None):\n",
    "    l=[]\n",
    "    res=\"\"\n",
    "    i=0\n",
    "    end=len(coll)-1\n",
    "    while end>=i:\n",
    "        if coll[end]!=ele:\n",
    "            res=coll[end]+res\n",
    "        elif len(res)!=0:\n",
    "            l=[res]+l\n",
    "            res=\"\"\n",
    "            if len(l)==maxsplit:\n",
    "                return [coll[:end]]+l\n",
    "        end-=1\n",
    "    if len(res)!=0:\n",
    "        l=[res]+l\n",
    "    return l\n",
    "u_rsplit(st,'u',maxsplit=1)"
   ]
  },
  {
   "cell_type": "code",
   "execution_count": 75,
   "metadata": {},
   "outputs": [
    {
     "data": {
      "text/plain": [
       "True"
      ]
     },
     "execution_count": 75,
     "metadata": {},
     "output_type": "execute_result"
    }
   ],
   "source": [
    "# 22 startswith it check given string present in the starting of the collection or not\n",
    "st=\"dora buji in kushi channel\"\n",
    "st.startswith('in',10)"
   ]
  },
  {
   "cell_type": "code",
   "execution_count": 80,
   "metadata": {},
   "outputs": [
    {
     "data": {
      "text/plain": [
       "True"
      ]
     },
     "execution_count": 80,
     "metadata": {},
     "output_type": "execute_result"
    }
   ],
   "source": [
    "st=\"dora buji in kushi channel\"\n",
    "def u_startswith(coll,sub,start=0,end=None):\n",
    "    if end==None:\n",
    "        end=start+len(sub)\n",
    "    if sub not in coll[start:]:\n",
    "        return False\n",
    "    res=\"\"\n",
    "    while start<end:\n",
    "        res+=coll[start]\n",
    "        start+=1\n",
    "    if res==sub:\n",
    "        return True\n",
    "u_startswith(st,'i in',8)"
   ]
  },
  {
   "cell_type": "code",
   "execution_count": 2,
   "metadata": {},
   "outputs": [
    {
     "data": {
      "text/plain": [
       "True"
      ]
     },
     "execution_count": 2,
     "metadata": {},
     "output_type": "execute_result"
    }
   ],
   "source": [
    "# 23 endswith() it will check the given string present at end of the collection are not\n",
    "st=\"dora buji in kushi channel\"\n",
    "st.endswith('channel',9)"
   ]
  },
  {
   "cell_type": "code",
   "execution_count": 10,
   "metadata": {},
   "outputs": [
    {
     "name": "stdout",
     "output_type": "stream",
     "text": [
      "dora buji in kushi channel\n"
     ]
    },
    {
     "data": {
      "text/plain": [
       "True"
      ]
     },
     "execution_count": 10,
     "metadata": {},
     "output_type": "execute_result"
    }
   ],
   "source": [
    "st=\"dora buji in kushi channel\"\n",
    "def u_endswith(coll,sub,start=0,end=None):\n",
    "    if end==None:\n",
    "        end=len(coll)\n",
    "    res=\"\"\n",
    "    while start<end:\n",
    "        res+=coll[start]\n",
    "        start+=1\n",
    "    print(res)\n",
    "    i=len(res)-len(sub)\n",
    "    s=\"\"\n",
    "    while i<len(res):\n",
    "        s+=res[i]\n",
    "        i+=1\n",
    "\n",
    "\n",
    "    if s==sub:\n",
    "        return True\n",
    "u_endswith(st,'nnel')\n",
    "\n"
   ]
  },
  {
   "cell_type": "code",
   "execution_count": 1,
   "metadata": {},
   "outputs": [
    {
     "data": {
      "text/plain": [
       "'www.fb.'"
      ]
     },
     "execution_count": 1,
     "metadata": {},
     "output_type": "execute_result"
    }
   ],
   "source": [
    "# removesufix with slicing\n",
    "st=\"www.fb.com\"\n",
    "def u_removesufix(coll,ele):\n",
    "    if ele not in coll[len(coll)-len(ele):len(coll)]:\n",
    "        return coll\n",
    "    return coll[0:len(coll)-len(ele)]\n",
    "u_removesufix(st,\"com\")"
   ]
  },
  {
   "cell_type": "code",
   "execution_count": 3,
   "metadata": {},
   "outputs": [
    {
     "data": {
      "text/plain": [
       "'www.instagram'"
      ]
     },
     "execution_count": 3,
     "metadata": {},
     "output_type": "execute_result"
    }
   ],
   "source": [
    "# without slicing\n",
    "st=\"www.instagram.com\"\n",
    "def u_removesufix(coll,ele):\n",
    "    if ele not in coll[len(coll)-len(ele):len(coll)]:\n",
    "        return coll\n",
    "    i=0\n",
    "    end=len(coll)-len(ele)\n",
    "    res=\"\"\n",
    "    while i<end:\n",
    "        res+=coll[i]\n",
    "        i+=1\n",
    "    return res\n",
    "u_removesufix(st,\".com\")"
   ]
  }
 ],
 "metadata": {
  "kernelspec": {
   "display_name": "Python 3",
   "language": "python",
   "name": "python3"
  },
  "language_info": {
   "codemirror_mode": {
    "name": "ipython",
    "version": 3
   },
   "file_extension": ".py",
   "mimetype": "text/x-python",
   "name": "python",
   "nbconvert_exporter": "python",
   "pygments_lexer": "ipython3",
   "version": "3.11.4"
  },
  "orig_nbformat": 4
 },
 "nbformat": 4,
 "nbformat_minor": 2
}
