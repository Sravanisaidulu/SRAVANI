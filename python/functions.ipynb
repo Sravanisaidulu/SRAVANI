{
 "cells": [
  {
   "cell_type": "code",
   "execution_count": 1,
   "metadata": {},
   "outputs": [
    {
     "name": "stdout",
     "output_type": "stream",
     "text": [
      "HELLO HAII 123 @#%\n"
     ]
    }
   ],
   "source": [
    "# function without arguments and without return statement\n",
    "def Upper():\n",
    "    st=\"hello Haii 123 @#%\"\n",
    "    res=\"\"\n",
    "    for i in st:\n",
    "        if 'a'<=i<='z':\n",
    "            res+=chr(ord(i)-32)\n",
    "        else:\n",
    "            res+=i\n",
    "    print(res)\n",
    "Upper()"
   ]
  },
  {
   "cell_type": "code",
   "execution_count": 3,
   "metadata": {},
   "outputs": [
    {
     "name": "stdout",
     "output_type": "stream",
     "text": [
      "HELLO HAII 123 $%#\n",
      "I LOVE YOU\n"
     ]
    }
   ],
   "source": [
    "# function with arg and without return statment\n",
    "def Upper(st):\n",
    "    res=\"\"\n",
    "    for i in st:\n",
    "        if 'a'<=i<='z':\n",
    "            res+=chr(ord(i)-32)\n",
    "        else:\n",
    "            res+=i\n",
    "    print(res)\n",
    "Upper('Hello haii 123 $%#')\n",
    "Upper('i love you')\n"
   ]
  },
  {
   "cell_type": "code",
   "execution_count": 8,
   "metadata": {},
   "outputs": [
    {
     "name": "stdout",
     "output_type": "stream",
     "text": [
      "I LOVE INDIA 34 hoo\n"
     ]
    }
   ],
   "source": [
    "# function without argument with return statement\n",
    "def Upper():\n",
    "    st='i love india 34'\n",
    "    res=\"\"\n",
    "    for i in st:\n",
    "        if 'a'<=i<='z':\n",
    "            res+=chr(ord(i)-32)\n",
    "        else:\n",
    "            res+=i\n",
    "    return res\n",
    "t=Upper()\n",
    "t+=' hoo'\n",
    "print(t)"
   ]
  },
  {
   "cell_type": "code",
   "execution_count": 10,
   "metadata": {},
   "outputs": [
    {
     "data": {
      "text/plain": [
       "'I LOVE INDIA 34'"
      ]
     },
     "execution_count": 10,
     "metadata": {},
     "output_type": "execute_result"
    }
   ],
   "source": [
    "# function with argument with return statement\n",
    "x=\"hello world huYS\"\n",
    "def Upper(st):\n",
    "    st='i love india 34'\n",
    "    res=\"\"\n",
    "    for i in st:\n",
    "        if 'a'<=i<='z':\n",
    "            res+=chr(ord(i)-32)\n",
    "        else:\n",
    "            res+=i\n",
    "    return res\n",
    "Upper(x)"
   ]
  },
  {
   "cell_type": "code",
   "execution_count": 26,
   "metadata": {},
   "outputs": [
    {
     "data": {
      "text/plain": [
       "'Hello 1234'"
      ]
     },
     "execution_count": 26,
     "metadata": {},
     "output_type": "execute_result"
    }
   ],
   "source": [
    "#1. Capatilze\n",
    "st=\"hello 1234\"\n",
    "st.capitalize()"
   ]
  },
  {
   "cell_type": "code",
   "execution_count": 30,
   "metadata": {},
   "outputs": [
    {
     "data": {
      "text/plain": [
       "'Hello world 123%67'"
      ]
     },
     "execution_count": 30,
     "metadata": {},
     "output_type": "execute_result"
    }
   ],
   "source": [
    "st=\"hello world 123%67\"\n",
    "def u_captial(coll):\n",
    "    res=\"\"\n",
    "    if 'a'<=coll[0]<='z':\n",
    "        res+=chr(ord(coll[0])-32)\n",
    "    else:\n",
    "        res+=coll[0]\n",
    "    for i in range(1,len(coll)):\n",
    "        res+=coll[i]\n",
    "    return res\n",
    "u_captial(st)\n"
   ]
  },
  {
   "cell_type": "code",
   "execution_count": 31,
   "metadata": {},
   "outputs": [
    {
     "data": {
      "text/plain": [
       "'hello world 1'"
      ]
     },
     "execution_count": 31,
     "metadata": {},
     "output_type": "execute_result"
    }
   ],
   "source": [
    "# 2. casefold: no upper case char in coll\n",
    "st=\"Hello world 1\"\n",
    "st.casefold()"
   ]
  },
  {
   "cell_type": "code",
   "execution_count": 32,
   "metadata": {},
   "outputs": [
    {
     "data": {
      "text/plain": [
       "'hello world 1'"
      ]
     },
     "execution_count": 32,
     "metadata": {},
     "output_type": "execute_result"
    }
   ],
   "source": [
    "s='Hello world 1'\n",
    "def cs(coll):\n",
    "    res=\"\"\n",
    "    for i in coll:\n",
    "        if 'A'<=i<='Z':\n",
    "            res+=chr(ord(i)+32)\n",
    "        else:\n",
    "            res+=i\n",
    "    return res\n",
    "cs(s)"
   ]
  },
  {
   "cell_type": "code",
   "execution_count": 34,
   "metadata": {},
   "outputs": [
    {
     "data": {
      "text/plain": [
       "'HELLO WORLD456@34'"
      ]
     },
     "execution_count": 34,
     "metadata": {},
     "output_type": "execute_result"
    }
   ],
   "source": [
    "# 3 upper\n",
    "st=\"hello world456@34\"\n",
    "st.upper()"
   ]
  },
  {
   "cell_type": "code",
   "execution_count": 35,
   "metadata": {},
   "outputs": [
    {
     "data": {
      "text/plain": [
       "'HELLO WORLD456@34'"
      ]
     },
     "execution_count": 35,
     "metadata": {},
     "output_type": "execute_result"
    }
   ],
   "source": [
    "st=\"hello world456@34\"\n",
    "def uppercase(coll):\n",
    "    res=\"\"\n",
    "    for i in coll:\n",
    "        if 'a'<=i<='z':\n",
    "            res+=chr(ord(i)-32)\n",
    "        else:\n",
    "            res+=i\n",
    "    return res\n",
    "uppercase(st)"
   ]
  },
  {
   "cell_type": "code",
   "execution_count": 36,
   "metadata": {},
   "outputs": [
    {
     "data": {
      "text/plain": [
       "'hello gu#$456'"
      ]
     },
     "execution_count": 36,
     "metadata": {},
     "output_type": "execute_result"
    }
   ],
   "source": [
    "# 4. lower\n",
    "st=\"HELLO gu#$456\"\n",
    "st.lower()"
   ]
  },
  {
   "cell_type": "code",
   "execution_count": 37,
   "metadata": {},
   "outputs": [
    {
     "data": {
      "text/plain": [
       "'hello gu#$456'"
      ]
     },
     "execution_count": 37,
     "metadata": {},
     "output_type": "execute_result"
    }
   ],
   "source": [
    "st=\"HELLO gu#$456\"\n",
    "def lowercase(coll):\n",
    "    res=\"\"\n",
    "    for i in coll:\n",
    "        if 'A'<=i<='Z':\n",
    "            res+=chr(ord(i)+32)\n",
    "        else:\n",
    "            res+=i\n",
    "    return res\n",
    "lowercase(st)"
   ]
  },
  {
   "cell_type": "code",
   "execution_count": 38,
   "metadata": {},
   "outputs": [
    {
     "data": {
      "text/plain": [
       "'WERFGwertfg34^&8'"
      ]
     },
     "execution_count": 38,
     "metadata": {},
     "output_type": "execute_result"
    }
   ],
   "source": [
    "#5 swapcase\n",
    "st=\"werfgWERTFG34^&8\"\n",
    "st.swapcase()"
   ]
  },
  {
   "cell_type": "code",
   "execution_count": 39,
   "metadata": {},
   "outputs": [
    {
     "data": {
      "text/plain": [
       "'WERFGwertfg34^&8'"
      ]
     },
     "execution_count": 39,
     "metadata": {},
     "output_type": "execute_result"
    }
   ],
   "source": [
    "st=\"werfgWERTFG34^&8\"\n",
    "def swap(coll):\n",
    "    res=\"\"\n",
    "    for i in coll:\n",
    "        if 'a'<=i<='z':\n",
    "            res+=chr(ord(i)-32)\n",
    "        elif 'A'<=i<='Z':\n",
    "            res+=chr(ord(i)+32)\n",
    "        else:\n",
    "            res+=i\n",
    "    return res\n",
    "swap(st) "
   ]
  },
  {
   "cell_type": "code",
   "execution_count": 5,
   "metadata": {},
   "outputs": [
    {
     "data": {
      "text/plain": [
       "'Wedfv 23Dfvgh C4Rfcxcvg34Fdsx$^F #L'"
      ]
     },
     "execution_count": 5,
     "metadata": {},
     "output_type": "execute_result"
    }
   ],
   "source": [
    "#6 title\n",
    "st=\"wedfv 23dfvgh c4rfcxcvg34fdsx$^f #l\"\n",
    "st.title()"
   ]
  },
  {
   "cell_type": "code",
   "execution_count": 2,
   "metadata": {},
   "outputs": [
    {
     "data": {
      "text/plain": [
       "'#Wed1Fv 23Dfvgh C4Rfcxcvg34fdsx$^fs2S $$'"
      ]
     },
     "execution_count": 2,
     "metadata": {},
     "output_type": "execute_result"
    }
   ],
   "source": [
    "st=\"#wed1fv 23dfvgh c4rfcxcvg34fdsx$^fs2s $\"\n",
    "def titlecase(coll):\n",
    "    i=0\n",
    "    x=len(coll)\n",
    "    res=\"\"\n",
    "    d=\"\"\n",
    "    if 'a'<=coll[0]<='z':\n",
    "        res+=chr(ord(coll[0])-32)\n",
    "        i=1\n",
    "    elif 'A'<=coll[0]<='Z':\n",
    "        res+=coll[0]\n",
    "        i=1\n",
    "    #if ('a'<=coll[-2]<='z' or 'A'<=coll[-2]<='Z'):\n",
    "    if not('a'<=coll[-1]<='z' or 'A'<=coll[-1]<='Z'):\n",
    "        d+=coll[-1]\n",
    "        x=len(coll)-1\n",
    "    while i<x:\n",
    "        if not('a'<=coll[i]<='z' or 'A'<=coll[i]<='Z'):\n",
    "            res+=coll[i]\n",
    "            if 'a'<=coll[i+1]<='z':\n",
    "                res+=chr(ord(coll[i+1])-32)\n",
    "            else:\n",
    "                res+=coll[i+1]\n",
    "            i+=1\n",
    "        elif 'A'<=coll[i]<='Z':\n",
    "            res+=chr(ord(coll[i])+32)\n",
    "        else:\n",
    "            res+=coll[i]\n",
    "        i+=1\n",
    "    res+=d\n",
    "    return res\n",
    "titlecase(st)\n"
   ]
  },
  {
   "cell_type": "code",
   "execution_count": 4,
   "metadata": {},
   "outputs": [
    {
     "data": {
      "text/plain": [
       "'#Wed1Fv 23Dfvgh C4Rfcxcvg34fdsx$^fs2S $j'"
      ]
     },
     "execution_count": 4,
     "metadata": {},
     "output_type": "execute_result"
    }
   ],
   "source": [
    "st=\"#wed1fv 23dfvgh c4rfcxcvg34fdsx$^fs2s $j\"\n",
    "def titlecase(coll):\n",
    "    i=0\n",
    "    x=len(coll)\n",
    "    res=\"\"\n",
    "    d=\"\"\n",
    "    if 'a'<=coll[0]<='z':\n",
    "        res+=chr(ord(coll[0])-32)\n",
    "        i=1\n",
    "    elif 'A'<=coll[0]<='Z':\n",
    "        res+=coll[0]\n",
    "        i=1\n",
    "    \n",
    "    while i <x:\n",
    "        if (i==len(coll)-1 and not('a'<=coll[i]<='z' or 'A'<=coll[i]<='Z')):\n",
    "            d+=coll[i]\n",
    "        elif not('a'<=coll[i]<='z' or 'A'<=coll[i]<='Z'):\n",
    "            res+=coll[i]\n",
    "            if 'a'<=coll[i+1]<='z':\n",
    "                res+=chr(ord(coll[i+1])-32)\n",
    "            else:\n",
    "                res+=coll[i+1]\n",
    "            i+=1\n",
    "        elif 'A'<=coll[i]<='Z':\n",
    "            res+=chr(ord(coll[i])+32)\n",
    "        else:\n",
    "            res+=coll[i]\n",
    "        i+=1\n",
    "    res+=d\n",
    "    return res\n",
    "titlecase(st)\n"
   ]
  },
  {
   "cell_type": "code",
   "execution_count": 51,
   "metadata": {},
   "outputs": [
    {
     "data": {
      "text/plain": [
       "'---abd----'"
      ]
     },
     "execution_count": 51,
     "metadata": {},
     "output_type": "execute_result"
    }
   ],
   "source": [
    "#7 center\n",
    "a=\"abd\"\n",
    "a.center(10,'-')"
   ]
  },
  {
   "cell_type": "code",
   "execution_count": 10,
   "metadata": {},
   "outputs": [
    {
     "data": {
      "text/plain": [
       "'-------hello--------'"
      ]
     },
     "execution_count": 10,
     "metadata": {},
     "output_type": "execute_result"
    }
   ],
   "source": [
    "a=\"hello\"\n",
    "def cp(coll,width,fillchar=\" \"):\n",
    "    d=\"\"\n",
    "    if len(fillchar)>1:\n",
    "        return -1\n",
    "    res=width-len(coll)\n",
    "    l=res//2\n",
    "    r=res-l\n",
    "    res=l*fillchar+coll+r*fillchar\n",
    "    return res \n",
    "cp(a,20,'-')"
   ]
  },
  {
   "cell_type": "code",
   "execution_count": 14,
   "metadata": {},
   "outputs": [
    {
     "data": {
      "text/plain": [
       "True"
      ]
     },
     "execution_count": 14,
     "metadata": {},
     "output_type": "execute_result"
    }
   ],
   "source": [
    "# 8 istitle\n",
    "s='#Wed1Fv 23Dfvgh C4Rfcxcvg34Edsx$^Fs2S'\n",
    "s.istitle()\n"
   ]
  },
  {
   "cell_type": "code",
   "execution_count": 43,
   "metadata": {},
   "outputs": [
    {
     "data": {
      "text/plain": [
       "True"
      ]
     },
     "execution_count": 43,
     "metadata": {},
     "output_type": "execute_result"
    }
   ],
   "source": [
    "s='#Wed1Fv 23Dfvgh C4RfcAcvg34Esx$^Fs2S'\n",
    "def u_istitle(coll):\n",
    "    if 'a'<=coll[0]<='z':\n",
    "        return False\n",
    "    i=0\n",
    "    while i<len(coll):\n",
    "        if not('a'<=coll[i]<='z' or 'A'<=coll[i]<='Z'):\n",
    "            if 'a'<=coll[i+1]<='z':\n",
    "                return False\n",
    "        i+=1\n",
    "\n",
    "    return True\n",
    "u_istitle(s)\n"
   ]
  },
  {
   "cell_type": "code",
   "execution_count": 22,
   "metadata": {},
   "outputs": [
    {
     "data": {
      "text/plain": [
       "True"
      ]
     },
     "execution_count": 22,
     "metadata": {},
     "output_type": "execute_result"
    }
   ],
   "source": [
    "# 9 isupper\n",
    "st=\"HELLO23454  ^\"\n",
    "st.isupper()"
   ]
  },
  {
   "cell_type": "code",
   "execution_count": 25,
   "metadata": {},
   "outputs": [
    {
     "data": {
      "text/plain": [
       "True"
      ]
     },
     "execution_count": 25,
     "metadata": {},
     "output_type": "execute_result"
    }
   ],
   "source": [
    "st=\"HELO23454  ^\"\n",
    "def u_isupper(coll):\n",
    "    for i in coll:\n",
    "        if 'a'<=i<='z':\n",
    "            return False\n",
    "    return True\n",
    "u_isupper(st)\n"
   ]
  },
  {
   "cell_type": "code",
   "execution_count": 26,
   "metadata": {},
   "outputs": [
    {
     "data": {
      "text/plain": [
       "True"
      ]
     },
     "execution_count": 26,
     "metadata": {},
     "output_type": "execute_result"
    }
   ],
   "source": [
    "# 10 islower\n",
    "st=\"hello world23\"\n",
    "st.islower()"
   ]
  },
  {
   "cell_type": "code",
   "execution_count": 29,
   "metadata": {},
   "outputs": [
    {
     "data": {
      "text/plain": [
       "True"
      ]
     },
     "execution_count": 29,
     "metadata": {},
     "output_type": "execute_result"
    }
   ],
   "source": [
    "st=\"hello world23\"\n",
    "def u_lower(coll):\n",
    "    for i in coll:\n",
    "        if 'A'<=i<='Z':\n",
    "            return False\n",
    "    return True\n",
    "u_lower(st)"
   ]
  },
  {
   "cell_type": "code",
   "execution_count": 31,
   "metadata": {},
   "outputs": [
    {
     "data": {
      "text/plain": [
       "True"
      ]
     },
     "execution_count": 31,
     "metadata": {},
     "output_type": "execute_result"
    }
   ],
   "source": [
    "#11 isalpha\n",
    "st=\"weRT\"\n",
    "st.isalpha()\n"
   ]
  },
  {
   "cell_type": "code",
   "execution_count": 34,
   "metadata": {},
   "outputs": [
    {
     "data": {
      "text/plain": [
       "True"
      ]
     },
     "execution_count": 34,
     "metadata": {},
     "output_type": "execute_result"
    }
   ],
   "source": [
    "st=\"weareJUST\"\n",
    "def u_isalpha(coll):\n",
    "    for i in coll:\n",
    "        if '0'<=i<'9' or not('a'<=i<='z' or 'A'<=i<='Z'):\n",
    "            return False\n",
    "    return True\n",
    "u_isalpha(st)"
   ]
  },
  {
   "cell_type": "code",
   "execution_count": 39,
   "metadata": {},
   "outputs": [
    {
     "data": {
      "text/plain": [
       "True"
      ]
     },
     "execution_count": 39,
     "metadata": {},
     "output_type": "execute_result"
    }
   ],
   "source": [
    "# 12 isnumeric isdigit isdecimal   \n",
    "st=\"123\"               # only  positive integers\n",
    "st.isnumeric()"
   ]
  },
  {
   "cell_type": "code",
   "execution_count": 41,
   "metadata": {},
   "outputs": [
    {
     "data": {
      "text/plain": [
       "True"
      ]
     },
     "execution_count": 41,
     "metadata": {},
     "output_type": "execute_result"
    }
   ],
   "source": [
    "st=\"123485\"\n",
    "def u_isdigit(coll):\n",
    "    for i in coll:\n",
    "        if not('0'<=i<='9'):\n",
    "            return False\n",
    "    return True\n",
    "u_isdigit(st)"
   ]
  },
  {
   "cell_type": "code",
   "execution_count": 52,
   "metadata": {},
   "outputs": [
    {
     "data": {
      "text/plain": [
       "True"
      ]
     },
     "execution_count": 52,
     "metadata": {},
     "output_type": "execute_result"
    }
   ],
   "source": [
    "# 13 isidentifier\n",
    "s=\"r2_\"\n",
    "s.isidentifier()"
   ]
  },
  {
   "cell_type": "code",
   "execution_count": 50,
   "metadata": {},
   "outputs": [
    {
     "data": {
      "text/plain": [
       "True"
      ]
     },
     "execution_count": 50,
     "metadata": {},
     "output_type": "execute_result"
    }
   ],
   "source": [
    "s=\"wer54432_\"\n",
    "def u_isidentifier(coll):\n",
    "    if '0'<=coll[0]<='9':\n",
    "        return False\n",
    "    for i in coll:\n",
    "        if not('a'<=i<='z' or 'A'<=i<='Z' or '0'<=i<='9' or i=='_'):\n",
    "            return False\n",
    "    return True\n",
    "u_isidentifier(s)\n",
    "\n"
   ]
  },
  {
   "cell_type": "code",
   "execution_count": 53,
   "metadata": {},
   "outputs": [
    {
     "data": {
      "text/plain": [
       "True"
      ]
     },
     "execution_count": 53,
     "metadata": {},
     "output_type": "execute_result"
    }
   ],
   "source": [
    "# 14 isalnum\n",
    "st=\"wertSDCV23\"\n",
    "st.isalnum()"
   ]
  },
  {
   "cell_type": "code",
   "execution_count": 54,
   "metadata": {},
   "outputs": [
    {
     "data": {
      "text/plain": [
       "True"
      ]
     },
     "execution_count": 54,
     "metadata": {},
     "output_type": "execute_result"
    }
   ],
   "source": [
    "st=\"ASD345werf\"\n",
    "def u_isalnum(coll):\n",
    "    for i in coll:\n",
    "        if not('a'<=i<='z' or 'A'<=i<='Z' or '0'<=i<='9'):\n",
    "            return False\n",
    "    return True\n",
    "u_isalnum(st)"
   ]
  },
  {
   "cell_type": "code",
   "execution_count": 55,
   "metadata": {},
   "outputs": [
    {
     "data": {
      "text/plain": [
       "'ax+bdf+efgj+dcfvbnk'"
      ]
     },
     "execution_count": 55,
     "metadata": {},
     "output_type": "execute_result"
    }
   ],
   "source": [
    "# 15 join accept only strings in the collection \n",
    "l=['ax','bdf','efgj','dcfvbnk']\n",
    "\"+\".join(l)"
   ]
  },
  {
   "cell_type": "code",
   "execution_count": 9,
   "metadata": {},
   "outputs": [
    {
     "data": {
      "text/plain": [
       "'ax-bdf-efgj-dcfvbnk'"
      ]
     },
     "execution_count": 9,
     "metadata": {},
     "output_type": "execute_result"
    }
   ],
   "source": [
    "# join\n",
    "l=['ax','bdf','efgj','dcfvbnk']\n",
    "def u_join(coll,sep=\"\"):\n",
    "    for i in coll:\n",
    "        if type(i)!=str:\n",
    "            return False\n",
    "    res=\"\"\n",
    "    for i in coll:\n",
    "        res+=i+sep\n",
    "    if sep==\"\":\n",
    "        return res\n",
    "    else:\n",
    "        return res[:-len(sep)]\n",
    "u_join(l,\"-\") \n",
    "    \n"
   ]
  },
  {
   "cell_type": "code",
   "execution_count": 13,
   "metadata": {},
   "outputs": [
    {
     "data": {
      "text/plain": [
       "False"
      ]
     },
     "execution_count": 13,
     "metadata": {},
     "output_type": "execute_result"
    }
   ],
   "source": [
    "# 16 isspace only accepts spaces not accept empty collection\n",
    "st=\"    \"\n",
    "st.isspace()"
   ]
  },
  {
   "cell_type": "code",
   "execution_count": 24,
   "metadata": {},
   "outputs": [
    {
     "data": {
      "text/plain": [
       "True"
      ]
     },
     "execution_count": 24,
     "metadata": {},
     "output_type": "execute_result"
    }
   ],
   "source": [
    "st=\"           \"\n",
    "def u_isspace(coll):\n",
    "    if len(coll)==0 :\n",
    "        return False\n",
    "    else:\n",
    "        for i in coll:\n",
    "            if i!=\" \":\n",
    "                return False\n",
    "        return True\n",
    "u_isspace(st)"
   ]
  },
  {
   "cell_type": "code",
   "execution_count": 25,
   "metadata": {},
   "outputs": [
    {
     "data": {
      "text/plain": [
       "True"
      ]
     },
     "execution_count": 25,
     "metadata": {},
     "output_type": "execute_result"
    }
   ],
   "source": [
    "st=\"           \"\n",
    "def u_isspace(coll):\n",
    "    if coll!=\"\":\n",
    "        for i in coll:\n",
    "            if i!=\" \":\n",
    "                return False\n",
    "        return True\n",
    "    return False\n",
    "u_isspace(st)"
   ]
  },
  {
   "cell_type": "code",
   "execution_count": 10,
   "metadata": {},
   "outputs": [
    {
     "data": {
      "text/plain": [
       "2"
      ]
     },
     "execution_count": 10,
     "metadata": {},
     "output_type": "execute_result"
    }
   ],
   "source": [
    "# 17 count  is used to count the specific char\n",
    "st=\"Hello world\"\n",
    "st.count('l',2,8)"
   ]
  },
  {
   "cell_type": "code",
   "execution_count": null,
   "metadata": {},
   "outputs": [],
   "source": [
    "st=\"hello world\"\n"
   ]
  }
 ],
 "metadata": {
  "kernelspec": {
   "display_name": "Python 3",
   "language": "python",
   "name": "python3"
  },
  "language_info": {
   "codemirror_mode": {
    "name": "ipython",
    "version": 3
   },
   "file_extension": ".py",
   "mimetype": "text/x-python",
   "name": "python",
   "nbconvert_exporter": "python",
   "pygments_lexer": "ipython3",
   "version": "3.11.4"
  },
  "orig_nbformat": 4
 },
 "nbformat": 4,
 "nbformat_minor": 2
}
