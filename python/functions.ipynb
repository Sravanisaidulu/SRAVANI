{
 "cells": [
  {
   "cell_type": "code",
   "execution_count": 1,
   "metadata": {},
   "outputs": [
    {
     "name": "stdout",
     "output_type": "stream",
     "text": [
      "HELLO HAII 123 @#%\n"
     ]
    }
   ],
   "source": [
    "# function without arguments and without return statement\n",
    "def Upper():\n",
    "    st=\"hello Haii 123 @#%\"\n",
    "    res=\"\"\n",
    "    for i in st:\n",
    "        if 'a'<=i<='z':\n",
    "            res+=chr(ord(i)-32)\n",
    "        else:\n",
    "            res+=i\n",
    "    print(res)\n",
    "Upper()"
   ]
  },
  {
   "cell_type": "code",
   "execution_count": 3,
   "metadata": {},
   "outputs": [
    {
     "name": "stdout",
     "output_type": "stream",
     "text": [
      "HELLO HAII 123 $%#\n",
      "I LOVE YOU\n"
     ]
    }
   ],
   "source": [
    "# function with arg and without return statment\n",
    "def Upper(st):\n",
    "    res=\"\"\n",
    "    for i in st:\n",
    "        if 'a'<=i<='z':\n",
    "            res+=chr(ord(i)-32)\n",
    "        else:\n",
    "            res+=i\n",
    "    print(res)\n",
    "Upper('Hello haii 123 $%#')\n",
    "Upper('i love you')\n"
   ]
  },
  {
   "cell_type": "code",
   "execution_count": 8,
   "metadata": {},
   "outputs": [
    {
     "name": "stdout",
     "output_type": "stream",
     "text": [
      "I LOVE INDIA 34 hoo\n"
     ]
    }
   ],
   "source": [
    "# function without argument with return statement\n",
    "def Upper():\n",
    "    st='i love india 34'\n",
    "    res=\"\"\n",
    "    for i in st:\n",
    "        if 'a'<=i<='z':\n",
    "            res+=chr(ord(i)-32)\n",
    "        else:\n",
    "            res+=i\n",
    "    return res\n",
    "t=Upper()\n",
    "t+=' hoo'\n",
    "print(t)"
   ]
  },
  {
   "cell_type": "code",
   "execution_count": 10,
   "metadata": {},
   "outputs": [
    {
     "data": {
      "text/plain": [
       "'I LOVE INDIA 34'"
      ]
     },
     "execution_count": 10,
     "metadata": {},
     "output_type": "execute_result"
    }
   ],
   "source": [
    "# function with argument with return statement\n",
    "x=\"hello world huYS\"\n",
    "def Upper(st):\n",
    "    st='i love india 34'\n",
    "    res=\"\"\n",
    "    for i in st:\n",
    "        if 'a'<=i<='z':\n",
    "            res+=chr(ord(i)-32)\n",
    "        else:\n",
    "            res+=i\n",
    "    return res\n",
    "Upper(x)"
   ]
  },
  {
   "cell_type": "code",
   "execution_count": 26,
   "metadata": {},
   "outputs": [
    {
     "data": {
      "text/plain": [
       "'Hello 1234'"
      ]
     },
     "execution_count": 26,
     "metadata": {},
     "output_type": "execute_result"
    }
   ],
   "source": [
    "#1. Capatilze\n",
    "st=\"hello 1234\"\n",
    "st.capitalize()"
   ]
  },
  {
   "cell_type": "code",
   "execution_count": 30,
   "metadata": {},
   "outputs": [
    {
     "data": {
      "text/plain": [
       "'Hello world 123%67'"
      ]
     },
     "execution_count": 30,
     "metadata": {},
     "output_type": "execute_result"
    }
   ],
   "source": [
    "st=\"hello world 123%67\"\n",
    "def u_captial(coll):\n",
    "    res=\"\"\n",
    "    if 'a'<=coll[0]<='z':\n",
    "        res+=chr(ord(coll[0])-32)\n",
    "    else:\n",
    "        res+=coll[0]\n",
    "    for i in range(1,len(coll)):\n",
    "        res+=coll[i]\n",
    "    return res\n",
    "u_captial(st)\n"
   ]
  },
  {
   "cell_type": "code",
   "execution_count": 31,
   "metadata": {},
   "outputs": [
    {
     "data": {
      "text/plain": [
       "'hello world 1'"
      ]
     },
     "execution_count": 31,
     "metadata": {},
     "output_type": "execute_result"
    }
   ],
   "source": [
    "# 2. casefold: no upper case char in coll\n",
    "st=\"Hello world 1\"\n",
    "st.casefold()"
   ]
  },
  {
   "cell_type": "code",
   "execution_count": 32,
   "metadata": {},
   "outputs": [
    {
     "data": {
      "text/plain": [
       "'hello world 1'"
      ]
     },
     "execution_count": 32,
     "metadata": {},
     "output_type": "execute_result"
    }
   ],
   "source": [
    "s='Hello world 1'\n",
    "def cs(coll):\n",
    "    res=\"\"\n",
    "    for i in coll:\n",
    "        if 'A'<=i<='Z':\n",
    "            res+=chr(ord(i)+32)\n",
    "        else:\n",
    "            res+=i\n",
    "    return res\n",
    "cs(s)"
   ]
  },
  {
   "cell_type": "code",
   "execution_count": 34,
   "metadata": {},
   "outputs": [
    {
     "data": {
      "text/plain": [
       "'HELLO WORLD456@34'"
      ]
     },
     "execution_count": 34,
     "metadata": {},
     "output_type": "execute_result"
    }
   ],
   "source": [
    "# 3 upper\n",
    "st=\"hello world456@34\"\n",
    "st.upper()"
   ]
  },
  {
   "cell_type": "code",
   "execution_count": 35,
   "metadata": {},
   "outputs": [
    {
     "data": {
      "text/plain": [
       "'HELLO WORLD456@34'"
      ]
     },
     "execution_count": 35,
     "metadata": {},
     "output_type": "execute_result"
    }
   ],
   "source": [
    "st=\"hello world456@34\"\n",
    "def uppercase(coll):\n",
    "    res=\"\"\n",
    "    for i in coll:\n",
    "        if 'a'<=i<='z':\n",
    "            res+=chr(ord(i)-32)\n",
    "        else:\n",
    "            res+=i\n",
    "    return res\n",
    "uppercase(st)"
   ]
  },
  {
   "cell_type": "code",
   "execution_count": 36,
   "metadata": {},
   "outputs": [
    {
     "data": {
      "text/plain": [
       "'hello gu#$456'"
      ]
     },
     "execution_count": 36,
     "metadata": {},
     "output_type": "execute_result"
    }
   ],
   "source": [
    "# 4. lower\n",
    "st=\"HELLO gu#$456\"\n",
    "st.lower()"
   ]
  },
  {
   "cell_type": "code",
   "execution_count": 37,
   "metadata": {},
   "outputs": [
    {
     "data": {
      "text/plain": [
       "'hello gu#$456'"
      ]
     },
     "execution_count": 37,
     "metadata": {},
     "output_type": "execute_result"
    }
   ],
   "source": [
    "st=\"HELLO gu#$456\"\n",
    "def lowercase(coll):\n",
    "    res=\"\"\n",
    "    for i in coll:\n",
    "        if 'A'<=i<='Z':\n",
    "            res+=chr(ord(i)+32)\n",
    "        else:\n",
    "            res+=i\n",
    "    return res\n",
    "lowercase(st)"
   ]
  },
  {
   "cell_type": "code",
   "execution_count": 38,
   "metadata": {},
   "outputs": [
    {
     "data": {
      "text/plain": [
       "'WERFGwertfg34^&8'"
      ]
     },
     "execution_count": 38,
     "metadata": {},
     "output_type": "execute_result"
    }
   ],
   "source": [
    "#5 swapcase\n",
    "st=\"werfgWERTFG34^&8\"\n",
    "st.swapcase()"
   ]
  },
  {
   "cell_type": "code",
   "execution_count": 39,
   "metadata": {},
   "outputs": [
    {
     "data": {
      "text/plain": [
       "'WERFGwertfg34^&8'"
      ]
     },
     "execution_count": 39,
     "metadata": {},
     "output_type": "execute_result"
    }
   ],
   "source": [
    "st=\"werfgWERTFG34^&8\"\n",
    "def swap(coll):\n",
    "    res=\"\"\n",
    "    for i in coll:\n",
    "        if 'a'<=i<='z':\n",
    "            res+=chr(ord(i)-32)\n",
    "        elif 'A'<=i<='Z':\n",
    "            res+=chr(ord(i)+32)\n",
    "        else:\n",
    "            res+=i\n",
    "    return res\n",
    "swap(st) "
   ]
  },
  {
   "cell_type": "code",
   "execution_count": 5,
   "metadata": {},
   "outputs": [
    {
     "data": {
      "text/plain": [
       "'Wedfv 23Dfvgh C4Rfcxcvg34Fdsx$^F #L'"
      ]
     },
     "execution_count": 5,
     "metadata": {},
     "output_type": "execute_result"
    }
   ],
   "source": [
    "#6 title\n",
    "st=\"wedfv 23dfvgh c4rfcxcvg34fdsx$^f #l\"\n",
    "st.title()"
   ]
  },
  {
   "cell_type": "code",
   "execution_count": 2,
   "metadata": {},
   "outputs": [
    {
     "data": {
      "text/plain": [
       "'#Wed1Fv 23Dfvgh C4Rfcxcvg34fdsx$^fs2S $$'"
      ]
     },
     "execution_count": 2,
     "metadata": {},
     "output_type": "execute_result"
    }
   ],
   "source": [
    "st=\"#wed1fv 23dfvgh c4rfcxcvg34fdsx$^fs2s $\"\n",
    "def titlecase(coll):\n",
    "    i=0\n",
    "    x=len(coll)\n",
    "    res=\"\"\n",
    "    d=\"\"\n",
    "    if 'a'<=coll[0]<='z':\n",
    "        res+=chr(ord(coll[0])-32)\n",
    "        i=1\n",
    "    elif 'A'<=coll[0]<='Z':\n",
    "        res+=coll[0]\n",
    "        i=1\n",
    "    #if ('a'<=coll[-2]<='z' or 'A'<=coll[-2]<='Z'):\n",
    "    if not('a'<=coll[-1]<='z' or 'A'<=coll[-1]<='Z'):\n",
    "        d+=coll[-1]\n",
    "        x=len(coll)-1\n",
    "    while i<x:\n",
    "        if not('a'<=coll[i]<='z' or 'A'<=coll[i]<='Z'):\n",
    "            res+=coll[i]\n",
    "            if 'a'<=coll[i+1]<='z':\n",
    "                res+=chr(ord(coll[i+1])-32)\n",
    "            else:\n",
    "                res+=coll[i+1]\n",
    "            i+=1\n",
    "        elif 'A'<=coll[i]<='Z':\n",
    "            res+=chr(ord(coll[i])+32)\n",
    "        else:\n",
    "            res+=coll[i]\n",
    "        i+=1\n",
    "    res+=d\n",
    "    return res\n",
    "titlecase(st)\n"
   ]
  },
  {
   "cell_type": "code",
   "execution_count": 4,
   "metadata": {},
   "outputs": [
    {
     "data": {
      "text/plain": [
       "'#Wed1Fv 23Dfvgh C4Rfcxcvg34fdsx$^fs2S $j'"
      ]
     },
     "execution_count": 4,
     "metadata": {},
     "output_type": "execute_result"
    }
   ],
   "source": [
    "st=\"#wed1fv 23dfvgh c4rfcxcvg34fdsx$^fs2s $j\"\n",
    "def titlecase(coll):\n",
    "    i=0\n",
    "    x=len(coll)\n",
    "    res=\"\"\n",
    "    d=\"\"\n",
    "    if 'a'<=coll[0]<='z':\n",
    "        res+=chr(ord(coll[0])-32)\n",
    "        i=1\n",
    "    elif 'A'<=coll[0]<='Z':\n",
    "        res+=coll[0]\n",
    "        i=1\n",
    "    \n",
    "    while i <x:\n",
    "        if (i==len(coll)-1 and not('a'<=coll[i]<='z' or 'A'<=coll[i]<='Z')):\n",
    "            d+=coll[i]\n",
    "        elif not('a'<=coll[i]<='z' or 'A'<=coll[i]<='Z'):\n",
    "            res+=coll[i]\n",
    "            if 'a'<=coll[i+1]<='z':\n",
    "                res+=chr(ord(coll[i+1])-32)\n",
    "            else:\n",
    "                res+=coll[i+1]\n",
    "            i+=1\n",
    "        elif 'A'<=coll[i]<='Z':\n",
    "            res+=chr(ord(coll[i])+32)\n",
    "        else:\n",
    "            res+=coll[i]\n",
    "        i+=1\n",
    "    res+=d\n",
    "    return res\n",
    "titlecase(st)\n"
   ]
  },
  {
   "cell_type": "code",
   "execution_count": 51,
   "metadata": {},
   "outputs": [
    {
     "data": {
      "text/plain": [
       "'---abd----'"
      ]
     },
     "execution_count": 51,
     "metadata": {},
     "output_type": "execute_result"
    }
   ],
   "source": [
    "#7 center\n",
    "a=\"abd\"\n",
    "a.center(10,'-')"
   ]
  },
  {
   "cell_type": "code",
   "execution_count": 10,
   "metadata": {},
   "outputs": [
    {
     "data": {
      "text/plain": [
       "'-------hello--------'"
      ]
     },
     "execution_count": 10,
     "metadata": {},
     "output_type": "execute_result"
    }
   ],
   "source": [
    "a=\"hello\"\n",
    "def cp(coll,width,fillchar=\" \"):\n",
    "    d=\"\"\n",
    "    if len(fillchar)>1:\n",
    "        return -1\n",
    "    res=width-len(coll)\n",
    "    l=res//2\n",
    "    r=res-l\n",
    "    res=l*fillchar+coll+r*fillchar\n",
    "    return res \n",
    "cp(a,20,'-')"
   ]
  },
  {
   "cell_type": "code",
   "execution_count": 17,
   "metadata": {},
   "outputs": [
    {
     "data": {
      "text/plain": [
       "True"
      ]
     },
     "execution_count": 17,
     "metadata": {},
     "output_type": "execute_result"
    }
   ],
   "source": [
    "# 8 istitle\n",
    "s='#Wed1Fv 23Dfvgh C4Rfcxcvg34Edsx$^Fs2S #1Es'\n",
    "s.istitle()\n"
   ]
  },
  {
   "cell_type": "code",
   "execution_count": 26,
   "metadata": {},
   "outputs": [
    {
     "data": {
      "text/plain": [
       "True"
      ]
     },
     "execution_count": 26,
     "metadata": {},
     "output_type": "execute_result"
    }
   ],
   "source": [
    "s='#Wed1Fv 23Dfvgh C43Afccvg34Esx A^Fs2S #1Es'\n",
    "def u_istitle(coll):\n",
    "    if 'a'<=coll[0]<='z':\n",
    "        return False\n",
    "    i=0\n",
    "    while i<len(coll):\n",
    "        if not('a'<=coll[i]<='z' or 'A'<=coll[i]<='Z'):\n",
    "            if 'a'<=coll[i+1]<='z':\n",
    "                return False\n",
    "        elif 'a'<=coll[i]<='z' and i!=len(coll)-1:\n",
    "            if 'A'<=coll[i+1]<='Z':\n",
    "                return False\n",
    "        i+=1\n",
    "\n",
    "    return True\n",
    "u_istitle(s)\n"
   ]
  },
  {
   "cell_type": "code",
   "execution_count": 22,
   "metadata": {},
   "outputs": [
    {
     "data": {
      "text/plain": [
       "True"
      ]
     },
     "execution_count": 22,
     "metadata": {},
     "output_type": "execute_result"
    }
   ],
   "source": [
    "# 9 isupper\n",
    "st=\"HELLO23454  ^\"\n",
    "st.isupper()"
   ]
  },
  {
   "cell_type": "code",
   "execution_count": 25,
   "metadata": {},
   "outputs": [
    {
     "data": {
      "text/plain": [
       "True"
      ]
     },
     "execution_count": 25,
     "metadata": {},
     "output_type": "execute_result"
    }
   ],
   "source": [
    "st=\"HELO23454  ^\"\n",
    "def u_isupper(coll):\n",
    "    for i in coll:\n",
    "        if 'a'<=i<='z':\n",
    "            return False\n",
    "    return True\n",
    "u_isupper(st)\n"
   ]
  },
  {
   "cell_type": "code",
   "execution_count": 26,
   "metadata": {},
   "outputs": [
    {
     "data": {
      "text/plain": [
       "True"
      ]
     },
     "execution_count": 26,
     "metadata": {},
     "output_type": "execute_result"
    }
   ],
   "source": [
    "# 10 islower\n",
    "st=\"hello world23\"\n",
    "st.islower()"
   ]
  },
  {
   "cell_type": "code",
   "execution_count": 29,
   "metadata": {},
   "outputs": [
    {
     "data": {
      "text/plain": [
       "True"
      ]
     },
     "execution_count": 29,
     "metadata": {},
     "output_type": "execute_result"
    }
   ],
   "source": [
    "st=\"hello world23\"\n",
    "def u_lower(coll):\n",
    "    for i in coll:\n",
    "        if 'A'<=i<='Z':\n",
    "            return False\n",
    "    return True\n",
    "u_lower(st)"
   ]
  },
  {
   "cell_type": "code",
   "execution_count": 31,
   "metadata": {},
   "outputs": [
    {
     "data": {
      "text/plain": [
       "True"
      ]
     },
     "execution_count": 31,
     "metadata": {},
     "output_type": "execute_result"
    }
   ],
   "source": [
    "#11 isalpha\n",
    "st=\"weRT\"\n",
    "st.isalpha()\n"
   ]
  },
  {
   "cell_type": "code",
   "execution_count": 34,
   "metadata": {},
   "outputs": [
    {
     "data": {
      "text/plain": [
       "True"
      ]
     },
     "execution_count": 34,
     "metadata": {},
     "output_type": "execute_result"
    }
   ],
   "source": [
    "st=\"weareJUST\"\n",
    "def u_isalpha(coll):\n",
    "    for i in coll:\n",
    "        if '0'<=i<'9' or not('a'<=i<='z' or 'A'<=i<='Z'):\n",
    "            return False\n",
    "    return True\n",
    "u_isalpha(st)"
   ]
  },
  {
   "cell_type": "code",
   "execution_count": 39,
   "metadata": {},
   "outputs": [
    {
     "data": {
      "text/plain": [
       "True"
      ]
     },
     "execution_count": 39,
     "metadata": {},
     "output_type": "execute_result"
    }
   ],
   "source": [
    "# 12 isnumeric isdigit isdecimal   \n",
    "st=\"123\"               # only  positive integers\n",
    "st.isnumeric()"
   ]
  },
  {
   "cell_type": "code",
   "execution_count": 41,
   "metadata": {},
   "outputs": [
    {
     "data": {
      "text/plain": [
       "True"
      ]
     },
     "execution_count": 41,
     "metadata": {},
     "output_type": "execute_result"
    }
   ],
   "source": [
    "st=\"123485\"\n",
    "def u_isdigit(coll):\n",
    "    for i in coll:\n",
    "        if not('0'<=i<='9'):\n",
    "            return False\n",
    "    return True\n",
    "u_isdigit(st)"
   ]
  },
  {
   "cell_type": "code",
   "execution_count": 52,
   "metadata": {},
   "outputs": [
    {
     "data": {
      "text/plain": [
       "True"
      ]
     },
     "execution_count": 52,
     "metadata": {},
     "output_type": "execute_result"
    }
   ],
   "source": [
    "# 13 isidentifier\n",
    "s=\"r2_\"\n",
    "s.isidentifier()"
   ]
  },
  {
   "cell_type": "code",
   "execution_count": 50,
   "metadata": {},
   "outputs": [
    {
     "data": {
      "text/plain": [
       "True"
      ]
     },
     "execution_count": 50,
     "metadata": {},
     "output_type": "execute_result"
    }
   ],
   "source": [
    "s=\"wer54432_\"\n",
    "def u_isidentifier(coll):\n",
    "    if '0'<=coll[0]<='9':\n",
    "        return False\n",
    "    for i in coll:\n",
    "        if not('a'<=i<='z' or 'A'<=i<='Z' or '0'<=i<='9' or i=='_'):\n",
    "            return False\n",
    "    return True\n",
    "u_isidentifier(s)\n",
    "\n"
   ]
  },
  {
   "cell_type": "code",
   "execution_count": 53,
   "metadata": {},
   "outputs": [
    {
     "data": {
      "text/plain": [
       "True"
      ]
     },
     "execution_count": 53,
     "metadata": {},
     "output_type": "execute_result"
    }
   ],
   "source": [
    "# 14 isalnum\n",
    "st=\"wertSDCV23\"\n",
    "st.isalnum()"
   ]
  },
  {
   "cell_type": "code",
   "execution_count": 39,
   "metadata": {},
   "outputs": [
    {
     "data": {
      "text/plain": [
       "True"
      ]
     },
     "execution_count": 39,
     "metadata": {},
     "output_type": "execute_result"
    }
   ],
   "source": [
    "st=\"ASD345werf\"\n",
    "def u_isalnum(coll):\n",
    "    for i in coll:\n",
    "        if not('a'<=i<='z' or 'A'<=i<='Z' or '0'<=i<='9'):\n",
    "            return False\n",
    "    return True\n",
    "u_isalnum(st)"
   ]
  },
  {
   "cell_type": "code",
   "execution_count": 55,
   "metadata": {},
   "outputs": [
    {
     "data": {
      "text/plain": [
       "'ax+bdf+efgj+dcfvbnk'"
      ]
     },
     "execution_count": 55,
     "metadata": {},
     "output_type": "execute_result"
    }
   ],
   "source": [
    "# 15 join accept only strings in the collection \n",
    "l=['ax','bdf','efgj','dcfvbnk']\n",
    "\"+\".join(l)"
   ]
  },
  {
   "cell_type": "code",
   "execution_count": 9,
   "metadata": {},
   "outputs": [
    {
     "data": {
      "text/plain": [
       "'ax-bdf-efgj-dcfvbnk'"
      ]
     },
     "execution_count": 9,
     "metadata": {},
     "output_type": "execute_result"
    }
   ],
   "source": [
    "# join\n",
    "l=['ax','bdf','efgj','dcfvbnk']\n",
    "def u_join(coll,sep=\"\"):\n",
    "    for i in coll:\n",
    "        if type(i)!=str:\n",
    "            return False\n",
    "    res=\"\"\n",
    "    for i in coll:\n",
    "        res+=i+sep\n",
    "    if sep==\"\":\n",
    "        return res\n",
    "    else:\n",
    "        return res[:-len(sep)]\n",
    "u_join(l,\"-\") \n",
    "    \n"
   ]
  },
  {
   "cell_type": "code",
   "execution_count": 3,
   "metadata": {},
   "outputs": [
    {
     "data": {
      "text/plain": [
       "True"
      ]
     },
     "execution_count": 3,
     "metadata": {},
     "output_type": "execute_result"
    }
   ],
   "source": [
    "# 16 isspace only accepts spaces not accept empty collection\n",
    "st=\"   \"\n",
    "st.isspace()"
   ]
  },
  {
   "cell_type": "code",
   "execution_count": 24,
   "metadata": {},
   "outputs": [
    {
     "data": {
      "text/plain": [
       "True"
      ]
     },
     "execution_count": 24,
     "metadata": {},
     "output_type": "execute_result"
    }
   ],
   "source": [
    "st=\"           \"\n",
    "def u_isspace(coll):\n",
    "    if len(coll)==0 :\n",
    "        return False\n",
    "    else:\n",
    "        for i in coll:\n",
    "            if i!=\" \":\n",
    "                return False\n",
    "        return True\n",
    "u_isspace(st)"
   ]
  },
  {
   "cell_type": "code",
   "execution_count": 25,
   "metadata": {},
   "outputs": [
    {
     "data": {
      "text/plain": [
       "True"
      ]
     },
     "execution_count": 25,
     "metadata": {},
     "output_type": "execute_result"
    }
   ],
   "source": [
    "st=\"           \"\n",
    "def u_isspace(coll):\n",
    "    if coll!=\"\":\n",
    "        for i in coll:\n",
    "            if i!=\" \":\n",
    "                return False\n",
    "        return True\n",
    "    return False\n",
    "u_isspace(st)"
   ]
  },
  {
   "cell_type": "code",
   "execution_count": 54,
   "metadata": {},
   "outputs": [
    {
     "data": {
      "text/plain": [
       "2"
      ]
     },
     "execution_count": 54,
     "metadata": {},
     "output_type": "execute_result"
    }
   ],
   "source": [
    "# 17 count  is used to count the specific char\n",
    "st=\"Hello world\"\n",
    "st.count('l',0,8)"
   ]
  },
  {
   "cell_type": "code",
   "execution_count": 15,
   "metadata": {},
   "outputs": [
    {
     "data": {
      "text/plain": [
       "1"
      ]
     },
     "execution_count": 15,
     "metadata": {},
     "output_type": "execute_result"
    }
   ],
   "source": [
    "# how many times occured\n",
    "st=\"hello world\"\n",
    "def u_count(coll,ele,start=0,end=None):\n",
    "    if end==None:\n",
    "        end=len(coll)\n",
    "    count=0\n",
    "    for i in range(start,end):\n",
    "        if coll[i]==ele:\n",
    "            count+=1\n",
    "    return count\n",
    "u_count(st,'l',3,9)\n",
    "        \n"
   ]
  },
  {
   "cell_type": "code",
   "execution_count": 27,
   "metadata": {},
   "outputs": [
    {
     "data": {
      "text/plain": [
       "2"
      ]
     },
     "execution_count": 27,
     "metadata": {},
     "output_type": "execute_result"
    }
   ],
   "source": [
    "# how many time repeated\n",
    "st=\"hello world\"\n",
    "def u_count(coll,ele,start=0,end=None):\n",
    "    if end==None:\n",
    "        end=len(coll)\n",
    "    count=0\n",
    "    for i in range(start,end):\n",
    "        if coll[i]==ele:\n",
    "            count+=1\n",
    "    return count-1\n",
    "u_count(st,'l',0)"
   ]
  },
  {
   "cell_type": "code",
   "execution_count": 22,
   "metadata": {},
   "outputs": [
    {
     "name": "stdout",
     "output_type": "stream",
     "text": [
      "2\n",
      "-1\n",
      "9\n"
     ]
    },
    {
     "ename": "ValueError",
     "evalue": "substring not found",
     "output_type": "error",
     "traceback": [
      "\u001b[1;31m---------------------------------------------------------------------------\u001b[0m",
      "\u001b[1;31mValueError\u001b[0m                                Traceback (most recent call last)",
      "\u001b[1;32mc:\\Users\\sravani\\OneDrive\\Documents\\GitHub\\SRAVANI\\python\\functions.ipynb Cell 41\u001b[0m line \u001b[0;36m7\n\u001b[0;32m      <a href='vscode-notebook-cell:/c%3A/Users/sravani/OneDrive/Documents/GitHub/SRAVANI/python/functions.ipynb#X56sZmlsZQ%3D%3D?line=4'>5</a>\u001b[0m \u001b[39mprint\u001b[39m(st\u001b[39m.\u001b[39mfind(\u001b[39m'\u001b[39m\u001b[39mL\u001b[39m\u001b[39m'\u001b[39m))\n\u001b[0;32m      <a href='vscode-notebook-cell:/c%3A/Users/sravani/OneDrive/Documents/GitHub/SRAVANI/python/functions.ipynb#X56sZmlsZQ%3D%3D?line=5'>6</a>\u001b[0m \u001b[39mprint\u001b[39m(st\u001b[39m.\u001b[39mindex(\u001b[39m'\u001b[39m\u001b[39ml\u001b[39m\u001b[39m'\u001b[39m,\u001b[39m5\u001b[39m))\n\u001b[1;32m----> <a href='vscode-notebook-cell:/c%3A/Users/sravani/OneDrive/Documents/GitHub/SRAVANI/python/functions.ipynb#X56sZmlsZQ%3D%3D?line=6'>7</a>\u001b[0m \u001b[39mprint\u001b[39m(st\u001b[39m.\u001b[39;49mindex(\u001b[39m'\u001b[39;49m\u001b[39mL\u001b[39;49m\u001b[39m'\u001b[39;49m))\n",
      "\u001b[1;31mValueError\u001b[0m: substring not found"
     ]
    }
   ],
   "source": [
    "# 18 find() and index() both have same logic but element not present find return -1 ,index return value error and\n",
    "# element present it return 1 occured index position\n",
    "st=\"hello world\"\n",
    "print(st.find('l',0,7))\n",
    "print(st.find('L'))\n",
    "print(st.index('l',5))\n",
    "print(st.index('L'))"
   ]
  },
  {
   "cell_type": "code",
   "execution_count": 25,
   "metadata": {},
   "outputs": [
    {
     "data": {
      "text/plain": [
       "4"
      ]
     },
     "execution_count": 25,
     "metadata": {},
     "output_type": "execute_result"
    }
   ],
   "source": [
    "# first occurance specifc char\n",
    "st=\"hello world\"\n",
    "def u_find(coll,ele,start=0,end=None):\n",
    "    if end==None:\n",
    "        end=len(coll)\n",
    "    if ele not in coll[start:end]:\n",
    "        return -1\n",
    "    for i in range(start,end):\n",
    "        if coll[i]==ele:\n",
    "            return i\n",
    "u_find(st,'o',3)\n",
    "    "
   ]
  },
  {
   "cell_type": "code",
   "execution_count": 32,
   "metadata": {},
   "outputs": [
    {
     "data": {
      "text/plain": [
       "17"
      ]
     },
     "execution_count": 32,
     "metadata": {},
     "output_type": "execute_result"
    }
   ],
   "source": [
    "# nth occurance specific char\n",
    "st=\"baribe world baribe land \"\n",
    "def u_index(coll,ele,n,start=0,end=None):\n",
    "    if end==None:\n",
    "        end=len(coll)\n",
    "    if ele not in coll[start:end]:\n",
    "        return -1\n",
    "    count=0\n",
    "    for i in range(start,end):\n",
    "        if ele==coll[i]:\n",
    "            count+=1\n",
    "        if count==n:\n",
    "            return i\n",
    "    return -1\n",
    "u_index(st,'b',2,6,18)"
   ]
  },
  {
   "cell_type": "code",
   "execution_count": 36,
   "metadata": {},
   "outputs": [
    {
     "data": {
      "text/plain": [
       "17"
      ]
     },
     "execution_count": 36,
     "metadata": {},
     "output_type": "execute_result"
    }
   ],
   "source": [
    "# last occurance specifi char\n",
    "st=\"baribe world baribe land \"\n",
    "def u_find(coll,ele,start=0,end=None):\n",
    "    if end==None:\n",
    "        end=len(coll)\n",
    "    if ele not in coll[start:end]:\n",
    "        return -1\n",
    "    l=[]\n",
    "    while start<end:\n",
    "        if coll[start]==ele:\n",
    "            l+=[start]\n",
    "        start+=1\n",
    "    return l[-1]\n",
    "u_find(st,'b')\n",
    "\n"
   ]
  },
  {
   "cell_type": "code",
   "execution_count": 47,
   "metadata": {},
   "outputs": [
    {
     "name": "stdout",
     "output_type": "stream",
     "text": [
      "{'i': 2, 'b': 3, 'e': 2, ' ': 3, 'w': 1, 'o': 1, 'r': 2, 'l': 2, 'd': 2, 'a': 2, 'n': 1}\n"
     ]
    },
    {
     "data": {
      "text/plain": [
       "'b'"
      ]
     },
     "execution_count": 47,
     "metadata": {},
     "output_type": "execute_result"
    }
   ],
   "source": [
    "# max first repeated char\n",
    "st=\"baribe world baribe land \"\n",
    "def u_find(coll,start=0,end=None):\n",
    "    if end==None:\n",
    "        end=len(coll)\n",
    "    d={}\n",
    "    while start<end:\n",
    "        if  coll[start] not in d:\n",
    "            d[coll[start]]=1\n",
    "        else:\n",
    "            d[coll[start]]+=1\n",
    "        start+=1\n",
    "    print(d)\n",
    "    l=list(d)\n",
    "    i=0\n",
    "    max=1\n",
    "    ch=None\n",
    "    while i<len(l):\n",
    "        if max<d[l[i]]:\n",
    "            max=d[l[i]]\n",
    "            ch=l[i]\n",
    "        i+=1\n",
    "    return ch\n",
    "u_find(st,3,24)"
   ]
  },
  {
   "cell_type": "code",
   "execution_count": 50,
   "metadata": {},
   "outputs": [
    {
     "name": "stdout",
     "output_type": "stream",
     "text": [
      "{' ': 2, 'w': 1, 'o': 1, 'r': 2, 'l': 1, 'd': 1, 'b': 1, 'a': 1, 'i': 1}\n"
     ]
    },
    {
     "data": {
      "text/plain": [
       "'w'"
      ]
     },
     "execution_count": 50,
     "metadata": {},
     "output_type": "execute_result"
    }
   ],
   "source": [
    "# min first repeated char\n",
    "st=\"baribe world baribe land \"\n",
    "def u_find(coll,start=0,end=None):\n",
    "    if end==None:\n",
    "        end=len(coll)\n",
    "    d={}\n",
    "    while start<end:\n",
    "        if  coll[start] not in d:\n",
    "            d[coll[start]]=1\n",
    "        else:\n",
    "            d[coll[start]]+=1\n",
    "        start+=1\n",
    "    print(d)\n",
    "    l=list(d)\n",
    "    i=0\n",
    "    min=1\n",
    "    while i<len(l):\n",
    "        if d[l[i]]==min:\n",
    "            return l[i]\n",
    "        i+=1\n",
    "u_find(st,6,17)       \n",
    "\n"
   ]
  },
  {
   "cell_type": "code",
   "execution_count": 55,
   "metadata": {},
   "outputs": [
    {
     "data": {
      "text/plain": [
       "3"
      ]
     },
     "execution_count": 55,
     "metadata": {},
     "output_type": "execute_result"
    }
   ],
   "source": [
    "# 19 rfind(),rindex()  fetch values from right to left and display the first occured index value\n",
    "st=\"hello world\"\n",
    "st.rfind('l',1,9)"
   ]
  },
  {
   "cell_type": "code",
   "execution_count": 58,
   "metadata": {},
   "outputs": [
    {
     "data": {
      "text/plain": [
       "9"
      ]
     },
     "execution_count": 58,
     "metadata": {},
     "output_type": "execute_result"
    }
   ],
   "source": [
    "st=\"hello world welcome to python\"\n",
    "def u_rfind(coll,ele,start=0,end=None):\n",
    "    if end==None:\n",
    "        end=len(coll)\n",
    "    if ele not in coll[start:end]:\n",
    "        return -1\n",
    "    for i in range(end,start,-1):\n",
    "        if coll[i]==ele:\n",
    "            return i\n",
    "    return -1\n",
    "u_rfind(st,'l',2,13)\n"
   ]
  },
  {
   "cell_type": "code",
   "execution_count": 27,
   "metadata": {},
   "outputs": [
    {
     "data": {
      "text/plain": [
       "7"
      ]
     },
     "execution_count": 27,
     "metadata": {},
     "output_type": "execute_result"
    }
   ],
   "source": [
    "# in while loop\n",
    "st=\"hello world welcome to python\"\n",
    "def u_rindex(coll,ele,start=0,end=None):\n",
    "    if end==None:\n",
    "        end=len(coll)\n",
    "    if ele not in coll[start:]:\n",
    "        return False\n",
    "    while end>=start:\n",
    "        if ele==coll[end]:\n",
    "            return end\n",
    "        end-=1\n",
    "    return -1\n",
    "u_rindex(st,'o',5,14)\n"
   ]
  },
  {
   "cell_type": "code",
   "execution_count": 33,
   "metadata": {},
   "outputs": [
    {
     "data": {
      "text/plain": [
       "['baby d', 'ra m', 'nkey wer']"
      ]
     },
     "execution_count": 33,
     "metadata": {},
     "output_type": "execute_result"
    }
   ],
   "source": [
    "# 20 spilt() it split the collection into string based on the split element and strone in the list\n",
    "st=\"baby dora monkey wer\"\n",
    "st.split('o',2)"
   ]
  },
  {
   "cell_type": "code",
   "execution_count": 43,
   "metadata": {},
   "outputs": [
    {
     "data": {
      "text/plain": [
       "['baby dora monk', 'y w', 'r']"
      ]
     },
     "execution_count": 43,
     "metadata": {},
     "output_type": "execute_result"
    }
   ],
   "source": [
    "st=\"baby dora monkey wer\"\n",
    "def u_split(coll,ele=\" \"):\n",
    "    l=[]\n",
    "    res=\"\"\n",
    "    for i in coll:\n",
    "        if i!=ele:\n",
    "            res+=i\n",
    "        else:\n",
    "            if len(res)!=0:\n",
    "                l+=[res]\n",
    "                res=\"\"\n",
    "    if len(res)!=0:\n",
    "        l+=[res]\n",
    "    return l\n",
    "u_split(st,'e')"
   ]
  },
  {
   "cell_type": "code",
   "execution_count": 63,
   "metadata": {},
   "outputs": [
    {
     "data": {
      "text/plain": [
       "['dora buji in k', 'shi channel']"
      ]
     },
     "execution_count": 63,
     "metadata": {},
     "output_type": "execute_result"
    }
   ],
   "source": [
    "# 21 rsplit() it split the wotds from right to left based on spilt element\n",
    "st=\"dora buji in kushi channel\"\n",
    "st.rsplit('u',maxsplit=1)"
   ]
  },
  {
   "cell_type": "code",
   "execution_count": 71,
   "metadata": {},
   "outputs": [
    {
     "data": {
      "text/plain": [
       "['dora buji in k', 'shi channel']"
      ]
     },
     "execution_count": 71,
     "metadata": {},
     "output_type": "execute_result"
    }
   ],
   "source": [
    "st=\"dora buji in kushi channel\"\n",
    "def u_rsplit(coll,ele=\" \",maxsplit=None):\n",
    "    l=[]\n",
    "    res=\"\"\n",
    "    i=0\n",
    "    end=len(coll)-1\n",
    "    while end>=i:\n",
    "        if coll[end]!=ele:\n",
    "            res=coll[end]+res\n",
    "        elif len(res)!=0:\n",
    "            l=[res]+l\n",
    "            res=\"\"\n",
    "            if len(l)==maxsplit:\n",
    "                return [coll[:end]]+l\n",
    "        end-=1\n",
    "    if len(res)!=0:\n",
    "        l=[res]+l\n",
    "    return l\n",
    "u_rsplit(st,'u',maxsplit=1)"
   ]
  },
  {
   "cell_type": "code",
   "execution_count": 75,
   "metadata": {},
   "outputs": [
    {
     "data": {
      "text/plain": [
       "True"
      ]
     },
     "execution_count": 75,
     "metadata": {},
     "output_type": "execute_result"
    }
   ],
   "source": [
    "# 22 startswith it check given string present in the starting of the collection or not\n",
    "st=\"dora buji in kushi channel\"\n",
    "st.startswith('in',10)"
   ]
  },
  {
   "cell_type": "code",
   "execution_count": 80,
   "metadata": {},
   "outputs": [
    {
     "data": {
      "text/plain": [
       "True"
      ]
     },
     "execution_count": 80,
     "metadata": {},
     "output_type": "execute_result"
    }
   ],
   "source": [
    "st=\"dora buji in kushi channel\"\n",
    "def u_startswith(coll,sub,start=0,end=None):\n",
    "    if end==None:\n",
    "        end=start+len(sub)\n",
    "    if sub not in coll[start:]:\n",
    "        return False\n",
    "    res=\"\"\n",
    "    while start<end:\n",
    "        res+=coll[start]\n",
    "        start+=1\n",
    "    if res==sub:\n",
    "        return True\n",
    "u_startswith(st,'i in',8)"
   ]
  },
  {
   "cell_type": "code",
   "execution_count": 2,
   "metadata": {},
   "outputs": [
    {
     "data": {
      "text/plain": [
       "True"
      ]
     },
     "execution_count": 2,
     "metadata": {},
     "output_type": "execute_result"
    }
   ],
   "source": [
    "# 23 endswith() it will check the given string present at end of the collection are not\n",
    "st=\"dora buji in kushi channel\"\n",
    "st.endswith('channel',9)"
   ]
  },
  {
   "cell_type": "code",
   "execution_count": 4,
   "metadata": {},
   "outputs": [
    {
     "name": "stdout",
     "output_type": "stream",
     "text": [
      "a buji in kushi channel\n"
     ]
    },
    {
     "data": {
      "text/plain": [
       "True"
      ]
     },
     "execution_count": 4,
     "metadata": {},
     "output_type": "execute_result"
    }
   ],
   "source": [
    "st=\"dora buji in kushi channel\"\n",
    "def u_endswith(coll,sub,start=0,end=None):\n",
    "    if end==None:\n",
    "        end=len(coll)\n",
    "    res=\"\"\n",
    "    while start<end:\n",
    "        res+=coll[start]\n",
    "        start+=1\n",
    "    print(res)\n",
    "    i=len(res)-len(sub)\n",
    "    s=\"\"\n",
    "    while i<len(res):\n",
    "        s+=res[i]\n",
    "        i+=1\n",
    "\n",
    "\n",
    "    if s==sub:\n",
    "        return True\n",
    "u_endswith(st,'nnel',3)\n",
    "\n"
   ]
  },
  {
   "cell_type": "code",
   "execution_count": 4,
   "metadata": {},
   "outputs": [
    {
     "name": "stdout",
     "output_type": "stream",
     "text": [
      "Sunday iS fun day\n",
      "Sunday is fun day\n",
      "sunnight is fun night\n",
      "sonday is fun day\n"
     ]
    }
   ],
   "source": [
    "# 24 replace\n",
    "st=\"sunday is fun day\"\n",
    "print(st.replace('s','S'))\n",
    "print(st.replace('s','S',1))\n",
    "# for sequence of char\n",
    "print(st.replace('day','night'))\n",
    "print(st.replace('un','on',1))"
   ]
  },
  {
   "cell_type": "code",
   "execution_count": 6,
   "metadata": {},
   "outputs": [
    {
     "data": {
      "text/plain": [
       "'Sunday iS maSS day'"
      ]
     },
     "execution_count": 6,
     "metadata": {},
     "output_type": "execute_result"
    }
   ],
   "source": [
    "# specific charc without count replacing\n",
    "st=\"sunday is mass day\"\n",
    "def u_replace(coll,old,new):\n",
    "    res=\"\"\n",
    "    for i in coll:\n",
    "        if i==old:\n",
    "            res+=new\n",
    "        else:\n",
    "            res+=i\n",
    "    return res\n",
    "u_replace(st,'s','S')\n",
    "            "
   ]
  },
  {
   "cell_type": "code",
   "execution_count": 10,
   "metadata": {},
   "outputs": [
    {
     "data": {
      "text/plain": [
       "'sundAy is mAss day'"
      ]
     },
     "execution_count": 10,
     "metadata": {},
     "output_type": "execute_result"
    }
   ],
   "source": [
    "# specific char with count replace\n",
    "st=\"sunday is mass day\"\n",
    "def u_occur_replace(coll,old,new,count=None):\n",
    "    if count==None:\n",
    "        count=len(coll)\n",
    "    res=\"\"\n",
    "    n=0\n",
    "    for i in coll:\n",
    "        if i==old and n<count:\n",
    "            res+=new\n",
    "            n+=1\n",
    "        else:\n",
    "            res+=i\n",
    "    return res\n",
    "u_occur_replace(st,'a','A',2)\n"
   ]
  },
  {
   "cell_type": "code",
   "execution_count": 11,
   "metadata": {},
   "outputs": [
    {
     "data": {
      "text/plain": [
       "'monday is a mass day monday is a holiday mon'"
      ]
     },
     "execution_count": 11,
     "metadata": {},
     "output_type": "execute_result"
    }
   ],
   "source": [
    "# wap to replace the sequence of character without count\n",
    "st=\"sunday is a mass day sunday is a holiday sun\"\n",
    "def u_seq_replace(coll,old,new):\n",
    "    i=0\n",
    "    while i<len(coll):\n",
    "        if old[0]==coll[i]:\n",
    "            if old==coll[i:i+len(old)]:\n",
    "                coll=coll[0:i]+new+coll[i+len(old):]\n",
    "        i+=1\n",
    "    return coll\n",
    "u_seq_replace(st,'sun','mon')"
   ]
  },
  {
   "cell_type": "code",
   "execution_count": 11,
   "metadata": {},
   "outputs": [
    {
     "name": "stdout",
     "output_type": "stream",
     "text": [
      "monday is a mass day monday is a holiday sun\n",
      "monday is a mass day monday is a holiday sun\n"
     ]
    }
   ],
   "source": [
    "# wap to replace the sequence of char with count\n",
    "st=\"sunday is a mass day sunday is a holiday sun\"\n",
    "def u_seqoccur_replace(coll,old,new,count=None):\n",
    "    if count==None:\n",
    "        count=len(coll)\n",
    "    i=0\n",
    "    c=0\n",
    "    while i<len(coll):\n",
    "        if coll[i]==old[0]:\n",
    "            if old==coll[i:i+len(old)] and c<count:\n",
    "                coll=coll[0:i]+new+coll[i+len(old):]\n",
    "                c+=1\n",
    "        i+=1\n",
    "    return coll\n",
    "print(u_seqoccur_replace(st,'sun','mon',2))\n",
    "print(st.replace(\"sun\",\"mon\",2))"
   ]
  },
  {
   "cell_type": "code",
   "execution_count": 4,
   "metadata": {},
   "outputs": [
    {
     "data": {
      "text/plain": [
       "'sunday is a mass day monday is a holiday sun'"
      ]
     },
     "execution_count": 4,
     "metadata": {},
     "output_type": "execute_result"
    }
   ],
   "source": [
    "# wap to repkace the substring in specific occurance\n",
    "st=\"sunday is a mass day sunday is a holiday sun\"\n",
    "def u_replace(coll,old,new,occur):\n",
    "    i=0\n",
    "    count=0\n",
    "    while i<len(coll):\n",
    "        if old==coll[i:i+len(old)]:\n",
    "            count+=1\n",
    "            if count==occur:\n",
    "                coll=coll[0:i]+new+coll[i+len(old):]\n",
    "        i+=1\n",
    "    return coll\n",
    "u_replace(st,'sun','mon',2)\n",
    "\n"
   ]
  },
  {
   "cell_type": "code",
   "execution_count": 3,
   "metadata": {},
   "outputs": [
    {
     "data": {
      "text/plain": [
       "'hello-world--'"
      ]
     },
     "execution_count": 3,
     "metadata": {},
     "output_type": "execute_result"
    }
   ],
   "source": [
    "# 25 remove prefix\n",
    "st=\"-hello-world--\"\n",
    "st.removeprefix('-')"
   ]
  },
  {
   "cell_type": "code",
   "execution_count": 5,
   "metadata": {},
   "outputs": [
    {
     "data": {
      "text/plain": [
       "'-#hello world   '"
      ]
     },
     "execution_count": 5,
     "metadata": {},
     "output_type": "execute_result"
    }
   ],
   "source": [
    "st=\"-#hello world   \"\n",
    "def u_removepre(coll,ele):\n",
    "    if ele  not in coll[0:len(ele)]:\n",
    "        return coll\n",
    "    return coll[len(ele):]\n",
    "u_removepre(st,'#he')"
   ]
  },
  {
   "cell_type": "code",
   "execution_count": 6,
   "metadata": {},
   "outputs": [
    {
     "data": {
      "text/plain": [
       "'instagatam .com'"
      ]
     },
     "execution_count": 6,
     "metadata": {},
     "output_type": "execute_result"
    }
   ],
   "source": [
    "# using while loop\n",
    "st=\"www.instagatam .com\"\n",
    "def u_removepre(coll,ele):\n",
    "    if ele not in coll[0:len(ele)]:\n",
    "        return coll\n",
    "    res=\"\"\n",
    "    i=len(ele)\n",
    "    while i<len(coll):\n",
    "        res+=coll[i]\n",
    "        i+=1\n",
    "    return res\n",
    "u_removepre(st,'www.')"
   ]
  },
  {
   "cell_type": "code",
   "execution_count": 1,
   "metadata": {},
   "outputs": [
    {
     "data": {
      "text/plain": [
       "'www.fb.'"
      ]
     },
     "execution_count": 1,
     "metadata": {},
     "output_type": "execute_result"
    }
   ],
   "source": [
    "# 26 removesufix with slicing\n",
    "st=\"www.fb.com\"\n",
    "def u_removesufix(coll,ele):\n",
    "    if ele not in coll[len(coll)-len(ele):len(coll)]:\n",
    "        return coll\n",
    "    return coll[0:len(coll)-len(ele)]\n",
    "u_removesufix(st,\"com\")"
   ]
  },
  {
   "cell_type": "code",
   "execution_count": 3,
   "metadata": {},
   "outputs": [
    {
     "data": {
      "text/plain": [
       "'www.instagram'"
      ]
     },
     "execution_count": 3,
     "metadata": {},
     "output_type": "execute_result"
    }
   ],
   "source": [
    "# without slicing\n",
    "st=\"www.instagram.com\"\n",
    "def u_removesufix(coll,ele):\n",
    "    if ele not in coll[len(coll)-len(ele):len(coll)]:\n",
    "        return coll\n",
    "    i=0\n",
    "    end=len(coll)-len(ele)\n",
    "    res=\"\"\n",
    "    while i<end:\n",
    "        res+=coll[i]\n",
    "        i+=1\n",
    "    return res\n",
    "u_removesufix(st,\".com\")"
   ]
  },
  {
   "cell_type": "code",
   "execution_count": 17,
   "metadata": {},
   "outputs": [
    {
     "data": {
      "text/plain": [
       "'\\t\\nhello\\x0c\\rworld'"
      ]
     },
     "execution_count": 17,
     "metadata": {},
     "output_type": "execute_result"
    }
   ],
   "source": [
    "# 27 strip()    used to eliminate wide spaces at startind and ending of the collection\n",
    "# widespaces are 1.spaces 2. tabspace(\\t) 3. \\n 4. \\r,\\f\n",
    "st=\"    \\t\\nhello\\f\\rworld    \"\n",
    "#st.strip()\n",
    "st.strip(\" \")\n"
   ]
  },
  {
   "cell_type": "code",
   "execution_count": 23,
   "metadata": {},
   "outputs": [
    {
     "data": {
      "text/plain": [
       "'\\t\\nhello\\x0c\\rworld    '"
      ]
     },
     "execution_count": 23,
     "metadata": {},
     "output_type": "execute_result"
    }
   ],
   "source": [
    "# 28 lstrip()           it eliminate only the left side widespaces\n",
    "st=\"    \\t\\nhello\\f\\rworld    \"\n",
    "def u_lstrip(coll,ele=[\" \",'\\n','\\f','\\t','\\r']):\n",
    "    res=\"\"\n",
    "    i=0\n",
    "    while i<len(coll):\n",
    "        if coll[i] in ele:\n",
    "            res+=\"\"\n",
    "        else:\n",
    "            res+=coll[i:]\n",
    "            break\n",
    "        i+=1\n",
    "    return res\n",
    "#u_lstrip(st)\n",
    "u_lstrip(st,\" \")\n"
   ]
  },
  {
   "cell_type": "code",
   "execution_count": 34,
   "metadata": {},
   "outputs": [
    {
     "data": {
      "text/plain": [
       "'    \\t\\nhello\\x0c\\rworld\\n\\t'"
      ]
     },
     "execution_count": 34,
     "metadata": {},
     "output_type": "execute_result"
    }
   ],
   "source": [
    "# 29 rstrip()            it eliminate only the right side widespaces\n",
    "st=\"    \\t\\nhello\\f\\rworld\\n\\t    \"\n",
    "def u_rstrip(coll,ele=[' ','\\n','\\f','\\r','\\t']):\n",
    "    res=\"\"\n",
    "    for i in range(len(coll)-1,-1,-1):\n",
    "        if coll[i] in ele:\n",
    "            res+=\"\"\n",
    "        else:\n",
    "            res+=coll[0:i+1]\n",
    "            break\n",
    "    return res\n",
    "#u_strip(st)\n",
    "u_rstrip(st,\" \")\n"
   ]
  },
  {
   "cell_type": "code",
   "execution_count": 1,
   "metadata": {},
   "outputs": [
    {
     "data": {
      "text/plain": [
       "'\\t\\nhello\\x0c\\rworld'"
      ]
     },
     "execution_count": 1,
     "metadata": {},
     "output_type": "execute_result"
    }
   ],
   "source": [
    "# strip\n",
    "st=\"    \\t\\nhello\\f\\rworld    \"\n",
    "def u_lstrip(coll,ele=[\" \",'\\n','\\f','\\t','\\r']):\n",
    "    res=\"\"\n",
    "    i=0\n",
    "    while i<len(coll):\n",
    "        if coll[i] in ele:\n",
    "            res+=\"\"\n",
    "        else:\n",
    "            res+=coll[i:]\n",
    "            break\n",
    "        i+=1\n",
    "    return res\n",
    "u_lstrip(st,\" \")\n",
    "\n",
    "def u_rstrip(coll,ele=[' ','\\n','\\f','\\r','\\t']):\n",
    "    res=\"\"\n",
    "    for i in range(len(coll)-1,-1,-1):\n",
    "        if coll[i] in ele:\n",
    "            res+=\"\"\n",
    "        else:\n",
    "            res+=coll[0:i+1]\n",
    "            break\n",
    "    return res\n",
    "u_rstrip(st,\" \")\n",
    "\n",
    "def u_strip(coll,ele=[' ','\\n','\\f','\\r','\\t']):\n",
    "    temp=u_lstrip(coll,ele)\n",
    "    res=u_rstrip(temp,ele)\n",
    "    return res\n",
    "u_strip(st,\" \")\n"
   ]
  },
  {
   "cell_type": "code",
   "execution_count": 35,
   "metadata": {},
   "outputs": [
    {
     "data": {
      "text/plain": [
       "'hello***************'"
      ]
     },
     "execution_count": 35,
     "metadata": {},
     "output_type": "execute_result"
    }
   ],
   "source": [
    "# 30 ljust() it keep the given input at the left side of the entire width remainng filled with filling char\n",
    "st=\"hello\"\n",
    "st.ljust(20,\"*\")\n"
   ]
  },
  {
   "cell_type": "code",
   "execution_count": 38,
   "metadata": {},
   "outputs": [
    {
     "data": {
      "text/plain": [
       "'hello///////////////'"
      ]
     },
     "execution_count": 38,
     "metadata": {},
     "output_type": "execute_result"
    }
   ],
   "source": [
    "st=\"hello\"\n",
    "def u_ljust(coll,width,fillchar=\" \"):\n",
    "    res=\"\"\n",
    "    res+=coll+fillchar*(width-len(coll))\n",
    "    return res\n",
    "#u_ljust(st,20)\n",
    "u_ljust(st,20,\"/\")"
   ]
  },
  {
   "cell_type": "code",
   "execution_count": 40,
   "metadata": {},
   "outputs": [
    {
     "data": {
      "text/plain": [
       "'     hello'"
      ]
     },
     "execution_count": 40,
     "metadata": {},
     "output_type": "execute_result"
    }
   ],
   "source": [
    "# 31 rjust() it keep the given input at the right side of the entire width remainng filled with filling char\n",
    "st=\"hello\"\n",
    "st.rjust(10)"
   ]
  },
  {
   "cell_type": "code",
   "execution_count": 41,
   "metadata": {},
   "outputs": [
    {
     "data": {
      "text/plain": [
       "'*****hello'"
      ]
     },
     "execution_count": 41,
     "metadata": {},
     "output_type": "execute_result"
    }
   ],
   "source": [
    "st=\"hello\"\n",
    "def u_rjust(coll,width,fillchar=\" \"):\n",
    "    res=\"\"\n",
    "    res+=fillchar*(width-len(coll))+coll\n",
    "    return res\n",
    "u_rjust(st,10,'*')"
   ]
  },
  {
   "cell_type": "code",
   "execution_count": 2,
   "metadata": {},
   "outputs": [
    {
     "name": "stdout",
     "output_type": "stream",
     "text": [
      "1\n",
      "2\n",
      "6\n",
      "24\n",
      "120\n",
      "720\n",
      "5040\n",
      "40320\n",
      "362880\n",
      "3628800\n"
     ]
    }
   ],
   "source": [
    "# 1 wap to print series of factorial numbers given range using nested functions\n",
    "def factorial(n,m):\n",
    "    while n<=m:\n",
    "        i=1\n",
    "        prod=1\n",
    "        while i<=n:\n",
    "            prod*=i\n",
    "            i+=1\n",
    "        print(prod)\n",
    "        n+=1    \n",
    "factorial(1,10)\n",
    "\n"
   ]
  },
  {
   "cell_type": "code",
   "execution_count": 5,
   "metadata": {},
   "outputs": [
    {
     "name": "stdout",
     "output_type": "stream",
     "text": [
      "19\n",
      "38\n",
      "57\n",
      "76\n",
      "95\n",
      "114\n",
      "133\n",
      "152\n",
      "171\n",
      "190\n"
     ]
    }
   ],
   "source": [
    "# 2 wap to print 19 tables with the range using functions\n",
    "def u_table(n,m,table):\n",
    "    while n<=m:\n",
    "        r=table*n\n",
    "        print(r)\n",
    "        n+=1   \n",
    "u_table(1,10,19)"
   ]
  },
  {
   "cell_type": "code",
   "execution_count": 12,
   "metadata": {},
   "outputs": [
    {
     "name": "stdout",
     "output_type": "stream",
     "text": [
      "SrEdIpSyP\n"
     ]
    }
   ],
   "source": [
    "# 3 ip='PYSPIDERS'                 OP='SrEdIpSyP' uisng functions\n",
    "st=\"PYSPIDERS\"\n",
    "def u_flip(coll):\n",
    "    res=\"\"\n",
    "    i=0\n",
    "    while i<len(coll):\n",
    "        res+=coll[i]\n",
    "        if i+1<len(coll)-1 and 'A'<=coll[i+1]<='Z':\n",
    "            res+=chr(ord(coll[i+1])+32)\n",
    "            i+=1\n",
    "        i+=1\n",
    "    print(res[::-1])\n",
    "u_flip(st)\n"
   ]
  },
  {
   "cell_type": "code",
   "execution_count": 13,
   "metadata": {},
   "outputs": [
    {
     "name": "stdout",
     "output_type": "stream",
     "text": [
      "['i', 'love', 'india', 'i', 'love', 'my', 'country']\n",
      "{'i': 1, 'love': 1, 'india': 1, 'my': 1, 'country': 1}\n"
     ]
    }
   ],
   "source": [
    "# 4 using functions  op={'i':2,'love':2,'india':1,'my':1,'country':1}\n",
    "st=\"i love india i love my country\"\n",
    "def occu(coll):\n",
    "    l=[]\n",
    "    res=\"\"\n",
    "    i=0\n",
    "    while i<len(coll):\n",
    "        if coll[i]!=\" \":\n",
    "            res+=coll[i]\n",
    "        else:\n",
    "            if len(res)!=0:\n",
    "                l+=[res]\n",
    "                res=\"\"\n",
    "        i+=1\n",
    "    if len(res)!=0:\n",
    "        l+=[res]\n",
    "    print(l)\n",
    "    uni={}\n",
    "    x=0\n",
    "    while x<len(l):\n",
    "        if x not in uni:\n",
    "            uni[l[x]]=1\n",
    "        else:\n",
    "            uni[l[x]]+=1\n",
    "        x+=1\n",
    "    print(uni)\n",
    "occu(st)\n",
    "\n"
   ]
  },
  {
   "cell_type": "code",
   "execution_count": 16,
   "metadata": {},
   "outputs": [
    {
     "name": "stdout",
     "output_type": "stream",
     "text": [
      "{1: 1, 2: 8, 3: 27, 4: 64, 5: 125}\n"
     ]
    }
   ],
   "source": [
    "#5 wap to store the series of cube number in a dict given in the range function\n",
    "def cube(m,n):\n",
    "    d={}\n",
    "    for i in range(m,n):\n",
    "        d[i]=i**3\n",
    "    print(d)\n",
    "cube(1,6)\n"
   ]
  },
  {
   "cell_type": "code",
   "execution_count": 20,
   "metadata": {},
   "outputs": [
    {
     "name": "stdout",
     "output_type": "stream",
     "text": [
      "0\n",
      "1\n",
      "1\n",
      "2\n",
      "3\n",
      "5\n",
      "8\n"
     ]
    }
   ],
   "source": [
    "# 6 wap to nth fibonacci series\n",
    "a=0\n",
    "b=1\n",
    "print(a)\n",
    "print(b)\n",
    "num=5\n",
    "while num:\n",
    "    c=a+b\n",
    "    print(c)\n",
    "    a,b=b,c\n",
    "    num-=1\n",
    "\n"
   ]
  },
  {
   "cell_type": "code",
   "execution_count": 22,
   "metadata": {},
   "outputs": [
    {
     "name": "stdout",
     "output_type": "stream",
     "text": [
      "6\n",
      "28\n",
      "496\n"
     ]
    }
   ],
   "source": [
    "# 7 wap to print the series of prefect numbers from 1 to 1800\n",
    "n=1\n",
    "m=1800\n",
    "while n<=m:\n",
    "    i=1\n",
    "    prod=0\n",
    "    while i<n:\n",
    "        if n%i==0:\n",
    "            prod+=i\n",
    "        i+=1\n",
    "    if prod==n:\n",
    "        print(n)\n",
    "    n+=1\n"
   ]
  },
  {
   "cell_type": "code",
   "execution_count": 5,
   "metadata": {},
   "outputs": [
    {
     "name": "stdout",
     "output_type": "stream",
     "text": [
      "2037833431040 ['a', 'b', 'c']\n"
     ]
    },
    {
     "ename": "NameError",
     "evalue": "name 'a' is not defined",
     "output_type": "error",
     "traceback": [
      "\u001b[1;31m---------------------------------------------------------------------------\u001b[0m",
      "\u001b[1;31mNameError\u001b[0m                                 Traceback (most recent call last)",
      "\u001b[1;32mc:\\Users\\sravani\\OneDrive\\Documents\\GitHub\\SRAVANI\\python\\functions.ipynb Cell 84\u001b[0m line \u001b[0;36m1\n\u001b[0;32m      <a href='vscode-notebook-cell:/c%3A/Users/sravani/OneDrive/Documents/GitHub/SRAVANI/python/functions.ipynb#Y146sZmlsZQ%3D%3D?line=8'>9</a>\u001b[0m         i\u001b[39m+\u001b[39m\u001b[39m=\u001b[39m\u001b[39m1\u001b[39m\n\u001b[0;32m     <a href='vscode-notebook-cell:/c%3A/Users/sravani/OneDrive/Documents/GitHub/SRAVANI/python/functions.ipynb#Y146sZmlsZQ%3D%3D?line=9'>10</a>\u001b[0m u_insert(t,\u001b[39m2\u001b[39m,\u001b[39m'\u001b[39m\u001b[39mhii\u001b[39m\u001b[39m'\u001b[39m)\n\u001b[1;32m---> <a href='vscode-notebook-cell:/c%3A/Users/sravani/OneDrive/Documents/GitHub/SRAVANI/python/functions.ipynb#Y146sZmlsZQ%3D%3D?line=10'>11</a>\u001b[0m \u001b[39mprint\u001b[39m(\u001b[39mid\u001b[39m(a),a)\n",
      "\u001b[1;31mNameError\u001b[0m: name 'a' is not defined"
     ]
    }
   ],
   "source": [
    "t=['a','b','c']\n",
    "print(id(t),t)\n",
    "def u_insert(coll,index,ele):\n",
    "    a=coll\n",
    "    i=0\n",
    "    while i<len(a):\n",
    "        if i==index:\n",
    "            a[i]=[ele]\n",
    "        i+=1\n",
    "u_insert(t,2,'hii')\n",
    "print(id(a),a)"
   ]
  },
  {
   "cell_type": "code",
   "execution_count": 5,
   "metadata": {},
   "outputs": [
    {
     "name": "stdout",
     "output_type": "stream",
     "text": [
      "[10, 20, 30] 2208318829056\n",
      "[10, 20, 30, {'a': 10}] 2208318829056\n"
     ]
    }
   ],
   "source": [
    "#            LIST BULIT IN FUNCTIONS\n",
    "#1.append() adding new values without changing the adress and no return value\n",
    "l=[10,20,30]\n",
    "print(l,id(l))\n",
    "l.append({'a':10})\n",
    "print(l,id(l))"
   ]
  },
  {
   "cell_type": "code",
   "execution_count": 4,
   "metadata": {},
   "outputs": [
    {
     "name": "stdout",
     "output_type": "stream",
     "text": [
      "2208318817792 [10, 20, 30]\n",
      "2208318817792 [10, 20, 30, {'a': 10, 'b': 20}]\n"
     ]
    }
   ],
   "source": [
    "l=[10,20,30]\n",
    "print(id(l),l)\n",
    "def u_append(coll,ele):\n",
    "    if type(coll)!=list:\n",
    "        return -1\n",
    "    coll+=[ele]\n",
    "u_append(l,{'a':10,'b':20})\n",
    "print(id(l),l)"
   ]
  },
  {
   "cell_type": "code",
   "execution_count": 9,
   "metadata": {},
   "outputs": [
    {
     "name": "stdout",
     "output_type": "stream",
     "text": [
      "[10, 20, 50, 'hello'] 2208324398464\n",
      "2208324398464 [10, 20, 50, 'hello', 10]\n"
     ]
    }
   ],
   "source": [
    "# 2 extend()         it append only one value that value should be collection\n",
    "l=[10,20,50,'hello']\n",
    "print(l,id(l))\n",
    "l.extend({10:'a'})\n",
    "print(id(l),l)"
   ]
  },
  {
   "cell_type": "code",
   "execution_count": 14,
   "metadata": {},
   "outputs": [
    {
     "name": "stdout",
     "output_type": "stream",
     "text": [
      "[10, 20, 50, 'hello'] 2208324395136\n",
      "ele should be collection object\n",
      "2208324395136 [10, 20, 50, 'hello']\n"
     ]
    }
   ],
   "source": [
    "l=[10,20,50,'hello']\n",
    "print(l,id(l))\n",
    "def u_extend(coll,ele):\n",
    "    if type(coll)!=list:\n",
    "        return -1\n",
    "    if ele not in[str,list,tuple,set,dict]:\n",
    "        return \"ele should be collection object\"\n",
    "    for i in ele:\n",
    "        coll+=[i]\n",
    "print(u_extend(l,18))\n",
    "print(id(l),l)"
   ]
  },
  {
   "cell_type": "code",
   "execution_count": 19,
   "metadata": {},
   "outputs": [
    {
     "name": "stdout",
     "output_type": "stream",
     "text": [
      "2208324809280 [10, 20, 50, 'hello']\n",
      "2208324809280 [10, 30, 20, 50, 'hello']\n"
     ]
    }
   ],
   "source": [
    "# 3 insert() insert the value at specific position\n",
    "l=[10,20,50,'hello']\n",
    "print(id(l),l)\n",
    "l.insert(1,30)\n",
    "print(id(l),l)"
   ]
  },
  {
   "cell_type": "code",
   "execution_count": 22,
   "metadata": {},
   "outputs": [
    {
     "name": "stdout",
     "output_type": "stream",
     "text": [
      "2208324778496 ['hello', 10.89, True, 100, 40]\n",
      "['hello', 10.89, True, 100, 200, 40] 2208324778496\n"
     ]
    }
   ],
   "source": [
    "l=['hello',10.89,True,100,40]\n",
    "print(id(l),l)\n",
    "def u_insert(coll,index,ele):\n",
    "    if type(coll)!=list and type(index)!=int:\n",
    "        return -1\n",
    "    coll[index:index]=[ele]\n",
    "u_insert(l,4,200)\n",
    "print(l,id(l))\n",
    "    "
   ]
  },
  {
   "cell_type": "code",
   "execution_count": 26,
   "metadata": {},
   "outputs": [
    {
     "data": {
      "text/plain": [
       "2"
      ]
     },
     "execution_count": 26,
     "metadata": {},
     "output_type": "execute_result"
    }
   ],
   "source": [
    "# 4 count() only one argument that is specfic char to count and it return the value\n",
    "x=[\"a\",'a','hii','hello',100,10,10,30,40]\n",
    "x.count('a')"
   ]
  },
  {
   "cell_type": "code",
   "execution_count": 31,
   "metadata": {},
   "outputs": [
    {
     "data": {
      "text/plain": [
       "2"
      ]
     },
     "execution_count": 31,
     "metadata": {},
     "output_type": "execute_result"
    }
   ],
   "source": [
    "x=[\"a\",'a','hii','hello',100,10,10,30,40]\n",
    "def u_count(coll,ele):\n",
    "    if type(coll)!=list:\n",
    "        return -1\n",
    "    if ele not in coll:\n",
    "        return -1\n",
    "    count=0\n",
    "    for i in coll:\n",
    "        if i==ele:\n",
    "            count+=1\n",
    "    return count\n",
    "u_count(x,10)\n",
    "\n"
   ]
  },
  {
   "cell_type": "code",
   "execution_count": 39,
   "metadata": {},
   "outputs": [
    {
     "data": {
      "text/plain": [
       "5"
      ]
     },
     "execution_count": 39,
     "metadata": {},
     "output_type": "execute_result"
    }
   ],
   "source": [
    "# 5 index() it return 1t occurance index postion  even -ve index als given it convert it into postive index from the it check ele at position occur\n",
    "d=[\"a\",'a','hii','hello',100,10,10,30,40]\n",
    "d.index(10)"
   ]
  },
  {
   "cell_type": "code",
   "execution_count": 46,
   "metadata": {},
   "outputs": [
    {
     "data": {
      "text/plain": [
       "1"
      ]
     },
     "execution_count": 46,
     "metadata": {},
     "output_type": "execute_result"
    }
   ],
   "source": [
    "d=[\"a\",'a','hii','hello',100,10,10,30,40]\n",
    "def u_index(coll,ele,start=0,end=None):\n",
    "    if type(coll)!=list:\n",
    "        return -1\n",
    "    if start<0:\n",
    "        start=start+len(coll)\n",
    "    if end==None:\n",
    "        end=len(coll)\n",
    "    if end<0:\n",
    "        end=end+len(coll)\n",
    "    for i in range(start,end):\n",
    "        if ele==coll[start]:\n",
    "            return start\n",
    "    return -1\n",
    "u_index(d,'a',-8)\n"
   ]
  },
  {
   "cell_type": "code",
   "execution_count": 48,
   "metadata": {},
   "outputs": [
    {
     "name": "stdout",
     "output_type": "stream",
     "text": [
      "2208318684416 ['a', 'a', 'hii', 'hello', 100, 10, 10, 30, 40]\n",
      "2208318684416 [40, 30, 10, 10, 100, 'hello', 'hii', 'a', 'a']\n"
     ]
    }
   ],
   "source": [
    "# 6 reverse() reverse the values with out changing the adress\n",
    "d=[\"a\",'a','hii','hello',100,10,10,30,40]\n",
    "print(id(d),d)\n",
    "d.reverse()\n",
    "print(id(d),d)"
   ]
  },
  {
   "cell_type": "code",
   "execution_count": 54,
   "metadata": {},
   "outputs": [
    {
     "name": "stdout",
     "output_type": "stream",
     "text": [
      "2208325033344 ['a', 'a', 'hii', 'hello', 100, 10, 10, 30, 40]\n",
      "2208325033344 ['a', 'a', 'hii', 'hello', 100, 10, 10, 30, 40]\n"
     ]
    }
   ],
   "source": [
    "d=[\"a\",'a','hii','hello',100,10,10,30,40]\n",
    "print(id(d),d)\n",
    "def u_reverse(coll):\n",
    "    j=len(coll)-1\n",
    "    for i in range(0,len(coll)):\n",
    "        coll[i],coll[j]=coll[j],coll[i]\n",
    "        j-=1\n",
    "u_reverse(d)\n",
    "print(id(d),d)\n"
   ]
  },
  {
   "cell_type": "code",
   "execution_count": 57,
   "metadata": {},
   "outputs": [
    {
     "name": "stdout",
     "output_type": "stream",
     "text": [
      "2208325464576 ['a', 'a', 'hii', 'hello', 100, 10, 10, 30, 40]\n",
      "2208325299648 ['a', 'a', 'hii', 'hello', 100, 10, 10, 30, 40]\n"
     ]
    }
   ],
   "source": [
    "#7 copy() here we are doing shallow copy\n",
    "d=[\"a\",'a','hii','hello',100,10,10,30,40]\n",
    "print(id(d),d)\n",
    "x=d.copy()\n",
    "print(id(x),x)"
   ]
  },
  {
   "cell_type": "code",
   "execution_count": 67,
   "metadata": {},
   "outputs": [
    {
     "name": "stdout",
     "output_type": "stream",
     "text": [
      "2208325190720 ['a', 'a', [2, 3], 'hii', 'hello', 100, 10, 10, 30, 40]\n",
      "2208325294464 ['a', 'a', [2, 3], 'hii', 'hello', 100, 10, 10, 30, 40]\n",
      "['a', 'a', [2, 3], 'hii', 'hello', 100, 10, 10, 30, 40, 10, 30.0]\n",
      "['a', 'a', [2, 3], 'hii', 'hello', 100, 10, 10, 30, 40]\n",
      "['a', 'a', [2, 3, 4], 'hii', 'hello', 100, 10, 10, 30, 40]\n",
      "['a', 'a', [2, 3, 4], 'hii', 'hello', 100, 10, 10, 30, 40, 10, 30.0]\n"
     ]
    }
   ],
   "source": [
    "d=[\"a\",'a',[2,3],'hii','hello',100,10,10,30,40]\n",
    "print(id(d),d)\n",
    "def u_copy(coll):\n",
    "    if type(coll)!=list:\n",
    "        return -1\n",
    "    res=[]\n",
    "    for i in coll:\n",
    "        res+=[i]\n",
    "    return res\n",
    "temp=u_copy(d)\n",
    "print(id(temp),temp)\n",
    "\n",
    "d+=[10,30.00]\n",
    "print(d)\n",
    "print(temp)\n",
    "temp[2]+=[4]\n",
    "print(temp)\n",
    "print(d)"
   ]
  },
  {
   "cell_type": "code",
   "execution_count": 72,
   "metadata": {},
   "outputs": [
    {
     "name": "stdout",
     "output_type": "stream",
     "text": [
      "[0.0, 10, 20, 40, [100, 200]]\n",
      "[0.0, 10, 20, [100, 200]]\n"
     ]
    }
   ],
   "source": [
    "# 8 pop() default it elinimate last value in the list  ,pop accept one argument that is index position based on that it delete the value\n",
    "x=[0.00,10,20,40,[100,200]]\n",
    "print(x)\n",
    "#x.pop()\n",
    "#print(x)\n",
    "x.pop(-2)\n",
    "print(x)"
   ]
  },
  {
   "cell_type": "code",
   "execution_count": 74,
   "metadata": {},
   "outputs": [
    {
     "name": "stdout",
     "output_type": "stream",
     "text": [
      "[0.0, 10, 20, 40, [100, 200]] 2208325040768\n",
      "[0.0, 10, 40, [100, 200]] 2208325040768\n"
     ]
    }
   ],
   "source": [
    "x=[0.00,10,20,40,[100,200]]\n",
    "print(x,id(x))\n",
    "def u_pop(coll,index=-1):\n",
    "    if type(coll)!=list:\n",
    "        return -1\n",
    "    del coll[index]\n",
    "#u_pop(x)\n",
    "u_pop(x,2)\n",
    "print(x,id(x))"
   ]
  },
  {
   "cell_type": "code",
   "execution_count": 77,
   "metadata": {},
   "outputs": [
    {
     "name": "stdout",
     "output_type": "stream",
     "text": [
      "[0.0, 10, 20, 40, [100, 200]] 2208325469888\n",
      "[10, 20, 40, [100, 200]] 2208325469888\n"
     ]
    }
   ],
   "source": [
    "# remove() it delete first occurance of given  values in the list .adress should be same\n",
    "x=[0.00,10,20,40,[100,200]]\n",
    "print(x,id(x))\n",
    "x.remove(0.00)\n",
    "print(x,id(x))"
   ]
  },
  {
   "cell_type": "code",
   "execution_count": 78,
   "metadata": {},
   "outputs": [
    {
     "name": "stdout",
     "output_type": "stream",
     "text": [
      "2208324871424 [0.0, 10, 20, 40, [100, 200]]\n",
      "2208324871424 [0.0, 20, 40, [100, 200]]\n"
     ]
    }
   ],
   "source": [
    "x=[0.00,10,20,40,[100,200]]\n",
    "print(id(x),x)\n",
    "def u_remove(coll,ele):\n",
    "    if type(coll)!=list:\n",
    "        return -1\n",
    "    for i in range(0,len(coll)):\n",
    "        if coll[i]==ele:\n",
    "            del coll[i]\n",
    "            break\n",
    "u_remove(x,10)\n",
    "print(id(x),x)"
   ]
  },
  {
   "cell_type": "code",
   "execution_count": 79,
   "metadata": {},
   "outputs": [
    {
     "name": "stdout",
     "output_type": "stream",
     "text": [
      "[10, 'raja', 'king', 20, 40] 2208325495232\n",
      "[] 2208325495232\n"
     ]
    }
   ],
   "source": [
    "#10 clear() remove all the values in the list adress is same\n",
    "x=[10,'raja','king',20,40]\n",
    "print(x,id(x))\n",
    "x.clear()\n",
    "print(x,id(x))"
   ]
  },
  {
   "cell_type": "code",
   "execution_count": 81,
   "metadata": {},
   "outputs": [
    {
     "name": "stdout",
     "output_type": "stream",
     "text": [
      "[10, 'raja', 'king', 20, 40] 2208325025856\n",
      "[] 2208325025856\n"
     ]
    }
   ],
   "source": [
    "# with slicing\n",
    "x=[10,'raja','king',20,40]\n",
    "print(x,id(x))\n",
    "def u_clear(coll):\n",
    "    if type(coll)!=list:\n",
    "        return -1\n",
    "    coll[::]=[]\n",
    "u_clear(x)\n",
    "print(x,id(x))\n"
   ]
  },
  {
   "cell_type": "code",
   "execution_count": 83,
   "metadata": {},
   "outputs": [
    {
     "name": "stdout",
     "output_type": "stream",
     "text": [
      "[10, 'raja', 'king', 20, 40] 2208325025472\n",
      "[] 2208325025472\n"
     ]
    }
   ],
   "source": [
    "# without slicing\n",
    "x=[10,'raja','king',20,40]\n",
    "print(x,id(x))\n",
    "def u_clear(coll):\n",
    "    if type(coll)!=list:\n",
    "        return -1\n",
    "    for i in range(0,len(coll)):\n",
    "        del coll[-1]\n",
    "u_clear(x)\n",
    "print(x,id(x))"
   ]
  },
  {
   "cell_type": "code",
   "execution_count": 85,
   "metadata": {},
   "outputs": [
    {
     "name": "stdout",
     "output_type": "stream",
     "text": [
      "[30, 40, 10, 90, 50, 70] 2208325022080\n",
      "[10, 30, 40, 50, 70, 90] 2208325022080\n"
     ]
    }
   ],
   "source": [
    "# 11 sort() bubble sorting arranged in the order \n",
    "x=[30,40,10,90,50,70]\n",
    "print(x,id(x))\n",
    "x.sort()\n",
    "print(x,id(x))"
   ]
  },
  {
   "cell_type": "code",
   "execution_count": 87,
   "metadata": {},
   "outputs": [
    {
     "name": "stdout",
     "output_type": "stream",
     "text": [
      "[30, 40, 10, 90, 50, 70] 2208325198400\n",
      "[10, 30, 40, 50, 70, 90] 2208325198400\n"
     ]
    }
   ],
   "source": [
    "# ascending order\n",
    "x=[30,40,10,90,50,70]\n",
    "print(x,id(x))\n",
    "def u_sort(coll):\n",
    "    if type(coll)!=list:\n",
    "        return -1\n",
    "    for j in range(0,len(coll)):\n",
    "        for i in range(0,len(coll)-1):\n",
    "            if coll[i]>coll[i+1]:\n",
    "                coll[i],coll[i+1]=coll[i+1],coll[i]\n",
    "u_sort(x)\n",
    "print(x,id(x))        "
   ]
  },
  {
   "cell_type": "code",
   "execution_count": 90,
   "metadata": {},
   "outputs": [
    {
     "name": "stdout",
     "output_type": "stream",
     "text": [
      "[30, 40, 10, 90, 50, 70] 2208325192512\n",
      "[90, 70, 50, 40, 30, 10] 2208325192512\n"
     ]
    }
   ],
   "source": [
    "# desecnding order\n",
    "x=[30,40,10,90,50,70]\n",
    "print(x,id(x))\n",
    "def u_sort(coll):\n",
    "    if type(coll)!=list:\n",
    "        return -1\n",
    "    for i in range(0,len(coll)):\n",
    "        for j in range(0,len(coll)-1):\n",
    "            if coll[j]<coll[j+1]:\n",
    "                coll[j],coll[j+1]=coll[j+1],coll[j]\n",
    "u_sort(x)\n",
    "print(x,id(x))"
   ]
  },
  {
   "cell_type": "code",
   "execution_count": 11,
   "metadata": {},
   "outputs": [
    {
     "data": {
      "text/plain": [
       "1"
      ]
     },
     "execution_count": 11,
     "metadata": {},
     "output_type": "execute_result"
    }
   ],
   "source": [
    "#            TUPLE BULIT IN FUNCTION\n",
    "# 1.count()\n",
    "t=(1,2,2,3,3,5,10+3j,'hello','hello')\n",
    "#t.count(3)\n",
    "t.index(2,-9)\n"
   ]
  },
  {
   "cell_type": "code",
   "execution_count": 4,
   "metadata": {},
   "outputs": [
    {
     "data": {
      "text/plain": [
       "2"
      ]
     },
     "execution_count": 4,
     "metadata": {},
     "output_type": "execute_result"
    }
   ],
   "source": [
    "t=(1,2,2,3,3,5,10+3j,'hello','hello')\n",
    "def u_count(coll,ele):\n",
    "    if type(coll)!=tuple:\n",
    "        return -1\n",
    "    count=0\n",
    "    for i in t:\n",
    "        if i==ele:\n",
    "            count+=1\n",
    "    return count\n",
    "u_count(t,'hello')"
   ]
  },
  {
   "cell_type": "code",
   "execution_count": 6,
   "metadata": {},
   "outputs": [
    {
     "data": {
      "text/plain": [
       "1"
      ]
     },
     "execution_count": 6,
     "metadata": {},
     "output_type": "execute_result"
    }
   ],
   "source": [
    "# 2 index()\n",
    "t=(1,2,2,3,3,5,10+3j,'hello','hello')\n",
    "def d_index(coll,ele):\n",
    "    if type(coll)!=tuple:\n",
    "        return -1\n",
    "    for i in range(0,len(coll)):\n",
    "        if coll[i]==ele:\n",
    "            return i\n",
    "d_index(t,2)\n"
   ]
  },
  {
   "cell_type": "code",
   "execution_count": 12,
   "metadata": {},
   "outputs": [
    {
     "data": {
      "text/plain": [
       "1"
      ]
     },
     "execution_count": 12,
     "metadata": {},
     "output_type": "execute_result"
    }
   ],
   "source": [
    "t=(1,2,2,3,3,5,10+3j,'hello','hello')\n",
    "def d_index(coll,ele,start=0,end=None):\n",
    "    if type(coll)!=tuple:\n",
    "        return -1\n",
    "    if start<0:\n",
    "        start=start+len(coll)\n",
    "    if end==None:\n",
    "        end=len(coll)\n",
    "    if end<0:\n",
    "        end=end+len(coll)\n",
    "    for i in range(0,len(coll)):\n",
    "        if coll[i]==ele:\n",
    "            return i\n",
    "d_index(t,2,-9,-2)"
   ]
  },
  {
   "cell_type": "code",
   "execution_count": 13,
   "metadata": {},
   "outputs": [
    {
     "name": "stdout",
     "output_type": "stream",
     "text": [
      "2147372258176 {1, '4', 3, 100, 'a'}\n",
      "2147372258176 {1, '4', 3, 100, 'a', 'hello'}\n"
     ]
    }
   ],
   "source": [
    "#         SET BULIT IN FUNCTIONS\n",
    "# 1. add() adding new values to the collection without changing the adress\n",
    "s={1,3,'a','4',100}\n",
    "print(id(s),s)\n",
    "s.add('hello')\n",
    "print(id(s),s)"
   ]
  },
  {
   "cell_type": "code",
   "execution_count": 16,
   "metadata": {},
   "outputs": [
    {
     "name": "stdout",
     "output_type": "stream",
     "text": [
      "2147372259968 {1, '4', 3, 100, 'a'}\n",
      "2147372259968 {1, '4', 3, 100, 'a', 'hello'}\n"
     ]
    }
   ],
   "source": [
    "s={1,3,'a','4',100}\n",
    "print(id(s),s)\n",
    "def u_add(coll,ele):\n",
    "    if type(coll)!=set:\n",
    "        return -1\n",
    "    if type(ele) in [list,set,dict]:\n",
    "        return -1\n",
    "    coll|={ele}\n",
    "u_add(s,'hello')\n",
    "print(id(s),s)\n",
    "\n"
   ]
  },
  {
   "cell_type": "code",
   "execution_count": 17,
   "metadata": {},
   "outputs": [
    {
     "name": "stdout",
     "output_type": "stream",
     "text": [
      "2147372260864 {1, '4', 3, 100, 'a'}\n",
      "set() 2147372260864\n"
     ]
    }
   ],
   "source": [
    "#2. clear() delete all the valuse in set but adress wo'nt change\n",
    "s={1,3,'a','4',100}\n",
    "print(id(s),s)\n",
    "def u_clear(coll):\n",
    "    if type(coll)!=set:\n",
    "        return -1\n",
    "    coll-=coll\n",
    "u_clear(s)\n",
    "print(s,id(s))"
   ]
  },
  {
   "cell_type": "code",
   "execution_count": 18,
   "metadata": {},
   "outputs": [
    {
     "name": "stdout",
     "output_type": "stream",
     "text": [
      "{'4', 3, 100, 'a'}\n"
     ]
    }
   ],
   "source": [
    "#3 pop() randomly delete one value inside the set\n",
    "s={1,3,'a','4',100}\n",
    "s.pop()\n",
    "print(s)"
   ]
  },
  {
   "cell_type": "code",
   "execution_count": 19,
   "metadata": {},
   "outputs": [
    {
     "name": "stdout",
     "output_type": "stream",
     "text": [
      "2147372261536 {1, '4', 3, 100, 'a'}\n",
      "{'4', 3, 100, 'a'} 2147372261536\n"
     ]
    }
   ],
   "source": [
    "s={1,3,'a','4',100}\n",
    "print(id(s),s)\n",
    "def u_pop(coll):\n",
    "    if  type(coll)!=set:\n",
    "        return -1\n",
    "    res=list(coll)[0]\n",
    "    coll-={res}\n",
    "u_pop(s)\n",
    "print(s,id(s))\n",
    "\n"
   ]
  },
  {
   "cell_type": "code",
   "execution_count": 20,
   "metadata": {},
   "outputs": [
    {
     "name": "stdout",
     "output_type": "stream",
     "text": [
      "2147372261088 {1, '4', 3, 100, 'a'}\n",
      "2147372261088 {1, '4', 3, 'a'}\n"
     ]
    }
   ],
   "source": [
    "# 4.remove() it delete specific value in the set value not present raise the error\n",
    "s={1,3,'a','4',100}\n",
    "print(id(s),s)\n",
    "s.remove(100)\n",
    "print(id(s),s)"
   ]
  },
  {
   "cell_type": "code",
   "execution_count": 21,
   "metadata": {},
   "outputs": [
    {
     "name": "stdout",
     "output_type": "stream",
     "text": [
      "2147372261984 {1, '4', 3, 100, 'a'}\n",
      "2147372261984 {1, '4', 3, 'a'}\n"
     ]
    }
   ],
   "source": [
    "s={1,3,'a','4',100}\n",
    "print(id(s),s)\n",
    "def u_remove(coll,ele):\n",
    "    if type(coll)!=set or ele not in coll:\n",
    "        return -1\n",
    "    coll-={ele}\n",
    "u_remove(s,100)\n",
    "print(id(s),s)\n",
    "    \n",
    "    "
   ]
  },
  {
   "cell_type": "code",
   "execution_count": 23,
   "metadata": {},
   "outputs": [
    {
     "name": "stdout",
     "output_type": "stream",
     "text": [
      "2147366878816 {1, '4', 3, 100, 'a'}\n",
      "2147366878816 {1, '4', 3, 100, 'a'}\n"
     ]
    }
   ],
   "source": [
    "# 5. discard()             if value not present it does not raise any error\n",
    "s={1,3,'a','4',100}\n",
    "print(id(s),s)\n",
    "def u_remove(coll,ele):\n",
    "    if type(coll)!=set or ele not in coll:\n",
    "        return -1\n",
    "    coll-={ele}\n",
    "u_remove(s,5)\n",
    "print(id(s),s)"
   ]
  },
  {
   "cell_type": "code",
   "execution_count": 26,
   "metadata": {},
   "outputs": [
    {
     "data": {
      "text/plain": [
       "True"
      ]
     },
     "execution_count": 26,
     "metadata": {},
     "output_type": "execute_result"
    }
   ],
   "source": [
    "# 6.issuperset()              set2 all elements prsent in set1\n",
    "s={'a',3,4,5,100}\n",
    "t={3,5,100}\n",
    "s.issuperset(t)"
   ]
  },
  {
   "cell_type": "code",
   "execution_count": 27,
   "metadata": {},
   "outputs": [
    {
     "data": {
      "text/plain": [
       "True"
      ]
     },
     "execution_count": 27,
     "metadata": {},
     "output_type": "execute_result"
    }
   ],
   "source": [
    "s={'a',3,4,5,100}\n",
    "t={3,5,100}\n",
    "def u_superset(coll1,coll2):\n",
    "    if type(coll1)!=set and type(coll2)!=set:\n",
    "        return -1\n",
    "    for i in coll2:\n",
    "        if i not in coll1:\n",
    "            return False\n",
    "    return True\n",
    "u_superset(s,t)"
   ]
  },
  {
   "cell_type": "code",
   "execution_count": 32,
   "metadata": {},
   "outputs": [
    {
     "data": {
      "text/plain": [
       "True"
      ]
     },
     "execution_count": 32,
     "metadata": {},
     "output_type": "execute_result"
    }
   ],
   "source": [
    "# 7.issubset()           \n",
    "s={'a',3,4,5,100,6}\n",
    "t={3,5,100,6}\n",
    "t.issubset(s)"
   ]
  },
  {
   "cell_type": "code",
   "execution_count": 1,
   "metadata": {},
   "outputs": [
    {
     "data": {
      "text/plain": [
       "True"
      ]
     },
     "execution_count": 1,
     "metadata": {},
     "output_type": "execute_result"
    }
   ],
   "source": [
    "s={'a',3,4,5,100,6}\n",
    "t={3,5,100,6,9.10,20}\n",
    "def u_subset(coll1,coll2):\n",
    "    if len(coll2)>len(coll1):\n",
    "        return \"length of subset is lessthan or equal to superset\"\n",
    "    for i in coll2:\n",
    "        if i in coll1:\n",
    "            return True\n",
    "    return True\n",
    "u_subset(s,t)"
   ]
  },
  {
   "cell_type": "code",
   "execution_count": 34,
   "metadata": {},
   "outputs": [
    {
     "data": {
      "text/plain": [
       "True"
      ]
     },
     "execution_count": 34,
     "metadata": {},
     "output_type": "execute_result"
    }
   ],
   "source": [
    "# 8 isdisjoint()   set2 values should not present in set1 it is opposite to issuperset\n",
    "s={'a',3,4,5,100}\n",
    "t={10,40}\n",
    "s.isdisjoint(t)"
   ]
  },
  {
   "cell_type": "code",
   "execution_count": 35,
   "metadata": {},
   "outputs": [
    {
     "data": {
      "text/plain": [
       "True"
      ]
     },
     "execution_count": 35,
     "metadata": {},
     "output_type": "execute_result"
    }
   ],
   "source": [
    "s={'a',3,4,5,100}\n",
    "t={10,40}\n",
    "def u_disjoint(coll1,coll2):\n",
    "    if type(coll1)!=set and type(coll2)!=set:\n",
    "        return -1\n",
    "    for i in coll2:\n",
    "        if i in coll1:\n",
    "            return False\n",
    "    return True\n",
    "u_disjoint(s,t)"
   ]
  },
  {
   "cell_type": "code",
   "execution_count": 8,
   "metadata": {},
   "outputs": [
    {
     "name": "stdout",
     "output_type": "stream",
     "text": [
      "1703911669120 {10, 2, 'a'}\n",
      "1703911668000 {2, 'a', 4, 22, 10}\n",
      "{2, 'a', 4, 22, 10}\n"
     ]
    }
   ],
   "source": [
    "# 9 union() set1 and set2uncommn elements added to set1\n",
    "s={2,'a',10}\n",
    "print(id(s),s)\n",
    "t={4,2,22}\n",
    "res=s.union(t)\n",
    "print(id(res),res)\n",
    "#s.update(t)\n",
    "#print(s,id(s))\n",
    "v=s|t\n",
    "print(v)"
   ]
  },
  {
   "cell_type": "code",
   "execution_count": 18,
   "metadata": {},
   "outputs": [
    {
     "name": "stdout",
     "output_type": "stream",
     "text": [
      "1703917800576 {10, 2, 'a'}\n",
      "{2, 'a', 4, 22, 10}\n"
     ]
    }
   ],
   "source": [
    "s={2,'a',10}\n",
    "print(id(s),s)\n",
    "t={4,2,22}\n",
    "def u_union(coll1,coll2):\n",
    "    if type(coll1)!=set and type(coll2)!=set:\n",
    "        return -1\n",
    "    res=coll1|coll2\n",
    "    print(res)\n",
    "u_union(s,t)\n",
    "#print(temp,id(temp))\n",
    "\n",
    "\n",
    "    "
   ]
  },
  {
   "cell_type": "code",
   "execution_count": 20,
   "metadata": {},
   "outputs": [
    {
     "name": "stdout",
     "output_type": "stream",
     "text": [
      "1703911668000 {10, 2, 'a'}\n",
      "{2, 'a', 4, 22, 10} 1703911668000\n"
     ]
    }
   ],
   "source": [
    "# 10  update\n",
    "s={2,'a',10}\n",
    "print(id(s),s)\n",
    "t={4,2,22}\n",
    "def u_update(coll1,coll2):\n",
    "    if type(coll1)!=set and type(coll2)!=set:\n",
    "        return -1\n",
    "    coll1|=coll2\n",
    "    print(coll1,id(coll1))\n",
    "u_update(s,t)\n",
    "\n",
    "        \n"
   ]
  },
  {
   "cell_type": "code",
   "execution_count": 22,
   "metadata": {},
   "outputs": [
    {
     "name": "stdout",
     "output_type": "stream",
     "text": [
      "1703917800576 {10, 2, 'a'}\n",
      "{10, 'a'} 1703911668000\n"
     ]
    }
   ],
   "source": [
    "#11 difference\n",
    "s={2,'a',10}\n",
    "print(id(s),s)\n",
    "t={4,2,22}\n",
    "res=s.difference(t)\n",
    "print(res,id(res))"
   ]
  },
  {
   "cell_type": "code",
   "execution_count": 23,
   "metadata": {},
   "outputs": [
    {
     "name": "stdout",
     "output_type": "stream",
     "text": [
      "1703917802816 {10, 2, 'a'}\n",
      "{10, 'a'} 1703917799904\n"
     ]
    }
   ],
   "source": [
    "s={2,'a',10}\n",
    "print(id(s),s)\n",
    "t={4,2,22}\n",
    "def u_difference(coll1,coll2):\n",
    "    if type(coll1)!=set and type(coll2)!=set:\n",
    "        return -1\n",
    "    coll1=coll1-coll2\n",
    "    print(coll1,id(coll1))\n",
    "u_difference(s,t)\n"
   ]
  },
  {
   "cell_type": "code",
   "execution_count": 46,
   "metadata": {},
   "outputs": [
    {
     "name": "stdout",
     "output_type": "stream",
     "text": [
      "1703917800352 {10, 2, 'a'}\n",
      "{10, 'a'} 1703917800352\n"
     ]
    }
   ],
   "source": [
    "# 12 difference-update\n",
    "s={2,'a',10}\n",
    "print(id(s),s)\n",
    "t={4,2,22}\n",
    "def u_difference_update(coll1,coll2):\n",
    "    if type(coll1)!=set and type(coll2)!=set:\n",
    "        return -1\n",
    "    coll1-=coll2\n",
    "    print(coll1,id(coll1))\n",
    "u_difference_update(s,t)"
   ]
  },
  {
   "cell_type": "code",
   "execution_count": 26,
   "metadata": {},
   "outputs": [
    {
     "name": "stdout",
     "output_type": "stream",
     "text": [
      "1703917799680 {10, 2, 'a'}\n",
      "{2} 1703917800352\n"
     ]
    }
   ],
   "source": [
    "# 13 intersection\n",
    "s={2,'a',10}\n",
    "print(id(s),s)\n",
    "t={4,2,22}\n",
    "res=(s.intersection(t))\n",
    "print(res,id(res))"
   ]
  },
  {
   "cell_type": "code",
   "execution_count": 30,
   "metadata": {},
   "outputs": [
    {
     "name": "stdout",
     "output_type": "stream",
     "text": [
      "1703917804384 {10, 2, 'a'}\n",
      "{2} 1703917803040\n"
     ]
    }
   ],
   "source": [
    "s={2,'a',10}\n",
    "print(id(s),s)\n",
    "t={4,2,22}\n",
    "def u_intersection(coll1,coll2):\n",
    "    if type(coll1)!=set or type(coll2)!=set:\n",
    "        return -1\n",
    "    coll1=coll1&coll2\n",
    "    print(coll1,id(coll1))\n",
    "u_intersection(s,t)"
   ]
  },
  {
   "cell_type": "code",
   "execution_count": 36,
   "metadata": {},
   "outputs": [
    {
     "name": "stdout",
     "output_type": "stream",
     "text": [
      "1703917804608 {10, 2, 'a'}\n",
      "{2} 1703917804608\n"
     ]
    }
   ],
   "source": [
    "# 14 intersection_update\n",
    "s={2,'a',10}\n",
    "print(id(s),s)\n",
    "t={4,2,22}\n",
    "def u_intersection_update(coll1,coll2):\n",
    "    if type(coll1)!=set or type(coll2)!=set:\n",
    "        return -1\n",
    "    coll1&=coll2\n",
    "    print(coll1,id(coll1))\n",
    "u_intersection_update(s,t)"
   ]
  },
  {
   "cell_type": "code",
   "execution_count": 32,
   "metadata": {},
   "outputs": [
    {
     "name": "stdout",
     "output_type": "stream",
     "text": [
      "1703917803040 {10, 2, 'a'}\n"
     ]
    },
    {
     "data": {
      "text/plain": [
       "{10, 22, 4, 'a'}"
      ]
     },
     "execution_count": 32,
     "metadata": {},
     "output_type": "execute_result"
    }
   ],
   "source": [
    "# 15 symatric difference \n",
    "s={2,'a',10}\n",
    "print(id(s),s)\n",
    "t={4,2,22}\n",
    "s.symmetric_difference(t)\n",
    "\n"
   ]
  },
  {
   "cell_type": "code",
   "execution_count": 35,
   "metadata": {},
   "outputs": [
    {
     "name": "stdout",
     "output_type": "stream",
     "text": [
      "1703917801472 {10, 2, 'a'}\n",
      "{'a', 10, 4, 22} 1703917801696\n"
     ]
    }
   ],
   "source": [
    "s={2,'a',10}\n",
    "print(id(s),s)\n",
    "t={4,2,22}\n",
    "def u_symatric_difference(coll1,coll2):\n",
    "    if type(coll1)!=set or type(coll2)!=set:\n",
    "        return -1\n",
    "    coll1=coll1^coll2\n",
    "    print(coll1,id(coll1))\n",
    "u_symatric_difference(s,t)"
   ]
  },
  {
   "cell_type": "code",
   "execution_count": 45,
   "metadata": {},
   "outputs": [
    {
     "name": "stdout",
     "output_type": "stream",
     "text": [
      "1703917803264 {10, 2, 'a'}\n",
      "None\n"
     ]
    }
   ],
   "source": [
    "s={2,'a',10}\n",
    "print(id(s),s)\n",
    "t={4,2,22}\n",
    "s.symmetric_difference_update(t)"
   ]
  },
  {
   "cell_type": "code",
   "execution_count": 38,
   "metadata": {},
   "outputs": [
    {
     "name": "stdout",
     "output_type": "stream",
     "text": [
      "1703917801696 {10, 2, 'a'}\n",
      "{4, 10, 'a', 22} 1703917801696\n"
     ]
    }
   ],
   "source": [
    "# 16 symmatric_difference_update()\n",
    "s={2,'a',10}\n",
    "print(id(s),s)\n",
    "t={4,2,22}\n",
    "def u_symatric_difference_update(coll1,coll2):\n",
    "    if type(coll1)!=set or type(coll2)!=set:\n",
    "        return -1\n",
    "    coll1^=coll2\n",
    "    print(coll1,id(coll1))\n",
    "u_symatric_difference_update(s,t)\n"
   ]
  },
  {
   "cell_type": "code",
   "execution_count": 15,
   "metadata": {},
   "outputs": [
    {
     "data": {
      "text/plain": [
       "633"
      ]
     },
     "execution_count": 15,
     "metadata": {},
     "output_type": "execute_result"
    }
   ],
   "source": [
    "# wtite a prorgam to convetr binary value decimal value\n",
    "s=1001111001\n",
    "def decimal(num):\n",
    "    power=0\n",
    "    sum=0\n",
    "    while num:\n",
    "        l=num%10\n",
    "        sum+=l*(2**power)\n",
    "        power+=1\n",
    "        num=num//10\n",
    "    return sum\n",
    "\n",
    "decimal(s)\n"
   ]
  },
  {
   "cell_type": "code",
   "execution_count": 14,
   "metadata": {},
   "outputs": [
    {
     "name": "stdout",
     "output_type": "stream",
     "text": [
      "10\n"
     ]
    }
   ],
   "source": [
    "n=1010\n",
    "power=0\n",
    "sum=0\n",
    "while n:\n",
    "    l=n%10\n",
    "    sum+=(l*(2**power))\n",
    "    power+=1\n",
    "    n=n//10\n",
    "    \n",
    "print(sum)"
   ]
  },
  {
   "cell_type": "code",
   "execution_count": 10,
   "metadata": {},
   "outputs": [
    {
     "name": "stdout",
     "output_type": "stream",
     "text": [
      "[24, '16.16', '87', '19', '26.46', '35', 28, '19', 488]\n",
      "[24, '16.16', '87', '19', '26.46', '35', 28, '19', 488]\n"
     ]
    }
   ],
   "source": [
    "st='12/16.16/87/19/26.46/35/14/19/244'\n",
    "var=lambda :[int(i)*2 if  eval(i)%2==0 else i for i in st.split('/')]\n",
    "print(var())\n",
    "\n",
    "def find(coll):\n",
    "    l=[]\n",
    "    for i in st.split(\"/\"):\n",
    "        if eval(i)%2==0:\n",
    "            l+=[int(i)*2]\n",
    "        else:\n",
    "            l+=[i]\n",
    "    return l\n",
    "print(find(st))"
   ]
  },
  {
   "cell_type": "code",
   "execution_count": 1,
   "metadata": {},
   "outputs": [
    {
     "data": {
      "text/plain": [
       "1100"
      ]
     },
     "execution_count": 1,
     "metadata": {},
     "output_type": "execute_result"
    }
   ],
   "source": [
    "# test \n",
    "# 1 wap program to convert 12 to binary number\n",
    "def binary(a=12):\n",
    "    st=\"\"\n",
    "    while a:\n",
    "        l=a%2\n",
    "        st+=str(l)\n",
    "        a=a//2\n",
    "    return (int(st[::-1]))\n",
    "binary()\n"
   ]
  },
  {
   "cell_type": "code",
   "execution_count": 2,
   "metadata": {},
   "outputs": [
    {
     "name": "stdout",
     "output_type": "stream",
     "text": [
      "1 2 3 5 8 13 21 34 55 89 144 233 377 610 987 1597 2584 4181 6765 10946 17711 28657 46368 75025 121393 196418 317811 514229 832040 1346269 2178309 3524578 5702887 9227465 14930352 24157817 39088169 63245986 102334155 165580141 267914296 433494437 701408733 1134903170 1836311903 2971215073 4807526976 7778742049 12586269025 20365011074 32951280099 53316291173 86267571272 139583862445 225851433717 365435296162 591286729879 956722026041 1548008755920 2504730781961 4052739537881 6557470319842 10610209857723 17167680177565 27777890035288 44945570212853 72723460248141 117669030460994 190392490709135 308061521170129 498454011879264 806515533049393 1304969544928657 2111485077978050 3416454622906707 5527939700884757 8944394323791464 14472334024676221 23416728348467685 37889062373143906 61305790721611591 99194853094755497 160500643816367088 259695496911122585 420196140727489673 679891637638612258 1100087778366101931 1779979416004714189 2880067194370816120 4660046610375530309 7540113804746346429 12200160415121876738 19740274219868223167 31940434634990099905 51680708854858323072 83621143489848422977 135301852344706746049 218922995834555169026 354224848179261915075 573147844013817084101 927372692193078999176 1500520536206896083277 2427893228399975082453 3928413764606871165730 6356306993006846248183 10284720757613717413913 16641027750620563662096 26925748508234281076009 43566776258854844738105 70492524767089125814114 114059301025943970552219 184551825793033096366333 298611126818977066918552 483162952612010163284885 781774079430987230203437 1264937032042997393488322 2046711111473984623691759 3311648143516982017180081 5358359254990966640871840 8670007398507948658051921 14028366653498915298923761 22698374052006863956975682 36726740705505779255899443 59425114757512643212875125 96151855463018422468774568 155576970220531065681649693 251728825683549488150424261 407305795904080553832073954 659034621587630041982498215 1066340417491710595814572169 1725375039079340637797070384 2791715456571051233611642553 4517090495650391871408712937 "
     ]
    }
   ],
   "source": [
    "#2    wap to check given number is spy no or not .if spy no print fibinnoci series upto given number \n",
    "#else check given no prime or not if prime print 1 to given no prime numbers.\n",
    "def spy(num):\n",
    "    a=num\n",
    "    b=num\n",
    "    sum=0\n",
    "    prd=1\n",
    "    while a:\n",
    "        l=a%10\n",
    "        sum+=l\n",
    "        prd*=l\n",
    "        a=a//10\n",
    "    if sum==prd:\n",
    "        x=0\n",
    "        y=1\n",
    "        for m in range(0,num+1):\n",
    "            c=x+y\n",
    "            print(c,end=\" \")\n",
    "            x,y=y,c\n",
    "    else:\n",
    "        i=1\n",
    "        count=0\n",
    "        while i<=b:\n",
    "            if b%i==0:\n",
    "                 count+=1\n",
    "            i+=1\n",
    "        if count==2:\n",
    "            start=1\n",
    "            end=num\n",
    "            while start<=num:\n",
    "                f=1\n",
    "                c=0\n",
    "                while f<=start:\n",
    "                    if start%f==0:\n",
    "                        c+=1\n",
    "                    f+=1\n",
    "                if c==2:\n",
    "                    print(start)\n",
    "                start+=1\n",
    "\n",
    "\n",
    "\n",
    "spy(132)\n",
    "\n",
    "\n",
    "\n",
    "\n"
   ]
  },
  {
   "cell_type": "code",
   "execution_count": 18,
   "metadata": {},
   "outputs": [
    {
     "data": {
      "text/plain": [
       "'you are how hii'"
      ]
     },
     "execution_count": 18,
     "metadata": {},
     "output_type": "execute_result"
    }
   ],
   "source": [
    "# 3 st='hii how are you'               output='you are how hii'\n",
    "st='hii how are you'\n",
    "def u_reverse(coll):\n",
    "    res=\"\"\n",
    "    l=[]\n",
    "    i=0\n",
    "    while i<len(coll):\n",
    "        if coll[i]!=\" \":\n",
    "            res+=coll[i]\n",
    "        else:\n",
    "            if len(res)!=0:\n",
    "                l+=[res+\" \"]\n",
    "                res=\"\"\n",
    "        i+=1\n",
    "    if len(res)!=0:\n",
    "        l+=[res+\" \"]\n",
    "    s=\"\"\n",
    "    f=-1\n",
    "    while f>=(-len(l)):\n",
    "        s+=l[f]\n",
    "        f-=1\n",
    "    return s[0:len(s)-1]\n",
    "u_reverse(st)"
   ]
  },
  {
   "cell_type": "code",
   "execution_count": 25,
   "metadata": {},
   "outputs": [
    {
     "name": "stdout",
     "output_type": "stream",
     "text": [
      "1\n",
      "2\n",
      "6\n",
      "24\n",
      "120\n",
      "720\n",
      "5040\n",
      "40320\n",
      "362880\n",
      "3628800\n"
     ]
    }
   ],
   "source": [
    "# 4 wap to print  factorial for given number using recurssion\n",
    "def fact(s=1,e=10):\n",
    "    while s<=e:\n",
    "        prd=1\n",
    "        f=1\n",
    "        while f<=s:\n",
    "            prd*=f\n",
    "            f+=1\n",
    "        print(prd)\n",
    "        return fact(s+1,e)\n",
    "fact()\n"
   ]
  },
  {
   "cell_type": "code",
   "execution_count": 26,
   "metadata": {},
   "outputs": [
    {
     "data": {
      "text/plain": [
       "20"
      ]
     },
     "execution_count": 26,
     "metadata": {},
     "output_type": "execute_result"
    }
   ],
   "source": [
    "# 5 wap to sum the even numbers in given no\n",
    "n=789345621\n",
    "def even_sum(num):\n",
    "    sum=0\n",
    "    while num:\n",
    "        l=num%10\n",
    "        if l%2==0:\n",
    "            sum+=l\n",
    "        num=num//10\n",
    "    return sum\n",
    "even_sum(n)"
   ]
  },
  {
   "cell_type": "code",
   "execution_count": 33,
   "metadata": {},
   "outputs": [
    {
     "name": "stdout",
     "output_type": "stream",
     "text": [
      "('com', 'in', 'edu', 'nic.in')\n",
      "{'com': 1, 'in': 1, 'edu': 1, 'nic.in': 1}\n",
      "[('com', 'in', 'edu', 'nic.in'), {'com': 1, 'in': 1, 'edu': 1, 'nic.in': 1}]\n"
     ]
    }
   ],
   "source": [
    "# 6 wap  op[(com,in,edu,nic.in),{'com':1,'in':1,'edu':1,'nic.in':1}]\n",
    "st=['www.google.com','www.python.in','www.yohoo.edu','www.kar.nic.in']\n",
    "def done(coll,count):\n",
    "    l=[]\n",
    "    i=0\n",
    "    while i<len(coll):\n",
    "        s=coll[i]\n",
    "        x=0\n",
    "        co=0\n",
    "        while x<len(s):\n",
    "            if s[x]==\".\":\n",
    "                co+=1\n",
    "                if co==count:\n",
    "                    l+=[s[x+1:]]\n",
    "            x+=1\n",
    "        i+=1\n",
    "    t=tuple(l)\n",
    "    print(t)\n",
    "    start=0\n",
    "    d={}\n",
    "    ll=[]\n",
    "    while start<len(t):\n",
    "        s1=0\n",
    "        while s1<len(coll):\n",
    "            if t[start] in coll[s1]:\n",
    "                d[t[start]]=1\n",
    "            s1+=1\n",
    "        start+=1\n",
    "    print(d)\n",
    "    ll+=[t,d]\n",
    "    print(ll)\n",
    "    \n",
    "\n",
    "    \n",
    "done(st,2)\n",
    "\n",
    "    "
   ]
  },
  {
   "cell_type": "code",
   "execution_count": 20,
   "metadata": {},
   "outputs": [
    {
     "name": "stdout",
     "output_type": "stream",
     "text": [
      "124 89\n"
     ]
    }
   ],
   "source": [
    "# 7 wap to find out largest even integer and odd integer no\n",
    "a=[1,2,3,4,5,6,27,89,88,124]\n",
    "def largest(coll,s,n):\n",
    "    i=0\n",
    "    while i<len(coll):\n",
    "        if coll[i]%2==0:\n",
    "            if s<coll[i]:\n",
    "                s=coll[i]\n",
    "        else:\n",
    "            if n<coll[i]:\n",
    "                n=coll[i]\n",
    "        i+=1\n",
    "    print(s,n)\n",
    "largest(a,1,1)"
   ]
  },
  {
   "cell_type": "code",
   "execution_count": 1,
   "metadata": {},
   "outputs": [
    {
     "ename": "SyntaxError",
     "evalue": "invalid syntax (846542146.py, line 7)",
     "output_type": "error",
     "traceback": [
      "\u001b[1;36m  Cell \u001b[1;32mIn[1], line 7\u001b[1;36m\u001b[0m\n\u001b[1;33m    n + = 1\u001b[0m\n\u001b[1;37m        ^\u001b[0m\n\u001b[1;31mSyntaxError\u001b[0m\u001b[1;31m:\u001b[0m invalid syntax\n"
     ]
    }
   ],
   "source": [
    "n = 1\n",
    "while True:\n",
    "      if n % 3 == 0:\n",
    "          break\n",
    "      print(n)\n",
    "\n",
    "      n + = 1"
   ]
  },
  {
   "cell_type": "code",
   "execution_count": 2,
   "metadata": {},
   "outputs": [
    {
     "name": "stdout",
     "output_type": "stream",
     "text": [
      "('10', '20')\n",
      "10 20\n"
     ]
    }
   ],
   "source": [
    "def add(*args):\n",
    "       print(args)\n",
    "       print(*args)\n",
    "add(\"10\", \"20\")\n"
   ]
  },
  {
   "cell_type": "code",
   "execution_count": 3,
   "metadata": {},
   "outputs": [
    {
     "name": "stdout",
     "output_type": "stream",
     "text": [
      "helloo smile please\n"
     ]
    }
   ],
   "source": [
    "a = \"helloo\"\n",
    "b = \"smile please\"\n",
    "print(a, b)"
   ]
  },
  {
   "cell_type": "code",
   "execution_count": 4,
   "metadata": {},
   "outputs": [],
   "source": [
    "for i in range(0):\n",
    "    print(i)"
   ]
  },
  {
   "cell_type": "code",
   "execution_count": 5,
   "metadata": {},
   "outputs": [
    {
     "ename": "SyntaxError",
     "evalue": "invalid digit '9' in octal literal (345307964.py, line 3)",
     "output_type": "error",
     "traceback": [
      "\u001b[1;36m  Cell \u001b[1;32mIn[5], line 3\u001b[1;36m\u001b[0m\n\u001b[1;33m    if i%0O9 == 0:\u001b[0m\n\u001b[1;37m           ^\u001b[0m\n\u001b[1;31mSyntaxError\u001b[0m\u001b[1;31m:\u001b[0m invalid digit '9' in octal literal\n"
     ]
    }
   ],
   "source": [
    "\n",
    "\n",
    "i = 5\n",
    "while True:\n",
    "    if i%0O9 == 0:\n",
    "        break\n",
    "    print(i)\n",
    "    i += 1"
   ]
  },
  {
   "cell_type": "code",
   "execution_count": 6,
   "metadata": {},
   "outputs": [
    {
     "name": "stdout",
     "output_type": "stream",
     "text": [
      "16\n"
     ]
    }
   ],
   "source": [
    "dict_={}\n",
    "dict_[(1, 2, 4)] = 5\n",
    "dict_[(4, 2, 1)] = 7\n",
    "dict_[(1, 2)] = 6\n",
    "dict_[(4, 2, 1)] = 2\n",
    "\n",
    "total_ = 0\n",
    "for i in dict_:\n",
    "           total_= total_ + dict_[i]\n",
    "print(len(dict_) + total_)"
   ]
  },
  {
   "cell_type": "code",
   "execution_count": 7,
   "metadata": {},
   "outputs": [
    {
     "name": "stdout",
     "output_type": "stream",
     "text": [
      "149.0\n"
     ]
    }
   ],
   "source": [
    "G = 55\n",
    "G1 = 94\n",
    "\n",
    "print((G + G1) / 3 * 3)\n"
   ]
  },
  {
   "cell_type": "code",
   "execution_count": 8,
   "metadata": {},
   "outputs": [
    {
     "name": "stdout",
     "output_type": "stream",
     "text": [
      "['Zb', 'cY']\n"
     ]
    }
   ],
   "source": [
    "m = ['Zb', 'cY']\n",
    "for i in m:\n",
    "      i.upper()\n",
    "print(m)"
   ]
  },
  {
   "cell_type": "code",
   "execution_count": 1,
   "metadata": {},
   "outputs": [
    {
     "name": "stdout",
     "output_type": "stream",
     "text": [
      "3\n"
     ]
    }
   ],
   "source": [
    "print(0b1100>>2)"
   ]
  },
  {
   "cell_type": "code",
   "execution_count": 1,
   "metadata": {},
   "outputs": [
    {
     "name": "stdout",
     "output_type": "stream",
     "text": [
      "1\n",
      "2\n",
      "3\n",
      "5\n"
     ]
    }
   ],
   "source": [
    "a=0\n",
    "b=1\n",
    "def fau(a,b,n,m):\n",
    "    if n==m:\n",
    "        return \n",
    "    c=a+b\n",
    "    print(c)\n",
    "    a,b=b,c\n",
    "    fau(a,b,n+1,m)\n",
    "fau(a,b,0,4)"
   ]
  },
  {
   "cell_type": "code",
   "execution_count": 11,
   "metadata": {},
   "outputs": [
    {
     "name": "stdout",
     "output_type": "stream",
     "text": [
      "ERGHJKUYTHGFVC\n"
     ]
    }
   ],
   "source": [
    "st=\"erghjkuythgfvc\"\n",
    "def u_upper(coll,s=0,res=\"\"):\n",
    "    if s==len(coll):\n",
    "        print(res)\n",
    "        return \n",
    "    if 'a'<=coll[s]<='z':\n",
    "        res+=chr(ord(coll[s])-32)\n",
    "    else:\n",
    "        res+=coll[s]\n",
    "    u_upper(coll,s+1,res)\n",
    "u_upper(st)"
   ]
  },
  {
   "cell_type": "code",
   "execution_count": 7,
   "metadata": {},
   "outputs": [
    {
     "name": "stdout",
     "output_type": "stream",
     "text": [
      "[1, 2, 4]\n",
      "[1, 4]\n"
     ]
    },
    {
     "ename": "IndexError",
     "evalue": "list assignment index out of range",
     "output_type": "error",
     "traceback": [
      "\u001b[1;31m---------------------------------------------------------------------------\u001b[0m",
      "\u001b[1;31mIndexError\u001b[0m                                Traceback (most recent call last)",
      "\u001b[1;32mc:\\Users\\sravani\\OneDrive\\Documents\\GitHub\\SRAVANI\\python\\functions.ipynb Cell 162\u001b[0m line \u001b[0;36m3\n\u001b[0;32m     <a href='vscode-notebook-cell:/c%3A/Users/sravani/OneDrive/Documents/GitHub/SRAVANI/python/functions.ipynb#Y320sZmlsZQ%3D%3D?line=28'>29</a>\u001b[0m   \u001b[39melse\u001b[39;00m:\n\u001b[0;32m     <a href='vscode-notebook-cell:/c%3A/Users/sravani/OneDrive/Documents/GitHub/SRAVANI/python/functions.ipynb#Y320sZmlsZQ%3D%3D?line=29'>30</a>\u001b[0m    \u001b[39mreturn\u001b[39;00m nums[\u001b[39mlen\u001b[39m(nums)\u001b[39m/\u001b[39m\u001b[39m/\u001b[39m\u001b[39m2\u001b[39m]\n\u001b[1;32m---> <a href='vscode-notebook-cell:/c%3A/Users/sravani/OneDrive/Documents/GitHub/SRAVANI/python/functions.ipynb#Y320sZmlsZQ%3D%3D?line=30'>31</a>\u001b[0m centered_average(f)\n\u001b[0;32m     <a href='vscode-notebook-cell:/c%3A/Users/sravani/OneDrive/Documents/GitHub/SRAVANI/python/functions.ipynb#Y320sZmlsZQ%3D%3D?line=34'>35</a>\u001b[0m  \u001b[39m# sum=0\u001b[39;00m\n\u001b[0;32m     <a href='vscode-notebook-cell:/c%3A/Users/sravani/OneDrive/Documents/GitHub/SRAVANI/python/functions.ipynb#Y320sZmlsZQ%3D%3D?line=35'>36</a>\u001b[0m   \u001b[39m#if len(nums)%2==0:\u001b[39;00m\n\u001b[0;32m     <a href='vscode-notebook-cell:/c%3A/Users/sravani/OneDrive/Documents/GitHub/SRAVANI/python/functions.ipynb#Y320sZmlsZQ%3D%3D?line=36'>37</a>\u001b[0m     \u001b[39m#sum+=nums[len(nums)//2]+nums[len(nums)//2+1]\u001b[39;00m\n\u001b[1;32m   (...)\u001b[0m\n\u001b[0;32m     <a href='vscode-notebook-cell:/c%3A/Users/sravani/OneDrive/Documents/GitHub/SRAVANI/python/functions.ipynb#Y320sZmlsZQ%3D%3D?line=39'>40</a>\u001b[0m   \u001b[39m#else:\u001b[39;00m\n\u001b[0;32m     <a href='vscode-notebook-cell:/c%3A/Users/sravani/OneDrive/Documents/GitHub/SRAVANI/python/functions.ipynb#Y320sZmlsZQ%3D%3D?line=40'>41</a>\u001b[0m    \u001b[39m# return nums[len(nums)//2]\u001b[39;00m\n",
      "\u001b[1;32mc:\\Users\\sravani\\OneDrive\\Documents\\GitHub\\SRAVANI\\python\\functions.ipynb Cell 162\u001b[0m line \u001b[0;36m2\n\u001b[0;32m     <a href='vscode-notebook-cell:/c%3A/Users/sravani/OneDrive/Documents/GitHub/SRAVANI/python/functions.ipynb#Y320sZmlsZQ%3D%3D?line=19'>20</a>\u001b[0m     d\u001b[39m=\u001b[39mx\n\u001b[0;32m     <a href='vscode-notebook-cell:/c%3A/Users/sravani/OneDrive/Documents/GitHub/SRAVANI/python/functions.ipynb#Y320sZmlsZQ%3D%3D?line=20'>21</a>\u001b[0m x\u001b[39m+\u001b[39m\u001b[39m=\u001b[39m\u001b[39m1\u001b[39m\n\u001b[1;32m---> <a href='vscode-notebook-cell:/c%3A/Users/sravani/OneDrive/Documents/GitHub/SRAVANI/python/functions.ipynb#Y320sZmlsZQ%3D%3D?line=21'>22</a>\u001b[0m \u001b[39mdel\u001b[39;00m nums[x]\n\u001b[0;32m     <a href='vscode-notebook-cell:/c%3A/Users/sravani/OneDrive/Documents/GitHub/SRAVANI/python/functions.ipynb#Y320sZmlsZQ%3D%3D?line=22'>23</a>\u001b[0m \u001b[39mprint\u001b[39m(nums)\n\u001b[0;32m     <a href='vscode-notebook-cell:/c%3A/Users/sravani/OneDrive/Documents/GitHub/SRAVANI/python/functions.ipynb#Y320sZmlsZQ%3D%3D?line=23'>24</a>\u001b[0m \u001b[39msum\u001b[39m\u001b[39m=\u001b[39m\u001b[39m0\u001b[39m\n",
      "\u001b[1;31mIndexError\u001b[0m: list assignment index out of range"
     ]
    }
   ],
   "source": [
    "f=[1,100,2,4]\n",
    "def centered_average(nums):\n",
    "  #l=nums\n",
    "  i=0\n",
    "  big=0\n",
    "  ch=None\n",
    "  while i<len(nums):\n",
    "    if big<nums[i]:\n",
    "      big=nums[i]\n",
    "      ch=i\n",
    "    i+=1\n",
    "  del nums[ch]\n",
    "  print(nums)\n",
    "  small=big\n",
    "  x=0\n",
    "  d=None\n",
    "  while x<len(nums):\n",
    "    if small>nums[x]:\n",
    "        small=nums[x]\n",
    "        d=x\n",
    "    x+=1\n",
    "    del nums[x]\n",
    "    print(nums)\n",
    "    sum=0\n",
    "  if len(nums)%2==0:\n",
    "    sum+=nums[len(nums)//2]+nums[len(nums)//2+1]\n",
    "    avg=sum/2\n",
    "    return avg\n",
    "  else:\n",
    "   return nums[len(nums)//2]\n",
    "centered_average(f)\n",
    "  \n",
    "    \n",
    "  \n",
    " # sum=0\n",
    "  #if len(nums)%2==0:\n",
    "    #sum+=nums[len(nums)//2]+nums[len(nums)//2+1]\n",
    "    #avg=sum/2\n",
    "    #return avg\n",
    "  #else:\n",
    "   # return nums[len(nums)//2]"
   ]
  },
  {
   "cell_type": "code",
   "execution_count": 1,
   "metadata": {},
   "outputs": [
    {
     "name": "stdout",
     "output_type": "stream",
     "text": [
      "1600\n"
     ]
    }
   ],
   "source": [
    "def watch(time,secondsforeveryfiveminutes,minutes):\n",
    "    st=\"\"\n",
    "    if len(time)==4:\n",
    "        ss=secondsforeveryfiveminutes*12\n",
    "        min=minutes*ss\n",
    "        hour=min//60\n",
    "        res=time[0:2]\n",
    "        t=int(res)+hour\n",
    "        st+=str(t)+\"00\"\n",
    "\n",
    "        print(st)\n",
    "    else:\n",
    "        print(\"invalid input\")\n",
    "watch(\"0600\",5,10)\n",
    "\n"
   ]
  },
  {
   "cell_type": "code",
   "execution_count": 2,
   "metadata": {},
   "outputs": [
    {
     "name": "stdout",
     "output_type": "stream",
     "text": [
      "22\n",
      "9\n"
     ]
    }
   ],
   "source": [
    "f=[3,6,2,3,5]\n",
    "def getscore(numseq):\n",
    "    fs=0\n",
    "    ss=0\n",
    "    for i in range(0,len(numseq)):\n",
    "        if i%2!=0:\n",
    "            fs+=numseq[i]\n",
    "        else:\n",
    "            if numseq[i]%2==0:\n",
    "                numseq=numseq[::-1]\n",
    "                for x in range(0,len(numseq)):\n",
    "                    if x%2!=0:\n",
    "                        ss+=numseq[x]\n",
    "                    else:\n",
    "                        fs+=numseq[x]\n",
    "    print(fs)\n",
    "    print(ss)\n",
    "getscore(f)\n",
    "\n",
    "\n"
   ]
  },
  {
   "cell_type": "code",
   "execution_count": 4,
   "metadata": {},
   "outputs": [
    {
     "name": "stdout",
     "output_type": "stream",
     "text": [
      "[6, 2, 3, 5]\n",
      "3\n"
     ]
    }
   ],
   "source": [
    "f=[3,6,2,3,5]\n",
    "def getscore(numseq):\n",
    "   \n",
    "    fs=0\n",
    "    ss=0\n",
    "    for i in range(0,len(numseq)):\n",
    "            fs+=numseq[i]\n",
    "            numseq.pop(0)\n",
    "            if numseq[i]%2==0:\n",
    "                numseq=numseq[::-1]\n",
    "                \n",
    "\n",
    "\n",
    "\n",
    "\n",
    "        \n",
    "            \n",
    "    print(d)\n",
    "    print(fs)\n",
    "getscore(f)"
   ]
  },
  {
   "cell_type": "code",
   "execution_count": null,
   "metadata": {},
   "outputs": [],
   "source": [
    "\n"
   ]
  }
 ],
 "metadata": {
  "kernelspec": {
   "display_name": "Python 3",
   "language": "python",
   "name": "python3"
  },
  "language_info": {
   "codemirror_mode": {
    "name": "ipython",
    "version": 3
   },
   "file_extension": ".py",
   "mimetype": "text/x-python",
   "name": "python",
   "nbconvert_exporter": "python",
   "pygments_lexer": "ipython3",
   "version": "3.11.4"
  },
  "orig_nbformat": 4
 },
 "nbformat": 4,
 "nbformat_minor": 2
}
