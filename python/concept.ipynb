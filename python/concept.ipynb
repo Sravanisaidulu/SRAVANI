{
 "cells": [
  {
   "cell_type": "code",
   "execution_count": null,
   "metadata": {},
   "outputs": [],
   "source": [
    "# NESTED FUNCTION SYNTAX\n",
    "#def outerfun(argsuments):\n",
    "   # statements\n",
    "    #def innerfun(arguments):\n",
    "     #   statements\n",
    "    #ineerfun(values)\n",
    "#outerfun(values)"
   ]
  },
  {
   "cell_type": "code",
   "execution_count": 1,
   "metadata": {},
   "outputs": [
    {
     "name": "stdout",
     "output_type": "stream",
     "text": [
      "100 200\n",
      "20 30\n"
     ]
    }
   ],
   "source": [
    "def outerfun(a,b):\n",
    "    print(a,b)\n",
    "    def innerfun(m,n):\n",
    "        print(m,n)\n",
    "    innerfun(20,30)\n",
    "outerfun(100,200)"
   ]
  },
  {
   "cell_type": "code",
   "execution_count": 4,
   "metadata": {},
   "outputs": [
    {
     "name": "stdout",
     "output_type": "stream",
     "text": [
      "10 30\n",
      "<function outer.<locals>.inner at 0x000001DBC3003F60>\n",
      "300 400\n"
     ]
    }
   ],
   "source": [
    "def outer(a,b):\n",
    "    print(a,b)\n",
    "    def inner(m,n):\n",
    "        print(m,n)\n",
    "    return inner\n",
    "res=outer(10,30)\n",
    "print(res)\n",
    "res(300,400)"
   ]
  },
  {
   "cell_type": "code",
   "execution_count": 1,
   "metadata": {},
   "outputs": [],
   "source": [
    "# DECORATROS CONCEPT provide new functionality to the existing function\n",
    "\n",
    "#                 without return statement\n",
    "def outer(func):\n",
    "    def inner(*args,**kwargs):\n",
    "        print(\"haii\")\n",
    "        func(*args,**kwargs)\n",
    "        print(\"bye\")\n",
    "    return inner\n",
    "\n"
   ]
  },
  {
   "cell_type": "code",
   "execution_count": 2,
   "metadata": {},
   "outputs": [
    {
     "name": "stdout",
     "output_type": "stream",
     "text": [
      "haii\n",
      "30 goodevening\n",
      "bye\n"
     ]
    }
   ],
   "source": [
    "@outer\n",
    "def sample(a,b):\n",
    "    print(a+b,'goodevening')\n",
    "sample(10,20)"
   ]
  },
  {
   "cell_type": "code",
   "execution_count": 9,
   "metadata": {},
   "outputs": [],
   "source": [
    "#             WITH RETURN STATEMENT\n",
    "def main(fun):\n",
    "    def sub(*args,**kwargs):\n",
    "        print(\"byee\")\n",
    "        res=fun(*args,**kwargs)\n",
    "        print(\"night\")\n",
    "        return res\n",
    "    return sub"
   ]
  },
  {
   "cell_type": "code",
   "execution_count": 10,
   "metadata": {},
   "outputs": [
    {
     "name": "stdout",
     "output_type": "stream",
     "text": [
      "byee\n",
      "night\n"
     ]
    },
    {
     "data": {
      "text/plain": [
       "(30, 'goodevening')"
      ]
     },
     "execution_count": 10,
     "metadata": {},
     "output_type": "execute_result"
    }
   ],
   "source": [
    "@main\n",
    "def sample(a,b):\n",
    "    return a+b,'goodevening'\n",
    "sample(10,20)"
   ]
  }
 ],
 "metadata": {
  "kernelspec": {
   "display_name": "Python 3",
   "language": "python",
   "name": "python3"
  },
  "language_info": {
   "codemirror_mode": {
    "name": "ipython",
    "version": 3
   },
   "file_extension": ".py",
   "mimetype": "text/x-python",
   "name": "python",
   "nbconvert_exporter": "python",
   "pygments_lexer": "ipython3",
   "version": "3.11.4"
  }
 },
 "nbformat": 4,
 "nbformat_minor": 2
}
