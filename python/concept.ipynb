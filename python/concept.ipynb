{
 "cells": [
  {
   "cell_type": "code",
   "execution_count": null,
   "metadata": {},
   "outputs": [],
   "source": [
    "# NESTED FUNCTION SYNTAX\n",
    "#def outerfun(argsuments):\n",
    "   # statements\n",
    "    #def innerfun(arguments):\n",
    "     #   statements\n",
    "    #ineerfun(values)\n",
    "#outerfun(values)"
   ]
  },
  {
   "cell_type": "code",
   "execution_count": 1,
   "metadata": {},
   "outputs": [
    {
     "name": "stdout",
     "output_type": "stream",
     "text": [
      "100 200\n",
      "20 30\n"
     ]
    }
   ],
   "source": [
    "def outerfun(a,b):\n",
    "    print(a,b)\n",
    "    def innerfun(m,n):\n",
    "        print(m,n)\n",
    "    innerfun(20,30)\n",
    "outerfun(100,200)"
   ]
  },
  {
   "cell_type": "code",
   "execution_count": 4,
   "metadata": {},
   "outputs": [
    {
     "name": "stdout",
     "output_type": "stream",
     "text": [
      "10 30\n",
      "<function outer.<locals>.inner at 0x000001DBC3003F60>\n",
      "300 400\n"
     ]
    }
   ],
   "source": [
    "def outer(a,b):\n",
    "    print(a,b)\n",
    "    def inner(m,n):\n",
    "        print(m,n)\n",
    "    return inner\n",
    "res=outer(10,30)\n",
    "print(res)\n",
    "res(300,400)"
   ]
  },
  {
   "cell_type": "code",
   "execution_count": 1,
   "metadata": {},
   "outputs": [],
   "source": [
    "# DECORATROS CONCEPT provide new functionality to the existing function\n",
    "\n",
    "#                 without return statement\n",
    "def outer(func):\n",
    "    def inner(*args,**kwargs):\n",
    "        print(\"haii\")\n",
    "        func(*args,**kwargs)\n",
    "        print(\"bye\")\n",
    "    return inner\n",
    "\n"
   ]
  },
  {
   "cell_type": "code",
   "execution_count": 2,
   "metadata": {},
   "outputs": [
    {
     "name": "stdout",
     "output_type": "stream",
     "text": [
      "haii\n",
      "30 goodevening\n",
      "bye\n"
     ]
    }
   ],
   "source": [
    "@outer\n",
    "def sample(a,b):\n",
    "    print(a+b,'goodevening')\n",
    "sample(10,20)"
   ]
  },
  {
   "cell_type": "code",
   "execution_count": 9,
   "metadata": {},
   "outputs": [],
   "source": [
    "#             WITH RETURN STATEMENT\n",
    "def main(fun):\n",
    "    def sub(*args,**kwargs):\n",
    "        print(\"byee\")\n",
    "        res=fun(*args,**kwargs)\n",
    "        print(\"night\")\n",
    "        return res\n",
    "    return sub"
   ]
  },
  {
   "cell_type": "code",
   "execution_count": 10,
   "metadata": {},
   "outputs": [
    {
     "name": "stdout",
     "output_type": "stream",
     "text": [
      "byee\n",
      "night\n"
     ]
    },
    {
     "data": {
      "text/plain": [
       "(30, 'goodevening')"
      ]
     },
     "execution_count": 10,
     "metadata": {},
     "output_type": "execute_result"
    }
   ],
   "source": [
    "@main\n",
    "def sample(a,b):\n",
    "    return a+b,'goodevening'\n",
    "sample(10,20)"
   ]
  },
  {
   "cell_type": "code",
   "execution_count": 4,
   "metadata": {},
   "outputs": [
    {
     "name": "stdout",
     "output_type": "stream",
     "text": [
      "[0, 1, 2, 3, 4, 5, 6, 7, 8, 9, 10, 11, 12, 13, 14, 15, 16, 17, 18, 19, 20]\n"
     ]
    }
   ],
   "source": [
    "# LIST COMPREHENSION\n",
    "#1 generate sequence of values and store \n",
    "# SYNTAX 1\n",
    "t=20\n",
    "s=[i for i in range(0,t+1)]\n",
    "print(s)"
   ]
  },
  {
   "cell_type": "code",
   "execution_count": 6,
   "metadata": {},
   "outputs": [
    {
     "name": "stdout",
     "output_type": "stream",
     "text": [
      "[12, 16, 87, 19, 26, 35, 14, 19]\n"
     ]
    }
   ],
   "source": [
    "#2 ouput=[12,16,87,19,26,35,14,19]\n",
    "ip='12 16 87 19 26 35 14 19'\n",
    "var=[int(i) for i in ip.split()]\n",
    "print(var)"
   ]
  },
  {
   "cell_type": "code",
   "execution_count": 7,
   "metadata": {},
   "outputs": [
    {
     "name": "stdout",
     "output_type": "stream",
     "text": [
      "5\n"
     ]
    }
   ],
   "source": [
    "# 3 wap to count no of vowela in given string\n",
    "# SYNTAX 2\n",
    "st=\"12f;ikjhgcxzerghm,.kloyq    z BNM,./O'P987653EWQ\"\n",
    "vat=len([i for i in st if i in 'AEIOUaeiou'])\n",
    "print(vat)\n"
   ]
  },
  {
   "cell_type": "code",
   "execution_count": 10,
   "metadata": {},
   "outputs": [
    {
     "name": "stdout",
     "output_type": "stream",
     "text": [
      "[12, 16, 26, 14]\n"
     ]
    }
   ],
   "source": [
    "# 4 ouput=[12,16,26,14]\n",
    "ip='12 16 87 19  26 35 14  19'\n",
    "var=[int(i) for i in ip.split() if int(i)%2==0]\n",
    "print(var)\n",
    "\n"
   ]
  },
  {
   "cell_type": "code",
   "execution_count": 17,
   "metadata": {},
   "outputs": [
    {
     "name": "stdout",
     "output_type": "stream",
     "text": [
      "[24, '16.16', '87', '19', '26.46', '35', 56, '19', 488]\n"
     ]
    }
   ],
   "source": [
    "#          SYNTAX 3\n",
    "# 5 output=[24,'16.16','87','19','26.46','35',28,'19']\n",
    "n='12/16.16/87/19/26.46/35/28/19/244'\n",
    "var=[int(i)*2 if '.' not in i and  int(i)%2==0 else i for i in n.split(\"/\") ]\n",
    "print(var)"
   ]
  },
  {
   "cell_type": "code",
   "execution_count": 18,
   "metadata": {},
   "outputs": [
    {
     "name": "stdout",
     "output_type": "stream",
     "text": [
      "[1, 2, 3, 4, 5, 6, 7, 8]\n"
     ]
    }
   ],
   "source": [
    "#            SYNTAX 4\n",
    "# 6 output=[1,2,3,4,5,6,7,8]\n",
    "ip=[[1,2],[3,4],[5,6],[7,8]]\n",
    "var=[j for i in ip for j in i]\n",
    "print(var)"
   ]
  },
  {
   "cell_type": "code",
   "execution_count": 19,
   "metadata": {},
   "outputs": [
    {
     "name": "stdout",
     "output_type": "stream",
     "text": [
      "['APPLE', 'BAT', 'CAT', 'DOG']\n"
     ]
    }
   ],
   "source": [
    "# ['APPLE','BAT','CAT','DOG']\n",
    "ip=[['apple','bat'],['cat','dog']]\n",
    "var=[j.upper() for i in ip for j in i]\n",
    "print(var)"
   ]
  },
  {
   "cell_type": "code",
   "execution_count": 22,
   "metadata": {},
   "outputs": [
    {
     "name": "stdout",
     "output_type": "stream",
     "text": [
      "['APPLE', 'BAT', 'CAT', 'DOG']\n"
     ]
    }
   ],
   "source": [
    "#          SYNTAX 5\n",
    "# store only odd length collection in upper case \n",
    "ip=[['apple','bat','icecream'],['cat','dog','monkey']]\n",
    "vt=[j.upper() for i in ip for j in i if len(j)%2!=0]\n",
    "print(vt)"
   ]
  },
  {
   "cell_type": "code",
   "execution_count": 20,
   "metadata": {},
   "outputs": [
    {
     "name": "stdout",
     "output_type": "stream",
     "text": [
      "['APPLE', 'BAT', 'icecream', 'CAT', 'DOG', 'monkey']\n"
     ]
    }
   ],
   "source": [
    "# SYNTAX 6\n",
    "# store only odd length collection in upper case else same\n",
    "ip=[['apple','bat','icecream'],['cat','dog','monkey']]\n",
    "var=[j.upper() if len(j)%2!=0 else j for i in ip for j in i]\n",
    "print(var)"
   ]
  },
  {
   "cell_type": "code",
   "execution_count": 2,
   "metadata": {},
   "outputs": [
    {
     "name": "stdout",
     "output_type": "stream",
     "text": [
      "['APPLE', 'BAT', 'Icecream', 'CAT', 'DOG', 'monkey']\n"
     ]
    }
   ],
   "source": [
    "# if len of coll in even snd len is 6 convert to lower else title case if it is odd convert to upper case \n",
    "ip=[['apple','bat','icecream'],['cat','dog','Monkey']]\n",
    "vt=[j.lower() if len(j)==6 else j.title() if len(j)%2==0 else j.upper() for i in ip for j in i]\n",
    "print(vt)"
   ]
  },
  {
   "cell_type": "code",
   "execution_count": 6,
   "metadata": {},
   "outputs": [
    {
     "name": "stdout",
     "output_type": "stream",
     "text": [
      "True\n"
     ]
    }
   ],
   "source": [
    "# strong number using for loop\n",
    "n=145\n",
    "sum=0\n",
    "for i in str(n):\n",
    "    prod=1\n",
    "    for j in range(1,int(i)+1):\n",
    "        prod*=j\n",
    "    sum+=prod\n",
    "print(sum==n)\n"
   ]
  },
  {
   "cell_type": "code",
   "execution_count": 15,
   "metadata": {},
   "outputs": [
    {
     "ename": "TypeError",
     "evalue": "'int' object is not callable",
     "output_type": "error",
     "traceback": [
      "\u001b[1;31m---------------------------------------------------------------------------\u001b[0m",
      "\u001b[1;31mTypeError\u001b[0m                                 Traceback (most recent call last)",
      "\u001b[1;32mc:\\Users\\sravani\\OneDrive\\Documents\\GitHub\\SRAVANI\\python\\concept.ipynb Cell 19\u001b[0m line \u001b[0;36m5\n\u001b[0;32m      <a href='vscode-notebook-cell:/c%3A/Users/sravani/OneDrive/Documents/GitHub/SRAVANI/python/concept.ipynb#X24sZmlsZQ%3D%3D?line=2'>3</a>\u001b[0m \u001b[39mfrom\u001b[39;00m  \u001b[39mmath\u001b[39;00m \u001b[39mimport\u001b[39;00m prod\n\u001b[0;32m      <a href='vscode-notebook-cell:/c%3A/Users/sravani/OneDrive/Documents/GitHub/SRAVANI/python/concept.ipynb#X24sZmlsZQ%3D%3D?line=3'>4</a>\u001b[0m k\u001b[39m=\u001b[39m\u001b[39m145\u001b[39m\n\u001b[1;32m----> <a href='vscode-notebook-cell:/c%3A/Users/sravani/OneDrive/Documents/GitHub/SRAVANI/python/concept.ipynb#X24sZmlsZQ%3D%3D?line=4'>5</a>\u001b[0m v\u001b[39m=\u001b[39m \u001b[39msum\u001b[39;49m(prod,[j  \u001b[39mfor\u001b[39;49;00m i \u001b[39min\u001b[39;49;00m \u001b[39mstr\u001b[39;49m(k) \u001b[39mfor\u001b[39;49;00m j \u001b[39min\u001b[39;49;00m \u001b[39mrange\u001b[39;49m(\u001b[39m1\u001b[39;49m,\u001b[39mint\u001b[39;49m(i)\u001b[39m+\u001b[39;49m\u001b[39m1\u001b[39;49m)])\u001b[39m==\u001b[39mk\n\u001b[0;32m      <a href='vscode-notebook-cell:/c%3A/Users/sravani/OneDrive/Documents/GitHub/SRAVANI/python/concept.ipynb#X24sZmlsZQ%3D%3D?line=5'>6</a>\u001b[0m \u001b[39mprint\u001b[39m(v)\n",
      "\u001b[1;31mTypeError\u001b[0m: 'int' object is not callable"
     ]
    }
   ],
   "source": [
    "# \n",
    "\n",
    "from  math import prod\n",
    "k=145\n",
    "v= sum(prod,[j  for i in str(k) for j in range(1,int(i)+1)])==k\n",
    "print(v)\n",
    "\n"
   ]
  },
  {
   "cell_type": "code",
   "execution_count": 7,
   "metadata": {},
   "outputs": [
    {
     "name": "stdout",
     "output_type": "stream",
     "text": [
      "h\n",
      "e\n",
      "l\n",
      "l\n",
      "o\n",
      " \n",
      "w\n",
      "o\n",
      "r\n",
      "l\n",
      "d\n"
     ]
    }
   ],
   "source": [
    "#                                                      RECURRSION\n",
    "# fetch char\n",
    "st='hello world'\n",
    "def fetch(coll,start=0):\n",
    "    if start==len(coll):\n",
    "        return \n",
    "    print(coll[start])\n",
    "    fetch(coll,start+1)\n",
    "fetch(st) "
   ]
  },
  {
   "cell_type": "code",
   "execution_count": 6,
   "metadata": {},
   "outputs": [
    {
     "name": "stdout",
     "output_type": "stream",
     "text": [
      "0\n",
      "1\n",
      "2\n",
      "3\n",
      "4\n",
      "5\n",
      "6\n",
      "7\n",
      "8\n",
      "9\n",
      "10\n"
     ]
    }
   ],
   "source": [
    "# fetch index value\n",
    "st='hello world'\n",
    "def fetch(coll,start=0):\n",
    "    if start==len(coll):\n",
    "        return \n",
    "    print(start)\n",
    "    fetch(coll,start+1)\n",
    "fetch(st)"
   ]
  },
  {
   "cell_type": "code",
   "execution_count": 9,
   "metadata": {},
   "outputs": [
    {
     "name": "stdout",
     "output_type": "stream",
     "text": [
      "-1\n",
      "-2\n",
      "-3\n",
      "-4\n",
      "-5\n",
      "-6\n"
     ]
    }
   ],
   "source": [
    "# fetch negative index value\n",
    "st=\"barbie\"\n",
    "def nix(coll,start=-1):\n",
    "    if start<(-len(coll)):\n",
    "        return\n",
    "    print(start)\n",
    "    nix(coll,start-1)\n",
    "nix(st)"
   ]
  },
  {
   "cell_type": "code",
   "execution_count": 10,
   "metadata": {},
   "outputs": [
    {
     "name": "stdout",
     "output_type": "stream",
     "text": [
      "b 0 -1\n",
      "a 1 -2\n",
      "r 2 -3\n",
      "b 3 -4\n",
      "i 4 -5\n",
      "e 5 -6\n"
     ]
    }
   ],
   "source": [
    "# fetch character,posive index and negative index\n",
    "st=\"barbie\"\n",
    "def fetch(coll,start=0,nix=-1):\n",
    "    if start==len(coll):\n",
    "        return\n",
    "    print(coll[start],start,nix)\n",
    "    fetch(coll,start+1,nix-1)\n",
    "fetch(st)"
   ]
  },
  {
   "cell_type": "code",
   "execution_count": 11,
   "metadata": {},
   "outputs": [
    {
     "name": "stdout",
     "output_type": "stream",
     "text": [
      "tEAM INDiA #2023@ SEmIs\n"
     ]
    }
   ],
   "source": [
    "# wap to convert upper case to lower and lower case to upper\n",
    "st=\"Team indIa #2023@ seMiS\"\n",
    "def convert(coll,start=0,res=\"\"):\n",
    "    if start==len(coll):\n",
    "        print(res)\n",
    "        return\n",
    "    if 'A'<=coll[start]<='Z':\n",
    "        res+=chr(ord(coll[start])+32)\n",
    "    elif 'a'<=coll[start]<='z':\n",
    "        res+=chr(ord(coll[start])-32)\n",
    "    else:\n",
    "        res+=coll[start]\n",
    "    convert(coll,start+1,res)\n",
    "convert(st)\n"
   ]
  },
  {
   "cell_type": "code",
   "execution_count": 13,
   "metadata": {},
   "outputs": [
    {
     "name": "stdout",
     "output_type": "stream",
     "text": [
      "TIMS eamindasei 2023   #@ \n"
     ]
    }
   ],
   "source": [
    "# seggreate the values\n",
    "st=\"Team indIa #2023@ seMiS\"\n",
    "def seggrigate(coll,start=0,uc=\"\",lc=\"\",num=\"\",sc=\"\"):\n",
    "    if start==len(coll):\n",
    "        print(uc,lc,num,sc)\n",
    "        return\n",
    "    if 'A'<=coll[start]<='Z':\n",
    "        uc+=coll[start]\n",
    "    elif 'a'<=coll[start]<='z':\n",
    "        lc+=coll[start]\n",
    "    elif '0'<=coll[start]<='9':\n",
    "        num+=coll[start]\n",
    "    else:\n",
    "        sc+=coll[start]\n",
    "    seggrigate(coll,start+1,uc,lc,num,sc)\n",
    "seggrigate(st)"
   ]
  },
  {
   "cell_type": "code",
   "execution_count": 5,
   "metadata": {},
   "outputs": [
    {
     "name": "stdout",
     "output_type": "stream",
     "text": [
      "Barbie\n"
     ]
    }
   ],
   "source": [
    "# captalize\n",
    "st=\"barbIe\"\n",
    "def cap(coll,start=0,res=\"\"):\n",
    "    if start==len(coll):\n",
    "        print(res)\n",
    "        return\n",
    "    if start==0 :\n",
    "        if 'a'<=coll[0]<='z':\n",
    "            res+=chr(ord(coll[0])-32)\n",
    "        else:\n",
    "            res+=coll[0]\n",
    "    else:\n",
    "        if 'A'<=coll[start]<='Z':\n",
    "            res+=chr(ord(coll[start])+32)\n",
    "        else:\n",
    "            res+=coll[start]\n",
    "    cap(coll,start+1,res)\n",
    "cap(st)\n",
    "\n",
    "    \n"
   ]
  },
  {
   "cell_type": "code",
   "execution_count": 6,
   "metadata": {},
   "outputs": [
    {
     "name": "stdout",
     "output_type": "stream",
     "text": [
      "__mari*gold__\n"
     ]
    }
   ],
   "source": [
    "# dragon case\n",
    "s='Mari Gold@'\n",
    "def dragon(coll,start=0,res=\"\"):\n",
    "    if start==len(coll):\n",
    "        print(\"__\"+res+\"__\")\n",
    "        return\n",
    "    if 'A'<=coll[start]<='Z':\n",
    "        res+=chr(ord(coll[start])+32)\n",
    "    elif coll[start]==' ':\n",
    "        res+='*'\n",
    "    elif 'a'<=coll[start]<='z':\n",
    "        res+=coll[start]\n",
    "    dragon(coll,start+1,res)\n",
    "dragon(s)\n"
   ]
  },
  {
   "cell_type": "code",
   "execution_count": 21,
   "metadata": {},
   "outputs": [
    {
     "name": "stdout",
     "output_type": "stream",
     "text": [
      "Jailer movhyuwtcd\n",
      "ie ave o ahe\n"
     ]
    }
   ],
   "source": [
    "# uniue and dupicates\n",
    "st=\"Jailer movie have you watched\"\n",
    "def fun(coll,s=0,uni=\"\",dup=\"\"):\n",
    "    if s==len(coll):\n",
    "        print(uni)\n",
    "        print(dup)\n",
    "        return\n",
    "    if coll[s] not in uni:\n",
    "        uni+=coll[s]\n",
    "    elif coll[s] in uni:\n",
    "        dup+=coll[s]\n",
    "    fun(coll,s+1,uni,dup)\n",
    "fun(st) \n",
    "    "
   ]
  },
  {
   "cell_type": "code",
   "execution_count": 1,
   "metadata": {},
   "outputs": [
    {
     "name": "stdout",
     "output_type": "stream",
     "text": [
      "{'J': 1, 'a': 3, 'i': 2, 'l': 1, 'e': 4, 'r': 1, ' ': 4, 'm': 1, 'o': 2, 'v': 2, 'h': 2, 'y': 1, 'u': 1, 'w': 1, 't': 1, 'c': 1, 'd': 1}\n"
     ]
    }
   ],
   "source": [
    "# ocuurences of each char\n",
    "st=\"Jailer movie have you watched\"\n",
    "def occu(coll,start=0,d={}):\n",
    "    if start==len(coll):\n",
    "        print(d)\n",
    "        return\n",
    "    if coll[start] not in d:\n",
    "        d[coll[start]]=1\n",
    "    else:\n",
    "        d[coll[start]]+=1\n",
    "    occu(coll,start+1,d)\n",
    "occu(st)\n",
    "    "
   ]
  },
  {
   "cell_type": "code",
   "execution_count": 1,
   "metadata": {},
   "outputs": [
    {
     "name": "stdout",
     "output_type": "stream",
     "text": [
      "4\n",
      "3\n",
      "2\n",
      "1\n"
     ]
    }
   ],
   "source": [
    "# print each digit from given number\n",
    "s=1234\n",
    "def fetch(num):\n",
    "    if num==0:\n",
    "        return\n",
    "    l=num%10\n",
    "    print(l)\n",
    "    fetch(num//10)\n",
    "fetch(s)"
   ]
  },
  {
   "cell_type": "code",
   "execution_count": 5,
   "metadata": {},
   "outputs": [
    {
     "name": "stdout",
     "output_type": "stream",
     "text": [
      "9\n"
     ]
    }
   ],
   "source": [
    "# largest no in given number\n",
    "n=15489\n",
    "def large(num,i=0):\n",
    "    if num==0:\n",
    "        print(i)\n",
    "        return \n",
    "    l=num%10\n",
    "    if i<l:\n",
    "        i=l\n",
    "    large(num//10,i)\n",
    "large(n)\n"
   ]
  },
  {
   "cell_type": "code",
   "execution_count": 8,
   "metadata": {},
   "outputs": [
    {
     "name": "stdout",
     "output_type": "stream",
     "text": [
      "1\n"
     ]
    }
   ],
   "source": [
    "# smallest number in given number\n",
    "n=15489\n",
    "def small(num,i=9):\n",
    "    if num==0:\n",
    "        print(i)\n",
    "        return\n",
    "    l=num%10\n",
    "    if i>l:\n",
    "        i=l\n",
    "    small(num//10,i)\n",
    "small(n)"
   ]
  },
  {
   "cell_type": "code",
   "execution_count": 9,
   "metadata": {},
   "outputs": [
    {
     "name": "stdout",
     "output_type": "stream",
     "text": [
      "5\n"
     ]
    }
   ],
   "source": [
    "# odd largest number \n",
    "n=1234568\n",
    "def odd(num,i=0):\n",
    "    if num==0:\n",
    "        print(i)\n",
    "        return\n",
    "    l=num%10\n",
    "    if l%2!=0 and i<l:\n",
    "        i=l\n",
    "    odd(num//10,i)\n",
    "odd(n)"
   ]
  },
  {
   "cell_type": "code",
   "execution_count": 10,
   "metadata": {},
   "outputs": [
    {
     "name": "stdout",
     "output_type": "stream",
     "text": [
      "4\n"
     ]
    }
   ],
   "source": [
    "# even smallest number\n",
    "n=13456789\n",
    "def even(num,i=9):\n",
    "    if num==0:\n",
    "        print(i)\n",
    "        return\n",
    "    l=num%10\n",
    "    if l%2==0 and i>l:\n",
    "        i=l\n",
    "    even(num//10,i)\n",
    "even(n)"
   ]
  },
  {
   "cell_type": "code",
   "execution_count": 11,
   "metadata": {},
   "outputs": [
    {
     "name": "stdout",
     "output_type": "stream",
     "text": [
      "46656\n"
     ]
    }
   ],
   "source": [
    "#product of all digits in given number\n",
    "n=339988\n",
    "def prod(num,mul=1):\n",
    "    if num==0:\n",
    "        print(mul)\n",
    "        return\n",
    "    l=num%10\n",
    "    mul*=l\n",
    "    prod(num//10,mul)\n",
    "prod(n)"
   ]
  },
  {
   "cell_type": "code",
   "execution_count": 14,
   "metadata": {},
   "outputs": [
    {
     "name": "stdout",
     "output_type": "stream",
     "text": [
      "2\n"
     ]
    }
   ],
   "source": [
    "n=234567898\n",
    "def diff(num,sub=0):\n",
    "    sub=num%10\n",
    "    num=num//10\n",
    "    #print(num)\n",
    "    if num==0:\n",
    "        print(sub)\n",
    "        return\n",
    "    l=num%10\n",
    "    sub=-l\n",
    "    diff(num//10,sub)\n",
    "diff(n)\n",
    "\n",
    "\n",
    "    "
   ]
  },
  {
   "cell_type": "code",
   "execution_count": 15,
   "metadata": {},
   "outputs": [
    {
     "name": "stdout",
     "output_type": "stream",
     "text": [
      "8\n",
      "2\n",
      "4\n",
      "6\n",
      "8\n",
      "8\n",
      "6\n",
      "4\n",
      "2\n"
     ]
    }
   ],
   "source": [
    "# fetch even digits from given number\n",
    "n=234567898765432789\n",
    "def u_even(num):\n",
    "    if num==0:\n",
    "        return\n",
    "    ld=num%10\n",
    "    if ld%2==0:\n",
    "        print(ld)\n",
    "    u_even(num//10)\n",
    "u_even(n)"
   ]
  },
  {
   "cell_type": "code",
   "execution_count": 16,
   "metadata": {},
   "outputs": [
    {
     "name": "stdout",
     "output_type": "stream",
     "text": [
      "68\n"
     ]
    }
   ],
   "source": [
    "# wap to sum odd digits in given number\n",
    "n=4963021965959271734\n",
    "def u_sum(num,add=0):\n",
    "    if num==0:\n",
    "        print(add)\n",
    "        return\n",
    "    l=num%10\n",
    "    if l%2!=0:\n",
    "        add+=l\n",
    "    u_sum(num//10,add)\n",
    "u_sum(n)\n"
   ]
  },
  {
   "cell_type": "code",
   "execution_count": 17,
   "metadata": {},
   "outputs": [
    {
     "name": "stdout",
     "output_type": "stream",
     "text": [
      "1\n",
      "2\n",
      "3\n",
      "4\n",
      "5\n",
      "6\n",
      "7\n",
      "8\n",
      "9\n",
      "10\n",
      "11\n",
      "12\n",
      "13\n",
      "14\n",
      "15\n",
      "16\n",
      "17\n",
      "18\n",
      "19\n",
      "20\n"
     ]
    }
   ],
   "source": [
    "# generate the sequences of values from 1 to n\n",
    "def seq(m=1,n=int(input(\"enter the value\"))):\n",
    "    if m==n+1:\n",
    "        return\n",
    "    print(m)\n",
    "    seq(m+1,n)\n",
    "seq()"
   ]
  },
  {
   "cell_type": "code",
   "execution_count": 18,
   "metadata": {},
   "outputs": [
    {
     "name": "stdout",
     "output_type": "stream",
     "text": [
      "55\n"
     ]
    }
   ],
   "source": [
    "# sum of digits from 1 to n\n",
    "def seqsum(m=1,n=int(input(\"enter the value\")),sum=0):\n",
    "    if m==n+1:\n",
    "        print(sum)\n",
    "        return\n",
    "    sum+=m\n",
    "    seqsum(m+1,n,sum)\n",
    "seqsum()"
   ]
  },
  {
   "cell_type": "code",
   "execution_count": 19,
   "metadata": {},
   "outputs": [
    {
     "name": "stdout",
     "output_type": "stream",
     "text": [
      "720\n"
     ]
    }
   ],
   "source": [
    "# factorial program\n",
    "def fact(m=int(input(\"enter number\")),n=0,prod=1):\n",
    "    if m==n:\n",
    "        print(prod)\n",
    "        return\n",
    "    prod*=m\n",
    "    fact(m-1,n,prod)\n",
    "fact()\n"
   ]
  },
  {
   "cell_type": "code",
   "execution_count": 24,
   "metadata": {},
   "outputs": [
    {
     "name": "stdout",
     "output_type": "stream",
     "text": [
      "3\n"
     ]
    }
   ],
   "source": [
    "# count the factors of given number\n",
    "def factorcount(num,n=1,c=0):\n",
    "    if n==num+1:\n",
    "        print(c)\n",
    "        return\n",
    "    if num%n==0:\n",
    "        c+=1\n",
    "    factorcount(num,n+1,c)\n",
    "factorcount(9)"
   ]
  },
  {
   "cell_type": "code",
   "execution_count": 26,
   "metadata": {},
   "outputs": [
    {
     "name": "stdout",
     "output_type": "stream",
     "text": [
      "not prime no\n"
     ]
    }
   ],
   "source": [
    "# prime no or not\n",
    "def prime(num,s=1,count=0):\n",
    "    if s>num:\n",
    "        if count==2:\n",
    "            print(\"prime no\")\n",
    "        else:\n",
    "            print(\"not prime no\")\n",
    "        return\n",
    "    if num%s==0:\n",
    "        count+=1\n",
    "    prime(num,s+1,count)\n",
    "prime(10)"
   ]
  },
  {
   "cell_type": "code",
   "execution_count": 25,
   "metadata": {},
   "outputs": [
    {
     "name": "stdout",
     "output_type": "stream",
     "text": [
      "1\n",
      "2\n",
      "11\n",
      "22\n"
     ]
    }
   ],
   "source": [
    "# factor of number\n",
    "def factors(num=22,s=1):\n",
    "    if s==num+1:\n",
    "        return\n",
    "    if num%s==0:\n",
    "        print(s)\n",
    "    factors(num,s+1)\n",
    "factors()"
   ]
  },
  {
   "cell_type": "code",
   "execution_count": 1,
   "metadata": {},
   "outputs": [
    {
     "name": "stdout",
     "output_type": "stream",
     "text": [
      "19\n"
     ]
    }
   ],
   "source": [
    "# binary number to decimal\n",
    "n=10011\n",
    "def btd(num,power=0,sum=0):\n",
    "    if num==0:\n",
    "        print(sum)\n",
    "        return \n",
    "    ld=num%10\n",
    "    sum+=ld*(2**power)\n",
    "    btd(num//10,power+1,sum)\n",
    "btd(n)\n"
   ]
  },
  {
   "cell_type": "code",
   "execution_count": 3,
   "metadata": {},
   "outputs": [
    {
     "name": "stdout",
     "output_type": "stream",
     "text": [
      "1010\n"
     ]
    }
   ],
   "source": [
    "# decimal to binary\n",
    "def detbi(num,res=\"\"):\n",
    "    if num==0:\n",
    "        print(res)\n",
    "        return\n",
    "    res=str(num%2)+res\n",
    "    detbi(num//2,res)\n",
    "detbi(10)\n",
    "\n"
   ]
  },
  {
   "cell_type": "code",
   "execution_count": 9,
   "metadata": {},
   "outputs": [
    {
     "name": "stdout",
     "output_type": "stream",
     "text": [
      "6\n",
      "prefect number\n"
     ]
    }
   ],
   "source": [
    "# perfect number\n",
    "def pn(num,s=1,sum=0):\n",
    "    if s==num:\n",
    "        print(sum)\n",
    "        if sum==num:\n",
    "            print(\"prefect number\")\n",
    "        else:\n",
    "            print(\"not a perfect number\")\n",
    "        return\n",
    "    if num%s==0:\n",
    "        sum+=s\n",
    "    pn(num,s+1,sum)\n",
    "pn(6)"
   ]
  },
  {
   "cell_type": "code",
   "execution_count": 12,
   "metadata": {},
   "outputs": [
    {
     "name": "stdout",
     "output_type": "stream",
     "text": [
      "1\n",
      "2\n",
      "3\n",
      "5\n",
      "8\n",
      "13\n",
      "21\n",
      "34\n",
      "55\n",
      "89\n",
      "144\n",
      "233\n",
      "377\n",
      "610\n"
     ]
    }
   ],
   "source": [
    "# fibinaocci number\n",
    "def fibinoci(num=14,a=0,b=1):\n",
    "    if num==0:\n",
    "        return\n",
    "    c=a+b\n",
    "    print(c)\n",
    "    a,b=b,c\n",
    "    fibinoci(num-1,a,b)\n",
    "fibinoci()"
   ]
  },
  {
   "cell_type": "code",
   "execution_count": 15,
   "metadata": {},
   "outputs": [
    {
     "name": "stdout",
     "output_type": "stream",
     "text": [
      "1\n",
      "2\n",
      "3\n",
      "5\n",
      "8\n",
      "13\n",
      "21\n"
     ]
    }
   ],
   "source": [
    "def fibinoci(num=14,a=0,b=1):\n",
    "    c=a+b\n",
    "    print(c)\n",
    "    if c>=num:\n",
    "        return\n",
    "    #c=a+b\n",
    "    #print(c)\n",
    "    a,b=b,c\n",
    "    fibinoci(num,a,b)\n",
    "fibinoci()"
   ]
  },
  {
   "cell_type": "code",
   "execution_count": 2,
   "metadata": {},
   "outputs": [
    {
     "name": "stdout",
     "output_type": "stream",
     "text": [
      "121 palindrome no\n"
     ]
    }
   ],
   "source": [
    "# reverse the program\n",
    "n=121\n",
    "def palin(num,rev=0,m=int(input(\"enter num\"))):\n",
    "    a=num\n",
    "    #print(a,num)\n",
    "    if a==0:\n",
    "        if m==rev:\n",
    "            print(rev,\"palindrome no\")\n",
    "        else:\n",
    "            print(rev,\"not a palindrome\")\n",
    "        return\n",
    "    l=a%10\n",
    "    rev=(rev*10)+l                  \n",
    "    palin(a//10,rev)\n",
    "palin(n)\n"
   ]
  }
 ],
 "metadata": {
  "kernelspec": {
   "display_name": "Python 3",
   "language": "python",
   "name": "python3"
  },
  "language_info": {
   "codemirror_mode": {
    "name": "ipython",
    "version": 3
   },
   "file_extension": ".py",
   "mimetype": "text/x-python",
   "name": "python",
   "nbconvert_exporter": "python",
   "pygments_lexer": "ipython3",
   "version": "3.11.4"
  }
 },
 "nbformat": 4,
 "nbformat_minor": 2
}
