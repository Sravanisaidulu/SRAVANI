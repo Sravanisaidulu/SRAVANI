{
 "cells": [
  {
   "cell_type": "code",
   "execution_count": null,
   "metadata": {},
   "outputs": [],
   "source": [
    "# NESTED FUNCTION SYNTAX\n",
    "#def outerfun(argsuments):\n",
    "   # statements\n",
    "    #def innerfun(arguments):\n",
    "     #   statements\n",
    "    #ineerfun(values)\n",
    "#outerfun(values)"
   ]
  },
  {
   "cell_type": "code",
   "execution_count": 1,
   "metadata": {},
   "outputs": [
    {
     "name": "stdout",
     "output_type": "stream",
     "text": [
      "100 200\n",
      "20 30\n"
     ]
    }
   ],
   "source": [
    "def outerfun(a,b):\n",
    "    print(a,b)\n",
    "    def innerfun(m,n):\n",
    "        print(m,n)\n",
    "    innerfun(20,30)\n",
    "outerfun(100,200)"
   ]
  },
  {
   "cell_type": "code",
   "execution_count": 4,
   "metadata": {},
   "outputs": [
    {
     "name": "stdout",
     "output_type": "stream",
     "text": [
      "10 30\n",
      "<function outer.<locals>.inner at 0x000001DBC3003F60>\n",
      "300 400\n"
     ]
    }
   ],
   "source": [
    "def outer(a,b):\n",
    "    print(a,b)\n",
    "    def inner(m,n):\n",
    "        print(m,n)\n",
    "    return inner\n",
    "res=outer(10,30)\n",
    "print(res)\n",
    "res(300,400)"
   ]
  },
  {
   "cell_type": "code",
   "execution_count": 1,
   "metadata": {},
   "outputs": [],
   "source": [
    "# DECORATROS CONCEPT provide new functionality to the existing function\n",
    "\n",
    "#                 without return statement\n",
    "def outer(func):\n",
    "    def inner(*args,**kwargs):\n",
    "        print(\"haii\")\n",
    "        func(*args,**kwargs)\n",
    "        print(\"bye\")\n",
    "    return inner\n",
    "\n"
   ]
  },
  {
   "cell_type": "code",
   "execution_count": 2,
   "metadata": {},
   "outputs": [
    {
     "name": "stdout",
     "output_type": "stream",
     "text": [
      "haii\n",
      "30 goodevening\n",
      "bye\n"
     ]
    }
   ],
   "source": [
    "@outer\n",
    "def sample(a,b):\n",
    "    print(a+b,'goodevening')\n",
    "sample(10,20)"
   ]
  },
  {
   "cell_type": "code",
   "execution_count": 9,
   "metadata": {},
   "outputs": [],
   "source": [
    "#             WITH RETURN STATEMENT\n",
    "def main(fun):\n",
    "    def sub(*args,**kwargs):\n",
    "        print(\"byee\")\n",
    "        res=fun(*args,**kwargs)\n",
    "        print(\"night\")\n",
    "        return res\n",
    "    return sub"
   ]
  },
  {
   "cell_type": "code",
   "execution_count": 10,
   "metadata": {},
   "outputs": [
    {
     "name": "stdout",
     "output_type": "stream",
     "text": [
      "byee\n",
      "night\n"
     ]
    },
    {
     "data": {
      "text/plain": [
       "(30, 'goodevening')"
      ]
     },
     "execution_count": 10,
     "metadata": {},
     "output_type": "execute_result"
    }
   ],
   "source": [
    "@main\n",
    "def sample(a,b):\n",
    "    return a+b,'goodevening'\n",
    "sample(10,20)"
   ]
  },
  {
   "cell_type": "code",
   "execution_count": 4,
   "metadata": {},
   "outputs": [
    {
     "name": "stdout",
     "output_type": "stream",
     "text": [
      "[0, 1, 2, 3, 4, 5, 6, 7, 8, 9, 10, 11, 12, 13, 14, 15, 16, 17, 18, 19, 20]\n"
     ]
    }
   ],
   "source": [
    "# LIST COMPREHENSION\n",
    "#1 generate sequence of values and store \n",
    "# SYNTAX 1\n",
    "t=20\n",
    "s=[i for i in range(0,t+1)]\n",
    "print(s)"
   ]
  },
  {
   "cell_type": "code",
   "execution_count": 6,
   "metadata": {},
   "outputs": [
    {
     "name": "stdout",
     "output_type": "stream",
     "text": [
      "[12, 16, 87, 19, 26, 35, 14, 19]\n"
     ]
    }
   ],
   "source": [
    "#2 ouput=[12,16,87,19,26,35,14,19]\n",
    "ip='12 16 87 19 26 35 14 19'\n",
    "var=[int(i) for i in ip.split()]\n",
    "print(var)"
   ]
  },
  {
   "cell_type": "code",
   "execution_count": 7,
   "metadata": {},
   "outputs": [
    {
     "name": "stdout",
     "output_type": "stream",
     "text": [
      "5\n"
     ]
    }
   ],
   "source": [
    "# 3 wap to count no of vowela in given string\n",
    "# SYNTAX 2\n",
    "st=\"12f;ikjhgcxzerghm,.kloyq    z BNM,./O'P987653EWQ\"\n",
    "vat=len([i for i in st if i in 'AEIOUaeiou'])\n",
    "print(vat)\n"
   ]
  },
  {
   "cell_type": "code",
   "execution_count": 10,
   "metadata": {},
   "outputs": [
    {
     "name": "stdout",
     "output_type": "stream",
     "text": [
      "[12, 16, 26, 14]\n"
     ]
    }
   ],
   "source": [
    "# 4 ouput=[12,16,26,14]\n",
    "ip='12 16 87 19  26 35 14  19'\n",
    "var=[int(i) for i in ip.split() if int(i)%2==0]\n",
    "print(var)\n",
    "\n"
   ]
  },
  {
   "cell_type": "code",
   "execution_count": 17,
   "metadata": {},
   "outputs": [
    {
     "name": "stdout",
     "output_type": "stream",
     "text": [
      "[24, '16.16', '87', '19', '26.46', '35', 56, '19', 488]\n"
     ]
    }
   ],
   "source": [
    "#          SYNTAX 3\n",
    "# 5 output=[24,'16.16','87','19','26.46','35',28,'19']\n",
    "n='12/16.16/87/19/26.46/35/28/19/244'\n",
    "var=[int(i)*2 if '.' not in i and  int(i)%2==0 else i for i in n.split(\"/\") ]\n",
    "print(var)"
   ]
  },
  {
   "cell_type": "code",
   "execution_count": 18,
   "metadata": {},
   "outputs": [
    {
     "name": "stdout",
     "output_type": "stream",
     "text": [
      "[1, 2, 3, 4, 5, 6, 7, 8]\n"
     ]
    }
   ],
   "source": [
    "#            SYNTAX 4\n",
    "# 6 output=[1,2,3,4,5,6,7,8]\n",
    "ip=[[1,2],[3,4],[5,6],[7,8]]\n",
    "var=[j for i in ip for j in i]\n",
    "print(var)"
   ]
  },
  {
   "cell_type": "code",
   "execution_count": 19,
   "metadata": {},
   "outputs": [
    {
     "name": "stdout",
     "output_type": "stream",
     "text": [
      "['APPLE', 'BAT', 'CAT', 'DOG']\n"
     ]
    }
   ],
   "source": [
    "# ['APPLE','BAT','CAT','DOG']\n",
    "ip=[['apple','bat'],['cat','dog']]\n",
    "var=[j.upper() for i in ip for j in i]\n",
    "print(var)"
   ]
  },
  {
   "cell_type": "code",
   "execution_count": 22,
   "metadata": {},
   "outputs": [
    {
     "name": "stdout",
     "output_type": "stream",
     "text": [
      "['APPLE', 'BAT', 'CAT', 'DOG']\n"
     ]
    }
   ],
   "source": [
    "#          SYNTAX 5\n",
    "# store only odd length collection in upper case \n",
    "ip=[['apple','bat','icecream'],['cat','dog','monkey']]\n",
    "vt=[j.upper() for i in ip for j in i if len(j)%2!=0]\n",
    "print(vt)"
   ]
  },
  {
   "cell_type": "code",
   "execution_count": 20,
   "metadata": {},
   "outputs": [
    {
     "name": "stdout",
     "output_type": "stream",
     "text": [
      "['APPLE', 'BAT', 'icecream', 'CAT', 'DOG', 'monkey']\n"
     ]
    }
   ],
   "source": [
    "# SYNTAX 6\n",
    "# store only odd length collection in upper case else same\n",
    "ip=[['apple','bat','icecream'],['cat','dog','monkey']]\n",
    "var=[j.upper() if len(j)%2!=0 else j for i in ip for j in i]\n",
    "print(var)"
   ]
  },
  {
   "cell_type": "code",
   "execution_count": null,
   "metadata": {},
   "outputs": [],
   "source": []
  }
 ],
 "metadata": {
  "kernelspec": {
   "display_name": "Python 3",
   "language": "python",
   "name": "python3"
  },
  "language_info": {
   "codemirror_mode": {
    "name": "ipython",
    "version": 3
   },
   "file_extension": ".py",
   "mimetype": "text/x-python",
   "name": "python",
   "nbconvert_exporter": "python",
   "pygments_lexer": "ipython3",
   "version": "3.11.4"
  }
 },
 "nbformat": 4,
 "nbformat_minor": 2
}
