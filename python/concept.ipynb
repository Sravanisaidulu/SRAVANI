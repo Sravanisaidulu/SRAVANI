{
 "cells": [
  {
   "cell_type": "code",
   "execution_count": null,
   "metadata": {},
   "outputs": [],
   "source": [
    "# NESTED FUNCTION SYNTAX\n",
    "#def outerfun(argsuments):\n",
    "   # statements\n",
    "    #def innerfun(arguments):\n",
    "     #   statements\n",
    "    #ineerfun(values)\n",
    "#outerfun(values)"
   ]
  },
  {
   "cell_type": "code",
   "execution_count": 1,
   "metadata": {},
   "outputs": [
    {
     "name": "stdout",
     "output_type": "stream",
     "text": [
      "100 200\n",
      "20 30\n"
     ]
    }
   ],
   "source": [
    "def outerfun(a,b):\n",
    "    print(a,b)\n",
    "    def innerfun(m,n):\n",
    "        print(m,n)\n",
    "    innerfun(20,30)\n",
    "outerfun(100,200)"
   ]
  },
  {
   "cell_type": "code",
   "execution_count": 4,
   "metadata": {},
   "outputs": [
    {
     "name": "stdout",
     "output_type": "stream",
     "text": [
      "10 30\n",
      "<function outer.<locals>.inner at 0x000001DBC3003F60>\n",
      "300 400\n"
     ]
    }
   ],
   "source": [
    "def outer(a,b):\n",
    "    print(a,b)\n",
    "    def inner(m,n):\n",
    "        print(m,n)\n",
    "    return inner\n",
    "res=outer(10,30)\n",
    "print(res)\n",
    "res(300,400)"
   ]
  },
  {
   "cell_type": "code",
   "execution_count": 1,
   "metadata": {},
   "outputs": [],
   "source": [
    "# DECORATROS CONCEPT provide new functionality to the existing function\n",
    "\n",
    "#                 without return statement\n",
    "def outer(func):\n",
    "    def inner(*args,**kwargs):\n",
    "        print(\"haii\")\n",
    "        func(*args,**kwargs)\n",
    "        print(\"bye\")\n",
    "    return inner\n",
    "\n"
   ]
  },
  {
   "cell_type": "code",
   "execution_count": 2,
   "metadata": {},
   "outputs": [
    {
     "name": "stdout",
     "output_type": "stream",
     "text": [
      "haii\n",
      "30 goodevening\n",
      "bye\n"
     ]
    }
   ],
   "source": [
    "@outer\n",
    "def sample(a,b):\n",
    "    print(a+b,'goodevening')\n",
    "sample(10,20)"
   ]
  },
  {
   "cell_type": "code",
   "execution_count": 9,
   "metadata": {},
   "outputs": [],
   "source": [
    "#             WITH RETURN STATEMENT\n",
    "def main(fun):\n",
    "    def sub(*args,**kwargs):\n",
    "        print(\"byee\")\n",
    "        res=fun(*args,**kwargs)\n",
    "        print(\"night\")\n",
    "        return res\n",
    "    return sub"
   ]
  },
  {
   "cell_type": "code",
   "execution_count": 10,
   "metadata": {},
   "outputs": [
    {
     "name": "stdout",
     "output_type": "stream",
     "text": [
      "byee\n",
      "night\n"
     ]
    },
    {
     "data": {
      "text/plain": [
       "(30, 'goodevening')"
      ]
     },
     "execution_count": 10,
     "metadata": {},
     "output_type": "execute_result"
    }
   ],
   "source": [
    "@main\n",
    "def sample(a,b):\n",
    "    return a+b,'goodevening'\n",
    "sample(10,20)"
   ]
  },
  {
   "cell_type": "code",
   "execution_count": 4,
   "metadata": {},
   "outputs": [
    {
     "name": "stdout",
     "output_type": "stream",
     "text": [
      "[0, 1, 2, 3, 4, 5, 6, 7, 8, 9, 10, 11, 12, 13, 14, 15, 16, 17, 18, 19, 20]\n"
     ]
    }
   ],
   "source": [
    "# LIST COMPREHENSION\n",
    "#1 generate sequence of values and store \n",
    "# SYNTAX 1\n",
    "t=20\n",
    "s=[i for i in range(0,t+1)]\n",
    "print(s)"
   ]
  },
  {
   "cell_type": "code",
   "execution_count": 6,
   "metadata": {},
   "outputs": [
    {
     "name": "stdout",
     "output_type": "stream",
     "text": [
      "[12, 16, 87, 19, 26, 35, 14, 19]\n"
     ]
    }
   ],
   "source": [
    "#2 ouput=[12,16,87,19,26,35,14,19]\n",
    "ip='12 16 87 19 26 35 14 19'\n",
    "var=[int(i) for i in ip.split()]\n",
    "print(var)"
   ]
  },
  {
   "cell_type": "code",
   "execution_count": 7,
   "metadata": {},
   "outputs": [
    {
     "name": "stdout",
     "output_type": "stream",
     "text": [
      "5\n"
     ]
    }
   ],
   "source": [
    "# 3 wap to count no of vowela in given string\n",
    "# SYNTAX 2\n",
    "st=\"12f;ikjhgcxzerghm,.kloyq    z BNM,./O'P987653EWQ\"\n",
    "vat=len([i for i in st if i in 'AEIOUaeiou'])\n",
    "print(vat)\n"
   ]
  },
  {
   "cell_type": "code",
   "execution_count": 10,
   "metadata": {},
   "outputs": [
    {
     "name": "stdout",
     "output_type": "stream",
     "text": [
      "[12, 16, 26, 14]\n"
     ]
    }
   ],
   "source": [
    "# 4 ouput=[12,16,26,14]\n",
    "ip='12 16 87 19  26 35 14  19'\n",
    "var=[int(i) for i in ip.split() if int(i)%2==0]\n",
    "print(var)\n",
    "\n"
   ]
  },
  {
   "cell_type": "code",
   "execution_count": 17,
   "metadata": {},
   "outputs": [
    {
     "name": "stdout",
     "output_type": "stream",
     "text": [
      "[24, '16.16', '87', '19', '26.46', '35', 56, '19', 488]\n"
     ]
    }
   ],
   "source": [
    "#          SYNTAX 3\n",
    "# 5 output=[24,'16.16','87','19','26.46','35',28,'19']\n",
    "n='12/16.16/87/19/26.46/35/28/19/244'\n",
    "var=[int(i)*2 if '.' not in i and  int(i)%2==0 else i for i in n.split(\"/\") ]\n",
    "print(var)"
   ]
  },
  {
   "cell_type": "code",
   "execution_count": 18,
   "metadata": {},
   "outputs": [
    {
     "name": "stdout",
     "output_type": "stream",
     "text": [
      "[1, 2, 3, 4, 5, 6, 7, 8]\n"
     ]
    }
   ],
   "source": [
    "#            SYNTAX 4\n",
    "# 6 output=[1,2,3,4,5,6,7,8]\n",
    "ip=[[1,2],[3,4],[5,6],[7,8]]\n",
    "var=[j for i in ip for j in i]\n",
    "print(var)"
   ]
  },
  {
   "cell_type": "code",
   "execution_count": 19,
   "metadata": {},
   "outputs": [
    {
     "name": "stdout",
     "output_type": "stream",
     "text": [
      "['APPLE', 'BAT', 'CAT', 'DOG']\n"
     ]
    }
   ],
   "source": [
    "# ['APPLE','BAT','CAT','DOG']\n",
    "ip=[['apple','bat'],['cat','dog']]\n",
    "var=[j.upper() for i in ip for j in i]\n",
    "print(var)"
   ]
  },
  {
   "cell_type": "code",
   "execution_count": 22,
   "metadata": {},
   "outputs": [
    {
     "name": "stdout",
     "output_type": "stream",
     "text": [
      "['APPLE', 'BAT', 'CAT', 'DOG']\n"
     ]
    }
   ],
   "source": [
    "#          SYNTAX 5\n",
    "# store only odd length collection in upper case \n",
    "ip=[['apple','bat','icecream'],['cat','dog','monkey']]\n",
    "vt=[j.upper() for i in ip for j in i if len(j)%2!=0]\n",
    "print(vt)"
   ]
  },
  {
   "cell_type": "code",
   "execution_count": 20,
   "metadata": {},
   "outputs": [
    {
     "name": "stdout",
     "output_type": "stream",
     "text": [
      "['APPLE', 'BAT', 'icecream', 'CAT', 'DOG', 'monkey']\n"
     ]
    }
   ],
   "source": [
    "# SYNTAX 6\n",
    "# store only odd length collection in upper case else same\n",
    "ip=[['apple','bat','icecream'],['cat','dog','monkey']]\n",
    "var=[j.upper() if len(j)%2!=0 else j for i in ip for j in i]\n",
    "print(var)"
   ]
  },
  {
   "cell_type": "code",
   "execution_count": 2,
   "metadata": {},
   "outputs": [
    {
     "name": "stdout",
     "output_type": "stream",
     "text": [
      "['APPLE', 'BAT', 'Icecream', 'CAT', 'DOG', 'monkey']\n"
     ]
    }
   ],
   "source": [
    "# if len of coll in even snd len is 6 convert to lower else title case if it is odd convert to upper case \n",
    "ip=[['apple','bat','icecream'],['cat','dog','Monkey']]\n",
    "vt=[j.lower() if len(j)==6 else j.title() if len(j)%2==0 else j.upper() for i in ip for j in i]\n",
    "print(vt)"
   ]
  },
  {
   "cell_type": "code",
   "execution_count": 6,
   "metadata": {},
   "outputs": [
    {
     "name": "stdout",
     "output_type": "stream",
     "text": [
      "True\n"
     ]
    }
   ],
   "source": [
    "# strong number using for loop\n",
    "n=145\n",
    "sum=0\n",
    "for i in str(n):\n",
    "    prod=1\n",
    "    for j in range(1,int(i)+1):\n",
    "        prod*=j\n",
    "    sum+=prod\n",
    "print(sum==n)\n"
   ]
  },
  {
   "cell_type": "code",
   "execution_count": 15,
   "metadata": {},
   "outputs": [
    {
     "ename": "TypeError",
     "evalue": "'int' object is not callable",
     "output_type": "error",
     "traceback": [
      "\u001b[1;31m---------------------------------------------------------------------------\u001b[0m",
      "\u001b[1;31mTypeError\u001b[0m                                 Traceback (most recent call last)",
      "\u001b[1;32mc:\\Users\\sravani\\OneDrive\\Documents\\GitHub\\SRAVANI\\python\\concept.ipynb Cell 19\u001b[0m line \u001b[0;36m5\n\u001b[0;32m      <a href='vscode-notebook-cell:/c%3A/Users/sravani/OneDrive/Documents/GitHub/SRAVANI/python/concept.ipynb#X24sZmlsZQ%3D%3D?line=2'>3</a>\u001b[0m \u001b[39mfrom\u001b[39;00m  \u001b[39mmath\u001b[39;00m \u001b[39mimport\u001b[39;00m prod\n\u001b[0;32m      <a href='vscode-notebook-cell:/c%3A/Users/sravani/OneDrive/Documents/GitHub/SRAVANI/python/concept.ipynb#X24sZmlsZQ%3D%3D?line=3'>4</a>\u001b[0m k\u001b[39m=\u001b[39m\u001b[39m145\u001b[39m\n\u001b[1;32m----> <a href='vscode-notebook-cell:/c%3A/Users/sravani/OneDrive/Documents/GitHub/SRAVANI/python/concept.ipynb#X24sZmlsZQ%3D%3D?line=4'>5</a>\u001b[0m v\u001b[39m=\u001b[39m \u001b[39msum\u001b[39;49m(prod,[j  \u001b[39mfor\u001b[39;49;00m i \u001b[39min\u001b[39;49;00m \u001b[39mstr\u001b[39;49m(k) \u001b[39mfor\u001b[39;49;00m j \u001b[39min\u001b[39;49;00m \u001b[39mrange\u001b[39;49m(\u001b[39m1\u001b[39;49m,\u001b[39mint\u001b[39;49m(i)\u001b[39m+\u001b[39;49m\u001b[39m1\u001b[39;49m)])\u001b[39m==\u001b[39mk\n\u001b[0;32m      <a href='vscode-notebook-cell:/c%3A/Users/sravani/OneDrive/Documents/GitHub/SRAVANI/python/concept.ipynb#X24sZmlsZQ%3D%3D?line=5'>6</a>\u001b[0m \u001b[39mprint\u001b[39m(v)\n",
      "\u001b[1;31mTypeError\u001b[0m: 'int' object is not callable"
     ]
    }
   ],
   "source": [
    "# \n",
    "\n",
    "from  math import prod\n",
    "k=145\n",
    "v= sum(prod,[j  for i in str(k) for j in range(1,int(i)+1)])==k\n",
    "print(v)\n",
    "\n"
   ]
  },
  {
   "cell_type": "code",
   "execution_count": 7,
   "metadata": {},
   "outputs": [
    {
     "name": "stdout",
     "output_type": "stream",
     "text": [
      "h\n",
      "e\n",
      "l\n",
      "l\n",
      "o\n",
      " \n",
      "w\n",
      "o\n",
      "r\n",
      "l\n",
      "d\n"
     ]
    }
   ],
   "source": [
    "#                                                      RECURRSION\n",
    "# fetch char\n",
    "st='hello world'\n",
    "def fetch(coll,start=0):\n",
    "    if start==len(coll):\n",
    "        return \n",
    "    print(coll[start])\n",
    "    fetch(coll,start+1)\n",
    "fetch(st) "
   ]
  },
  {
   "cell_type": "code",
   "execution_count": 6,
   "metadata": {},
   "outputs": [
    {
     "name": "stdout",
     "output_type": "stream",
     "text": [
      "0\n",
      "1\n",
      "2\n",
      "3\n",
      "4\n",
      "5\n",
      "6\n",
      "7\n",
      "8\n",
      "9\n",
      "10\n"
     ]
    }
   ],
   "source": [
    "# fetch index value\n",
    "st='hello world'\n",
    "def fetch(coll,start=0):\n",
    "    if start==len(coll):\n",
    "        return \n",
    "    print(start)\n",
    "    fetch(coll,start+1)\n",
    "fetch(st)"
   ]
  },
  {
   "cell_type": "code",
   "execution_count": 9,
   "metadata": {},
   "outputs": [
    {
     "name": "stdout",
     "output_type": "stream",
     "text": [
      "-1\n",
      "-2\n",
      "-3\n",
      "-4\n",
      "-5\n",
      "-6\n"
     ]
    }
   ],
   "source": [
    "# fetch negative index value\n",
    "st=\"barbie\"\n",
    "def nix(coll,start=-1):\n",
    "    if start<(-len(coll)):\n",
    "        return\n",
    "    print(start)\n",
    "    nix(coll,start-1)\n",
    "nix(st)"
   ]
  },
  {
   "cell_type": "code",
   "execution_count": 10,
   "metadata": {},
   "outputs": [
    {
     "name": "stdout",
     "output_type": "stream",
     "text": [
      "b 0 -1\n",
      "a 1 -2\n",
      "r 2 -3\n",
      "b 3 -4\n",
      "i 4 -5\n",
      "e 5 -6\n"
     ]
    }
   ],
   "source": [
    "# fetch character,posive index and negative index\n",
    "st=\"barbie\"\n",
    "def fetch(coll,start=0,nix=-1):\n",
    "    if start==len(coll):\n",
    "        return\n",
    "    print(coll[start],start,nix)\n",
    "    fetch(coll,start+1,nix-1)\n",
    "fetch(st)"
   ]
  },
  {
   "cell_type": "code",
   "execution_count": 11,
   "metadata": {},
   "outputs": [
    {
     "name": "stdout",
     "output_type": "stream",
     "text": [
      "tEAM INDiA #2023@ SEmIs\n"
     ]
    }
   ],
   "source": [
    "# wap to convert upper case to lower and lower case to upper\n",
    "st=\"Team indIa #2023@ seMiS\"\n",
    "def convert(coll,start=0,res=\"\"):\n",
    "    if start==len(coll):\n",
    "        print(res)\n",
    "        return\n",
    "    if 'A'<=coll[start]<='Z':\n",
    "        res+=chr(ord(coll[start])+32)\n",
    "    elif 'a'<=coll[start]<='z':\n",
    "        res+=chr(ord(coll[start])-32)\n",
    "    else:\n",
    "        res+=coll[start]\n",
    "    convert(coll,start+1,res)\n",
    "convert(st)\n"
   ]
  },
  {
   "cell_type": "code",
   "execution_count": 13,
   "metadata": {},
   "outputs": [
    {
     "name": "stdout",
     "output_type": "stream",
     "text": [
      "TIMS eamindasei 2023   #@ \n"
     ]
    }
   ],
   "source": [
    "# seggreate the values\n",
    "st=\"Team indIa #2023@ seMiS\"\n",
    "def seggrigate(coll,start=0,uc=\"\",lc=\"\",num=\"\",sc=\"\"):\n",
    "    if start==len(coll):\n",
    "        print(uc,lc,num,sc)\n",
    "        return\n",
    "    if 'A'<=coll[start]<='Z':\n",
    "        uc+=coll[start]\n",
    "    elif 'a'<=coll[start]<='z':\n",
    "        lc+=coll[start]\n",
    "    elif '0'<=coll[start]<='9':\n",
    "        num+=coll[start]\n",
    "    else:\n",
    "        sc+=coll[start]\n",
    "    seggrigate(coll,start+1,uc,lc,num,sc)\n",
    "seggrigate(st)"
   ]
  },
  {
   "cell_type": "code",
   "execution_count": 18,
   "metadata": {},
   "outputs": [
    {
     "name": "stdout",
     "output_type": "stream",
     "text": [
      "BaBrBbBiBe\n"
     ]
    }
   ],
   "source": [
    "# captalize\n",
    "st=\"barbie\"\n",
    "def cap(coll,start=1,res=\"\"):\n",
    "    if start==len(coll):\n",
    "        print(res)\n",
    "        return\n",
    "    if 'a'<=coll[0]<='z':\n",
    "        res+=chr(ord(coll[0])-32)\n",
    "    else:\n",
    "        res+=coll[0]\n",
    "    if 'A'<=coll[start]<='Z':\n",
    "        res+=chr(ord(coll[start])+32)\n",
    "    else:\n",
    "        res+=coll[start]\n",
    "    cap(coll,start+1,res)\n",
    "cap(st)\n",
    "\n",
    "    \n"
   ]
  },
  {
   "cell_type": "code",
   "execution_count": 21,
   "metadata": {},
   "outputs": [
    {
     "name": "stdout",
     "output_type": "stream",
     "text": [
      "Jailer movhyuwtcd\n",
      "ie ave o ahe\n"
     ]
    }
   ],
   "source": [
    "# uniue and dupicates\n",
    "st=\"Jailer movie have you watched\"\n",
    "def fun(coll,s=0,uni=\"\",dup=\"\"):\n",
    "    if s==len(coll):\n",
    "        print(uni)\n",
    "        print(dup)\n",
    "        return\n",
    "    if coll[s] not in uni:\n",
    "        uni+=coll[s]\n",
    "    elif coll[s] in uni:\n",
    "        dup+=coll[s]\n",
    "    fun(coll,s+1,uni,dup)\n",
    "fun(st) \n",
    "    "
   ]
  },
  {
   "cell_type": "code",
   "execution_count": null,
   "metadata": {},
   "outputs": [],
   "source": []
  }
 ],
 "metadata": {
  "kernelspec": {
   "display_name": "Python 3",
   "language": "python",
   "name": "python3"
  },
  "language_info": {
   "codemirror_mode": {
    "name": "ipython",
    "version": 3
   },
   "file_extension": ".py",
   "mimetype": "text/x-python",
   "name": "python",
   "nbconvert_exporter": "python",
   "pygments_lexer": "ipython3",
   "version": "3.11.4"
  }
 },
 "nbformat": 4,
 "nbformat_minor": 2
}
