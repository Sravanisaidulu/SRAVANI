{
 "cells": [
  {
   "cell_type": "code",
   "execution_count": 1,
   "metadata": {},
   "outputs": [
    {
     "name": "stdout",
     "output_type": "stream",
     "text": [
      "{\"1\": 20, \"hello\": \"False\", \"60.67\": [1, 2, 34], \"True\": [2, 4, 5], \"hii\": {\"q\": 600}}\n"
     ]
    }
   ],
   "source": [
    "# keys don't accept complex,bytex,mutable datatypes\n",
    "#values don't accept complex,bytes and set datatypes\n",
    "# output : keys all convert into string datatypes\n",
    "import json\n",
    "d={1:20,\"hello\":\"False\",60.67:[1,2,34],\"True\":(2,4,5),\"hii\":{\"q\":600}}\n",
    "res=json.dumps(d) # dumps can accept only data\n",
    "print(res)"
   ]
  },
  {
   "cell_type": "code",
   "execution_count": 2,
   "metadata": {},
   "outputs": [
    {
     "name": "stdout",
     "output_type": "stream",
     "text": [
      "{\"1\": 20, \"hello\": \"False\", \"60.67\": [1, 2, 34], \"True\": [2, 4, 5], \"hii\": {\"q\": 600}}\n"
     ]
    }
   ],
   "source": [
    "import json\n",
    "d={1:20,\"hello\":\"False\",60.67:[1,2,34],\"True\":(2,4,5),\"hii\":{\"q\":600}}\n",
    "res=json.dumps(d) # dumps can accept only data\n",
    "print(res)\n",
    "# to store in file\n",
    "fp=open(\"file.json\",\"w\")\n",
    "fp.write(res)\n",
    "fp.close()"
   ]
  },
  {
   "cell_type": "code",
   "execution_count": 4,
   "metadata": {},
   "outputs": [
    {
     "name": "stdout",
     "output_type": "stream",
     "text": [
      "None\n"
     ]
    }
   ],
   "source": [
    "# dump it accept data and filepointer address \n",
    "import json\n",
    "d={\"a\":10}\n",
    "fp=open(\"file.json\",\"a\")\n",
    "res=json.dump(d,fp)\n",
    "print(res)\n",
    "fp.close()"
   ]
  },
  {
   "cell_type": "code",
   "execution_count": 5,
   "metadata": {},
   "outputs": [
    {
     "name": "stdout",
     "output_type": "stream",
     "text": [
      "None\n"
     ]
    }
   ],
   "source": [
    "import json\n",
    "d={\"a\":10,\"d\":40}\n",
    "fp=open(\"file.json\",\"a\")\n",
    "res=json.dump(d,fp)\n",
    "print(res)\n",
    "fp.close()"
   ]
  },
  {
   "cell_type": "code",
   "execution_count": 8,
   "metadata": {},
   "outputs": [
    {
     "name": "stdout",
     "output_type": "stream",
     "text": [
      "{'hello': 'True', 100: [1, 2, 3]}\n",
      "{\"hello\": \"True\", \"100\": [1, 2, 3]}\n",
      "{'hello': 'True', '100': [1, 2, 3]}\n"
     ]
    }
   ],
   "source": [
    "import json\n",
    "d={\"hello\":\"True\",100:[1,2,3]}\n",
    "print(d)\n",
    "res=json.dumps(d)  # serailization\n",
    "print(res)\n",
    "\n",
    "f=json.loads(res) # deserailzation\n",
    "print(f)"
   ]
  },
  {
   "cell_type": "code",
   "execution_count": 10,
   "metadata": {},
   "outputs": [
    {
     "name": "stdout",
     "output_type": "stream",
     "text": [
      "{'hello': 'True', 100: [1, 2, 3]}\n",
      "{\"hello\": \"True\", \"100\": [1, 2, 3]}\n"
     ]
    }
   ],
   "source": [
    "d={\"hello\":\"True\",100:[1,2,3]}\n",
    "print(d)\n",
    "res=json.dumps(d)  # serailization\n",
    "print(res)\n",
    "fp=open(\"fille1.json\",'w')\n",
    "fp.write(res)\n",
    "fp.close()"
   ]
  },
  {
   "cell_type": "code",
   "execution_count": 13,
   "metadata": {},
   "outputs": [
    {
     "name": "stdout",
     "output_type": "stream",
     "text": [
      "<class 'dict'> {'hello': 'True', '100': [1, 2, 3]}\n"
     ]
    }
   ],
   "source": [
    "fp=open(\"fille1.json\",\"r\")\n",
    "data=fp.read()\n",
    "m=json.loads(data)\n",
    "print(type(m),m)"
   ]
  },
  {
   "cell_type": "code",
   "execution_count": 14,
   "metadata": {},
   "outputs": [
    {
     "name": "stdout",
     "output_type": "stream",
     "text": [
      "<class 'dict'> {'hello': 'True', '100': [1, 2, 3]}\n"
     ]
    }
   ],
   "source": [
    "fp=open(\"fille1.json\",\"r\")\n",
    "res=json.load(fp)\n",
    "print(type(res),res)\n",
    "fp.close()"
   ]
  }
 ],
 "metadata": {
  "kernelspec": {
   "display_name": "Python 3",
   "language": "python",
   "name": "python3"
  },
  "language_info": {
   "codemirror_mode": {
    "name": "ipython",
    "version": 3
   },
   "file_extension": ".py",
   "mimetype": "text/x-python",
   "name": "python",
   "nbconvert_exporter": "python",
   "pygments_lexer": "ipython3",
   "version": "3.11.4"
  }
 },
 "nbformat": 4,
 "nbformat_minor": 2
}
