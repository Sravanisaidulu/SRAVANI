{
 "cells": [
  {
   "cell_type": "code",
   "execution_count": 13,
   "metadata": {},
   "outputs": [
    {
     "name": "stdout",
     "output_type": "stream",
     "text": [
      "{'c_name': 'rahul', 'c_age': 22, 'c_phone': 3456708934, 'c_email': 'rahul@gmail.com', 'c_adress': 'guntur', 'cust_id': 1001}\n"
     ]
    }
   ],
   "source": [
    "class customer:\n",
    "    cust_count=0\n",
    "    cust_details={}\n",
    "    def __init__(self,cname,age,phone,email,adress):\n",
    "        self.c_name=cname\n",
    "        self.c_age=age\n",
    "        self.c_phone=phone\n",
    "        self.c_email=email\n",
    "        self.c_adress=adress\n",
    "        self.inc_cust_count()\n",
    "        self.cust_id=1000+self.cust_count\n",
    "        self.concat_cust_details(self.cust_id,self)\n",
    "\n",
    "    @classmethod\n",
    "    def inc_cust_count(cls):\n",
    "        cls.cust_count+=1\n",
    "    @classmethod\n",
    "    def concat_cust_details(cls,id,self):\n",
    "        cls.cust_details[id]=self\n",
    "customer('rahul',22,3456708934,'rahul@gmail.com','guntur')\n",
    "customer('rani',20,3456712334,'rani@gmail.com','war')\n",
    "\n",
    "#print(customer.cust_details)     # gives the cust_id \n",
    "#print(customer.cust_details[1002].__dict__) #gives the details of 1001 id customer"
   ]
  },
  {
   "cell_type": "code",
   "execution_count": 4,
   "metadata": {},
   "outputs": [
    {
     "name": "stdout",
     "output_type": "stream",
     "text": [
      "['SHOE', 'WATCH', 'LAPTOP']\n"
     ]
    }
   ],
   "source": [
    "class product:\n",
    "    prod_count=0\n",
    "    prod_details={}\n",
    "    def __init__(self,type_of_p,pname,desc,price,quantity,dom,doe,discount):\n",
    "        self.type_of_p=type_of_p\n",
    "        self.p_name=pname\n",
    "        self.p_desc=desc\n",
    "        self.p_price=price\n",
    "        self.p_quantity=quantity\n",
    "        self.p_dom=dom\n",
    "        self.p_doe=doe\n",
    "        self.p_discount=discount\n",
    "        self.inc_prod_count()\n",
    "        self.prod_id=2000+self.prod_count\n",
    "        self.concat_prod_details(self.prod_id,self)\n",
    "    \n",
    "    @classmethod\n",
    "    def inc_prod_count(cls):\n",
    "        cls.prod_count+=1\n",
    "\n",
    "    @classmethod\n",
    "    def concat_prod_details(cls,id,self):\n",
    "        cls.prod_details[id]=self\n",
    "\n",
    "    def change_discount(self):\n",
    "        self.p_discount=int(input(\"enter the new discount\"))\n",
    "    \n",
    "    def inc_quantity(self):\n",
    "        self.p_quantity+=int(input(\"enter the new quantity value\"))\n",
    "\n",
    "    def dec_quantity(self):\n",
    "        self.p_quantity-='value'\n",
    "\n",
    "    @classmethod\n",
    "    def display_product_details(cls):\n",
    "        p_list=cls.prod_details\n",
    "        print('prod_id','type_of_p',\"name\",\"desc\",\"price\",\"discount\",\"quantity\",\"dom\",\"doe\",sep=\" | \")\n",
    "        for i in p_list:\n",
    "            print(p_list[i].prod_id,\n",
    "                  p_list[i].p_type_of_p,\n",
    "                  p_list[i].p_name,\n",
    "                  p_list[i].p_desc,\n",
    "                  p_list[i].p_price,\n",
    "                  p_list[i].p_discount,\n",
    "                  p_list[i].p_quantity,\n",
    "                  p_list[i].p_dom,\n",
    "                  p_list[i].p_doe,\n",
    "                  sep=\" | \")\n",
    "    \n",
    "    @classmethod\n",
    "    def unique_type_prod(cls):\n",
    "        uni=[]\n",
    "        for i in cls.prod_details:\n",
    "            if cls.prod_details[i].type_of_p.upper() not in uni:\n",
    "                uni+=[cls.prod_details[i].type_of_p.upper()]\n",
    "        print(uni)\n",
    "\n",
    "    \n",
    "    \n",
    "p1=product('shoe','nike','38size/ruuingshoes',9999,10,'2023-6-20',None,'2')\n",
    "p2=product('watch','times','new brand',999,11,'2023-6-20',None,'10')\n",
    "p2=product('laptop','dell','15 inches i5 generation',65000,10,'2023-6-22',None,14)\n",
    "p2=product('Shoe','sketches','38size/ruuingshoes',10000,5,'2023-6-20',None,5)\n",
    "product.unique_type_prod()\n"
   ]
  },
  {
   "cell_type": "code",
   "execution_count": 20,
   "metadata": {},
   "outputs": [
    {
     "name": "stdout",
     "output_type": "stream",
     "text": [
      "{4001: <__main__.seller object at 0x00000137576238D0>}\n",
      "{'type_of_seller': 'wholesale', 'cust_id': 1006, 'prod_id': 2005, 'seller_id': 4001}\n"
     ]
    }
   ],
   "source": [
    "class seller:\n",
    "    seller_count=0\n",
    "    seller_details={}\n",
    "    def __init__(self,type_of_seller,name,age,phone,email,adress,type_of_p,pname,desc,price,quantity,dom,doe,discount):\n",
    "        self.type_of_seller=type_of_seller\n",
    "        cust=customer(name,age,phone,email,adress)\n",
    "        prod=product(type_of_p,pname,desc,price,quantity,dom,doe,discount)\n",
    "        self.cust_id=cust.cust_id\n",
    "        self.prod_id=prod.prod_id\n",
    "        self.inc_seller_count()\n",
    "        self.seller_id=4000+self.seller_count\n",
    "        self.concat_seller_details(self.seller_id,self)\n",
    "\n",
    "    @classmethod\n",
    "    def inc_seller_count(cls):\n",
    "        cls.seller_count+=1\n",
    "    @classmethod\n",
    "    def concat_seller_details(cls,id,self):\n",
    "        cls.seller_details[id]=self\n",
    "selobj=seller('wholesale','sravani',22,2345567800,'sravs@gmail.com','bangloore','watch','rolex','24cartgoldcircle,platinumhands,titaniun',150000,30,'2023-11-17',None,15)\n",
    "#print(selobj.__dict__)\n",
    "print(seller.seller_details)\n",
    "print(seller.seller_details[4001].__dict__)"
   ]
  }
 ],
 "metadata": {
  "kernelspec": {
   "display_name": "Python 3",
   "language": "python",
   "name": "python3"
  },
  "language_info": {
   "codemirror_mode": {
    "name": "ipython",
    "version": 3
   },
   "file_extension": ".py",
   "mimetype": "text/x-python",
   "name": "python",
   "nbconvert_exporter": "python",
   "pygments_lexer": "ipython3",
   "version": "3.11.4"
  }
 },
 "nbformat": 4,
 "nbformat_minor": 2
}
