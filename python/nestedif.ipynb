{
 "cells": [
  {
   "cell_type": "code",
   "execution_count": 22,
   "metadata": {},
   "outputs": [],
   "source": [
    "s={'10':20}\n",
    "l={'30':40}\n",
    "if s==l:\n",
    "    if type(s)==list and type(l)==list:\n",
    "        s+=l\n",
    "        print(s)\n",
    "    elif type(s)==dict and type(l)==dict:\n",
    "        s['10']=l\n",
    "        print(s)\n",
    "#else:\n",
    "    #s|=l\n",
    "    #print(s)\n",
    "if type(s) in [int,float,complex,bytes] and type(l) in [int,float,complex,bytes]:\n",
    "    res=s*l\n",
    "    print(res)\n",
    "elif type(s) in [bool,type(None)] or type(l) in [bool,type(None)]:\n",
    "    d=str(l)\n",
    "    print(d)\n",
    "elif type(s)==complex and type(l)==complex:\n",
    "    s=s.imag\n",
    "    l=l.imag\n",
    "    print(s,l)\n",
    "elif type(s)==bytes and type(l)==bytes:\n",
    "    s=list(s)\n",
    "    l=list(l)\n",
    "    print(s,l)\n",
    "\n"
   ]
  },
  {
   "cell_type": "markdown",
   "metadata": {},
   "source": []
  },
  {
   "cell_type": "code",
   "execution_count": 20,
   "metadata": {},
   "outputs": [
    {
     "name": "stdout",
     "output_type": "stream",
     "text": [
      "nohtyp\n",
      "girish\n",
      "hsirig\n",
      "srg\n",
      "grs\n",
      "gi\n",
      "hii\n",
      "hello\n",
      "world\n",
      "helloworld\n",
      "dlrowolleh\n",
      "drwle\n",
      "hlool\n",
      "hol\n",
      "dwe\n",
      "i love india\n",
      " love india\n",
      "aidni\n",
      "india\n",
      "aidni evol i\n",
      "adieo \n",
      "ognajd\n",
      "['java', 'django', 'python']\n",
      "ja\n",
      "avaj\n",
      "['python', 'django', 'java']\n",
      "['python', 'java']\n",
      "['java', 'python']\n",
      "(10, 'girish', 'helloworld', 'i love india')\n",
      "('i love india', 'helloworld', 'girish', 10)\n",
      "(10, 'helloworld')\n",
      "('girish', 'helloworld')\n",
      "('i love india', 10)\n",
      "('helloworld', 10)\n",
      "10\n",
      "[10, 'python', 'venugopal']\n",
      "('kashi', 'java', 'girish')\n",
      "('lapogunev', 'nohtyp')\n",
      "ksi\n",
      "vng\n",
      "euo\n",
      "aou\n"
     ]
    }
   ],
   "source": [
    "d={'a':{'10':(10,\"girish\",'helloworld','i love india',{'d':['python','django','java'],(10,):{'venugopal','kashi'}})}}\n",
    "print(d['a']['10'][4]['d'][0][::-1])\n",
    "print(d['a']['10'][1])\n",
    "print(d['a']['10'][1][::-1])\n",
    "print(d['a']['10'][1][-2::-2])\n",
    "print(d['a']['10'][1][0::2])\n",
    "print(d['a']['10'][1][0:2])\n",
    "print(d['a']['10'][1][-1::-2])\n",
    "print(d['a']['10'][2][0:5])\n",
    "print(d['a']['10'][2][5::1])\n",
    "print(d['a']['10'][2])\n",
    "print(d['a']['10'][2][::-1])\n",
    "print(d['a']['10'][2][-1::-2])\n",
    "print(d['a']['10'][2][0::2])\n",
    "print(d['a']['10'][2][::4])\n",
    "print(d['a']['10'][2][-1::-4])\n",
    "print(d['a']['10'][3])\n",
    "print(d['a']['10'][3][1::1])\n",
    "print(d['a']['10'][3][-1:-6:-1])\n",
    "print(d['a']['10'][3][7:])\n",
    "print(d['a']['10'][3][::-1])\n",
    "print(d['a']['10'][3][-1::-2])\n",
    "print(d['a']['10'][4]['d'][1][::-1])\n",
    "print(d['a']['10'][4]['d'][::-1])\n",
    "print(d['a']['10'][4]['d'][2][0:2])\n",
    "print(d['a']['10'][4]['d'][2][::-1])\n",
    "print(d['a']['10'][4]['d'])\n",
    "print(d['a']['10'][4]['d'][0::2])\n",
    "print(d['a']['10'][4]['d'][-1::-2])\n",
    "print(d['a']['10'][0:4:1])\n",
    "print(d['a']['10'][3::-1])\n",
    "print(d['a']['10'][0:3:2])\n",
    "print(d['a']['10'][1:3:1])\n",
    "print(d['a']['10'][3::-3])\n",
    "print(d['a']['10'][2::-2])\n",
    "print(d['a']['10'][0])\n",
    "print([d['a']['10'][0],d['a']['10'][4]['d'][0],list(d['a']['10'][-1][(10,)])[0]])\n",
    "print((list(d['a']['10'][-1][(10,)])[1],d['a']['10'][4]['d'][2],d['a']['10'][1]))\n",
    "print((list(d['a']['10'][-1][(10,)])[0][::-1],d['a']['10'][4]['d'][0][::-1]))\n",
    "print(list(d['a']['10'][-1][(10,)])[1][::2])\n",
    "print(list(d['a']['10'][-1][(10,)])[0][:5:2])\n",
    "print(list(d['a']['10'][-1][(10,)])[0][1:6:2])\n",
    "print(list(d['a']['10'][-1][(10,)])[0][-2:-7:-2])"
   ]
  },
  {
   "cell_type": "code",
   "execution_count": 8,
   "metadata": {},
   "outputs": [
    {
     "name": "stdout",
     "output_type": "stream",
     "text": [
      "V\n"
     ]
    }
   ],
   "source": [
    "s='U'\n",
    "if 'A'<=s<='z' or 'a'<=s<='z':\n",
    "    if 'A'<=s<='Z':\n",
    "        if s in 'AEIOU':\n",
    "            res=chr(ord(s)+1)\n",
    "            print(res)\n",
    "else:\n",
    "    if '0'<=s<='9' or not ('0'<=s<='9'):\n",
    "        print(s)\n"
   ]
  },
  {
   "cell_type": "code",
   "execution_count": 11,
   "metadata": {},
   "outputs": [
    {
     "name": "stdout",
     "output_type": "stream",
     "text": [
      "1391.88\n"
     ]
    }
   ],
   "source": [
    "c=21\n",
    "if c%2==0:\n",
    "    if c%4==0:\n",
    "        print(c**2)\n",
    "else:\n",
    "    if c%3==0 and c%7==0:\n",
    "        a=2*33.14*c\n",
    "        print(a)"
   ]
  },
  {
   "cell_type": "code",
   "execution_count": 15,
   "metadata": {},
   "outputs": [
    {
     "name": "stdout",
     "output_type": "stream",
     "text": [
      "oell\n"
     ]
    }
   ],
   "source": [
    "m='hello'\n",
    "if type(m)==int or type(m)==float or type(m)==str:\n",
    "    if type(m)==int:\n",
    "        res=m%5\n",
    "        print(res)\n",
    "    elif type(m)==float:\n",
    "        m=int(m)\n",
    "        res=m|15\n",
    "        print(res)\n",
    "    elif type(m)==str:\n",
    "        m=m[-1]+m[1:len(m)-1]\n",
    "        print(m)\n",
    "else:\n",
    "    res=list(m)\n",
    "    print(res)"
   ]
  },
  {
   "cell_type": "code",
   "execution_count": 2,
   "metadata": {},
   "outputs": [
    {
     "name": "stdout",
     "output_type": "stream",
     "text": [
      "first grade\n"
     ]
    }
   ],
   "source": [
    "n=90\n",
    "match n:\n",
    "    case n if 90<=n<100:\n",
    "        print(\"first grade\")\n",
    "    case n if 70<=n<90:\n",
    "        print(\"second grade\")\n",
    "    case n if 50<=n<70:\n",
    "        print(\"third grade\")\n",
    "    case _:\n",
    "        print(\"fail\")"
   ]
  },
  {
   "cell_type": "code",
   "execution_count": 26,
   "metadata": {},
   "outputs": [
    {
     "name": "stdout",
     "output_type": "stream",
     "text": [
      "RAJA\n",
      "ran\n",
      "vinay\n",
      "RAJAranvinay\n"
     ]
    },
    {
     "data": {
      "text/plain": [
       "tuple"
      ]
     },
     "execution_count": 26,
     "metadata": {},
     "output_type": "execute_result"
    }
   ],
   "source": [
    "G=([1,2,3,45],(\"raja\"),[10,20,(30,)],[\"vinay\",450,{11,11},(50)])\n",
    "res=chr(ord(G[1][0])-32)+chr(ord(G[1][1])-32)+chr(ord(G[1][2])-32)+chr(ord(G[1][3])-32)\n",
    "t=G[1][0]+G[1][1]+G[3][0][2]\n",
    "s=G[3][0]\n",
    "print(res)\n",
    "print(t)\n",
    "print(s)\n",
    "d=res+t+s\n",
    "print(d)\n",
    "type(G[2][2])"
   ]
  }
 ],
 "metadata": {
  "kernelspec": {
   "display_name": "Python 3",
   "language": "python",
   "name": "python3"
  },
  "language_info": {
   "codemirror_mode": {
    "name": "ipython",
    "version": 3
   },
   "file_extension": ".py",
   "mimetype": "text/x-python",
   "name": "python",
   "nbconvert_exporter": "python",
   "pygments_lexer": "ipython3",
   "version": "3.11.4"
  },
  "orig_nbformat": 4
 },
 "nbformat": 4,
 "nbformat_minor": 2
}
