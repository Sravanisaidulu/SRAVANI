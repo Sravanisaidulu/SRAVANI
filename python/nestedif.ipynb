{
 "cells": [
  {
   "cell_type": "code",
   "execution_count": 22,
   "metadata": {},
   "outputs": [],
   "source": [
    "s={'10':20}\n",
    "l={'30':40}\n",
    "if s==l:\n",
    "    if type(s)==list and type(l)==list:\n",
    "        s+=l\n",
    "        print(s)\n",
    "    elif type(s)==dict and type(l)==dict:\n",
    "        s['10']=l\n",
    "        print(s)\n",
    "#else:\n",
    "    #s|=l\n",
    "    #print(s)\n",
    "if type(s) in [int,float,complex,bytes] and type(l) in [int,float,complex,bytes]:\n",
    "    res=s*l\n",
    "    print(res)\n",
    "elif type(s) in [bool,type(None)] or type(l) in [bool,type(None)]:\n",
    "    d=str(l)\n",
    "    print(d)\n",
    "elif type(s)==complex and type(l)==complex:\n",
    "    s=s.imag\n",
    "    l=l.imag\n",
    "    print(s,l)\n",
    "elif type(s)==bytes and type(l)==bytes:\n",
    "    s=list(s)\n",
    "    l=list(l)\n",
    "    print(s,l)\n",
    "\n"
   ]
  },
  {
   "cell_type": "code",
   "execution_count": 39,
   "metadata": {},
   "outputs": [
    {
     "name": "stdout",
     "output_type": "stream",
     "text": [
      "nohtyp\n",
      "girish\n",
      "hsirig\n",
      "srg\n",
      "grs\n",
      "gi\n",
      "hii\n",
      "hello\n",
      "world\n",
      "helloworld\n",
      "dlrowolleh\n",
      "drwle\n",
      "hlool\n",
      "hol\n",
      "dwe\n",
      "i love india\n",
      " love india\n",
      "aidni\n",
      "india\n",
      "aidni evol i\n",
      "adieo \n",
      "ognajd\n",
      "['java', 'django', 'python']\n",
      "ja\n",
      "avaj\n",
      "['python', 'django', 'java']\n",
      "django\n"
     ]
    },
    {
     "ename": "TypeError",
     "evalue": "'set' object is not subscriptable",
     "output_type": "error",
     "traceback": [
      "\u001b[1;31m---------------------------------------------------------------------------\u001b[0m",
      "\u001b[1;31mTypeError\u001b[0m                                 Traceback (most recent call last)",
      "Cell \u001b[1;32mIn[39], line 29\u001b[0m\n\u001b[0;32m     27\u001b[0m \u001b[39mprint\u001b[39m(d[\u001b[39m'\u001b[39m\u001b[39ma\u001b[39m\u001b[39m'\u001b[39m][\u001b[39m'\u001b[39m\u001b[39m10\u001b[39m\u001b[39m'\u001b[39m][\u001b[39m4\u001b[39m][\u001b[39m'\u001b[39m\u001b[39md\u001b[39m\u001b[39m'\u001b[39m])\n\u001b[0;32m     28\u001b[0m \u001b[39mprint\u001b[39m(d[\u001b[39m'\u001b[39m\u001b[39ma\u001b[39m\u001b[39m'\u001b[39m][\u001b[39m'\u001b[39m\u001b[39m10\u001b[39m\u001b[39m'\u001b[39m][\u001b[39m4\u001b[39m][\u001b[39m'\u001b[39m\u001b[39md\u001b[39m\u001b[39m'\u001b[39m][\u001b[39m1\u001b[39m])\n\u001b[1;32m---> 29\u001b[0m \u001b[39mprint\u001b[39m(d[\u001b[39m'\u001b[39;49m\u001b[39ma\u001b[39;49m\u001b[39m'\u001b[39;49m][\u001b[39m'\u001b[39;49m\u001b[39m10\u001b[39;49m\u001b[39m'\u001b[39;49m][\u001b[39m4\u001b[39;49m][(\u001b[39m10\u001b[39;49m,)][\u001b[39m1\u001b[39;49m][\u001b[39m0\u001b[39m::\u001b[39m2\u001b[39m])\n",
      "\u001b[1;31mTypeError\u001b[0m: 'set' object is not subscriptable"
     ]
    }
   ],
   "source": [
    "d={'a':{'10':(10,\"girish\",'helloworld','i love india',{'d':['python','django','java'],(10,):{'venugopal','kashi'}})}}\n",
    "print(d['a']['10'][4]['d'][0][::-1])\n",
    "print(d['a']['10'][1])\n",
    "print(d['a']['10'][1][::-1])\n",
    "print(d['a']['10'][1][-2::-2])\n",
    "print(d['a']['10'][1][0::2])\n",
    "print(d['a']['10'][1][0:2])\n",
    "print(d['a']['10'][1][-1::-2])\n",
    "print(d['a']['10'][2][0:5])\n",
    "print(d['a']['10'][2][5::1])\n",
    "print(d['a']['10'][2])\n",
    "print(d['a']['10'][2][::-1])\n",
    "print(d['a']['10'][2][-1::-2])\n",
    "print(d['a']['10'][2][0::2])\n",
    "print(d['a']['10'][2][::4])\n",
    "print(d['a']['10'][2][-1::-4])\n",
    "print(d['a']['10'][3])\n",
    "print(d['a']['10'][3][1::1])\n",
    "print(d['a']['10'][3][-1:-6:-1])\n",
    "print(d['a']['10'][3][7:])\n",
    "print(d['a']['10'][3][::-1])\n",
    "print(d['a']['10'][3][-1::-2])\n",
    "print(d['a']['10'][4]['d'][1][::-1])\n",
    "print(d['a']['10'][4]['d'][::-1])\n",
    "print(d['a']['10'][4]['d'][2][0:2])\n",
    "print(d['a']['10'][4]['d'][2][::-1])\n",
    "print(d['a']['10'][4]['d'])\n",
    "print(d['a']['10'][4]['d'][1])\n",
    "print(d['a']['10'][4][(10,)][1])"
   ]
  }
 ],
 "metadata": {
  "kernelspec": {
   "display_name": "Python 3",
   "language": "python",
   "name": "python3"
  },
  "language_info": {
   "codemirror_mode": {
    "name": "ipython",
    "version": 3
   },
   "file_extension": ".py",
   "mimetype": "text/x-python",
   "name": "python",
   "nbconvert_exporter": "python",
   "pygments_lexer": "ipython3",
   "version": "3.11.4"
  },
  "orig_nbformat": 4
 },
 "nbformat": 4,
 "nbformat_minor": 2
}
