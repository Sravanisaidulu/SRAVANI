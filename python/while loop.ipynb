{
 "cells": [
  {
   "cell_type": "code",
   "execution_count": 1,
   "metadata": {},
   "outputs": [
    {
     "name": "stdout",
     "output_type": "stream",
     "text": [
      "7\n",
      "6\n",
      "5\n",
      "4\n",
      "3\n",
      "2\n",
      "1\n"
     ]
    }
   ],
   "source": [
    "# 1 WAP to ectarct each digit from given number without type casting\n",
    "n=1234567\n",
    "while n:\n",
    "    ld=n%10\n",
    "    print(ld)\n",
    "    n=n//10\n",
    "    "
   ]
  },
  {
   "cell_type": "code",
   "execution_count": 2,
   "metadata": {},
   "outputs": [
    {
     "name": "stdout",
     "output_type": "stream",
     "text": [
      "4\n",
      "0\n",
      "0\n",
      "5\n",
      "0\n"
     ]
    }
   ],
   "source": [
    "#2 WAP to ectarct each digit from given number with type casting\n",
    "n=40050\n",
    "n=str(n)\n",
    "i=0\n",
    "while i<len(n):\n",
    "    print(n[i])\n",
    "    i+=1\n",
    "    "
   ]
  },
  {
   "cell_type": "code",
   "execution_count": 3,
   "metadata": {},
   "outputs": [
    {
     "name": "stdout",
     "output_type": "stream",
     "text": [
      "0\n",
      "5\n",
      "0\n",
      "0\n",
      "0\n",
      "4\n"
     ]
    }
   ],
   "source": [
    "#3 WAP to ectarct each digit from given number with type casting right to left\n",
    "n=400050\n",
    "n=str(n)\n",
    "i=-1\n",
    "while i>=-(len(n)):\n",
    "    print(n[i])\n",
    "    i-=1"
   ]
  },
  {
   "cell_type": "code",
   "execution_count": 4,
   "metadata": {},
   "outputs": [
    {
     "name": "stdout",
     "output_type": "stream",
     "text": [
      "9\n"
     ]
    }
   ],
   "source": [
    "# 4WAP to findout largest digit in given number\n",
    "n=1456389\n",
    "res=0\n",
    "while n:\n",
    "    ld=n%10\n",
    "    if res<ld:\n",
    "        res=ld\n",
    "    n=n//10\n",
    "print(res)"
   ]
  },
  {
   "cell_type": "code",
   "execution_count": 5,
   "metadata": {},
   "outputs": [
    {
     "name": "stdout",
     "output_type": "stream",
     "text": [
      "2\n"
     ]
    }
   ],
   "source": [
    "# 5WAP to findout smallest digit in given number\n",
    "n=23456\n",
    "res=9\n",
    "while n:\n",
    "    ld=n%10\n",
    "    if res>ld:\n",
    "        res=ld\n",
    "    n=n//10\n",
    "print(res)"
   ]
  },
  {
   "cell_type": "code",
   "execution_count": 6,
   "metadata": {},
   "outputs": [
    {
     "name": "stdout",
     "output_type": "stream",
     "text": [
      "8\n"
     ]
    }
   ],
   "source": [
    "#6 WAP to find even largest digit from the given number\n",
    "n=15489\n",
    "res=0\n",
    "while n:\n",
    "    ld=n%10\n",
    "    if res<ld and ld%2==0:\n",
    "        res=ld\n",
    "    n=n//10\n",
    "print(res)"
   ]
  },
  {
   "cell_type": "code",
   "execution_count": 8,
   "metadata": {},
   "outputs": [
    {
     "name": "stdout",
     "output_type": "stream",
     "text": [
      "36\n"
     ]
    }
   ],
   "source": [
    "# 7 WAP to sum all the digits in given number\n",
    "n=1345689\n",
    "res=0\n",
    "while n:\n",
    "    ld=n%10\n",
    "    res+=ld\n",
    "    n=n//10\n",
    "print(res)\n"
   ]
  },
  {
   "cell_type": "code",
   "execution_count": 9,
   "metadata": {},
   "outputs": [
    {
     "name": "stdout",
     "output_type": "stream",
     "text": [
      "362880\n"
     ]
    }
   ],
   "source": [
    "#8  WAP to perform product of all the digits in given number\n",
    "n=123456789\n",
    "pr=1\n",
    "while n:\n",
    "    ld=n%10\n",
    "    pr*=ld\n",
    "    n=n//10\n",
    "print(pr)"
   ]
  },
  {
   "cell_type": "code",
   "execution_count": 10,
   "metadata": {},
   "outputs": [
    {
     "name": "stdout",
     "output_type": "stream",
     "text": [
      "-27\n"
     ]
    }
   ],
   "source": [
    "#9 WAP to findout differnece value from the given number\n",
    "n=123456789\n",
    "res=n%10\n",
    "n=n//10\n",
    "while n:\n",
    "    ld=n%10\n",
    "    res-=ld\n",
    "    n=n//10\n",
    "print(res)"
   ]
  },
  {
   "cell_type": "code",
   "execution_count": 13,
   "metadata": {},
   "outputs": [
    {
     "name": "stdout",
     "output_type": "stream",
     "text": [
      "8\n",
      "6\n",
      "4\n",
      "6\n",
      "4\n",
      "2\n"
     ]
    }
   ],
   "source": [
    "# 10 WAP to exract even digits from given number\n",
    "n=2345673456789\n",
    "while n:\n",
    "    l=n%10\n",
    "    if l%2==0:\n",
    "        print(l)\n",
    "    n=n//10"
   ]
  },
  {
   "cell_type": "code",
   "execution_count": 16,
   "metadata": {},
   "outputs": [
    {
     "name": "stdout",
     "output_type": "stream",
     "text": [
      "10\n"
     ]
    }
   ],
   "source": [
    "#11 WAP to sum odd digits in given number\n",
    "n=2234678\n",
    "res=0\n",
    "while n:\n",
    "    k=n%10\n",
    "    if k%2!=0:\n",
    "        res+=k\n",
    "    n=n//10\n",
    "print(res)"
   ]
  },
  {
   "cell_type": "code",
   "execution_count": 22,
   "metadata": {},
   "outputs": [
    {
     "name": "stdout",
     "output_type": "stream",
     "text": [
      "10\n",
      "11\n",
      "12\n",
      "13\n",
      "14\n",
      "15\n",
      "16\n",
      "17\n",
      "18\n",
      "19\n",
      "20\n"
     ]
    }
   ],
   "source": [
    "# 12 WAP to generate sequence of values from m to n\n",
    "m=int(input('enter the value'))\n",
    "n=int(input(\"enter the value\"))\n",
    "while m<=n:\n",
    "    print(m)\n",
    "    m+=1"
   ]
  },
  {
   "cell_type": "code",
   "execution_count": 29,
   "metadata": {},
   "outputs": [
    {
     "name": "stdout",
     "output_type": "stream",
     "text": [
      "1\n",
      "3\n",
      "5\n",
      "7\n",
      "9\n",
      "11\n",
      "31\n",
      "51\n",
      "71\n",
      "91\n",
      "12\n",
      "32\n",
      "52\n",
      "72\n",
      "92\n",
      "13\n",
      "33\n",
      "53\n",
      "73\n",
      "93\n",
      "14\n",
      "34\n",
      "54\n",
      "74\n",
      "94\n",
      "15\n",
      "35\n",
      "55\n",
      "75\n",
      "95\n",
      "16\n",
      "36\n",
      "56\n",
      "76\n",
      "96\n",
      "17\n",
      "37\n",
      "57\n",
      "77\n",
      "97\n",
      "18\n",
      "38\n",
      "58\n",
      "78\n",
      "98\n",
      "19\n",
      "39\n",
      "59\n",
      "79\n",
      "99\n"
     ]
    }
   ],
   "source": [
    "# 13 wap to print reverse the odd no until nth time by using while loop\n",
    "n=100\n",
    "m=1\n",
    "while m<=n:\n",
    "    if m%2!=0:\n",
    "        temp=m\n",
    "        res=0\n",
    "        while temp:\n",
    "            ld=temp%10\n",
    "            res=(res*10)+ld\n",
    "            temp=temp//10\n",
    "        print(res)\n",
    "    m+=1\n",
    "\n"
   ]
  },
  {
   "cell_type": "code",
   "execution_count": 22,
   "metadata": {},
   "outputs": [
    {
     "name": "stdout",
     "output_type": "stream",
     "text": [
      "5\n",
      "6\n",
      "7\n",
      "8\n",
      "9\n",
      "10\n"
     ]
    }
   ],
   "source": [
    "# 14wap to print 10 to 5\n",
    "m=10\n",
    "n=5\n",
    "while n<=m:\n",
    "    print(n)\n",
    "    n+=1"
   ]
  },
  {
   "cell_type": "code",
   "execution_count": 27,
   "metadata": {},
   "outputs": [
    {
     "name": "stdout",
     "output_type": "stream",
     "text": [
      "15\n",
      "16\n",
      "17\n",
      "18\n",
      "19\n",
      "20\n",
      "21\n",
      "22\n",
      "23\n",
      "24\n",
      "25\n",
      "26\n",
      "27\n",
      "28\n",
      "29\n",
      "30\n"
     ]
    }
   ],
   "source": [
    "#  15 if first value is gerater than second value\n",
    "m=30\n",
    "n=15\n",
    "if m>n:\n",
    "    m,n=n,m\n",
    "while m<=n:\n",
    "    print(m)\n",
    "    m+=1"
   ]
  },
  {
   "cell_type": "code",
   "execution_count": 28,
   "metadata": {},
   "outputs": [
    {
     "name": "stdout",
     "output_type": "stream",
     "text": [
      "1\n",
      "2\n",
      "3\n",
      "4\n",
      "5\n",
      "6\n",
      "7\n",
      "8\n",
      "9\n",
      "10\n"
     ]
    }
   ],
   "source": [
    "# 16  WAP to generate sequences of values from 1 to n\n",
    "start=1\n",
    "n=int(input(\"enter the value\"))\n",
    "while start<=n:\n",
    "    print(start)\n",
    "    start+=1"
   ]
  },
  {
   "cell_type": "code",
   "execution_count": 30,
   "metadata": {},
   "outputs": [
    {
     "name": "stdout",
     "output_type": "stream",
     "text": [
      "210\n"
     ]
    }
   ],
   "source": [
    "# 17 WAP to sum of values from 1 to  n\n",
    "st=1\n",
    "n=20\n",
    "res=0\n",
    "while st<=n:\n",
    "    res+=st\n",
    "    st+=1\n",
    "print(res)"
   ]
  },
  {
   "cell_type": "code",
   "execution_count": 31,
   "metadata": {},
   "outputs": [
    {
     "name": "stdout",
     "output_type": "stream",
     "text": [
      "120\n"
     ]
    }
   ],
   "source": [
    "# 18factorial program\n",
    "# product of 1 to n numbers\n",
    "n=1\n",
    "m=5\n",
    "res=1\n",
    "while n<=m:\n",
    "    res*=n\n",
    "    n+=1\n",
    "print(res)\n"
   ]
  },
  {
   "cell_type": "code",
   "execution_count": 36,
   "metadata": {},
   "outputs": [
    {
     "name": "stdout",
     "output_type": "stream",
     "text": [
      "1\n",
      "2\n",
      "3\n",
      "6\n"
     ]
    }
   ],
   "source": [
    "#19 WAP to find factors of given number\n",
    "m=1\n",
    "n=6\n",
    "while m<=n:\n",
    "    if n%m==0:\n",
    "        print(m)\n",
    "    m+=1\n",
    "\n"
   ]
  },
  {
   "cell_type": "code",
   "execution_count": 38,
   "metadata": {},
   "outputs": [
    {
     "name": "stdout",
     "output_type": "stream",
     "text": [
      "4\n"
     ]
    }
   ],
   "source": [
    "#20  WAP to find  no of factors in given number\n",
    "m=1\n",
    "n=10\n",
    "count=0\n",
    "while m<=n:\n",
    "    if n%m==0:\n",
    "        count+=1\n",
    "    m+=1\n",
    "print(count) "
   ]
  },
  {
   "cell_type": "code",
   "execution_count": 41,
   "metadata": {},
   "outputs": [
    {
     "name": "stdout",
     "output_type": "stream",
     "text": [
      "2\n",
      "prime\n"
     ]
    }
   ],
   "source": [
    "# 21 WAP to find given number is prime or not\n",
    "m=1\n",
    "n=7\n",
    "count=0\n",
    "while m<=n:\n",
    "    if n%m==0:\n",
    "        count+=1\n",
    "    m+=1\n",
    "print(count)\n",
    "if count==2:\n",
    "    print(\"prime\")\n",
    "else:\n",
    "    print(\"not prime\")"
   ]
  },
  {
   "cell_type": "code",
   "execution_count": 43,
   "metadata": {},
   "outputs": [
    {
     "name": "stdout",
     "output_type": "stream",
     "text": [
      "6\n"
     ]
    }
   ],
   "source": [
    "# 22 WAP to sum of all the factors of given number\n",
    "m=1\n",
    "n=5\n",
    "res=0\n",
    "while m<=n:\n",
    "    if n%m==0:\n",
    "        res+=m\n",
    "    m+=1\n",
    "print(res)"
   ]
  },
  {
   "cell_type": "code",
   "execution_count": 58,
   "metadata": {},
   "outputs": [
    {
     "name": "stdout",
     "output_type": "stream",
     "text": [
      "5\n",
      "2\n",
      "prime\n"
     ]
    }
   ],
   "source": [
    "#23 WAP to sum all the digits of given number and check final output is prime or not \n",
    "n=23\n",
    "res=0\n",
    "m=1\n",
    "count=0\n",
    "while n:\n",
    "    l=n%10\n",
    "    res+=l\n",
    "    n=n//10\n",
    "print(res)\n",
    "while m<=res:\n",
    "    if res%m==0:\n",
    "        count+=1\n",
    "    m+=1\n",
    "print(count)\n",
    "if count==2:\n",
    "    print(\"prime\")\n",
    "else:\n",
    "    print(\"not prime\")\n",
    "\n"
   ]
  },
  {
   "cell_type": "code",
   "execution_count": 4,
   "metadata": {},
   "outputs": [
    {
     "name": "stdout",
     "output_type": "stream",
     "text": [
      "6\n",
      "6\n",
      "prefect number\n"
     ]
    }
   ],
   "source": [
    "#24 WAP to findout product of all the digits in given number.the final resulted value is prefect number or not\n",
    "n=123\n",
    "pr=1\n",
    "m=1\n",
    "res=0\n",
    "while n:\n",
    "    l=n%10\n",
    "    pr*=l\n",
    "    n=n//10\n",
    "print(pr) # prefet number means number is equal to sum of its factors\n",
    "while m<pr:\n",
    "    if pr%m==0:\n",
    "        res+=m\n",
    "    m+=1\n",
    "print(res)\n",
    "if pr==res:\n",
    "    print(\"prefect number\")\n",
    "else:\n",
    "    print(\"not prefect number\")\n",
    "\n"
   ]
  },
  {
   "cell_type": "code",
   "execution_count": 6,
   "metadata": {},
   "outputs": [
    {
     "name": "stdout",
     "output_type": "stream",
     "text": [
      "100\n",
      "95\n",
      "90\n",
      "85\n",
      "80\n",
      "75\n",
      "70\n",
      "65\n",
      "60\n",
      "55\n",
      "50\n",
      "45\n",
      "40\n",
      "35\n",
      "30\n",
      "25\n",
      "20\n",
      "15\n",
      "10\n",
      "5\n"
     ]
    }
   ],
   "source": [
    "# 25 wap to print 20 to 1,fromat ==> 5*20=200 to 5*1=5\n",
    "m=5\n",
    "n=20\n",
    "p=1\n",
    "while n>=p:\n",
    "   s= m*n\n",
    "   print(s)\n",
    "   n-=1\n"
   ]
  },
  {
   "cell_type": "code",
   "execution_count": 7,
   "metadata": {},
   "outputs": [
    {
     "name": "stdout",
     "output_type": "stream",
     "text": [
      "5\n",
      "10\n",
      "15\n",
      "20\n",
      "25\n",
      "30\n",
      "35\n",
      "40\n",
      "45\n",
      "50\n",
      "55\n",
      "60\n",
      "65\n",
      "70\n",
      "75\n",
      "80\n",
      "85\n",
      "90\n",
      "95\n",
      "100\n"
     ]
    }
   ],
   "source": [
    "## 26 wap to print 1to 20,fromat ==> 5*1=5 to 5*20=200 \n",
    "m=5\n",
    "n=1\n",
    "while n<=20:\n",
    "    s=m*n\n",
    "    print(s)\n",
    "    n+=1"
   ]
  },
  {
   "cell_type": "code",
   "execution_count": 2,
   "metadata": {},
   "outputs": [
    {
     "name": "stdout",
     "output_type": "stream",
     "text": [
      "3 love you\n",
      "5 hate you\n",
      "6 love you\n",
      "9 love you\n",
      "10 hate you\n",
      "12 love you\n",
      "15 i like you\n",
      "18 love you\n",
      "20 hate you\n",
      "21 love you\n",
      "24 love you\n",
      "25 hate you\n",
      "27 love you\n",
      "30 i like you\n"
     ]
    }
   ],
   "source": [
    "# 27 wap to print the \"love you \"divisible by 3,or divisible by 5 print\"hate you\" . if divisible by 3 and 5 print \" i like you\" from 1 to 30\n",
    "n=30\n",
    "m=1\n",
    "while m<=n:\n",
    "    if m%3==0 and m%5==0:\n",
    "        print(m,\"i like you\")\n",
    "    elif m%3==0:\n",
    "        print(m,\"love you\")\n",
    "    elif m%5==0:\n",
    "        print(m,\"hate you\")\n",
    "    m+=1"
   ]
  },
  {
   "cell_type": "code",
   "execution_count": 20,
   "metadata": {},
   "outputs": [
    {
     "name": "stdout",
     "output_type": "stream",
     "text": [
      "145\n",
      "strong number\n"
     ]
    }
   ],
   "source": [
    "#28 WAP to check given number is strong or not\n",
    "n=145\n",
    "temp=n\n",
    "sum=0\n",
    "while n:\n",
    "    l=n%10\n",
    "    res=1\n",
    "    m=1 \n",
    "    while m<=l:\n",
    "        res*=m\n",
    "        m+=1\n",
    "    sum+=res\n",
    "    n=n//10\n",
    "print(sum)\n",
    "if sum==temp:\n",
    "    print(\"strong number\")\n",
    "else:\n",
    "    print(\"not strong number\")\n"
   ]
  },
  {
   "cell_type": "code",
   "execution_count": 4,
   "metadata": {},
   "outputs": [
    {
     "name": "stdout",
     "output_type": "stream",
     "text": [
      "0\n",
      "1\n",
      "1\n",
      "2\n",
      "3\n",
      "5\n",
      "8\n"
     ]
    }
   ],
   "source": [
    "#29 WAP to print fibinocci series for n times\n",
    "n=5\n",
    "a=0\n",
    "b=1\n",
    "print(a)\n",
    "print(b)\n",
    "while n:\n",
    "    c=a+b\n",
    "    print(c)\n",
    "    a,b=b,c\n",
    "    n-=1"
   ]
  },
  {
   "cell_type": "code",
   "execution_count": 6,
   "metadata": {},
   "outputs": [
    {
     "name": "stdout",
     "output_type": "stream",
     "text": [
      "12321\n",
      "palindrome\n"
     ]
    }
   ],
   "source": [
    "#30 wap to check given number is palindrome or not\n",
    "s=12321\n",
    "temp=s\n",
    "res=0\n",
    "while s:\n",
    "    l=s%10\n",
    "    res=(res*10)+l\n",
    "    s=s//10\n",
    "print(res)\n",
    "if res==temp:\n",
    "    print(\"palindrome\")\n",
    "else:\n",
    "    print(\"not palindrome\")"
   ]
  },
  {
   "cell_type": "code",
   "execution_count": 7,
   "metadata": {},
   "outputs": [
    {
     "name": "stdout",
     "output_type": "stream",
     "text": [
      "27\n",
      "30\n",
      "33\n",
      "36\n",
      "39\n",
      "42\n",
      "45\n",
      "48\n",
      "51\n",
      "54\n",
      "57\n",
      "60\n",
      "63\n",
      "66\n"
     ]
    }
   ],
   "source": [
    "#31 WAP to print number divisible by 3 from 25 t0 66\n",
    "m=25\n",
    "n=66\n",
    "while m<=n:\n",
    "    if m%3==0:\n",
    "        print(m)\n",
    "    m+=1"
   ]
  },
  {
   "cell_type": "code",
   "execution_count": 23,
   "metadata": {},
   "outputs": [
    {
     "name": "stdout",
     "output_type": "stream",
     "text": [
      "15\n",
      "30\n",
      "45\n",
      "60\n",
      "75\n"
     ]
    }
   ],
   "source": [
    "# 32wap to print numbers which are divisible by 3 and 5 from 15 to 76\n",
    "n=15\n",
    "m=76\n",
    "while n<=m:\n",
    "    if n%3==0 and n%5==0:\n",
    "        print(n)\n",
    "    n+=1"
   ]
  },
  {
   "cell_type": "code",
   "execution_count": 24,
   "metadata": {},
   "outputs": [
    {
     "name": "stdout",
     "output_type": "stream",
     "text": [
      "70\n",
      "35\n"
     ]
    }
   ],
   "source": [
    "# 33 wap to print numbers which are divisible by 5 and 7 from 77 to 22\n",
    "m=77\n",
    "n=22\n",
    "while m>=n:\n",
    "    if m%5==0 and m%7==0:\n",
    "        print(m)\n",
    "    m-=1"
   ]
  },
  {
   "cell_type": "code",
   "execution_count": 46,
   "metadata": {},
   "outputs": [
    {
     "name": "stdout",
     "output_type": "stream",
     "text": [
      "2\n",
      "3\n",
      "5\n",
      "7\n",
      "11\n",
      "13\n",
      "17\n",
      "19\n",
      "23\n",
      "29\n",
      "31\n",
      "37\n",
      "41\n",
      "43\n",
      "47\n",
      "53\n",
      "59\n",
      "61\n",
      "67\n",
      "71\n",
      "73\n",
      "79\n",
      "83\n",
      "89\n",
      "97\n"
     ]
    }
   ],
   "source": [
    "#34  WAP to print prime numbers in the range of m t0 n\n",
    "m=1\n",
    "n=100\n",
    "while m<=n:\n",
    "    s=1\n",
    "    k=m \n",
    "    count=0\n",
    "    while s<=k:\n",
    "        if k%s==0:\n",
    "            count+=1\n",
    "        s+=1\n",
    "    if count==2:\n",
    "        print(k)\n",
    "    m+=1\n",
    "\n",
    "\n",
    "\n",
    "\n",
    "\n"
   ]
  },
  {
   "cell_type": "code",
   "execution_count": 1,
   "metadata": {},
   "outputs": [
    {
     "name": "stdout",
     "output_type": "stream",
     "text": [
      "20 2432902008176640000\n",
      "21 51090942171709440000\n",
      "22 1124000727777607680000\n",
      "23 25852016738884976640000\n",
      "24 620448401733239439360000\n",
      "25 15511210043330985984000000\n"
     ]
    }
   ],
   "source": [
    "# 35 wap to print the factorial number in the range of m to n\n",
    "m=20\n",
    "n=25\n",
    "while m<=n:\n",
    "    s=1\n",
    "    pr=1\n",
    "    while s<=m:\n",
    "        pr*=s\n",
    "        s+=1\n",
    "    print(m,pr)\n",
    "    m+=1"
   ]
  },
  {
   "cell_type": "code",
   "execution_count": 1,
   "metadata": {},
   "outputs": [
    {
     "name": "stdout",
     "output_type": "stream",
     "text": [
      "15\n",
      "14\n",
      "13\n",
      "12\n",
      "11\n",
      "10\n",
      "9\n",
      "8\n",
      "7\n",
      "6\n",
      "5\n",
      "4\n",
      "3\n",
      "2\n",
      "1\n"
     ]
    }
   ],
   "source": [
    "#36  WAP GENERATE 15 TO 1\n",
    "m=15\n",
    "n=1\n",
    "while m>=n:\n",
    "    print(m)\n",
    "    m-=1"
   ]
  },
  {
   "cell_type": "code",
   "execution_count": 2,
   "metadata": {},
   "outputs": [
    {
     "name": "stdout",
     "output_type": "stream",
     "text": [
      "945\n"
     ]
    }
   ],
   "source": [
    "#37 wap to sum of odd values from 25 to 65\n",
    "m=25\n",
    "n=65\n",
    "sum=0\n",
    "while m<=n:\n",
    "    if m%2!=0:\n",
    "        sum+=m\n",
    "    m+=1\n",
    "print(sum)"
   ]
  },
  {
   "cell_type": "code",
   "execution_count": 4,
   "metadata": {},
   "outputs": [
    {
     "name": "stdout",
     "output_type": "stream",
     "text": [
      "2\n",
      "5 prime numner\n"
     ]
    }
   ],
   "source": [
    "#38 wap to check given number prime or not\n",
    "n=int(input(\"enter the no\"))\n",
    "m=1\n",
    "count=0\n",
    "while m<=n:\n",
    "    if n%m==0:\n",
    "        count+=1\n",
    "    m+=1\n",
    "print(count)\n",
    "if count==2:\n",
    "    print(n,\"prime numner\")\n",
    "else:\n",
    "    print(n,\"not a prime number\")"
   ]
  },
  {
   "cell_type": "code",
   "execution_count": 11,
   "metadata": {},
   "outputs": [
    {
     "name": "stdout",
     "output_type": "stream",
     "text": [
      "2\n",
      "62\n"
     ]
    }
   ],
   "source": [
    "# 39 WAP to print even factors of 62 number\n",
    "n=62\n",
    "m=1\n",
    "while m<=n:\n",
    "    if n%m==0 and m%2==0:\n",
    "        print(m)\n",
    "    m+=1"
   ]
  },
  {
   "cell_type": "code",
   "execution_count": 12,
   "metadata": {},
   "outputs": [
    {
     "name": "stdout",
     "output_type": "stream",
     "text": [
      "32\n",
      "not strong number\n"
     ]
    }
   ],
   "source": [
    "# 40 WAP TO check given number is strong or not\n",
    "n=234\n",
    "temp=n\n",
    "sum=0\n",
    "while n:\n",
    "    l=n%10\n",
    "    m=1\n",
    "    p=1\n",
    "    while m<=l:\n",
    "        p*=m\n",
    "        m+=1\n",
    "    sum+=p\n",
    "    n=n//10\n",
    "print(sum)\n",
    "if sum==temp:\n",
    "    print(\"strong numbe\")\n",
    "else:\n",
    "    print(\"not strong number\")"
   ]
  },
  {
   "cell_type": "code",
   "execution_count": 13,
   "metadata": {},
   "outputs": [
    {
     "name": "stdout",
     "output_type": "stream",
     "text": [
      "8\n",
      "1\n",
      "2\n",
      "4\n",
      "8\n"
     ]
    }
   ],
   "source": [
    "# 41 WAP TO sum of all the digits of given number and print factors of final result\n",
    "n=143\n",
    "sum=0\n",
    "m=1\n",
    "while n:\n",
    "    l=n%10\n",
    "    sum+=l\n",
    "    n=n//10\n",
    "print(sum)\n",
    "while m<=sum:\n",
    "    if sum%m==0:\n",
    "        print(m)\n",
    "    m+=1"
   ]
  },
  {
   "cell_type": "code",
   "execution_count": 4,
   "metadata": {},
   "outputs": [
    {
     "name": "stdout",
     "output_type": "stream",
     "text": [
      "3\n",
      "153\n",
      "armstrong number\n"
     ]
    }
   ],
   "source": [
    "#42 WAP to print armstrong number\n",
    "n=153\n",
    "count=0\n",
    "temp=n\n",
    "while temp:\n",
    "    count+=1\n",
    "    temp=temp//10\n",
    "print(count)\n",
    "a1=n\n",
    "sum=0\n",
    "while a1:\n",
    "    l=a1%10\n",
    "    sum+=l**count\n",
    "    a1=a1//10\n",
    "print(sum)\n",
    "if n==sum:\n",
    "    print(\"armstrong number\")\n",
    "else:\n",
    "    print(\"not armstrong number\")"
   ]
  },
  {
   "cell_type": "code",
   "execution_count": 2,
   "metadata": {},
   "outputs": [
    {
     "name": "stdout",
     "output_type": "stream",
     "text": [
      "8\n",
      "8\n",
      "spy number\n"
     ]
    }
   ],
   "source": [
    "#43 WAP to print spy number\n",
    "n=2114\n",
    "sum=0\n",
    "pr=1\n",
    "while n:\n",
    "    l=n%10\n",
    "    sum+=l\n",
    "    pr*=l\n",
    "    n=n//10\n",
    "print(sum)\n",
    "print(pr)\n",
    "if sum==pr:\n",
    "    print(\"spy number\")\n",
    "else:\n",
    "    print(\"not spy number\")"
   ]
  },
  {
   "cell_type": "code",
   "execution_count": 13,
   "metadata": {},
   "outputs": [
    {
     "name": "stdout",
     "output_type": "stream",
     "text": [
      "2\n",
      "3\n",
      "5\n",
      "7\n",
      "11\n",
      "13\n",
      "17\n",
      "19\n",
      "23\n",
      "29\n",
      "31\n",
      "37\n",
      "41\n",
      "43\n",
      "47\n",
      "53\n",
      "59\n",
      "61\n",
      "67\n",
      "71\n",
      "73\n",
      "79\n",
      "83\n",
      "89\n",
      "97\n"
     ]
    }
   ],
   "source": [
    "#44 WAP to print prime numbers from 1 to 100\n",
    "n=1\n",
    "m=100\n",
    "while n<=m:\n",
    "    x=1\n",
    "    count=0\n",
    "    while x<=n:\n",
    "        if n%x==0:\n",
    "            count+=1\n",
    "        x+=1\n",
    "    if count==2:\n",
    "        print(n)\n",
    "    n+=1\n",
    "   "
   ]
  },
  {
   "cell_type": "code",
   "execution_count": 19,
   "metadata": {},
   "outputs": [
    {
     "name": "stdout",
     "output_type": "stream",
     "text": [
      "1\n",
      "2\n",
      "24\n",
      "145\n"
     ]
    }
   ],
   "source": [
    "#45 WAP to print series of strong numbers from 1 to 2000\n",
    "m=1\n",
    "n=2000\n",
    "while m<=n:\n",
    "    te=m\n",
    "    sum=0\n",
    "    while te:\n",
    "        l=te%10\n",
    "        x=1\n",
    "        pr=1\n",
    "        while x<=l:\n",
    "            pr*=x\n",
    "            x+=1\n",
    "        sum+=pr\n",
    "        te=te//10\n",
    "        if sum==m:\n",
    "            print(m)\n",
    "    m+=1"
   ]
  },
  {
   "cell_type": "code",
   "execution_count": 21,
   "metadata": {},
   "outputs": [
    {
     "name": "stdout",
     "output_type": "stream",
     "text": [
      "1\n",
      "2\n",
      "3\n",
      "4\n",
      "5\n",
      "6\n",
      "7\n",
      "8\n",
      "9\n",
      "153\n",
      "370\n",
      "371\n",
      "407\n"
     ]
    }
   ],
   "source": [
    "#46 WAP to print armstrong no from 1 to 1000\n",
    "n=1\n",
    "m=1000\n",
    "while n<=m:\n",
    "    te=n\n",
    "    s=n\n",
    "    count=0\n",
    "    while te:\n",
    "        count+=1\n",
    "        te=te//10\n",
    "    sum=0\n",
    "    while s:\n",
    "        l=s%10\n",
    "        sum+=l**count\n",
    "        s=s//10\n",
    "    if sum==n:\n",
    "        print(n)\n",
    "    n+=1\n",
    "\n",
    "    "
   ]
  },
  {
   "cell_type": "code",
   "execution_count": 24,
   "metadata": {},
   "outputs": [
    {
     "name": "stdout",
     "output_type": "stream",
     "text": [
      "1\n",
      "2\n",
      "3\n",
      "4\n",
      "5\n",
      "6\n",
      "7\n",
      "8\n",
      "9\n",
      "22\n",
      "123\n",
      "132\n",
      "213\n",
      "231\n",
      "312\n",
      "321\n",
      "1124\n",
      "1142\n",
      "1214\n",
      "1241\n",
      "1412\n",
      "1421\n",
      "2114\n",
      "2141\n",
      "2411\n",
      "4112\n",
      "4121\n",
      "4211\n",
      "11125\n",
      "11133\n",
      "11152\n",
      "11215\n",
      "11222\n",
      "11251\n",
      "11313\n",
      "11331\n",
      "11512\n",
      "11521\n",
      "12115\n",
      "12122\n",
      "12151\n",
      "12212\n",
      "12221\n",
      "12511\n",
      "13113\n",
      "13131\n",
      "13311\n",
      "15112\n",
      "15121\n",
      "15211\n",
      "21115\n",
      "21122\n",
      "21151\n",
      "21212\n",
      "21221\n",
      "21511\n",
      "22112\n",
      "22121\n",
      "22211\n",
      "25111\n",
      "31113\n",
      "31131\n",
      "31311\n",
      "33111\n",
      "51112\n",
      "51121\n",
      "51211\n",
      "52111\n"
     ]
    }
   ],
   "source": [
    "#47 WAP to print series of spy numbersw from 1 to 100000\n",
    "n=1\n",
    "m=100000\n",
    "while n<=m:\n",
    "    te=n\n",
    "    s=0\n",
    "    p=1\n",
    "    while te:\n",
    "        l=te%10\n",
    "        s+=l\n",
    "        p*=l\n",
    "        te=te//10\n",
    "    if s==p:\n",
    "        print(n)\n",
    "    n+=1"
   ]
  },
  {
   "cell_type": "code",
   "execution_count": 10,
   "metadata": {},
   "outputs": [
    {
     "name": "stdout",
     "output_type": "stream",
     "text": [
      "153\n",
      "1\n",
      "4\n",
      "6\n",
      "8\n",
      "9\n",
      "10\n",
      "12\n",
      "14\n",
      "15\n",
      "16\n",
      "18\n",
      "20\n",
      "21\n",
      "22\n",
      "24\n",
      "25\n",
      "26\n",
      "27\n",
      "28\n",
      "30\n",
      "32\n",
      "33\n",
      "34\n",
      "35\n",
      "36\n",
      "38\n",
      "39\n",
      "40\n",
      "42\n",
      "44\n",
      "45\n",
      "46\n",
      "48\n",
      "49\n",
      "50\n",
      "51\n",
      "52\n",
      "54\n",
      "55\n",
      "56\n",
      "57\n",
      "58\n",
      "60\n",
      "62\n",
      "63\n",
      "64\n",
      "65\n",
      "66\n",
      "68\n",
      "69\n",
      "70\n",
      "72\n",
      "74\n",
      "75\n",
      "76\n",
      "77\n",
      "78\n",
      "80\n",
      "81\n",
      "82\n",
      "84\n",
      "85\n",
      "86\n",
      "87\n",
      "88\n",
      "90\n",
      "91\n",
      "92\n",
      "93\n",
      "94\n",
      "95\n",
      "96\n",
      "98\n",
      "99\n",
      "100\n",
      "102\n",
      "104\n",
      "105\n",
      "106\n",
      "108\n",
      "110\n",
      "111\n",
      "112\n",
      "114\n",
      "115\n",
      "116\n",
      "117\n",
      "118\n",
      "119\n",
      "120\n",
      "121\n",
      "122\n",
      "123\n",
      "124\n",
      "125\n",
      "126\n",
      "128\n",
      "129\n",
      "130\n",
      "132\n",
      "133\n",
      "134\n",
      "135\n",
      "136\n",
      "138\n",
      "140\n",
      "141\n",
      "142\n",
      "143\n",
      "144\n",
      "145\n",
      "146\n",
      "147\n",
      "148\n",
      "150\n",
      "152\n",
      "153\n"
     ]
    }
   ],
   "source": [
    "#48 wap to check given number is armstrong or not if armstrong print non prime numbers from 1 to given number\n",
    "m=1\n",
    "n=153\n",
    "te=n\n",
    "count=0\n",
    "while te:\n",
    "    count+=1\n",
    "    te=te//10\n",
    "sum=0\n",
    "ar=n\n",
    "while ar:\n",
    "    ld=ar%10\n",
    "    sum+=ld**count\n",
    "    ar=ar//10\n",
    "print(sum)\n",
    "if sum==n:\n",
    "    while m<=n:\n",
    "        r=1\n",
    "        num=0\n",
    "        while r<=m:\n",
    "            if m%r==0:\n",
    "                num+=1\n",
    "            r+=1\n",
    "        if num!=2:\n",
    "            print(m)\n",
    "        m+=1\n",
    "\n"
   ]
  },
  {
   "cell_type": "code",
   "execution_count": 4,
   "metadata": {},
   "outputs": [
    {
     "name": "stdout",
     "output_type": "stream",
     "text": [
      "45\n",
      "9\n"
     ]
    }
   ],
   "source": [
    "# 49 wap to print single digit output for given number using addition operation\n",
    "n=123456789\n",
    "tr=n\n",
    "while n>9:\n",
    "    sum=0\n",
    "    while n:\n",
    "        ld=n%10\n",
    "        sum+=ld\n",
    "        n=n//10\n",
    "    print(sum)\n",
    "    n=sum"
   ]
  },
  {
   "cell_type": "code",
   "execution_count": 5,
   "metadata": {},
   "outputs": [
    {
     "name": "stdout",
     "output_type": "stream",
     "text": [
      "5\n",
      "4\n"
     ]
    }
   ],
   "source": [
    "#50 WAP to exract middle value from the given number without type casting\n",
    "n=23456\n",
    "te=n\n",
    "count=0\n",
    "while n:\n",
    "    count+=1\n",
    "    n=n//10\n",
    "print(count)\n",
    "count=count//2\n",
    "while count:\n",
    "    te=te//10\n",
    "    count-=1\n",
    "ld=te%10\n",
    "print(ld)"
   ]
  },
  {
   "cell_type": "code",
   "execution_count": 6,
   "metadata": {},
   "outputs": [
    {
     "name": "stdout",
     "output_type": "stream",
     "text": [
      "1\n",
      "2\n",
      "3\n",
      "4\n",
      "5\n",
      "6\n",
      "7\n",
      "8\n",
      "9\n",
      "11\n",
      "22\n",
      "33\n",
      "44\n",
      "55\n",
      "66\n",
      "77\n",
      "88\n",
      "99\n",
      "101\n",
      "111\n",
      "121\n",
      "131\n",
      "141\n",
      "151\n",
      "161\n",
      "171\n",
      "181\n",
      "191\n",
      "202\n",
      "212\n",
      "222\n",
      "232\n",
      "242\n",
      "252\n",
      "262\n",
      "272\n",
      "282\n",
      "292\n",
      "303\n",
      "313\n",
      "323\n",
      "333\n",
      "343\n",
      "353\n",
      "363\n",
      "373\n",
      "383\n",
      "393\n",
      "404\n",
      "414\n",
      "424\n",
      "434\n",
      "444\n",
      "454\n",
      "464\n",
      "474\n",
      "484\n",
      "494\n",
      "505\n",
      "515\n",
      "525\n",
      "535\n",
      "545\n",
      "555\n",
      "565\n",
      "575\n",
      "585\n",
      "595\n",
      "606\n",
      "616\n",
      "626\n",
      "636\n",
      "646\n",
      "656\n",
      "666\n",
      "676\n",
      "686\n",
      "696\n",
      "707\n",
      "717\n",
      "727\n",
      "737\n",
      "747\n",
      "757\n",
      "767\n",
      "777\n",
      "787\n",
      "797\n",
      "808\n",
      "818\n",
      "828\n",
      "838\n",
      "848\n",
      "858\n",
      "868\n",
      "878\n",
      "888\n",
      "898\n",
      "909\n",
      "919\n",
      "929\n",
      "939\n",
      "949\n",
      "959\n",
      "969\n",
      "979\n",
      "989\n",
      "999\n",
      "1001\n",
      "1111\n",
      "1221\n",
      "1331\n",
      "1441\n",
      "1551\n",
      "1661\n",
      "1771\n",
      "1881\n",
      "1991\n",
      "2002\n",
      "2112\n",
      "2222\n",
      "2332\n",
      "2442\n",
      "2552\n",
      "2662\n",
      "2772\n",
      "2882\n",
      "2992\n",
      "3003\n",
      "3113\n",
      "3223\n",
      "3333\n",
      "3443\n",
      "3553\n",
      "3663\n",
      "3773\n",
      "3883\n",
      "3993\n",
      "4004\n",
      "4114\n",
      "4224\n",
      "4334\n",
      "4444\n",
      "4554\n",
      "4664\n",
      "4774\n",
      "4884\n",
      "4994\n",
      "5005\n",
      "5115\n",
      "5225\n",
      "5335\n",
      "5445\n",
      "5555\n",
      "5665\n",
      "5775\n",
      "5885\n",
      "5995\n",
      "6006\n",
      "6116\n",
      "6226\n",
      "6336\n",
      "6446\n",
      "6556\n",
      "6666\n",
      "6776\n",
      "6886\n",
      "6996\n",
      "7007\n",
      "7117\n",
      "7227\n",
      "7337\n",
      "7447\n",
      "7557\n",
      "7667\n",
      "7777\n",
      "7887\n",
      "7997\n",
      "8008\n",
      "8118\n",
      "8228\n",
      "8338\n",
      "8448\n",
      "8558\n",
      "8668\n",
      "8778\n",
      "8888\n",
      "8998\n",
      "9009\n",
      "9119\n",
      "9229\n",
      "9339\n",
      "9449\n",
      "9559\n",
      "9669\n",
      "9779\n",
      "9889\n",
      "9999\n"
     ]
    }
   ],
   "source": [
    "# 51 wap to print series of palindrome from 1 to 10000\n",
    "m=1\n",
    "n=10000\n",
    "while m<=n:\n",
    "    sum=0\n",
    "    temp=m\n",
    "    while temp:\n",
    "        ld=temp%10\n",
    "        sum=(sum*10)+ld\n",
    "        temp=temp//10\n",
    "    if sum==m:\n",
    "        print(m)\n",
    "    m+=1"
   ]
  },
  {
   "cell_type": "code",
   "execution_count": 9,
   "metadata": {},
   "outputs": [
    {
     "name": "stdout",
     "output_type": "stream",
     "text": [
      "webclasswebclasswebclasswebclasswebclasswebclasswebclasswebclasswebclasswebclass\n"
     ]
    }
   ],
   "source": [
    "# 52 wap to check whether length of string is even or odd .if even printthr string 10 times .if not printe 5 times\n",
    "st=\"webclass\"\n",
    "start=0\n",
    "count=0\n",
    "while start<len(st):\n",
    "    count+=1\n",
    "    start+=1\n",
    "if count%2==0:\n",
    "    print(10*st)\n",
    "else:\n",
    "    print(5*st)\n"
   ]
  },
  {
   "cell_type": "code",
   "execution_count": 8,
   "metadata": {},
   "outputs": [
    {
     "name": "stdout",
     "output_type": "stream",
     "text": [
      "8\n",
      "webclass\n",
      "webclass\n",
      "webclass\n",
      "webclass\n",
      "webclass\n",
      "webclass\n",
      "webclass\n",
      "webclass\n",
      "webclass\n",
      "webclass\n"
     ]
    }
   ],
   "source": [
    "#53 wap to check whether length of string is even or odd .if even printthr string 10 times .if not printe 5 times\n",
    "st=\"webclass\"\n",
    "start=0\n",
    "count=0\n",
    "while start<len(st):\n",
    "    count+=1\n",
    "    start+=1\n",
    "print(count)\n",
    "if count%2==0:\n",
    "    n=1\n",
    "    while n<=10:\n",
    "        print(st)\n",
    "        n+=1\n",
    "else:\n",
    "    n=1\n",
    "    while n<=5:\n",
    "        print(st)\n",
    "        n+=1"
   ]
  },
  {
   "cell_type": "code",
   "execution_count": 31,
   "metadata": {},
   "outputs": [
    {
     "name": "stdout",
     "output_type": "stream",
     "text": [
      "9\n"
     ]
    }
   ],
   "source": [
    "# 54 wap to sumthe primr numbers in given collection\n",
    "l=[0,2,4,6,4,7,1,8]\n",
    "start=0\n",
    "sum1=0\n",
    "while start<len(l):\n",
    "    k=l[start]\n",
    "    m=1\n",
    "    count=0\n",
    "    while m<=k:\n",
    "        if k%m==0:\n",
    "            count+=1\n",
    "        m+=1\n",
    "    if count==2:\n",
    "        sum1+=k\n",
    "    start+=1\n",
    "print(sum1)\n"
   ]
  },
  {
   "cell_type": "code",
   "execution_count": 35,
   "metadata": {},
   "outputs": [
    {
     "name": "stdout",
     "output_type": "stream",
     "text": [
      "A\n",
      "B\n",
      "C\n",
      "D\n",
      "E\n",
      "F\n",
      "G\n",
      "H\n",
      "I\n",
      "J\n",
      "K\n",
      "L\n",
      "M\n",
      "N\n",
      "O\n",
      "P\n",
      "Q\n",
      "R\n",
      "S\n",
      "T\n",
      "U\n",
      "V\n",
      "W\n",
      "X\n",
      "Y\n",
      "Z\n"
     ]
    }
   ],
   "source": [
    "# 55 WAP TO print uppercasecaharacter from A to Z using while loop\n",
    "start=65\n",
    "end=90\n",
    "while start<=end:\n",
    "    if 'A'<=chr(start)<='Z':\n",
    "        print(chr(start))\n",
    "    start+=1"
   ]
  },
  {
   "cell_type": "code",
   "execution_count": 1,
   "metadata": {},
   "outputs": [
    {
     "name": "stdout",
     "output_type": "stream",
     "text": [
      "a\n",
      "b\n",
      "c\n",
      "d\n",
      "e\n",
      "f\n",
      "g\n",
      "h\n",
      "i\n",
      "j\n",
      "k\n",
      "l\n",
      "m\n",
      "n\n",
      "o\n",
      "p\n",
      "q\n",
      "r\n",
      "s\n",
      "t\n",
      "u\n",
      "v\n",
      "w\n",
      "x\n",
      "y\n",
      "z\n"
     ]
    }
   ],
   "source": [
    "#56 WAP to print lowercase a to z char using while loop\n",
    "m=97\n",
    "n=122\n",
    "while m<=n:\n",
    "    if 'a'<=chr(m)<='z':\n",
    "        print(chr(m))\n",
    "    m+=1"
   ]
  },
  {
   "cell_type": "code",
   "execution_count": 4,
   "metadata": {},
   "outputs": [
    {
     "name": "stdout",
     "output_type": "stream",
     "text": [
      "0\n",
      "1\n",
      "2\n",
      "3\n",
      "4\n",
      "5\n",
      "6\n",
      "7\n",
      "8\n",
      "9\n"
     ]
    }
   ],
   "source": [
    "# 57WAP print asicc number chat from 0 to 9musing while loop\n",
    "n=48\n",
    "m=57\n",
    "while n<=m:\n",
    "    if '0'<=chr(n)<='9':\n",
    "        print(chr(n))\n",
    "    n+=1"
   ]
  },
  {
   "cell_type": "code",
   "execution_count": 1,
   "metadata": {},
   "outputs": [
    {
     "name": "stdout",
     "output_type": "stream",
     "text": [
      "F\n",
      "G\n",
      "H\n",
      "I\n",
      "J\n",
      "K\n",
      "L\n",
      "M\n",
      "N\n",
      "O\n",
      "P\n",
      "Q\n",
      "R\n",
      "S\n",
      "T\n",
      "U\n"
     ]
    }
   ],
   "source": [
    "#58 WAP TO print uppercasecaharacter from E to U using while loop\n",
    "start=70\n",
    "end=85\n",
    "while start<=end:\n",
    "    print(chr(start))\n",
    "    start+=1\n",
    "    "
   ]
  },
  {
   "cell_type": "code",
   "execution_count": 4,
   "metadata": {},
   "outputs": [
    {
     "name": "stdout",
     "output_type": "stream",
     "text": [
      "U\n",
      "T\n",
      "S\n",
      "R\n",
      "Q\n",
      "P\n",
      "O\n",
      "N\n",
      "M\n",
      "L\n",
      "K\n",
      "J\n",
      "I\n",
      "H\n",
      "G\n"
     ]
    }
   ],
   "source": [
    "#59 WAP TO print uppercasecaharacter from U to G using while loop\n",
    "n='U'\n",
    "m='G'\n",
    "while ord(n)>=ord(m):\n",
    "    print(n)\n",
    "    f=chr(ord(n)-1)\n",
    "    n=f\n"
   ]
  },
  {
   "cell_type": "code",
   "execution_count": 5,
   "metadata": {},
   "outputs": [
    {
     "name": "stdout",
     "output_type": "stream",
     "text": [
      "i\n",
      "j\n",
      "k\n",
      "l\n",
      "m\n",
      "n\n",
      "o\n",
      "p\n",
      "q\n",
      "r\n",
      "s\n",
      "t\n",
      "u\n",
      "v\n",
      "w\n",
      "x\n",
      "y\n"
     ]
    }
   ],
   "source": [
    "#60 WAP TO print lowerrcase caharacter from i to y using while loop\n",
    "s='i'\n",
    "e='y'\n",
    "while ord(s)<=ord(e):\n",
    "    print(s)\n",
    "    f=chr(ord(s)+1)\n",
    "    s=f"
   ]
  },
  {
   "cell_type": "code",
   "execution_count": 7,
   "metadata": {},
   "outputs": [
    {
     "name": "stdout",
     "output_type": "stream",
     "text": [
      "z\n",
      "y\n",
      "x\n",
      "w\n",
      "v\n",
      "u\n",
      "t\n",
      "s\n",
      "r\n",
      "q\n",
      "p\n",
      "o\n",
      "n\n",
      "m\n",
      "l\n",
      "k\n",
      "j\n",
      "i\n",
      "h\n",
      "g\n",
      "f\n",
      "e\n",
      "d\n",
      "c\n",
      "b\n",
      "a\n"
     ]
    }
   ],
   "source": [
    "# 61 WAP TO print lowercase caharacter from z to a using while loop\n",
    "s='z'\n",
    "e='a'\n",
    "while ord(s)>=ord(e):\n",
    "    print(s)\n",
    "    f=chr(ord(s)-1)\n",
    "    s=f"
   ]
  },
  {
   "cell_type": "code",
   "execution_count": 9,
   "metadata": {},
   "outputs": [
    {
     "name": "stdout",
     "output_type": "stream",
     "text": [
      "p\n",
      "o\n",
      "n\n",
      "m\n",
      "l\n",
      "k\n",
      "j\n",
      "i\n",
      "h\n",
      "g\n",
      "f\n",
      "e\n",
      "d\n",
      "c\n"
     ]
    }
   ],
   "source": [
    "# 62 WAP TO print lowercase caharacter from p to c using while loop\n",
    "s='p'\n",
    "e='c'\n",
    "while ord(s)>=ord(e):\n",
    "    print(s)\n",
    "    f=chr(ord(s)-1)\n",
    "    s=f"
   ]
  },
  {
   "cell_type": "code",
   "execution_count": 17,
   "metadata": {},
   "outputs": [
    {
     "name": "stdout",
     "output_type": "stream",
     "text": [
      "Z\n",
      "Y\n",
      "X\n",
      "W\n",
      "V\n",
      "U\n",
      "T\n",
      "S\n",
      "R\n",
      "Q\n",
      "P\n",
      "O\n",
      "N\n",
      "M\n",
      "L\n",
      "K\n",
      "J\n",
      "I\n",
      "H\n",
      "G\n",
      "F\n",
      "E\n",
      "D\n",
      "C\n",
      "B\n",
      "A\n"
     ]
    }
   ],
   "source": [
    "# 63 wap to print uppercase char from z to a\n",
    "n='Z'\n",
    "m='A'\n",
    "while ord(n)>=ord(m):\n",
    "    print(n)\n",
    "    f=chr(ord(n)-1)\n",
    "    n=f"
   ]
  },
  {
   "cell_type": "code",
   "execution_count": 6,
   "metadata": {},
   "outputs": [
    {
     "name": "stdout",
     "output_type": "stream",
     "text": [
      "B 66\n",
      "D 68\n",
      "F 70\n",
      "H 72\n",
      "J 74\n",
      "L 76\n",
      "N 78\n",
      "P 80\n",
      "R 82\n",
      "T 84\n",
      "V 86\n",
      "X 88\n",
      "Z 90\n"
     ]
    }
   ],
   "source": [
    "# 64 wap to print uppercase char based on even ascii values\n",
    "n=65\n",
    "m=90\n",
    "while n<=m:\n",
    "    if n%2==0:\n",
    "        print(chr(n),n)\n",
    "    n+=1"
   ]
  },
  {
   "cell_type": "code",
   "execution_count": 9,
   "metadata": {},
   "outputs": [
    {
     "name": "stdout",
     "output_type": "stream",
     "text": [
      "b\n",
      "d\n",
      "f\n",
      "h\n",
      "j\n",
      "l\n",
      "n\n",
      "p\n",
      "r\n",
      "t\n",
      "v\n",
      "x\n",
      "z\n"
     ]
    }
   ],
   "source": [
    "# 65 wap to print lowercase char based on even ascii values\n",
    "n=97\n",
    "m=122\n",
    "while n<=m:\n",
    "    if n%2==0:\n",
    "        print(chr(n))\n",
    "    n+=1"
   ]
  },
  {
   "cell_type": "code",
   "execution_count": 10,
   "metadata": {},
   "outputs": [
    {
     "name": "stdout",
     "output_type": "stream",
     "text": [
      "A\n",
      "C\n",
      "E\n",
      "G\n",
      "I\n",
      "K\n",
      "M\n",
      "O\n",
      "Q\n",
      "S\n",
      "U\n",
      "W\n",
      "Y\n"
     ]
    }
   ],
   "source": [
    "# 66 wap to print uppercase char based on odd ascii values\n",
    "n=65\n",
    "m=90\n",
    "while n<=m:\n",
    "    if n%2!=0:\n",
    "        print(chr(n))\n",
    "    n+=1"
   ]
  },
  {
   "cell_type": "code",
   "execution_count": 11,
   "metadata": {},
   "outputs": [
    {
     "name": "stdout",
     "output_type": "stream",
     "text": [
      "a\n",
      "c\n",
      "e\n",
      "g\n",
      "i\n",
      "k\n",
      "m\n",
      "o\n",
      "q\n",
      "s\n",
      "u\n",
      "w\n",
      "y\n"
     ]
    }
   ],
   "source": [
    "# 67 wap to print lowercase char based on odd ascii values\n",
    "n=97\n",
    "m=122\n",
    "while n<=m:\n",
    "    if n%2!=0:\n",
    "        print(chr(n))\n",
    "    n+=1"
   ]
  },
  {
   "cell_type": "code",
   "execution_count": 15,
   "metadata": {},
   "outputs": [
    {
     "name": "stdout",
     "output_type": "stream",
     "text": [
      "a\n",
      "b\n",
      "c\n",
      "d\n",
      "e\n",
      "f\n",
      "g\n",
      "h\n",
      "i\n",
      "j\n",
      "k\n",
      "l\n",
      "m\n",
      "n\n",
      "o\n",
      "p\n",
      "q\n",
      "r\n",
      "s\n",
      "t\n",
      "u\n",
      "v\n",
      "w\n",
      "x\n",
      "y\n",
      "z\n"
     ]
    }
   ],
   "source": [
    "# 68 wap to print lowercase char without using ascii value\n",
    "s='a'\n",
    "d='z'\n",
    "while ord(s)<=ord(d):\n",
    "    print(s)\n",
    "    f=chr(ord(s)+1)\n",
    "    s=f\n"
   ]
  },
  {
   "cell_type": "code",
   "execution_count": 16,
   "metadata": {},
   "outputs": [
    {
     "name": "stdout",
     "output_type": "stream",
     "text": [
      "A\n",
      "B\n",
      "C\n",
      "D\n",
      "E\n",
      "F\n",
      "G\n",
      "H\n",
      "I\n",
      "J\n",
      "K\n",
      "L\n",
      "M\n",
      "N\n",
      "O\n",
      "P\n",
      "Q\n",
      "R\n",
      "S\n",
      "T\n",
      "U\n",
      "V\n",
      "W\n",
      "X\n",
      "Y\n",
      "Z\n"
     ]
    }
   ],
   "source": [
    "# 69 wap to print uppercase char without using ascii value\n",
    "n='A'\n",
    "m='Z'\n",
    "while ord(n)<=ord(m):\n",
    "    print(n)\n",
    "    ne=chr(ord(n)+1)\n",
    "    n=ne"
   ]
  },
  {
   "cell_type": "code",
   "execution_count": 23,
   "metadata": {},
   "outputs": [
    {
     "name": "stdout",
     "output_type": "stream",
     "text": [
      "B\n",
      "D\n",
      "F\n",
      "H\n",
      "J\n",
      "L\n",
      "N\n",
      "P\n",
      "R\n",
      "T\n",
      "V\n",
      "X\n",
      "Z\n"
     ]
    }
   ],
   "source": [
    "# 70 WAP to print all even char from A to Z\n",
    "n='A'\n",
    "m='Z'\n",
    "while ord(n)<=ord(m):\n",
    "    if ord(n)%2==0:\n",
    "        print(n)\n",
    "    f=chr(ord(n)+1)\n",
    "    n=f"
   ]
  },
  {
   "cell_type": "code",
   "execution_count": 24,
   "metadata": {},
   "outputs": [
    {
     "name": "stdout",
     "output_type": "stream",
     "text": [
      "a\n",
      "c\n",
      "e\n",
      "g\n",
      "i\n",
      "k\n",
      "m\n",
      "o\n",
      "q\n",
      "s\n",
      "u\n",
      "w\n",
      "y\n"
     ]
    }
   ],
   "source": [
    "# 71 wap to print odd char fron a to z\n",
    "n='a'\n",
    "m='z'\n",
    "while ord(n)<=ord(m):\n",
    "    if ord(n)%2!=0:\n",
    "        print(n)\n",
    "    f=chr(ord(n)+1)\n",
    "    n=f"
   ]
  },
  {
   "cell_type": "code",
   "execution_count": 28,
   "metadata": {},
   "outputs": [
    {
     "name": "stdout",
     "output_type": "stream",
     "text": [
      "4\n"
     ]
    }
   ],
   "source": [
    "# 72 WAP to count the no of vowels present in D to V\n",
    "start='D'\n",
    "end='V'\n",
    "count=0\n",
    "while ord(start)<=ord(end):\n",
    "    if start in 'EIOU':\n",
    "        count+=1\n",
    "    f=chr(ord(start)+1)\n",
    "    start=f\n",
    "print(count)"
   ]
  },
  {
   "cell_type": "code",
   "execution_count": 2,
   "metadata": {},
   "outputs": [
    {
     "name": "stdout",
     "output_type": "stream",
     "text": [
      "4\n"
     ]
    }
   ],
   "source": [
    "# 73 WAP to count the no of vowels present in u to e\n",
    "n='u'\n",
    "end='e'\n",
    "count=0\n",
    "while ord(n)>=ord(end):\n",
    "    if n in 'aeiou':\n",
    "        count+=1\n",
    "    f=chr(ord(n)-1)\n",
    "    n=f\n",
    "print(count)"
   ]
  },
  {
   "cell_type": "code",
   "execution_count": 39,
   "metadata": {},
   "outputs": [
    {
     "name": "stdout",
     "output_type": "stream",
     "text": [
      "9\n",
      "36\n",
      "81\n"
     ]
    }
   ],
   "source": [
    "# 74 wap TO print square of the number in between the range m to n which is divisible by 3\n",
    "m=1\n",
    "n=10\n",
    "while m<=n:\n",
    "    if m%3==0:\n",
    "        print(m**2)\n",
    "    m+=1"
   ]
  },
  {
   "cell_type": "code",
   "execution_count": 40,
   "metadata": {},
   "outputs": [
    {
     "name": "stdout",
     "output_type": "stream",
     "text": [
      "345\n",
      "350\n",
      "355\n",
      "360\n",
      "365\n",
      "370\n",
      "375\n",
      "380\n",
      "385\n",
      "390\n",
      "395\n",
      "400\n",
      "405\n",
      "410\n",
      "415\n",
      "420\n",
      "425\n",
      "430\n",
      "435\n",
      "440\n",
      "445\n",
      "450\n",
      "455\n",
      "460\n",
      "465\n",
      "470\n",
      "475\n",
      "480\n",
      "485\n",
      "490\n",
      "495\n",
      "500\n",
      "505\n",
      "510\n",
      "515\n",
      "520\n",
      "525\n",
      "530\n",
      "535\n",
      "540\n",
      "545\n",
      "550\n",
      "555\n",
      "560\n",
      "565\n",
      "570\n",
      "575\n",
      "580\n",
      "585\n",
      "590\n",
      "595\n",
      "600\n",
      "605\n",
      "610\n",
      "615\n",
      "620\n",
      "625\n",
      "630\n",
      "635\n",
      "640\n",
      "645\n",
      "650\n",
      "655\n",
      "660\n",
      "665\n",
      "670\n",
      "675\n",
      "680\n",
      "685\n",
      "690\n",
      "695\n",
      "700\n",
      "705\n",
      "710\n",
      "715\n",
      "720\n",
      "725\n",
      "730\n",
      "735\n",
      "740\n",
      "745\n",
      "750\n",
      "755\n",
      "760\n",
      "765\n",
      "770\n",
      "775\n",
      "780\n",
      "785\n"
     ]
    }
   ],
   "source": [
    "# 75 wap TO print number in between the range m to n which is divisible by 5\n",
    "m=345\n",
    "n=789\n",
    "while m<=n:\n",
    "    if m%5==0:\n",
    "        print(m)\n",
    "    m+=1\n"
   ]
  },
  {
   "cell_type": "code",
   "execution_count": 44,
   "metadata": {},
   "outputs": [
    {
     "name": "stdout",
     "output_type": "stream",
     "text": [
      "36\n",
      "9\n"
     ]
    }
   ],
   "source": [
    "# 76 Write a program which takes an integer number and find the sum of digits and \n",
    "#repeat until the sum gets a single digit in the end.\n",
    "#Example:\n",
    "#nput 5643\n",
    " \n",
    "#Example:\n",
    " #5+6+4+3 =>18 \n",
    " #1+8=>9\n",
    "n=12345678\n",
    "while n>9:\n",
    "    sum1=0\n",
    "    while n:\n",
    "        ld=n%10\n",
    "        sum1+=ld\n",
    "        n=n//10\n",
    "    print(sum1)\n",
    "    n=sum1\n",
    "\n",
    "\n"
   ]
  },
  {
   "cell_type": "code",
   "execution_count": 21,
   "metadata": {},
   "outputs": [
    {
     "name": "stdout",
     "output_type": "stream",
     "text": [
      "14\n"
     ]
    }
   ],
   "source": [
    "#77 wap to count no of 2's between 0 and given number\n",
    "n=35\n",
    "s=0\n",
    "c=0\n",
    "while s<=n:\n",
    "    m=s\n",
    "    while m:\n",
    "        if m%10==2:\n",
    "            c+=1\n",
    "        m=m//10\n",
    "    s+=1\n",
    "print(c)\n",
    "\n"
   ]
  },
  {
   "cell_type": "code",
   "execution_count": null,
   "metadata": {},
   "outputs": [],
   "source": [
    "# 78 WAP to find max product of three numbers from the given integer array\n",
    "# input array()=6,3,2,0,10\n",
    "# example:10*6*3\n",
    "# op=180\n",
    "\n"
   ]
  }
 ],
 "metadata": {
  "kernelspec": {
   "display_name": "Python 3",
   "language": "python",
   "name": "python3"
  },
  "language_info": {
   "codemirror_mode": {
    "name": "ipython",
    "version": 3
   },
   "file_extension": ".py",
   "mimetype": "text/x-python",
   "name": "python",
   "nbconvert_exporter": "python",
   "pygments_lexer": "ipython3",
   "version": "3.11.4"
  },
  "orig_nbformat": 4
 },
 "nbformat": 4,
 "nbformat_minor": 2
}
