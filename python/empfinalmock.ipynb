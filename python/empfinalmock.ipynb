{
 "cells": [
  {
   "cell_type": "code",
   "execution_count": 32,
   "metadata": {},
   "outputs": [
    {
     "name": "stdout",
     "output_type": "stream",
     "text": [
      "sravani 9391104228 95000 developer stravs@gmail.com 1001\n",
      "emp name: sravya\n",
      "emp phone: 966634567\n",
      "emp salary: 85000\n",
      "emp domine: software developer\n",
      "emp email: sravya@123\n",
      "98800.0\n",
      "salray hikee is upto 4%\n"
     ]
    }
   ],
   "source": [
    "class company:\n",
    "    cname='TCS'\n",
    "    ccode='TCS123'\n",
    "    loc='Hyderabad'\n",
    "    emp_count=0\n",
    "    emp_details={}\n",
    "    salhike=0\n",
    "    #all=[]\n",
    "    def __init__(self,ename,phone,salary,domine,email):\n",
    "        self.ename=ename\n",
    "        self.phone=phone\n",
    "        self.salary=salary\n",
    "        self.domine=domine\n",
    "        self.email=email\n",
    "        self.inc_count()\n",
    "        self.emp_id=1000+self.emp_count\n",
    "        self.conc_emp_details(self.emp_id,self)\n",
    "        #self.all+=[self]\n",
    "\n",
    "    @classmethod\n",
    "    def inc_count(cls):\n",
    "        cls.emp_count+=1\n",
    "    @classmethod\n",
    "    def conc_emp_details(cls,id,self):\n",
    "        cls.emp_details[id]=self\n",
    "    \n",
    "    def displaylistofemp(self):\n",
    "        #if self in self.all:\n",
    "        print(self.ename,self.phone,self.salary,self.domine,self.email,self.emp_id)\n",
    "    \n",
    "    def display(self):\n",
    "        n=int(input(\"enter empid\"))\n",
    "        if n in self.emp_details:\n",
    "            res=self.emp_details[n]\n",
    "        print(\"emp name:\",res.ename)\n",
    "        print(\"emp phone:\",res.phone)\n",
    "        print(\"emp salary:\",res.salary)\n",
    "        print(\"emp domine:\",res.domine)\n",
    "        print(\"emp email:\",res.email)\n",
    "    def salhike(self):\n",
    "        print((self.salary*4)/100+self.salary)\n",
    "        self.sucess()\n",
    "    @staticmethod\n",
    "    def sucess():\n",
    "        print(\"salray hikee is upto 4%\")\n",
    "    @classmethod\n",
    "    def main(cls,self):\n",
    "        n=int(input(\"choose the option:\\n1.listofemp\\n2.displayspefic\\n3.salhike\\4.exit\"))\n",
    "        match n:\n",
    "            case 1:\n",
    "                self.displaylistofemp()\n",
    "            case 2:\n",
    "                self.display()\n",
    "            case 3:\n",
    "                self.salhike()\n",
    "            case _:\n",
    "                return\n",
    "        return cls.main(self)\n",
    "#company.main()\n",
    "#company.displaylistofemp(e1)\n",
    "\n",
    "e1=company('sravani',9391104228,95000,'developer','stravs@gmail.com')\n",
    "e2=company('sravya',966634567,85000,'software developer','sravya@123')\n",
    "#company.display(e1)\n",
    "#company.salhike(e1)\n",
    "def home(cls):\n",
    "    n=int(input(\"enter id\"))\n",
    "    if n in cls.emp_details:\n",
    "        self=cls.emp_details[n]\n",
    "        cls.main(self)\n",
    "home(company)\n",
    "\n",
    "    \n",
    "\n",
    "\n",
    "    "
   ]
  },
  {
   "cell_type": "code",
   "execution_count": 33,
   "metadata": {},
   "outputs": [
    {
     "name": "stdout",
     "output_type": "stream",
     "text": [
      "2\n",
      "3\n",
      "5\n",
      "7\n"
     ]
    }
   ],
   "source": [
    "# wap to print series of prime no\n",
    "m=1\n",
    "n=10\n",
    "while m<=n:\n",
    "    p=m\n",
    "    i=1\n",
    "    count=0\n",
    "    while i<=p:\n",
    "        if p%i==0:\n",
    "            count+=1\n",
    "        i+=1\n",
    "    if count==2:\n",
    "        print(m)\n",
    "    m+=1\n",
    "    \n"
   ]
  },
  {
   "cell_type": "code",
   "execution_count": null,
   "metadata": {},
   "outputs": [],
   "source": [
    "for i in range(1,11):\n",
    "    m=i\n",
    "    c=0\n",
    "    for x in range(2,m):\n",
    "        if m%x==0:\n",
    "            pass"
   ]
  }
 ],
 "metadata": {
  "kernelspec": {
   "display_name": "Python 3",
   "language": "python",
   "name": "python3"
  },
  "language_info": {
   "codemirror_mode": {
    "name": "ipython",
    "version": 3
   },
   "file_extension": ".py",
   "mimetype": "text/x-python",
   "name": "python",
   "nbconvert_exporter": "python",
   "pygments_lexer": "ipython3",
   "version": "3.11.4"
  }
 },
 "nbformat": 4,
 "nbformat_minor": 2
}
