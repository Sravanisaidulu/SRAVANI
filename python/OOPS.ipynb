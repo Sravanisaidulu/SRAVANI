{
 "cells": [
  {
   "cell_type": "code",
   "execution_count": 2,
   "metadata": {},
   "outputs": [
    {
     "data": {
      "text/plain": [
       "mappingproxy({'__module__': '__main__',\n",
       "              '__dict__': <attribute '__dict__' of 'Apple' objects>,\n",
       "              '__weakref__': <attribute '__weakref__' of 'Apple' objects>,\n",
       "              '__doc__': None})"
      ]
     },
     "execution_count": 2,
     "metadata": {},
     "output_type": "execute_result"
    }
   ],
   "source": [
    "class Apple:\n",
    "    pass\n",
    "Apple.__dict__"
   ]
  },
  {
   "cell_type": "code",
   "execution_count": 6,
   "metadata": {},
   "outputs": [
    {
     "name": "stdout",
     "output_type": "stream",
     "text": [
      "<class '__main__.apple'>\n",
      "3122866825072\n",
      "<class 'type'>\n"
     ]
    }
   ],
   "source": [
    "class apple:\n",
    "    price=10\n",
    "    color=\"red\"\n",
    "    shape=\"apple shape\"\n",
    "print(apple)\n",
    "print(id(apple))\n",
    "print(type(apple))\n"
   ]
  },
  {
   "cell_type": "code",
   "execution_count": 7,
   "metadata": {},
   "outputs": [
    {
     "name": "stdout",
     "output_type": "stream",
     "text": [
      "{}\n",
      "oneplus {'model': 'oneplus 11', 'ram': '16gb', 'rom': '256gb', 'processor': 'mediatak 8', 'price': 45000, 'IMEI': 'on123456'}\n"
     ]
    }
   ],
   "source": [
    "class mobile:\n",
    "    cname=\"oneplus\"\n",
    "    model=None\n",
    "    ram=None\n",
    "    rom=None\n",
    "    processor=None\n",
    "    price=None\n",
    "    IMEI=None\n",
    "obj1=mobile()\n",
    "print(obj1.__dict__)\n",
    "\n",
    "    \n",
    "obj1.model=\"oneplus 11\"\n",
    "obj1.ram=\"16gb\"\n",
    "obj1.rom=\"256gb\"\n",
    "obj1.processor=\"mediatak 8\"\n",
    "obj1.price=45000\n",
    "obj1.IMEI=\"on123456\"\n",
    "print(obj1.cname,obj1.__dict__)\n"
   ]
  },
  {
   "cell_type": "code",
   "execution_count": 9,
   "metadata": {},
   "outputs": [
    {
     "name": "stdout",
     "output_type": "stream",
     "text": [
      "{}\n",
      "oneplus {'model': 'oneplus 11', 'ram': '16gb', 'rom': '256gb', 'processor': 'mediatak 8', 'price': 45000, 'IMEI': 'on123456'}\n"
     ]
    }
   ],
   "source": [
    "class mobile:\n",
    "    cname=\"oneplus\"\n",
    "    model=None\n",
    "    ram=None\n",
    "    rom=None\n",
    "    processor=None\n",
    "    price=None\n",
    "    IMEI=None\n",
    "obj1=mobile()\n",
    "def create(self,m_model,m_ram,m_rom,m_processor,m_price,m_IMEI):\n",
    "    print(self.__dict__)\n",
    "    self.model=m_model\n",
    "    self.ram=m_ram\n",
    "    self.rom=m_rom\n",
    "    self.processor=m_processor\n",
    "    self.price=m_price\n",
    "    self.IMEI=m_IMEI\n",
    "    print(self.cname,self.__dict__)\n",
    "create(obj1,\"oneplus 11\",\"16gb\",\"256gb\",\"mediatak 8\",45000,\"on123456\")"
   ]
  },
  {
   "cell_type": "code",
   "execution_count": 13,
   "metadata": {},
   "outputs": [
    {
     "name": "stdout",
     "output_type": "stream",
     "text": [
      "{}\n",
      "oneplus {'model': 'oneplus 11', 'ram': '16gb', 'rom': '256gb', 'processor': 'mediatak 8', 'price': 45000, 'IMEI': 'on123456'}\n"
     ]
    }
   ],
   "source": [
    "class mobile:\n",
    "    cname=\"oneplus\"\n",
    "    def create(self,m_model,m_ram,m_rom,m_processor,m_price,m_IMEI):\n",
    "        print(self.__dict__)\n",
    "        self.model=m_model\n",
    "        self.ram=m_ram\n",
    "        self.rom=m_rom\n",
    "        self.processor=m_processor\n",
    "        self.price=m_price\n",
    "        self.IMEI=m_IMEI\n",
    "        print(self.cname,self.__dict__)\n",
    "obj9=mobile()\n",
    "create(obj9,\"oneplus 11\",\"16gb\",\"256gb\",\"mediatak 8\",45000,\"on123456\")"
   ]
  },
  {
   "cell_type": "code",
   "execution_count": 16,
   "metadata": {},
   "outputs": [
    {
     "name": "stdout",
     "output_type": "stream",
     "text": [
      "{}\n",
      "oneplus {'model': 'oneplus 11', 'ram': '16gb', 'rom': '256gb', 'processor': 'mediatak 8', 'price': 45000, 'IMEI': 'on123456'}\n"
     ]
    }
   ],
   "source": [
    "class mobile:\n",
    "    cname=\"oneplus\"\n",
    "    def __init__(self,m_model,m_ram,m_rom,m_processor,m_price,m_IMEI):\n",
    "        print(self.__dict__)\n",
    "        self.model=m_model\n",
    "        self.ram=m_ram\n",
    "        self.rom=m_rom\n",
    "        self.processor=m_processor\n",
    "        self.price=m_price\n",
    "        self.IMEI=m_IMEI\n",
    "        print(self.cname,self.__dict__)\n",
    "obj9=mobile(\"oneplus 11\",\"16gb\",\"256gb\",\"mediatak 8\",45000,\"on123456\")"
   ]
  },
  {
   "cell_type": "code",
   "execution_count": 5,
   "metadata": {},
   "outputs": [
    {
     "name": "stdout",
     "output_type": "stream",
     "text": [
      "{'__module__': '__main__', 'id': 451, 'name': 'sravani', 'email': 'sravs@gmail.com', 'phone': 9391104228, '__dict__': <attribute '__dict__' of 'students' objects>, '__weakref__': <attribute '__weakref__' of 'students' objects>, '__doc__': None}\n",
      "sravani 451 sravs@gmail.com 9391104228\n",
      "sravani 456 sravs@gmail.com 9391104228\n",
      "{'__module__': '__main__', 'id': 456, 'name': 'sravani', 'email': 'sravs@gmail.com', 'phone': 9391104228, '__dict__': <attribute '__dict__' of 'students' objects>, '__weakref__': <attribute '__weakref__' of 'students' objects>, '__doc__': None, 'branch': 'ECE'}\n",
      "sravani 456 sravs@gmail.com 9391104228 ECE\n",
      "{'__module__': '__main__', 'id': 456, 'name': 'sravani', 'email': 'sravs@gmail.com', '__dict__': <attribute '__dict__' of 'students' objects>, '__weakref__': <attribute '__weakref__' of 'students' objects>, '__doc__': None, 'branch': 'ECE'}\n"
     ]
    },
    {
     "ename": "AttributeError",
     "evalue": "type object 'students' has no attribute 'phone'",
     "output_type": "error",
     "traceback": [
      "\u001b[1;31m---------------------------------------------------------------------------\u001b[0m",
      "\u001b[1;31mAttributeError\u001b[0m                            Traceback (most recent call last)",
      "\u001b[1;32mc:\\Users\\sravani\\OneDrive\\Documents\\GitHub\\SRAVANI\\python\\OOPS.ipynb Cell 7\u001b[0m line \u001b[0;36m2\n\u001b[0;32m     <a href='vscode-notebook-cell:/c%3A/Users/sravani/OneDrive/Documents/GitHub/SRAVANI/python/OOPS.ipynb#W6sZmlsZQ%3D%3D?line=18'>19</a>\u001b[0m \u001b[39mdel\u001b[39;00m students\u001b[39m.\u001b[39mphone                                                             \u001b[39m# delete\u001b[39;00m\n\u001b[0;32m     <a href='vscode-notebook-cell:/c%3A/Users/sravani/OneDrive/Documents/GitHub/SRAVANI/python/OOPS.ipynb#W6sZmlsZQ%3D%3D?line=19'>20</a>\u001b[0m \u001b[39mprint\u001b[39m(students\u001b[39m.\u001b[39m\u001b[39m__dict__\u001b[39m)\n\u001b[1;32m---> <a href='vscode-notebook-cell:/c%3A/Users/sravani/OneDrive/Documents/GitHub/SRAVANI/python/OOPS.ipynb#W6sZmlsZQ%3D%3D?line=20'>21</a>\u001b[0m \u001b[39mprint\u001b[39m(students\u001b[39m.\u001b[39mname,students\u001b[39m.\u001b[39mid,students\u001b[39m.\u001b[39memail,students\u001b[39m.\u001b[39;49mphone,students\u001b[39m.\u001b[39mbranch)\n",
      "\u001b[1;31mAttributeError\u001b[0m: type object 'students' has no attribute 'phone'"
     ]
    }
   ],
   "source": [
    "# states\n",
    "#                generic states or static states or class attributes\n",
    "class students:\n",
    "    id=451                                                    #initialization\n",
    "    name='sravani'                                     #initialization\n",
    "    email='sravs@gmail.com'              #initialization\n",
    "    phone=9391104228              #initialization\n",
    "\n",
    "print(students.__dict__)\n",
    "print(students.name,students.id,students.email,students.phone)           # fetch\n",
    "\n",
    "students.id=456\n",
    "print(students.name,students.id,students.email,students.phone)        # modification\n",
    "\n",
    "students.branch='ECE'                                                   # concat\n",
    "print(students.__dict__)\n",
    "print(students.name,students.id,students.email,students.phone,students.branch)\n",
    "\n",
    "del students.phone                                                             # delete\n",
    "print(students.__dict__)\n",
    "print(students.name,students.id,students.email,students.phone,students.branch)\n",
    "\n"
   ]
  },
  {
   "cell_type": "code",
   "execution_count": 9,
   "metadata": {},
   "outputs": [
    {
     "name": "stdout",
     "output_type": "stream",
     "text": [
      "{'name': 'sravya', 'surnmae': 'suragani', 'adress': 'hyderabad', 'job': 'software'}\n",
      "sravya suragani hyderabad software\n",
      "sravya suragani hyderabad software developer\n",
      "sravya suragani hyderabad software developer ORST234G2\n",
      "{'name': 'sravya', 'surnmae': 'suragani', 'job': 'software developer', 'pan': 'ORST234G2'}\n"
     ]
    }
   ],
   "source": [
    "#               SPECIFIC STATES\n",
    "#              specific state or non static state \n",
    "class human:\n",
    "    def __init__(self,h_name,h_surname,h_adress,h_occupation):\n",
    "        self.name=h_name\n",
    "        self.surnmae=h_surname\n",
    "        self.adress=h_adress\n",
    "        self.job=h_occupation\n",
    "obj=human(\"sravya\",\"suragani\",\"hyderabad\",'software')\n",
    "print(obj.__dict__)\n",
    "print(obj.name,obj.surnmae,obj.adress,obj.job)                             #fetch\n",
    "\n",
    "obj.job=\"software developer\"                                                # modification\n",
    "print(obj.name,obj.surnmae,obj.adress,obj.job)\n",
    "\n",
    "obj.pan=\"ORST234G2\"                                                        # concatination\n",
    "print(obj.name,obj.surnmae,obj.adress,obj.job,obj.pan)\n",
    "\n",
    "del obj.adress                                                              # delete\n",
    "print(obj.__dict__)\n"
   ]
  },
  {
   "cell_type": "code",
   "execution_count": 15,
   "metadata": {},
   "outputs": [],
   "source": [
    "class family:\n",
    "    surname=\"suragani\"\n",
    "    adress=\"pune\"\n",
    "    ration=\"tsap13456\"\n",
    "    gothram=\"kamandala\"\n",
    "    list_detalis=[]\n",
    "    def __init__(self,f_name,f_age,f_pan):\n",
    "        self.name=f_name\n",
    "        self.age=f_age\n",
    "        self.pan=f_pan\n",
    "        self.list_detalis+=[self]\n",
    "    #def display(self):\n",
    "    #    print(self.surname,self.adress,self.ration,self.gothram,self.name,self.age,self.pan)\n",
    "    def list_d(self):\n",
    "        for self in self.list_detalis:\n",
    "            print(self.surname,self.adress,self.ration,self.gothram,self.name,self.age,self.pan)\n",
    "father=family(\"saidulu\",33,'qwed1234f')\n",
    "mother=family(\"srilaxmi\",30,\"vbgfht12345\")\n",
    "daughter1=family(\"sravani\",22,\"efgrt1324htjyuy\")\n",
    "daughter2=family(\"sravya\",20,\"qwe1234gfgnh\")\n",
    "#father.display()\n",
    "\n",
    "\n",
    "        "
   ]
  },
  {
   "cell_type": "code",
   "execution_count": 1,
   "metadata": {},
   "outputs": [
    {
     "name": "stdout",
     "output_type": "stream",
     "text": [
      "10 20\n"
     ]
    }
   ],
   "source": [
    "#                          INHERITANCE \n",
    "#                            SINGLE LEVEL INHERITANCE\n",
    "class a:\n",
    "    x=10\n",
    "    y=20\n",
    "class b(a):\n",
    "    pass\n",
    "print(b.x,b.y)"
   ]
  },
  {
   "cell_type": "code",
   "execution_count": 2,
   "metadata": {},
   "outputs": [
    {
     "name": "stdout",
     "output_type": "stream",
     "text": [
      "10 20 100 200\n"
     ]
    }
   ],
   "source": [
    "class a:\n",
    "    x=10\n",
    "    y=20\n",
    "class b(a):\n",
    "    m=100\n",
    "    n=200\n",
    "print(b.x,b.y,b.m,b.n)"
   ]
  },
  {
   "cell_type": "code",
   "execution_count": 3,
   "metadata": {},
   "outputs": [
    {
     "name": "stdout",
     "output_type": "stream",
     "text": [
      "{'__module__': '__main__', 'a': 10, 'b': 20, '__dict__': <attribute '__dict__' of 'sample' objects>, '__weakref__': <attribute '__weakref__' of 'sample' objects>, '__doc__': None}\n",
      "10 20\n",
      "{'__module__': '__main__', '__doc__': None}\n",
      "10 20\n"
     ]
    }
   ],
   "source": [
    "class sample:\n",
    "    a=10\n",
    "    b=20\n",
    "print(sample.__dict__)\n",
    "print(sample.a,sample.b)\n",
    "class demo(sample):\n",
    "    pass\n",
    "print(demo.__dict__)\n",
    "print(demo.a,demo.b)"
   ]
  },
  {
   "cell_type": "code",
   "execution_count": 4,
   "metadata": {},
   "outputs": [
    {
     "name": "stdout",
     "output_type": "stream",
     "text": [
      "{'__module__': '__main__', 'a': 10, 'b': 20, '__dict__': <attribute '__dict__' of 'sample' objects>, '__weakref__': <attribute '__weakref__' of 'sample' objects>, '__doc__': None}\n",
      "10 20\n",
      "{'__module__': '__main__', 'b': 1500, '__doc__': None}\n",
      "10 1500\n"
     ]
    }
   ],
   "source": [
    "class sample:\n",
    "    a=10\n",
    "    b=20\n",
    "print(sample.__dict__)\n",
    "print(sample.a,sample.b)\n",
    "class demo(sample):\n",
    "    b=1500\n",
    "print(demo.__dict__)\n",
    "print(demo.a,demo.b)"
   ]
  },
  {
   "cell_type": "code",
   "execution_count": 5,
   "metadata": {},
   "outputs": [
    {
     "name": "stdout",
     "output_type": "stream",
     "text": [
      "{'__module__': '__main__', 'a': 10, 'b': 20, '__dict__': <attribute '__dict__' of 'sample' objects>, '__weakref__': <attribute '__weakref__' of 'sample' objects>, '__doc__': None}\n",
      "10 20\n"
     ]
    },
    {
     "ename": "NameError",
     "evalue": "name 'a' is not defined",
     "output_type": "error",
     "traceback": [
      "\u001b[1;31m---------------------------------------------------------------------------\u001b[0m",
      "\u001b[1;31mNameError\u001b[0m                                 Traceback (most recent call last)",
      "\u001b[1;32mc:\\Users\\sravani\\OneDrive\\Documents\\GitHub\\SRAVANI\\python\\OOPS.ipynb Cell 14\u001b[0m line \u001b[0;36m6\n\u001b[0;32m      <a href='vscode-notebook-cell:/c%3A/Users/sravani/OneDrive/Documents/GitHub/SRAVANI/python/OOPS.ipynb#X16sZmlsZQ%3D%3D?line=3'>4</a>\u001b[0m \u001b[39mprint\u001b[39m(sample\u001b[39m.\u001b[39m\u001b[39m__dict__\u001b[39m)\n\u001b[0;32m      <a href='vscode-notebook-cell:/c%3A/Users/sravani/OneDrive/Documents/GitHub/SRAVANI/python/OOPS.ipynb#X16sZmlsZQ%3D%3D?line=4'>5</a>\u001b[0m \u001b[39mprint\u001b[39m(sample\u001b[39m.\u001b[39ma,sample\u001b[39m.\u001b[39mb)\n\u001b[1;32m----> <a href='vscode-notebook-cell:/c%3A/Users/sravani/OneDrive/Documents/GitHub/SRAVANI/python/OOPS.ipynb#X16sZmlsZQ%3D%3D?line=5'>6</a>\u001b[0m \u001b[39mclass\u001b[39;49;00m \u001b[39mdemo\u001b[39;49;00m(sample):\n\u001b[0;32m      <a href='vscode-notebook-cell:/c%3A/Users/sravani/OneDrive/Documents/GitHub/SRAVANI/python/OOPS.ipynb#X16sZmlsZQ%3D%3D?line=6'>7</a>\u001b[0m     \u001b[39mdel\u001b[39;49;00m a\n\u001b[0;32m      <a href='vscode-notebook-cell:/c%3A/Users/sravani/OneDrive/Documents/GitHub/SRAVANI/python/OOPS.ipynb#X16sZmlsZQ%3D%3D?line=7'>8</a>\u001b[0m \u001b[39mprint\u001b[39m(demo\u001b[39m.\u001b[39m\u001b[39m__dict__\u001b[39m)\n",
      "\u001b[1;32mc:\\Users\\sravani\\OneDrive\\Documents\\GitHub\\SRAVANI\\python\\OOPS.ipynb Cell 14\u001b[0m line \u001b[0;36m7\n\u001b[0;32m      <a href='vscode-notebook-cell:/c%3A/Users/sravani/OneDrive/Documents/GitHub/SRAVANI/python/OOPS.ipynb#X16sZmlsZQ%3D%3D?line=5'>6</a>\u001b[0m \u001b[39mclass\u001b[39;00m \u001b[39mdemo\u001b[39;00m(sample):\n\u001b[1;32m----> <a href='vscode-notebook-cell:/c%3A/Users/sravani/OneDrive/Documents/GitHub/SRAVANI/python/OOPS.ipynb#X16sZmlsZQ%3D%3D?line=6'>7</a>\u001b[0m     \u001b[39mdel\u001b[39;00m a\n",
      "\u001b[1;31mNameError\u001b[0m: name 'a' is not defined"
     ]
    }
   ],
   "source": [
    "class sample:\n",
    "    a=10\n",
    "    b=20\n",
    "print(sample.__dict__)\n",
    "print(sample.a,sample.b)\n",
    "class demo(sample):\n",
    "    del a\n",
    "print(demo.__dict__)\n",
    "print(demo.a,demo.b)"
   ]
  },
  {
   "cell_type": "code",
   "execution_count": 8,
   "metadata": {},
   "outputs": [
    {
     "name": "stdout",
     "output_type": "stream",
     "text": [
      "{'__module__': '__main__', 'a': 10, 'b': 20, '__init__': <function sample.__init__ at 0x0000018BB5C98D60>, '__dict__': <attribute '__dict__' of 'sample' objects>, '__weakref__': <attribute '__weakref__' of 'sample' objects>, '__doc__': None}\n",
      "10 20\n",
      "{'x': 'Abc', 'y': 'Bcd'} 10 20 Abc Bcd\n",
      "{'__module__': '__main__', 'm': 890, '__doc__': None}\n",
      "{'x': '123', 'y': '354'} 10 20 123 354 890\n",
      "10 20\n"
     ]
    }
   ],
   "source": [
    "class sample:\n",
    "    a=10\n",
    "    b=20\n",
    "    def __init__(self,x,y):\n",
    "        self.x=x\n",
    "        self.y=y\n",
    "print(sample.__dict__)\n",
    "print(sample.a,sample.b)\n",
    "obj=sample('Abc','Bcd')\n",
    "print(obj.__dict__,obj.a,obj.b,obj.x,obj.y)\n",
    "class demo(sample):\n",
    "    m=890\n",
    "print(demo.__dict__)\n",
    "obj1=demo('123','354')\n",
    "print(obj1.__dict__,obj1.a,obj1.b,obj1.x,obj1.y,obj1.m)\n",
    "print(sample.a,sample.b)"
   ]
  },
  {
   "cell_type": "code",
   "execution_count": 7,
   "metadata": {},
   "outputs": [
    {
     "name": "stdout",
     "output_type": "stream",
     "text": [
      "jsp ['java', 'python', 'testing']\n"
     ]
    }
   ],
   "source": [
    "#                            functionallity\n",
    "#             class method\n",
    "class college:\n",
    "    cname=\"jsp\"\n",
    "    subjects=['java','python','testing']\n",
    "    @classmethod\n",
    "    def display(cls):\n",
    "        print(cls.cname,cls.subjects)\n",
    "    @classmethod\n",
    "    def fetch(cls):\n",
    "        print(cls.cname,cls.subjects)\n",
    "    @classmethod\n",
    "    def modify(cls):\n",
    "        n=int(input(\"choose opition\\n1.cnmae\\n2.subjects\\n3.exit\"))\n",
    "        match n:\n",
    "            case 1:\n",
    "                cls.cnmae=input(\"enter the name\")\n",
    "            case 2:\n",
    "                cls.subjects=eval(input(\"enter the subjects\"))\n",
    "            case _:\n",
    "                return\n",
    "        return\n",
    "#college.fetch()\n",
    "college.modify()\n",
    "college.display()"
   ]
  },
  {
   "cell_type": "code",
   "execution_count": 12,
   "metadata": {},
   "outputs": [
    {
     "name": "stdout",
     "output_type": "stream",
     "text": [
      "{'__module__': '__main__', 'a': 150, '__init__': <function parent.__init__ at 0x0000018BB5731620>, '__dict__': <attribute '__dict__' of 'parent' objects>, '__weakref__': <attribute '__weakref__' of 'parent' objects>, '__doc__': None}\n",
      "{'__module__': '__main__', 'b': 630, '__init__': <function child.__init__ at 0x0000018BB54A96C0>, '__doc__': None}\n",
      "{'x': 'sairam'} 150 sairam\n",
      "{'m': 'gopal'} 150 630 gopal\n"
     ]
    }
   ],
   "source": [
    "\n",
    "class parent:\n",
    "    a=150\n",
    "    def __init__(self,x):\n",
    "        self.x=x\n",
    "class child(parent):\n",
    "    b=630\n",
    "    def __init__(self,m):\n",
    "        self.m=m\n",
    "sai=parent(\"sairam\")\n",
    "gopal=child(\"gopal\")\n",
    "print(parent.__dict__)\n",
    "print(child.__dict__)\n",
    "print(sai.__dict__,sai.a,sai.x)\n",
    "print(gopal.__dict__,gopal.a,gopal.b,gopal.m)"
   ]
  },
  {
   "cell_type": "code",
   "execution_count": 13,
   "metadata": {},
   "outputs": [
    {
     "name": "stdout",
     "output_type": "stream",
     "text": [
      "{'name': 'dinga', 'roll': 103, 'phone': 93910393913, 'email': 'dinga@gmail.com', 'marks': 100, 'age': 20}\n"
     ]
    }
   ],
   "source": [
    "class student:\n",
    "    def __init__(self,name,roll,phone):\n",
    "        self.name=name\n",
    "        self.roll=roll\n",
    "        self.phone=phone\n",
    "rahul=student(\"rahul\",101,1234567890)\n",
    "rani=student(\"rani\",102,9087654321)\n",
    "class student2(student):\n",
    "    def __init__(self,name,roll,phone,email,marks,age):\n",
    "        self.name=name\n",
    "        self.roll=roll\n",
    "        self.phone=phone\n",
    "        self.email=email\n",
    "        self.marks=marks\n",
    "        self.age=age\n",
    "dinga=student2('dinga',103,93910393913,'dinga@gmail.com',100,20)\n",
    "print(dinga.__dict__)\n",
    "\n"
   ]
  },
  {
   "cell_type": "code",
   "execution_count": 3,
   "metadata": {},
   "outputs": [
    {
     "name": "stdout",
     "output_type": "stream",
     "text": [
      "parent\n",
      "child\n",
      "{'name': 'dinga', 'roll': 103, 'phone': 93910393913, 'email': 'dinga@gmail.com', 'marks': 100, 'age': 20}\n"
     ]
    }
   ],
   "source": [
    "class student:\n",
    "    def __init__(self,name,roll,phone):\n",
    "        self.name=name\n",
    "        self.roll=roll\n",
    "        self.phone=phone\n",
    "        print(\"parent\")\n",
    "#rahul=student(\"rahul\",101,1234567890)\n",
    "#rani=student(\"rani\",102,9087654321)\n",
    "class student2(student):\n",
    "    def __init__(self,name,roll,phone,email,marks,age):\n",
    "        #super(student2,self).__init__(name,roll,phone)\n",
    "        #student.__init__(self,name,roll,phone)\n",
    "        super().__init__(name,roll,phone)\n",
    "        self.email=email\n",
    "        self.marks=marks\n",
    "        self.age=age\n",
    "        print(\"child\")\n",
    "dinga=student2('dinga',103,93910393913,'dinga@gmail.com',100,20)\n",
    "print(dinga.__dict__)"
   ]
  },
  {
   "cell_type": "code",
   "execution_count": 15,
   "metadata": {},
   "outputs": [
    {
     "name": "stdout",
     "output_type": "stream",
     "text": [
      "{'__module__': '__main__', 'a': 200, '__init__': <function parent.__init__ at 0x000001CE83F9E840>, '__dict__': <attribute '__dict__' of 'parent' objects>, '__weakref__': <attribute '__weakref__' of 'parent' objects>, '__doc__': None}\n",
      "{'x': 120}\n",
      "{'__module__': '__main__', 'b': 300, '__doc__': None}\n",
      "{'x': 400}\n",
      "{'__module__': '__main__', 'c': 500, '__doc__': None}\n",
      "{'x': 130}\n",
      "200 200 200\n",
      "1200 1200 1200\n",
      "1200 800 800\n",
      "1200 800 90\n",
      "1200 1200 90\n"
     ]
    }
   ],
   "source": [
    "# 2                          MULTI LEVEL INHERITANCE\n",
    "class parent:\n",
    "    a=200\n",
    "    def __init__(self,x):\n",
    "        self.x=x\n",
    "obj1=parent(120)\n",
    "print(parent.__dict__)\n",
    "print(obj1.__dict__)\n",
    "class child(parent):\n",
    "    b=300\n",
    "obj2=child(400)\n",
    "print(child.__dict__)\n",
    "print(obj2.__dict__)\n",
    "class grandchild(child):\n",
    "    c=500\n",
    "obj3=grandchild(130)\n",
    "print(grandchild.__dict__)\n",
    "print(obj3.__dict__)\n",
    "\n",
    "print(parent.a,child.a,grandchild.a)\n",
    "parent.a=1200\n",
    "print(parent.a,child.a,grandchild.a)\n",
    "child.a=800\n",
    "print(parent.a,child.a,grandchild.a)\n",
    "grandchild.a=90\n",
    "print(parent.a,child.a,grandchild.a)\n",
    "del child.a\n",
    "print(parent.a,child.a,grandchild.a)\n",
    "\n",
    "\n"
   ]
  },
  {
   "cell_type": "code",
   "execution_count": 4,
   "metadata": {},
   "outputs": [
    {
     "name": "stdout",
     "output_type": "stream",
     "text": [
      "college name: TKR\n",
      "college address: hyd\n",
      "person name: rani\n",
      "person age: 20\n",
      "person phoneno: 9214023747\n",
      "person job: student\n",
      "TKR rani student\n",
      "TKR Vizag\n",
      "college name: TKR\n",
      "college address: Vizag\n",
      "person name: sravs\n",
      "person age: 23\n",
      "person phoneno: 9666163780\n",
      "person job: Student\n",
      "person email: sravs@gmail.com\n",
      "person branch: ece\n"
     ]
    }
   ],
   "source": [
    "#                     HERARCHIAL INHERITANCE\n",
    "class college:\n",
    "    cname=\"TKR\"\n",
    "    address=\"hyd\"\n",
    "    def __init__(self,name,phone,age,type_p):\n",
    "        self.name=name\n",
    "        self.phone=phone\n",
    "        self.age=age\n",
    "        self.type_p=type_p\n",
    "    def display(self):\n",
    "        print(\"college name:\",self.cname)\n",
    "        print(\"college address:\",self.address)\n",
    "        print(\"person name:\",self.name)\n",
    "        print(\"person age:\",self.age)\n",
    "        print(\"person phoneno:\",self.phone)\n",
    "        print(\"person job:\",self.type_p)\n",
    "rani=college('rani',9214023747,20,'student')\n",
    "rani.display()\n",
    "class college1(college):\n",
    "    address=\"rayalasima\"\n",
    "neeraj=college1(\"neeraj\",8688913525,22,'Teacher')\n",
    "class college2(college):\n",
    "    address=\"Vizag\"\n",
    "    def __init__(self, name, phone, age, type_p,email,branch):\n",
    "        super().__init__(name, phone, age, type_p)\n",
    "        self.email=email\n",
    "        self.branch=branch\n",
    "    def display(self):\n",
    "        super().display()\n",
    "        print('person email:',self.email)\n",
    "        print(\"person branch:\",self.branch)\n",
    "sravs=college2(\"sravs\",9666163780,23,'Student',\"sravs@gmail.com\",\"ece\")\n",
    "print(college.cname,rani.name,rani.type_p)\n",
    "print(sravs.cname,sravs.address)\n",
    "sravs.display()\n"
   ]
  },
  {
   "cell_type": "code",
   "execution_count": 7,
   "metadata": {},
   "outputs": [
    {
     "name": "stdout",
     "output_type": "stream",
     "text": [
      "100 20 30\n"
     ]
    }
   ],
   "source": [
    "#                              MUTIPLE INHERITANCE\n",
    "class p1:\n",
    "    a=100\n",
    "    b=20                                # in this in child class first given parent class attributes and second parent class unique valuse only takes\n",
    "class p2:\n",
    "    a=200\n",
    "    c=30\n",
    "class child(p1,p2):                       # in this 1st p1 values in p2 only c because a taken form p1\n",
    "    pass\n",
    "print(child.a,child.b,child.c)"
   ]
  },
  {
   "cell_type": "code",
   "execution_count": 8,
   "metadata": {},
   "outputs": [
    {
     "name": "stdout",
     "output_type": "stream",
     "text": [
      "200 20 30\n"
     ]
    }
   ],
   "source": [
    "class p1:\n",
    "    a=100\n",
    "    b=20\n",
    "class p2:\n",
    "    a=200\n",
    "    c=30\n",
    "class child(p2,p1):                # here p2 a value consider not p1 a value\n",
    "    pass\n",
    "print(child.a,child.b,child.c)\n"
   ]
  },
  {
   "cell_type": "code",
   "execution_count": 10,
   "metadata": {},
   "outputs": [
    {
     "name": "stdout",
     "output_type": "stream",
     "text": [
      "100 20 30\n"
     ]
    }
   ],
   "source": [
    "class p1:\n",
    "    a=100\n",
    "    b=20\n",
    "    def display(self):\n",
    "        print(self.a,self.b)\n",
    "class p2:\n",
    "    a=200\n",
    "    c=30\n",
    "    def display(self):\n",
    "        print(self.a,self.c)\n",
    "class child(p1,p2):               \n",
    "    def display(self):\n",
    "        print(self.a,self.b,self.c)\n",
    "obj=child()\n",
    "obj.display()\n"
   ]
  },
  {
   "cell_type": "code",
   "execution_count": 11,
   "metadata": {},
   "outputs": [
    {
     "name": "stdout",
     "output_type": "stream",
     "text": [
      "200 20 30\n"
     ]
    }
   ],
   "source": [
    "class p1:\n",
    "    a=100\n",
    "    b=20\n",
    "    def display(self):\n",
    "        print(self.a,self.b)\n",
    "class p2:\n",
    "    a=200\n",
    "    c=30\n",
    "    def display(self):\n",
    "        print(self.a,self.c)\n",
    "class child(p2,p1):               \n",
    "    def display(self):\n",
    "        print(self.a,self.b,self.c)\n",
    "obj=child()\n",
    "obj.display()"
   ]
  },
  {
   "cell_type": "code",
   "execution_count": 13,
   "metadata": {},
   "outputs": [
    {
     "name": "stdout",
     "output_type": "stream",
     "text": [
      "parent 1: 200 20\n",
      "parent 2: 200 30\n"
     ]
    }
   ],
   "source": [
    "class p1:\n",
    "    a=100\n",
    "    b=20\n",
    "    def display1(self):\n",
    "        print(\"parent 1:\",self.a,self.b)\n",
    "class p2:\n",
    "    a=200\n",
    "    c=30\n",
    "    def display2(self):\n",
    "        print(\"parent 2:\", self.a,self.c)\n",
    "class child(p2,p1):               \n",
    "    def display(self):\n",
    "        super().display1()\n",
    "        super().display2()\n",
    "obj=child()\n",
    "obj.display()"
   ]
  },
  {
   "cell_type": "code",
   "execution_count": 17,
   "metadata": {},
   "outputs": [
    {
     "name": "stdout",
     "output_type": "stream",
     "text": [
      "parent 1: 100 20\n",
      "parent 1: 100 20\n"
     ]
    }
   ],
   "source": [
    "# problem\n",
    "class p1:\n",
    "    a=100\n",
    "    b=20\n",
    "    def display(self):\n",
    "        print(\"parent 1:\",self.a,self.b)\n",
    "class p2:\n",
    "    a=200\n",
    "    c=30                                                                   # to overcome this problem chaining method super() is used\n",
    "    def display(self):\n",
    "        print(\"parent 2:\", self.a,self.c)\n",
    "class child(p1,p2):               \n",
    "    def display(self):\n",
    "        super().display()\n",
    "        super().display()\n",
    "obj=child()\n",
    "obj.display()"
   ]
  },
  {
   "cell_type": "code",
   "execution_count": 18,
   "metadata": {},
   "outputs": [
    {
     "name": "stdout",
     "output_type": "stream",
     "text": [
      "parent 1: 100 20\n",
      "parent 2: 100 30\n"
     ]
    }
   ],
   "source": [
    "# soultion\n",
    "class p1:\n",
    "    a=100\n",
    "    b=20\n",
    "    def display(self):\n",
    "        print(\"parent 1:\",self.a,self.b)\n",
    "class p2:\n",
    "    a=200\n",
    "    c=30\n",
    "    def display(self):\n",
    "        print(\"parent 2:\", self.a,self.c)\n",
    "class child(p1,p2):               \n",
    "    def display(self):\n",
    "        super().display()\n",
    "        p2.display(self)\n",
    "obj=child()\n",
    "obj.display()"
   ]
  },
  {
   "cell_type": "code",
   "execution_count": 5,
   "metadata": {},
   "outputs": [
    {
     "name": "stdout",
     "output_type": "stream",
     "text": [
      "10\n",
      "10\n"
     ]
    }
   ],
   "source": [
    "# public\n",
    "class sample:\n",
    "    x=10\n",
    "    @classmethod\n",
    "    def view(cls):\n",
    "        print(cls.x)\n",
    "print(sample.x)\n",
    "sample.view()"
   ]
  },
  {
   "cell_type": "code",
   "execution_count": 7,
   "metadata": {},
   "outputs": [
    {
     "name": "stdout",
     "output_type": "stream",
     "text": [
      "10\n",
      "10\n"
     ]
    }
   ],
   "source": [
    "class sample:\n",
    "    x=10\n",
    "    @classmethod\n",
    "    def view(cls):\n",
    "        print(cls.x)\n",
    "class demo(sample):\n",
    "    pass\n",
    "print(demo.x)\n",
    "demo.view()"
   ]
  },
  {
   "cell_type": "code",
   "execution_count": 10,
   "metadata": {},
   "outputs": [
    {
     "name": "stdout",
     "output_type": "stream",
     "text": [
      "10\n",
      "10\n"
     ]
    }
   ],
   "source": [
    "class sample:\n",
    "    x=10\n",
    "    @classmethod\n",
    "    def view(cls):\n",
    "        print(cls.x)\n",
    "print(sample.x)\n",
    "sample.x=150\n",
    "print(sample.x)"
   ]
  },
  {
   "cell_type": "code",
   "execution_count": 14,
   "metadata": {},
   "outputs": [
    {
     "name": "stdout",
     "output_type": "stream",
     "text": [
      "10\n",
      "10\n"
     ]
    }
   ],
   "source": [
    "# protect\n",
    "class sample:\n",
    "    _x=10\n",
    "    @classmethod\n",
    "    def _fetch(cls):\n",
    "        print(cls._x)\n",
    "print(sample._x)\n",
    "sample._fetch()"
   ]
  },
  {
   "cell_type": "code",
   "execution_count": 11,
   "metadata": {},
   "outputs": [
    {
     "name": "stdout",
     "output_type": "stream",
     "text": [
      "10\n",
      "10\n"
     ]
    }
   ],
   "source": [
    "class sample:\n",
    "    _x=10\n",
    "    @classmethod\n",
    "    def _fetch(cls):\n",
    "        print(cls._x)\n",
    "class demo(sample):\n",
    "    pass\n",
    "print(demo._x)\n",
    "demo._fetch()"
   ]
  },
  {
   "cell_type": "code",
   "execution_count": 18,
   "metadata": {},
   "outputs": [
    {
     "name": "stdout",
     "output_type": "stream",
     "text": [
      "10\n",
      "150\n"
     ]
    }
   ],
   "source": [
    "class sample:\n",
    "    _x=10\n",
    "    @classmethod\n",
    "    def _fetch(cls):\n",
    "        print(cls._x)\n",
    "print(sample._x)\n",
    "sample._x=150\n",
    "print(sample._x)"
   ]
  },
  {
   "cell_type": "code",
   "execution_count": 22,
   "metadata": {},
   "outputs": [
    {
     "ename": "AttributeError",
     "evalue": "type object 'demo' has no attribute '__x'",
     "output_type": "error",
     "traceback": [
      "\u001b[1;31m---------------------------------------------------------------------------\u001b[0m",
      "\u001b[1;31mAttributeError\u001b[0m                            Traceback (most recent call last)",
      "\u001b[1;32mc:\\Users\\sravani\\OneDrive\\Documents\\GitHub\\SRAVANI\\python\\OOPS.ipynb Cell 35\u001b[0m line \u001b[0;36m6\n\u001b[0;32m      <a href='vscode-notebook-cell:/c%3A/Users/sravani/OneDrive/Documents/GitHub/SRAVANI/python/OOPS.ipynb#X50sZmlsZQ%3D%3D?line=2'>3</a>\u001b[0m     \u001b[39m@classmethod\u001b[39m\n\u001b[0;32m      <a href='vscode-notebook-cell:/c%3A/Users/sravani/OneDrive/Documents/GitHub/SRAVANI/python/OOPS.ipynb#X50sZmlsZQ%3D%3D?line=3'>4</a>\u001b[0m     \u001b[39mdef\u001b[39;00m \u001b[39m__display\u001b[39m(\u001b[39mcls\u001b[39m):\n\u001b[0;32m      <a href='vscode-notebook-cell:/c%3A/Users/sravani/OneDrive/Documents/GitHub/SRAVANI/python/OOPS.ipynb#X50sZmlsZQ%3D%3D?line=4'>5</a>\u001b[0m         \u001b[39mprint\u001b[39m(\u001b[39mcls\u001b[39m\u001b[39m.\u001b[39m__x)\n\u001b[1;32m----> <a href='vscode-notebook-cell:/c%3A/Users/sravani/OneDrive/Documents/GitHub/SRAVANI/python/OOPS.ipynb#X50sZmlsZQ%3D%3D?line=5'>6</a>\u001b[0m \u001b[39mprint\u001b[39m(demo\u001b[39m.\u001b[39;49m__x)\n\u001b[0;32m      <a href='vscode-notebook-cell:/c%3A/Users/sravani/OneDrive/Documents/GitHub/SRAVANI/python/OOPS.ipynb#X50sZmlsZQ%3D%3D?line=6'>7</a>\u001b[0m demo\u001b[39m.\u001b[39m__display()\n",
      "\u001b[1;31mAttributeError\u001b[0m: type object 'demo' has no attribute '__x'"
     ]
    }
   ],
   "source": [
    "# private\n",
    "class demo:\n",
    "    __x=0\n",
    "    @classmethod\n",
    "    def __display(cls):\n",
    "        print(cls.__x)\n",
    "print(demo.__x)\n",
    "demo.__display()"
   ]
  },
  {
   "cell_type": "code",
   "execution_count": 23,
   "metadata": {},
   "outputs": [
    {
     "ename": "AttributeError",
     "evalue": "type object 'demo' has no attribute '__x'",
     "output_type": "error",
     "traceback": [
      "\u001b[1;31m---------------------------------------------------------------------------\u001b[0m",
      "\u001b[1;31mAttributeError\u001b[0m                            Traceback (most recent call last)",
      "\u001b[1;32mc:\\Users\\sravani\\OneDrive\\Documents\\GitHub\\SRAVANI\\python\\OOPS.ipynb Cell 36\u001b[0m line \u001b[0;36m8\n\u001b[0;32m      <a href='vscode-notebook-cell:/c%3A/Users/sravani/OneDrive/Documents/GitHub/SRAVANI/python/OOPS.ipynb#X51sZmlsZQ%3D%3D?line=5'>6</a>\u001b[0m \u001b[39mclass\u001b[39;00m \u001b[39minner\u001b[39;00m(demo):\n\u001b[0;32m      <a href='vscode-notebook-cell:/c%3A/Users/sravani/OneDrive/Documents/GitHub/SRAVANI/python/OOPS.ipynb#X51sZmlsZQ%3D%3D?line=6'>7</a>\u001b[0m     \u001b[39mpass\u001b[39;00m\n\u001b[1;32m----> <a href='vscode-notebook-cell:/c%3A/Users/sravani/OneDrive/Documents/GitHub/SRAVANI/python/OOPS.ipynb#X51sZmlsZQ%3D%3D?line=7'>8</a>\u001b[0m \u001b[39mprint\u001b[39m(demo\u001b[39m.\u001b[39;49m__x)\n\u001b[0;32m      <a href='vscode-notebook-cell:/c%3A/Users/sravani/OneDrive/Documents/GitHub/SRAVANI/python/OOPS.ipynb#X51sZmlsZQ%3D%3D?line=8'>9</a>\u001b[0m demo\u001b[39m.\u001b[39m__display()\n",
      "\u001b[1;31mAttributeError\u001b[0m: type object 'demo' has no attribute '__x'"
     ]
    }
   ],
   "source": [
    "class demo:\n",
    "    __x=0\n",
    "    @classmethod\n",
    "    def __display(cls):\n",
    "        print(cls.__x)\n",
    "class inner(demo):\n",
    "    pass\n",
    "print(demo.__x)\n",
    "demo.__display()"
   ]
  },
  {
   "cell_type": "code",
   "execution_count": 24,
   "metadata": {},
   "outputs": [
    {
     "ename": "AttributeError",
     "evalue": "type object 'demo' has no attribute '__x'",
     "output_type": "error",
     "traceback": [
      "\u001b[1;31m---------------------------------------------------------------------------\u001b[0m",
      "\u001b[1;31mAttributeError\u001b[0m                            Traceback (most recent call last)",
      "\u001b[1;32mc:\\Users\\sravani\\OneDrive\\Documents\\GitHub\\SRAVANI\\python\\OOPS.ipynb Cell 37\u001b[0m line \u001b[0;36m6\n\u001b[0;32m      <a href='vscode-notebook-cell:/c%3A/Users/sravani/OneDrive/Documents/GitHub/SRAVANI/python/OOPS.ipynb#X52sZmlsZQ%3D%3D?line=2'>3</a>\u001b[0m     \u001b[39m@classmethod\u001b[39m\n\u001b[0;32m      <a href='vscode-notebook-cell:/c%3A/Users/sravani/OneDrive/Documents/GitHub/SRAVANI/python/OOPS.ipynb#X52sZmlsZQ%3D%3D?line=3'>4</a>\u001b[0m     \u001b[39mdef\u001b[39;00m \u001b[39m__display\u001b[39m(\u001b[39mcls\u001b[39m):\n\u001b[0;32m      <a href='vscode-notebook-cell:/c%3A/Users/sravani/OneDrive/Documents/GitHub/SRAVANI/python/OOPS.ipynb#X52sZmlsZQ%3D%3D?line=4'>5</a>\u001b[0m         \u001b[39mprint\u001b[39m(\u001b[39mcls\u001b[39m\u001b[39m.\u001b[39m__x)\n\u001b[1;32m----> <a href='vscode-notebook-cell:/c%3A/Users/sravani/OneDrive/Documents/GitHub/SRAVANI/python/OOPS.ipynb#X52sZmlsZQ%3D%3D?line=5'>6</a>\u001b[0m \u001b[39mprint\u001b[39m(demo\u001b[39m.\u001b[39;49m__x)\n\u001b[0;32m      <a href='vscode-notebook-cell:/c%3A/Users/sravani/OneDrive/Documents/GitHub/SRAVANI/python/OOPS.ipynb#X52sZmlsZQ%3D%3D?line=6'>7</a>\u001b[0m demo\u001b[39m.\u001b[39m__x\u001b[39m=\u001b[39m\u001b[39m12\u001b[39m\n\u001b[0;32m      <a href='vscode-notebook-cell:/c%3A/Users/sravani/OneDrive/Documents/GitHub/SRAVANI/python/OOPS.ipynb#X52sZmlsZQ%3D%3D?line=7'>8</a>\u001b[0m \u001b[39mprint\u001b[39m(demo\u001b[39m.\u001b[39m__x)\n",
      "\u001b[1;31mAttributeError\u001b[0m: type object 'demo' has no attribute '__x'"
     ]
    }
   ],
   "source": [
    "class demo:\n",
    "    __x=0\n",
    "    @classmethod\n",
    "    def __display(cls):\n",
    "        print(cls.__x)\n",
    "print(demo.__x)\n",
    "demo.__x=12\n",
    "print(demo.__x)"
   ]
  },
  {
   "cell_type": "code",
   "execution_count": 2,
   "metadata": {},
   "outputs": [
    {
     "name": "stdout",
     "output_type": "stream",
     "text": [
      "11\n",
      "12\n"
     ]
    }
   ],
   "source": [
    "class demo:\n",
    "    __x=11\n",
    "    @classmethod\n",
    "    def display(cls):                 # getter method\n",
    "        print(cls.__x)\n",
    "    @classmethod\n",
    "    def modify(cls):                   #setter method\n",
    "        cls.__x=12\n",
    "demo.display()\n",
    "demo.modify()\n",
    "demo.display()"
   ]
  },
  {
   "cell_type": "code",
   "execution_count": 27,
   "metadata": {},
   "outputs": [
    {
     "data": {
      "text/plain": [
       "mappingproxy({'__module__': '__main__',\n",
       "              'x': 10,\n",
       "              '__dict__': <attribute '__dict__' of 'sample' objects>,\n",
       "              '__weakref__': <attribute '__weakref__' of 'sample' objects>,\n",
       "              '__doc__': None})"
      ]
     },
     "execution_count": 27,
     "metadata": {},
     "output_type": "execute_result"
    }
   ],
   "source": [
    "                             # PUBLIC\n",
    "class sample:\n",
    "    x=10\n",
    "sample.__dict__"
   ]
  },
  {
   "cell_type": "code",
   "execution_count": 28,
   "metadata": {},
   "outputs": [
    {
     "data": {
      "text/plain": [
       "mappingproxy({'__module__': '__main__',\n",
       "              '_x': 10,\n",
       "              '__dict__': <attribute '__dict__' of 'sample' objects>,\n",
       "              '__weakref__': <attribute '__weakref__' of 'sample' objects>,\n",
       "              '__doc__': None})"
      ]
     },
     "execution_count": 28,
     "metadata": {},
     "output_type": "execute_result"
    }
   ],
   "source": [
    "                               # PROTECT\n",
    "class sample:\n",
    "    _x=10\n",
    "sample.__dict__"
   ]
  },
  {
   "cell_type": "code",
   "execution_count": 33,
   "metadata": {},
   "outputs": [
    {
     "name": "stdout",
     "output_type": "stream",
     "text": [
      "{'__module__': '__main__', '_sample__x': 10, '__dict__': <attribute '__dict__' of 'sample' objects>, '__weakref__': <attribute '__weakref__' of 'sample' objects>, '__doc__': None}\n",
      "10\n"
     ]
    }
   ],
   "source": [
    "                             # PRIVATE\n",
    "class sample:\n",
    "    __x=10\n",
    "print(sample.__dict__)\n",
    "#print(sample.__x)\n",
    "print(sample._sample__x)"
   ]
  },
  {
   "cell_type": "code",
   "execution_count": 5,
   "metadata": {},
   "outputs": [
    {
     "name": "stdout",
     "output_type": "stream",
     "text": [
      "01\n"
     ]
    }
   ],
   "source": [
    "st='zero one'\n",
    "d={'zero':0,'one':1}\n",
    "l=list(d)\n",
    "res=\"\"\n",
    "f=\"\"\n",
    "for i in st:\n",
    "    if i!=\" \":\n",
    "        res+=i\n",
    "    else:\n",
    "\n",
    "        if len(res)>0 and  res in l:\n",
    "            f+=str(d[res])\n",
    "            res=\"\"\n",
    "if len(res)>0 and  res in l:\n",
    "    f+=str(d[res])\n",
    "print(f)\n",
    "\n",
    "\n",
    "\n",
    "\n"
   ]
  },
  {
   "cell_type": "code",
   "execution_count": null,
   "metadata": {},
   "outputs": [],
   "source": [
    "\n",
    "    \n"
   ]
  }
 ],
 "metadata": {
  "kernelspec": {
   "display_name": "Python 3",
   "language": "python",
   "name": "python3"
  },
  "language_info": {
   "codemirror_mode": {
    "name": "ipython",
    "version": 3
   },
   "file_extension": ".py",
   "mimetype": "text/x-python",
   "name": "python",
   "nbconvert_exporter": "python",
   "pygments_lexer": "ipython3",
   "version": "3.11.4"
  }
 },
 "nbformat": 4,
 "nbformat_minor": 2
}
