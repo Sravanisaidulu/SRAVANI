{
 "cells": [
  {
   "cell_type": "code",
   "execution_count": 2,
   "metadata": {},
   "outputs": [
    {
     "data": {
      "text/plain": [
       "mappingproxy({'__module__': '__main__',\n",
       "              '__dict__': <attribute '__dict__' of 'Apple' objects>,\n",
       "              '__weakref__': <attribute '__weakref__' of 'Apple' objects>,\n",
       "              '__doc__': None})"
      ]
     },
     "execution_count": 2,
     "metadata": {},
     "output_type": "execute_result"
    }
   ],
   "source": [
    "class Apple:\n",
    "    pass\n",
    "Apple.__dict__"
   ]
  },
  {
   "cell_type": "code",
   "execution_count": 6,
   "metadata": {},
   "outputs": [
    {
     "name": "stdout",
     "output_type": "stream",
     "text": [
      "<class '__main__.apple'>\n",
      "3122866825072\n",
      "<class 'type'>\n"
     ]
    }
   ],
   "source": [
    "class apple:\n",
    "    price=10\n",
    "    color=\"red\"\n",
    "    shape=\"apple shape\"\n",
    "print(apple)\n",
    "print(id(apple))\n",
    "print(type(apple))\n"
   ]
  },
  {
   "cell_type": "code",
   "execution_count": 7,
   "metadata": {},
   "outputs": [
    {
     "name": "stdout",
     "output_type": "stream",
     "text": [
      "{}\n",
      "oneplus {'model': 'oneplus 11', 'ram': '16gb', 'rom': '256gb', 'processor': 'mediatak 8', 'price': 45000, 'IMEI': 'on123456'}\n"
     ]
    }
   ],
   "source": [
    "class mobile:\n",
    "    cname=\"oneplus\"\n",
    "    model=None\n",
    "    ram=None\n",
    "    rom=None\n",
    "    processor=None\n",
    "    price=None\n",
    "    IMEI=None\n",
    "obj1=mobile()\n",
    "print(obj1.__dict__)\n",
    "\n",
    "    \n",
    "obj1.model=\"oneplus 11\"\n",
    "obj1.ram=\"16gb\"\n",
    "obj1.rom=\"256gb\"\n",
    "obj1.processor=\"mediatak 8\"\n",
    "obj1.price=45000\n",
    "obj1.IMEI=\"on123456\"\n",
    "print(obj1.cname,obj1.__dict__)\n"
   ]
  },
  {
   "cell_type": "code",
   "execution_count": 9,
   "metadata": {},
   "outputs": [
    {
     "name": "stdout",
     "output_type": "stream",
     "text": [
      "{}\n",
      "oneplus {'model': 'oneplus 11', 'ram': '16gb', 'rom': '256gb', 'processor': 'mediatak 8', 'price': 45000, 'IMEI': 'on123456'}\n"
     ]
    }
   ],
   "source": [
    "class mobile:\n",
    "    cname=\"oneplus\"\n",
    "    model=None\n",
    "    ram=None\n",
    "    rom=None\n",
    "    processor=None\n",
    "    price=None\n",
    "    IMEI=None\n",
    "obj1=mobile()\n",
    "def create(self,m_model,m_ram,m_rom,m_processor,m_price,m_IMEI):\n",
    "    print(self.__dict__)\n",
    "    self.model=m_model\n",
    "    self.ram=m_ram\n",
    "    self.rom=m_rom\n",
    "    self.processor=m_processor\n",
    "    self.price=m_price\n",
    "    self.IMEI=m_IMEI\n",
    "    print(self.cname,self.__dict__)\n",
    "create(obj1,\"oneplus 11\",\"16gb\",\"256gb\",\"mediatak 8\",45000,\"on123456\")"
   ]
  },
  {
   "cell_type": "code",
   "execution_count": 13,
   "metadata": {},
   "outputs": [
    {
     "name": "stdout",
     "output_type": "stream",
     "text": [
      "{}\n",
      "oneplus {'model': 'oneplus 11', 'ram': '16gb', 'rom': '256gb', 'processor': 'mediatak 8', 'price': 45000, 'IMEI': 'on123456'}\n"
     ]
    }
   ],
   "source": [
    "class mobile:\n",
    "    cname=\"oneplus\"\n",
    "    def create(self,m_model,m_ram,m_rom,m_processor,m_price,m_IMEI):\n",
    "        print(self.__dict__)\n",
    "        self.model=m_model\n",
    "        self.ram=m_ram\n",
    "        self.rom=m_rom\n",
    "        self.processor=m_processor\n",
    "        self.price=m_price\n",
    "        self.IMEI=m_IMEI\n",
    "        print(self.cname,self.__dict__)\n",
    "obj9=mobile()\n",
    "create(obj9,\"oneplus 11\",\"16gb\",\"256gb\",\"mediatak 8\",45000,\"on123456\")"
   ]
  },
  {
   "cell_type": "code",
   "execution_count": 16,
   "metadata": {},
   "outputs": [
    {
     "name": "stdout",
     "output_type": "stream",
     "text": [
      "{}\n",
      "oneplus {'model': 'oneplus 11', 'ram': '16gb', 'rom': '256gb', 'processor': 'mediatak 8', 'price': 45000, 'IMEI': 'on123456'}\n"
     ]
    }
   ],
   "source": [
    "class mobile:\n",
    "    cname=\"oneplus\"\n",
    "    def __init__(self,m_model,m_ram,m_rom,m_processor,m_price,m_IMEI):\n",
    "        print(self.__dict__)\n",
    "        self.model=m_model\n",
    "        self.ram=m_ram\n",
    "        self.rom=m_rom\n",
    "        self.processor=m_processor\n",
    "        self.price=m_price\n",
    "        self.IMEI=m_IMEI\n",
    "        print(self.cname,self.__dict__)\n",
    "obj9=mobile(\"oneplus 11\",\"16gb\",\"256gb\",\"mediatak 8\",45000,\"on123456\")"
   ]
  }
 ],
 "metadata": {
  "kernelspec": {
   "display_name": "Python 3",
   "language": "python",
   "name": "python3"
  },
  "language_info": {
   "codemirror_mode": {
    "name": "ipython",
    "version": 3
   },
   "file_extension": ".py",
   "mimetype": "text/x-python",
   "name": "python",
   "nbconvert_exporter": "python",
   "pygments_lexer": "ipython3",
   "version": "3.11.4"
  }
 },
 "nbformat": 4,
 "nbformat_minor": 2
}
