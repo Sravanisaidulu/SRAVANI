{
 "cells": [
  {
   "cell_type": "code",
   "execution_count": 2,
   "metadata": {},
   "outputs": [
    {
     "data": {
      "text/plain": [
       "mappingproxy({'__module__': '__main__',\n",
       "              '__dict__': <attribute '__dict__' of 'Apple' objects>,\n",
       "              '__weakref__': <attribute '__weakref__' of 'Apple' objects>,\n",
       "              '__doc__': None})"
      ]
     },
     "execution_count": 2,
     "metadata": {},
     "output_type": "execute_result"
    }
   ],
   "source": [
    "class Apple:\n",
    "    pass\n",
    "Apple.__dict__"
   ]
  },
  {
   "cell_type": "code",
   "execution_count": 6,
   "metadata": {},
   "outputs": [
    {
     "name": "stdout",
     "output_type": "stream",
     "text": [
      "<class '__main__.apple'>\n",
      "3122866825072\n",
      "<class 'type'>\n"
     ]
    }
   ],
   "source": [
    "class apple:\n",
    "    price=10\n",
    "    color=\"red\"\n",
    "    shape=\"apple shape\"\n",
    "print(apple)\n",
    "print(id(apple))\n",
    "print(type(apple))\n"
   ]
  },
  {
   "cell_type": "code",
   "execution_count": 7,
   "metadata": {},
   "outputs": [
    {
     "name": "stdout",
     "output_type": "stream",
     "text": [
      "{}\n",
      "oneplus {'model': 'oneplus 11', 'ram': '16gb', 'rom': '256gb', 'processor': 'mediatak 8', 'price': 45000, 'IMEI': 'on123456'}\n"
     ]
    }
   ],
   "source": [
    "class mobile:\n",
    "    cname=\"oneplus\"\n",
    "    model=None\n",
    "    ram=None\n",
    "    rom=None\n",
    "    processor=None\n",
    "    price=None\n",
    "    IMEI=None\n",
    "obj1=mobile()\n",
    "print(obj1.__dict__)\n",
    "\n",
    "    \n",
    "obj1.model=\"oneplus 11\"\n",
    "obj1.ram=\"16gb\"\n",
    "obj1.rom=\"256gb\"\n",
    "obj1.processor=\"mediatak 8\"\n",
    "obj1.price=45000\n",
    "obj1.IMEI=\"on123456\"\n",
    "print(obj1.cname,obj1.__dict__)\n"
   ]
  },
  {
   "cell_type": "code",
   "execution_count": 9,
   "metadata": {},
   "outputs": [
    {
     "name": "stdout",
     "output_type": "stream",
     "text": [
      "{}\n",
      "oneplus {'model': 'oneplus 11', 'ram': '16gb', 'rom': '256gb', 'processor': 'mediatak 8', 'price': 45000, 'IMEI': 'on123456'}\n"
     ]
    }
   ],
   "source": [
    "class mobile:\n",
    "    cname=\"oneplus\"\n",
    "    model=None\n",
    "    ram=None\n",
    "    rom=None\n",
    "    processor=None\n",
    "    price=None\n",
    "    IMEI=None\n",
    "obj1=mobile()\n",
    "def create(self,m_model,m_ram,m_rom,m_processor,m_price,m_IMEI):\n",
    "    print(self.__dict__)\n",
    "    self.model=m_model\n",
    "    self.ram=m_ram\n",
    "    self.rom=m_rom\n",
    "    self.processor=m_processor\n",
    "    self.price=m_price\n",
    "    self.IMEI=m_IMEI\n",
    "    print(self.cname,self.__dict__)\n",
    "create(obj1,\"oneplus 11\",\"16gb\",\"256gb\",\"mediatak 8\",45000,\"on123456\")"
   ]
  },
  {
   "cell_type": "code",
   "execution_count": 13,
   "metadata": {},
   "outputs": [
    {
     "name": "stdout",
     "output_type": "stream",
     "text": [
      "{}\n",
      "oneplus {'model': 'oneplus 11', 'ram': '16gb', 'rom': '256gb', 'processor': 'mediatak 8', 'price': 45000, 'IMEI': 'on123456'}\n"
     ]
    }
   ],
   "source": [
    "class mobile:\n",
    "    cname=\"oneplus\"\n",
    "    def create(self,m_model,m_ram,m_rom,m_processor,m_price,m_IMEI):\n",
    "        print(self.__dict__)\n",
    "        self.model=m_model\n",
    "        self.ram=m_ram\n",
    "        self.rom=m_rom\n",
    "        self.processor=m_processor\n",
    "        self.price=m_price\n",
    "        self.IMEI=m_IMEI\n",
    "        print(self.cname,self.__dict__)\n",
    "obj9=mobile()\n",
    "create(obj9,\"oneplus 11\",\"16gb\",\"256gb\",\"mediatak 8\",45000,\"on123456\")"
   ]
  },
  {
   "cell_type": "code",
   "execution_count": 16,
   "metadata": {},
   "outputs": [
    {
     "name": "stdout",
     "output_type": "stream",
     "text": [
      "{}\n",
      "oneplus {'model': 'oneplus 11', 'ram': '16gb', 'rom': '256gb', 'processor': 'mediatak 8', 'price': 45000, 'IMEI': 'on123456'}\n"
     ]
    }
   ],
   "source": [
    "class mobile:\n",
    "    cname=\"oneplus\"\n",
    "    def __init__(self,m_model,m_ram,m_rom,m_processor,m_price,m_IMEI):\n",
    "        print(self.__dict__)\n",
    "        self.model=m_model\n",
    "        self.ram=m_ram\n",
    "        self.rom=m_rom\n",
    "        self.processor=m_processor\n",
    "        self.price=m_price\n",
    "        self.IMEI=m_IMEI\n",
    "        print(self.cname,self.__dict__)\n",
    "obj9=mobile(\"oneplus 11\",\"16gb\",\"256gb\",\"mediatak 8\",45000,\"on123456\")"
   ]
  },
  {
   "cell_type": "code",
   "execution_count": 5,
   "metadata": {},
   "outputs": [
    {
     "name": "stdout",
     "output_type": "stream",
     "text": [
      "{'__module__': '__main__', 'id': 451, 'name': 'sravani', 'email': 'sravs@gmail.com', 'phone': 9391104228, '__dict__': <attribute '__dict__' of 'students' objects>, '__weakref__': <attribute '__weakref__' of 'students' objects>, '__doc__': None}\n",
      "sravani 451 sravs@gmail.com 9391104228\n",
      "sravani 456 sravs@gmail.com 9391104228\n",
      "{'__module__': '__main__', 'id': 456, 'name': 'sravani', 'email': 'sravs@gmail.com', 'phone': 9391104228, '__dict__': <attribute '__dict__' of 'students' objects>, '__weakref__': <attribute '__weakref__' of 'students' objects>, '__doc__': None, 'branch': 'ECE'}\n",
      "sravani 456 sravs@gmail.com 9391104228 ECE\n",
      "{'__module__': '__main__', 'id': 456, 'name': 'sravani', 'email': 'sravs@gmail.com', '__dict__': <attribute '__dict__' of 'students' objects>, '__weakref__': <attribute '__weakref__' of 'students' objects>, '__doc__': None, 'branch': 'ECE'}\n"
     ]
    },
    {
     "ename": "AttributeError",
     "evalue": "type object 'students' has no attribute 'phone'",
     "output_type": "error",
     "traceback": [
      "\u001b[1;31m---------------------------------------------------------------------------\u001b[0m",
      "\u001b[1;31mAttributeError\u001b[0m                            Traceback (most recent call last)",
      "\u001b[1;32mc:\\Users\\sravani\\OneDrive\\Documents\\GitHub\\SRAVANI\\python\\OOPS.ipynb Cell 7\u001b[0m line \u001b[0;36m2\n\u001b[0;32m     <a href='vscode-notebook-cell:/c%3A/Users/sravani/OneDrive/Documents/GitHub/SRAVANI/python/OOPS.ipynb#W6sZmlsZQ%3D%3D?line=18'>19</a>\u001b[0m \u001b[39mdel\u001b[39;00m students\u001b[39m.\u001b[39mphone                                                             \u001b[39m# delete\u001b[39;00m\n\u001b[0;32m     <a href='vscode-notebook-cell:/c%3A/Users/sravani/OneDrive/Documents/GitHub/SRAVANI/python/OOPS.ipynb#W6sZmlsZQ%3D%3D?line=19'>20</a>\u001b[0m \u001b[39mprint\u001b[39m(students\u001b[39m.\u001b[39m\u001b[39m__dict__\u001b[39m)\n\u001b[1;32m---> <a href='vscode-notebook-cell:/c%3A/Users/sravani/OneDrive/Documents/GitHub/SRAVANI/python/OOPS.ipynb#W6sZmlsZQ%3D%3D?line=20'>21</a>\u001b[0m \u001b[39mprint\u001b[39m(students\u001b[39m.\u001b[39mname,students\u001b[39m.\u001b[39mid,students\u001b[39m.\u001b[39memail,students\u001b[39m.\u001b[39;49mphone,students\u001b[39m.\u001b[39mbranch)\n",
      "\u001b[1;31mAttributeError\u001b[0m: type object 'students' has no attribute 'phone'"
     ]
    }
   ],
   "source": [
    "# states\n",
    "#                generic states or static states or class attributes\n",
    "class students:\n",
    "    id=451                                                    #initialization\n",
    "    name='sravani'                                     #initialization\n",
    "    email='sravs@gmail.com'              #initialization\n",
    "    phone=9391104228              #initialization\n",
    "\n",
    "print(students.__dict__)\n",
    "print(students.name,students.id,students.email,students.phone)           # fetch\n",
    "\n",
    "students.id=456\n",
    "print(students.name,students.id,students.email,students.phone)        # modification\n",
    "\n",
    "students.branch='ECE'                                                   # concat\n",
    "print(students.__dict__)\n",
    "print(students.name,students.id,students.email,students.phone,students.branch)\n",
    "\n",
    "del students.phone                                                             # delete\n",
    "print(students.__dict__)\n",
    "print(students.name,students.id,students.email,students.phone,students.branch)\n",
    "\n"
   ]
  },
  {
   "cell_type": "code",
   "execution_count": 9,
   "metadata": {},
   "outputs": [
    {
     "name": "stdout",
     "output_type": "stream",
     "text": [
      "{'name': 'sravya', 'surnmae': 'suragani', 'adress': 'hyderabad', 'job': 'software'}\n",
      "sravya suragani hyderabad software\n",
      "sravya suragani hyderabad software developer\n",
      "sravya suragani hyderabad software developer ORST234G2\n",
      "{'name': 'sravya', 'surnmae': 'suragani', 'job': 'software developer', 'pan': 'ORST234G2'}\n"
     ]
    }
   ],
   "source": [
    "#               SPECIFIC STATES\n",
    "#              specific state or non static state \n",
    "class human:\n",
    "    def __init__(self,h_name,h_surname,h_adress,h_occupation):\n",
    "        self.name=h_name\n",
    "        self.surnmae=h_surname\n",
    "        self.adress=h_adress\n",
    "        self.job=h_occupation\n",
    "obj=human(\"sravya\",\"suragani\",\"hyderabad\",'software')\n",
    "print(obj.__dict__)\n",
    "print(obj.name,obj.surnmae,obj.adress,obj.job)                             #fetch\n",
    "\n",
    "obj.job=\"software developer\"                                                # modification\n",
    "print(obj.name,obj.surnmae,obj.adress,obj.job)\n",
    "\n",
    "obj.pan=\"ORST234G2\"                                                        # concatination\n",
    "print(obj.name,obj.surnmae,obj.adress,obj.job,obj.pan)\n",
    "\n",
    "del obj.adress                                                              # delete\n",
    "print(obj.__dict__)\n"
   ]
  },
  {
   "cell_type": "code",
   "execution_count": 15,
   "metadata": {},
   "outputs": [],
   "source": [
    "class family:\n",
    "    surname=\"suragani\"\n",
    "    adress=\"pune\"\n",
    "    ration=\"tsap13456\"\n",
    "    gothram=\"kamandala\"\n",
    "    list_detalis=[]\n",
    "    def __init__(self,f_name,f_age,f_pan):\n",
    "        self.name=f_name\n",
    "        self.age=f_age\n",
    "        self.pan=f_pan\n",
    "        self.list_detalis+=[self]\n",
    "    #def display(self):\n",
    "    #    print(self.surname,self.adress,self.ration,self.gothram,self.name,self.age,self.pan)\n",
    "    def list_d(self):\n",
    "        for self in self.list_detalis:\n",
    "            print(self.surname,self.adress,self.ration,self.gothram,self.name,self.age,self.pan)\n",
    "father=family(\"saidulu\",33,'qwed1234f')\n",
    "mother=family(\"srilaxmi\",30,\"vbgfht12345\")\n",
    "daughter1=family(\"sravani\",22,\"efgrt1324htjyuy\")\n",
    "daughter2=family(\"sravya\",20,\"qwe1234gfgnh\")\n",
    "#father.display()\n",
    "\n",
    "\n",
    "        "
   ]
  }
 ],
 "metadata": {
  "kernelspec": {
   "display_name": "Python 3",
   "language": "python",
   "name": "python3"
  },
  "language_info": {
   "codemirror_mode": {
    "name": "ipython",
    "version": 3
   },
   "file_extension": ".py",
   "mimetype": "text/x-python",
   "name": "python",
   "nbconvert_exporter": "python",
   "pygments_lexer": "ipython3",
   "version": "3.11.4"
  }
 },
 "nbformat": 4,
 "nbformat_minor": 2
}
