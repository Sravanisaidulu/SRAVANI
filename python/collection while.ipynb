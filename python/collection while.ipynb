{
 "cells": [
  {
   "cell_type": "code",
   "execution_count": 2,
   "metadata": {},
   "outputs": [
    {
     "name": "stdout",
     "output_type": "stream",
     "text": [
      "0\n",
      "1\n",
      "2\n",
      "3\n",
      "4\n",
      "5\n",
      "6\n",
      "7\n",
      "8\n",
      "9\n",
      "10\n",
      "11\n",
      "12\n",
      "13\n",
      "14\n",
      "15\n"
     ]
    }
   ],
   "source": [
    "# WAP to print indexing postions from given string\n",
    "s=\"qwedfgSDF2345%&*\"\n",
    "start=0\n",
    "end=len(s)\n",
    "while start<end:\n",
    "    print(start)\n",
    "    start+=1\n"
   ]
  },
  {
   "cell_type": "code",
   "execution_count": 4,
   "metadata": {},
   "outputs": [
    {
     "name": "stdout",
     "output_type": "stream",
     "text": [
      "q 0\n",
      "w 1\n",
      "e 2\n",
      "d 3\n",
      "f 4\n",
      "g 5\n",
      "S 6\n",
      "D 7\n",
      "F 8\n",
      "2 9\n",
      "3 10\n",
      "4 11\n",
      "5 12\n",
      "% 13\n",
      "& 14\n",
      "* 15\n"
     ]
    }
   ],
   "source": [
    "# WAP to print indexing postions from given string along with character\n",
    "s=\"qwedfgSDF2345%&*\"\n",
    "start=0\n",
    "end=len(s)\n",
    "while start<end:\n",
    "    print(s[start],start)\n",
    "    start+=1"
   ]
  },
  {
   "cell_type": "code",
   "execution_count": 8,
   "metadata": {},
   "outputs": [
    {
     "name": "stdout",
     "output_type": "stream",
     "text": [
      "* -1\n",
      "& -2\n",
      "% -3\n",
      "5 -4\n",
      "4 -5\n",
      "3 -6\n",
      "2 -7\n",
      "F -8\n",
      "D -9\n",
      "S -10\n",
      "g -11\n",
      "f -12\n",
      "d -13\n",
      "e -14\n",
      "w -15\n",
      "q -16\n"
     ]
    }
   ],
   "source": [
    "#WAP to print negative indexing postions of given string along with character\n",
    "s=\"qwedfgSDF2345%&*\"\n",
    "start=-1\n",
    "end=(-len(s))\n",
    "while start>=end:\n",
    "    print(s[start],start)\n",
    "    start-=1"
   ]
  },
  {
   "cell_type": "code",
   "execution_count": 10,
   "metadata": {},
   "outputs": [
    {
     "name": "stdout",
     "output_type": "stream",
     "text": [
      "q 0 -16\n",
      "w 1 -15\n",
      "e 2 -14\n",
      "d 3 -13\n",
      "f 4 -12\n",
      "g 5 -11\n",
      "S 6 -10\n",
      "D 7 -9\n",
      "F 8 -8\n",
      "2 9 -7\n",
      "3 10 -6\n",
      "4 11 -5\n",
      "5 12 -4\n",
      "% 13 -3\n",
      "& 14 -2\n",
      "* 15 -1\n"
     ]
    }
   ],
   "source": [
    "# WAP to print  negative and positive indexing postions of given string along with character\n",
    "s=\"qwedfgSDF2345%&*\"\n",
    "start=0\n",
    "end=len(s)\n",
    "npos=-len(s)\n",
    "while start<end:\n",
    "    print(s[start],start,npos)\n",
    "    start+=1\n",
    "    npos+=1"
   ]
  },
  {
   "cell_type": "code",
   "execution_count": 11,
   "metadata": {},
   "outputs": [
    {
     "name": "stdout",
     "output_type": "stream",
     "text": [
      "S\n",
      "D\n",
      "F\n"
     ]
    }
   ],
   "source": [
    "# WAP to print uppercase characters from given string\n",
    "s=\"qwedfgSDF2345%&*\"\n",
    "start=0\n",
    "end=len(s)\n",
    "while start<end:\n",
    "    if 'A'<=s[start]<='Z':\n",
    "        print(s[start])\n",
    "    start+=1"
   ]
  },
  {
   "cell_type": "code",
   "execution_count": 12,
   "metadata": {},
   "outputs": [
    {
     "name": "stdout",
     "output_type": "stream",
     "text": [
      "q\n",
      "w\n",
      "e\n",
      "d\n",
      "f\n",
      "g\n"
     ]
    }
   ],
   "source": [
    "# WAP to print lowercase characters from given string\n",
    "s=\"qwedfgSDF2345%&*\"\n",
    "start=0\n",
    "end=len(s)\n",
    "while start<end:\n",
    "    if 'a'<=s[start]<='z':\n",
    "        print(s[start])\n",
    "    start+=1"
   ]
  },
  {
   "cell_type": "code",
   "execution_count": 13,
   "metadata": {},
   "outputs": [
    {
     "name": "stdout",
     "output_type": "stream",
     "text": [
      "2\n",
      "3\n",
      "4\n",
      "5\n"
     ]
    }
   ],
   "source": [
    "# WAP to print number characters from given string\n",
    "s=\"qwedfgSDF2345%&*\"\n",
    "start=0\n",
    "end=len(s)\n",
    "while start<end:\n",
    "    if '0'<=s[start]<='9':\n",
    "        print(s[start])\n",
    "    start+=1"
   ]
  },
  {
   "cell_type": "code",
   "execution_count": 14,
   "metadata": {},
   "outputs": [
    {
     "name": "stdout",
     "output_type": "stream",
     "text": [
      "%\n",
      "&\n",
      "*\n"
     ]
    }
   ],
   "source": [
    "# WAP to print special characters from given string\n",
    "s=\"qwedfgSDF2345%&*\"\n",
    "start=0\n",
    "end=len(s)\n",
    "while start<end:\n",
    "    if not('A'<=s[start]<='Z'or 'a'<=s[start]<='z' or '0'<=s[start]<='9'):\n",
    "        print(s[start])\n",
    "    start+=1"
   ]
  },
  {
   "cell_type": "code",
   "execution_count": 15,
   "metadata": {},
   "outputs": [
    {
     "name": "stdout",
     "output_type": "stream",
     "text": [
      "e\n"
     ]
    }
   ],
   "source": [
    "# WAP to print vowels from given string\n",
    "s=\"qwedfgSDF2345%&*\"\n",
    "start=0\n",
    "end=len(s)\n",
    "while start<end:\n",
    "    if s[start] in 'aeiouAEIOU':\n",
    "        print(s[start])\n",
    "    start+=1"
   ]
  },
  {
   "cell_type": "code",
   "execution_count": 4,
   "metadata": {},
   "outputs": [
    {
     "name": "stdout",
     "output_type": "stream",
     "text": [
      "H\n",
      "r\n",
      "f\n",
      "g\n",
      "N\n",
      "M\n",
      "2\n",
      "3\n",
      "3\n",
      "%\n",
      "&\n"
     ]
    },
    {
     "ename": "IndexError",
     "evalue": "string index out of range",
     "output_type": "error",
     "traceback": [
      "\u001b[1;31m---------------------------------------------------------------------------\u001b[0m",
      "\u001b[1;31mIndexError\u001b[0m                                Traceback (most recent call last)",
      "Cell \u001b[1;32mIn[4], line 5\u001b[0m\n\u001b[0;32m      3\u001b[0m i\u001b[39m=\u001b[39m\u001b[39m0\u001b[39m\n\u001b[0;32m      4\u001b[0m \u001b[39mwhile\u001b[39;00m i\u001b[39m<\u001b[39m\u001b[39m=\u001b[39m\u001b[39mlen\u001b[39m(st):\n\u001b[1;32m----> 5\u001b[0m     \u001b[39mif\u001b[39;00m st[i] \u001b[39mnot\u001b[39;00m \u001b[39min\u001b[39;00m \u001b[39m'\u001b[39m\u001b[39mAEIOUaeiou\u001b[39m\u001b[39m'\u001b[39m:\n\u001b[0;32m      6\u001b[0m         \u001b[39mprint\u001b[39m(st[i])\n\u001b[0;32m      7\u001b[0m     i\u001b[39m+\u001b[39m\u001b[39m=\u001b[39m\u001b[39m1\u001b[39m\n",
      "\u001b[1;31mIndexError\u001b[0m: string index out of range"
     ]
    }
   ],
   "source": [
    "#wap to print constants in the given string\n",
    "st=\"HerfgENM\"\n",
    "i=0\n",
    "while i<=len(st):\n",
    "    if st[i] not in 'AEIOUaeiou':\n",
    "        print(st[i])\n",
    "    i+=1"
   ]
  },
  {
   "cell_type": "code",
   "execution_count": null,
   "metadata": {},
   "outputs": [],
   "source": [
    "#wap to "
   ]
  },
  {
   "cell_type": "code",
   "execution_count": 8,
   "metadata": {},
   "outputs": [
    {
     "name": "stdout",
     "output_type": "stream",
     "text": [
      "4\n"
     ]
    }
   ],
   "source": [
    "st=\"pencile\"\n",
    "count=0\n",
    "i=1\n",
    "while st:\n",
    "    count+=1\n",
    "    st=st[:-(i)]\n",
    "    i+=1\n",
    "print(count)"
   ]
  },
  {
   "cell_type": "code",
   "execution_count": 7,
   "metadata": {},
   "outputs": [
    {
     "name": "stdout",
     "output_type": "stream",
     "text": [
      "WESDFGVB\n",
      "etrghj\n",
      "2345\n",
      "$%*\n"
     ]
    }
   ],
   "source": [
    "st=\"2345etrghjWESDFGVB$%*\"\n",
    "start=0\n",
    "a=\"\"\n",
    "b=\"\"\n",
    "c=\"\"\n",
    "d=\"\"\n",
    "while start<len(st):\n",
    "    if 'A'<=st[start]<='Z':\n",
    "        a+=st[start]\n",
    "    elif 'a'<=st[start]<='z':\n",
    "        b+=st[start]\n",
    "    elif '0'<=st[start]<='9':\n",
    "        c+=st[start]\n",
    "    else:\n",
    "        d+=st[start]\n",
    "    start+=1\n",
    "print(a)\n",
    "print(b)\n",
    "print(c)\n",
    "print(d)"
   ]
  },
  {
   "cell_type": "code",
   "execution_count": 15,
   "metadata": {},
   "outputs": [
    {
     "name": "stdout",
     "output_type": "stream",
     "text": [
      "SRa@#2vani valid password\n"
     ]
    }
   ],
   "source": [
    "pw=\"SRa@#2vani\"\n",
    "uc,lc,an,sp=0,0,0,0\n",
    "if 8<=len(pw)<=16:\n",
    "    start=0\n",
    "    while start<len(pw):\n",
    "        if 'A'<=pw[start]<='Z':\n",
    "            uc+=1\n",
    "        elif 'a'<=pw[start]<='z':\n",
    "            lc+=1\n",
    "        elif '0'<=pw[start]<='9':\n",
    "            an+=1\n",
    "        else:\n",
    "            sp+=1\n",
    "        start+=1\n",
    "    if uc>=2 and lc>=1 and an>=1 and sp>=2:\n",
    "        print(pw,\"valid password\")\n",
    "    else:\n",
    "        print(\"invalid password\")\n",
    "else:\n",
    "    print(\"invalid password\")\n"
   ]
  },
  {
   "cell_type": "code",
   "execution_count": 21,
   "metadata": {},
   "outputs": [
    {
     "name": "stdout",
     "output_type": "stream",
     "text": [
      "7\n",
      "valid email\n"
     ]
    }
   ],
   "source": [
    "#WAP to check given email id is vaild or not.if vaild display email id else display invaild emailid.\n",
    "# 1. email should not have any special character except @,. 2.@ should be one and after @ minimum one dot(.) max 2 dots\n",
    "st=\"sravani@gmail.com.in\"\n",
    "i=0\n",
    "temp=0\n",
    "while i<len(st):\n",
    "    if not('A'<=st[i]<='Z' or 'a'<=st[i]<='z' or '0'<=st[i]<='9'or st[i] in '@.'):\n",
    "        temp+=1\n",
    "    i+=1\n",
    "if temp==0:\n",
    "        if '@'in st and '.' in st:\n",
    "            n=0\n",
    "            pos=None\n",
    "            count=0\n",
    "            while n<len(st):\n",
    "                if '@'==st[n]:\n",
    "                    pos=n\n",
    "                    count+=1\n",
    "                n+=1\n",
    "            if count==1:\n",
    "                print(pos)\n",
    "                if '.'in st[pos:]:\n",
    "                    c=0\n",
    "                    while pos<len(st):\n",
    "                        if '.'==st[pos]:\n",
    "                            c+=1\n",
    "                        pos+=1\n",
    "                    if 1<=c<=2:\n",
    "                        print(\"valid email\")\n",
    "                    else:\n",
    "                        (\"invaild\")\n",
    "                else:\n",
    "                    print(\"invalid email\")\n",
    "            else:\n",
    "                print(\"invaild email\")\n",
    "        else:\n",
    "            print(\"invaild email\")\n",
    "else:\n",
    "    print(\"invalid email\")\n"
   ]
  },
  {
   "cell_type": "code",
   "execution_count": 3,
   "metadata": {},
   "outputs": [
    {
     "name": "stdout",
     "output_type": "stream",
     "text": [
      "hll\n",
      "e1#\n"
     ]
    }
   ],
   "source": [
    "#wap to convert uppercase to lowercase in a given string\n",
    "st=\"HeLL1#\"\n",
    "d=\"\"\n",
    "n=\"\"\n",
    "i=0\n",
    "while i<len(st):\n",
    "    if 'A'<=st[i]<='Z':\n",
    "        d+=chr(ord(st[i])+32)\n",
    "    else:\n",
    "        n+=st[i]\n",
    "    i+=1\n",
    "print(d)\n",
    "print(n)"
   ]
  },
  {
   "cell_type": "code",
   "execution_count": 12,
   "metadata": {},
   "outputs": [
    {
     "name": "stdout",
     "output_type": "stream",
     "text": [
      "__hello_worldl__\n"
     ]
    }
   ],
   "source": [
    "st=\"Hello world24@l\"\n",
    "res=\"\"\n",
    "i=0\n",
    "while i<len(st):\n",
    "    if 'A'<=st[i]<='Z':\n",
    "        res+=chr(ord(st[i])+32)\n",
    "    elif st[i]==' ':\n",
    "        res+='_'\n",
    "    elif 'a'<=st[i]<='z':\n",
    "        res+=st[i]\n",
    "    i+=1\n",
    "res='__'+res+'__'\n",
    "print(res)\n"
   ]
  },
  {
   "cell_type": "code",
   "execution_count": null,
   "metadata": {},
   "outputs": [],
   "source": []
  }
 ],
 "metadata": {
  "kernelspec": {
   "display_name": "Python 3",
   "language": "python",
   "name": "python3"
  },
  "language_info": {
   "codemirror_mode": {
    "name": "ipython",
    "version": 3
   },
   "file_extension": ".py",
   "mimetype": "text/x-python",
   "name": "python",
   "nbconvert_exporter": "python",
   "pygments_lexer": "ipython3",
   "version": "3.11.4"
  },
  "orig_nbformat": 4
 },
 "nbformat": 4,
 "nbformat_minor": 2
}
