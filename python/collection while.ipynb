{
 "cells": [
  {
   "cell_type": "code",
   "execution_count": 2,
   "metadata": {},
   "outputs": [
    {
     "name": "stdout",
     "output_type": "stream",
     "text": [
      "0\n",
      "1\n",
      "2\n",
      "3\n",
      "4\n",
      "5\n",
      "6\n",
      "7\n",
      "8\n",
      "9\n",
      "10\n",
      "11\n",
      "12\n",
      "13\n",
      "14\n",
      "15\n"
     ]
    }
   ],
   "source": [
    "# WAP to print indexing postions from given string\n",
    "s=\"qwedfgSDF2345%&*\"\n",
    "start=0\n",
    "end=len(s)\n",
    "while start<end:\n",
    "    print(start)\n",
    "    start+=1\n"
   ]
  },
  {
   "cell_type": "code",
   "execution_count": 4,
   "metadata": {},
   "outputs": [
    {
     "name": "stdout",
     "output_type": "stream",
     "text": [
      "q 0\n",
      "w 1\n",
      "e 2\n",
      "d 3\n",
      "f 4\n",
      "g 5\n",
      "S 6\n",
      "D 7\n",
      "F 8\n",
      "2 9\n",
      "3 10\n",
      "4 11\n",
      "5 12\n",
      "% 13\n",
      "& 14\n",
      "* 15\n"
     ]
    }
   ],
   "source": [
    "# WAP to print indexing postions from given string along with character\n",
    "s=\"qwedfgSDF2345%&*\"\n",
    "start=0\n",
    "end=len(s)\n",
    "while start<end:\n",
    "    print(s[start],start)\n",
    "    start+=1"
   ]
  },
  {
   "cell_type": "code",
   "execution_count": 8,
   "metadata": {},
   "outputs": [
    {
     "name": "stdout",
     "output_type": "stream",
     "text": [
      "* -1\n",
      "& -2\n",
      "% -3\n",
      "5 -4\n",
      "4 -5\n",
      "3 -6\n",
      "2 -7\n",
      "F -8\n",
      "D -9\n",
      "S -10\n",
      "g -11\n",
      "f -12\n",
      "d -13\n",
      "e -14\n",
      "w -15\n",
      "q -16\n"
     ]
    }
   ],
   "source": [
    "#WAP to print negative indexing postions of given string along with character\n",
    "s=\"qwedfgSDF2345%&*\"\n",
    "start=-1\n",
    "end=(-len(s))\n",
    "while start>=end:\n",
    "    print(s[start],start)\n",
    "    start-=1"
   ]
  },
  {
   "cell_type": "code",
   "execution_count": 10,
   "metadata": {},
   "outputs": [
    {
     "name": "stdout",
     "output_type": "stream",
     "text": [
      "q 0 -16\n",
      "w 1 -15\n",
      "e 2 -14\n",
      "d 3 -13\n",
      "f 4 -12\n",
      "g 5 -11\n",
      "S 6 -10\n",
      "D 7 -9\n",
      "F 8 -8\n",
      "2 9 -7\n",
      "3 10 -6\n",
      "4 11 -5\n",
      "5 12 -4\n",
      "% 13 -3\n",
      "& 14 -2\n",
      "* 15 -1\n"
     ]
    }
   ],
   "source": [
    "# WAP to print  negative and positive indexing postions of given string along with character\n",
    "s=\"qwedfgSDF2345%&*\"\n",
    "start=0\n",
    "end=len(s)\n",
    "npos=-len(s)\n",
    "while start<end:\n",
    "    print(s[start],start,npos)\n",
    "    start+=1\n",
    "    npos+=1"
   ]
  },
  {
   "cell_type": "code",
   "execution_count": 11,
   "metadata": {},
   "outputs": [
    {
     "name": "stdout",
     "output_type": "stream",
     "text": [
      "S\n",
      "D\n",
      "F\n"
     ]
    }
   ],
   "source": [
    "# WAP to print uppercase characters from given string\n",
    "s=\"qwedfgSDF2345%&*\"\n",
    "start=0\n",
    "end=len(s)\n",
    "while start<end:\n",
    "    if 'A'<=s[start]<='Z':\n",
    "        print(s[start])\n",
    "    start+=1"
   ]
  },
  {
   "cell_type": "code",
   "execution_count": 12,
   "metadata": {},
   "outputs": [
    {
     "name": "stdout",
     "output_type": "stream",
     "text": [
      "q\n",
      "w\n",
      "e\n",
      "d\n",
      "f\n",
      "g\n"
     ]
    }
   ],
   "source": [
    "# WAP to print lowercase characters from given string\n",
    "s=\"qwedfgSDF2345%&*\"\n",
    "start=0\n",
    "end=len(s)\n",
    "while start<end:\n",
    "    if 'a'<=s[start]<='z':\n",
    "        print(s[start])\n",
    "    start+=1"
   ]
  },
  {
   "cell_type": "code",
   "execution_count": 13,
   "metadata": {},
   "outputs": [
    {
     "name": "stdout",
     "output_type": "stream",
     "text": [
      "2\n",
      "3\n",
      "4\n",
      "5\n"
     ]
    }
   ],
   "source": [
    "# WAP to print number characters from given string\n",
    "s=\"qwedfgSDF2345%&*\"\n",
    "start=0\n",
    "end=len(s)\n",
    "while start<end:\n",
    "    if '0'<=s[start]<='9':\n",
    "        print(s[start])\n",
    "    start+=1"
   ]
  },
  {
   "cell_type": "code",
   "execution_count": 14,
   "metadata": {},
   "outputs": [
    {
     "name": "stdout",
     "output_type": "stream",
     "text": [
      "%\n",
      "&\n",
      "*\n"
     ]
    }
   ],
   "source": [
    "# WAP to print special characters from given string\n",
    "s=\"qwedfgSDF2345%&*\"\n",
    "start=0\n",
    "end=len(s)\n",
    "while start<end:\n",
    "    if not('A'<=s[start]<='Z'or 'a'<=s[start]<='z' or '0'<=s[start]<='9'):\n",
    "        print(s[start])\n",
    "    start+=1"
   ]
  },
  {
   "cell_type": "code",
   "execution_count": 15,
   "metadata": {},
   "outputs": [
    {
     "name": "stdout",
     "output_type": "stream",
     "text": [
      "e\n"
     ]
    }
   ],
   "source": [
    "# WAP to print vowels from given string\n",
    "s=\"qwedfgSDF2345%&*\"\n",
    "start=0\n",
    "end=len(s)\n",
    "while start<end:\n",
    "    if s[start] in 'aeiouAEIOU':\n",
    "        print(s[start])\n",
    "    start+=1"
   ]
  }
 ],
 "metadata": {
  "kernelspec": {
   "display_name": "Python 3",
   "language": "python",
   "name": "python3"
  },
  "language_info": {
   "codemirror_mode": {
    "name": "ipython",
    "version": 3
   },
   "file_extension": ".py",
   "mimetype": "text/x-python",
   "name": "python",
   "nbconvert_exporter": "python",
   "pygments_lexer": "ipython3",
   "version": "3.11.4"
  },
  "orig_nbformat": 4
 },
 "nbformat": 4,
 "nbformat_minor": 2
}
