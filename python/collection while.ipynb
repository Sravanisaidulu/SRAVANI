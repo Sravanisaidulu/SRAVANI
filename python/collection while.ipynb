{
 "cells": [
  {
   "cell_type": "code",
   "execution_count": 2,
   "metadata": {},
   "outputs": [
    {
     "name": "stdout",
     "output_type": "stream",
     "text": [
      "0\n",
      "1\n",
      "2\n",
      "3\n",
      "4\n",
      "5\n",
      "6\n",
      "7\n",
      "8\n",
      "9\n",
      "10\n",
      "11\n",
      "12\n",
      "13\n",
      "14\n",
      "15\n"
     ]
    }
   ],
   "source": [
    "# WAP to print indexing postions from given string\n",
    "s=\"qwedfgSDF2345%&*\"\n",
    "start=0\n",
    "end=len(s)\n",
    "while start<end:\n",
    "    print(start)\n",
    "    start+=1\n"
   ]
  },
  {
   "cell_type": "code",
   "execution_count": 4,
   "metadata": {},
   "outputs": [
    {
     "name": "stdout",
     "output_type": "stream",
     "text": [
      "q 0\n",
      "w 1\n",
      "e 2\n",
      "d 3\n",
      "f 4\n",
      "g 5\n",
      "S 6\n",
      "D 7\n",
      "F 8\n",
      "2 9\n",
      "3 10\n",
      "4 11\n",
      "5 12\n",
      "% 13\n",
      "& 14\n",
      "* 15\n"
     ]
    }
   ],
   "source": [
    "# WAP to print indexing postions from given string along with character\n",
    "s=\"qwedfgSDF2345%&*\"\n",
    "start=0\n",
    "end=len(s)\n",
    "while start<end:\n",
    "    print(s[start],start)\n",
    "    start+=1"
   ]
  },
  {
   "cell_type": "code",
   "execution_count": 8,
   "metadata": {},
   "outputs": [
    {
     "name": "stdout",
     "output_type": "stream",
     "text": [
      "* -1\n",
      "& -2\n",
      "% -3\n",
      "5 -4\n",
      "4 -5\n",
      "3 -6\n",
      "2 -7\n",
      "F -8\n",
      "D -9\n",
      "S -10\n",
      "g -11\n",
      "f -12\n",
      "d -13\n",
      "e -14\n",
      "w -15\n",
      "q -16\n"
     ]
    }
   ],
   "source": [
    "#WAP to print negative indexing postions of given string along with character\n",
    "s=\"qwedfgSDF2345%&*\"\n",
    "start=-1\n",
    "end=(-len(s))\n",
    "while start>=end:\n",
    "    print(s[start],start)\n",
    "    start-=1"
   ]
  },
  {
   "cell_type": "code",
   "execution_count": 10,
   "metadata": {},
   "outputs": [
    {
     "name": "stdout",
     "output_type": "stream",
     "text": [
      "q 0 -16\n",
      "w 1 -15\n",
      "e 2 -14\n",
      "d 3 -13\n",
      "f 4 -12\n",
      "g 5 -11\n",
      "S 6 -10\n",
      "D 7 -9\n",
      "F 8 -8\n",
      "2 9 -7\n",
      "3 10 -6\n",
      "4 11 -5\n",
      "5 12 -4\n",
      "% 13 -3\n",
      "& 14 -2\n",
      "* 15 -1\n"
     ]
    }
   ],
   "source": [
    "# WAP to print  negative and positive indexing postions of given string along with character\n",
    "s=\"qwedfgSDF2345%&*\"\n",
    "start=0\n",
    "end=len(s)\n",
    "npos=-len(s)\n",
    "while start<end:\n",
    "    print(s[start],start,npos)\n",
    "    start+=1\n",
    "    npos+=1"
   ]
  },
  {
   "cell_type": "code",
   "execution_count": 11,
   "metadata": {},
   "outputs": [
    {
     "name": "stdout",
     "output_type": "stream",
     "text": [
      "S\n",
      "D\n",
      "F\n"
     ]
    }
   ],
   "source": [
    "# WAP to print uppercase characters from given string\n",
    "s=\"qwedfgSDF2345%&*\"\n",
    "start=0\n",
    "end=len(s)\n",
    "while start<end:\n",
    "    if 'A'<=s[start]<='Z':\n",
    "        print(s[start])\n",
    "    start+=1"
   ]
  },
  {
   "cell_type": "code",
   "execution_count": 12,
   "metadata": {},
   "outputs": [
    {
     "name": "stdout",
     "output_type": "stream",
     "text": [
      "q\n",
      "w\n",
      "e\n",
      "d\n",
      "f\n",
      "g\n"
     ]
    }
   ],
   "source": [
    "# WAP to print lowercase characters from given string\n",
    "s=\"qwedfgSDF2345%&*\"\n",
    "start=0\n",
    "end=len(s)\n",
    "while start<end:\n",
    "    if 'a'<=s[start]<='z':\n",
    "        print(s[start])\n",
    "    start+=1"
   ]
  },
  {
   "cell_type": "code",
   "execution_count": 13,
   "metadata": {},
   "outputs": [
    {
     "name": "stdout",
     "output_type": "stream",
     "text": [
      "2\n",
      "3\n",
      "4\n",
      "5\n"
     ]
    }
   ],
   "source": [
    "# WAP to print number characters from given string\n",
    "s=\"qwedfgSDF2345%&*\"\n",
    "start=0\n",
    "end=len(s)\n",
    "while start<end:\n",
    "    if '0'<=s[start]<='9':\n",
    "        print(s[start])\n",
    "    start+=1"
   ]
  },
  {
   "cell_type": "code",
   "execution_count": 14,
   "metadata": {},
   "outputs": [
    {
     "name": "stdout",
     "output_type": "stream",
     "text": [
      "%\n",
      "&\n",
      "*\n"
     ]
    }
   ],
   "source": [
    "# WAP to print special characters from given string\n",
    "s=\"qwedfgSDF2345%&*\"\n",
    "start=0\n",
    "end=len(s)\n",
    "while start<end:\n",
    "    if not('A'<=s[start]<='Z'or 'a'<=s[start]<='z' or '0'<=s[start]<='9'):\n",
    "        print(s[start])\n",
    "    start+=1"
   ]
  },
  {
   "cell_type": "code",
   "execution_count": 15,
   "metadata": {},
   "outputs": [
    {
     "name": "stdout",
     "output_type": "stream",
     "text": [
      "e\n"
     ]
    }
   ],
   "source": [
    "# WAP to print vowels from given string\n",
    "s=\"qwedfgSDF2345%&*\"\n",
    "start=0\n",
    "end=len(s)\n",
    "while start<end:\n",
    "    if s[start] in 'aeiouAEIOU':\n",
    "        print(s[start])\n",
    "    start+=1"
   ]
  },
  {
   "cell_type": "code",
   "execution_count": 7,
   "metadata": {},
   "outputs": [
    {
     "name": "stdout",
     "output_type": "stream",
     "text": [
      "H\n",
      "r\n",
      "f\n",
      "g\n",
      "N\n",
      "M\n"
     ]
    },
    {
     "ename": "IndexError",
     "evalue": "string index out of range",
     "output_type": "error",
     "traceback": [
      "\u001b[1;31m---------------------------------------------------------------------------\u001b[0m",
      "\u001b[1;31mIndexError\u001b[0m                                Traceback (most recent call last)",
      "Cell \u001b[1;32mIn[7], line 5\u001b[0m\n\u001b[0;32m      3\u001b[0m i\u001b[39m=\u001b[39m\u001b[39m0\u001b[39m\n\u001b[0;32m      4\u001b[0m \u001b[39mwhile\u001b[39;00m i\u001b[39m<\u001b[39m\u001b[39m=\u001b[39m\u001b[39mlen\u001b[39m(st):\n\u001b[1;32m----> 5\u001b[0m     \u001b[39mif\u001b[39;00m st[i] \u001b[39mnot\u001b[39;00m \u001b[39min\u001b[39;00m \u001b[39m'\u001b[39m\u001b[39mAEIOUaeiou\u001b[39m\u001b[39m'\u001b[39m:\n\u001b[0;32m      6\u001b[0m         \u001b[39mprint\u001b[39m(st[i])\n\u001b[0;32m      7\u001b[0m     i\u001b[39m+\u001b[39m\u001b[39m=\u001b[39m\u001b[39m1\u001b[39m\n",
      "\u001b[1;31mIndexError\u001b[0m: string index out of range"
     ]
    }
   ],
   "source": [
    "#wap to print constants in the given string\n",
    "st=\"HerfgENM\"\n",
    "i=0\n",
    "while i<=len(st):\n",
    "    if st[i] not in 'AEIOUaeiou':\n",
    "        print(st[i])\n",
    "    i+=1"
   ]
  },
  {
   "cell_type": "code",
   "execution_count": 6,
   "metadata": {},
   "outputs": [
    {
     "name": "stdout",
     "output_type": "stream",
     "text": [
      "p\n",
      "s\n",
      "i\n",
      "e\n",
      "s\n"
     ]
    }
   ],
   "source": [
    "#wap to print even position character in a given string\n",
    "st='pyspiders'\n",
    "i=0\n",
    "while i<len(st):\n",
    "    if i%2==0:\n",
    "        print(st[i])\n",
    "    i+=1"
   ]
  },
  {
   "cell_type": "code",
   "execution_count": 8,
   "metadata": {},
   "outputs": [
    {
     "name": "stdout",
     "output_type": "stream",
     "text": [
      "y\n",
      "p\n",
      "d\n",
      "r\n"
     ]
    }
   ],
   "source": [
    "#wap to print even position character in a given string\n",
    "st='pyspiders'\n",
    "i=0\n",
    "while i<len(st):\n",
    "    if i%2!=0:\n",
    "        print(st[i])\n",
    "    i+=1"
   ]
  },
  {
   "cell_type": "code",
   "execution_count": 11,
   "metadata": {},
   "outputs": [
    {
     "name": "stdout",
     "output_type": "stream",
     "text": [
      "5\n"
     ]
    }
   ],
   "source": [
    "#wap to print the total number of chatacters present in given string with len fun\n",
    "s='hello'\n",
    "i=0\n",
    "count=0\n",
    "while i<len(s):\n",
    "    count+=1\n",
    "    i+=1\n",
    "print(count)\n"
   ]
  },
  {
   "cell_type": "code",
   "execution_count": 8,
   "metadata": {},
   "outputs": [
    {
     "name": "stdout",
     "output_type": "stream",
     "text": [
      "4\n"
     ]
    }
   ],
   "source": [
    "#wap to print the total number of chatacters present in given string without using len fun\n",
    "st=\"pencile\"\n",
    "count=0\n",
    "i=1\n",
    "while st:\n",
    "    count+=1\n",
    "    st=st[:-(i)]\n",
    "    i+=1\n",
    "print(count)"
   ]
  },
  {
   "cell_type": "code",
   "execution_count": 13,
   "metadata": {},
   "outputs": [
    {
     "name": "stdout",
     "output_type": "stream",
     "text": [
      "p\n",
      "y\n",
      "s\n",
      "i\n",
      "d\n",
      "e\n",
      "r\n",
      "S\n",
      "T\n",
      "E\n",
      "A\n",
      "M\n"
     ]
    }
   ],
   "source": [
    "#WAP to print alphabets in agiven srting\n",
    "s=\"pysiderSTEAM34^&*\"\n",
    "i=0\n",
    "while i<len(s):\n",
    "    if 'A'<=s[i]<='Z' or 'a'<=s[i]<='z':\n",
    "        print(s[i])\n",
    "    i+=1\n"
   ]
  },
  {
   "cell_type": "code",
   "execution_count": 14,
   "metadata": {},
   "outputs": [
    {
     "name": "stdout",
     "output_type": "stream",
     "text": [
      "5\n"
     ]
    }
   ],
   "source": [
    "#wap to count no of uppercases in given string\n",
    "st=\"pysiderSTEAM34^&*\"\n",
    "i=0\n",
    "count=0\n",
    "while i<len(st):\n",
    "    if 'A'<=st[i]<='Z':\n",
    "        count+=1\n",
    "    i+=1\n",
    "print(count)"
   ]
  },
  {
   "cell_type": "code",
   "execution_count": 15,
   "metadata": {},
   "outputs": [
    {
     "name": "stdout",
     "output_type": "stream",
     "text": [
      "7\n"
     ]
    }
   ],
   "source": [
    "#wap count lowercase in a given string\n",
    "st=\"pysiderSTEAM34^&*\"\n",
    "i=0\n",
    "count=0\n",
    "while i<len(st):\n",
    "    if 'a'<=st[i]<='z':\n",
    "        count+=1\n",
    "    i+=1\n",
    "print(count)"
   ]
  },
  {
   "cell_type": "code",
   "execution_count": 17,
   "metadata": {},
   "outputs": [
    {
     "name": "stdout",
     "output_type": "stream",
     "text": [
      "3\n"
     ]
    }
   ],
   "source": [
    "#wap count specialcharacters in a given string\n",
    "st=\"pysiderSTEAM34^&*\"\n",
    "i=0\n",
    "count=0\n",
    "while i<len(st):\n",
    "    if not('A'<=st[i]<='Z' or 'a'<=st[i]<='z' or '0'<=st[i]<='9'):\n",
    "        count+=1\n",
    "    i+=1\n",
    "print(count)"
   ]
  },
  {
   "cell_type": "code",
   "execution_count": 18,
   "metadata": {},
   "outputs": [
    {
     "name": "stdout",
     "output_type": "stream",
     "text": [
      "12\n"
     ]
    }
   ],
   "source": [
    "#wap count uppercase and lowercase in a given string\n",
    "st=\"pysiderSTEAM34^&*\"\n",
    "i=0\n",
    "count=0\n",
    "while i<len(st):\n",
    "    if 'A'<=st[i]<='Z' or 'a'<=st[i]<='z':\n",
    "        count+=1\n",
    "    i+=1\n",
    "print(count)"
   ]
  },
  {
   "cell_type": "code",
   "execution_count": 19,
   "metadata": {},
   "outputs": [
    {
     "name": "stdout",
     "output_type": "stream",
     "text": [
      "2\n"
     ]
    }
   ],
   "source": [
    "#wap count ascii numbers  in a given string\n",
    "st=\"pysiderSTEAM34^&*\"\n",
    "i=0\n",
    "count=0\n",
    "while i<len(st):\n",
    "    if '0'<=st[i]<='9':\n",
    "        count+=1\n",
    "    i+=1\n",
    "print(count)"
   ]
  },
  {
   "cell_type": "code",
   "execution_count": 32,
   "metadata": {},
   "outputs": [
    {
     "name": "stdout",
     "output_type": "stream",
     "text": [
      "3\n"
     ]
    }
   ],
   "source": [
    "#WAP to count total no of words in given string\n",
    "s=\"hello world s\"\n",
    "i=0\n",
    "count=0\n",
    "while i<len(s):\n",
    "    if ' '==s[i]:\n",
    "        count+=1\n",
    "    i+=1\n",
    "print(count+1)\n",
    "    "
   ]
  },
  {
   "cell_type": "code",
   "execution_count": 24,
   "metadata": {},
   "outputs": [
    {
     "name": "stdout",
     "output_type": "stream",
     "text": [
      "2\n"
     ]
    }
   ],
   "source": [
    "#WAP to count total no of spaces in given string\n",
    "s=\"hello world s\"\n",
    "i=0\n",
    "count=0\n",
    "while i<len(s):\n",
    "    if s[i]==' ':\n",
    "        count+=1\n",
    "    i+=1\n",
    "print(count)\n"
   ]
  },
  {
   "cell_type": "code",
   "execution_count": 25,
   "metadata": {},
   "outputs": [
    {
     "name": "stdout",
     "output_type": "stream",
     "text": [
      "5\n"
     ]
    }
   ],
   "source": [
    "#wap to count vowels in a string\n",
    "s='neerajpawar'\n",
    "i=0\n",
    "count=0\n",
    "while i<len(s):\n",
    "    if s[i] in 'AEIOUaeiou':\n",
    "        count+=1\n",
    "    i+=1\n",
    "print(count)"
   ]
  },
  {
   "cell_type": "code",
   "execution_count": 27,
   "metadata": {},
   "outputs": [
    {
     "name": "stdout",
     "output_type": "stream",
     "text": [
      "6\n"
     ]
    }
   ],
   "source": [
    "#wap to count consonants in given string\n",
    "s='neerajpawar'\n",
    "i=0\n",
    "count=0\n",
    "while i<len(s):\n",
    "    if s[i] not in 'AEIOUaeiou':\n",
    "        count+=1\n",
    "    i+=1\n",
    "print(count)"
   ]
  },
  {
   "cell_type": "code",
   "execution_count": 30,
   "metadata": {},
   "outputs": [
    {
     "name": "stdout",
     "output_type": "stream",
     "text": [
      "11\n"
     ]
    }
   ],
   "source": [
    "#wap to count  vowels and consonants in given string\n",
    "s='neerajpawar1234#$%'\n",
    "i=0\n",
    "count=0\n",
    "while i<len(s):\n",
    "    if 'A'<=s[i]<='z'or 'a'<=s[i]<='z':\n",
    "        count+=1\n",
    "    i+=1\n",
    "print(count)"
   ]
  },
  {
   "cell_type": "code",
   "execution_count": 2,
   "metadata": {},
   "outputs": [
    {
     "name": "stdout",
     "output_type": "stream",
     "text": [
      "2 lines present\n"
     ]
    }
   ],
   "source": [
    "#wap to count no of new lines in given string\n",
    "s='helloworld\\ngoodmoring\\n'\n",
    "count=0\n",
    "start=0\n",
    "while start<len(s):\n",
    "    if s[start]=='\\n':\n",
    "        count+=1\n",
    "    start+=1\n",
    "print(count,\"lines present\")\n"
   ]
  },
  {
   "cell_type": "code",
   "execution_count": 32,
   "metadata": {},
   "outputs": [
    {
     "name": "stdout",
     "output_type": "stream",
     "text": [
      "3\n"
     ]
    }
   ],
   "source": [
    "#wap to count no of lines in given string\n",
    "s='neeraj\\npawar\\n1234\\n#$%'\n",
    "i=0\n",
    "count=0\n",
    "while i<len(s):\n",
    "    if s[i]=='\\n':\n",
    "        count+=1\n",
    "    i+=1\n",
    "print(count)\n"
   ]
  },
  {
   "cell_type": "code",
   "execution_count": 34,
   "metadata": {},
   "outputs": [
    {
     "name": "stdout",
     "output_type": "stream",
     "text": [
      "12\n",
      "2\n",
      "3\n"
     ]
    }
   ],
   "source": [
    "#WAP to count no of alphabets,numbers and special char is given string\n",
    "s=\"pysiderSTEAM34^&*\"\n",
    "i=0\n",
    "count=0\n",
    "res=0\n",
    "pr=0\n",
    "while i<len(st):\n",
    "    if 'A'<=s[i]<='Z'or 'a'<=s[i]<='z':\n",
    "        count+=1\n",
    "    elif '0'<=s[i]<='9':\n",
    "        res+=1\n",
    "    else:\n",
    "        pr+=1\n",
    "    i+=1\n",
    "print(count)\n",
    "print(res)\n",
    "print(pr)"
   ]
  },
  {
   "cell_type": "code",
   "execution_count": 36,
   "metadata": {},
   "outputs": [
    {
     "name": "stdout",
     "output_type": "stream",
     "text": [
      "14\n"
     ]
    }
   ],
   "source": [
    "#wap to sum of digits in agiven string\n",
    "s=\"2345etrghjWESDFGVB$%*\"\n",
    "i=0\n",
    "sum=0\n",
    "while i<len(s):\n",
    "    if '0'<=s[i]<='9':\n",
    "        sum+=int(s[i])\n",
    "    i+=1\n",
    "print(sum)"
   ]
  },
  {
   "cell_type": "code",
   "execution_count": 1,
   "metadata": {},
   "outputs": [
    {
     "name": "stdout",
     "output_type": "stream",
     "text": [
      "5\n"
     ]
    }
   ],
   "source": [
    "#WAP to total no of words in a first line of docstr\n",
    "s='''hii bye erfgh gnhuj y6hyu\n",
    "hello\n",
    "barbie\n",
    "hehe'''\n",
    "x=0\n",
    "pos=None\n",
    "while x<len(s):\n",
    "    if s[x]=='\\n':\n",
    "        pos=x\n",
    "        break\n",
    "    x+=1\n",
    "st=s[:pos]\n",
    "p=0\n",
    "c=0\n",
    "while p<len(st):\n",
    "    if st[p]==' ':\n",
    "        c+=1\n",
    "    p+=1\n",
    "print(c+1)"
   ]
  },
  {
   "cell_type": "code",
   "execution_count": 53,
   "metadata": {},
   "outputs": [
    {
     "name": "stdout",
     "output_type": "stream",
     "text": [
      "Helowrd\n",
      "lol\n"
     ]
    }
   ],
   "source": [
    "#WAP to extract unique and duplicate values from given string\n",
    "s='Helloworld'\n",
    "i=0\n",
    "uni=\"\"\n",
    "dup=\"\"\n",
    "while i<len(s):\n",
    "    if s[i] not in uni:\n",
    "        uni+=s[i]\n",
    "    else:\n",
    "        dup+=s[i]\n",
    "    i+=1\n",
    "print(uni)\n",
    "print(dup)"
   ]
  },
  {
   "cell_type": "code",
   "execution_count": 9,
   "metadata": {},
   "outputs": [
    {
     "name": "stdout",
     "output_type": "stream",
     "text": [
      "s2aeWB%*4\n",
      "2\n"
     ]
    }
   ],
   "source": [
    "# 88 wap to print first occurance of char in astring\n",
    "s=\"s2aeWBa%*W24\"\n",
    "u=\"\"\n",
    "i=0\n",
    "while i<len(s):\n",
    "    if s[i] not in u:\n",
    "        u+=s[i]\n",
    "    i+=1\n",
    "print(u)\n",
    "x=0\n",
    "while x<len(u):\n",
    "    j=0\n",
    "    c=0\n",
    "    while j<len(s):\n",
    "        if u[x]==s[j]:\n",
    "            c+=1\n",
    "        j+=1\n",
    "    if c>1:\n",
    "        print(u[x])\n",
    "        break\n",
    "    x+=1"
   ]
  },
  {
   "cell_type": "code",
   "execution_count": 11,
   "metadata": {},
   "outputs": [
    {
     "name": "stdout",
     "output_type": "stream",
     "text": [
      "24eWB%*nkw\n",
      "\n"
     ]
    }
   ],
   "source": [
    "# 89 wap to print last occurance of char in astring\n",
    "s=\"24eWB%*nkkkwB\"\n",
    "uni=\"\"\n",
    "t=0\n",
    "while t<len(s):\n",
    "    if s[t] not in uni:\n",
    "        uni+=s[t]\n",
    "    t+=1\n",
    "print(uni)\n",
    "i=0\n",
    "while i<len(uni):\n",
    "    x=0\n",
    "    c=0\n",
    "    while x<len(s):\n",
    "        if uni[i]==s[x]:\n",
    "            c+=1\n",
    "        x+=1\n",
    "    r=\"\"\n",
    "    if c>1:\n",
    "        r+=uni[i]\n",
    "    i+=1\n",
    "print(r)\n",
    "\n",
    "\n"
   ]
  },
  {
   "cell_type": "code",
   "execution_count": 5,
   "metadata": {},
   "outputs": [
    {
     "name": "stdout",
     "output_type": "stream",
     "text": [
      "{'2': 1, '4': 1, 'e': 1, 'W': 1, 'B': 2, '%': 1, '*': 1, 'n': 1, 'k': 3, 'w': 1}\n",
      "2 B\n"
     ]
    }
   ],
   "source": [
    "# 90 wap to print first occurance of char in astring\n",
    "s=\"24eWB%*nkkkwB\"\n",
    "d={}\n",
    "i=0\n",
    "while i<len(s):\n",
    "    if s[i] not in d:\n",
    "        d[s[i]]=1\n",
    "    else:\n",
    "        d[s[i]]+=1\n",
    "    i+=1\n",
    "print(d)\n",
    "f=0\n",
    "t=list(d)\n",
    "small=1\n",
    "while f<len(t):\n",
    "    if small<d[t[f]]:\n",
    "        print(d[t[f]],t[f])\n",
    "        break\n",
    "    f+=1\n"
   ]
  },
  {
   "cell_type": "code",
   "execution_count": 13,
   "metadata": {},
   "outputs": [
    {
     "name": "stdout",
     "output_type": "stream",
     "text": [
      "{'2': 1, '4': 1, 'e': 1, 'W': 1, 'B': 2, '%': 1, '*': 1, 'n': 1, 'k': 3, 'w': 1}\n",
      "k\n"
     ]
    }
   ],
   "source": [
    "# 91 wap to print last occurance of char in astring\n",
    "s=\"24eWB%*nkkkwB\"\n",
    "d={}\n",
    "i=0\n",
    "while i<len(s):\n",
    "    if s[i] not in d:\n",
    "        d[s[i]]=1\n",
    "    else:\n",
    "        d[s[i]]+=1\n",
    "    i+=1\n",
    "print(d)\n",
    "f=0\n",
    "t=list(d)\n",
    "small=1\n",
    "ch=\"\"\n",
    "while f<len(t):\n",
    "    if small<d[t[f]]:\n",
    "        ch+=str(t[f])\n",
    "    f+=1\n",
    "print(ch[-1])\n"
   ]
  },
  {
   "cell_type": "code",
   "execution_count": 16,
   "metadata": {},
   "outputs": [
    {
     "name": "stdout",
     "output_type": "stream",
     "text": [
      "{'2': 1, '4': 2, 'W': 2, 'B': 1, '%': 1, '*': 1}\n",
      "2\n"
     ]
    }
   ],
   "source": [
    "# 92  wap to print first not occurance of char in astring\n",
    "s=\"24WB%*4W\"\n",
    "start=0\n",
    "u={}\n",
    "while start<len(s):\n",
    "    if s[start] not in u:\n",
    "        u[s[start]]=1\n",
    "    else:\n",
    "        u[s[start]]+=1\n",
    "    start+=1\n",
    "print(u)\n",
    "l=list(u)\n",
    "x=0\n",
    "small=1\n",
    "while x<len(l):\n",
    "    if small==u[l[x]]:\n",
    "        print(l[x])\n",
    "        break\n",
    "    x+=1"
   ]
  },
  {
   "cell_type": "code",
   "execution_count": 22,
   "metadata": {},
   "outputs": [
    {
     "name": "stdout",
     "output_type": "stream",
     "text": [
      "{'h': 1, 'e': 1, 'k': 3, 'o': 3, 'c': 1}\n",
      "c\n"
     ]
    }
   ],
   "source": [
    "# 93 wap to print last not occurance of char in astring\n",
    "s='hekkocook'\n",
    "i=0\n",
    "d={}\n",
    "while i<len(s):\n",
    "    if s[i] not in d:\n",
    "        d[s[i]]=1\n",
    "    else:\n",
    "        d[s[i]]+=1\n",
    "    i+=1\n",
    "print(d)\n",
    "t=list(d)\n",
    "x=0\n",
    "small=1\n",
    "ch=\"\"\n",
    "while x<len(t):\n",
    "    if small==d[t[x]]:\n",
    "       ch+=t[x]\n",
    "    x+=1\n",
    "print(ch[-1])\n",
    "\n",
    "\n"
   ]
  },
  {
   "cell_type": "code",
   "execution_count": 30,
   "metadata": {},
   "outputs": [
    {
     "name": "stdout",
     "output_type": "stream",
     "text": [
      "{'h': 1, 'e': 1, 'l': 3, 'o': 2, 'w': 1, 'r': 1, 'd': 1}\n",
      "['h', 'e', 'o', 'w', 'r', 'd']\n"
     ]
    }
   ],
   "source": [
    "# 94 WAP to remove first occurrance of char in astring\n",
    "s=\"helloworld\"\n",
    "i=0\n",
    "d={}\n",
    "while i<len(s):\n",
    "    if s[i] not in d:\n",
    "        d[s[i]]=1\n",
    "    else:\n",
    "        d[s[i]]+=1\n",
    "    i+=1\n",
    "print(d)\n",
    "l=list(d)\n",
    "x=0\n",
    "small=1\n",
    "while x<len(l):\n",
    "    if small<d[l[x]]:\n",
    "        del l[x]\n",
    "        break\n",
    "    x+=1\n",
    "print(l)\n",
    "        \n"
   ]
  },
  {
   "cell_type": "code",
   "execution_count": 35,
   "metadata": {},
   "outputs": [
    {
     "name": "stdout",
     "output_type": "stream",
     "text": [
      "{'h': 1, 'e': 1, 'l': 3, 'o': 2, 'w': 1, 'r': 1, 'd': 1}\n",
      "['h', 'e', 'o', 'w', 'r', 'd']\n"
     ]
    }
   ],
   "source": [
    "# 95 WAP to remove last occurrance of char in astring\n",
    "s=\"helloworld\"\n",
    "x=0\n",
    "d={}\n",
    "while x<len(s):\n",
    "    if s[x] not in d:\n",
    "        d[s[x]]=1\n",
    "    else:\n",
    "        d[s[x]]+=1\n",
    "    x+=1\n",
    "print(d)\n",
    "l=list(d)\n",
    "i=0\n",
    "c=1\n",
    "\n",
    "while i<len(l):\n",
    "    if c<d[l[i]]:\n",
    "        c=d[l[i]]\n",
    "        del l[i]\n",
    "    i+=1\n",
    "print(l)\n"
   ]
  },
  {
   "cell_type": "code",
   "execution_count": 3,
   "metadata": {},
   "outputs": [
    {
     "name": "stdout",
     "output_type": "stream",
     "text": [
      "2\n"
     ]
    }
   ],
   "source": [
    "# 96 WAP to count occurence of specific character in a given string\n",
    "st=\"helloworld\"\n",
    "s=\"o\"\n",
    "i=0\n",
    "count=0\n",
    "if s in st:\n",
    "    while i<len(st):\n",
    "        if st[i]==s:\n",
    "            count+=1\n",
    "        i+=1\n",
    "    print(count)\n",
    "\n"
   ]
  },
  {
   "cell_type": "code",
   "execution_count": 4,
   "metadata": {},
   "outputs": [
    {
     "name": "stdout",
     "output_type": "stream",
     "text": [
      "{'n': 1, 'e': 2, 'r': 2, 'a': 3, 'j': 1, 'p': 1, 'w': 1}\n",
      "a\n"
     ]
    }
   ],
   "source": [
    "# 97 Wap TO count max occurence of char in a given string\n",
    "t=\"neerajpawar\"\n",
    "i=0\n",
    "d={}\n",
    "while i<len(t):\n",
    "    if t[i] not in d:\n",
    "        d[t[i]]=1\n",
    "    else:\n",
    "        d[t[i]]+=1\n",
    "    i+=1\n",
    "print(d)\n",
    "l=list(d)\n",
    "x=0\n",
    "small=0\n",
    "ch=\"\"\n",
    "while x<len(l):\n",
    "    if small<d[l[x]]:\n",
    "        small=d[l[x]]\n",
    "        ch=l[x]\n",
    "    x+=1\n",
    "print(ch)\n"
   ]
  },
  {
   "cell_type": "code",
   "execution_count": 13,
   "metadata": {},
   "outputs": [
    {
     "name": "stdout",
     "output_type": "stream",
     "text": [
      "{'n': 1, 'e': 2, 'r': 2, 'a': 3, 'j': 1, 'p': 1, 'w': 1}\n",
      "e\n"
     ]
    }
   ],
   "source": [
    "# 98 Wap TO count min occurence of char in a given string\n",
    "t=\"neerajpawar\"\n",
    "i=0\n",
    "d={}\n",
    "while i<len(t):\n",
    "    if t[i] not in d:\n",
    "        d[t[i]]=1\n",
    "    else:\n",
    "        d[t[i]]+=1\n",
    "    i+=1\n",
    "print(d)\n",
    "l=list(d)\n",
    "x=0\n",
    "high=9\n",
    "cl=\"\"\n",
    "while x<len(l):\n",
    "    if  high>d[l[x]] and d[l[x]]!=1:\n",
    "        high=d[l[x]]\n",
    "        cl=l[x]\n",
    "    x+=1\n",
    "print(cl)\n",
    "\n",
    "\n",
    "\n"
   ]
  },
  {
   "cell_type": "code",
   "execution_count": 23,
   "metadata": {},
   "outputs": [
    {
     "name": "stdout",
     "output_type": "stream",
     "text": [
      "python Course\n"
     ]
    }
   ],
   "source": [
    "# 99 wap to replace the specific character into new character\n",
    "st=\"python course\"\n",
    "i=0\n",
    "pos=None\n",
    "d='c'\n",
    "while i<len(st):\n",
    "    if st[i]==d:\n",
    "        pos=i\n",
    "        st=st[:pos]+'C'+st[pos+1:]\n",
    "    i+=1\n",
    "print(st)\n",
    "\n"
   ]
  },
  {
   "cell_type": "code",
   "execution_count": 53,
   "metadata": {},
   "outputs": [
    {
     "name": "stdout",
     "output_type": "stream",
     "text": [
      "ello\n",
      "llo\n",
      "lo\n",
      "o\n",
      "\n"
     ]
    }
   ],
   "source": [
    "s='hello'\n",
    "i=0\n",
    "while i<len(s):\n",
    "    s=s[1:]\n",
    "    print(s)"
   ]
  },
  {
   "cell_type": "code",
   "execution_count": 33,
   "metadata": {},
   "outputs": [
    {
     "name": "stdout",
     "output_type": "stream",
     "text": [
      "ptcss\n"
     ]
    }
   ],
   "source": [
    "# 100 WAP to convert uppercase characters to lowercase char in a string\n",
    "st=\"PyTonClaSS\"\n",
    "start=0\n",
    "res=\"\"\n",
    "while start<len(st):\n",
    "    if 'A'<=st[start]<='Z':\n",
    "        res+=(chr(ord(st[start])+32))\n",
    "    start+=1\n",
    "print(res)"
   ]
  },
  {
   "cell_type": "code",
   "execution_count": 32,
   "metadata": {},
   "outputs": [
    {
     "name": "stdout",
     "output_type": "stream",
     "text": [
      "YONLA\n"
     ]
    }
   ],
   "source": [
    "# 101 WAP to convert lowercase characters to upperrcase char in a string\n",
    "st=\"PyTonClaSS\"\n",
    "start=0\n",
    "res=\"\"\n",
    "while start<len(st):\n",
    "    if 'a'<=st[start]<='z':\n",
    "        res+=(chr(ord(st[start])-32))\n",
    "    start+=1\n",
    "print(res)"
   ]
  },
  {
   "cell_type": "code",
   "execution_count": 18,
   "metadata": {},
   "outputs": [
    {
     "name": "stdout",
     "output_type": "stream",
     "text": [
      "p\n",
      "t\n",
      "s\n"
     ]
    }
   ],
   "source": [
    "# 102 wap to convert uppercase to lowercase in even position character in a given string\n",
    "st=\"PyTonClaSS\"\n",
    "start=0\n",
    "while start<len(st):\n",
    "    if start%2==0:\n",
    "        if 'A'<=st[start]<='Z':\n",
    "            print(chr(ord(st[start])+32))\n",
    "    start+=1"
   ]
  },
  {
   "cell_type": "code",
   "execution_count": 19,
   "metadata": {},
   "outputs": [
    {
     "name": "stdout",
     "output_type": "stream",
     "text": [
      "c\n",
      "s\n"
     ]
    }
   ],
   "source": [
    "#103 wap to convert uppercase to lowercase in even position character in a given string\n",
    "st=\"PyTonClaSS\"\n",
    "start=0\n",
    "while start<len(st):\n",
    "    if start%2!=0:\n",
    "        if 'A'<=st[start]<='Z':\n",
    "            print(chr(ord(st[start])+32))\n",
    "    start+=1\n"
   ]
  },
  {
   "cell_type": "code",
   "execution_count": 21,
   "metadata": {},
   "outputs": [
    {
     "name": "stdout",
     "output_type": "stream",
     "text": [
      "QWERasdfghj**78\n"
     ]
    }
   ],
   "source": [
    "# 104 wap to convert the uppercase to lowercase and lowercase to uppercase .if the character is special char replace with * in given input str\n",
    "st=\"qwerASDFGHJ%^78\"\n",
    "s=0\n",
    "res=''\n",
    "while s<len(st):\n",
    "    if 'A'<=st[s]<='Z':\n",
    "        res+=chr(ord(st[s])+32)\n",
    "    elif 'a'<=st[s]<='z':\n",
    "        res+=chr(ord(st[s])-32)\n",
    "    elif '0'<=st[s]<='9':\n",
    "        res+=st[s]\n",
    "    else:\n",
    "        res+='*'\n",
    "    s+=1\n",
    "print(res)"
   ]
  },
  {
   "cell_type": "code",
   "execution_count": 37,
   "metadata": {},
   "outputs": [
    {
     "name": "stdout",
     "output_type": "stream",
     "text": [
      "good_evening\n"
     ]
    }
   ],
   "source": [
    "# 106 WAP to convert snake case in a given string\n",
    "s=\"good evening\"\n",
    "x=0\n",
    "res=\"\"\n",
    "while x<len(s):\n",
    "    if s[x]==' ':\n",
    "        res+='_'\n",
    "    elif 'A'<=s[x]<='Z':\n",
    "        res+=chr(ord(s[x])+32)\n",
    "    else:\n",
    "        res+=s[x]\n",
    "    x+=1\n",
    "print(res)"
   ]
  },
  {
   "cell_type": "code",
   "execution_count": 52,
   "metadata": {},
   "outputs": [
    {
     "name": "stdout",
     "output_type": "stream",
     "text": [
      "hello_world_\n"
     ]
    }
   ],
   "source": [
    "# WAP to convert given string into dragoncase\n",
    "# 1.before and after string two _ are present 3. string shouldnot have any space repkace with _\n",
    "#2.all char should be lowercase and special symbols and numbers should delete \n",
    "st=\"Hello World 24^&\"\n",
    "res=\"\"\n",
    "i=0\n",
    "while i<len(st):\n",
    "    if 'A'<=st[i]<='Z':\n",
    "        res+=chr(ord(st[i])+32)\n",
    "    elif st[i]==' ':\n",
    "        res+='_'\n",
    "    elif 'a'<=st[i]<='z':\n",
    "        res+=st[i]\n",
    "    i+=1\n",
    "print(res)\n"
   ]
  },
  {
   "cell_type": "code",
   "execution_count": null,
   "metadata": {},
   "outputs": [],
   "source": [
    "# 107 wap to toogle character case in a string\n",
    "s=\"helloWorld\"                                        #TOggle char menas mix of uc and lc"
   ]
  },
  {
   "cell_type": "code",
   "execution_count": 39,
   "metadata": {},
   "outputs": [
    {
     "name": "stdout",
     "output_type": "stream",
     "text": [
      "h101ll111\n"
     ]
    }
   ],
   "source": [
    "# 108 WAP to replace the vowels with ascii value without temp varible\n",
    "s=\"hello\"\n",
    "x=0\n",
    "res=\"\"\n",
    "while x<len(s):\n",
    "    if s[x] in 'AEIOUaeiou':\n",
    "        res+=str(ord(s[x]))\n",
    "    else:\n",
    "        res+=s[x]\n",
    "    x+=1\n",
    "print(res)\n",
    "        \n"
   ]
  },
  {
   "cell_type": "code",
   "execution_count": 1,
   "metadata": {},
   "outputs": [
    {
     "name": "stdout",
     "output_type": "stream",
     "text": [
      "h101ll111\n"
     ]
    }
   ],
   "source": [
    "# 108 WAP to replace the vowels with ascii value with temp varible\n",
    "s=\"hello\"\n",
    "x=0\n",
    "st=\"\"\n",
    "while x<len(s):\n",
    "    if s[x] in 'AEIOUaeiou':\n",
    "        st+=str(ord(s[x]))\n",
    "    else:\n",
    "        st+=s[x]\n",
    "    x+=1\n",
    "print(st)\n"
   ]
  },
  {
   "cell_type": "code",
   "execution_count": 46,
   "metadata": {},
   "outputs": [
    {
     "name": "stdout",
     "output_type": "stream",
     "text": [
      "104e108108o\n"
     ]
    }
   ],
   "source": [
    "# 109 wap to replace the consonants into ascii value in agiven string with temp varaible\n",
    "s=\"hello\"\n",
    "f=0\n",
    "res=\"\"\n",
    "while f<len(s):\n",
    "    if s[f] not in 'AEIOUaeiou':\n",
    "        res+=str(ord(s[f]))\n",
    "    else:\n",
    "        res+=s[f]\n",
    "    f+=1\n",
    "print(res)\n"
   ]
  },
  {
   "cell_type": "code",
   "execution_count": 48,
   "metadata": {},
   "outputs": [
    {
     "name": "stdout",
     "output_type": "stream",
     "text": [
      "hel108o\n"
     ]
    }
   ],
   "source": [
    "# 110 wap to replace the consonants in odd position  into ascii value in agiven string with temp varaible\n",
    "s=\"hello\"\n",
    "x=0\n",
    "tr=\"\"\n",
    "while x<len(s):\n",
    "    if s[x] not in 'AEIOUaeiou' and x%2!=0:\n",
    "        tr+=str(ord(s[x]))\n",
    "    else:\n",
    "        tr+=s[x]\n",
    "    x+=1\n",
    "print(tr)\n",
    "\n",
    "\n"
   ]
  },
  {
   "cell_type": "code",
   "execution_count": 49,
   "metadata": {},
   "outputs": [
    {
     "name": "stdout",
     "output_type": "stream",
     "text": [
      "hell111\n"
     ]
    }
   ],
   "source": [
    "# 111 wap to replace the vowels in even position  into ascii value in agiven string with temp varaible\n",
    "s=\"hello\"\n",
    "f=0\n",
    "res=\"\"\n",
    "while f<len(s):\n",
    "    if s[f] in 'AEIOUaeiou' and f%2==0:\n",
    "        res+=str(ord(s[f]))\n",
    "    else:\n",
    "        res+=s[f]\n",
    "    f+=1\n",
    "print(res)"
   ]
  },
  {
   "cell_type": "code",
   "execution_count": 50,
   "metadata": {},
   "outputs": [
    {
     "name": "stdout",
     "output_type": "stream",
     "text": [
      "good-night-\n"
     ]
    }
   ],
   "source": [
    "# 112 wap to replace the spaces with hypen in the string(with and without tempm varaible)\n",
    "s=\"good night \"\n",
    "i=0\n",
    "res=\"\"\n",
    "while i<len(s):\n",
    "    if s[i]==' ':\n",
    "        res+='-'\n",
    "    else:\n",
    "        res+=s[i]\n",
    "    i+=1\n",
    "print(res)"
   ]
  },
  {
   "cell_type": "code",
   "execution_count": 27,
   "metadata": {},
   "outputs": [
    {
     "name": "stdout",
     "output_type": "stream",
     "text": [
      "pto ore\n"
     ]
    }
   ],
   "source": [
    "# 113 WAP to remove odd position characters in a given string\n",
    "s=\"python course\"\n",
    "i=0\n",
    "c=\"\"\n",
    "while i<len(s):\n",
    "    if i%2==0:\n",
    "        c+=s[i]\n",
    "    i+=1\n",
    "print(c)\n"
   ]
  },
  {
   "cell_type": "code",
   "execution_count": 29,
   "metadata": {},
   "outputs": [
    {
     "name": "stdout",
     "output_type": "stream",
     "text": [
      "yhncus\n"
     ]
    }
   ],
   "source": [
    "# 114 WAP to remove odd position characters in a given string\n",
    "s=\"python course\"\n",
    "x=0\n",
    "cl=\"\"\n",
    "while x<len(s):\n",
    "    if x%2!=0:\n",
    "        cl+=s[x]\n",
    "    x+=1\n",
    "print(cl)"
   ]
  },
  {
   "cell_type": "code",
   "execution_count": 30,
   "metadata": {},
   "outputs": [
    {
     "name": "stdout",
     "output_type": "stream",
     "text": [
      "23$ $*\n"
     ]
    }
   ],
   "source": [
    "#115 wap to remove alphabtes in given string\n",
    "s=\"he23l$lo h$ii*\"\n",
    "x=0\n",
    "cl=\"\"\n",
    "while x<len(s):\n",
    "    if not('A'<=s[x]<='Z'or 'a'<=s[x]<='z'):\n",
    "        cl+=s[x]\n",
    "    x+=1\n",
    "print(cl)"
   ]
  },
  {
   "cell_type": "code",
   "execution_count": 31,
   "metadata": {},
   "outputs": [
    {
     "name": "stdout",
     "output_type": "stream",
     "text": [
      "hel$lo h$ii*\n"
     ]
    }
   ],
   "source": [
    "#116 wap to remove ascii numbers in a given string\n",
    "s=\"he23l$lo h$ii*\"\n",
    "i=0\n",
    "ch=\"\"\n",
    "while i<len(s):\n",
    "    if not('0'<=s[i]<='9'):\n",
    "        ch+=s[i]\n",
    "    i+=1\n",
    "print(ch)"
   ]
  },
  {
   "cell_type": "code",
   "execution_count": 1,
   "metadata": {},
   "outputs": [
    {
     "name": "stdout",
     "output_type": "stream",
     "text": [
      "he23llohii\n"
     ]
    }
   ],
   "source": [
    "# 117 wap to remove special characters from given string\n",
    "s=\"he23l$lo h$ii*\"\n",
    "i=0\n",
    "d=\"\"\n",
    "while i<len(s):\n",
    "    if 'a'<=s[i]<'z' or 'A'<=s[i]<='Z' or '0'<=s[i]<='9':\n",
    "        d+=s[i]\n",
    "    i+=1\n",
    "print(d)"
   ]
  },
  {
   "cell_type": "code",
   "execution_count": 4,
   "metadata": {},
   "outputs": [
    {
     "name": "stdout",
     "output_type": "stream",
     "text": [
      "panlindrome\n"
     ]
    }
   ],
   "source": [
    "# 118 wap to check given string is palindrome or not\n",
    "st=\"amma\"\n",
    "i=-1\n",
    "ch=\"\"\n",
    "while i>=(-len(st)):\n",
    "    ch+=st[i]\n",
    "    i-=1\n",
    "if ch==st:\n",
    "    print(\"panlindrome\")\n",
    "else:\n",
    "    print(\"not palindrome\")\n"
   ]
  },
  {
   "cell_type": "code",
   "execution_count": 6,
   "metadata": {},
   "outputs": [
    {
     "name": "stdout",
     "output_type": "stream",
     "text": [
      "lower case\n"
     ]
    }
   ],
   "source": [
    "# 119 wap to check whether the given string is lowercase or not\n",
    "st=\"hellohiee\"\n",
    "i=0\n",
    "ch=\"\"\n",
    "while i<len(st):\n",
    "    if 'a'<=st[i]<='z':\n",
    "        ch+=st[i]\n",
    "    i+=1\n",
    "if ch==st:\n",
    "    print(\"lower case\")\n",
    "else:\n",
    "    print(\"not lower case\")\n",
    "\n",
    "    "
   ]
  },
  {
   "cell_type": "code",
   "execution_count": 7,
   "metadata": {},
   "outputs": [
    {
     "name": "stdout",
     "output_type": "stream",
     "text": [
      "WESDFGVB\n",
      "etrghj\n",
      "2345\n",
      "$%*\n"
     ]
    }
   ],
   "source": [
    "# WAP to extract \n",
    "st=\"2345etrghjWESDFGVB$%*\"\n",
    "start=0\n",
    "a=\"\"\n",
    "b=\"\"\n",
    "c=\"\"\n",
    "d=\"\"\n",
    "while start<len(st):\n",
    "    if 'A'<=st[start]<='Z':\n",
    "        a+=st[start]\n",
    "    elif 'a'<=st[start]<='z':\n",
    "        b+=st[start]\n",
    "    elif '0'<=st[start]<='9':\n",
    "        c+=st[start]\n",
    "    else:\n",
    "        d+=st[start]\n",
    "    start+=1\n",
    "print(a)\n",
    "print(b)\n",
    "print(c)\n",
    "print(d)"
   ]
  },
  {
   "cell_type": "code",
   "execution_count": 15,
   "metadata": {},
   "outputs": [
    {
     "name": "stdout",
     "output_type": "stream",
     "text": [
      "SRa@#2vani valid password\n"
     ]
    }
   ],
   "source": [
    "pw=\"SRa@#2vani\"\n",
    "uc,lc,an,sp=0,0,0,0\n",
    "if 8<=len(pw)<=16:\n",
    "    start=0\n",
    "    while start<len(pw):\n",
    "        if 'A'<=pw[start]<='Z':\n",
    "            uc+=1\n",
    "        elif 'a'<=pw[start]<='z':\n",
    "            lc+=1\n",
    "        elif '0'<=pw[start]<='9':\n",
    "            an+=1\n",
    "        else:\n",
    "            sp+=1\n",
    "        start+=1\n",
    "    if uc>=2 and lc>=1 and an>=1 and sp>=2:\n",
    "        print(pw,\"valid password\")\n",
    "    else:\n",
    "        print(\"invalid password\")\n",
    "else:\n",
    "    print(\"invalid password\")\n"
   ]
  },
  {
   "cell_type": "code",
   "execution_count": 21,
   "metadata": {},
   "outputs": [
    {
     "name": "stdout",
     "output_type": "stream",
     "text": [
      "7\n",
      "valid email\n"
     ]
    }
   ],
   "source": [
    "#WAP to check given email id is vaild or not.if vaild display email id else display invaild emailid.\n",
    "# 1. email should not have any special character except @,. 2.@ should be one and after @ minimum one dot(.) max 2 dots\n",
    "st=\"sravani@gmail.com.in\"\n",
    "i=0\n",
    "temp=0\n",
    "while i<len(st):\n",
    "    if not('A'<=st[i]<='Z' or 'a'<=st[i]<='z' or '0'<=st[i]<='9'or st[i] in '@.'):\n",
    "        temp+=1\n",
    "    i+=1\n",
    "if temp==0:\n",
    "        if '@'in st and '.' in st:\n",
    "            n=0\n",
    "            pos=None\n",
    "            count=0\n",
    "            while n<len(st):\n",
    "                if '@'==st[n]:\n",
    "                    pos=n\n",
    "                    count+=1\n",
    "                n+=1\n",
    "            if count==1:\n",
    "                print(pos)\n",
    "                if '.'in st[pos:]:\n",
    "                    c=0\n",
    "                    while pos<len(st):\n",
    "                        if '.'==st[pos]:\n",
    "                            c+=1\n",
    "                        pos+=1\n",
    "                    if 1<=c<=2:\n",
    "                        print(\"valid email\")\n",
    "                    else:\n",
    "                        (\"invaild\")\n",
    "                else:\n",
    "                    print(\"invalid email\")\n",
    "            else:\n",
    "                print(\"invaild email\")\n",
    "        else:\n",
    "            print(\"invaild email\")\n",
    "else:\n",
    "    print(\"invalid email\")\n"
   ]
  },
  {
   "cell_type": "code",
   "execution_count": 3,
   "metadata": {},
   "outputs": [
    {
     "name": "stdout",
     "output_type": "stream",
     "text": [
      "hll\n",
      "e1#\n"
     ]
    }
   ],
   "source": [
    "#wap to convert uppercase to lowercase in a given string\n",
    "st=\"HeLL1#\"\n",
    "d=\"\"\n",
    "n=\"\"\n",
    "i=0\n",
    "while i<len(st):\n",
    "    if 'A'<=st[i]<='Z':\n",
    "        d+=chr(ord(st[i])+32)\n",
    "    else:\n",
    "        n+=st[i]\n",
    "    i+=1\n",
    "print(d)\n",
    "print(n)"
   ]
  },
  {
   "cell_type": "code",
   "execution_count": 12,
   "metadata": {},
   "outputs": [
    {
     "name": "stdout",
     "output_type": "stream",
     "text": [
      "__hello_worldl__\n"
     ]
    }
   ],
   "source": [
    "st=\"Hello world24@l\"\n",
    "res=\"\"\n",
    "i=0\n",
    "while i<len(st):\n",
    "    if 'A'<=st[i]<='Z':\n",
    "        res+=chr(ord(st[i])+32)\n",
    "    elif st[i]==' ':\n",
    "        res+='_'\n",
    "    elif 'a'<=st[i]<='z':\n",
    "        res+=st[i]\n",
    "    i+=1\n",
    "res='__'+res+'__'\n",
    "print(res)\n"
   ]
  },
  {
   "cell_type": "code",
   "execution_count": 10,
   "metadata": {},
   "outputs": [
    {
     "name": "stdout",
     "output_type": "stream",
     "text": [
      "['h', 'e', 'l', 'l', 'o', '2', ' ', 'w', 'o', 'r', 'l', 'd', ' ', '%']\n"
     ]
    }
   ],
   "source": [
    "#wap to extract each char from string and store it inside the list\n",
    "st=\"hello2 world %\"\n",
    "l=[]\n",
    "i=0\n",
    "while i<len(st):\n",
    "    l+=[st[i]]\n",
    "    i+=1\n",
    "print(l)"
   ]
  },
  {
   "cell_type": "code",
   "execution_count": 3,
   "metadata": {},
   "outputs": [
    {
     "name": "stdout",
     "output_type": "stream",
     "text": [
      "100.5(3+5j)Falsehello[10, 20](10,)\n"
     ]
    }
   ],
   "source": [
    "#wap to extract each char from the list and store it inside the str\n",
    "l=[10,0.5,3+5j,False,'hello',[10,20],(10,)]\n",
    "st=\"\"\n",
    "i=0\n",
    "while i<len(l):\n",
    "    st+=str(l[i])\n",
    "    i+=1\n",
    "print(st)"
   ]
  },
  {
   "cell_type": "code",
   "execution_count": 4,
   "metadata": {},
   "outputs": [
    {
     "name": "stdout",
     "output_type": "stream",
     "text": [
      "['[', '1', '0', ',', '0', '.', '5', ',', '3', '+', '5', 'j', ',', 'F', 'a', 'l', 's', 'e', ',', \"'\", 'h', 'e', 'l', 'l', 'o', \"'\", ',', '[', '1', '0', ',', '2', '0', ']', ',', '(', '1', '0', ',', ')', ']']\n"
     ]
    }
   ],
   "source": [
    "l=\"[10,0.5,3+5j,False,'hello',[10,20],(10,)]\"\n",
    "i=0\n",
    "k=[]\n",
    "while i<len(l):\n",
    "    k+=l[i]\n",
    "    i+=1\n",
    "print(k)"
   ]
  },
  {
   "cell_type": "code",
   "execution_count": 5,
   "metadata": {},
   "outputs": [
    {
     "name": "stdout",
     "output_type": "stream",
     "text": [
      "{'n': 110, 'e': 101, 'r': 114, 'j': 106, ' ': 32, 'p': 112, 'a': 97, 'w': 119}\n"
     ]
    }
   ],
   "source": [
    "#wap to extract each char from the str and stroe it inside the dict with value is ascii no\n",
    "n=\"neerj pawar\"\n",
    "d={}\n",
    "i=0\n",
    "while i<len(n):\n",
    "    d[n[i]]=ord(n[i])\n",
    "    i+=1\n",
    "print(d)\n",
    "\n"
   ]
  }
 ],
 "metadata": {
  "kernelspec": {
   "display_name": "Python 3",
   "language": "python",
   "name": "python3"
  },
  "language_info": {
   "codemirror_mode": {
    "name": "ipython",
    "version": 3
   },
   "file_extension": ".py",
   "mimetype": "text/x-python",
   "name": "python",
   "nbconvert_exporter": "python",
   "pygments_lexer": "ipython3",
   "version": "3.11.4"
  },
  "orig_nbformat": 4
 },
 "nbformat": 4,
 "nbformat_minor": 2
}
