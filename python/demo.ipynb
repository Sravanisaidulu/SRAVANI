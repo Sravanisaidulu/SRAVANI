{
 "cells": [
  {
   "cell_type": "code",
   "execution_count": 2,
   "metadata": {},
   "outputs": [
    {
     "name": "stdout",
     "output_type": "stream",
     "text": [
      "helloworld\n"
     ]
    }
   ],
   "source": [
    "# 1.print helloworld program\n",
    "print('helloworld')"
   ]
  },
  {
   "cell_type": "code",
   "execution_count": 1,
   "metadata": {},
   "outputs": [
    {
     "name": "stdout",
     "output_type": "stream",
     "text": [
      "30\n"
     ]
    }
   ],
   "source": [
    "# 2. addition operation\n",
    "a=10\n",
    "b=20\n",
    "c=a+b\n",
    "print(c)"
   ]
  },
  {
   "cell_type": "code",
   "execution_count": 19,
   "metadata": {},
   "outputs": [
    {
     "name": "stdout",
     "output_type": "stream",
     "text": [
      "50\n",
      "(3, 4, 5)\n",
      "{1: 'hii', 2: 'good'}\n"
     ]
    },
    {
     "data": {
      "text/plain": [
       "list"
      ]
     },
     "execution_count": 19,
     "metadata": {},
     "output_type": "execute_result"
    }
   ],
   "source": [
    "#3.fetch the values\n",
    "a=50\n",
    "print(a)\n",
    "e=[10,20,30]\n",
    "c=3,4,5\n",
    "s={1:'hii',2:'good'}\n",
    "print(c)\n",
    "print(s)\n",
    "type(e)"
   ]
  },
  {
   "cell_type": "code",
   "execution_count": 4,
   "metadata": {},
   "outputs": [
    {
     "name": "stdout",
     "output_type": "stream",
     "text": [
      "150\n",
      "120\n",
      "250\n",
      "150 120 250\n"
     ]
    }
   ],
   "source": [
    "#4. intiallize multivaribles\n",
    "a,c,d=150,120,250\n",
    "print(a)\n",
    "print(c)\n",
    "print(d)\n",
    "print(a,c,d)"
   ]
  },
  {
   "cell_type": "code",
   "execution_count": 5,
   "metadata": {},
   "outputs": [
    {
     "name": "stdout",
     "output_type": "stream",
     "text": [
      "<class 'float'>\n"
     ]
    }
   ],
   "source": [
    "#5. print the type ot the value\n",
    "x=10.34\n",
    "print(type(x))"
   ]
  },
  {
   "cell_type": "code",
   "execution_count": 6,
   "metadata": {},
   "outputs": [
    {
     "name": "stdout",
     "output_type": "stream",
     "text": [
      "1624195422080\n"
     ]
    }
   ],
   "source": [
    "#6. print adress of the value\n",
    "k=[10,True,67,40]\n",
    "print(id(k))"
   ]
  },
  {
   "cell_type": "code",
   "execution_count": 9,
   "metadata": {},
   "outputs": [
    {
     "name": "stdout",
     "output_type": "stream",
     "text": [
      "Sravani\n",
      "True\n",
      "{'name': 'Sravani', 'DOB': 29122000, 'Gender': 'Female', 'email': 'pawar@gmail.com', 'pancard': True}\n",
      "29122000\n"
     ]
    }
   ],
   "source": [
    "# 7. was to print the details of you,frist store details and extract them\n",
    "#     when we wnat to display the real time data dictionary datatype is used\n",
    "s={'name':'Sravani','DOB':29_12_2000,'Gender':'Female','email':'pawar@gmail.com','pancard':True}\n",
    "print(s['name'])\n",
    "print(s['pancard'])\n",
    "print(s)\n",
    "print(s['DOB'])"
   ]
  },
  {
   "cell_type": "code",
   "execution_count": 16,
   "metadata": {},
   "outputs": [
    {
     "name": "stdout",
     "output_type": "stream",
     "text": [
      "(10, 20, 30)\n"
     ]
    }
   ],
   "source": [
    "# 8.\n",
    "a=10,20,30\n",
    "print(a)"
   ]
  },
  {
   "cell_type": "code",
   "execution_count": 17,
   "metadata": {},
   "outputs": [
    {
     "name": "stdout",
     "output_type": "stream",
     "text": [
      "20\n",
      "x\n",
      "x\n"
     ]
    }
   ],
   "source": [
    "# 9.was to swap the values using temp variable\n",
    "r='x'\n",
    "b=20\n",
    "d=r\n",
    "r=b\n",
    "b=d\n",
    "print(r)\n",
    "print(b)\n",
    "print(d)\n",
    "# by using temp variable 'r' var become empty so we can assign other value to it\n"
   ]
  },
  {
   "cell_type": "code",
   "execution_count": 18,
   "metadata": {},
   "outputs": [
    {
     "name": "stdout",
     "output_type": "stream",
     "text": [
      "20\n",
      "10\n"
     ]
    }
   ],
   "source": [
    "# 10. swap without temp var\n",
    "m=10\n",
    "n=20\n",
    "m,n=n,m\n",
    "print(m)\n",
    "print(n)"
   ]
  },
  {
   "cell_type": "code",
   "execution_count": 25,
   "metadata": {},
   "outputs": [
    {
     "name": "stdout",
     "output_type": "stream",
     "text": [
      "pyspiders branch\n",
      "{1, 2, 10}\n",
      "{'r', 1, 2, 10}\n"
     ]
    },
    {
     "ename": "NameError",
     "evalue": "name 'u' is not defined",
     "output_type": "error",
     "traceback": [
      "\u001b[1;31m---------------------------------------------------------------------------\u001b[0m",
      "\u001b[1;31mNameError\u001b[0m                                 Traceback (most recent call last)",
      "Cell \u001b[1;32mIn[25], line 8\u001b[0m\n\u001b[0;32m      6\u001b[0m \u001b[39mprint\u001b[39m(u)\n\u001b[0;32m      7\u001b[0m \u001b[39mdel\u001b[39;00m u\n\u001b[1;32m----> 8\u001b[0m \u001b[39mprint\u001b[39m(u)\n",
      "\u001b[1;31mNameError\u001b[0m: name 'u' is not defined"
     ]
    }
   ],
   "source": [
    "# 11.perfotm intinalization,fetch,reintinalization,concatination and deletion for a varaible\n",
    "u='pyspiders branch'\n",
    "print(u)\n",
    "u={1,2,10}\n",
    "print(u)\n",
    "u|={10,'r'}\n",
    "print(u)\n",
    "del u\n",
    "print(u)"
   ]
  },
  {
   "cell_type": "code",
   "execution_count": 3,
   "metadata": {},
   "outputs": [
    {
     "name": "stdout",
     "output_type": "stream",
     "text": [
      "['1', '0']\n"
     ]
    }
   ],
   "source": [
    "# 12. convert single to multivalue datatype i/p a=10 and o/p=['1','0']\n",
    "a=10\n",
    "a=list(str(a)) \n",
    "print(a)"
   ]
  },
  {
   "cell_type": "code",
   "execution_count": 4,
   "metadata": {},
   "outputs": [
    {
     "name": "stdout",
     "output_type": "stream",
     "text": [
      "hellohii\n",
      "[10, 20, 30, 40, 50]\n",
      "(2, 4, 6, 7, 3, 9)\n",
      "{50, 8, 'kjhgf', 60, 30}\n",
      "{10: 'good', 20: 'bad', 'a': 'new'}\n"
     ]
    }
   ],
   "source": [
    "# 13.concat two multivalue datatypes\n",
    "x=\"hello\"\n",
    "x+=\"hii\"\n",
    "print(x)\n",
    "y=[10,20,30]\n",
    "y+=[40,50]\n",
    "print(y)\n",
    "z=(2,4,6,7)\n",
    "z+=(3,9)\n",
    "print(z)\n",
    "s={30,50,60}\n",
    "s|={8,'kjhgf'}\n",
    "print(s)\n",
    "p={10:\"good\",20:\"bad\"}\n",
    "p|={'a':\"new\"}\n",
    "print(p)"
   ]
  },
  {
   "cell_type": "code",
   "execution_count": 5,
   "metadata": {},
   "outputs": [
    {
     "data": {
      "text/plain": [
       "6"
      ]
     },
     "execution_count": 5,
     "metadata": {},
     "output_type": "execute_result"
    }
   ],
   "source": [
    "# 14.length of the collection\n",
    "f=[10,20,456,6.444,None,3+8j]\n",
    "len(f)"
   ]
  },
  {
   "cell_type": "code",
   "execution_count": 7,
   "metadata": {},
   "outputs": [
    {
     "name": "stdout",
     "output_type": "stream",
     "text": [
      "40\n",
      "30\n"
     ]
    }
   ],
   "source": [
    "# 15.find the middle value if the collection\n",
    "d=[10,20,40,50,60]\n",
    "print(d[len(d)//2])\n",
    "l=[10,20,30,40]\n",
    "print(l[len(l)//2])"
   ]
  },
  {
   "cell_type": "code",
   "execution_count": 10,
   "metadata": {},
   "outputs": [
    {
     "name": "stdout",
     "output_type": "stream",
     "text": [
      "codepython \n"
     ]
    }
   ],
   "source": [
    "# 16.concat new str to starting of other str\n",
    "x='python '\n",
    "d='code'\n",
    "x=d+x\n",
    "print(x)"
   ]
  },
  {
   "cell_type": "code",
   "execution_count": 9,
   "metadata": {},
   "outputs": [
    {
     "name": "stdout",
     "output_type": "stream",
     "text": [
      "pythoncode\n"
     ]
    }
   ],
   "source": [
    "#17. concat new str to ending of other str\n",
    "x='python'\n",
    "d='code'\n",
    "x=x+d\n",
    "print(x)"
   ]
  },
  {
   "cell_type": "code",
   "execution_count": 14,
   "metadata": {},
   "outputs": [
    {
     "name": "stdout",
     "output_type": "stream",
     "text": [
      "dragons\n"
     ]
    }
   ],
   "source": [
    "#18. concat new str to middle of the str\n",
    "s=\"dragns\"\n",
    "s=s[0:4]+'o'+s[4:]\n",
    "print(s)"
   ]
  },
  {
   "cell_type": "code",
   "execution_count": 16,
   "metadata": {},
   "outputs": [
    {
     "data": {
      "text/plain": [
       "'pysprders'"
      ]
     },
     "execution_count": 16,
     "metadata": {},
     "output_type": "execute_result"
    }
   ],
   "source": [
    "# 19. modify the new charcter into the middle of str\n",
    "s='pyspiders'\n",
    "s[len(s)//2]\n",
    "s[0:(len(s)//2)]+'r'+s[len(s)//2+1:]\n"
   ]
  },
  {
   "cell_type": "code",
   "execution_count": 18,
   "metadata": {},
   "outputs": [
    {
     "data": {
      "text/plain": [
       "'heLLo'"
      ]
     },
     "execution_count": 18,
     "metadata": {},
     "output_type": "execute_result"
    }
   ],
   "source": [
    "# 20.modify the sequence of character in str\n",
    "s='hello'\n",
    "s[0:2]+'LL'+s[4:]"
   ]
  },
  {
   "cell_type": "code",
   "execution_count": 19,
   "metadata": {},
   "outputs": [
    {
     "data": {
      "text/plain": [
       "'sudmer'"
      ]
     },
     "execution_count": 19,
     "metadata": {},
     "output_type": "execute_result"
    }
   ],
   "source": [
    "# 21.replace old char to new char in a str\n",
    "x='summer'\n",
    "x[0:2]+'d'+x[3:]\n"
   ]
  },
  {
   "cell_type": "code",
   "execution_count": 20,
   "metadata": {},
   "outputs": [
    {
     "data": {
      "text/plain": [
       "'sunday'"
      ]
     },
     "execution_count": 20,
     "metadata": {},
     "output_type": "execute_result"
    }
   ],
   "source": [
    "#22. delete specific char in a str\n",
    "x='sun day'\n",
    "x[0:3]+x[4:]"
   ]
  },
  {
   "cell_type": "code",
   "execution_count": 22,
   "metadata": {},
   "outputs": [
    {
     "data": {
      "text/plain": [
       "'haii how are you'"
      ]
     },
     "execution_count": 22,
     "metadata": {},
     "output_type": "execute_result"
    }
   ],
   "source": [
    "# 23. concat new str into the specific position of the str\n",
    "x=\"haii are you\"\n",
    "x[0:4]+\"how\"+x[4:]\n",
    "x[0:4+1]+\"how\"+x[4:]"
   ]
  },
  {
   "cell_type": "code",
   "execution_count": 23,
   "metadata": {},
   "outputs": [
    {
     "data": {
      "text/plain": [
       "'hii ram'"
      ]
     },
     "execution_count": 23,
     "metadata": {},
     "output_type": "execute_result"
    }
   ],
   "source": [
    "# 24.del sequence of char in str\n",
    "x=\"hii hello ram\"\n",
    "x[0:4]+x[10:]"
   ]
  },
  {
   "cell_type": "code",
   "execution_count": 25,
   "metadata": {},
   "outputs": [
    {
     "name": "stdout",
     "output_type": "stream",
     "text": [
      "[5, 6, 1, 2, 3]\n",
      "[567, 789, 112, 456, 367]\n"
     ]
    }
   ],
   "source": [
    "# 25.concat new value into the starting of list\n",
    "l=[1,2,3]\n",
    "l=[5,6]+l\n",
    "print(l)\n",
    "x=[112,456,367]\n",
    "x[0:0]=[567,789]\n",
    "print(x)"
   ]
  },
  {
   "cell_type": "code",
   "execution_count": 26,
   "metadata": {},
   "outputs": [
    {
     "name": "stdout",
     "output_type": "stream",
     "text": [
      "[10, 30, 50, 4, 5, 6]\n",
      "['rama', 'seetha', 'krishna']\n",
      "['qwer', 'fgbv', 'qwdhf']\n"
     ]
    }
   ],
   "source": [
    "#26. concat the newvalue into ending of the list\n",
    "l=[10,30,50]\n",
    "l=l+[4,5,6]\n",
    "print(l)\n",
    "y=['rama','seetha']\n",
    "y+=['krishna']\n",
    "print(y)\n",
    "z=[\"qwer\",\"fgbv\"]\n",
    "z[2:2]=[\"qwdhf\"]\n",
    "print(z)"
   ]
  },
  {
   "cell_type": "code",
   "execution_count": 27,
   "metadata": {},
   "outputs": [
    {
     "name": "stdout",
     "output_type": "stream",
     "text": [
      "[10, 150.34, '100', (5+9j), True, 'baby']\n"
     ]
    }
   ],
   "source": [
    "#27. concat the new value in middle of list\n",
    "l=[10,150.34,True,\"baby\"]\n",
    "l[len(l)//2:len(l)//2]=['100',5+9j]\n",
    "print(l)"
   ]
  },
  {
   "cell_type": "code",
   "execution_count": 30,
   "metadata": {},
   "outputs": [
    {
     "name": "stdout",
     "output_type": "stream",
     "text": [
      "[1, 2, 200, 567, 20000, 4, 7000]\n"
     ]
    }
   ],
   "source": [
    "# 28.concat new value into specific poistion of list\n",
    "l=[1,2,20000,4,7000]\n",
    "l[2:2]=[200,567]\n",
    "print(l)"
   ]
  },
  {
   "cell_type": "code",
   "execution_count": 2,
   "metadata": {},
   "outputs": [
    {
     "name": "stdout",
     "output_type": "stream",
     "text": [
      "[True, 24.5, 'flower', 6]\n"
     ]
    }
   ],
   "source": [
    "#29. modify the new value into specific position of list\n",
    "r=[True,24.5,10+3j,6]\n",
    "r[-2]=\"flower\"\n",
    "print(r)\n"
   ]
  },
  {
   "cell_type": "code",
   "execution_count": 2,
   "metadata": {},
   "outputs": [
    {
     "name": "stdout",
     "output_type": "stream",
     "text": [
      "[5, 30, 40]\n"
     ]
    }
   ],
   "source": [
    "#30. modify the newvalue in starting of the given list\n",
    "l=[10,30,40]\n",
    "l[0]=5\n",
    "print(l)"
   ]
  },
  {
   "cell_type": "code",
   "execution_count": 3,
   "metadata": {},
   "outputs": [
    {
     "name": "stdout",
     "output_type": "stream",
     "text": [
      "[{'abc': 150}, 150.21, True, 40]\n"
     ]
    }
   ],
   "source": [
    "#31. modify the newvalue in ending of the given list\n",
    "l=[{'abc':150},150.21,True,\"haii\"]\n",
    "l[-1]=40\n",
    "print(l)"
   ]
  },
  {
   "cell_type": "code",
   "execution_count": 4,
   "metadata": {},
   "outputs": [
    {
     "name": "stdout",
     "output_type": "stream",
     "text": [
      "[10, 20, 60, 40]\n"
     ]
    }
   ],
   "source": [
    "# 32.modify the newvalue in middle of the given list\n",
    "l=[10,20,30,40]\n",
    "l[len(l)//2]=60\n",
    "print(l)"
   ]
  },
  {
   "cell_type": "code",
   "execution_count": 5,
   "metadata": {},
   "outputs": [
    {
     "name": "stdout",
     "output_type": "stream",
     "text": [
      "['a', 'b', 'c', 'd', 5, 6, 7, 8, 9]\n"
     ]
    }
   ],
   "source": [
    "# 33.modify the first 4 values in  given list\n",
    "h=[1,2,3,4,5,6,7,8,9]\n",
    "h[0:3+1]=['a','b','c','d']\n",
    "print(h)"
   ]
  },
  {
   "cell_type": "code",
   "execution_count": 6,
   "metadata": {},
   "outputs": [
    {
     "name": "stdout",
     "output_type": "stream",
     "text": [
      "[0.0, 20, 6, 9, 56, 7]\n"
     ]
    }
   ],
   "source": [
    "# 34.modify the sequence of values the given list\n",
    "d=[1,2,3,4,56,7]\n",
    "d[0:3+1]=[0.0,20,6,9]\n",
    "print(d)"
   ]
  },
  {
   "cell_type": "code",
   "execution_count": 8,
   "metadata": {},
   "outputs": [
    {
     "name": "stdout",
     "output_type": "stream",
     "text": [
      "[True, False, b'100010']\n"
     ]
    }
   ],
   "source": [
    "#35. delete the specific position in given list\n",
    "n=[True,False,b'100010',(3,4)]\n",
    "del n[3]\n",
    "print(n)"
   ]
  },
  {
   "cell_type": "code",
   "execution_count": 9,
   "metadata": {},
   "outputs": [
    {
     "name": "stdout",
     "output_type": "stream",
     "text": [
      "[1, 3, 4, 5, 16, 7, 64, 6, 81, 15]\n"
     ]
    }
   ],
   "source": [
    "# 36.i/p is[1,3,2,5,4,7,8,6,9,15] and o/p is[1,3,4,5,16,7,64,6,81,15]\n",
    "d=[1,3,2,5,4,7,8,6,9,15]\n",
    "d[0::2]=[d[0]**2,d[2]**2,d[4]**2,d[6]**2,d[8]**2,]\n",
    "print(d)"
   ]
  },
  {
   "cell_type": "code",
   "execution_count": 10,
   "metadata": {},
   "outputs": [
    {
     "name": "stdout",
     "output_type": "stream",
     "text": [
      "[1, 2, 3, 15]\n"
     ]
    }
   ],
   "source": [
    "# 37. delete the ending of the list\n",
    "s=[1,2,3,15,67]\n",
    "del s[-1]\n",
    "print(s)"
   ]
  },
  {
   "cell_type": "code",
   "execution_count": 11,
   "metadata": {},
   "outputs": [
    {
     "name": "stdout",
     "output_type": "stream",
     "text": [
      "[1, 3, 5, 6, 7, 8]\n"
     ]
    }
   ],
   "source": [
    "# 38.delete the middle of the list\n",
    "s=[1,3,5,4,6,7,8]\n",
    "del s[len(s)//2]\n",
    "print(s)"
   ]
  },
  {
   "cell_type": "code",
   "execution_count": 12,
   "metadata": {},
   "outputs": [
    {
     "name": "stdout",
     "output_type": "stream",
     "text": [
      "[3, 5, 6, 4, 8]\n"
     ]
    }
   ],
   "source": [
    "#39. delete starting of the list\n",
    "s=[1,3,5,6,4,8]\n",
    "del s[0]\n",
    "print(s)"
   ]
  },
  {
   "cell_type": "code",
   "execution_count": 13,
   "metadata": {},
   "outputs": [
    {
     "name": "stdout",
     "output_type": "stream",
     "text": [
      "(10, 20, 50, 60, 70, 30)\n"
     ]
    }
   ],
   "source": [
    "# 40. concat newvalue into ending of tuple\n",
    "b=(10,20,50,60,70)\n",
    "b=b+(30,)\n",
    "print(b)"
   ]
  },
  {
   "cell_type": "code",
   "execution_count": 15,
   "metadata": {},
   "outputs": [
    {
     "name": "stdout",
     "output_type": "stream",
     "text": [
      "(5, 8, 9, 4, 6)\n"
     ]
    }
   ],
   "source": [
    "# 41.concat new value into starting of the tuple\n",
    "c=(9,4,6)\n",
    "c=(5,8)+c\n",
    "print(c)"
   ]
  },
  {
   "cell_type": "code",
   "execution_count": 2,
   "metadata": {},
   "outputs": [
    {
     "name": "stdout",
     "output_type": "stream",
     "text": [
      "(10, 20, 60, 40, 50, 90)\n"
     ]
    }
   ],
   "source": [
    "# 42.concat newvalue into middle of the tuple\n",
    "s=10,20,40,50,90\n",
    "s=s[0:len(s)//2]+(60,)+s[len(s)//2:]\n",
    "print(s)"
   ]
  },
  {
   "cell_type": "code",
   "execution_count": 19,
   "metadata": {},
   "outputs": [
    {
     "name": "stdout",
     "output_type": "stream",
     "text": [
      "(10, 20, 30, 9, 3, 5.333)\n"
     ]
    }
   ],
   "source": [
    "# 43.was to modify the sequence of values in the given tuple\n",
    "s=(10,20,30,40,5.333)\n",
    "s=s[0:2+1]+(9,3)+s[4:]\n",
    "print(s)"
   ]
  },
  {
   "cell_type": "code",
   "execution_count": 20,
   "metadata": {},
   "outputs": [
    {
     "name": "stdout",
     "output_type": "stream",
     "text": [
      "('hello', 10, 0.05, True)\n"
     ]
    }
   ],
   "source": [
    "# 44. was to delete the sequence of values in the tuple\n",
    "y=('hello','bye',10,0.05,True)\n",
    "y=y[0:1]+y[2:]\n",
    "print(y)"
   ]
  },
  {
   "cell_type": "code",
   "execution_count": 21,
   "metadata": {},
   "outputs": [
    {
     "name": "stdout",
     "output_type": "stream",
     "text": [
      "{1, 3, 5, 40, 10}\n"
     ]
    }
   ],
   "source": [
    "#45. WAS to concat newvalue into the set\n",
    "s={1,3,5}\n",
    "s|={10,40}\n",
    "print(s)"
   ]
  },
  {
   "cell_type": "code",
   "execution_count": 22,
   "metadata": {},
   "outputs": [
    {
     "name": "stdout",
     "output_type": "stream",
     "text": [
      "{1, 2, 3, 7, 9}\n"
     ]
    }
   ],
   "source": [
    " # 46.WAS to del the specific value into the set\n",
    "s={1,3,4,6,8,7,9,2}\n",
    "s=s-{4,6,8}\n",
    "print(s)"
   ]
  },
  {
   "cell_type": "code",
   "execution_count": 23,
   "metadata": {},
   "outputs": [
    {
     "name": "stdout",
     "output_type": "stream",
     "text": [
      "{'b': 20, 'hii': 'bye'}\n"
     ]
    }
   ],
   "source": [
    "#  47.wAS to delete specific key and value in the dict\n",
    "G={'a':10,'b':20,'hii':'bye'}\n",
    "del G['a']\n",
    "print(G)"
   ]
  },
  {
   "cell_type": "code",
   "execution_count": 24,
   "metadata": {},
   "outputs": [
    {
     "name": "stdout",
     "output_type": "stream",
     "text": [
      "{'hii': 'bye', 'good': 'bad', 'life': 'death', 'a': 30}\n"
     ]
    }
   ],
   "source": [
    "# 48.WAS to concat newkey and value in the dict\n",
    "s={'hii':'bye','good':'bad','life':'death'}\n",
    "s['a']=30\n",
    "print(s)"
   ]
  },
  {
   "cell_type": "code",
   "execution_count": 25,
   "metadata": {},
   "outputs": [
    {
     "name": "stdout",
     "output_type": "stream",
     "text": [
      "{'hii': 'hello', 'good': 'bad', 'life': 'death'}\n"
     ]
    }
   ],
   "source": [
    "# 49.WAS to modify the specific value in the dict\n",
    "n={'hii':'bye','good':'bad','life':'death'}\n",
    "n['hii']='hello'\n",
    "print(n)"
   ]
  },
  {
   "cell_type": "code",
   "execution_count": 28,
   "metadata": {},
   "outputs": [
    {
     "name": "stdout",
     "output_type": "stream",
     "text": [
      "['a', 'b', 'c', 9, 4, 6]\n",
      "(9, 4, 6, 'a', 'b', 'c')\n"
     ]
    }
   ],
   "source": [
    "# 50. WAS to concat list and tuple values using type casting\n",
    "l=['a','b','c']\n",
    "t=(9,4,6)\n",
    "print(l+list(t))\n",
    "print(t+tuple(l))\n"
   ]
  },
  {
   "cell_type": "code",
   "execution_count": 32,
   "metadata": {},
   "outputs": [
    {
     "name": "stdout",
     "output_type": "stream",
     "text": [
      "['a', 'b', 'c', 9, 4, 6]\n"
     ]
    }
   ],
   "source": [
    "#51. WAS to concat list and tuple values  without using type casting\n",
    "l=['a','b','c']\n",
    "t=(9,4,6)\n",
    "l+=t\n",
    "print(l)"
   ]
  },
  {
   "cell_type": "code",
   "execution_count": 33,
   "metadata": {},
   "outputs": [
    {
     "name": "stdout",
     "output_type": "stream",
     "text": [
      "True\n",
      "False\n"
     ]
    }
   ],
   "source": [
    "# 52.WAS to check the given number is divisible by 3\n",
    "n=15\n",
    "print(n%3==0)\n",
    "c=40\n",
    "print(c%3==0)"
   ]
  },
  {
   "cell_type": "code",
   "execution_count": 34,
   "metadata": {},
   "outputs": [
    {
     "name": "stdout",
     "output_type": "stream",
     "text": [
      "True\n",
      "False\n"
     ]
    }
   ],
   "source": [
    "# 53.WAS to check the given number is divisible by 2 and 6\n",
    "n=12\n",
    "print(n%2==0 and n%6==0)\n",
    "n=21\n",
    "print(n%2==0 and n%6==0)"
   ]
  },
  {
   "cell_type": "code",
   "execution_count": 35,
   "metadata": {},
   "outputs": [
    {
     "name": "stdout",
     "output_type": "stream",
     "text": [
      "True\n"
     ]
    }
   ],
   "source": [
    "# 54.WAS to check the last digit is divisible by 3 without typecasting\n",
    "n=1999\n",
    "print((n%10)%3==0)"
   ]
  },
  {
   "cell_type": "code",
   "execution_count": 4,
   "metadata": {},
   "outputs": [
    {
     "name": "stdout",
     "output_type": "stream",
     "text": [
      "True\n"
     ]
    }
   ],
   "source": [
    "# 55.WAS to check the last digit is divisible by 3 with typecasting\n",
    "n=2026\n",
    "str(n)\n",
    "str(n)[-1]\n",
    "int(str(n)[-1])\n",
    "print(int(str(n)[-1])%3==0)\n"
   ]
  },
  {
   "cell_type": "code",
   "execution_count": 45,
   "metadata": {},
   "outputs": [
    {
     "name": "stdout",
     "output_type": "stream",
     "text": [
      "True\n"
     ]
    }
   ],
   "source": [
    "# 56. check the number is greater than 150\n",
    "s=179\n",
    "print(s>150)"
   ]
  },
  {
   "cell_type": "code",
   "execution_count": 46,
   "metadata": {},
   "outputs": [
    {
     "name": "stdout",
     "output_type": "stream",
     "text": [
      "False\n"
     ]
    }
   ],
   "source": [
    "#57.check the given number greater than or equal to 100\n",
    "s=99\n",
    "print(s>=100)"
   ]
  },
  {
   "cell_type": "code",
   "execution_count": 47,
   "metadata": {},
   "outputs": [
    {
     "name": "stdout",
     "output_type": "stream",
     "text": [
      "True\n"
     ]
    }
   ],
   "source": [
    "#58. check given number less than 150\n",
    "s=49\n",
    "print(s<150)"
   ]
  },
  {
   "cell_type": "code",
   "execution_count": 48,
   "metadata": {},
   "outputs": [
    {
     "name": "stdout",
     "output_type": "stream",
     "text": [
      "True\n"
     ]
    }
   ],
   "source": [
    "# 59.check the given number less than or equal to 100\n",
    "s=100\n",
    "print(s<=100)"
   ]
  },
  {
   "cell_type": "code",
   "execution_count": 49,
   "metadata": {},
   "outputs": [
    {
     "name": "stdout",
     "output_type": "stream",
     "text": [
      "True\n"
     ]
    }
   ],
   "source": [
    "# 60.check given number is greater than 15 and less than 24\n",
    "s=22\n",
    "print(s>15 and s<24)"
   ]
  },
  {
   "cell_type": "code",
   "execution_count": 50,
   "metadata": {},
   "outputs": [
    {
     "name": "stdout",
     "output_type": "stream",
     "text": [
      "True\n"
     ]
    }
   ],
   "source": [
    "#61. check given number is even\n",
    "n=40\n",
    "print(n%2==0)"
   ]
  },
  {
   "cell_type": "code",
   "execution_count": 51,
   "metadata": {},
   "outputs": [
    {
     "name": "stdout",
     "output_type": "stream",
     "text": [
      "True\n"
     ]
    }
   ],
   "source": [
    "# 62.check given number is odd\n",
    "n=41\n",
    "print(n%2!=0)"
   ]
  },
  {
   "cell_type": "code",
   "execution_count": 52,
   "metadata": {},
   "outputs": [
    {
     "name": "stdout",
     "output_type": "stream",
     "text": [
      "hellohellohellohellohellohello\n"
     ]
    }
   ],
   "source": [
    "# 63. perfotm replication of a given sting with 6\n",
    "s=\"hello\"\n",
    "print(s*6)"
   ]
  },
  {
   "cell_type": "code",
   "execution_count": 53,
   "metadata": {},
   "outputs": [
    {
     "name": "stdout",
     "output_type": "stream",
     "text": [
      "True\n"
     ]
    }
   ],
   "source": [
    "#64.WAE to check given number is divisible by 3 and greater than 22\n",
    "s=33\n",
    "print(s%3==0 and s>22)"
   ]
  },
  {
   "cell_type": "code",
   "execution_count": 55,
   "metadata": {},
   "outputs": [
    {
     "name": "stdout",
     "output_type": "stream",
     "text": [
      "False\n"
     ]
    }
   ],
   "source": [
    "# 65. check length of the collection even or not\n",
    "l=\"pyspiders\"\n",
    "print(len(l)%2==0)"
   ]
  },
  {
   "cell_type": "code",
   "execution_count": 56,
   "metadata": {},
   "outputs": [
    {
     "name": "stdout",
     "output_type": "stream",
     "text": [
      "True\n"
     ]
    }
   ],
   "source": [
    "# 66. check length of collection lessthan 55 and greater than 16\n",
    "r=\"wsdfcvbnmlkiuytdszxlkjhgfvbnm,lpiouytreasdxcvbnjm,\"\n",
    "print(len(r)<55 and len(r)>16)"
   ]
  },
  {
   "cell_type": "code",
   "execution_count": 59,
   "metadata": {},
   "outputs": [
    {
     "name": "stdout",
     "output_type": "stream",
     "text": [
      "24\n",
      "False\n"
     ]
    }
   ],
   "source": [
    "#67. wAE to check length of collection divisible hy 5 and odd\n",
    "e='abscdertyuiopljfmnaetuo '\n",
    "print(len(e))\n",
    "print(len(e)%5==0 and len(e)%2!=0)"
   ]
  },
  {
   "cell_type": "code",
   "execution_count": 2,
   "metadata": {},
   "outputs": [
    {
     "name": "stdout",
     "output_type": "stream",
     "text": [
      "a\n",
      "True\n"
     ]
    }
   ],
   "source": [
    "# 68.WAE to check extract the middle position of agiven collection either str,list,tuple\n",
    "s=\"hai\"\n",
    "s[len(s)//2]\n",
    "print(s[len(s)//2])\n",
    "res=type(s[len(s)//2])\n",
    "print(res==str or res==list or res==tuple)"
   ]
  },
  {
   "cell_type": "code",
   "execution_count": 3,
   "metadata": {},
   "outputs": [
    {
     "name": "stdout",
     "output_type": "stream",
     "text": [
      "True\n"
     ]
    }
   ],
   "source": [
    "# 69.WAE to check given number greater than 20 and lessthan 30 and should be even\n",
    "s=22\n",
    "print(s>20 and s<30 and s%2==0)"
   ]
  },
  {
   "cell_type": "code",
   "execution_count": 4,
   "metadata": {},
   "outputs": [
    {
     "name": "stdout",
     "output_type": "stream",
     "text": [
      "True\n"
     ]
    }
   ],
   "source": [
    "# 70.WAE to check given number is even and it should be lessthan 120\n",
    "s=48\n",
    "print(s%2==0 and s<120)"
   ]
  },
  {
   "cell_type": "code",
   "execution_count": 5,
   "metadata": {},
   "outputs": [
    {
     "name": "stdout",
     "output_type": "stream",
     "text": [
      "True\n"
     ]
    }
   ],
   "source": [
    "# 71.WAE to checkgiven number is even and present from 40 to 70\n",
    "s=60\n",
    "print(s%2==0 and 40<60 and 60<70)"
   ]
  },
  {
   "cell_type": "code",
   "execution_count": 7,
   "metadata": {},
   "outputs": [
    {
     "name": "stdout",
     "output_type": "stream",
     "text": [
      "False\n"
     ]
    }
   ],
   "source": [
    "# 72.WAE to check number is odd and greaterthan 97\n",
    "s=77\n",
    "print(s%2!=0 and s>97)"
   ]
  },
  {
   "cell_type": "code",
   "execution_count": 8,
   "metadata": {},
   "outputs": [
    {
     "name": "stdout",
     "output_type": "stream",
     "text": [
      "False\n"
     ]
    }
   ],
   "source": [
    "# 73.WAE to check given number is lessthan 122 and greaterthan 48 and divisible by 4\n",
    "s=98\n",
    "print(s<122 and s>48 and s%4==0)\n"
   ]
  },
  {
   "cell_type": "code",
   "execution_count": 9,
   "metadata": {},
   "outputs": [
    {
     "name": "stdout",
     "output_type": "stream",
     "text": [
      "True\n"
     ]
    }
   ],
   "source": [
    "# 74.WAE to check the number is divisible by 3 or 5\n",
    "s=15\n",
    "print(s%3==0 and s%5==0)"
   ]
  },
  {
   "cell_type": "code",
   "execution_count": 10,
   "metadata": {},
   "outputs": [
    {
     "name": "stdout",
     "output_type": "stream",
     "text": [
      "True\n"
     ]
    }
   ],
   "source": [
    "# 75.WAE TO CHECK GIVEN NUMBER IS BETWEEN 100 TO 200 INCLUDING LIMITS\n",
    "s=100\n",
    "print(100<=100 and 100<=200)"
   ]
  },
  {
   "cell_type": "code",
   "execution_count": 11,
   "metadata": {},
   "outputs": [
    {
     "name": "stdout",
     "output_type": "stream",
     "text": [
      "True\n"
     ]
    }
   ],
   "source": [
    "# 76.WAE to check given number is in between 100 to 200\n",
    "s=150\n",
    "print(100<150 and 150<200)"
   ]
  },
  {
   "cell_type": "code",
   "execution_count": 2,
   "metadata": {},
   "outputs": [
    {
     "name": "stdout",
     "output_type": "stream",
     "text": [
      "111\n",
      "False\n"
     ]
    }
   ],
   "source": [
    "# 77.WAE to check the given string last character ascii value is divisible by 5 or not\n",
    "s=\"hello\"\n",
    "print(ord(s[-1]))\n",
    "print(ord(s[-1])%5==0)"
   ]
  },
  {
   "cell_type": "code",
   "execution_count": 4,
   "metadata": {},
   "outputs": [
    {
     "name": "stdout",
     "output_type": "stream",
     "text": [
      "False\n"
     ]
    }
   ],
   "source": [
    "# 78.WAE to check given number present between 60 and 130 and the number should be divisible by 3 and 4 and the last digit should be greaterthan 9\n",
    "n=129\n",
    "print(60<=n and n<=130 and n%3==0 and n%4==0 and n%10>9)"
   ]
  },
  {
   "cell_type": "code",
   "execution_count": 6,
   "metadata": {},
   "outputs": [
    {
     "name": "stdout",
     "output_type": "stream",
     "text": [
      "True\n"
     ]
    }
   ],
   "source": [
    "# 79.WAE to check given number is even or lessthan 25\n",
    "d=40\n",
    "print(d%2==0 or d<25)"
   ]
  },
  {
   "cell_type": "code",
   "execution_count": 7,
   "metadata": {},
   "outputs": [
    {
     "name": "stdout",
     "output_type": "stream",
     "text": [
      "True\n"
     ]
    }
   ],
   "source": [
    "#80.WAE to check given number is even or greaterthan 25\n",
    "n=49\n",
    "print(n%2==0 or n>25)"
   ]
  },
  {
   "cell_type": "code",
   "execution_count": 8,
   "metadata": {},
   "outputs": [
    {
     "name": "stdout",
     "output_type": "stream",
     "text": [
      "True\n"
     ]
    }
   ],
   "source": [
    "#81.WAE to check the given number is divisible by either 3 or 5\n",
    "x=30\n",
    "print(x%3==0 or x%5==0)"
   ]
  },
  {
   "cell_type": "code",
   "execution_count": 9,
   "metadata": {},
   "outputs": [
    {
     "name": "stdout",
     "output_type": "stream",
     "text": [
      "False\n"
     ]
    }
   ],
   "source": [
    "# 82. WAE to check the given number is not even\n",
    "x=60\n",
    "print(x%2!=0)\n"
   ]
  },
  {
   "cell_type": "code",
   "execution_count": 10,
   "metadata": {},
   "outputs": [
    {
     "name": "stdout",
     "output_type": "stream",
     "text": [
      "True\n"
     ]
    }
   ],
   "source": [
    "# 83.WAE to check given number is not odd\n",
    "x=78\n",
    "print(x%2==0)"
   ]
  },
  {
   "cell_type": "code",
   "execution_count": 11,
   "metadata": {},
   "outputs": [
    {
     "name": "stdout",
     "output_type": "stream",
     "text": [
      "True\n"
     ]
    }
   ],
   "source": [
    "#84.WAE to check given number is not divisible by 3\n",
    "x=19\n",
    "print(x%3!=0)"
   ]
  },
  {
   "cell_type": "code",
   "execution_count": 12,
   "metadata": {},
   "outputs": [
    {
     "name": "stdout",
     "output_type": "stream",
     "text": [
      "False\n"
     ]
    }
   ],
   "source": [
    "# 85.WAE to check given number is not divisible by 3 and 5\n",
    "x=25\n",
    "print(x%3!=0 and x%5!=0)"
   ]
  },
  {
   "cell_type": "code",
   "execution_count": 13,
   "metadata": {},
   "outputs": [
    {
     "name": "stdout",
     "output_type": "stream",
     "text": [
      "True\n"
     ]
    }
   ],
   "source": [
    "# 86.WAE to check given number is not divisible by 3 or 5\n",
    "x=25\n",
    "print(x%3!=0 or x%5!=0)"
   ]
  },
  {
   "cell_type": "code",
   "execution_count": 14,
   "metadata": {},
   "outputs": [
    {
     "name": "stdout",
     "output_type": "stream",
     "text": [
      "72\n",
      "True\n"
     ]
    }
   ],
   "source": [
    "# 87. WAE to check given character ascii value is not divisible by 5\n",
    "s=\"H\"\n",
    "print(ord(s))\n",
    "print(ord(s)%5!=0)"
   ]
  },
  {
   "cell_type": "code",
   "execution_count": 15,
   "metadata": {},
   "outputs": [
    {
     "name": "stdout",
     "output_type": "stream",
     "text": [
      "A\n",
      "d\n",
      "2\n",
      "<\n"
     ]
    }
   ],
   "source": [
    "# 88.WAE to findout the ascii character in agiven number\n",
    "n=65\n",
    "print(chr(n))\n",
    "x=100\n",
    "print(chr(x))\n",
    "s=50\n",
    "print(chr(s))\n",
    "d=60\n",
    "print(chr(d))"
   ]
  },
  {
   "cell_type": "code",
   "execution_count": 16,
   "metadata": {},
   "outputs": [
    {
     "name": "stdout",
     "output_type": "stream",
     "text": [
      "115\n"
     ]
    }
   ],
   "source": [
    "# 89.WAE to find out ascii value in agiven character\n",
    "n=\"s\"\n",
    "print(ord(n))"
   ]
  },
  {
   "cell_type": "code",
   "execution_count": 20,
   "metadata": {},
   "outputs": [
    {
     "name": "stdout",
     "output_type": "stream",
     "text": [
      "True\n",
      "False\n",
      "True\n"
     ]
    }
   ],
   "source": [
    "# 90.WAE to findout the given character uppercase or not\n",
    "s='U'\n",
    "print('A'<=s<='Z')\n",
    "d=\"Rt\"\n",
    "print(len(d)==1 and 'A'<=d<='Z')\n",
    "s='U'\n",
    "print(65<=ord(s)<=90)"
   ]
  },
  {
   "cell_type": "code",
   "execution_count": 21,
   "metadata": {},
   "outputs": [
    {
     "name": "stdout",
     "output_type": "stream",
     "text": [
      "True\n",
      "True\n"
     ]
    }
   ],
   "source": [
    "# 91.WAE  to check given character is lowercase\n",
    "ch='a'\n",
    "print(len(ch)==1 and 'a'<=ch<='z')\n",
    "print(len(ch)==1 and 97<=ord(ch)<=122)"
   ]
  },
  {
   "cell_type": "code",
   "execution_count": 22,
   "metadata": {},
   "outputs": [
    {
     "name": "stdout",
     "output_type": "stream",
     "text": [
      "True\n",
      "True\n"
     ]
    }
   ],
   "source": [
    "# 92.WAE to check given character is alphabet\n",
    "ch=\"S\"\n",
    "print(len(ch)==1 and ('A'<=ch<='Z' or 'a'<=ch<='z'))\n",
    "print(len(ch)==1 and (65<=ord(ch)<=90 or 97<=ord(ch)<=122))"
   ]
  },
  {
   "cell_type": "code",
   "execution_count": 23,
   "metadata": {},
   "outputs": [
    {
     "name": "stdout",
     "output_type": "stream",
     "text": [
      "True\n",
      "True\n"
     ]
    }
   ],
   "source": [
    "# 93.WAE to check given character is a  number\n",
    "s=\"0\"\n",
    "print('0'<=s<='9')\n",
    "print(len(s)==1 and 48<=ord(s)<=57)\n"
   ]
  },
  {
   "cell_type": "code",
   "execution_count": 26,
   "metadata": {},
   "outputs": [
    {
     "name": "stdout",
     "output_type": "stream",
     "text": [
      "True\n"
     ]
    }
   ],
   "source": [
    "# 94.WAE to check given character is a special character\n",
    "df='$'\n",
    "print(not('A'<=df<='Z' or 'a'<=df<='z'or '0'<=df<='9'))\n"
   ]
  },
  {
   "cell_type": "code",
   "execution_count": 28,
   "metadata": {},
   "outputs": [
    {
     "name": "stdout",
     "output_type": "stream",
     "text": [
      "True\n"
     ]
    }
   ],
   "source": [
    "# 95.WAE to check given character should not be uppercase\n",
    "s='e'\n",
    "print(len(s)==1 and not('A'<=s<='Z'))"
   ]
  },
  {
   "cell_type": "code",
   "execution_count": 29,
   "metadata": {},
   "outputs": [
    {
     "name": "stdout",
     "output_type": "stream",
     "text": [
      "True\n"
     ]
    }
   ],
   "source": [
    "# 96.WAE to check given character should not be lowercase\n",
    "d='R'\n",
    "print(len(d)==1 and not('a'<=d<='z'))"
   ]
  },
  {
   "cell_type": "code",
   "execution_count": 30,
   "metadata": {},
   "outputs": [
    {
     "name": "stdout",
     "output_type": "stream",
     "text": [
      "False\n"
     ]
    }
   ],
   "source": [
    "#97.WAE to check given character is not alphabet\n",
    "ch=\"h\"\n",
    "print(len(ch)==1 and not('A'<=ch<='Z' or 'a'<=ch<='z'))"
   ]
  },
  {
   "cell_type": "code",
   "execution_count": 31,
   "metadata": {},
   "outputs": [
    {
     "name": "stdout",
     "output_type": "stream",
     "text": [
      "False\n"
     ]
    }
   ],
   "source": [
    "# 98.WAE to check given character is not a number\n",
    "f='6'\n",
    "print(not('0'<=f<='9'))\n"
   ]
  },
  {
   "cell_type": "code",
   "execution_count": 32,
   "metadata": {},
   "outputs": [
    {
     "name": "stdout",
     "output_type": "stream",
     "text": [
      "False\n"
     ]
    }
   ],
   "source": [
    "# 99. WAE to check given character should not be a special character\n",
    "d='&'\n",
    "print('A'<=d<='Z' or 'a'<=d<='z' or '0'<=d<='9')"
   ]
  },
  {
   "cell_type": "code",
   "execution_count": 36,
   "metadata": {},
   "outputs": [
    {
     "name": "stdout",
     "output_type": "stream",
     "text": [
      "True\n",
      "True\n"
     ]
    }
   ],
   "source": [
    "# 100.WAE to check given character is avowel\n",
    "ch=\"I\"\n",
    "print(ch=='A' or ch=='E' or ch=='I' or ch=='O' or ch=='U' or ch=='a' or ch=='e' or ch=='i' or ch=='o' or ch=='u')\n",
    "print(ch in 'AEIOUaeiou')"
   ]
  },
  {
   "cell_type": "code",
   "execution_count": 38,
   "metadata": {},
   "outputs": [
    {
     "name": "stdout",
     "output_type": "stream",
     "text": [
      "False\n",
      "True\n"
     ]
    }
   ],
   "source": [
    "# 101.WAE to check given number is consonant\n",
    "gb=\"e\"\n",
    "print(gb not in('AEIOUaeiou'))\n",
    "de='t'\n",
    "print(de not in ('AEIOUaeiou'))"
   ]
  },
  {
   "cell_type": "code",
   "execution_count": 1,
   "metadata": {},
   "outputs": [
    {
     "name": "stdout",
     "output_type": "stream",
     "text": [
      "(\n"
     ]
    }
   ],
   "source": [
    "# 102.WAE to check given list last value character \n",
    "l=['1','8',19,40]\n",
    "print(chr(l[-1]))"
   ]
  },
  {
   "cell_type": "code",
   "execution_count": 5,
   "metadata": {},
   "outputs": [
    {
     "name": "stdout",
     "output_type": "stream",
     "text": [
      "<class 'tuple'>\n",
      "<class 'complex'>\n",
      "False\n"
     ]
    }
   ],
   "source": [
    "#  ex WAE to check given collection last value is str,list,tuple\n",
    "t=30,5,'U',(3+5j)\n",
    "print(type(t))\n",
    "y=print(type(t[-1]))\n",
    "print(y==str or y==list or y==tuple)\n"
   ]
  },
  {
   "cell_type": "code",
   "execution_count": 1,
   "metadata": {},
   "outputs": [
    {
     "name": "stdout",
     "output_type": "stream",
     "text": [
      "a\n",
      "a\n"
     ]
    }
   ],
   "source": [
    "# 103.WAS to convert uppercase tolower case in a given character\n",
    "ch='A'\n",
    "print(ch.lower())\n",
    "print(chr(ord(ch)+32))"
   ]
  },
  {
   "cell_type": "code",
   "execution_count": 2,
   "metadata": {},
   "outputs": [
    {
     "name": "stdout",
     "output_type": "stream",
     "text": [
      "A\n"
     ]
    }
   ],
   "source": [
    "# 104.WAS to convert lowercase to uppercase in a given character\n",
    "ch='a'\n",
    "print(chr(ord(ch)-32))"
   ]
  },
  {
   "cell_type": "code",
   "execution_count": 3,
   "metadata": {},
   "outputs": [
    {
     "name": "stdout",
     "output_type": "stream",
     "text": [
      "A\n"
     ]
    }
   ],
   "source": [
    "# 105.WAS to extract the previous character in the given character\n",
    "ch='B'\n",
    "print(chr(ord(ch)-1))"
   ]
  },
  {
   "cell_type": "code",
   "execution_count": 4,
   "metadata": {},
   "outputs": [
    {
     "name": "stdout",
     "output_type": "stream",
     "text": [
      "e\n"
     ]
    }
   ],
   "source": [
    "# 106.WAS to extract the next character in the given character\n",
    "ch='d'\n",
    "print(chr(ord(ch)+1))"
   ]
  },
  {
   "cell_type": "code",
   "execution_count": 6,
   "metadata": {},
   "outputs": [
    {
     "name": "stdout",
     "output_type": "stream",
     "text": [
      "False\n"
     ]
    }
   ],
   "source": [
    "# 107.WAE to check given character is converted to ascii value and the value is even as well as the character should be lowercase\n",
    "ah='e'\n",
    "print(len(ah)==1 and ord(ah)%2==0 and 'a'<=ah<='z')"
   ]
  },
  {
   "cell_type": "code",
   "execution_count": 8,
   "metadata": {},
   "outputs": [
    {
     "name": "stdout",
     "output_type": "stream",
     "text": [
      "True\n"
     ]
    }
   ],
   "source": [
    "# 108.WAE to check given character is converted to ascii value and the value is odd as well as the character should be uppercase\n",
    "ch='A'\n",
    "print(len(ch)==1 and ord(ch)%2!=0 and 'A'<=ch<='Z')"
   ]
  },
  {
   "cell_type": "code",
   "execution_count": 11,
   "metadata": {},
   "outputs": [
    {
     "name": "stdout",
     "output_type": "stream",
     "text": [
      "False\n"
     ]
    }
   ],
   "source": [
    "# 109.WAE to check the given number is converted to character is not aspecial character \n",
    "n=58\n",
    "print('A'<=chr(n)<='Z'or 'a'<=chr(n)<='z' or '0'<=chr(n)<='9')"
   ]
  },
  {
   "cell_type": "code",
   "execution_count": 12,
   "metadata": {},
   "outputs": [
    {
     "name": "stdout",
     "output_type": "stream",
     "text": [
      "True\n"
     ]
    }
   ],
   "source": [
    "# 110.WAE to check given number of the ascii character is vowel or not\n",
    "n=97\n",
    "print(chr(n) in 'aeiouAEIOU')"
   ]
  },
  {
   "cell_type": "code",
   "execution_count": 13,
   "metadata": {},
   "outputs": [
    {
     "name": "stdout",
     "output_type": "stream",
     "text": [
      "True\n"
     ]
    }
   ],
   "source": [
    "# 111.WAE to check the first and second character are sequence or not in agiven string\n",
    "st='ABCD'\n",
    "print(ord(st[0])+1==ord(st[1]))"
   ]
  },
  {
   "cell_type": "code",
   "execution_count": 15,
   "metadata": {},
   "outputs": [
    {
     "name": "stdout",
     "output_type": "stream",
     "text": [
      "True\n"
     ]
    }
   ],
   "source": [
    "# 112.WAE to check the given character ascii value should be either greaterthan 50 or greaterthan 25 or lessthan 112\n",
    "ch='0'\n",
    "print(ord(ch)>25 or ord(ch)<112)"
   ]
  },
  {
   "cell_type": "code",
   "execution_count": 16,
   "metadata": {},
   "outputs": [
    {
     "name": "stdout",
     "output_type": "stream",
     "text": [
      "11\n"
     ]
    }
   ],
   "source": [
    "# 113.WAE to given number increased by 1\n",
    "m=10\n",
    "m+=1\n",
    "print(m)"
   ]
  },
  {
   "cell_type": "code",
   "execution_count": 17,
   "metadata": {},
   "outputs": [
    {
     "name": "stdout",
     "output_type": "stream",
     "text": [
      "14\n"
     ]
    }
   ],
   "source": [
    "# 114.WAE to given number increased by 2\n",
    "m=12\n",
    "m=m+2\n",
    "print(m)"
   ]
  },
  {
   "cell_type": "code",
   "execution_count": 18,
   "metadata": {},
   "outputs": [
    {
     "name": "stdout",
     "output_type": "stream",
     "text": [
      "8\n"
     ]
    }
   ],
   "source": [
    "# 115.WAE to given number decreased by 1\n",
    "m=9\n",
    "m-=1\n",
    "print(m)"
   ]
  },
  {
   "cell_type": "code",
   "execution_count": 19,
   "metadata": {},
   "outputs": [
    {
     "name": "stdout",
     "output_type": "stream",
     "text": [
      "2\n"
     ]
    }
   ],
   "source": [
    "# 116.WAE to given number decreased by 3\n",
    "m=5\n",
    "m-=3\n",
    "print(m)"
   ]
  },
  {
   "cell_type": "code",
   "execution_count": 20,
   "metadata": {},
   "outputs": [
    {
     "data": {
      "text/plain": [
       "True"
      ]
     },
     "execution_count": 20,
     "metadata": {},
     "output_type": "execute_result"
    }
   ],
   "source": [
    "# 117.WAE to check given number present in the collection\n",
    "m=10\n",
    "coll=[10,30,6.4]\n",
    "m in coll"
   ]
  },
  {
   "cell_type": "code",
   "execution_count": 21,
   "metadata": {},
   "outputs": [
    {
     "name": "stdout",
     "output_type": "stream",
     "text": [
      "110\n"
     ]
    }
   ],
   "source": [
    "# 118.WAE to check the addition operation on A value and B value and final result should be updated toA\n",
    "A=50\n",
    "B=60\n",
    "A=A+B\n",
    "print(A)"
   ]
  },
  {
   "cell_type": "code",
   "execution_count": 22,
   "metadata": {},
   "outputs": [
    {
     "name": "stdout",
     "output_type": "stream",
     "text": [
      "True\n"
     ]
    }
   ],
   "source": [
    "# 119.WAE to check given value is present in the collection\n",
    "st=\"p\"\n",
    "coll=\"pyspiders\"\n",
    "print(st in coll)"
   ]
  },
  {
   "cell_type": "code",
   "execution_count": 25,
   "metadata": {},
   "outputs": [
    {
     "name": "stdout",
     "output_type": "stream",
     "text": [
      "False\n",
      "True\n"
     ]
    }
   ],
   "source": [
    "# 120.WAE to check the given list present in the list\n",
    "n=[10,'hello']\n",
    "c=[10,'hell0',(60,40),[10,'hii']]\n",
    "print(n in c)\n",
    "d=[10,'hell0',(60,40),[10,'hello']]\n",
    "print(n in d)"
   ]
  },
  {
   "cell_type": "code",
   "execution_count": 22,
   "metadata": {},
   "outputs": [
    {
     "name": "stdout",
     "output_type": "stream",
     "text": [
      "True\n",
      "False\n"
     ]
    }
   ],
   "source": [
    "# 121.WAE to check given dict value is presnet in tuple\n",
    "n={10:'a'}\n",
    "m=(10,20,'a','b',{10:'a'})\n",
    "print(n in m)\n",
    "print(n.values() in m)"
   ]
  },
  {
   "cell_type": "code",
   "execution_count": 29,
   "metadata": {},
   "outputs": [
    {
     "name": "stdout",
     "output_type": "stream",
     "text": [
      "True\n"
     ]
    }
   ],
   "source": [
    "# 122.WAE to checkgiven value is integer or not\n",
    "n=10\n",
    "print(type(n)==int)"
   ]
  },
  {
   "cell_type": "code",
   "execution_count": 30,
   "metadata": {},
   "outputs": [
    {
     "name": "stdout",
     "output_type": "stream",
     "text": [
      "True\n"
     ]
    }
   ],
   "source": [
    "# 123.WAE to check given value is string or not\n",
    "m=\"good night\"\n",
    "print(type(m)==str)"
   ]
  },
  {
   "cell_type": "code",
   "execution_count": 32,
   "metadata": {},
   "outputs": [
    {
     "data": {
      "text/plain": [
       "True"
      ]
     },
     "execution_count": 32,
     "metadata": {},
     "output_type": "execute_result"
    }
   ],
   "source": [
    "#124.WAE to check given value is single value or not\n",
    "m=10-5j\n",
    "type(m) in [int,float,complex,bytes,bool,type(None)]"
   ]
  },
  {
   "cell_type": "code",
   "execution_count": 33,
   "metadata": {},
   "outputs": [
    {
     "data": {
      "text/plain": [
       "True"
      ]
     },
     "execution_count": 33,
     "metadata": {},
     "output_type": "execute_result"
    }
   ],
   "source": [
    "# 125.WAE to check given value is multi value or not\n",
    "c='pys'\n",
    "type(c) in [str,list,tuple,set,dict]"
   ]
  },
  {
   "cell_type": "code",
   "execution_count": 34,
   "metadata": {},
   "outputs": [
    {
     "data": {
      "text/plain": [
       "True"
      ]
     },
     "execution_count": 34,
     "metadata": {},
     "output_type": "execute_result"
    }
   ],
   "source": [
    "# 126.WAE to check given value is mutable value or not\n",
    "s=[10,20]\n",
    "type(s) in [list,set,dict] "
   ]
  },
  {
   "cell_type": "code",
   "execution_count": 35,
   "metadata": {},
   "outputs": [
    {
     "data": {
      "text/plain": [
       "False"
      ]
     },
     "execution_count": 35,
     "metadata": {},
     "output_type": "execute_result"
    }
   ],
   "source": [
    "# 127.WAE to check given value is not a single value\n",
    "c=b'1010'\n",
    "type(c) not in [int,float,complex,bytes,bool,type(None)]"
   ]
  },
  {
   "cell_type": "code",
   "execution_count": 36,
   "metadata": {},
   "outputs": [
    {
     "data": {
      "text/plain": [
       "True"
      ]
     },
     "execution_count": 36,
     "metadata": {},
     "output_type": "execute_result"
    }
   ],
   "source": [
    "# 128.WAE to check the given value is immutable value or not\n",
    "s='pys'\n",
    "type(s) not in [list,set,dict]"
   ]
  },
  {
   "cell_type": "code",
   "execution_count": 37,
   "metadata": {},
   "outputs": [
    {
     "data": {
      "text/plain": [
       "True"
      ]
     },
     "execution_count": 37,
     "metadata": {},
     "output_type": "execute_result"
    }
   ],
   "source": [
    "# 129.WAE to check if given value is divisible by 6 as well as that value present in the collection or not\n",
    "n=36\n",
    "n%6==0 and n in [10,30,36,48,90]"
   ]
  },
  {
   "cell_type": "code",
   "execution_count": 38,
   "metadata": {},
   "outputs": [
    {
     "data": {
      "text/plain": [
       "3"
      ]
     },
     "execution_count": 38,
     "metadata": {},
     "output_type": "execute_result"
    }
   ],
   "source": [
    "# 130.WAE to check perform the bitwise and operation for given values are 15 and 19\n",
    "m=15\n",
    "n=19\n",
    "m&n"
   ]
  },
  {
   "cell_type": "code",
   "execution_count": 39,
   "metadata": {},
   "outputs": [
    {
     "data": {
      "text/plain": [
       "127"
      ]
     },
     "execution_count": 39,
     "metadata": {},
     "output_type": "execute_result"
    }
   ],
   "source": [
    "# 131.WAE to check perform the bitwise OR operation for given values are 115 and 79\n",
    "m=115\n",
    "n=79\n",
    "m|n"
   ]
  },
  {
   "cell_type": "code",
   "execution_count": 40,
   "metadata": {},
   "outputs": [
    {
     "data": {
      "text/plain": [
       "46"
      ]
     },
     "execution_count": 40,
     "metadata": {},
     "output_type": "execute_result"
    }
   ],
   "source": [
    "# 132.WAE to check perform the bitwise XOR operation for the given value 56 and 22\n",
    "m=56\n",
    "n=22\n",
    "m^n"
   ]
  },
  {
   "cell_type": "code",
   "execution_count": 41,
   "metadata": {},
   "outputs": [
    {
     "data": {
      "text/plain": [
       "-16"
      ]
     },
     "execution_count": 41,
     "metadata": {},
     "output_type": "execute_result"
    }
   ],
   "source": [
    "# 133.WAE to perform the bitwise not operation for given value is 15\n",
    "m=15\n",
    "~m"
   ]
  },
  {
   "cell_type": "code",
   "execution_count": 42,
   "metadata": {},
   "outputs": [
    {
     "data": {
      "text/plain": [
       "256"
      ]
     },
     "execution_count": 42,
     "metadata": {},
     "output_type": "execute_result"
    }
   ],
   "source": [
    "# 134.WAE to check perform the bitwise leftshift operation for  values32 and skipping value is 3\n",
    "m=32\n",
    "s=3\n",
    "m<<s"
   ]
  },
  {
   "cell_type": "code",
   "execution_count": 43,
   "metadata": {},
   "outputs": [
    {
     "data": {
      "text/plain": [
       "6"
      ]
     },
     "execution_count": 43,
     "metadata": {},
     "output_type": "execute_result"
    }
   ],
   "source": [
    "# 135.WAE to check perform the bitwise rightshift operation for  values 25 and skipping value is 2\n",
    "m=25\n",
    "s=2\n",
    "m>>s"
   ]
  },
  {
   "cell_type": "code",
   "execution_count": 2,
   "metadata": {},
   "outputs": [
    {
     "name": "stdout",
     "output_type": "stream",
     "text": [
      "True\n",
      "True\n"
     ]
    }
   ],
   "source": [
    "# 136. WAE check  givenkey present indict or not\n",
    "d={'a':10,'haii':'bye',(100,):(10,20)}\n",
    "k='a'\n",
    "print(k in d)\n",
    "print(k in d.keys())"
   ]
  },
  {
   "cell_type": "code",
   "execution_count": 4,
   "metadata": {},
   "outputs": [
    {
     "data": {
      "text/plain": [
       "1000"
      ]
     },
     "execution_count": 4,
     "metadata": {},
     "output_type": "execute_result"
    }
   ],
   "source": [
    "#137.To find out the output of agiven condition\n",
    "(10+20*60 and 10**3) or ({10,20} or not([15-16]))"
   ]
  },
  {
   "cell_type": "code",
   "execution_count": 5,
   "metadata": {},
   "outputs": [
    {
     "name": "stdout",
     "output_type": "stream",
     "text": [
      "True\n"
     ]
    }
   ],
   "source": [
    "# 138.WAE to check if given value present in the dict or not\n",
    "d={'a':10,'haaii':'byee',(100,):(10,20)}\n",
    "k=(10,20)\n",
    "print(k in d.values()) "
   ]
  },
  {
   "cell_type": "code",
   "execution_count": 8,
   "metadata": {},
   "outputs": [
    {
     "name": "stdout",
     "output_type": "stream",
     "text": [
      "False\n",
      "False\n"
     ]
    }
   ],
   "source": [
    "# 139.WAE to check if given key is not present in the dict or not\n",
    "d={'a':10,'haaii':'byee',(100,):(10,20)}\n",
    "k=(100,)\n",
    "print(k not in d)\n",
    "print(k not in d.keys())"
   ]
  },
  {
   "cell_type": "code",
   "execution_count": 12,
   "metadata": {},
   "outputs": [
    {
     "name": "stdout",
     "output_type": "stream",
     "text": [
      "True\n"
     ]
    }
   ],
   "source": [
    "# 140.WAE to check if given keyvalue pair is present in the dict or not\n",
    "d={'a':10,'haaii':'byee',(100,):(10,20)}\n",
    "k=('haaii','byee')\n",
    "print(k in d.items())"
   ]
  },
  {
   "cell_type": "code",
   "execution_count": 16,
   "metadata": {},
   "outputs": [
    {
     "name": "stdout",
     "output_type": "stream",
     "text": [
      "True\n",
      "True\n",
      "False\n",
      "True\n"
     ]
    }
   ],
   "source": [
    "# 141.WAE to check if two values are pointing to the same address or not\n",
    "a=15\n",
    "b=15\n",
    "print(a is b)\n",
    "print(15==15)\n",
    "x=257\n",
    "k=257\n",
    "print(x is k)\n",
    "print(257==257)"
   ]
  },
  {
   "cell_type": "code",
   "execution_count": 17,
   "metadata": {},
   "outputs": [
    {
     "name": "stdout",
     "output_type": "stream",
     "text": [
      "True\n"
     ]
    }
   ],
   "source": [
    "# 142.WAE to check both the values are integers and both the values are pointiing to same address\n",
    "a=256\n",
    "b=256\n",
    "print(type(a)==int and type(b)==int and a is b)"
   ]
  }
 ],
 "metadata": {
  "kernelspec": {
   "display_name": "Python 3",
   "language": "python",
   "name": "python3"
  },
  "language_info": {
   "codemirror_mode": {
    "name": "ipython",
    "version": 3
   },
   "file_extension": ".py",
   "mimetype": "text/x-python",
   "name": "python",
   "nbconvert_exporter": "python",
   "pygments_lexer": "ipython3",
   "version": "3.10.4"
  },
  "orig_nbformat": 4
 },
 "nbformat": 4,
 "nbformat_minor": 2
}
