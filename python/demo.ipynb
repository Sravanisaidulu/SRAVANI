{
 "cells": [
  {
   "cell_type": "code",
   "execution_count": 2,
   "metadata": {},
   "outputs": [
    {
     "name": "stdout",
     "output_type": "stream",
     "text": [
      "helloworld\n"
     ]
    }
   ],
   "source": [
    "print('helloworld')"
   ]
  },
  {
   "cell_type": "code",
   "execution_count": 1,
   "metadata": {},
   "outputs": [
    {
     "name": "stdout",
     "output_type": "stream",
     "text": [
      "30\n"
     ]
    }
   ],
   "source": [
    "a=10\n",
    "b=20\n",
    "c=a+b\n",
    "print(c)"
   ]
  },
  {
   "cell_type": "code",
   "execution_count": 19,
   "metadata": {},
   "outputs": [
    {
     "name": "stdout",
     "output_type": "stream",
     "text": [
      "50\n",
      "(3, 4, 5)\n",
      "{1: 'hii', 2: 'good'}\n"
     ]
    },
    {
     "data": {
      "text/plain": [
       "list"
      ]
     },
     "execution_count": 19,
     "metadata": {},
     "output_type": "execute_result"
    }
   ],
   "source": [
    "a=50\n",
    "print(a)\n",
    "e=[10,20,30]\n",
    "c=3,4,5\n",
    "s={1:'hii',2:'good'}\n",
    "print(c)\n",
    "print(s)\n",
    "type(e)"
   ]
  },
  {
   "cell_type": "code",
   "execution_count": 4,
   "metadata": {},
   "outputs": [
    {
     "name": "stdout",
     "output_type": "stream",
     "text": [
      "150\n",
      "120\n",
      "250\n",
      "150 120 250\n"
     ]
    }
   ],
   "source": [
    "# intiallize multivaribles\n",
    "a,c,d=150,120,250\n",
    "print(a)\n",
    "print(c)\n",
    "print(d)\n",
    "print(a,c,d)"
   ]
  },
  {
   "cell_type": "code",
   "execution_count": 5,
   "metadata": {},
   "outputs": [
    {
     "name": "stdout",
     "output_type": "stream",
     "text": [
      "<class 'float'>\n"
     ]
    }
   ],
   "source": [
    "x=10.34\n",
    "print(type(x))"
   ]
  },
  {
   "cell_type": "code",
   "execution_count": 6,
   "metadata": {},
   "outputs": [
    {
     "name": "stdout",
     "output_type": "stream",
     "text": [
      "1624195422080\n"
     ]
    }
   ],
   "source": [
    "# print adress of the value\n",
    "k=[10,True,67,40]\n",
    "print(id(k))"
   ]
  },
  {
   "cell_type": "code",
   "execution_count": 9,
   "metadata": {},
   "outputs": [
    {
     "name": "stdout",
     "output_type": "stream",
     "text": [
      "Sravani\n",
      "True\n",
      "{'name': 'Sravani', 'DOB': 29122000, 'Gender': 'Female', 'email': 'pawar@gmail.com', 'pancard': True}\n",
      "29122000\n"
     ]
    }
   ],
   "source": [
    "#was to print the details of you,frist store details and extract them\n",
    "#     when we wnat to display the real time data dictionary datatype is used\n",
    "s={'name':'Sravani','DOB':29_12_2000,'Gender':'Female','email':'pawar@gmail.com','pancard':True}\n",
    "print(s['name'])\n",
    "print(s['pancard'])\n",
    "print(s)\n",
    "print(s['DOB'])"
   ]
  },
  {
   "cell_type": "code",
   "execution_count": 16,
   "metadata": {},
   "outputs": [
    {
     "name": "stdout",
     "output_type": "stream",
     "text": [
      "(10, 20, 30)\n"
     ]
    }
   ],
   "source": [
    "a=10,20,30\n",
    "print(a)"
   ]
  },
  {
   "cell_type": "code",
   "execution_count": 17,
   "metadata": {},
   "outputs": [
    {
     "name": "stdout",
     "output_type": "stream",
     "text": [
      "20\n",
      "x\n",
      "x\n"
     ]
    }
   ],
   "source": [
    "#was to swap the values using temp variable\n",
    "r='x'\n",
    "b=20\n",
    "d=r\n",
    "r=b\n",
    "b=d\n",
    "print(r)\n",
    "print(b)\n",
    "print(d)\n",
    "# by using temp variable 'r' var become empty so we can assign other value to it\n"
   ]
  },
  {
   "cell_type": "code",
   "execution_count": 18,
   "metadata": {},
   "outputs": [
    {
     "name": "stdout",
     "output_type": "stream",
     "text": [
      "20\n",
      "10\n"
     ]
    }
   ],
   "source": [
    "# swap without temp var\n",
    "m=10\n",
    "n=20\n",
    "m,n=n,m\n",
    "print(m)\n",
    "print(n)"
   ]
  },
  {
   "cell_type": "code",
   "execution_count": 25,
   "metadata": {},
   "outputs": [
    {
     "name": "stdout",
     "output_type": "stream",
     "text": [
      "pyspiders branch\n",
      "{1, 2, 10}\n",
      "{'r', 1, 2, 10}\n"
     ]
    },
    {
     "ename": "NameError",
     "evalue": "name 'u' is not defined",
     "output_type": "error",
     "traceback": [
      "\u001b[1;31m---------------------------------------------------------------------------\u001b[0m",
      "\u001b[1;31mNameError\u001b[0m                                 Traceback (most recent call last)",
      "Cell \u001b[1;32mIn[25], line 8\u001b[0m\n\u001b[0;32m      6\u001b[0m \u001b[39mprint\u001b[39m(u)\n\u001b[0;32m      7\u001b[0m \u001b[39mdel\u001b[39;00m u\n\u001b[1;32m----> 8\u001b[0m \u001b[39mprint\u001b[39m(u)\n",
      "\u001b[1;31mNameError\u001b[0m: name 'u' is not defined"
     ]
    }
   ],
   "source": [
    "u='pyspiders branch'\n",
    "print(u)\n",
    "u={1,2,10}\n",
    "print(u)\n",
    "u|={10,'r'}\n",
    "print(u)\n",
    "del u\n",
    "print(u)"
   ]
  }
 ],
 "metadata": {
  "kernelspec": {
   "display_name": "Python 3",
   "language": "python",
   "name": "python3"
  },
  "language_info": {
   "codemirror_mode": {
    "name": "ipython",
    "version": 3
   },
   "file_extension": ".py",
   "mimetype": "text/x-python",
   "name": "python",
   "nbconvert_exporter": "python",
   "pygments_lexer": "ipython3",
   "version": "3.10.4"
  },
  "orig_nbformat": 4
 },
 "nbformat": 4,
 "nbformat_minor": 2
}
