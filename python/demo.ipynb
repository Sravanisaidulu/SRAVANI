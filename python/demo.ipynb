{
 "cells": [
  {
   "cell_type": "code",
   "execution_count": 2,
   "metadata": {},
   "outputs": [
    {
     "name": "stdout",
     "output_type": "stream",
     "text": [
      "helloworld\n"
     ]
    }
   ],
   "source": [
    "print('helloworld')"
   ]
  },
  {
   "cell_type": "code",
   "execution_count": 1,
   "metadata": {},
   "outputs": [
    {
     "name": "stdout",
     "output_type": "stream",
     "text": [
      "30\n"
     ]
    }
   ],
   "source": [
    "a=10\n",
    "b=20\n",
    "c=a+b\n",
    "print(c)"
   ]
  },
  {
   "cell_type": "code",
   "execution_count": 19,
   "metadata": {},
   "outputs": [
    {
     "name": "stdout",
     "output_type": "stream",
     "text": [
      "50\n",
      "(3, 4, 5)\n",
      "{1: 'hii', 2: 'good'}\n"
     ]
    },
    {
     "data": {
      "text/plain": [
       "list"
      ]
     },
     "execution_count": 19,
     "metadata": {},
     "output_type": "execute_result"
    }
   ],
   "source": [
    "a=50\n",
    "print(a)\n",
    "e=[10,20,30]\n",
    "c=3,4,5\n",
    "s={1:'hii',2:'good'}\n",
    "print(c)\n",
    "print(s)\n",
    "type(e)"
   ]
  },
  {
   "cell_type": "code",
   "execution_count": 4,
   "metadata": {},
   "outputs": [
    {
     "name": "stdout",
     "output_type": "stream",
     "text": [
      "150\n",
      "120\n",
      "250\n",
      "150 120 250\n"
     ]
    }
   ],
   "source": [
    "# intiallize multivaribles\n",
    "a,c,d=150,120,250\n",
    "print(a)\n",
    "print(c)\n",
    "print(d)\n",
    "print(a,c,d)"
   ]
  },
  {
   "cell_type": "code",
   "execution_count": 5,
   "metadata": {},
   "outputs": [
    {
     "name": "stdout",
     "output_type": "stream",
     "text": [
      "<class 'float'>\n"
     ]
    }
   ],
   "source": [
    "x=10.34\n",
    "print(type(x))"
   ]
  },
  {
   "cell_type": "code",
   "execution_count": 6,
   "metadata": {},
   "outputs": [
    {
     "name": "stdout",
     "output_type": "stream",
     "text": [
      "1624195422080\n"
     ]
    }
   ],
   "source": [
    "# print adress of the value\n",
    "k=[10,True,67,40]\n",
    "print(id(k))"
   ]
  },
  {
   "cell_type": "code",
   "execution_count": 9,
   "metadata": {},
   "outputs": [
    {
     "name": "stdout",
     "output_type": "stream",
     "text": [
      "Sravani\n",
      "True\n",
      "{'name': 'Sravani', 'DOB': 29122000, 'Gender': 'Female', 'email': 'pawar@gmail.com', 'pancard': True}\n",
      "29122000\n"
     ]
    }
   ],
   "source": [
    "#was to print the details of you,frist store details and extract them\n",
    "#     when we wnat to display the real time data dictionary datatype is used\n",
    "s={'name':'Sravani','DOB':29_12_2000,'Gender':'Female','email':'pawar@gmail.com','pancard':True}\n",
    "print(s['name'])\n",
    "print(s['pancard'])\n",
    "print(s)\n",
    "print(s['DOB'])"
   ]
  },
  {
   "cell_type": "code",
   "execution_count": 16,
   "metadata": {},
   "outputs": [
    {
     "name": "stdout",
     "output_type": "stream",
     "text": [
      "(10, 20, 30)\n"
     ]
    }
   ],
   "source": [
    "a=10,20,30\n",
    "print(a)"
   ]
  },
  {
   "cell_type": "code",
   "execution_count": 17,
   "metadata": {},
   "outputs": [
    {
     "name": "stdout",
     "output_type": "stream",
     "text": [
      "20\n",
      "x\n",
      "x\n"
     ]
    }
   ],
   "source": [
    "#was to swap the values using temp variable\n",
    "r='x'\n",
    "b=20\n",
    "d=r\n",
    "r=b\n",
    "b=d\n",
    "print(r)\n",
    "print(b)\n",
    "print(d)\n",
    "# by using temp variable 'r' var become empty so we can assign other value to it\n"
   ]
  },
  {
   "cell_type": "code",
   "execution_count": 18,
   "metadata": {},
   "outputs": [
    {
     "name": "stdout",
     "output_type": "stream",
     "text": [
      "20\n",
      "10\n"
     ]
    }
   ],
   "source": [
    "# swap without temp var\n",
    "m=10\n",
    "n=20\n",
    "m,n=n,m\n",
    "print(m)\n",
    "print(n)"
   ]
  },
  {
   "cell_type": "code",
   "execution_count": 25,
   "metadata": {},
   "outputs": [
    {
     "name": "stdout",
     "output_type": "stream",
     "text": [
      "pyspiders branch\n",
      "{1, 2, 10}\n",
      "{'r', 1, 2, 10}\n"
     ]
    },
    {
     "ename": "NameError",
     "evalue": "name 'u' is not defined",
     "output_type": "error",
     "traceback": [
      "\u001b[1;31m---------------------------------------------------------------------------\u001b[0m",
      "\u001b[1;31mNameError\u001b[0m                                 Traceback (most recent call last)",
      "Cell \u001b[1;32mIn[25], line 8\u001b[0m\n\u001b[0;32m      6\u001b[0m \u001b[39mprint\u001b[39m(u)\n\u001b[0;32m      7\u001b[0m \u001b[39mdel\u001b[39;00m u\n\u001b[1;32m----> 8\u001b[0m \u001b[39mprint\u001b[39m(u)\n",
      "\u001b[1;31mNameError\u001b[0m: name 'u' is not defined"
     ]
    }
   ],
   "source": [
    "u='pyspiders branch'\n",
    "print(u)\n",
    "u={1,2,10}\n",
    "print(u)\n",
    "u|={10,'r'}\n",
    "print(u)\n",
    "del u\n",
    "print(u)"
   ]
  },
  {
   "cell_type": "code",
   "execution_count": 3,
   "metadata": {},
   "outputs": [
    {
     "name": "stdout",
     "output_type": "stream",
     "text": [
      "['1', '0']\n"
     ]
    }
   ],
   "source": [
    "#convert single to multivalue datatype i/p a=10 and o/p=['1','0']\n",
    "a=10\n",
    "a=list(str(a)) \n",
    "print(a)"
   ]
  },
  {
   "cell_type": "code",
   "execution_count": 4,
   "metadata": {},
   "outputs": [
    {
     "name": "stdout",
     "output_type": "stream",
     "text": [
      "hellohii\n",
      "[10, 20, 30, 40, 50]\n",
      "(2, 4, 6, 7, 3, 9)\n",
      "{50, 8, 'kjhgf', 60, 30}\n",
      "{10: 'good', 20: 'bad', 'a': 'new'}\n"
     ]
    }
   ],
   "source": [
    "#cocat two multivalue datatypes\n",
    "x=\"hello\"\n",
    "x+=\"hii\"\n",
    "print(x)\n",
    "y=[10,20,30]\n",
    "y+=[40,50]\n",
    "print(y)\n",
    "z=(2,4,6,7)\n",
    "z+=(3,9)\n",
    "print(z)\n",
    "s={30,50,60}\n",
    "s|={8,'kjhgf'}\n",
    "print(s)\n",
    "p={10:\"good\",20:\"bad\"}\n",
    "p|={'a':\"new\"}\n",
    "print(p)"
   ]
  },
  {
   "cell_type": "code",
   "execution_count": 5,
   "metadata": {},
   "outputs": [
    {
     "data": {
      "text/plain": [
       "6"
      ]
     },
     "execution_count": 5,
     "metadata": {},
     "output_type": "execute_result"
    }
   ],
   "source": [
    "# length of the collection\n",
    "f=[10,20,456,6.444,None,3+8j]\n",
    "len(f)"
   ]
  },
  {
   "cell_type": "code",
   "execution_count": 7,
   "metadata": {},
   "outputs": [
    {
     "name": "stdout",
     "output_type": "stream",
     "text": [
      "40\n",
      "30\n"
     ]
    }
   ],
   "source": [
    "# find the middle value if the collection\n",
    "d=[10,20,40,50,60]\n",
    "print(d[len(d)//2])\n",
    "l=[10,20,30,40]\n",
    "print(l[len(l)//2])"
   ]
  },
  {
   "cell_type": "code",
   "execution_count": 10,
   "metadata": {},
   "outputs": [
    {
     "name": "stdout",
     "output_type": "stream",
     "text": [
      "codepython \n"
     ]
    }
   ],
   "source": [
    "# concat new str to starting of other str\n",
    "x='python '\n",
    "d='code'\n",
    "x=d+x\n",
    "print(x)"
   ]
  },
  {
   "cell_type": "code",
   "execution_count": 9,
   "metadata": {},
   "outputs": [
    {
     "name": "stdout",
     "output_type": "stream",
     "text": [
      "pythoncode\n"
     ]
    }
   ],
   "source": [
    "# concat new str to ending of other str\n",
    "x='python'\n",
    "d='code'\n",
    "x=x+d\n",
    "print(x)"
   ]
  },
  {
   "cell_type": "code",
   "execution_count": 14,
   "metadata": {},
   "outputs": [
    {
     "name": "stdout",
     "output_type": "stream",
     "text": [
      "dragons\n"
     ]
    }
   ],
   "source": [
    "# concat new str to middle of the str\n",
    "s=\"dragns\"\n",
    "s=s[0:4]+'o'+s[4:]\n",
    "print(s)"
   ]
  },
  {
   "cell_type": "code",
   "execution_count": 16,
   "metadata": {},
   "outputs": [
    {
     "data": {
      "text/plain": [
       "'pysprders'"
      ]
     },
     "execution_count": 16,
     "metadata": {},
     "output_type": "execute_result"
    }
   ],
   "source": [
    "# modify the new charcter into the middle of str\n",
    "s='pyspiders'\n",
    "s[len(s)//2]\n",
    "s[0:(len(s)//2)]+'r'+s[len(s)//2+1:]\n"
   ]
  },
  {
   "cell_type": "code",
   "execution_count": 18,
   "metadata": {},
   "outputs": [
    {
     "data": {
      "text/plain": [
       "'heLLo'"
      ]
     },
     "execution_count": 18,
     "metadata": {},
     "output_type": "execute_result"
    }
   ],
   "source": [
    "#modify the sequence of character in str\n",
    "s='hello'\n",
    "s[0:2]+'LL'+s[4:]"
   ]
  },
  {
   "cell_type": "code",
   "execution_count": 19,
   "metadata": {},
   "outputs": [
    {
     "data": {
      "text/plain": [
       "'sudmer'"
      ]
     },
     "execution_count": 19,
     "metadata": {},
     "output_type": "execute_result"
    }
   ],
   "source": [
    "#replace old char to new char in a str\n",
    "x='summer'\n",
    "x[0:2]+'d'+x[3:]\n"
   ]
  },
  {
   "cell_type": "code",
   "execution_count": 20,
   "metadata": {},
   "outputs": [
    {
     "data": {
      "text/plain": [
       "'sunday'"
      ]
     },
     "execution_count": 20,
     "metadata": {},
     "output_type": "execute_result"
    }
   ],
   "source": [
    "# delete specific char in a str\n",
    "x='sun day'\n",
    "x[0:3]+x[4:]"
   ]
  },
  {
   "cell_type": "code",
   "execution_count": 22,
   "metadata": {},
   "outputs": [
    {
     "data": {
      "text/plain": [
       "'haii how are you'"
      ]
     },
     "execution_count": 22,
     "metadata": {},
     "output_type": "execute_result"
    }
   ],
   "source": [
    "# concat new str into the specific position of the str\n",
    "x=\"haii are you\"\n",
    "x[0:4]+\"how\"+x[4:]\n",
    "x[0:4+1]+\"how\"+x[4:]"
   ]
  },
  {
   "cell_type": "code",
   "execution_count": 23,
   "metadata": {},
   "outputs": [
    {
     "data": {
      "text/plain": [
       "'hii ram'"
      ]
     },
     "execution_count": 23,
     "metadata": {},
     "output_type": "execute_result"
    }
   ],
   "source": [
    "# del sequence of char in str\n",
    "x=\"hii hello ram\"\n",
    "x[0:4]+x[10:]"
   ]
  },
  {
   "cell_type": "code",
   "execution_count": 25,
   "metadata": {},
   "outputs": [
    {
     "name": "stdout",
     "output_type": "stream",
     "text": [
      "[5, 6, 1, 2, 3]\n",
      "[567, 789, 112, 456, 367]\n"
     ]
    }
   ],
   "source": [
    "# concat new value into the starting of list\n",
    "l=[1,2,3]\n",
    "l=[5,6]+l\n",
    "print(l)\n",
    "x=[112,456,367]\n",
    "x[0:0]=[567,789]\n",
    "print(x)"
   ]
  },
  {
   "cell_type": "code",
   "execution_count": 26,
   "metadata": {},
   "outputs": [
    {
     "name": "stdout",
     "output_type": "stream",
     "text": [
      "[10, 30, 50, 4, 5, 6]\n",
      "['rama', 'seetha', 'krishna']\n",
      "['qwer', 'fgbv', 'qwdhf']\n"
     ]
    }
   ],
   "source": [
    "# concat the newvalue into ending of the list\n",
    "l=[10,30,50]\n",
    "l=l+[4,5,6]\n",
    "print(l)\n",
    "y=['rama','seetha']\n",
    "y+=['krishna']\n",
    "print(y)\n",
    "z=[\"qwer\",\"fgbv\"]\n",
    "z[2:2]=[\"qwdhf\"]\n",
    "print(z)"
   ]
  },
  {
   "cell_type": "code",
   "execution_count": 27,
   "metadata": {},
   "outputs": [
    {
     "name": "stdout",
     "output_type": "stream",
     "text": [
      "[10, 150.34, '100', (5+9j), True, 'baby']\n"
     ]
    }
   ],
   "source": [
    "# concat the new value in middle of list\n",
    "l=[10,150.34,True,\"baby\"]\n",
    "l[len(l)//2:len(l)//2]=['100',5+9j]\n",
    "print(l)"
   ]
  },
  {
   "cell_type": "code",
   "execution_count": 30,
   "metadata": {},
   "outputs": [
    {
     "name": "stdout",
     "output_type": "stream",
     "text": [
      "[1, 2, 200, 567, 20000, 4, 7000]\n"
     ]
    }
   ],
   "source": [
    "# concat new value into specific poistion of list\n",
    "l=[1,2,20000,4,7000]\n",
    "l[2:2]=[200,567]\n",
    "print(l)"
   ]
  },
  {
   "cell_type": "code",
   "execution_count": 2,
   "metadata": {},
   "outputs": [
    {
     "name": "stdout",
     "output_type": "stream",
     "text": [
      "[True, 24.5, 'flower', 6]\n"
     ]
    }
   ],
   "source": [
    "# modify the new value into specific position of list\n",
    "r=[True,24.5,10+3j,6]\n",
    "r[-2]=\"flower\"\n",
    "print(r)\n"
   ]
  }
 ],
 "metadata": {
  "kernelspec": {
   "display_name": "Python 3",
   "language": "python",
   "name": "python3"
  },
  "language_info": {
   "codemirror_mode": {
    "name": "ipython",
    "version": 3
   },
   "file_extension": ".py",
   "mimetype": "text/x-python",
   "name": "python",
   "nbconvert_exporter": "python",
   "pygments_lexer": "ipython3",
   "version": "3.11.4"
  },
  "orig_nbformat": 4
 },
 "nbformat": 4,
 "nbformat_minor": 2
}
