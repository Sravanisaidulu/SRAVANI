{
 "cells": [
  {
   "cell_type": "code",
   "execution_count": null,
   "metadata": {},
   "outputs": [],
   "source": [
    "class ordercheysuko:\n",
    "    Menucard={\n",
    "        'veg':{\n",
    "            1:'paneer Briyani',2:'kaju paneer',3:'sizziling paneer',4:'mixed veg dum briyani',5:'gobi rice' },\n",
    "        'nonveg':{\n",
    "            11:'chicken dum briyani',12:'fish briyani',13:'prawns briyani',14:'mutton special briyani',15:'egg briyani'},\n",
    "        'suops':{\n",
    "            21:'corn suop',22:'veggies suop',23:'crab suop',24:'bone suop',25:'duck suop'},\n",
    "        'frys':{\n",
    "            31:'chicken lolipop',32:'fish fry',33:'bayja fry',34:'mutton steaks',35:'chicken 65'}}\n",
    "    "
   ]
  },
  {
   "cell_type": "code",
   "execution_count": 3,
   "metadata": {},
   "outputs": [
    {
     "ename": "TypeError",
     "evalue": "Menu() takes no arguments",
     "output_type": "error",
     "traceback": [
      "\u001b[1;31m---------------------------------------------------------------------------\u001b[0m",
      "\u001b[1;31mTypeError\u001b[0m                                 Traceback (most recent call last)",
      "\u001b[1;32mc:\\Users\\sravani\\OneDrive\\Documents\\GitHub\\SRAVANI\\python\\resturant.ipynb Cell 2\u001b[0m line \u001b[0;36m5\n\u001b[0;32m     <a href='vscode-notebook-cell:/c%3A/Users/sravani/OneDrive/Documents/GitHub/SRAVANI/python/resturant.ipynb#W1sZmlsZQ%3D%3D?line=47'>48</a>\u001b[0m nonveg_menu \u001b[39m=\u001b[39m {\u001b[39m'\u001b[39m\u001b[39mhot sausce chicken wings\u001b[39m\u001b[39m'\u001b[39m: \u001b[39m300\u001b[39m, \u001b[39m'\u001b[39m\u001b[39mchicken fried rice\u001b[39m\u001b[39m'\u001b[39m: \u001b[39m200\u001b[39m, \u001b[39m'\u001b[39m\u001b[39mhotpot\u001b[39m\u001b[39m'\u001b[39m: \u001b[39m250\u001b[39m}\n\u001b[0;32m     <a href='vscode-notebook-cell:/c%3A/Users/sravani/OneDrive/Documents/GitHub/SRAVANI/python/resturant.ipynb#W1sZmlsZQ%3D%3D?line=48'>49</a>\u001b[0m drinks_menu \u001b[39m=\u001b[39m {\u001b[39m'\u001b[39m\u001b[39mSprite\u001b[39m\u001b[39m'\u001b[39m: \u001b[39m50\u001b[39m, \u001b[39m'\u001b[39m\u001b[39mPepsi\u001b[39m\u001b[39m'\u001b[39m: \u001b[39m50\u001b[39m, \u001b[39m'\u001b[39m\u001b[39msogu\u001b[39m\u001b[39m'\u001b[39m: \u001b[39m60\u001b[39m}\n\u001b[1;32m---> <a href='vscode-notebook-cell:/c%3A/Users/sravani/OneDrive/Documents/GitHub/SRAVANI/python/resturant.ipynb#W1sZmlsZQ%3D%3D?line=50'>51</a>\u001b[0m obj\u001b[39m=\u001b[39m Menu(veg_menu, nonveg_menu, drinks_menu)\n",
      "\u001b[1;31mTypeError\u001b[0m: Menu() takes no arguments"
     ]
    }
   ],
   "source": [
    "class Menu:\n",
    "    res_name = 'hansanyo'\n",
    "    place = 'korean'\n",
    "    res_id = 1705\n",
    "    items = ['veg', 'nonveg', 'drinks']\n",
    "    cart = 0\n",
    "    menu_menu = {}\n",
    "\n",
    "    def _init_(self, veg, nonveg, drinks):\n",
    "        self.veg = veg\n",
    "        self.nonveg = nonveg\n",
    "        self.drinks = drinks\n",
    "        self.no_of_items = 0 + self.cart\n",
    "\n",
    "    def order(self, selected_item, price):\n",
    "        self.menu_menu[selected_item] = price\n",
    "\n",
    "    def gst(self, selected_item):\n",
    "        if selected_item in self.menu_menu:\n",
    "            price = self.menu_menu[selected_item]\n",
    "            gst_tax = price * 0.2\n",
    "            total_price = price + gst_tax\n",
    "            return total_price\n",
    "\n",
    "    def my_menu(self):\n",
    "        while True:\n",
    "            n = int(input(\"Choose The Options:\\n0.veg\\n1.nonveg\\n2.drinks\\n3.Exit\"))\n",
    "            print(\"*\" * 200)\n",
    "            match n:\n",
    "                case 0:\n",
    "                    self.display_menu(self.veg, \"Veg Menu\")\n",
    "                case 1:\n",
    "                    self.display_menu(self.nonveg, \"Non-Veg Menu\")\n",
    "                case 2:\n",
    "                    self.display_menu(self.drinks, \"Drinks Menu\")\n",
    "                case 3:\n",
    "                    break\n",
    "                case _:\n",
    "                    print(\"Invalid option. Please try again.\")\n",
    "\n",
    "    @staticmethod\n",
    "    def display_menu(menu_items, menu_name):\n",
    "        print(menu_name + \":\")\n",
    "        for item, price in menu_items.items():\n",
    "            total_price = price + (price * 0.2)  \n",
    "            print(f\"{item}: {total_price:.2f}\")\n",
    "\n",
    "veg_menu = {'Pappu Avakaya': 100, 'ramen noodles': 200, 'kimbapaa': 250}\n",
    "nonveg_menu = {'hot sausce chicken wings': 300, 'chicken fried rice': 200, 'hotpot': 250}\n",
    "drinks_menu = {'Sprite': 50, 'Pepsi': 50, 'sogu': 60}\n",
    "\n",
    "obj= Menu(veg_menu, nonveg_menu, drinks_menu)"
   ]
  }
 ],
 "metadata": {
  "kernelspec": {
   "display_name": "Python 3",
   "language": "python",
   "name": "python3"
  },
  "language_info": {
   "codemirror_mode": {
    "name": "ipython",
    "version": 3
   },
   "file_extension": ".py",
   "mimetype": "text/x-python",
   "name": "python",
   "nbconvert_exporter": "python",
   "pygments_lexer": "ipython3",
   "version": "3.11.4"
  }
 },
 "nbformat": 4,
 "nbformat_minor": 2
}
