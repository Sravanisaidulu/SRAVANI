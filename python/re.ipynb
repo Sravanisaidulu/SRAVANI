{
 "cells": [
  {
   "cell_type": "code",
   "execution_count": 3,
   "metadata": {},
   "outputs": [
    {
     "name": "stdout",
     "output_type": "stream",
     "text": [
      "['H', 'O', 'G', 'O', 'O', 'D', 'R', 'I', 'N']\n",
      "HOGOODRIN\n"
     ]
    }
   ],
   "source": [
    "# findall\n",
    "import re\n",
    "s=\"Hello wOrld GOOD moRnINg\"\n",
    "res=re.findall(\"[A-Z]\",s)\n",
    "print(res)\n",
    "print(\"\".join(res))\n",
    "\n"
   ]
  },
  {
   "cell_type": "code",
   "execution_count": 4,
   "metadata": {},
   "outputs": [
    {
     "name": "stdout",
     "output_type": "stream",
     "text": [
      "<re.Match object; span=(3, 6), match='dad'>\n"
     ]
    }
   ],
   "source": [
    "# search\n",
    "import re\n",
    "s=\"my dad is my super hero\"\n",
    "f=re.search(\"dad\",s)\n",
    "print(f)"
   ]
  },
  {
   "cell_type": "code",
   "execution_count": 5,
   "metadata": {},
   "outputs": [
    {
     "name": "stdout",
     "output_type": "stream",
     "text": [
      "None\n"
     ]
    }
   ],
   "source": [
    "import re\n",
    "s=\"my dad is my super hero\"\n",
    "f=re.search(\"Dad\",s)\n",
    "print(f)"
   ]
  },
  {
   "cell_type": "code",
   "execution_count": 7,
   "metadata": {},
   "outputs": [
    {
     "name": "stdout",
     "output_type": "stream",
     "text": [
      "<re.Match object; span=(4, 5), match='g'>\n"
     ]
    }
   ],
   "source": [
    "import re\n",
    "s=\"hii good\"\n",
    "f=re.search(\"g\",s)\n",
    "print(f)"
   ]
  },
  {
   "cell_type": "code",
   "execution_count": 8,
   "metadata": {},
   "outputs": [
    {
     "name": "stdout",
     "output_type": "stream",
     "text": [
      "['su', 'ti', 'mo', 'and', 'gu', 'wei', 'hi']\n"
     ]
    }
   ],
   "source": [
    "# split\n",
    "import re\n",
    "st=\"su ti mo and gu wei hi\"\n",
    "rt=re.split(\" \",st)\n",
    "print(rt)"
   ]
  },
  {
   "cell_type": "code",
   "execution_count": 9,
   "metadata": {},
   "outputs": [
    {
     "name": "stdout",
     "output_type": "stream",
     "text": [
      "['su ti mo and gu wei hi']\n"
     ]
    }
   ],
   "source": [
    "import re\n",
    "st=\"su ti mo and gu wei hi\"\n",
    "rt=re.split(\"/ \",st)\n",
    "print(rt)"
   ]
  },
  {
   "cell_type": "code",
   "execution_count": 10,
   "metadata": {},
   "outputs": [
    {
     "name": "stdout",
     "output_type": "stream",
     "text": [
      "['s', 'ti mo and g', 'wei hi']\n"
     ]
    }
   ],
   "source": [
    "import re\n",
    "st=\"su ti mo and gu wei hi\"\n",
    "rt=re.split(\"u \",st)\n",
    "print(rt)"
   ]
  },
  {
   "cell_type": "code",
   "execution_count": 12,
   "metadata": {},
   "outputs": [
    {
     "name": "stdout",
     "output_type": "stream",
     "text": [
      "su ti mo loves gu wei hi\n"
     ]
    }
   ],
   "source": [
    "# sub it like replace\n",
    "import re\n",
    "st=\"su ti mo and gu wei hi\"\n",
    "f=re.sub(\"and\",\"loves\",st)\n",
    "print(f)"
   ]
  },
  {
   "cell_type": "code",
   "execution_count": 13,
   "metadata": {},
   "outputs": [
    {
     "name": "stdout",
     "output_type": "stream",
     "text": [
      "hsllo world\n"
     ]
    }
   ],
   "source": [
    "import re\n",
    "s=\"hello world\"\n",
    "f=re.sub(\"e\",\"s\",s)\n",
    "print(f)"
   ]
  },
  {
   "cell_type": "code",
   "execution_count": 14,
   "metadata": {},
   "outputs": [
    {
     "name": "stdout",
     "output_type": "stream",
     "text": [
      "hesso worsd\n"
     ]
    }
   ],
   "source": [
    "import re\n",
    "s=\"hello world\"\n",
    "f=re.sub(\"l\",\"s\",s)\n",
    "print(f)"
   ]
  },
  {
   "cell_type": "code",
   "execution_count": 17,
   "metadata": {},
   "outputs": [
    {
     "name": "stdout",
     "output_type": "stream",
     "text": [
      "['hello']\n",
      "['h']\n",
      "[]\n"
     ]
    }
   ],
   "source": [
    "# patterns in findall\n",
    "#          ^:srart with\n",
    "import re\n",
    "s=\"hello world\"\n",
    "res=re.findall(\"^hello\",s)\n",
    "print(res)\n",
    "\n",
    "m=re.findall(\"^h\",s)\n",
    "print(m)\n",
    "\n",
    "f=re.findall(\"^H\",s)\n",
    "print(f)"
   ]
  },
  {
   "cell_type": "code",
   "execution_count": 18,
   "metadata": {},
   "outputs": [
    {
     "name": "stdout",
     "output_type": "stream",
     "text": [
      "['hello', 'hello']\n"
     ]
    }
   ],
   "source": [
    "import re\n",
    "st=\"hello good morning, hello one and all\"\n",
    "res=re.findall(\"hello\",st)\n",
    "print(res)"
   ]
  },
  {
   "cell_type": "code",
   "execution_count": 22,
   "metadata": {},
   "outputs": [
    {
     "name": "stdout",
     "output_type": "stream",
     "text": [
      "['all']\n",
      "['and all']\n",
      "[]\n",
      "['l']\n"
     ]
    }
   ],
   "source": [
    "# end with:$\n",
    "import re\n",
    "st=\"hello good morning, hello one and all\"\n",
    "res=re.findall(\"all$\",st)\n",
    "print(res)\n",
    "\n",
    "res=re.findall(\"and all$\",st)\n",
    "print(res)\n",
    "\n",
    "res=re.findall(\"alL$\",st)\n",
    "print(res)\n",
    "\n",
    "res=re.findall(\"l$\",st)\n",
    "print(res)\n",
    "\n",
    "\n"
   ]
  },
  {
   "cell_type": "code",
   "execution_count": 23,
   "metadata": {},
   "outputs": [
    {
     "name": "stdout",
     "output_type": "stream",
     "text": [
      "['good']\n"
     ]
    }
   ],
   "source": [
    "# .: dot accept alphabtes,numbers and special characters\n",
    "import re\n",
    "st=\"hello good morning, hello one and all\"\n",
    "f=re.findall(\"g..d\",st)\n",
    "print(f)\n"
   ]
  },
  {
   "cell_type": "code",
   "execution_count": 24,
   "metadata": {},
   "outputs": [
    {
     "name": "stdout",
     "output_type": "stream",
     "text": [
      "['good mornin']\n"
     ]
    }
   ],
   "source": [
    "import re\n",
    "st=\"hello good morning, hello one and all\"\n",
    "f=re.findall(\"g..d.mor...\",st)\n",
    "print(f)\n"
   ]
  },
  {
   "cell_type": "code",
   "execution_count": 27,
   "metadata": {},
   "outputs": [
    {
     "name": "stdout",
     "output_type": "stream",
     "text": [
      "['C', 'O', 'L', 'L', 'G', 'H', 'J', 'J']\n",
      "['h', 'e', 'l', 'o', 'g', 'o', 'd', 'm', 'o', 'r', 'n', 'i', 'n', 'g', 'h', 'e', 'l', 'o', 'o', 'n', 'e', 'q', 'n', 'd', 'l', 'l']\n",
      "['4', '5', '6', '8', '1', '2', '3']\n",
      "[]\n"
     ]
    }
   ],
   "source": [
    "import re\n",
    "st=\"heClo goOd456 mor$nin8g, helLLo123 one %qnd GHJJl@l\"\n",
    "f=re.findall(\"[A-Z]\",st)\n",
    "print(f)\n",
    "\n",
    "f1=re.findall(\"[a-z]\",st)\n",
    "print(f1)\n",
    "\n",
    "f2=re.findall(\"[0-9]\",st)\n",
    "print(f2)\n",
    "\n",
    "f3=re.findall(\"~[A-Z][0-9][a-z]\",st)\n",
    "print(f3)\n",
    "\n",
    "\n"
   ]
  }
 ],
 "metadata": {
  "kernelspec": {
   "display_name": "Python 3",
   "language": "python",
   "name": "python3"
  },
  "language_info": {
   "codemirror_mode": {
    "name": "ipython",
    "version": 3
   },
   "file_extension": ".py",
   "mimetype": "text/x-python",
   "name": "python",
   "nbconvert_exporter": "python",
   "pygments_lexer": "ipython3",
   "version": "3.11.4"
  }
 },
 "nbformat": 4,
 "nbformat_minor": 2
}
