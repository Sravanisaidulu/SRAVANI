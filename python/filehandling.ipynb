{
 "cells": [
  {
   "cell_type": "code",
   "execution_count": 1,
   "metadata": {},
   "outputs": [
    {
     "name": "stdout",
     "output_type": "stream",
     "text": [
      "<_io.TextIOWrapper name='file1.txt' mode='w' encoding='cp1252'>\n"
     ]
    }
   ],
   "source": [
    "# fp =filepointer\n",
    "fp=open(\"file1.txt\",\"w\")\n",
    "print(fp)\n",
    "fp.close()"
   ]
  },
  {
   "cell_type": "code",
   "execution_count": 3,
   "metadata": {},
   "outputs": [
    {
     "name": "stdout",
     "output_type": "stream",
     "text": [
      "0\n",
      "11\n"
     ]
    }
   ],
   "source": [
    "# write                  write the data\n",
    "fp=open(\"file1.txt\",\"w\")\n",
    "print(fp.tell())\n",
    "fp.write(\"hello world\")\n",
    "print(fp.tell())\n",
    "fp.close()"
   ]
  },
  {
   "cell_type": "code",
   "execution_count": 13,
   "metadata": {},
   "outputs": [
    {
     "name": "stdout",
     "output_type": "stream",
     "text": [
      "0\n",
      "hello world welcome to python welcome to python welcome back welcome to python welcome back\n",
      "91\n"
     ]
    }
   ],
   "source": [
    "# read read the data in the file\n",
    "fp=open(\"file1.txt\",'r')\n",
    "print(fp.tell())\n",
    "res=fp.read()\n",
    "print(res)\n",
    "print(fp.tell())\n",
    "fp.close()"
   ]
  },
  {
   "cell_type": "code",
   "execution_count": 12,
   "metadata": {},
   "outputs": [
    {
     "name": "stdout",
     "output_type": "stream",
     "text": [
      "60\n",
      "91\n"
     ]
    }
   ],
   "source": [
    "#append            add new contwnt to existing \n",
    "fp=open(\"file1.txt\",'a')\n",
    "print(fp.tell())\n",
    "fp.write(\" welcome to python welcome back\")\n",
    "print(fp.tell())\n",
    "fp.close()"
   ]
  },
  {
   "cell_type": "code",
   "execution_count": 7,
   "metadata": {},
   "outputs": [
    {
     "name": "stdout",
     "output_type": "stream",
     "text": [
      "0\n",
      "12\n",
      "0\n",
      "neeraj pawar\n"
     ]
    }
   ],
   "source": [
    "# advance modes\n",
    "# write and read(w+)\n",
    "fp=open(\"file2.txt\",\"w+\")\n",
    "print(fp.tell())\n",
    "fp.write(\"neeraj pawar\")\n",
    "print(fp.tell())\n",
    "print(fp.seek(0))\n",
    "res=fp.read()\n",
    "print(res)\n",
    "fp.close()\n"
   ]
  },
  {
   "cell_type": "code",
   "execution_count": 9,
   "metadata": {},
   "outputs": [
    {
     "name": "stdout",
     "output_type": "stream",
     "text": [
      "0\n",
      "neeraj pawar\n",
      "12\n",
      "22\n"
     ]
    }
   ],
   "source": [
    "# read and append(r+)\n",
    "fp=open(\"file2.txt\",\"r+\")\n",
    "print(fp.tell())\n",
    "res=fp.read()\n",
    "print(res)\n",
    "print(fp.tell())\n",
    "fp.write(\"is my frnd\")\n",
    "print(fp.tell())\n",
    "fp.close()"
   ]
  },
  {
   "cell_type": "code",
   "execution_count": 10,
   "metadata": {},
   "outputs": [
    {
     "name": "stdout",
     "output_type": "stream",
     "text": [
      "22\n",
      "30\n",
      "0\n",
      "neeraj pawaris my frnd my best\n"
     ]
    }
   ],
   "source": [
    "#append and read(a+)\n",
    "fp=open(\"file2.txt\",\"a+\")\n",
    "print(fp.tell())\n",
    "fp.write(\" my best\")\n",
    "print(fp.tell())\n",
    "print(fp.seek(0))\n",
    "res=fp.read()\n",
    "print(res)\n",
    "fp.close()"
   ]
  },
  {
   "cell_type": "code",
   "execution_count": 15,
   "metadata": {},
   "outputs": [],
   "source": [
    "# write lines: it acceptn no of lines in list format or string format\n",
    "fp=open(\"file2.txt\",\"a\")\n",
    "fp.writelines([\"\\n java\" ,\"\\n python\" ,\"\\n manual\"])\n",
    "fp.close()"
   ]
  },
  {
   "cell_type": "code",
   "execution_count": 16,
   "metadata": {},
   "outputs": [
    {
     "name": "stdout",
     "output_type": "stream",
     "text": [
      "132\n",
      "153\n",
      "0\n",
      "neeraj pawaris my frnd my best/n java /n python /n manual/n java/n python/n manual\n",
      "\n"
     ]
    }
   ],
   "source": [
    "fp=open(\"file2.txt\",\"a+\")\n",
    "print(fp.tell())\n",
    "fp.write(\" programming language\")\n",
    "print(fp.tell())\n",
    "print(fp.seek(0))\n",
    "res=fp.readline()\n",
    "print(res)\n",
    "fp.close()"
   ]
  },
  {
   "cell_type": "code",
   "execution_count": 17,
   "metadata": {},
   "outputs": [
    {
     "name": "stdout",
     "output_type": "stream",
     "text": [
      "153\n",
      "176\n",
      "0\n",
      "['neeraj pawaris my frnd my best/n java /n python /n manual/n java/n python/n manual\\n', ' java/n python/n manual\\n', ' java\\n', ' python\\n', ' manual programming language\\n', ' programming language']\n"
     ]
    }
   ],
   "source": [
    "fp=open(\"file2.txt\",\"a+\")\n",
    "print(fp.tell())\n",
    "fp.write(\"\\n programming language\")\n",
    "print(fp.tell())\n",
    "print(fp.seek(0))\n",
    "res=fp.readlines()\n",
    "print(res)\n",
    "fp.close()"
   ]
  },
  {
   "cell_type": "code",
   "execution_count": 5,
   "metadata": {},
   "outputs": [],
   "source": [
    "# csv files\n",
    "import csv\n",
    "fp=open(\"student.csv\",'w')\n",
    "filewrite=csv.writer(fp)\n",
    "filewrite.writerow(['studentid','name','email','marks'])\n",
    "fp.close()"
   ]
  },
  {
   "cell_type": "code",
   "execution_count": 6,
   "metadata": {},
   "outputs": [],
   "source": [
    "import csv\n",
    "fp=open(\"student.csv\",'a')\n",
    "filewrite=csv.writer(fp)\n",
    "filewrite.writerow([101,'sravani','sravs@gmail.com',90])\n",
    "fp.close()"
   ]
  },
  {
   "cell_type": "code",
   "execution_count": 8,
   "metadata": {},
   "outputs": [
    {
     "name": "stdout",
     "output_type": "stream",
     "text": [
      "[['studentid', 'name', 'email', 'marks'], [], ['101', 'sravani', 'sravs@gmail.com', '90'], []]\n"
     ]
    }
   ],
   "source": [
    "import csv\n",
    "fp=open(\"student.csv\",'r')\n",
    "filewrite=csv.reader(fp)\n",
    "res=list(filewrite)\n",
    "print(res)\n",
    "fp.close()"
   ]
  },
  {
   "cell_type": "code",
   "execution_count": 4,
   "metadata": {},
   "outputs": [],
   "source": [
    "import csv\n",
    "fp=open(\"emp.csv\",'w',newline=\"\\n\")\n",
    "fpwrite=csv.DictWriter(fp,['empid','name','role','salary'])\n",
    "fpwrite.writerow({'empid':100,'name':'mohan','role':'develpoer',\"salary\":95000})\n",
    "fp.close()\n"
   ]
  }
 ],
 "metadata": {
  "kernelspec": {
   "display_name": "Python 3",
   "language": "python",
   "name": "python3"
  },
  "language_info": {
   "codemirror_mode": {
    "name": "ipython",
    "version": 3
   },
   "file_extension": ".py",
   "mimetype": "text/x-python",
   "name": "python",
   "nbconvert_exporter": "python",
   "pygments_lexer": "ipython3",
   "version": "3.11.4"
  }
 },
 "nbformat": 4,
 "nbformat_minor": 2
}
