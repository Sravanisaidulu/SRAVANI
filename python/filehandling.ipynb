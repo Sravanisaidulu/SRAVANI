{
 "cells": [
  {
   "cell_type": "code",
   "execution_count": 1,
   "metadata": {},
   "outputs": [
    {
     "name": "stdout",
     "output_type": "stream",
     "text": [
      "<_io.TextIOWrapper name='file1.txt' mode='w' encoding='cp1252'>\n"
     ]
    }
   ],
   "source": [
    "# fp =filepointer\n",
    "fp=open(\"file1.txt\",\"w\")\n",
    "print(fp)\n",
    "fp.close()"
   ]
  },
  {
   "cell_type": "code",
   "execution_count": 3,
   "metadata": {},
   "outputs": [
    {
     "name": "stdout",
     "output_type": "stream",
     "text": [
      "0\n",
      "11\n"
     ]
    }
   ],
   "source": [
    "# write                  write the data\n",
    "fp=open(\"file1.txt\",\"w\")\n",
    "print(fp.tell())\n",
    "fp.write(\"hello world\")\n",
    "print(fp.tell())\n",
    "fp.close()"
   ]
  },
  {
   "cell_type": "code",
   "execution_count": 13,
   "metadata": {},
   "outputs": [
    {
     "name": "stdout",
     "output_type": "stream",
     "text": [
      "0\n",
      "hello world welcome to python welcome to python welcome back welcome to python welcome back\n",
      "91\n"
     ]
    }
   ],
   "source": [
    "# read read the data in the file\n",
    "fp=open(\"file1.txt\",'r')\n",
    "print(fp.tell())\n",
    "res=fp.read()\n",
    "print(res)\n",
    "print(fp.tell())\n",
    "fp.close()"
   ]
  },
  {
   "cell_type": "code",
   "execution_count": 12,
   "metadata": {},
   "outputs": [
    {
     "name": "stdout",
     "output_type": "stream",
     "text": [
      "60\n",
      "91\n"
     ]
    }
   ],
   "source": [
    "#append            add new contwnt to existing \n",
    "fp=open(\"file1.txt\",'a')\n",
    "print(fp.tell())\n",
    "fp.write(\" welcome to python welcome back\")\n",
    "print(fp.tell())\n",
    "fp.close()"
   ]
  },
  {
   "cell_type": "code",
   "execution_count": 7,
   "metadata": {},
   "outputs": [
    {
     "name": "stdout",
     "output_type": "stream",
     "text": [
      "0\n",
      "12\n",
      "0\n",
      "neeraj pawar\n"
     ]
    }
   ],
   "source": [
    "# advance modes\n",
    "# write and read(w+)\n",
    "fp=open(\"file2.txt\",\"w+\")\n",
    "print(fp.tell())\n",
    "fp.write(\"neeraj pawar\")\n",
    "print(fp.tell())\n",
    "print(fp.seek(0))\n",
    "res=fp.read()\n",
    "print(res)\n",
    "fp.close()\n"
   ]
  },
  {
   "cell_type": "code",
   "execution_count": 9,
   "metadata": {},
   "outputs": [
    {
     "name": "stdout",
     "output_type": "stream",
     "text": [
      "0\n",
      "neeraj pawar\n",
      "12\n",
      "22\n"
     ]
    }
   ],
   "source": [
    "# read and append(r+)\n",
    "fp=open(\"file2.txt\",\"r+\")\n",
    "print(fp.tell())\n",
    "res=fp.read()\n",
    "print(res)\n",
    "print(fp.tell())\n",
    "fp.write(\"is my frnd\")\n",
    "print(fp.tell())\n",
    "fp.close()"
   ]
  },
  {
   "cell_type": "code",
   "execution_count": 10,
   "metadata": {},
   "outputs": [
    {
     "name": "stdout",
     "output_type": "stream",
     "text": [
      "22\n",
      "30\n",
      "0\n",
      "neeraj pawaris my frnd my best\n"
     ]
    }
   ],
   "source": [
    "#append and read(a+)\n",
    "fp=open(\"file2.txt\",\"a+\")\n",
    "print(fp.tell())\n",
    "fp.write(\" my best\")\n",
    "print(fp.tell())\n",
    "print(fp.seek(0))\n",
    "res=fp.read()\n",
    "print(res)\n",
    "fp.close()"
   ]
  },
  {
   "cell_type": "code",
   "execution_count": 15,
   "metadata": {},
   "outputs": [],
   "source": [
    "# write lines: it acceptn no of lines in list format or string format\n",
    "fp=open(\"file2.txt\",\"a\")\n",
    "fp.writelines([\"\\n java\" ,\"\\n python\" ,\"\\n manual\"])\n",
    "fp.close()"
   ]
  },
  {
   "cell_type": "code",
   "execution_count": 16,
   "metadata": {},
   "outputs": [
    {
     "name": "stdout",
     "output_type": "stream",
     "text": [
      "132\n",
      "153\n",
      "0\n",
      "neeraj pawaris my frnd my best/n java /n python /n manual/n java/n python/n manual\n",
      "\n"
     ]
    }
   ],
   "source": [
    "fp=open(\"file2.txt\",\"a+\")\n",
    "print(fp.tell())\n",
    "fp.write(\" programming language\")\n",
    "print(fp.tell())\n",
    "print(fp.seek(0))\n",
    "res=fp.readline()\n",
    "print(res)\n",
    "fp.close()"
   ]
  },
  {
   "cell_type": "code",
   "execution_count": 17,
   "metadata": {},
   "outputs": [
    {
     "name": "stdout",
     "output_type": "stream",
     "text": [
      "153\n",
      "176\n",
      "0\n",
      "['neeraj pawaris my frnd my best/n java /n python /n manual/n java/n python/n manual\\n', ' java/n python/n manual\\n', ' java\\n', ' python\\n', ' manual programming language\\n', ' programming language']\n"
     ]
    }
   ],
   "source": [
    "fp=open(\"file2.txt\",\"a+\")\n",
    "print(fp.tell())\n",
    "fp.write(\"\\n programming language\")\n",
    "print(fp.tell())\n",
    "print(fp.seek(0))\n",
    "res=fp.readlines()\n",
    "print(res)\n",
    "fp.close()"
   ]
  },
  {
   "cell_type": "code",
   "execution_count": 5,
   "metadata": {},
   "outputs": [],
   "source": [
    "# csv files\n",
    "import csv\n",
    "fp=open(\"student.csv\",'w')\n",
    "filewrite=csv.writer(fp)\n",
    "filewrite.writerow(['studentid','name','email','marks'])\n",
    "fp.close()"
   ]
  },
  {
   "cell_type": "code",
   "execution_count": 6,
   "metadata": {},
   "outputs": [],
   "source": [
    "import csv\n",
    "fp=open(\"student.csv\",'a')\n",
    "filewrite=csv.writer(fp)\n",
    "filewrite.writerow([101,'sravani','sravs@gmail.com',90])\n",
    "fp.close()"
   ]
  },
  {
   "cell_type": "code",
   "execution_count": 8,
   "metadata": {},
   "outputs": [
    {
     "name": "stdout",
     "output_type": "stream",
     "text": [
      "[['studentid', 'name', 'email', 'marks'], [], ['101', 'sravani', 'sravs@gmail.com', '90'], []]\n"
     ]
    }
   ],
   "source": [
    "import csv\n",
    "fp=open(\"student.csv\",'r')\n",
    "filewrite=csv.reader(fp)\n",
    "res=list(filewrite)\n",
    "print(res)\n",
    "fp.close()"
   ]
  },
  {
   "cell_type": "code",
   "execution_count": 3,
   "metadata": {},
   "outputs": [
    {
     "ename": "TypeError",
     "evalue": "'nemline' is an invalid keyword argument for open()",
     "output_type": "error",
     "traceback": [
      "\u001b[1;31m---------------------------------------------------------------------------\u001b[0m",
      "\u001b[1;31mTypeError\u001b[0m                                 Traceback (most recent call last)",
      "\u001b[1;32mc:\\Users\\sravani\\OneDrive\\Documents\\GitHub\\SRAVANI\\python\\filehandling.ipynb Cell 14\u001b[0m line \u001b[0;36m2\n\u001b[0;32m      <a href='vscode-notebook-cell:/c%3A/Users/sravani/OneDrive/Documents/GitHub/SRAVANI/python/filehandling.ipynb#X16sZmlsZQ%3D%3D?line=0'>1</a>\u001b[0m \u001b[39mimport\u001b[39;00m \u001b[39mcsv\u001b[39;00m\n\u001b[1;32m----> <a href='vscode-notebook-cell:/c%3A/Users/sravani/OneDrive/Documents/GitHub/SRAVANI/python/filehandling.ipynb#X16sZmlsZQ%3D%3D?line=1'>2</a>\u001b[0m fp\u001b[39m=\u001b[39m\u001b[39mopen\u001b[39;49m(\u001b[39m\"\u001b[39;49m\u001b[39memp.csv\u001b[39;49m\u001b[39m\"\u001b[39;49m,\u001b[39m'\u001b[39;49m\u001b[39mw\u001b[39;49m\u001b[39m'\u001b[39;49m,nemline\u001b[39m=\u001b[39;49m\u001b[39m\"\u001b[39;49m\u001b[39m\\n\u001b[39;49;00m\u001b[39m\"\u001b[39;49m)\n\u001b[0;32m      <a href='vscode-notebook-cell:/c%3A/Users/sravani/OneDrive/Documents/GitHub/SRAVANI/python/filehandling.ipynb#X16sZmlsZQ%3D%3D?line=2'>3</a>\u001b[0m fpwrite\u001b[39m=\u001b[39mcsv\u001b[39m.\u001b[39mDictWriter(fp,[\u001b[39m'\u001b[39m\u001b[39mempid\u001b[39m\u001b[39m'\u001b[39m,\u001b[39m'\u001b[39m\u001b[39mname\u001b[39m\u001b[39m'\u001b[39m,\u001b[39m'\u001b[39m\u001b[39mrole\u001b[39m\u001b[39m'\u001b[39m,\u001b[39m'\u001b[39m\u001b[39msalary\u001b[39m\u001b[39m'\u001b[39m])\n\u001b[0;32m      <a href='vscode-notebook-cell:/c%3A/Users/sravani/OneDrive/Documents/GitHub/SRAVANI/python/filehandling.ipynb#X16sZmlsZQ%3D%3D?line=3'>4</a>\u001b[0m fpwrite\u001b[39m.\u001b[39mwriterow({\u001b[39m'\u001b[39m\u001b[39mempid\u001b[39m\u001b[39m'\u001b[39m:\u001b[39m100\u001b[39m,\u001b[39m'\u001b[39m\u001b[39mname\u001b[39m\u001b[39m'\u001b[39m:\u001b[39m'\u001b[39m\u001b[39mmohan\u001b[39m\u001b[39m'\u001b[39m,\u001b[39m'\u001b[39m\u001b[39mrole\u001b[39m\u001b[39m'\u001b[39m:\u001b[39m'\u001b[39m\u001b[39mdevelpoer\u001b[39m\u001b[39m'\u001b[39m,\u001b[39m\"\u001b[39m\u001b[39msalary\u001b[39m\u001b[39m\"\u001b[39m:\u001b[39m95000\u001b[39m})\n",
      "File \u001b[1;32m~\\AppData\\Roaming\\Python\\Python311\\site-packages\\IPython\\core\\interactiveshell.py:284\u001b[0m, in \u001b[0;36m_modified_open\u001b[1;34m(file, *args, **kwargs)\u001b[0m\n\u001b[0;32m    277\u001b[0m \u001b[39mif\u001b[39;00m file \u001b[39min\u001b[39;00m {\u001b[39m0\u001b[39m, \u001b[39m1\u001b[39m, \u001b[39m2\u001b[39m}:\n\u001b[0;32m    278\u001b[0m     \u001b[39mraise\u001b[39;00m \u001b[39mValueError\u001b[39;00m(\n\u001b[0;32m    279\u001b[0m         \u001b[39mf\u001b[39m\u001b[39m\"\u001b[39m\u001b[39mIPython won\u001b[39m\u001b[39m'\u001b[39m\u001b[39mt let you open fd=\u001b[39m\u001b[39m{\u001b[39;00mfile\u001b[39m}\u001b[39;00m\u001b[39m by default \u001b[39m\u001b[39m\"\u001b[39m\n\u001b[0;32m    280\u001b[0m         \u001b[39m\"\u001b[39m\u001b[39mas it is likely to crash IPython. If you know what you are doing, \u001b[39m\u001b[39m\"\u001b[39m\n\u001b[0;32m    281\u001b[0m         \u001b[39m\"\u001b[39m\u001b[39myou can use builtins\u001b[39m\u001b[39m'\u001b[39m\u001b[39m open.\u001b[39m\u001b[39m\"\u001b[39m\n\u001b[0;32m    282\u001b[0m     )\n\u001b[1;32m--> 284\u001b[0m \u001b[39mreturn\u001b[39;00m io_open(file, \u001b[39m*\u001b[39;49margs, \u001b[39m*\u001b[39;49m\u001b[39m*\u001b[39;49mkwargs)\n",
      "\u001b[1;31mTypeError\u001b[0m: 'nemline' is an invalid keyword argument for open()"
     ]
    }
   ],
   "source": [
    "import csv\n",
    "fp=open(\"emp.csv\",'w',newline=\"\\n\")\n",
    "fpwrite=csv.DictWriter(fp,['empid','name','role','salary'])\n",
    "fpwrite.writerow({'empid':100,'name':'mohan','role':'develpoer',\"salary\":95000})\n",
    "fp.close()\n"
   ]
  }
 ],
 "metadata": {
  "kernelspec": {
   "display_name": "Python 3",
   "language": "python",
   "name": "python3"
  },
  "language_info": {
   "codemirror_mode": {
    "name": "ipython",
    "version": 3
   },
   "file_extension": ".py",
   "mimetype": "text/x-python",
   "name": "python",
   "nbconvert_exporter": "python",
   "pygments_lexer": "ipython3",
   "version": "3.11.4"
  }
 },
 "nbformat": 4,
 "nbformat_minor": 2
}
