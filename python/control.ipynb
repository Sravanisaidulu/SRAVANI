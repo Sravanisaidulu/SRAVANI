{
 "cells": [
  {
   "cell_type": "code",
   "execution_count": 1,
   "metadata": {},
   "outputs": [
    {
     "name": "stdout",
     "output_type": "stream",
     "text": [
      "positive\n"
     ]
    }
   ],
   "source": [
    "# 1 WAP to check number is positive .if positive,print message positive\n",
    "n=100\n",
    "if n>=0:\n",
    "        print(\"positive\")"
   ]
  },
  {
   "cell_type": "code",
   "execution_count": 2,
   "metadata": {},
   "outputs": [
    {
     "name": "stdout",
     "output_type": "stream",
     "text": [
      "helloworld\n"
     ]
    }
   ],
   "source": [
    "# 2 WAP to display helloworld if number greater than 1 andlesserthan 5\n",
    "n=4\n",
    "if (n>1 and n<5) :\n",
    "        print(\"helloworld\")"
   ]
  },
  {
   "cell_type": "code",
   "execution_count": 5,
   "metadata": {},
   "outputs": [
    {
     "name": "stdout",
     "output_type": "stream",
     "text": [
      "fizz\n"
     ]
    }
   ],
   "source": [
    "# 3 WAP to check given number divisible by 3 or not if print fizz\n",
    "n=9\n",
    "if n%3==0:\n",
    "        print(\"fizz\")"
   ]
  },
  {
   "cell_type": "code",
   "execution_count": 6,
   "metadata": {},
   "outputs": [
    {
     "name": "stdout",
     "output_type": "stream",
     "text": [
      "(12+0j)\n"
     ]
    }
   ],
   "source": [
    "# 4 WAP to check given input is divisible by 2and 6.if the condition is true convert given number into complex number\n",
    "n=12\n",
    "if n%2==0 and n%6==0:\n",
    "        print(complex(n))"
   ]
  },
  {
   "cell_type": "code",
   "execution_count": 7,
   "metadata": {},
   "outputs": [
    {
     "name": "stdout",
     "output_type": "stream",
     "text": [
      "['3', '0']\n"
     ]
    }
   ],
   "source": [
    "# 5 WAp to check given input is divisible by 3 or 5.if the cindition is true convert to list\n",
    "x=30\n",
    "if x%3==0 and x%5==0:\n",
    "      print(list(str(x)))"
   ]
  },
  {
   "cell_type": "code",
   "execution_count": 8,
   "metadata": {},
   "outputs": [
    {
     "name": "stdout",
     "output_type": "stream",
     "text": [
      "True\n"
     ]
    }
   ],
   "source": [
    "# 6 WAP TO CHECK GIVEN NUMBER IS MUTIPLE OF 5 OR NOT\n",
    "n=25\n",
    "if n%5==0:\n",
    "        print(True)\n"
   ]
  },
  {
   "cell_type": "code",
   "execution_count": 9,
   "metadata": {},
   "outputs": [
    {
     "name": "stdout",
     "output_type": "stream",
     "text": [
      "0\n"
     ]
    }
   ],
   "source": [
    "#7 WAP to check given input is 0 or not if 0 print 0\n",
    "n=0\n",
    "if n==0:\n",
    "        print(n)"
   ]
  },
  {
   "cell_type": "code",
   "execution_count": 10,
   "metadata": {},
   "outputs": [
    {
     "name": "stdout",
     "output_type": "stream",
     "text": [
      "negative\n"
     ]
    }
   ],
   "source": [
    "#8 WAP to check whether a number  is negative.if negative,print a message negative\n",
    "n=-10\n",
    "if n<0:\n",
    "        print(\"negative\")"
   ]
  },
  {
   "cell_type": "code",
   "execution_count": 12,
   "metadata": {},
   "outputs": [
    {
     "name": "stdout",
     "output_type": "stream",
     "text": [
      "[4, 5, 'hii', 10]\n"
     ]
    }
   ],
   "source": [
    "# 9 WAP to check number is even or not.if even,store the value inside the list\n",
    "n=10\n",
    "l=[4,5,\"hii\"]\n",
    "if n%2==0:\n",
    "        l+=[n]\n",
    "        print(l)\n"
   ]
  },
  {
   "cell_type": "code",
   "execution_count": 34,
   "metadata": {},
   "outputs": [
    {
     "name": "stdout",
     "output_type": "stream",
     "text": [
      "(10, 40, 6, '4', '5')\n"
     ]
    }
   ],
   "source": [
    "#10 WAP to check number is odd or not.if odd,store the value inside the tuple\n",
    "n=45\n",
    "t=(10,40,6)\n",
    "if n%2!=0:\n",
    "    res=t+tuple(str(n))\n",
    "    print(res)\n",
    "    \n"
   ]
  },
  {
   "cell_type": "code",
   "execution_count": 19,
   "metadata": {},
   "outputs": [
    {
     "name": "stdout",
     "output_type": "stream",
     "text": [
      "12960000\n"
     ]
    }
   ],
   "source": [
    "#11 WAP to check if the given number is even or not .if yes,to print power of 4 in the given number\n",
    "n=60\n",
    "if n%2==0:\n",
    "        print(n**4)"
   ]
  },
  {
   "cell_type": "code",
   "execution_count": 20,
   "metadata": {},
   "outputs": [
    {
     "name": "stdout",
     "output_type": "stream",
     "text": [
      "16\n"
     ]
    }
   ],
   "source": [
    "# 12 WAP to take input from the user as Anumber and check whether it is a number or not.if yes.take the number and add some value and print it\n",
    "n=10\n",
    "if type(n)==int:\n",
    "        s=n+6\n",
    "        print(s)"
   ]
  },
  {
   "cell_type": "code",
   "execution_count": 1,
   "metadata": {},
   "outputs": [
    {
     "name": "stdout",
     "output_type": "stream",
     "text": [
      "1225\n"
     ]
    }
   ],
   "source": [
    "# 13WAP to check given value divisible by 5 and 7 .if it is divisble display the square of the value\n",
    "n=35\n",
    "if n%5==0 and n%7==0:\n",
    "    print(n**2)"
   ]
  },
  {
   "cell_type": "code",
   "execution_count": 3,
   "metadata": {},
   "outputs": [
    {
     "name": "stdout",
     "output_type": "stream",
     "text": [
      "37\n"
     ]
    }
   ],
   "source": [
    "# 14 WAP to check given value last digit grater than 5 or not .if greater perfrom bitwise right shift operation skkiping value is 2\n",
    "n=149\n",
    "if n%10>5:\n",
    "        x=n//(2**2)\n",
    "        print(x)"
   ]
  },
  {
   "cell_type": "code",
   "execution_count": 4,
   "metadata": {},
   "outputs": [
    {
     "name": "stdout",
     "output_type": "stream",
     "text": [
      "81\n"
     ]
    }
   ],
   "source": [
    "# 15 WAP to check given value divisible by 3 AND lesstham 30 .ifdivisible dispaly square of the value\n",
    "n=9\n",
    "if n%3==0 and n<30:\n",
    "        print(n**2)"
   ]
  },
  {
   "cell_type": "code",
   "execution_count": 5,
   "metadata": {},
   "outputs": [
    {
     "name": "stdout",
     "output_type": "stream",
     "text": [
      "64\n"
     ]
    }
   ],
   "source": [
    "#16 WAP tocheck given value is even number and divisible by 4.if satisfied  display cube of the value\n",
    "n=4\n",
    "if n%4==0 and n%2==0:\n",
    "        print(n**3)"
   ]
  },
  {
   "cell_type": "code",
   "execution_count": 8,
   "metadata": {},
   "outputs": [
    {
     "name": "stdout",
     "output_type": "stream",
     "text": [
      "[8, 9, 10, 60]\n"
     ]
    }
   ],
   "source": [
    "# 17 WAP to check given value si even or not.if even store the value inside the list\n",
    "n=60\n",
    "l=[8,9,10]\n",
    "if n%2==0:\n",
    "    l.append(n)\n",
    "    print(l)"
   ]
  },
  {
   "cell_type": "code",
   "execution_count": 9,
   "metadata": {},
   "outputs": [
    {
     "name": "stdout",
     "output_type": "stream",
     "text": [
      "0\n"
     ]
    }
   ],
   "source": [
    "# 18 WAP to check given value is negative or even number. if satisfied,display the last digit of the value\n",
    "n=-50\n",
    "if n<0 or n%2==0:\n",
    "        print(n%10)"
   ]
  },
  {
   "cell_type": "code",
   "execution_count": 10,
   "metadata": {},
   "outputs": [],
   "source": [
    "# 19 WAP t0 check given value is a negative or odd number and divsible by 4. if satisfied display cube of the value\n",
    "n=17\n",
    "if (n<0 or n%2!=0) and n%4==0:\n",
    "        print(n**3)"
   ]
  },
  {
   "cell_type": "code",
   "execution_count": 12,
   "metadata": {},
   "outputs": [
    {
     "name": "stdout",
     "output_type": "stream",
     "text": [
      "d\n"
     ]
    }
   ],
   "source": [
    "# 20 WAP to check given ascii value is divisible by 4 and even value .if satisfied display ascii character\n",
    "n=100\n",
    "if n%4==0 and n%2==0:\n",
    "        print(chr(n))"
   ]
  },
  {
   "cell_type": "code",
   "execution_count": 13,
   "metadata": {},
   "outputs": [
    {
     "name": "stdout",
     "output_type": "stream",
     "text": [
      "P\n"
     ]
    }
   ],
   "source": [
    "# 21 WAP to check given value is present in between 45 to 125 and the number divisible by 4 and 5 and even value .if satisfied display ascii character\n",
    "n=80\n",
    "if 45<n<125 and n%4==0 and n%5==0 and n%2==0:\n",
    "    print(chr(n))"
   ]
  },
  {
   "cell_type": "code",
   "execution_count": 14,
   "metadata": {},
   "outputs": [
    {
     "name": "stdout",
     "output_type": "stream",
     "text": [
      "200\n"
     ]
    }
   ],
   "source": [
    "# 22 WAP to check given value present in between 25 to 100 and number should be divisible by 4 and 5 \n",
    "# if satisfied display multiplaction of given value with 5\n",
    "n=40\n",
    "if 25<n<100 and n%4==0 and n%5==0:\n",
    "        print(n*5)"
   ]
  },
  {
   "cell_type": "code",
   "execution_count": 17,
   "metadata": {},
   "outputs": [
    {
     "name": "stdout",
     "output_type": "stream",
     "text": [
      "4000\n"
     ]
    }
   ],
   "source": [
    "# 23 WAP to check given value is an integer or not .if true convert to srting and display\n",
    "n=4000\n",
    "if type(n)==int:\n",
    "        s=str(n)\n",
    "        print(s)"
   ]
  },
  {
   "cell_type": "code",
   "execution_count": 20,
   "metadata": {},
   "outputs": [
    {
     "name": "stdout",
     "output_type": "stream",
     "text": [
      "wergh\n"
     ]
    }
   ],
   "source": [
    "s='wergh'\n",
    "print(s)"
   ]
  },
  {
   "cell_type": "code",
   "execution_count": 22,
   "metadata": {},
   "outputs": [
    {
     "name": "stdout",
     "output_type": "stream",
     "text": [
      "9\n"
     ]
    }
   ],
   "source": [
    "# 24 WAP to check two values are equal or not.if equal perfrom multiplication of two numbers and result divisible by 3 and display the value\n",
    "n=3\n",
    "m=3\n",
    "if n is m:\n",
    "        s=n*m\n",
    "        s%3==0\n",
    "        print(s)"
   ]
  },
  {
   "cell_type": "code",
   "execution_count": 23,
   "metadata": {},
   "outputs": [
    {
     "name": "stdout",
     "output_type": "stream",
     "text": [
      "3\n"
     ]
    }
   ],
   "source": [
    "# 25 WAP to check given number is integer and odd number .if condition is true integer is divisible by  5 and display the result\n",
    "n=15\n",
    "if type(n)==int and n%3==0:\n",
    "        print(n//5)"
   ]
  },
  {
   "cell_type": "code",
   "execution_count": 25,
   "metadata": {},
   "outputs": [
    {
     "name": "stdout",
     "output_type": "stream",
     "text": [
      "h\n"
     ]
    }
   ],
   "source": [
    "# 26  WAP to check givern value is less than 125 and greater than 60 or not.if condition is true \n",
    "# take the name and and extract the middle character and display it\n",
    "n=120\n",
    "if 60<n<125:\n",
    "        s=\"python\"\n",
    "        print(s[len(s)//2])"
   ]
  },
  {
   "cell_type": "code",
   "execution_count": 27,
   "metadata": {},
   "outputs": [
    {
     "name": "stdout",
     "output_type": "stream",
     "text": [
      "240\n"
     ]
    }
   ],
   "source": [
    "# 27 WAP to check given two integers are equal or not .if equal to perform addition and display the result\n",
    "n=120\n",
    "m=120\n",
    "if 120==120:\n",
    "        print(n+m)"
   ]
  },
  {
   "cell_type": "code",
   "execution_count": 29,
   "metadata": {},
   "outputs": [
    {
     "name": "stdout",
     "output_type": "stream",
     "text": [
      "{'a': 20, 'hoo': 'byee', 'A': 65}\n"
     ]
    }
   ],
   "source": [
    "# 28 WAP to check a character is a alphabet or not ,if alphabet, \n",
    "#store the value inside the dict(key is char and value si ascii value)\n",
    "ch='A'\n",
    "d={'a':20,'hoo':'byee'}\n",
    "if 'A'<=ch<='Z' or 'a'<=ch<='z':\n",
    "        f={'A':ord(ch)}\n",
    "        d|=f\n",
    "        print(d)\n",
    "\n"
   ]
  },
  {
   "cell_type": "code",
   "execution_count": 30,
   "metadata": {},
   "outputs": [
    {
     "name": "stdout",
     "output_type": "stream",
     "text": [
      "{'a': 20, 'hoo': 'byee', 'D': 68}\n"
     ]
    }
   ],
   "source": [
    "# 29 WAP to check given character is uppercase or not.\n",
    "#  if the uppercase store the value inside the dict(key is char and value si ascii value)\n",
    "ch='D'\n",
    "d={'a':20,'hoo':'byee'}\n",
    "if 'A'<=ch<='Z':\n",
    "    d['D']=ord(ch)\n",
    "    print(d)"
   ]
  },
  {
   "cell_type": "code",
   "execution_count": 1,
   "metadata": {},
   "outputs": [
    {
     "name": "stdout",
     "output_type": "stream",
     "text": [
      "dddddddddd\n"
     ]
    }
   ],
   "source": [
    "# 30 WAP to check given character is lowercase or not.\n",
    "#  if the lowercase perform replication operation on that character\n",
    "ch='d'\n",
    "if 'a'<=ch<='z':\n",
    "        s=10*ch\n",
    "        print(s)\n"
   ]
  },
  {
   "cell_type": "code",
   "execution_count": null,
   "metadata": {},
   "outputs": [],
   "source": [
    "# 31 WAP to check a charactetr is in the ascii number or not.if the ascii no,to convert into integer\n",
    "ch='f'\n",
    "if 65<=ord(ch)<=90 or 97<=ord(ch)<=122 or 48<=ord(ch)<=57:\n",
    "        print()"
   ]
  },
  {
   "cell_type": "code",
   "execution_count": 36,
   "metadata": {},
   "outputs": [
    {
     "name": "stdout",
     "output_type": "stream",
     "text": [
      "$ 36\n"
     ]
    }
   ],
   "source": [
    "# 32 WAP to check a character is in special symbol or not.if the special symbol,to display asymbol with ascii value\n",
    "ch='$'\n",
    "if not('A'<=ch<='Z' or 'a'<=ch<='z' or '0'<=ch<='9'):\n",
    "        print(ch,ord(ch))"
   ]
  },
  {
   "cell_type": "code",
   "execution_count": 5,
   "metadata": {},
   "outputs": [
    {
     "name": "stdout",
     "output_type": "stream",
     "text": [
      "100\n"
     ]
    }
   ],
   "source": [
    "# 33 WAP TO CHECK GIVEN CHARACTER IS EVEN NUMBER ARE NOT .if even number,display even number\n",
    "ch='d'\n",
    "if ord(ch)%2==0:\n",
    "    print(ord(ch))"
   ]
  },
  {
   "cell_type": "code",
   "execution_count": 6,
   "metadata": {},
   "outputs": [
    {
     "name": "stdout",
     "output_type": "stream",
     "text": [
      "100\n"
     ]
    }
   ],
   "source": [
    "# 34 WAP to check two integers a and b,if any of the integer is 10 or if their sum is 10\n",
    "# perform sum of the numbers and display square of the result\n",
    "a=7\n",
    "b=3\n",
    "if a==10 or b==10 or a+b==10:\n",
    "        s=a+b\n",
    "        print(s**2)"
   ]
  },
  {
   "cell_type": "code",
   "execution_count": 7,
   "metadata": {},
   "outputs": [
    {
     "name": "stdout",
     "output_type": "stream",
     "text": [
      "F\n"
     ]
    }
   ],
   "source": [
    "# 35 WAP to check given character is vowel are not .if vowel print next character\n",
    "s='E'\n",
    "if s in 'AEIOUaeiou':\n",
    "        cg=chr(ord(s)+1)\n",
    "        print(cg)"
   ]
  },
  {
   "cell_type": "code",
   "execution_count": 8,
   "metadata": {},
   "outputs": [
    {
     "name": "stdout",
     "output_type": "stream",
     "text": [
      "q\n"
     ]
    }
   ],
   "source": [
    "# 36 WAP to check given character is  not avowel .if  not vowel print prvieous character\n",
    "s='r'\n",
    "if s not in 'AEIOUaeiou':\n",
    "    ch=chr(ord(s)-1)\n",
    "    print(ch)"
   ]
  },
  {
   "cell_type": "code",
   "execution_count": 9,
   "metadata": {},
   "outputs": [
    {
     "name": "stdout",
     "output_type": "stream",
     "text": [
      "True\n"
     ]
    }
   ],
   "source": [
    "# 37 WAP to check given value is asingle value  datatype or not .if single value\n",
    "# display given value as asingle value datatype\n",
    "s=3+5j\n",
    "if type(s) in [int,float,complex,bytes,bool,type(None)]:\n",
    "    print(bool(s))"
   ]
  },
  {
   "cell_type": "code",
   "execution_count": 11,
   "metadata": {},
   "outputs": [
    {
     "name": "stdout",
     "output_type": "stream",
     "text": [
      "('h', 'e', 'l', 'l', 'o')\n"
     ]
    }
   ],
   "source": [
    "# 38 WAP to check given value is a multi value  datatype or not .if multi value\n",
    "# store insidr the tuple\n",
    "s=()\n",
    "t='hello'\n",
    "if type(t) in[str,list,tuple,set,dict]:\n",
    "    s+=tuple(t)\n",
    "    print(s)"
   ]
  },
  {
   "cell_type": "code",
   "execution_count": 17,
   "metadata": {},
   "outputs": [
    {
     "name": "stdout",
     "output_type": "stream",
     "text": [
      "{(10, 20, 40)}\n"
     ]
    }
   ],
   "source": [
    "# 39 WAP TO CHECK GIVEN VALUE IS IMMUTABLE OR NOT.if any immutable datatype \n",
    "# store inside the set\n",
    "b=(10,20,40)\n",
    "t=set()\n",
    "if type(b) in[str,tuple]:\n",
    "        t|={b}\n",
    "        print(t)"
   ]
  },
  {
   "cell_type": "code",
   "execution_count": 18,
   "metadata": {},
   "outputs": [
    {
     "name": "stdout",
     "output_type": "stream",
     "text": [
      "odd 3\n"
     ]
    }
   ],
   "source": [
    "# 40 WAP TO check middle element of given list is odd or not.if it is odd\n",
    "# then print odd and number else print directly number\n",
    "s=[1,2,3,4,5]\n",
    "x=s[len(s)//2]\n",
    "if x%2!=0:\n",
    "    print(\"odd\",x)\n",
    "else :\n",
    "        print(x)"
   ]
  },
  {
   "cell_type": "code",
   "execution_count": 1,
   "metadata": {},
   "outputs": [
    {
     "name": "stdout",
     "output_type": "stream",
     "text": [
      "notgood\n"
     ]
    }
   ],
   "source": [
    "# 41 WAP to  'not' front of original string.return the srting unmodified if 'not' present in the beginning\n",
    "# if not present in str place 'not and print it\n",
    "s='good'\n",
    "if  s[0:2+1:]=='not':\n",
    "        print(s)\n",
    "else:\n",
    "        print('not'+s)\n"
   ]
  },
  {
   "cell_type": "code",
   "execution_count": 20,
   "metadata": {},
   "outputs": [
    {
     "name": "stdout",
     "output_type": "stream",
     "text": [
      "140707941708296\n",
      "140707941708296\n"
     ]
    }
   ],
   "source": [
    "# 42  wap to check two varaibles pointing to same memory location or not .\n",
    "# if pointing to same memory locatio print both the varaibles address\n",
    "s=120\n",
    "d=120\n",
    "if s is d:\n",
    "        print(id(s))\n",
    "        print(id(d))\n"
   ]
  },
  {
   "cell_type": "code",
   "execution_count": 21,
   "metadata": {},
   "outputs": [
    {
     "name": "stdout",
     "output_type": "stream",
     "text": [
      "hellowor\n"
     ]
    }
   ],
   "source": [
    "# 43 WAP TO CHECK GIVEN LENGTH OF THE STRING is even or not.if true \n",
    "# display the sequence of characters from zero position to length of collection -2\n",
    "s='helloworld'\n",
    "if len(s)%2==0:\n",
    "        s=s[0:len(s)-2:1]\n",
    "        print(s)"
   ]
  },
  {
   "cell_type": "code",
   "execution_count": 5,
   "metadata": {},
   "outputs": [
    {
     "name": "stdout",
     "output_type": "stream",
     "text": [
      "1020 30\n",
      "1020 30\n"
     ]
    }
   ],
   "source": [
    "# 44 WAP to check the two strings having same values or not .if both same\n",
    "# swap the values one variable to another variable after swapping print the two values.\n",
    "s='1020 30'\n",
    "x='1020 30'\n",
    "if s==x:\n",
    "        s,x==x,s\n",
    "        print(s)\n",
    "        print(x)\n"
   ]
  },
  {
   "cell_type": "code",
   "execution_count": 35,
   "metadata": {},
   "outputs": [
    {
     "name": "stdout",
     "output_type": "stream",
     "text": [
      "{'#': 35}\n"
     ]
    }
   ],
   "source": [
    "# 45WAP to check given character is special symbol or not.if satisfied store the symbol as key and value as asciivalue inside the dict\n",
    "s='#'\n",
    "d={}\n",
    "if not('A'<=s<='Z' or 'a'<=s<='z' or '0'<=s<='9'):\n",
    "        d['#']=ord(s)\n",
    "        print(d)\n"
   ]
  },
  {
   "cell_type": "code",
   "execution_count": 34,
   "metadata": {},
   "outputs": [
    {
     "name": "stdout",
     "output_type": "stream",
     "text": [
      "{'a': 10, 'c': 20, 'b': 100}\n"
     ]
    }
   ],
   "source": [
    "# 46 WAP to check a given key is not present in the dict or not.if key is not prsent,\n",
    "# append new key inside the dict\n",
    "d={'a':10,'c':20}\n",
    "s={'b':100}\n",
    "if 'b' not in d:\n",
    "        d|=s\n",
    "        print(d)\n"
   ]
  },
  {
   "cell_type": "code",
   "execution_count": 28,
   "metadata": {},
   "outputs": [
    {
     "name": "stdout",
     "output_type": "stream",
     "text": [
      "iaih\n"
     ]
    }
   ],
   "source": [
    "# 47 WAP to check given value is string and display new string with first and last characters switched.\n",
    "s='haii'\n",
    "if type(s)==str:\n",
    "    s=s[-1]+s[1:2+1]+s[0]\n",
    "    print(s)"
   ]
  },
  {
   "cell_type": "code",
   "execution_count": 29,
   "metadata": {},
   "outputs": [
    {
     "name": "stdout",
     "output_type": "stream",
     "text": [
      "2\n"
     ]
    }
   ],
   "source": [
    "# 48 WAP to check given number last digit is 2 and print the last digit \n",
    "n=142\n",
    "if n%10==2:\n",
    "    print(n%10)\n"
   ]
  },
  {
   "cell_type": "code",
   "execution_count": 30,
   "metadata": {},
   "outputs": [
    {
     "name": "stdout",
     "output_type": "stream",
     "text": [
      "hii hello 9\n",
      "ram sam 7\n"
     ]
    }
   ],
   "source": [
    "# 49 WAP to check both string collections are equal or not .if not equal\n",
    "#print the both strings along with the length of astring if both equal ignore it\n",
    "s=\"hii hello\"\n",
    "d='ram sam'\n",
    "if s is not d:\n",
    "        print(s,len(s))\n",
    "        print(d,len(d))"
   ]
  },
  {
   "cell_type": "code",
   "execution_count": 1,
   "metadata": {},
   "outputs": [
    {
     "name": "stdout",
     "output_type": "stream",
     "text": [
      "pn\n"
     ]
    }
   ],
   "source": [
    "#50 WAP to check whether a given string(str) and one integer(n) value, to display a \n",
    "#new string that is devoid of the character at index n. if you are given a non-empty \n",
    "#string and an int n. The value of n will be a legitimate character index from the \n",
    "#original string, therefore it will fall within the range of 0 to len(str)-1, inclusive.\n",
    "st='pen'\n",
    "n=1\n",
    "if len(st)!=0 and 0<=n<=len(st)-1 and type(n)==int:\n",
    "    print(st[:n]+st[n+1:])"
   ]
  },
  {
   "cell_type": "code",
   "execution_count": 6,
   "metadata": {},
   "outputs": [
    {
     "name": "stdout",
     "output_type": "stream",
     "text": [
      "negative value\n"
     ]
    }
   ],
   "source": [
    "# 1 WAP to check given value is positive or not .if positive print +ve number if not print negative value\n",
    "n=-40\n",
    "if n>=0:\n",
    "        print(\"positive value\")\n",
    "else:\n",
    "    print(\"negative value\")"
   ]
  },
  {
   "cell_type": "code",
   "execution_count": 7,
   "metadata": {},
   "outputs": [
    {
     "name": "stdout",
     "output_type": "stream",
     "text": [
      "64\n"
     ]
    }
   ],
   "source": [
    "# 2 WAP to check given value is even or not .if even perform square of given value if not perform cube of given value\n",
    "n=8\n",
    "if n%2==0:\n",
    "    print(n**2)\n",
    "else:\n",
    "    print(n**3)"
   ]
  },
  {
   "cell_type": "code",
   "execution_count": 10,
   "metadata": {},
   "outputs": [
    {
     "name": "stdout",
     "output_type": "stream",
     "text": [
      "{'good morning'}\n"
     ]
    }
   ],
   "source": [
    "#3  WAP to check given value is multivalue datatype or not.If multivalue store the value inside the set\n",
    "# or perform the converted to string\n",
    "s=set()\n",
    "p='good morning'\n",
    "if type(p) in [str,tuple]:\n",
    "    s|={p}\n",
    "    print(s)\n",
    "else:\n",
    "    v=str(p)\n",
    "    print(v)"
   ]
  },
  {
   "cell_type": "code",
   "execution_count": 11,
   "metadata": {},
   "outputs": [
    {
     "name": "stdout",
     "output_type": "stream",
     "text": [
      "mad\n"
     ]
    }
   ],
   "source": [
    "#  4 WAPto check given string is palindrome or not .if palindrome print zero position to middle position of string\n",
    "# or else print reverse of string\n",
    "s='madam'\n",
    "if s==s[::-1]:\n",
    "    s=s[0:len(s)//2+1]\n",
    "    print(s)\n",
    "else:\n",
    "    print(s[::-1])"
   ]
  },
  {
   "cell_type": "code",
   "execution_count": 12,
   "metadata": {},
   "outputs": [
    {
     "name": "stdout",
     "output_type": "stream",
     "text": [
      "ADBGUAB\n"
     ]
    }
   ],
   "source": [
    "# 5  WAP to check starting character and middle character is sequense or not.if sequence extract two characters and concat inside\n",
    "# the string .if both are not sequence display even index position values from the string.\n",
    "s='ADBGU'\n",
    "x=s[0]\n",
    "y=s[len(s)//2]\n",
    "if ord(x)+1==ord(y):\n",
    "    f=s+x+y\n",
    "    print(f)\n",
    "else:\n",
    "    print(s[0::2])"
   ]
  },
  {
   "cell_type": "code",
   "execution_count": 3,
   "metadata": {},
   "outputs": [
    {
     "name": "stdout",
     "output_type": "stream",
     "text": [
      "greater\n"
     ]
    }
   ],
   "source": [
    "# 6 Write a program to check whether a given number is greater than 10 or not. if it\n",
    "#is greater than 10 print message as greater or else print that number with not agreater than.\n",
    "n=14\n",
    "if n>10:\n",
    "    print('greater')\n",
    "else:\n",
    "    print(f'{n}not greater')\n"
   ]
  },
  {
   "cell_type": "code",
   "execution_count": 4,
   "metadata": {},
   "outputs": [
    {
     "name": "stdout",
     "output_type": "stream",
     "text": [
      "Good Morning\n"
     ]
    }
   ],
   "source": [
    "# 7 WAP to check whether the given two input numbers are divisible by 3 and 5. If it\n",
    "#is divisible, print “Good Morning”, if it is not divisible print “Good Evening”.\n",
    "s=15\n",
    "n=30\n",
    "if s%3==0 and s%5==0 and n%3==0 and n%5==0:\n",
    "    print(\"Good Morning\")\n",
    "else:\n",
    "    print(\"Good Evening\")"
   ]
  },
  {
   "cell_type": "code",
   "execution_count": 6,
   "metadata": {},
   "outputs": [
    {
     "name": "stdout",
     "output_type": "stream",
     "text": [
      "2\n"
     ]
    }
   ],
   "source": [
    "#  8 WAP to accept two integers and check whether those two values are equal or not.\n",
    "#If equal, multiply to value or else to display the quotation value.\n",
    "s=20\n",
    "d=10\n",
    "if s==d:\n",
    "    print(s*d)\n",
    "else:\n",
    "    print(s//d)\n"
   ]
  },
  {
   "cell_type": "code",
   "execution_count": 7,
   "metadata": {},
   "outputs": [
    {
     "name": "stdout",
     "output_type": "stream",
     "text": [
      "not greater\n"
     ]
    }
   ],
   "source": [
    "#9 WAP to find the largest of two numbers.\n",
    "s=48\n",
    "g=67\n",
    "if s>g:\n",
    "    print(\"greater\")\n",
    "else:\n",
    "    print(\"not greater\")"
   ]
  },
  {
   "cell_type": "code",
   "execution_count": 8,
   "metadata": {},
   "outputs": [
    {
     "name": "stdout",
     "output_type": "stream",
     "text": [
      "greater\n"
     ]
    }
   ],
   "source": [
    "# 10 WAP to check whether the input number is greater than 10 or not if it is greater\n",
    "#than 10 print messages as greater with number. if it is not a greater than 10 print that number.\n",
    "n=20\n",
    "if n>10:\n",
    "    print(\"greater\")\n",
    "else:\n",
    "    print(n)"
   ]
  },
  {
   "cell_type": "code",
   "execution_count": 43,
   "metadata": {},
   "outputs": [
    {
     "name": "stdout",
     "output_type": "stream",
     "text": [
      "9\n"
     ]
    }
   ],
   "source": [
    "# 11 WAP to the given number integer, if n is greater than 21,print the absolute\n",
    "# difference between n and 21 otherwise print twice the absolute difference.\n",
    "n=30\n",
    "if  type(n)==int and n>21:\n",
    "    s=n-21\n",
    "    print(abs(s))\n",
    "else:\n",
    "    print(n*2)\n",
    "\n"
   ]
  },
  {
   "cell_type": "code",
   "execution_count": 10,
   "metadata": {},
   "outputs": [
    {
     "name": "stdout",
     "output_type": "stream",
     "text": [
      "9\n"
     ]
    }
   ],
   "source": [
    "# 12 WAP to find the smallest of two numbers.\n",
    "s=9\n",
    "f=43\n",
    "if s<f:\n",
    "    print(s)\n",
    "else:\n",
    "    print(f)"
   ]
  },
  {
   "cell_type": "code",
   "execution_count": 12,
   "metadata": {},
   "outputs": [
    {
     "name": "stdout",
     "output_type": "stream",
     "text": [
      "10\n"
     ]
    }
   ],
   "source": [
    "# 13 WAP to check whether the given number is even or odd. If it is even then make\n",
    "# it as an add number, if it is an odd number then make it as even number.\n",
    "n=11\n",
    "if n%2==0:\n",
    "    print(n+1)\n",
    "else:\n",
    "    print(n-1)"
   ]
  },
  {
   "cell_type": "code",
   "execution_count": 13,
   "metadata": {},
   "outputs": [
    {
     "name": "stdout",
     "output_type": "stream",
     "text": [
      "216000\n"
     ]
    }
   ],
   "source": [
    "# 14 WAP to check whether the given number is divisible by 3 or not if yes, print the\n",
    "#number or else print the cube of the numbers.\n",
    "s=60\n",
    "if n%3==0 :\n",
    "    print(s)\n",
    "else:\n",
    "    print(s**3)\n"
   ]
  },
  {
   "cell_type": "code",
   "execution_count": 15,
   "metadata": {},
   "outputs": [
    {
     "name": "stdout",
     "output_type": "stream",
     "text": [
      "46\n"
     ]
    }
   ],
   "source": [
    "# 15 WAP to check whether the given input is divisible by 3 and 5. If yes print the\n",
    "# actual number or else print string of that number.\n",
    "s=46\n",
    "if s%3==0 and s%5==0:\n",
    "    print(s)\n",
    "else:\n",
    "    print(str(s))"
   ]
  },
  {
   "cell_type": "code",
   "execution_count": 16,
   "metadata": {},
   "outputs": [
    {
     "name": "stdout",
     "output_type": "stream",
     "text": [
      "25\n"
     ]
    }
   ],
   "source": [
    "# 16 WAP to check whether the given number lies between 1 to 19, if it is true square\n",
    "#that number or else false cube that number and display the number.\n",
    "s=5\n",
    "if 1<=s<=19:\n",
    "    print(s**2)\n",
    "else:\n",
    "    print(s**3)"
   ]
  },
  {
   "cell_type": "code",
   "execution_count": 17,
   "metadata": {},
   "outputs": [
    {
     "name": "stdout",
     "output_type": "stream",
     "text": [
      "fail 39\n"
     ]
    }
   ],
   "source": [
    "# 17 WAP to check whether the student has passed or failed. If the student got more\n",
    "#than 40 marks, print ‘PASS’ along with those marks, if it is not printed ‘FAIL’ alongwith those marks.\n",
    "n=39\n",
    "if n>40:\n",
    "    print(\"pass\",n)\n",
    "else:\n",
    "    print(\"fail\",n)"
   ]
  },
  {
   "cell_type": "code",
   "execution_count": 19,
   "metadata": {},
   "outputs": [
    {
     "name": "stdout",
     "output_type": "stream",
     "text": [
      "9\n"
     ]
    }
   ],
   "source": [
    "# 18 WAP to check whether a given value is even and in range of 47 to 58 and not in 0\n",
    "#or odd. if condition is True, to perform display the ascii character. or else to perform floor division with 5 and display it.\n",
    "n=46\n",
    "if 47<=n<58 and n!=0 and n%2!=0:\n",
    "    print(chr(n))\n",
    "else:\n",
    "    s=n//5\n",
    "    print(s)\n",
    "\n"
   ]
  },
  {
   "cell_type": "code",
   "execution_count": 21,
   "metadata": {},
   "outputs": [
    {
     "name": "stdout",
     "output_type": "stream",
     "text": [
      "{120: 'x'}\n"
     ]
    }
   ],
   "source": [
    "# 19 WAP to check whether a given value is less than 125 and in between 47 to 125 or\n",
    "#not. if condition is True, to perform store the given value as key and value as a\n",
    "#character into the dict or else to append the value in list and display it.\n",
    "n=120\n",
    "d={}\n",
    "l=[]\n",
    "if 47<n<125:\n",
    "    d[n]=chr(n)\n",
    "    print(d)\n",
    "else:\n",
    "    l+=[n]\n",
    "    print(l)\n",
    "\n"
   ]
  },
  {
   "cell_type": "code",
   "execution_count": 23,
   "metadata": {},
   "outputs": [
    {
     "name": "stdout",
     "output_type": "stream",
     "text": [
      "alphabet l\n"
     ]
    }
   ],
   "source": [
    "# 20 WAP to check whether a given character is in the alphabet or not. if alphabet,\n",
    "#display the alphabet with character or else display the not alphabet with character.\n",
    "ch='l'\n",
    "if 'A'<=ch<='Z' or 'a'<=ch<='z':\n",
    "    print(\"alphabet\",ch)\n",
    "else:\n",
    "    print(\"not alphabet\",ch)"
   ]
  },
  {
   "cell_type": "code",
   "execution_count": 24,
   "metadata": {},
   "outputs": [
    {
     "name": "stdout",
     "output_type": "stream",
     "text": [
      "uppercase S\n"
     ]
    }
   ],
   "source": [
    "# 21 WAP to check whether a given character is uppercase or other character. if\n",
    "# uppercase, display the uppercase with character or else display the other character with character.\n",
    "s='S'\n",
    "if 'A'<=s<='Z':\n",
    "    print(\"uppercase\",s)\n",
    "else:\n",
    "    print(\"other character\",s)"
   ]
  },
  {
   "cell_type": "code",
   "execution_count": 25,
   "metadata": {},
   "outputs": [
    {
     "name": "stdout",
     "output_type": "stream",
     "text": [
      "other character 8\n"
     ]
    }
   ],
   "source": [
    "# 22 WAP to check whether a given character is lowercase or other character. if\n",
    "#lowercase, display the lowercase with character or else display the other character with character.\n",
    "s='8'\n",
    "if 'a'<=s<='z':\n",
    "    print(\"lowercase\",s)\n",
    "else:\n",
    "    print(\"other character\",s)"
   ]
  },
  {
   "cell_type": "code",
   "execution_count": 27,
   "metadata": {},
   "outputs": [
    {
     "name": "stdout",
     "output_type": "stream",
     "text": [
      "117\n"
     ]
    }
   ],
   "source": [
    "# 23 WAP to check whether a given character is uppercase or other character. if\n",
    "#uppercase, convert to lowercase .or else display the ascii number.\n",
    "f='u'\n",
    "if 'A'<=f<='Z':\n",
    "    chr(ord(f)+32)\n",
    "else:\n",
    "    print(ord(f))"
   ]
  },
  {
   "cell_type": "code",
   "execution_count": 28,
   "metadata": {},
   "outputs": [
    {
     "name": "stdout",
     "output_type": "stream",
     "text": [
      "T\n"
     ]
    }
   ],
   "source": [
    "# 24 WAP to check whether the given character is in lowercase or uppercase. If it is\n",
    "#in lowercase, convert it into uppercase, or else it is in uppercase and convert it into lowercase. Display the value.\n",
    "vh='t'\n",
    "if 'a'<=vh<='z':\n",
    "    d=chr(ord(vh)-32)\n",
    "    print(d)\n",
    "else:\n",
    "    re=chr(ord(vh)+32)\n",
    "    print(re)"
   ]
  },
  {
   "cell_type": "code",
   "execution_count": 31,
   "metadata": {},
   "outputs": [
    {
     "name": "stdout",
     "output_type": "stream",
     "text": [
      "v\n"
     ]
    }
   ],
   "source": [
    "# 25 WAP to check whether the given string of the first character is a special symbol\n",
    "# or not. If a special symbol, to extract and display the middle character or else to reverse the string and display the half of the string.\n",
    "d='@sravani'\n",
    "if not('A'<=d[0]<='Z' or 'a'<=d[0]<='z' or '0'<=d[0]<='9'):\n",
    "    print(d[len(d)//2])\n",
    "else:\n",
    "    e=d[::-1]\n",
    "    print(e[0:len(e)//2+1])"
   ]
  },
  {
   "cell_type": "code",
   "execution_count": 1,
   "metadata": {},
   "outputs": [
    {
     "name": "stdout",
     "output_type": "stream",
     "text": [
      "VOWEL i\n"
     ]
    }
   ],
   "source": [
    "# 26 WAP to check whether the input character is a vowel or not. If it is vowel print\n",
    "# ‘VOWEL’ along with that character, if it is not just print ‘CONSONANT’.\n",
    "n='i'\n",
    "if n in 'AEIOUaeiou':\n",
    "    print(\"VOWEL\",n)\n",
    "else:\n",
    "    print(\"CONSONANT\")\n"
   ]
  },
  {
   "cell_type": "code",
   "execution_count": 2,
   "metadata": {},
   "outputs": [
    {
     "name": "stdout",
     "output_type": "stream",
     "text": [
      "j\n"
     ]
    }
   ],
   "source": [
    "# 27 WAP to check whether a given character is a vowel or consonant. if vowel, to\n",
    "# print the next character of a given character or else print previous characters.\n",
    "g='k'\n",
    "if g in 'AEIOUaeiou':\n",
    "    s=chr(ord(g)+1)\n",
    "    print(s)\n",
    "else:\n",
    "    s=chr(ord(g)-1)\n",
    "    print(s)"
   ]
  },
  {
   "cell_type": "code",
   "execution_count": 3,
   "metadata": {},
   "outputs": [
    {
     "name": "stdout",
     "output_type": "stream",
     "text": [
      "eeybdoog\n"
     ]
    }
   ],
   "source": [
    "# 28 WAP to check whether a given string of first character  is alphabet or not\n",
    "#if the alphabet prints, reverse the string or else print the middle character.\n",
    "ad=\"goodbyee\"\n",
    "if 'A'<=ad[0]<='Z' or 'a'<=ad[0]<='z':\n",
    "    print(ad[::-1])\n",
    "else:\n",
    "    print(ad[len(ad)//2])"
   ]
  },
  {
   "cell_type": "code",
   "execution_count": 2,
   "metadata": {},
   "outputs": [
    {
     "name": "stdout",
     "output_type": "stream",
     "text": [
      "le\n"
     ]
    }
   ],
   "source": [
    "# 29  WAP to check whether a given string is less than 3 characters, to print the entire\n",
    "# string otherwise to print after third positions to the remaining string.\n",
    "g=\"apple\"\n",
    "if len(g)<3:\n",
    "    print(g)\n",
    "else:\n",
    "    print(g[3:])\n"
   ]
  },
  {
   "cell_type": "code",
   "execution_count": 6,
   "metadata": {},
   "outputs": [
    {
     "name": "stdout",
     "output_type": "stream",
     "text": [
      "m s\n"
     ]
    }
   ],
   "source": [
    "# 30 WAP to check whether a given length of the string is even or not. if even, to\n",
    "# append the new string called \"bye\" or else print the first and last characters\n",
    "h=\"monkey\"\n",
    "s='bye'\n",
    "if len(h)%2==0:\n",
    "    h+=s\n",
    "    print(h)\n",
    "else:\n",
    "    print(h[0],h[-1])"
   ]
  },
  {
   "cell_type": "code",
   "execution_count": 8,
   "metadata": {},
   "outputs": [
    {
     "name": "stdout",
     "output_type": "stream",
     "text": [
      "anger zone\n"
     ]
    }
   ],
   "source": [
    "# 31 WAP to check whether a given length of the string is odd or not. if odd, to append\n",
    "#the new string(\"Haii\") from the starting of the given string, or else to avoid the\n",
    "# starting character and ending character of the givenstring and to display the remaining characters.\n",
    "s=\"danger zone \"\n",
    "if len(s)%2!=0:\n",
    "    s+=\"Haii\"\n",
    "    print(s)\n",
    "else:\n",
    "    print(s[1:len(s)-1:])"
   ]
  },
  {
   "cell_type": "code",
   "execution_count": 11,
   "metadata": {},
   "outputs": [
    {
     "name": "stdout",
     "output_type": "stream",
     "text": [
      "apap\n"
     ]
    }
   ],
   "source": [
    "# 32 WAP to check whether the last of the given string is a special character or not, if\n",
    "# the special character prints reverse the string except the last character or else to\n",
    "# check if the length of the string is odd or not, if odd to extract the middle character to the end of the string.\n",
    "s=\"papa#\"\n",
    "d=s[-1]\n",
    "f=s[len(s)//2]\n",
    "if not('A'<=d<='Z' or 'a'<=d<='z' or '0'<=d<='9'):\n",
    "    print(s[-2::-1])\n",
    "else:\n",
    "    len(s)%2!=0 \n",
    "    s=s[0:2:1]+s[3:]+f\n",
    "    print(s)\n"
   ]
  },
  {
   "cell_type": "code",
   "execution_count": 14,
   "metadata": {},
   "outputs": [
    {
     "name": "stdout",
     "output_type": "stream",
     "text": [
      "leap year\n"
     ]
    }
   ],
   "source": [
    "# 33 WAP to check whether a given year is a leap year or not. if leap year, print leap year or else not a leap year.\n",
    "s=1996\n",
    "if s%4==0 :\n",
    "    print(\"leap year\")\n",
    "else:\n",
    "    print(\"Not leap year\")"
   ]
  },
  {
   "cell_type": "code",
   "execution_count": 111,
   "metadata": {},
   "outputs": [
    {
     "name": "stdout",
     "output_type": "stream",
     "text": [
      "greater 70\n"
     ]
    }
   ],
   "source": [
    "# 34 WAP to find out the greatest of two numbers display the greatest message with value.else print values\n",
    "s=70\n",
    "d=49\n",
    "if s>d:\n",
    "    print(\"greater\",s)\n",
    "else:\n",
    "    print(d,s)\n"
   ]
  },
  {
   "cell_type": "code",
   "execution_count": 15,
   "metadata": {},
   "outputs": [
    {
     "name": "stdout",
     "output_type": "stream",
     "text": [
      "value is available\n"
     ]
    }
   ],
   "source": [
    "# 35 WAP to check whether the given value is present inside the given collection ornot.\n",
    "#if value is present, display the value is available or else the value is not present\n",
    "s=(10,20,30,40)\n",
    "n=30\n",
    "if n in s:\n",
    "    print (\"value is available\")\n",
    "else:\n",
    "    print(\"value not present\")"
   ]
  },
  {
   "cell_type": "code",
   "execution_count": 18,
   "metadata": {},
   "outputs": [
    {
     "name": "stdout",
     "output_type": "stream",
     "text": [
      "exexex\n"
     ]
    }
   ],
   "source": [
    "# 36 WAP whether a given string, if string length is more than 2, then it displays a new\n",
    "# string with the first and last characters switched, otherwise the display the 3 copies of given string.\n",
    "s=\"ex\"\n",
    "d=\"donkey\"\n",
    "if len(s)>2:\n",
    "    d=d[-1]+d[1:len(d)-1]+d[0]\n",
    "    print(d)\n",
    "else:\n",
    "    print(3*s)\n"
   ]
  },
  {
   "cell_type": "code",
   "execution_count": 44,
   "metadata": {},
   "outputs": [
    {
     "name": "stdout",
     "output_type": "stream",
     "text": [
      "[3.0, 20, 'hello', -61]\n"
     ]
    }
   ],
   "source": [
    "# 37 WAP to check whether a given value is a list and first and last values should be\n",
    "# integer if condition is satisfied first value is True division by 3 and perform the\n",
    "# bitwise not for last value and those result values are stored in same positions in\n",
    "# given list or else, to perform length of the collection power by 2 and display value.\n",
    "l=[9,20,\"hello\",60]\n",
    "if type(l)==list and type(l[0])==int and type(l[-1])==int:\n",
    "    l[0]=l[0]/3\n",
    "    l[-1]=~(l[-1])\n",
    "    print(l)\n",
    "else:\n",
    "    res=len(l)**2\n",
    "    print(res)\n"
   ]
  },
  {
   "cell_type": "code",
   "execution_count": 26,
   "metadata": {},
   "outputs": [
    {
     "name": "stdout",
     "output_type": "stream",
     "text": [
      "jacksandparrow\n"
     ]
    }
   ],
   "source": [
    "# 38 WAP to check whether a given value is a string or not and length of the value\n",
    "# should be more than 7, if condition is satisfied to append the new string in the\n",
    "# middle of the given string or else to perform the replications with 3 and display the result.\n",
    "s=\"jacksparrow\"\n",
    "d=\"and\"\n",
    "if type(s)==str and len(s)>7:\n",
    "    s=s[0:len(s)//2]+d+s[len(s)//2:]\n",
    "    print(s)\n",
    "else:\n",
    "    print(s*3)"
   ]
  },
  {
   "cell_type": "code",
   "execution_count": 35,
   "metadata": {},
   "outputs": [
    {
     "name": "stdout",
     "output_type": "stream",
     "text": [
      "a b fd\n"
     ]
    }
   ],
   "source": [
    "# 39 WAP to check if the given string of first and second character should be sequence\n",
    "# or not. if the sequence prints the first, second and last two characters, or else the\n",
    "# first half string is reversed and the remaining half string should be normal and display it. \n",
    "st=\"abrgfd\"\n",
    "if chr(ord(st[0])+1)==chr(ord(st[1])):\n",
    "    print(st[0],st[1],st[len(st)-2:])\n",
    "else:\n",
    "    st=st[len(st)//2::-1]+st[len(st)//2+1:]\n",
    "    print(st)"
   ]
  },
  {
   "cell_type": "code",
   "execution_count": 38,
   "metadata": {},
   "outputs": [
    {
     "name": "stdout",
     "output_type": "stream",
     "text": [
      "l\n"
     ]
    }
   ],
   "source": [
    "# 40 WAP to check whether a given value is present inside the collection or not. If\n",
    "# present, print the value or else print value is not found.\n",
    "s=\"hello\"\n",
    "d='l'\n",
    "if d in s:\n",
    "    print(d)\n",
    "else:\n",
    "    print(\"value not found\")"
   ]
  },
  {
   "cell_type": "code",
   "execution_count": 49,
   "metadata": {},
   "outputs": [
    {
     "name": "stdout",
     "output_type": "stream",
     "text": [
      "{'a': 100, 'hii': 'byee', 'c': 20}\n"
     ]
    }
   ],
   "source": [
    "# 41 WAP to check whether a given key is present in the dict or not. if key is present:\n",
    "# display the value or else add key and new value inside the dict.\n",
    "d={'a':100,'hii':'byee'}\n",
    "s='c'\n",
    "if s in d:\n",
    "    print(d['a'])\n",
    "else:\n",
    "    d[s]=20\n",
    "    print(d)\n"
   ]
  },
  {
   "cell_type": "code",
   "execution_count": 64,
   "metadata": {},
   "outputs": [
    {
     "name": "stdout",
     "output_type": "stream",
     "text": [
      "{40, 10, 60, 30}\n"
     ]
    }
   ],
   "source": [
    "# 42 WAP to check whether a given collection is set or not. if set, append the new\n",
    "# value, or else eliminate the duplicate values in collection. final results should be set type.\n",
    "s=(10,30,40,10)\n",
    "d=(60,)\n",
    "if type(s)==set:\n",
    "    s|=d\n",
    "    print(s)\n",
    "else:\n",
    "    s+=d\n",
    "    print(set(s))\n",
    "\n"
   ]
  },
  {
   "cell_type": "code",
   "execution_count": 65,
   "metadata": {},
   "outputs": [
    {
     "name": "stdout",
     "output_type": "stream",
     "text": [
      "76 eligible\n"
     ]
    }
   ],
   "source": [
    "# 43 WAP to read the age of a candidate and determine whether it is eligible for\n",
    "# his/her own vote or not.it eligible print age and eligible messages or else print not eligible.\n",
    "age=76\n",
    "if age>18:\n",
    "    print(age,\"eligible\")\n",
    "else:\n",
    "    print(\"not eligible\")"
   ]
  },
  {
   "cell_type": "code",
   "execution_count": 67,
   "metadata": {},
   "outputs": [
    {
     "name": "stdout",
     "output_type": "stream",
     "text": [
      "6\n"
     ]
    }
   ],
   "source": [
    "# 44 WAP to check whether a given value is even and in between 47 to 58 and not in\n",
    "# 0 or odd. if condition is True, to perform display the ascii character or else to perform floor division with 5 and display it.\n",
    "s=54\n",
    "if 47<s<58 and s%2==0:\n",
    "    print(chr(s))\n",
    "else:\n",
    "    print(s/5)\n"
   ]
  },
  {
   "cell_type": "code",
   "execution_count": 69,
   "metadata": {},
   "outputs": [
    {
     "name": "stdout",
     "output_type": "stream",
     "text": [
      "string palindrome pap\n"
     ]
    }
   ],
   "source": [
    "# 45 WAP to check whether the given string is palindrome or not if it is a palindrome\n",
    "# string palindrome along with the string if it is not a palindrome print not palindrome\n",
    "s=\"pap\"\n",
    "if s==s[::-1]:\n",
    "    print(\"string palindrome\",s)\n",
    "else:\n",
    "    print(\"not palindrome\")"
   ]
  },
  {
   "cell_type": "code",
   "execution_count": 71,
   "metadata": {},
   "outputs": [
    {
     "name": "stdout",
     "output_type": "stream",
     "text": [
      "given value as a palindrome\n"
     ]
    }
   ],
   "source": [
    "# 46 WAP to check whether a given number is palindrome or not. If palindrome,\n",
    "# display the given value as a palindrome or else not a palindrome.\n",
    "s=12321\n",
    "st=str(s)\n",
    "if st==st[::-1]:\n",
    "    print(\"given value as a palindrome\")\n",
    "else:\n",
    "    print(\"not a palindrome\")\n"
   ]
  },
  {
   "cell_type": "code",
   "execution_count": 73,
   "metadata": {},
   "outputs": [
    {
     "name": "stdout",
     "output_type": "stream",
     "text": [
      "6\n",
      "5\n"
     ]
    }
   ],
   "source": [
    "# 47 WAP to check length of both string collections are equal or not. if both are equal\n",
    "# print the concat the two strings and display, or else if any one of the collection not equal print both the collections with lengths\n",
    "s=\"hello \"\n",
    "d=\"pavan\"\n",
    "if len(s)==len(d):\n",
    "    s+=d\n",
    "    print(s)\n",
    "else:\n",
    "    print(len(s))\n",
    "    print(len(d))\n"
   ]
  },
  {
   "cell_type": "code",
   "execution_count": 76,
   "metadata": {},
   "outputs": [
    {
     "name": "stdout",
     "output_type": "stream",
     "text": [
      "10 40\n"
     ]
    }
   ],
   "source": [
    "# 48 WAP to check whether both given values point to the same memory location or\n",
    "# not. if it is true print the middle item of the second collection, or else if it is false\n",
    "# print the first item and last item of the first collection along with the memory address.\n",
    "s=[10,30,40]\n",
    "d=[13,40,50]\n",
    "if s is d:\n",
    "    print(d[len(d)//2])\n",
    "else:\n",
    "    print(s[0],s[-1])\n"
   ]
  },
  {
   "cell_type": "code",
   "execution_count": 77,
   "metadata": {},
   "outputs": [
    {
     "name": "stdout",
     "output_type": "stream",
     "text": [
      "abcdefghijklmabcdefghijklmabcdefghijklm\n"
     ]
    }
   ],
   "source": [
    "# 49 WAP to check whether a given string collection is more than ten, and the first +\n",
    "# last character of the ascii values should be divisible by 5, if condition is satisfied\n",
    "# print first, middle, last characters ASCII values or else print the string three times.\n",
    "s='abcdefghijklm'\n",
    "d=ord(s[0])\n",
    "f=ord(s[-1])\n",
    "g=ord(s[len(s)//2])\n",
    "if len(s)>10 and (d+f)%5==0:\n",
    "    print(d,g,f)\n",
    "else:\n",
    "    print(s*3)"
   ]
  },
  {
   "cell_type": "code",
   "execution_count": 81,
   "metadata": {},
   "outputs": [
    {
     "name": "stdout",
     "output_type": "stream",
     "text": [
      "[10, 30, 'hello', 40, 50]\n"
     ]
    }
   ],
   "source": [
    "# 50 WAP to check whether the middle of the item present in the list is string data type\n",
    "# or not if it is string print that list or else if it is not string then print that middle item.\n",
    "l=[10,30,'hello',40,50]\n",
    "d=l[len(l)//2]\n",
    "if type(d)==str:\n",
    "    print(l)\n",
    "else:\n",
    "    print(d)"
   ]
  },
  {
   "cell_type": "code",
   "execution_count": 84,
   "metadata": {},
   "outputs": [
    {
     "name": "stdout",
     "output_type": "stream",
     "text": [
      "ronstem\n"
     ]
    }
   ],
   "source": [
    "# 51 WAP Given a string, return a new string where the first and last characters have been exchanged.\n",
    "st='monster'\n",
    "if type(st)==str:\n",
    "    st=st[-1]+st[1:len(st)-1]+st[0]\n",
    "    print(st)\n"
   ]
  },
  {
   "cell_type": "code",
   "execution_count": 86,
   "metadata": {},
   "outputs": [
    {
     "name": "stdout",
     "output_type": "stream",
     "text": [
      "120\n"
     ]
    }
   ],
   "source": [
    "# 52 Write a program to find out such numbers which are divisible by 7 but are not a\n",
    "# multiple of 5. Both the conditional is satisfied and print actual value. if one\n",
    "# condition is not satisfied actual number is multiply by 4 and print result\n",
    "b=30\n",
    "if b%5==0 and b%7==0:\n",
    "    print(b)\n",
    "else:\n",
    "    print(n*4)"
   ]
  },
  {
   "cell_type": "code",
   "execution_count": 89,
   "metadata": {},
   "outputs": [
    {
     "name": "stdout",
     "output_type": "stream",
     "text": [
      "140708382835112\n"
     ]
    }
   ],
   "source": [
    "# WAP to check whether two values are pointing to the same memory address or\n",
    "# not. If the same memory displays the address or else displays the two values addresses.\n",
    "s=245\n",
    "d=245\n",
    "if s is d:\n",
    "    print(id(s))\n",
    "else:\n",
    "    print(id(s),id(d))"
   ]
  },
  {
   "cell_type": "code",
   "execution_count": 90,
   "metadata": {},
   "outputs": [
    {
     "name": "stdout",
     "output_type": "stream",
     "text": [
      "%%%\n"
     ]
    }
   ],
   "source": [
    "# WAPto check whether a given input character is a special symbol or not if it is a\n",
    "# special symbol then print that character three times and ellse print that character 5 times.\n",
    "s=\"%\"\n",
    "if not('A'<=s<='Z' or 'a'<=s<='z'or '0'<=s<='9'):\n",
    "    print(s*3)\n",
    "else:\n",
    "    print(s*5)\n"
   ]
  },
  {
   "cell_type": "code",
   "execution_count": 93,
   "metadata": {},
   "outputs": [
    {
     "name": "stdout",
     "output_type": "stream",
     "text": [
      "sravani neeraj\n"
     ]
    }
   ],
   "source": [
    "# WAP to check length of both string collections equal or not if it is equal print the\n",
    "# connection of any one of the collections if it is not equal print both the collection.\n",
    "s=\"sravani\"\n",
    "v=\"neeraj\"\n",
    "if len(s)==len(v):\n",
    "    print(v)\n",
    "else:\n",
    "    print(s,v)"
   ]
  },
  {
   "cell_type": "code",
   "execution_count": 95,
   "metadata": {},
   "outputs": [
    {
     "name": "stdout",
     "output_type": "stream",
     "text": [
      "a 1302936312752\n"
     ]
    }
   ],
   "source": [
    "# WAP To check whether both input variables point to the same memory location\n",
    "# or not if it is true print the last item of the second collection, if it is false print the\n",
    "# first item of the first collection along with the memory address.\n",
    "s='abcde'\n",
    "d='acdeb'\n",
    "if s is d:\n",
    "    print(d[-1],id(d))\n",
    "else:\n",
    "    print(s[0],id(s))\n"
   ]
  },
  {
   "cell_type": "code",
   "execution_count": 106,
   "metadata": {},
   "outputs": [
    {
     "name": "stdout",
     "output_type": "stream",
     "text": [
      "bhetrbhetrbhetrbhetrbhetr\n"
     ]
    }
   ],
   "source": [
    "# WAP to print the string collection five times when the length of the string\n",
    "# collection should be more than 3 and the middle character of the string should\n",
    "# be vowel and the first character ASCII value should be even, or else if ASCII value is odd then print the string three times as print that string.\n",
    "s=\"bhetr\"\n",
    "d=s[len(s)//2]\n",
    "if len(s)>3 and d in 'AEIOUaeiou'and ord(s[0])%2==0:\n",
    "    print(s*5) \n",
    "else:\n",
    "    print(s*3)\n",
    "    print(s)"
   ]
  },
  {
   "cell_type": "code",
   "execution_count": 107,
   "metadata": {},
   "outputs": [
    {
     "name": "stdout",
     "output_type": "stream",
     "text": [
      "buy\n"
     ]
    }
   ],
   "source": [
    "# Ravi would like to buy a new cello or red pen. The cost of the pen should be 10.\n",
    "# If the pen is available in the shop, he will buy the pen. If it is not there he will come out of the shop.\n",
    "s=\"red pen\"\n",
    "cost=10\n",
    "if cost==10 and (s==\"red pen\"or s==\"cello\"):\n",
    "    print(\"buy\")\n",
    "else:\n",
    "    print(\"not buy\")\n"
   ]
  },
  {
   "cell_type": "code",
   "execution_count": 109,
   "metadata": {},
   "outputs": [
    {
     "name": "stdout",
     "output_type": "stream",
     "text": [
      "50\n"
     ]
    }
   ],
   "source": [
    "#WAP to perform addition and subtraction operation by using list collection if the\n",
    "# first and middle data items number are even performing addition operation, or else performing subtraction.\n",
    "l=[10,20,40,50]\n",
    "if l[0]%2==0 and l[len(l)//2]%2==0:\n",
    "    d=l[0]+l[len(l)//2]\n",
    "    print(d)\n",
    "else:\n",
    "    d=l[0]-l[len(l)//2]\n",
    "    print(d)"
   ]
  },
  {
   "cell_type": "code",
   "execution_count": 110,
   "metadata": {},
   "outputs": [
    {
     "name": "stdout",
     "output_type": "stream",
     "text": [
      "1302936374080 1302935976576\n"
     ]
    }
   ],
   "source": [
    "#WAP to check whether the first item of these two lists is either integer or not.\n",
    "# If it is an integer, concatenate these two lists or else print the memory address of these two lists.\n",
    "s=[10,\"haii\",90]\n",
    "d=[10.34,90,(23,49)]\n",
    "if type(s[0])==int and type(d[0])==int:\n",
    "    s+=d\n",
    "    print(s)\n",
    "else:\n",
    "    print(id(s),id(d))\n"
   ]
  }
 ],
 "metadata": {
  "kernelspec": {
   "display_name": "Python 3",
   "language": "python",
   "name": "python3"
  },
  "language_info": {
   "codemirror_mode": {
    "name": "ipython",
    "version": 3
   },
   "file_extension": ".py",
   "mimetype": "text/x-python",
   "name": "python",
   "nbconvert_exporter": "python",
   "pygments_lexer": "ipython3",
   "version": "3.11.4"
  },
  "orig_nbformat": 4
 },
 "nbformat": 4,
 "nbformat_minor": 2
}
