{
 "cells": [
  {
   "cell_type": "code",
   "execution_count": 1,
   "metadata": {},
   "outputs": [
    {
     "name": "stdout",
     "output_type": "stream",
     "text": [
      "positive\n"
     ]
    }
   ],
   "source": [
    "# 1 WAP to check number is positive .if positive,print message positive\n",
    "n=100\n",
    "if n>=0:\n",
    "        print(\"positive\")"
   ]
  },
  {
   "cell_type": "code",
   "execution_count": 2,
   "metadata": {},
   "outputs": [
    {
     "name": "stdout",
     "output_type": "stream",
     "text": [
      "helloworld\n"
     ]
    }
   ],
   "source": [
    "# 2 WAP to display helloworld if number greater than 1 andlesserthan 5\n",
    "n=4\n",
    "if (n>1 and n<5) :\n",
    "        print(\"helloworld\")"
   ]
  },
  {
   "cell_type": "code",
   "execution_count": 5,
   "metadata": {},
   "outputs": [
    {
     "name": "stdout",
     "output_type": "stream",
     "text": [
      "fizz\n"
     ]
    }
   ],
   "source": [
    "# 3 WAP to check given number divisible by 3 or not if print fizz\n",
    "n=9\n",
    "if n%3==0:\n",
    "        print(\"fizz\")"
   ]
  },
  {
   "cell_type": "code",
   "execution_count": 6,
   "metadata": {},
   "outputs": [
    {
     "name": "stdout",
     "output_type": "stream",
     "text": [
      "(12+0j)\n"
     ]
    }
   ],
   "source": [
    "# 4 WAP to check given input is divisible by 2and 6.if the condition is true convert given number into complex number\n",
    "n=12\n",
    "if n%2==0 and n%6==0:\n",
    "        print(complex(n))"
   ]
  },
  {
   "cell_type": "code",
   "execution_count": 7,
   "metadata": {},
   "outputs": [
    {
     "name": "stdout",
     "output_type": "stream",
     "text": [
      "['3', '0']\n"
     ]
    }
   ],
   "source": [
    "# 5 WAp to check given input is divisible by 3 or 5.if the cindition is true convert to list\n",
    "x=30\n",
    "if x%3==0 and x%5==0:\n",
    "      print(list(str(x)))"
   ]
  },
  {
   "cell_type": "code",
   "execution_count": 8,
   "metadata": {},
   "outputs": [
    {
     "name": "stdout",
     "output_type": "stream",
     "text": [
      "True\n"
     ]
    }
   ],
   "source": [
    "# 6 WAP TO CHECK GIVEN NUMBER IS MUTIPLE OF 5 OR NOT\n",
    "n=25\n",
    "if n%5==0:\n",
    "        print(True)\n"
   ]
  },
  {
   "cell_type": "code",
   "execution_count": 9,
   "metadata": {},
   "outputs": [
    {
     "name": "stdout",
     "output_type": "stream",
     "text": [
      "0\n"
     ]
    }
   ],
   "source": [
    "#7 WAP to check given input is 0 or not if 0 print 0\n",
    "n=0\n",
    "if n==0:\n",
    "        print(n)"
   ]
  },
  {
   "cell_type": "code",
   "execution_count": 10,
   "metadata": {},
   "outputs": [
    {
     "name": "stdout",
     "output_type": "stream",
     "text": [
      "negative\n"
     ]
    }
   ],
   "source": [
    "#8 WAP to check whether a number  is negative.if negative,print a message negative\n",
    "n=-10\n",
    "if n<0:\n",
    "        print(\"negative\")"
   ]
  },
  {
   "cell_type": "code",
   "execution_count": 12,
   "metadata": {},
   "outputs": [
    {
     "name": "stdout",
     "output_type": "stream",
     "text": [
      "[4, 5, 'hii', 10]\n"
     ]
    }
   ],
   "source": [
    "# 9 WAP to check number is even or not.if even,store the value inside the list\n",
    "n=10\n",
    "l=[4,5,\"hii\"]\n",
    "if n%2==0:\n",
    "        l+=[n]\n",
    "        print(l)\n"
   ]
  },
  {
   "cell_type": "code",
   "execution_count": 34,
   "metadata": {},
   "outputs": [
    {
     "name": "stdout",
     "output_type": "stream",
     "text": [
      "(10, 40, 6, '4', '5')\n"
     ]
    }
   ],
   "source": [
    "#10 WAP to check number is odd or not.if odd,store the value inside the tuple\n",
    "n=45\n",
    "t=(10,40,6)\n",
    "if n%2!=0:\n",
    "    res=t+tuple(str(n))\n",
    "    print(res)\n",
    "    \n"
   ]
  },
  {
   "cell_type": "code",
   "execution_count": 19,
   "metadata": {},
   "outputs": [
    {
     "name": "stdout",
     "output_type": "stream",
     "text": [
      "12960000\n"
     ]
    }
   ],
   "source": [
    "#11 WAP to check if the given number is even or not .if yes,to print power of 4 in the given number\n",
    "n=60\n",
    "if n%2==0:\n",
    "        print(n**4)"
   ]
  },
  {
   "cell_type": "code",
   "execution_count": 20,
   "metadata": {},
   "outputs": [
    {
     "name": "stdout",
     "output_type": "stream",
     "text": [
      "16\n"
     ]
    }
   ],
   "source": [
    "# 12 WAP to take input from the user as Anumber and check whether it is a number or not.if yes.take the number and add some value and print it\n",
    "n=10\n",
    "if type(n)==int:\n",
    "        s=n+6\n",
    "        print(s)"
   ]
  },
  {
   "cell_type": "code",
   "execution_count": 1,
   "metadata": {},
   "outputs": [
    {
     "name": "stdout",
     "output_type": "stream",
     "text": [
      "1225\n"
     ]
    }
   ],
   "source": [
    "# 13WAP to check given value divisible by 5 and 7 .if it is divisble display the square of the value\n",
    "n=35\n",
    "if n%5==0 and n%7==0:\n",
    "    print(n**2)"
   ]
  },
  {
   "cell_type": "code",
   "execution_count": 3,
   "metadata": {},
   "outputs": [
    {
     "name": "stdout",
     "output_type": "stream",
     "text": [
      "37\n"
     ]
    }
   ],
   "source": [
    "# 14 WAP to check given value last digit grater than 5 or not .if greater perfrom bitwise right shift operation skkiping value is 2\n",
    "n=149\n",
    "if n%10>5:\n",
    "        x=n//(2**2)\n",
    "        print(x)"
   ]
  },
  {
   "cell_type": "code",
   "execution_count": 4,
   "metadata": {},
   "outputs": [
    {
     "name": "stdout",
     "output_type": "stream",
     "text": [
      "81\n"
     ]
    }
   ],
   "source": [
    "# 15 WAP to check given value divisible by 3 AND lesstham 30 .ifdivisible dispaly square of the value\n",
    "n=9\n",
    "if n%3==0 and n<30:\n",
    "        print(n**2)"
   ]
  },
  {
   "cell_type": "code",
   "execution_count": 5,
   "metadata": {},
   "outputs": [
    {
     "name": "stdout",
     "output_type": "stream",
     "text": [
      "64\n"
     ]
    }
   ],
   "source": [
    "#16 WAP tocheck given value is even number and divisible by 4.if satisfied  display cube of the value\n",
    "n=4\n",
    "if n%4==0 and n%2==0:\n",
    "        print(n**3)"
   ]
  },
  {
   "cell_type": "code",
   "execution_count": 8,
   "metadata": {},
   "outputs": [
    {
     "name": "stdout",
     "output_type": "stream",
     "text": [
      "[8, 9, 10, 60]\n"
     ]
    }
   ],
   "source": [
    "# 17 WAP to check given value si even or not.if even store the value inside the list\n",
    "n=60\n",
    "l=[8,9,10]\n",
    "if n%2==0:\n",
    "    l.append(n)\n",
    "    print(l)"
   ]
  },
  {
   "cell_type": "code",
   "execution_count": 9,
   "metadata": {},
   "outputs": [
    {
     "name": "stdout",
     "output_type": "stream",
     "text": [
      "0\n"
     ]
    }
   ],
   "source": [
    "# 18 WAP to check given value is negative or even number. if satisfied,display the last digit of the value\n",
    "n=-50\n",
    "if n<0 or n%2==0:\n",
    "        print(n%10)"
   ]
  },
  {
   "cell_type": "code",
   "execution_count": 10,
   "metadata": {},
   "outputs": [],
   "source": [
    "# 19 WAP t0 check given value is a negative or odd number and divsible by 4. if satisfied display cube of the value\n",
    "n=17\n",
    "if (n<0 or n%2!=0) and n%4==0:\n",
    "        print(n**3)"
   ]
  },
  {
   "cell_type": "code",
   "execution_count": 12,
   "metadata": {},
   "outputs": [
    {
     "name": "stdout",
     "output_type": "stream",
     "text": [
      "d\n"
     ]
    }
   ],
   "source": [
    "# 20 WAP to check given ascii value is divisible by 4 and even value .if satisfied display ascii character\n",
    "n=100\n",
    "if n%4==0 and n%2==0:\n",
    "        print(chr(n))"
   ]
  },
  {
   "cell_type": "code",
   "execution_count": 13,
   "metadata": {},
   "outputs": [
    {
     "name": "stdout",
     "output_type": "stream",
     "text": [
      "P\n"
     ]
    }
   ],
   "source": [
    "# 21 WAP to check given value is present in between 45 to 125 and the number divisible by 4 and 5 and even value .if satisfied display ascii character\n",
    "n=80\n",
    "if 45<n<125 and n%4==0 and n%5==0 and n%2==0:\n",
    "    print(chr(n))"
   ]
  },
  {
   "cell_type": "code",
   "execution_count": 14,
   "metadata": {},
   "outputs": [
    {
     "name": "stdout",
     "output_type": "stream",
     "text": [
      "200\n"
     ]
    }
   ],
   "source": [
    "# 22 WAP to check given value present in between 25 to 100 and number should be divisible by 4 and 5 \n",
    "# if satisfied display multiplaction of given value with 5\n",
    "n=40\n",
    "if 25<n<100 and n%4==0 and n%5==0:\n",
    "        print(n*5)"
   ]
  },
  {
   "cell_type": "code",
   "execution_count": 17,
   "metadata": {},
   "outputs": [
    {
     "name": "stdout",
     "output_type": "stream",
     "text": [
      "4000\n"
     ]
    }
   ],
   "source": [
    "# 23 WAP to check given value is an integer or not .if true convert to srting and display\n",
    "n=4000\n",
    "if type(n)==int:\n",
    "        s=str(n)\n",
    "        print(s)"
   ]
  },
  {
   "cell_type": "code",
   "execution_count": 20,
   "metadata": {},
   "outputs": [
    {
     "name": "stdout",
     "output_type": "stream",
     "text": [
      "wergh\n"
     ]
    }
   ],
   "source": [
    "s='wergh'\n",
    "print(s)"
   ]
  },
  {
   "cell_type": "code",
   "execution_count": 22,
   "metadata": {},
   "outputs": [
    {
     "name": "stdout",
     "output_type": "stream",
     "text": [
      "9\n"
     ]
    }
   ],
   "source": [
    "# 24 WAP to check two values are equal or not.if equal perfrom multiplication of two numbers and result divisible by 3 and display the value\n",
    "n=3\n",
    "m=3\n",
    "if n is m:\n",
    "        s=n*m\n",
    "        s%3==0\n",
    "        print(s)"
   ]
  },
  {
   "cell_type": "code",
   "execution_count": 23,
   "metadata": {},
   "outputs": [
    {
     "name": "stdout",
     "output_type": "stream",
     "text": [
      "3\n"
     ]
    }
   ],
   "source": [
    "# 25 WAP to check given number is integer and odd number .if condition is true integer is divisible by  5 and display the result\n",
    "n=15\n",
    "if type(n)==int and n%3==0:\n",
    "        print(n//5)"
   ]
  },
  {
   "cell_type": "code",
   "execution_count": 25,
   "metadata": {},
   "outputs": [
    {
     "name": "stdout",
     "output_type": "stream",
     "text": [
      "h\n"
     ]
    }
   ],
   "source": [
    "# 26  WAP to check givern value is less than 125 and greater than 60 or not.if condition is true \n",
    "# take the name and and extract the middle character and display it\n",
    "n=120\n",
    "if 60<n<125:\n",
    "        s=\"python\"\n",
    "        print(s[len(s)//2])"
   ]
  },
  {
   "cell_type": "code",
   "execution_count": 27,
   "metadata": {},
   "outputs": [
    {
     "name": "stdout",
     "output_type": "stream",
     "text": [
      "240\n"
     ]
    }
   ],
   "source": [
    "# 27 WAP to check given two integers are equal or not .if equal to perform addition and display the result\n",
    "n=120\n",
    "m=120\n",
    "if 120==120:\n",
    "        print(n+m)"
   ]
  },
  {
   "cell_type": "code",
   "execution_count": 29,
   "metadata": {},
   "outputs": [
    {
     "name": "stdout",
     "output_type": "stream",
     "text": [
      "{'a': 20, 'hoo': 'byee', 'A': 65}\n"
     ]
    }
   ],
   "source": [
    "# 28 WAP to check a character is a alphabet or not ,if alphabet, \n",
    "#store the value inside the dict(key is char and value si ascii value)\n",
    "ch='A'\n",
    "d={'a':20,'hoo':'byee'}\n",
    "if 'A'<=ch<='Z' or 'a'<=ch<='z':\n",
    "        f={'A':ord(ch)}\n",
    "        d|=f\n",
    "        print(d)\n",
    "\n"
   ]
  },
  {
   "cell_type": "code",
   "execution_count": 30,
   "metadata": {},
   "outputs": [
    {
     "name": "stdout",
     "output_type": "stream",
     "text": [
      "{'a': 20, 'hoo': 'byee', 'D': 68}\n"
     ]
    }
   ],
   "source": [
    "# 29 WAP to check given character is uppercase or not.\n",
    "#  if the uppercase store the value inside the dict(key is char and value si ascii value)\n",
    "ch='D'\n",
    "d={'a':20,'hoo':'byee'}\n",
    "if 'A'<=ch<='Z':\n",
    "    d['D']=ord(ch)\n",
    "    print(d)"
   ]
  },
  {
   "cell_type": "code",
   "execution_count": null,
   "metadata": {},
   "outputs": [],
   "source": [
    "# 30 \n"
   ]
  }
 ],
 "metadata": {
  "kernelspec": {
   "display_name": "Python 3",
   "language": "python",
   "name": "python3"
  },
  "language_info": {
   "codemirror_mode": {
    "name": "ipython",
    "version": 3
   },
   "file_extension": ".py",
   "mimetype": "text/x-python",
   "name": "python",
   "nbconvert_exporter": "python",
   "pygments_lexer": "ipython3",
   "version": "3.11.4"
  },
  "orig_nbformat": 4
 },
 "nbformat": 4,
 "nbformat_minor": 2
}
