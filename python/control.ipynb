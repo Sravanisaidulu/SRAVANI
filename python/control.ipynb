{
 "cells": [
  {
   "cell_type": "code",
   "execution_count": 1,
   "metadata": {},
   "outputs": [
    {
     "name": "stdout",
     "output_type": "stream",
     "text": [
      "positive\n"
     ]
    }
   ],
   "source": [
    "# 1 WAP to check number is positive .if positive,print message positive\n",
    "n=100\n",
    "if n>=0:\n",
    "        print(\"positive\")"
   ]
  },
  {
   "cell_type": "code",
   "execution_count": 2,
   "metadata": {},
   "outputs": [
    {
     "name": "stdout",
     "output_type": "stream",
     "text": [
      "helloworld\n"
     ]
    }
   ],
   "source": [
    "# 2 WAP to display helloworld if number greater than 1 andlesserthan 5\n",
    "n=4\n",
    "if (n>1 and n<5) :\n",
    "        print(\"helloworld\")"
   ]
  },
  {
   "cell_type": "code",
   "execution_count": 5,
   "metadata": {},
   "outputs": [
    {
     "name": "stdout",
     "output_type": "stream",
     "text": [
      "fizz\n"
     ]
    }
   ],
   "source": [
    "# 3 WAP to check given number divisible by 3 or not if print fizz\n",
    "n=9\n",
    "if n%3==0:\n",
    "        print(\"fizz\")"
   ]
  },
  {
   "cell_type": "code",
   "execution_count": 6,
   "metadata": {},
   "outputs": [
    {
     "name": "stdout",
     "output_type": "stream",
     "text": [
      "(12+0j)\n"
     ]
    }
   ],
   "source": [
    "# 4 WAP to check given input is divisible by 2and 6.if the condition is true convert given number into complex number\n",
    "n=12\n",
    "if n%2==0 and n%6==0:\n",
    "        print(complex(n))"
   ]
  },
  {
   "cell_type": "code",
   "execution_count": 7,
   "metadata": {},
   "outputs": [
    {
     "name": "stdout",
     "output_type": "stream",
     "text": [
      "['3', '0']\n"
     ]
    }
   ],
   "source": [
    "# 5 WAp to check given input is divisible by 3 or 5.if the cindition is true convert to list\n",
    "x=30\n",
    "if x%3==0 and x%5==0:\n",
    "      print(list(str(x)))"
   ]
  },
  {
   "cell_type": "code",
   "execution_count": 8,
   "metadata": {},
   "outputs": [
    {
     "name": "stdout",
     "output_type": "stream",
     "text": [
      "True\n"
     ]
    }
   ],
   "source": [
    "# 6 WAP TO CHECK GIVEN NUMBER IS MUTIPLE OF 5 OR NOT\n",
    "n=25\n",
    "if n%5==0:\n",
    "        print(True)\n"
   ]
  },
  {
   "cell_type": "code",
   "execution_count": 9,
   "metadata": {},
   "outputs": [
    {
     "name": "stdout",
     "output_type": "stream",
     "text": [
      "0\n"
     ]
    }
   ],
   "source": [
    "#7 WAP to check given input is 0 or not if 0 print 0\n",
    "n=0\n",
    "if n==0:\n",
    "        print(n)"
   ]
  },
  {
   "cell_type": "code",
   "execution_count": 10,
   "metadata": {},
   "outputs": [
    {
     "name": "stdout",
     "output_type": "stream",
     "text": [
      "negative\n"
     ]
    }
   ],
   "source": [
    "#8 WAP to check whether a number  is negative.if negative,print a message negative\n",
    "n=-10\n",
    "if n<0:\n",
    "        print(\"negative\")"
   ]
  },
  {
   "cell_type": "code",
   "execution_count": 12,
   "metadata": {},
   "outputs": [
    {
     "name": "stdout",
     "output_type": "stream",
     "text": [
      "[4, 5, 'hii', 10]\n"
     ]
    }
   ],
   "source": [
    "# 9 WAP to check number is even or not.if even,store the value inside the list\n",
    "n=10\n",
    "l=[4,5,\"hii\"]\n",
    "if n%2==0:\n",
    "        l+=[n]\n",
    "        print(l)\n"
   ]
  },
  {
   "cell_type": "code",
   "execution_count": 34,
   "metadata": {},
   "outputs": [
    {
     "name": "stdout",
     "output_type": "stream",
     "text": [
      "(10, 40, 6, '4', '5')\n"
     ]
    }
   ],
   "source": [
    "#10 WAP to check number is odd or not.if odd,store the value inside the tuple\n",
    "n=45\n",
    "t=(10,40,6)\n",
    "if n%2!=0:\n",
    "    res=t+tuple(str(n))\n",
    "    print(res)\n",
    "    \n"
   ]
  },
  {
   "cell_type": "code",
   "execution_count": 19,
   "metadata": {},
   "outputs": [
    {
     "name": "stdout",
     "output_type": "stream",
     "text": [
      "12960000\n"
     ]
    }
   ],
   "source": [
    "#11 WAP to check if the given number is even or not .if yes,to print power of 4 in the given number\n",
    "n=60\n",
    "if n%2==0:\n",
    "        print(n**4)"
   ]
  },
  {
   "cell_type": "code",
   "execution_count": 20,
   "metadata": {},
   "outputs": [
    {
     "name": "stdout",
     "output_type": "stream",
     "text": [
      "16\n"
     ]
    }
   ],
   "source": [
    "# 12 WAP to take input from the user as Anumber and check whether it is a number or not.if yes.take the number and add some value and print it\n",
    "n=10\n",
    "if type(n)==int:\n",
    "        s=n+6\n",
    "        print(s)"
   ]
  },
  {
   "cell_type": "code",
   "execution_count": 1,
   "metadata": {},
   "outputs": [
    {
     "name": "stdout",
     "output_type": "stream",
     "text": [
      "1225\n"
     ]
    }
   ],
   "source": [
    "# 13WAP to check given value divisible by 5 and 7 .if it is divisble display the square of the value\n",
    "n=35\n",
    "if n%5==0 and n%7==0:\n",
    "    print(n**2)"
   ]
  },
  {
   "cell_type": "code",
   "execution_count": 3,
   "metadata": {},
   "outputs": [
    {
     "name": "stdout",
     "output_type": "stream",
     "text": [
      "37\n"
     ]
    }
   ],
   "source": [
    "# 14 WAP to check given value last digit grater than 5 or not .if greater perfrom bitwise right shift operation skkiping value is 2\n",
    "n=149\n",
    "if n%10>5:\n",
    "        x=n//(2**2)\n",
    "        print(x)"
   ]
  },
  {
   "cell_type": "code",
   "execution_count": 4,
   "metadata": {},
   "outputs": [
    {
     "name": "stdout",
     "output_type": "stream",
     "text": [
      "81\n"
     ]
    }
   ],
   "source": [
    "# 15 WAP to check given value divisible by 3 AND lesstham 30 .ifdivisible dispaly square of the value\n",
    "n=9\n",
    "if n%3==0 and n<30:\n",
    "        print(n**2)"
   ]
  },
  {
   "cell_type": "code",
   "execution_count": 5,
   "metadata": {},
   "outputs": [
    {
     "name": "stdout",
     "output_type": "stream",
     "text": [
      "64\n"
     ]
    }
   ],
   "source": [
    "#16 WAP tocheck given value is even number and divisible by 4.if satisfied  display cube of the value\n",
    "n=4\n",
    "if n%4==0 and n%2==0:\n",
    "        print(n**3)"
   ]
  },
  {
   "cell_type": "code",
   "execution_count": 8,
   "metadata": {},
   "outputs": [
    {
     "name": "stdout",
     "output_type": "stream",
     "text": [
      "[8, 9, 10, 60]\n"
     ]
    }
   ],
   "source": [
    "# 17 WAP to check given value si even or not.if even store the value inside the list\n",
    "n=60\n",
    "l=[8,9,10]\n",
    "if n%2==0:\n",
    "    l.append(n)\n",
    "    print(l)"
   ]
  },
  {
   "cell_type": "code",
   "execution_count": 9,
   "metadata": {},
   "outputs": [
    {
     "name": "stdout",
     "output_type": "stream",
     "text": [
      "0\n"
     ]
    }
   ],
   "source": [
    "# 18 WAP to check given value is negative or even number. if satisfied,display the last digit of the value\n",
    "n=-50\n",
    "if n<0 or n%2==0:\n",
    "        print(n%10)"
   ]
  },
  {
   "cell_type": "code",
   "execution_count": 10,
   "metadata": {},
   "outputs": [],
   "source": [
    "# 19 WAP t0 check given value is a negative or odd number and divsible by 4. if satisfied display cube of the value\n",
    "n=17\n",
    "if (n<0 or n%2!=0) and n%4==0:\n",
    "        print(n**3)"
   ]
  },
  {
   "cell_type": "code",
   "execution_count": 12,
   "metadata": {},
   "outputs": [
    {
     "name": "stdout",
     "output_type": "stream",
     "text": [
      "d\n"
     ]
    }
   ],
   "source": [
    "# 20 WAP to check given ascii value is divisible by 4 and even value .if satisfied display ascii character\n",
    "n=100\n",
    "if n%4==0 and n%2==0:\n",
    "        print(chr(n))"
   ]
  },
  {
   "cell_type": "code",
   "execution_count": 13,
   "metadata": {},
   "outputs": [
    {
     "name": "stdout",
     "output_type": "stream",
     "text": [
      "P\n"
     ]
    }
   ],
   "source": [
    "# 21 WAP to check given value is present in between 45 to 125 and the number divisible by 4 and 5 and even value .if satisfied display ascii character\n",
    "n=80\n",
    "if 45<n<125 and n%4==0 and n%5==0 and n%2==0:\n",
    "    print(chr(n))"
   ]
  },
  {
   "cell_type": "code",
   "execution_count": 14,
   "metadata": {},
   "outputs": [
    {
     "name": "stdout",
     "output_type": "stream",
     "text": [
      "200\n"
     ]
    }
   ],
   "source": [
    "# 22 WAP to check given value present in between 25 to 100 and number should be divisible by 4 and 5 \n",
    "# if satisfied display multiplaction of given value with 5\n",
    "n=40\n",
    "if 25<n<100 and n%4==0 and n%5==0:\n",
    "        print(n*5)"
   ]
  },
  {
   "cell_type": "code",
   "execution_count": 17,
   "metadata": {},
   "outputs": [
    {
     "name": "stdout",
     "output_type": "stream",
     "text": [
      "4000\n"
     ]
    }
   ],
   "source": [
    "# 23 WAP to check given value is an integer or not .if true convert to srting and display\n",
    "n=4000\n",
    "if type(n)==int:\n",
    "        s=str(n)\n",
    "        print(s)"
   ]
  },
  {
   "cell_type": "code",
   "execution_count": 20,
   "metadata": {},
   "outputs": [
    {
     "name": "stdout",
     "output_type": "stream",
     "text": [
      "wergh\n"
     ]
    }
   ],
   "source": [
    "s='wergh'\n",
    "print(s)"
   ]
  },
  {
   "cell_type": "code",
   "execution_count": 22,
   "metadata": {},
   "outputs": [
    {
     "name": "stdout",
     "output_type": "stream",
     "text": [
      "9\n"
     ]
    }
   ],
   "source": [
    "# 24 WAP to check two values are equal or not.if equal perfrom multiplication of two numbers and result divisible by 3 and display the value\n",
    "n=3\n",
    "m=3\n",
    "if n is m:\n",
    "        s=n*m\n",
    "        s%3==0\n",
    "        print(s)"
   ]
  },
  {
   "cell_type": "code",
   "execution_count": 23,
   "metadata": {},
   "outputs": [
    {
     "name": "stdout",
     "output_type": "stream",
     "text": [
      "3\n"
     ]
    }
   ],
   "source": [
    "# 25 WAP to check given number is integer and odd number .if condition is true integer is divisible by  5 and display the result\n",
    "n=15\n",
    "if type(n)==int and n%3==0:\n",
    "        print(n//5)"
   ]
  },
  {
   "cell_type": "code",
   "execution_count": 25,
   "metadata": {},
   "outputs": [
    {
     "name": "stdout",
     "output_type": "stream",
     "text": [
      "h\n"
     ]
    }
   ],
   "source": [
    "# 26  WAP to check givern value is less than 125 and greater than 60 or not.if condition is true \n",
    "# take the name and and extract the middle character and display it\n",
    "n=120\n",
    "if 60<n<125:\n",
    "        s=\"python\"\n",
    "        print(s[len(s)//2])"
   ]
  },
  {
   "cell_type": "code",
   "execution_count": 27,
   "metadata": {},
   "outputs": [
    {
     "name": "stdout",
     "output_type": "stream",
     "text": [
      "240\n"
     ]
    }
   ],
   "source": [
    "# 27 WAP to check given two integers are equal or not .if equal to perform addition and display the result\n",
    "n=120\n",
    "m=120\n",
    "if 120==120:\n",
    "        print(n+m)"
   ]
  },
  {
   "cell_type": "code",
   "execution_count": 29,
   "metadata": {},
   "outputs": [
    {
     "name": "stdout",
     "output_type": "stream",
     "text": [
      "{'a': 20, 'hoo': 'byee', 'A': 65}\n"
     ]
    }
   ],
   "source": [
    "# 28 WAP to check a character is a alphabet or not ,if alphabet, \n",
    "#store the value inside the dict(key is char and value si ascii value)\n",
    "ch='A'\n",
    "d={'a':20,'hoo':'byee'}\n",
    "if 'A'<=ch<='Z' or 'a'<=ch<='z':\n",
    "        f={'A':ord(ch)}\n",
    "        d|=f\n",
    "        print(d)\n",
    "\n"
   ]
  },
  {
   "cell_type": "code",
   "execution_count": 30,
   "metadata": {},
   "outputs": [
    {
     "name": "stdout",
     "output_type": "stream",
     "text": [
      "{'a': 20, 'hoo': 'byee', 'D': 68}\n"
     ]
    }
   ],
   "source": [
    "# 29 WAP to check given character is uppercase or not.\n",
    "#  if the uppercase store the value inside the dict(key is char and value si ascii value)\n",
    "ch='D'\n",
    "d={'a':20,'hoo':'byee'}\n",
    "if 'A'<=ch<='Z':\n",
    "    d['D']=ord(ch)\n",
    "    print(d)"
   ]
  },
  {
   "cell_type": "code",
   "execution_count": 1,
   "metadata": {},
   "outputs": [
    {
     "name": "stdout",
     "output_type": "stream",
     "text": [
      "dddddddddd\n"
     ]
    }
   ],
   "source": [
    "# 30 WAP to check given character is lowercase or not.\n",
    "#  if the lowercase perform replication operation on that character\n",
    "ch='d'\n",
    "if 'a'<=ch<='z':\n",
    "        s=10*ch\n",
    "        print(s)\n"
   ]
  },
  {
   "cell_type": "code",
   "execution_count": null,
   "metadata": {},
   "outputs": [],
   "source": [
    "# 31 WAP to check a charactetr is in the ascii number or not.if the ascii no,to convert into integer\n",
    "ch='f'\n",
    "if 65<=ord(ch)<=90 or 97<=ord(ch)<=122 or 48<=ord(ch)<=57:\n",
    "        print()"
   ]
  },
  {
   "cell_type": "code",
   "execution_count": 36,
   "metadata": {},
   "outputs": [
    {
     "name": "stdout",
     "output_type": "stream",
     "text": [
      "$ 36\n"
     ]
    }
   ],
   "source": [
    "# 32 WAP to check a character is in special symbol or not.if the special symbol,to display asymbol with ascii value\n",
    "ch='$'\n",
    "if not('A'<=ch<='Z' or 'a'<=ch<='z' or '0'<=ch<='9'):\n",
    "        print(ch,ord(ch))"
   ]
  },
  {
   "cell_type": "code",
   "execution_count": 5,
   "metadata": {},
   "outputs": [
    {
     "name": "stdout",
     "output_type": "stream",
     "text": [
      "100\n"
     ]
    }
   ],
   "source": [
    "# 33 WAP TO CHECK GIVEN CHARACTER IS EVEN NUMBER ARE NOT .if even number,display even number\n",
    "ch='d'\n",
    "if ord(ch)%2==0:\n",
    "    print(ord(ch))"
   ]
  },
  {
   "cell_type": "code",
   "execution_count": 6,
   "metadata": {},
   "outputs": [
    {
     "name": "stdout",
     "output_type": "stream",
     "text": [
      "100\n"
     ]
    }
   ],
   "source": [
    "# 34 WAP to check two integers a and b,if any of the integer is 10 or if their sum is 10\n",
    "# perform sum of the numbers and display square of the result\n",
    "a=7\n",
    "b=3\n",
    "if a==10 or b==10 or a+b==10:\n",
    "        s=a+b\n",
    "        print(s**2)"
   ]
  },
  {
   "cell_type": "code",
   "execution_count": 7,
   "metadata": {},
   "outputs": [
    {
     "name": "stdout",
     "output_type": "stream",
     "text": [
      "F\n"
     ]
    }
   ],
   "source": [
    "# 35 WAP to check given character is vowel are not .if vowel print next character\n",
    "s='E'\n",
    "if s in 'AEIOUaeiou':\n",
    "        cg=chr(ord(s)+1)\n",
    "        print(cg)"
   ]
  },
  {
   "cell_type": "code",
   "execution_count": 8,
   "metadata": {},
   "outputs": [
    {
     "name": "stdout",
     "output_type": "stream",
     "text": [
      "q\n"
     ]
    }
   ],
   "source": [
    "# 36 WAP to check given character is  not avowel .if  not vowel print prvieous character\n",
    "s='r'\n",
    "if s not in 'AEIOUaeiou':\n",
    "    ch=chr(ord(s)-1)\n",
    "    print(ch)"
   ]
  },
  {
   "cell_type": "code",
   "execution_count": 9,
   "metadata": {},
   "outputs": [
    {
     "name": "stdout",
     "output_type": "stream",
     "text": [
      "True\n"
     ]
    }
   ],
   "source": [
    "# 37 WAP to check given value is asingle value  datatype or not .if single value\n",
    "# display given value as asingle value datatype\n",
    "s=3+5j\n",
    "if type(s) in [int,float,complex,bytes,bool,type(None)]:\n",
    "    print(bool(s))"
   ]
  },
  {
   "cell_type": "code",
   "execution_count": 11,
   "metadata": {},
   "outputs": [
    {
     "name": "stdout",
     "output_type": "stream",
     "text": [
      "('h', 'e', 'l', 'l', 'o')\n"
     ]
    }
   ],
   "source": [
    "# 38 WAP to check given value is a multi value  datatype or not .if multi value\n",
    "# store insidr the tuple\n",
    "s=()\n",
    "t='hello'\n",
    "if type(t) in[str,list,tuple,set,dict]:\n",
    "    s+=tuple(t)\n",
    "    print(s)"
   ]
  },
  {
   "cell_type": "code",
   "execution_count": 17,
   "metadata": {},
   "outputs": [
    {
     "name": "stdout",
     "output_type": "stream",
     "text": [
      "{(10, 20, 40)}\n"
     ]
    }
   ],
   "source": [
    "# 39 WAP TO CHECK GIVEN VALUE IS IMMUTABLE OR NOT.if any immutable datatype \n",
    "# store inside the set\n",
    "b=(10,20,40)\n",
    "t=set()\n",
    "if type(b) in[str,tuple]:\n",
    "        t|={b}\n",
    "        print(t)"
   ]
  },
  {
   "cell_type": "code",
   "execution_count": 18,
   "metadata": {},
   "outputs": [
    {
     "name": "stdout",
     "output_type": "stream",
     "text": [
      "odd 3\n"
     ]
    }
   ],
   "source": [
    "# 40 WAP TO check middle element of given list is odd or not.if it is odd\n",
    "# then print odd and number else print directly number\n",
    "s=[1,2,3,4,5]\n",
    "x=s[len(s)//2]\n",
    "if x%2!=0:\n",
    "    print(\"odd\",x)\n",
    "else :\n",
    "        print(x)"
   ]
  },
  {
   "cell_type": "code",
   "execution_count": 1,
   "metadata": {},
   "outputs": [
    {
     "name": "stdout",
     "output_type": "stream",
     "text": [
      "notgood\n"
     ]
    }
   ],
   "source": [
    "# 41 WAP to  'not' front of original string.return the srting unmodified if 'not' present in the beginning\n",
    "s='good'\n",
    "if  s[0:2+1:]=='not':\n",
    "        print(s)\n",
    "else:\n",
    "        print('not'+s)\n"
   ]
  },
  {
   "cell_type": "code",
   "execution_count": 20,
   "metadata": {},
   "outputs": [
    {
     "name": "stdout",
     "output_type": "stream",
     "text": [
      "140707941708296\n",
      "140707941708296\n"
     ]
    }
   ],
   "source": [
    "# 42  wap to check two varaibles pointing to same memory location or not .\n",
    "# if pointing to same memory locatio print both the varaibles address\n",
    "s=120\n",
    "d=120\n",
    "if s is d:\n",
    "        print(id(s))\n",
    "        print(id(d))\n"
   ]
  },
  {
   "cell_type": "code",
   "execution_count": 21,
   "metadata": {},
   "outputs": [
    {
     "name": "stdout",
     "output_type": "stream",
     "text": [
      "hellowor\n"
     ]
    }
   ],
   "source": [
    "# 43 WAP TO CHECK GIVEN LENGTH OF THE STRING is even or not.if true \n",
    "# display the sequence of characters from zero position to length of collection -2\n",
    "s='helloworld'\n",
    "if len(s)%2==0:\n",
    "        s=s[0:len(s)-2:1]\n",
    "        print(s)"
   ]
  },
  {
   "cell_type": "code",
   "execution_count": 5,
   "metadata": {},
   "outputs": [
    {
     "name": "stdout",
     "output_type": "stream",
     "text": [
      "1020 30\n",
      "1020 30\n"
     ]
    }
   ],
   "source": [
    "# 44 WAP to check the two strings having same values or not .if both same\n",
    "# swap the values one variable to another variable after swapping print the two values.\n",
    "s='1020 30'\n",
    "x='1020 30'\n",
    "if s==x:\n",
    "        s,x==x,s\n",
    "        print(s)\n",
    "        print(x)\n"
   ]
  },
  {
   "cell_type": "code",
   "execution_count": 35,
   "metadata": {},
   "outputs": [
    {
     "name": "stdout",
     "output_type": "stream",
     "text": [
      "{'#': 35}\n"
     ]
    }
   ],
   "source": [
    "# 45WAP to check given character is special symbol or not.if satisfied store the symbol as key and value as asciivalue inside the dict\n",
    "s='#'\n",
    "d={}\n",
    "if not('A'<=s<='Z' or 'a'<=s<='z' or '0'<=s<='9'):\n",
    "        d['#']=ord(s)\n",
    "        print(d)\n"
   ]
  },
  {
   "cell_type": "code",
   "execution_count": 34,
   "metadata": {},
   "outputs": [
    {
     "name": "stdout",
     "output_type": "stream",
     "text": [
      "{'a': 10, 'c': 20, 'b': 100}\n"
     ]
    }
   ],
   "source": [
    "# 46 WAP to check a given key is not present in the dict or not.if key is not prsent,\n",
    "# append new key inside the dict\n",
    "d={'a':10,'c':20}\n",
    "s={'b':100}\n",
    "if 'b' not in d:\n",
    "        d|=s\n",
    "        print(d)\n"
   ]
  },
  {
   "cell_type": "code",
   "execution_count": 28,
   "metadata": {},
   "outputs": [
    {
     "name": "stdout",
     "output_type": "stream",
     "text": [
      "iaih\n"
     ]
    }
   ],
   "source": [
    "# 47 WAP to check given value is string and display new string with first and last characters switched.\n",
    "s='haii'\n",
    "if type(s)==str:\n",
    "    s=s[-1]+s[1:2+1]+s[0]\n",
    "    print(s)"
   ]
  },
  {
   "cell_type": "code",
   "execution_count": 29,
   "metadata": {},
   "outputs": [
    {
     "name": "stdout",
     "output_type": "stream",
     "text": [
      "2\n"
     ]
    }
   ],
   "source": [
    "# 48 WAP to check given number last digit is 2 and print the last digit \n",
    "n=142\n",
    "if n%10==2:\n",
    "    print(n%10)\n"
   ]
  },
  {
   "cell_type": "code",
   "execution_count": 30,
   "metadata": {},
   "outputs": [
    {
     "name": "stdout",
     "output_type": "stream",
     "text": [
      "hii hello 9\n",
      "ram sam 7\n"
     ]
    }
   ],
   "source": [
    "# 49 WAP to check both string collections are equal or not .if not equal\n",
    "#print the both strings along with the length of astring if both equal ignore it\n",
    "s=\"hii hello\"\n",
    "d='ram sam'\n",
    "if s is not d:\n",
    "        print(s,len(s))\n",
    "        print(d,len(d))"
   ]
  }
 ],
 "metadata": {
  "kernelspec": {
   "display_name": "Python 3",
   "language": "python",
   "name": "python3"
  },
  "language_info": {
   "codemirror_mode": {
    "name": "ipython",
    "version": 3
   },
   "file_extension": ".py",
   "mimetype": "text/x-python",
   "name": "python",
   "nbconvert_exporter": "python",
   "pygments_lexer": "ipython3",
   "version": "3.11.4"
  },
  "orig_nbformat": 4
 },
 "nbformat": 4,
 "nbformat_minor": 2
}
