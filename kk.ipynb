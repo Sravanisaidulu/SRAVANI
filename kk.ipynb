{
 "cells": [
  {
   "cell_type": "code",
   "execution_count": 4,
   "metadata": {},
   "outputs": [
    {
     "name": "stdout",
     "output_type": "stream",
     "text": [
      "n110e101r114j106\n"
     ]
    }
   ],
   "source": [
    "# wap to extract only keys  and values from dict and store inside the string\n",
    "d={'n': 110, 'e': 101, 'r': 114, 'j': 106}\n",
    "t=list(d)\n",
    "i=0\n",
    "st=\"\"\n",
    "while i<len(t):\n",
    "    st+=str(t[i])+str(d[t[i]])\n",
    "    i+=1\n",
    "print(st)"
   ]
  },
  {
   "cell_type": "code",
   "execution_count": 2,
   "metadata": {},
   "outputs": [
    {
     "name": "stdout",
     "output_type": "stream",
     "text": [
      "nerj paw\n"
     ]
    }
   ],
   "source": [
    "#wap to extract only keys from dict and store inside the string\n",
    "d={'n': 110, 'e': 101, 'r': 114, 'j': 106, ' ': 32, 'p': 112, 'a': 97, 'w': 119}\n",
    "s= list(d)                                 #str can consider the {}also char to aviode that convert to list then convert to str\n",
    "i=0\n",
    "st=\"\"\n",
    "while i<len(s):\n",
    "    st+=s[i]\n",
    "    i+=1\n",
    "print(st)"
   ]
  },
  {
   "cell_type": "code",
   "execution_count": 5,
   "metadata": {},
   "outputs": [
    {
     "name": "stdout",
     "output_type": "stream",
     "text": [
      "r\n"
     ]
    }
   ],
   "source": [
    "#wap to print heighest char in a str\n",
    "s=\"helloWO123rld\"\n",
    "i=0\n",
    "small='\\n'\n",
    "while i<len(s):\n",
    "    if small<s[i]:\n",
    "        small=s[i]\n",
    "    i+=1\n",
    "print(small)\n",
    "    "
   ]
  },
  {
   "cell_type": "code",
   "execution_count": 8,
   "metadata": {},
   "outputs": [
    {
     "name": "stdout",
     "output_type": "stream",
     "text": [
      "r\n"
     ]
    }
   ],
   "source": [
    "#wap to print heighest char in a str\n",
    "s=\"helloWO123rld\"\n",
    "i=0\n",
    "small=chr(0)\n",
    "while i<len(s):\n",
    "    if small<s[i]:\n",
    "        small=s[i]\n",
    "    i+=1\n",
    "print(small)"
   ]
  },
  {
   "cell_type": "code",
   "execution_count": 6,
   "metadata": {},
   "outputs": [
    {
     "name": "stdout",
     "output_type": "stream",
     "text": [
      "1\n"
     ]
    }
   ],
   "source": [
    "#wap to print lowest char in a str\n",
    "s=\"helloWO123rld\"\n",
    "i=0\n",
    "ch=chr(127)\n",
    "while i<len(s):\n",
    "    if ch>s[i]:\n",
    "        ch=s[i]\n",
    "    i+=1\n",
    "print(ch)"
   ]
  },
  {
   "cell_type": "code",
   "execution_count": 10,
   "metadata": {},
   "outputs": [
    {
     "name": "stdout",
     "output_type": "stream",
     "text": [
      "10\n"
     ]
    }
   ],
   "source": [
    "#wap to find out largest no in the given list\n",
    "l=[10,0.5,3+5j,False,'hello',[10,20],(10,)]\n",
    "i=0\n",
    "small=0\n",
    "while i<len(l):\n",
    "    if type(l[i]) in [int,float] and small<l[i]:\n",
    "        small=l[i]\n",
    "    i+=1\n",
    "print(small)"
   ]
  },
  {
   "cell_type": "code",
   "execution_count": 11,
   "metadata": {},
   "outputs": [
    {
     "name": "stdout",
     "output_type": "stream",
     "text": [
      "r 114\n"
     ]
    }
   ],
   "source": [
    "#wap to find out largest no in the given dict\n",
    "d={'n': 110, 'e': 101, 'r': 114, 'j': 106}\n",
    "t=list(d)\n",
    "i=0\n",
    "ch=\"\"\n",
    "small=0\n",
    "while i<len(t):\n",
    "    if type(d[t[i]]) in [int,float] and small<d[t[i]]:\n",
    "        small=d[t[i]]\n",
    "        ch=t[i]\n",
    "    i+=1\n",
    "print(ch,small)\n"
   ]
  },
  {
   "cell_type": "code",
   "execution_count": 1,
   "metadata": {},
   "outputs": [
    {
     "name": "stdout",
     "output_type": "stream",
     "text": [
      "a 23\n"
     ]
    }
   ],
   "source": [
    "#wap to exract smallest no from the dict\n",
    "d={'h':101,'a':23,'f':67,'j':90}\n",
    "t=list(d)\n",
    "j=d[t[0]]\n",
    "i=1\n",
    "ch=\"\"\n",
    "while i<len(t):\n",
    "    if type(d[t[i]]) in [int,float] and j>d[t[i]]:\n",
    "        j=d[t[i]]\n",
    "        ch=t[i]\n",
    "    i+=1\n",
    "print(ch,j)"
   ]
  },
  {
   "cell_type": "code",
   "execution_count": 16,
   "metadata": {},
   "outputs": [
    {
     "name": "stdout",
     "output_type": "stream",
     "text": [
      "hello haIi WOrld We1v3coMe to py$hOn clAsS\n",
      "Hello Haii World We1V3Come To Py$Hon Class\n"
     ]
    }
   ],
   "source": [
    "# WAP to convert given string to title case\n",
    "st=\"hello haIi WOrld We1v3coMe to py$hOn clAsS\"\n",
    "i=1\n",
    "res=\"\"\n",
    "pos=None\n",
    "if 'a'<=st[0]<='z':\n",
    "    res+=chr(ord(st[0])-32)\n",
    "else:\n",
    "    res+=st[0]\n",
    "while i<(len(st)-1):\n",
    "    if st[i]==\" \" or '0'<=st[i]<='9' or not('A'<=st[i]<='Z' or 'a'<=st[i]<='z'):\n",
    "        res+=st[i]\n",
    "        pos=i\n",
    "        if 'a'<=st[pos+1]<='z':         \n",
    "            res+=chr(ord(st[pos+1])-32)\n",
    "        else:\n",
    "            res+=st[pos+1]\n",
    "        i+=1\n",
    "    elif 'A'<=st[i]<='Z':\n",
    "        res+=chr(ord(st[i])+32)\n",
    "    else:\n",
    "        res+=st[i]   \n",
    "\n",
    "    i+=1\n",
    "if 'A'<=st[-1]<='Z':\n",
    "   res+=chr(ord(st[-1])+32)\n",
    "else:\n",
    "    res+=st[-1]\n",
    "print(st)\n",
    "print(res)\n",
    "\n",
    "\n",
    "\n"
   ]
  },
  {
   "cell_type": "code",
   "execution_count": 1,
   "metadata": {},
   "outputs": [
    {
     "name": "stdout",
     "output_type": "stream",
     "text": [
      "eoo123aii\n"
     ]
    }
   ],
   "source": [
    "# 121 i/p \"hello world 123 haii\" o/p 'eoo123aii'\n",
    "i=\"hello world 123 haii\"\n",
    "x=0\n",
    "ref=\"\"\n",
    "while x<len(i):\n",
    "    if i[x] in 'AEIOUaeiou':\n",
    "        ref+=i[x]\n",
    "    elif '0'<=i[x]<='9':\n",
    "        ref+=i[x]\n",
    "    x+=1\n",
    "print(ref)\n"
   ]
  },
  {
   "cell_type": "code",
   "execution_count": 2,
   "metadata": {},
   "outputs": [
    {
     "name": "stdout",
     "output_type": "stream",
     "text": [
      "eo o 123 aii\n"
     ]
    }
   ],
   "source": [
    "# 122 i/p \"hello world 123 haii\" o/p 'eo o 123 aii'\n",
    "i=\"hello world 123 haii\"\n",
    "s=0\n",
    "ref=\"\"\n",
    "while s<len(i):\n",
    "    if i[s] in 'aeiouAEIOU' or '0'<=i[s]<='9':\n",
    "        ref+=i[s]\n",
    "    elif i[s]==' ':\n",
    "        ref+=i[s]\n",
    "    s+=1\n",
    "print(ref)"
   ]
  },
  {
   "cell_type": "code",
   "execution_count": 3,
   "metadata": {},
   "outputs": [
    {
     "name": "stdout",
     "output_type": "stream",
     "text": [
      "eo o  aii\n"
     ]
    }
   ],
   "source": [
    "# 123 i/p 'hello world 123 haii' o/p'eo o aii'\n",
    "st='hello world 123 haii'\n",
    "i=0\n",
    "ref=\"\"\n",
    "while i<len(st):\n",
    "    if st[i] in 'aeiou' or st[i]==' ':\n",
    "        ref+=st[i]\n",
    "    i+=1\n",
    "print(ref)\n"
   ]
  },
  {
   "cell_type": "code",
   "execution_count": 8,
   "metadata": {},
   "outputs": [],
   "source": [
    "# 124 i/p 'hello world 123 haii' o/p 'hll world haii'\n",
    "ip=\"hello world 123 haii\"\n",
    "x=0\n",
    "ref=\"\"\n"
   ]
  },
  {
   "cell_type": "code",
   "execution_count": 10,
   "metadata": {},
   "outputs": [
    {
     "name": "stdout",
     "output_type": "stream",
     "text": [
      "hll wrld\n",
      "eoo\n"
     ]
    }
   ],
   "source": [
    "# 125 i/p \"hello world\" o/p=\"hll wrld\" ,\"eoo\"\n",
    "st=\"hello world\"\n",
    "con=\"\"\n",
    "v=\"\"\n",
    "x=0\n",
    "while x<len(st):\n",
    "    if st[x] in 'AEIOUaeiou':\n",
    "        v+=st[x]\n",
    "    else:\n",
    "        con+=st[x]\n",
    "    x+=1\n",
    "print(con)\n",
    "print(v)"
   ]
  },
  {
   "cell_type": "code",
   "execution_count": 11,
   "metadata": {},
   "outputs": [
    {
     "name": "stdout",
     "output_type": "stream",
     "text": [
      "hll wrld\n",
      "eoo\n",
      "12344\n"
     ]
    }
   ],
   "source": [
    "# 126 i/p '12hello3 4world4' o/p 'hll wrld','eoo','12344'\n",
    "st=\"12hello3 4world4\"\n",
    "c=\"\"\n",
    "v=\"\"\n",
    "n=\"\"\n",
    "i=0\n",
    "while i<len(st):\n",
    "    if st[i] in 'aeiouAEIOU':\n",
    "        v+=st[i]\n",
    "    elif '0'<=st[i]<='9':\n",
    "        n+=st[i]\n",
    "    elif st[i] not in 'aeiouAEIOU':\n",
    "        c+=st[i]\n",
    "    i+=1\n",
    "print(c)\n",
    "print(v)\n",
    "print(n)"
   ]
  },
  {
   "cell_type": "code",
   "execution_count": 16,
   "metadata": {},
   "outputs": [
    {
     "name": "stdout",
     "output_type": "stream",
     "text": [
      "hllwrld\n",
      "eoo\n",
      "12344\n",
      "(*$ $#*)\n"
     ]
    }
   ],
   "source": [
    "#127 i/p '(*12hello3$ $4#world4*) op 'hllwrld' 'eoo' '12344' '(*$ $#*)\n",
    "st=\"(*12hello3$ $4#world4*)\"\n",
    "c,v,n,s=\"\",\"\",\"\",\"\"\n",
    "i=0\n",
    "while i<len(st):\n",
    "    if st[i] in 'AEIOUaeiou':\n",
    "        v+=st[i]\n",
    "    elif '0'<=st[i]<='9':\n",
    "        n+=st[i]\n",
    "    elif not('A'<=st[i]<='z' or 'a'<=st[i]<'z' or '0'<=st[i]<='9'):\n",
    "        s+=st[i]\n",
    "    else:\n",
    "        c+=st[i]\n",
    "    i+=1\n",
    "print(c)\n",
    "print(v)\n",
    "print(n)\n",
    "print(s)\n"
   ]
  },
  {
   "cell_type": "code",
   "execution_count": 21,
   "metadata": {},
   "outputs": [
    {
     "name": "stdout",
     "output_type": "stream",
     "text": [
      ")*#$ $*(,44321,ooe,dlrwllh\n"
     ]
    }
   ],
   "source": [
    "#128 i/p (*12hello3$ $4#world4*) \n",
    "st=\"(*12hello3$ $4#world4*)\"\n",
    "c,v,n,s,t=\"\",\"\",\"\",\"\",\"\"\n",
    "i=-1\n",
    "while i>=(-len(st)):\n",
    "    if st[i] in 'AEIOUaeiou':\n",
    "        v+=st[i]\n",
    "    elif '0'<=st[i]<='9':\n",
    "        n+=st[i]\n",
    "    elif not('a'<=st[i]<='z' or 'A'<=st[i]<='Z' or '0'<=st[i]<='9'):\n",
    "        s+=st[i]\n",
    "    else:\n",
    "        c+=st[i]\n",
    "    i-=1\n",
    "t+=s+','+n+','+v+','+c\n",
    "print(t)\n"
   ]
  },
  {
   "cell_type": "code",
   "execution_count": 24,
   "metadata": {},
   "outputs": [
    {
     "name": "stdout",
     "output_type": "stream",
     "text": [
      "hllwrld,eoo,12344,(*$ $#*)\n"
     ]
    }
   ],
   "source": [
    "#129 i/p (*12hello3$ $4#world4*) \n",
    "st=\"(*12hello3$ $4#world4*)\"\n",
    "c,v,n,s,t=\"\",\"\",\"\",\"\",\"\"\n",
    "i=0\n",
    "while i<len(st):\n",
    "    if st[i] in 'AEIOUaeiou':\n",
    "        v+=st[i]\n",
    "    elif '0'<=st[i]<='9':\n",
    "        n+=st[i]\n",
    "    elif not('a'<=st[i]<='z' or 'A'<=st[i]<='Z' or '0'<=st[i]<='9'):\n",
    "        s+=st[i]\n",
    "    else:\n",
    "        c+=st[i]\n",
    "    i+=1\n",
    "t+=c+','+v+','+n+','+s\n",
    "print(t)"
   ]
  },
  {
   "cell_type": "code",
   "execution_count": 25,
   "metadata": {},
   "outputs": [
    {
     "name": "stdout",
     "output_type": "stream",
     "text": [
      "hllwrld, )*#$ $*(,eoo,44321\n"
     ]
    }
   ],
   "source": [
    "#130 i/p (*12hello3$ $4#world4*) \n",
    "st=\"(*12hello3$ $4#world4*) \"\n",
    "c,v,n,s,t=\"\",\"\",\"\",\"\",\"\"\n",
    "i=0\n",
    "while i<len(st):\n",
    "    if st[i] in 'AEIOUaeiou':\n",
    "        v+=st[i]\n",
    "    elif '0'<=st[i]<='9':\n",
    "        n+=st[i]\n",
    "    elif not('a'<=st[i]<='z' or 'A'<=st[i]<='Z' or '0'<=st[i]<='9'):\n",
    "        s+=st[i]\n",
    "    else:\n",
    "        c+=st[i]\n",
    "    i+=1\n",
    "t+=c+','+s[::-1]+','+v+','+n[::-1]\n",
    "print(t)"
   ]
  },
  {
   "cell_type": "code",
   "execution_count": 26,
   "metadata": {},
   "outputs": [
    {
     "name": "stdout",
     "output_type": "stream",
     "text": [
      "dlrwllh, )*#$ $*(,ooe,44321\n"
     ]
    }
   ],
   "source": [
    "#131 i/p (*12hello3$ $4#world4*)\n",
    "c,v,n,s,t=\"\",\"\",\"\",\"\",\"\"\n",
    "i=-1\n",
    "while i>=(-len(st)):\n",
    "    if st[i] in 'AEIOUaeiou':\n",
    "        v+=st[i]\n",
    "    elif '0'<=st[i]<='9':\n",
    "        n+=st[i]\n",
    "    elif not('a'<=st[i]<='z' or 'A'<=st[i]<='Z' or '0'<=st[i]<='9'):\n",
    "        s+=st[i]\n",
    "    else:\n",
    "        c+=st[i]\n",
    "    i-=1\n",
    "t+=c+','+s+','+v+','+n\n",
    "print(t)\n"
   ]
  },
  {
   "cell_type": "code",
   "execution_count": 2,
   "metadata": {},
   "outputs": [
    {
     "name": "stdout",
     "output_type": "stream",
     "text": [
      "dlrwllh)*#$ $*(ooe44321\n"
     ]
    }
   ],
   "source": [
    "# 132 i/p (*12hello3$ $4#world4*)\n",
    "st=\"(*12hello3$ $4#world4*)\"\n",
    "c,v,n,s,t=\"\",\"\",\"\",\"\",\"\"\n",
    "i=-1\n",
    "while i>=(-len(st)):\n",
    "    if st[i] in 'AEIOUaeiou':\n",
    "        v+=st[i]\n",
    "    elif '0'<=st[i]<='9':\n",
    "        n+=st[i]\n",
    "    elif not('a'<=st[i]<='z' or 'A'<=st[i]<='Z' or '0'<=st[i]<='9'):\n",
    "        s+=st[i]\n",
    "    else:\n",
    "        c+=st[i]\n",
    "    i-=1\n",
    "t+=c+s+v+n\n",
    "print(t)"
   ]
  },
  {
   "cell_type": "code",
   "execution_count": 4,
   "metadata": {},
   "outputs": [
    {
     "name": "stdout",
     "output_type": "stream",
     "text": [
      "h$ll*w*rld\n"
     ]
    }
   ],
   "source": [
    "# 133 i/p HELLOWORLD\n",
    "st=\"HELLOWORLD\"\n",
    "i=0\n",
    "ref=\"\"\n",
    "while i<len(st):\n",
    "    if st[i] not in 'AEIOU':\n",
    "        ref+=chr(ord(st[i])+32)\n",
    "    elif st[i]=='E':\n",
    "        ref+=\"$\"\n",
    "    elif st[i]=='O':\n",
    "        ref+=\"*\"\n",
    "    i+=1\n",
    "print(ref)"
   ]
  },
  {
   "cell_type": "code",
   "execution_count": 11,
   "metadata": {},
   "outputs": [
    {
     "name": "stdout",
     "output_type": "stream",
     "text": [
      "hll@wrld21\n"
     ]
    }
   ],
   "source": [
    "# 134 i/p 123HELLO WORLD456\n",
    "st=\"123HELLO WORLD456\"\n",
    "c,n,ref=\"\",\"\",\"\"\n",
    "i=0\n",
    "while i<len(st):\n",
    "    if '0'<=st[i]<='9':\n",
    "        n+=st[i]\n",
    "    elif st[i] not in 'AEIOU':\n",
    "        c+=chr(ord(st[i])+32)\n",
    "    i+=1\n",
    "ref+=c+n[(-len(n)+1):(-len(n)-1):-1]\n",
    "print(ref)\n"
   ]
  },
  {
   "cell_type": "code",
   "execution_count": 13,
   "metadata": {},
   "outputs": [
    {
     "name": "stdout",
     "output_type": "stream",
     "text": [
      "123hEllO wOrld456\n"
     ]
    }
   ],
   "source": [
    "# 135 i/p 123HELLO WORLD456\n",
    "st=\"123HELLO WORLD456\"\n",
    "ref=\"\"\n",
    "i=0\n",
    "while i<len(st):\n",
    "    if '0'<=st[i]<='9':\n",
    "        ref+=st[i]\n",
    "    elif st[i] in 'AEIOU':\n",
    "        ref+=st[i]\n",
    "    elif not('A'<=st[i]<='Z' or 'a'<=st[i]<='z' or '0'<=st[i]<='9'):\n",
    "        ref+=st[i]\n",
    "    elif st[i] not in 'AEIOU':\n",
    "        ref+=chr(ord(st[i])+32)\n",
    "    i+=1\n",
    "print(ref)\n",
    "    "
   ]
  },
  {
   "cell_type": "code",
   "execution_count": 22,
   "metadata": {},
   "outputs": [
    {
     "name": "stdout",
     "output_type": "stream",
     "text": [
      "321hEllO wOrld654\n"
     ]
    }
   ],
   "source": [
    "# 136 i/p 123HELLO WORLD456\n",
    "st=\"123HELLO WORLD456\"\n",
    "ref=\"\"\n",
    "#n,c=\"\",\"\"\n",
    "i=0\n",
    "while i<len(st):\n",
    "    if '0'<=st[i]<='9':\n",
    "        ref+=st[i]\n",
    "    elif st[i] in 'AEIOU':\n",
    "        ref+=st[i]\n",
    "    elif not('A'<=st[i]<='Z' or 'a'<=st[i]<='z' or '0'<=st[i]<='9'):\n",
    "        ref+=st[i]\n",
    "    elif st[i] not in 'AEIOU':\n",
    "        ref+=chr(ord(st[i])+32)\n",
    "    i+=1\n",
    "#ref+=n[2::-1]+c+n[len(n)-1:2:-1]\n",
    "ref=ref[2::-1]+ref[3:len(ref)-3:1]+ref[-1:-4:-1]\n",
    "print(ref)"
   ]
  },
  {
   "cell_type": "code",
   "execution_count": 25,
   "metadata": {},
   "outputs": [
    {
     "name": "stdout",
     "output_type": "stream",
     "text": [
      "321*E**O**O***654\n"
     ]
    }
   ],
   "source": [
    "# 137 i/p 123HELLO WORLD456\n",
    "st=\"123HELLO WORLD456\"\n",
    "ref=\"\"\n",
    "i=0\n",
    "while i<len(st):\n",
    "    if '0'<=st[i]<='9':\n",
    "        ref+=st[i]\n",
    "    elif st[i]  in 'AEIOU':\n",
    "        ref+=st[i]\n",
    "    else:\n",
    "        ref+='*'\n",
    "    i+=1\n",
    "ref=ref[2::-1]+ref[3:len(ref)-3:1]+ref[-1:-4:-1]\n",
    "print(ref)"
   ]
  },
  {
   "cell_type": "code",
   "execution_count": 26,
   "metadata": {},
   "outputs": [
    {
     "name": "stdout",
     "output_type": "stream",
     "text": [
      "123*E**O**O***456\n"
     ]
    }
   ],
   "source": [
    "# 138 i/p 123HELLO WORLD456\n",
    "t=\"123HELLO WORLD456\"\n",
    "r=\"\"\n",
    "i=0\n",
    "while i<len(t):\n",
    "    if '0'<=t[i]<='9':\n",
    "        r+=t[i]\n",
    "    elif t[i] in 'AEIOU':\n",
    "        r+=t[i]\n",
    "    else:\n",
    "        r+=\"*\"\n",
    "    i+=1\n",
    "print(r)"
   ]
  },
  {
   "cell_type": "code",
   "execution_count": null,
   "metadata": {},
   "outputs": [],
   "source": [
    "# 140 i/p 'abc i/p 'xyz' op 'axbycz'\n",
    "n='abc'\n",
    "m='xyz'\n",
    "ref=\"\"\n",
    "i=0\n",
    "while i<len(n):\n",
    "    "
   ]
  },
  {
   "cell_type": "code",
   "execution_count": 15,
   "metadata": {},
   "outputs": [
    {
     "name": "stdout",
     "output_type": "stream",
     "text": [
      "hello\n",
      "world\n",
      "guys\n"
     ]
    }
   ],
   "source": [
    "st=\"hello world guys\"\n",
    "i=0\n",
    "pos=\"\"\n",
    "while i<len(st):\n",
    "    if st[i]!=\" \":\n",
    "        pos+=st[i]\n",
    "    else:\n",
    "        print(pos)\n",
    "        pos=\"\"\n",
    "    i+=1\n",
    "print(pos)"
   ]
  },
  {
   "cell_type": "code",
   "execution_count": 2,
   "metadata": {},
   "outputs": [
    {
     "name": "stdout",
     "output_type": "stream",
     "text": [
      "['haii', 'how', 'are', 'you', 'sravani']\n"
     ]
    }
   ],
   "source": [
    "# 156 wap progtam to split the sentences in a given string \n",
    "st='haii how are you sravani'\n",
    "i=0\n",
    "res=\"\"\n",
    "l=[]\n",
    "while i<len(st):\n",
    "    if st[i]!=\" \":\n",
    "        res+=st[i]\n",
    "    else:\n",
    "        if len(res)!=0:\n",
    "            l+=[res]\n",
    "            res=\"\"\n",
    "        \n",
    "    i+=1\n",
    "if len(res)!=0:\n",
    "    l+=[res]\n",
    "print(l)\n",
    "\n",
    "        \n"
   ]
  },
  {
   "cell_type": "code",
   "execution_count": 6,
   "metadata": {},
   "outputs": [
    {
     "name": "stdout",
     "output_type": "stream",
     "text": [
      "hello\n",
      "world\n",
      "hai\n",
      "123\n",
      "^&@\n",
      "\n"
     ]
    }
   ],
   "source": [
    "# wap to extract each word from the string\n",
    "st=\" hello  world hai 123 ^&@ \"\n",
    "res=\"\"\n",
    "i=0\n",
    "while i<len(st):\n",
    "    if st[i]!=\" \":\n",
    "        res+=st[i]\n",
    "    else:\n",
    "        if len(res)!=0:\n",
    "            print(res)\n",
    "            res=\"\"\n",
    "    i+=1\n",
    "print(res)\n",
    "\n"
   ]
  },
  {
   "cell_type": "code",
   "execution_count": 8,
   "metadata": {},
   "outputs": [
    {
     "name": "stdout",
     "output_type": "stream",
     "text": [
      "['hello', 'world', 'hai', '123', '^&@']\n"
     ]
    }
   ],
   "source": [
    "st=\" hello  world hai 123 ^&@ \"\n",
    "res=\"\"\n",
    "l=[]\n",
    "i=0\n",
    "while i<len(st):\n",
    "    if st[i]!=\" \":\n",
    "        res+=st[i]\n",
    "    else:\n",
    "        if len(res)!=0:\n",
    "            l+=[res]\n",
    "            res=\"\"\n",
    "    i+=1\n",
    "print(l)\n"
   ]
  },
  {
   "cell_type": "code",
   "execution_count": 10,
   "metadata": {},
   "outputs": [
    {
     "name": "stdout",
     "output_type": "stream",
     "text": [
      "['hello world', 'qwertdfjkpoiuhg', 'dfgvbnm']\n"
     ]
    }
   ],
   "source": [
    "# WAP to segrigate the line in the doc string\n",
    "s=\"hello world\\nqwertdfjkpoiuhg\\ndfgvbnm\"\n",
    "i=0\n",
    "l=[]\n",
    "res=\"\"\n",
    "while i<len(s):\n",
    "    if s[i]!=\"\\n\":\n",
    "        res+=s[i]\n",
    "    else:\n",
    "        if len(res)!=0:\n",
    "            l+=[res]\n",
    "            res=\"\"\n",
    "    i+=1\n",
    "if len(res)!=0:\n",
    "    l+=[res]\n",
    "print(l)"
   ]
  },
  {
   "cell_type": "code",
   "execution_count": 19,
   "metadata": {},
   "outputs": [
    {
     "name": "stdout",
     "output_type": "stream",
     "text": [
      "['hello', 'haii', 'world', 'i', 'love', 'india', 'i', 'like', 'python']\n",
      "hwilp\n",
      "[['hello', 'haii'], ['world'], ['i', 'india', 'i'], ['love', 'like'], ['python']]\n"
     ]
    }
   ],
   "source": [
    "st='hello haii world i love india i like python'\n",
    "#op[['hello','haii'],['world],['i','i','india'],['love','like'],['python]]\n",
    "i=0\n",
    "res=\"\"\n",
    "l=[]\n",
    "while i<len(st):\n",
    "    if st[i]!=\" \":\n",
    "        res+=st[i]\n",
    "    else:\n",
    "        if len(res)!=0:\n",
    "            l+=[res]\n",
    "            res=\"\"\n",
    "    i+=1\n",
    "if len(res)!=0:\n",
    "    l+=[res]\n",
    "print(l)\n",
    "uni=\"\"\n",
    "x=0\n",
    "while x<len(l):\n",
    "    if l[x][0] not in uni:\n",
    "        uni+=l[x][0]\n",
    "    x+=1\n",
    "print(uni)\n",
    "d=[]\n",
    "j=0\n",
    "while j<len(uni):\n",
    "    d+=[[]]\n",
    "    p=0\n",
    "    while p<len(l):\n",
    "        if uni[j]==l[p][0]:\n",
    "            d[-1]+=[l[p]]\n",
    "        p+=1\n",
    "    j+=1\n",
    "print(d)\n"
   ]
  },
  {
   "cell_type": "code",
   "execution_count": 4,
   "metadata": {},
   "outputs": [
    {
     "name": "stdout",
     "output_type": "stream",
     "text": [
      "['hello', 'haii', 'world', 'i', 'love', 'india', 'i', 'like', 'python']\n",
      "[5, 4, 1, 6]\n",
      "[['hello', 'world', 'india'], ['haii', 'love', 'like'], ['i', 'i'], ['python']]\n"
     ]
    }
   ],
   "source": [
    "st='hello haii world i love india i like python'\n",
    "#op [['haii','love','like'],['hello','world','india'],['python'],['i','i']]\n",
    "i=0\n",
    "res=\"\"\n",
    "l=[]\n",
    "while i<len(st):\n",
    "    if st[i]!=\" \":\n",
    "        res+=st[i]\n",
    "    else:\n",
    "        if len(res)!=0:\n",
    "            l+=[res]\n",
    "            res=\"\"\n",
    "    i+=1\n",
    "if len(res)!=0:\n",
    "    l+=[res]\n",
    "print(l)\n",
    "j=0\n",
    "u=[]\n",
    "while j<len(l):\n",
    "    if len(l[j]) not in u:\n",
    "        u=u+[len(l[j])]\n",
    "\n",
    "    j+=1\n",
    "print(u)\n",
    "x=0\n",
    "d=[]\n",
    "while x<len(u):\n",
    "    k=0\n",
    "    d+=[[]]\n",
    "    while k<len(l):\n",
    "        if u[x]==len(l[k]):\n",
    "            d[-1]+=[l[k]]\n",
    "        k+=1\n",
    "    x+=1\n",
    "print(d)\n",
    "\n",
    "\n",
    "\n"
   ]
  },
  {
   "cell_type": "code",
   "execution_count": 43,
   "metadata": {},
   "outputs": [
    {
     "name": "stdout",
     "output_type": "stream",
     "text": [
      "['qsp@gmail.com', 'pys@gmail.com']\n",
      "['@gmail.com', '@gmail.com']\n"
     ]
    }
   ],
   "source": [
    "st='qsp@gmail.com pys@gmail.com'\n",
    "s=\"\"\n",
    "l=[]\n",
    "i=0\n",
    "while i<len(st):\n",
    "    if st[i]!=' ':\n",
    "        s+=st[i]\n",
    "    else:\n",
    "        if len(s)!=0:\n",
    "            l+=[s]\n",
    "            s=\"\"\n",
    "    i+=1\n",
    "if len(s)!=0:\n",
    "    l+=[s]\n",
    "print(l)\n",
    "x=0\n",
    "d=''\n",
    "m=[]\n",
    "while x<len(l):\n",
    "    j=0\n",
    "    while j<len(l[x]):\n",
    "        if l[x][j]=='@':\n",
    "            d+=l[x][j:]\n",
    "        else:\n",
    "            if len(d)!=0:\n",
    "                m+=[d]\n",
    "                d=\"\"\n",
    "        j+=1\n",
    "    x+=1\n",
    "if len(d)!=0:\n",
    "    m+=[d]\n",
    "print(m)\n"
   ]
  },
  {
   "cell_type": "code",
   "execution_count": 6,
   "metadata": {},
   "outputs": [
    {
     "name": "stdout",
     "output_type": "stream",
     "text": [
      "153\n",
      "1634\n"
     ]
    }
   ],
   "source": [
    "#WAP to to find armstrong no in given list[15,850,1634,568]\n",
    "l=[153,850,1634,568]\n",
    "i=0\n",
    "while i<len(l):\n",
    "    n=l[i]\n",
    "    te=n\n",
    "    count=0\n",
    "    while te:\n",
    "        count+=1\n",
    "        te=te//10\n",
    "    ar=n\n",
    "    sum=0\n",
    "    while ar:\n",
    "        ld=ar%10\n",
    "        sum+=ld**count\n",
    "        ar=ar//10\n",
    "    if sum==n:\n",
    "        print(n)\n",
    "    i+=1\n",
    "\n",
    "\n",
    "\n"
   ]
  },
  {
   "cell_type": "code",
   "execution_count": 17,
   "metadata": {},
   "outputs": [
    {
     "name": "stdout",
     "output_type": "stream",
     "text": [
      "['python', 'is', 'a', 'language']\n",
      "[6, 2, 1, 8]\n",
      "8\n",
      "1\n",
      "a\n",
      "language\n"
     ]
    }
   ],
   "source": [
    "#wap to print largest word and smallest word in the given string\n",
    "st=\"python is a language\"\n",
    "i=0\n",
    "res=\"\"\n",
    "l=[]\n",
    "while i<len(st):\n",
    "    if st[i]!=\" \":\n",
    "        res+=st[i]\n",
    "    else:\n",
    "        if len(res)!=0:\n",
    "            l+=[res]\n",
    "            res=\"\"\n",
    "    i+=1\n",
    "if len(res)!=0:\n",
    "    l+=[res]\n",
    "print(l)\n",
    "u=[]\n",
    "x=0\n",
    "while x<len(l):\n",
    "    if len(l[x]) not in u:\n",
    "        u+=[len(l[x])]\n",
    "    x+=1\n",
    "print(u)\n",
    "y=0\n",
    "small=0\n",
    "high=0\n",
    "while y<len(u):\n",
    "    if small<u[y]:\n",
    "        small=u[y]\n",
    "    else:\n",
    "        high=u[y]\n",
    "    y+=1\n",
    "print(small)\n",
    "print(high)\n",
    "z=0\n",
    "while z<len(l):\n",
    "    if small==len(l[z]):\n",
    "        print(l[z])\n",
    "    elif high==len(l[z]):\n",
    "        print(l[z])\n",
    "    z+=1\n",
    "\n",
    "\n",
    "    \n"
   ]
  },
  {
   "cell_type": "code",
   "execution_count": 19,
   "metadata": {},
   "outputs": [
    {
     "name": "stdout",
     "output_type": "stream",
     "text": [
      "3\n"
     ]
    }
   ],
   "source": [
    "a=123456789\n",
    "b=str(a)\n",
    "n=7\n",
    "g=10\n",
    "while n:\n",
    "    i=0\n",
    "    h=0\n",
    "    while i<len(b):\n",
    "        if int(b[i])>h and int(b[i])<g:\n",
    "            h=int(b[i])\n",
    "        i+=1\n",
    "    g=h\n",
    "    n-=1\n",
    "print(h)"
   ]
  },
  {
   "cell_type": "code",
   "execution_count": 22,
   "metadata": {},
   "outputs": [
    {
     "name": "stdout",
     "output_type": "stream",
     "text": [
      "a b c\n",
      "b c d\n",
      "c d e\n",
      "d e f\n"
     ]
    },
    {
     "ename": "IndexError",
     "evalue": "string index out of range",
     "output_type": "error",
     "traceback": [
      "\u001b[1;31m---------------------------------------------------------------------------\u001b[0m",
      "\u001b[1;31mIndexError\u001b[0m                                Traceback (most recent call last)",
      "\u001b[1;32mc:\\Users\\sravani\\OneDrive\\Documents\\GitHub\\SRAVANI\\kk.ipynb Cell 39\u001b[0m line \u001b[0;36m5\n\u001b[0;32m      <a href='vscode-notebook-cell:/c%3A/Users/sravani/OneDrive/Documents/GitHub/SRAVANI/kk.ipynb#X53sZmlsZQ%3D%3D?line=2'>3</a>\u001b[0m i\u001b[39m=\u001b[39m\u001b[39m0\u001b[39m\n\u001b[0;32m      <a href='vscode-notebook-cell:/c%3A/Users/sravani/OneDrive/Documents/GitHub/SRAVANI/kk.ipynb#X53sZmlsZQ%3D%3D?line=3'>4</a>\u001b[0m \u001b[39mwhile\u001b[39;00m i\u001b[39m<\u001b[39m\u001b[39mlen\u001b[39m(st):\n\u001b[1;32m----> <a href='vscode-notebook-cell:/c%3A/Users/sravani/OneDrive/Documents/GitHub/SRAVANI/kk.ipynb#X53sZmlsZQ%3D%3D?line=4'>5</a>\u001b[0m     \u001b[39mif\u001b[39;00m \u001b[39mlen\u001b[39m(st)\u001b[39m-\u001b[39m\u001b[39m1\u001b[39m\u001b[39m!=\u001b[39mi \u001b[39mand\u001b[39;00m st[i]\u001b[39m==\u001b[39m\u001b[39mchr\u001b[39m(\u001b[39mord\u001b[39m(st[i\u001b[39m+\u001b[39m\u001b[39m1\u001b[39m])\u001b[39m-\u001b[39m\u001b[39m1\u001b[39m) \u001b[39mand\u001b[39;00m st[i\u001b[39m+\u001b[39m\u001b[39m1\u001b[39m]\u001b[39m==\u001b[39m\u001b[39mchr\u001b[39m(\u001b[39mord\u001b[39m(st[i\u001b[39m+\u001b[39;49m\u001b[39m2\u001b[39;49m])\u001b[39m-\u001b[39m\u001b[39m1\u001b[39m):\n\u001b[0;32m      <a href='vscode-notebook-cell:/c%3A/Users/sravani/OneDrive/Documents/GitHub/SRAVANI/kk.ipynb#X53sZmlsZQ%3D%3D?line=5'>6</a>\u001b[0m         \u001b[39mprint\u001b[39m(st[i],st[i\u001b[39m+\u001b[39m\u001b[39m1\u001b[39m],st[i\u001b[39m+\u001b[39m\u001b[39m2\u001b[39m])\n\u001b[0;32m      <a href='vscode-notebook-cell:/c%3A/Users/sravani/OneDrive/Documents/GitHub/SRAVANI/kk.ipynb#X53sZmlsZQ%3D%3D?line=6'>7</a>\u001b[0m     i\u001b[39m+\u001b[39m\u001b[39m=\u001b[39m\u001b[39m1\u001b[39m\n",
      "\u001b[1;31mIndexError\u001b[0m: string index out of range"
     ]
    }
   ],
   "source": [
    "#wap to count the sequence characters in given string.The minimum sequence character count is 3\n",
    "st=\"abcdefst\"\n",
    "i=0\n",
    "while i<len(st):\n",
    "    if len(st)-1!=i and st[i]==chr(ord(st[i+1])-1) and st[i+1]==chr(ord(st[i+2])-1):\n",
    "        print(st[i],st[i+1],st[i+2])\n",
    "    i+=1"
   ]
  },
  {
   "cell_type": "code",
   "execution_count": 1,
   "metadata": {},
   "outputs": [
    {
     "name": "stdout",
     "output_type": "stream",
     "text": [
      "['maths', 'science', 'english', 'social', 'hindi']\n",
      "67 hindi\n",
      "99 english\n"
     ]
    }
   ],
   "source": [
    "#wap to find the min marks and max marks\n",
    "d={'maths':96,'science':78,'english':99,'social':95,'hindi':67}\n",
    "l=list(d)\n",
    "print(l)\n",
    "i=0\n",
    "max=100\n",
    "min=0\n",
    "ch=\"\"\n",
    "ld=\"\"\n",
    "while i<len(l):\n",
    "    if max>d[l[i]]:\n",
    "        max=d[l[i]]\n",
    "        ch=l[i]\n",
    "    elif min<d[l[i]]:\n",
    "        min=d[l[i]]\n",
    "        ld=l[i]\n",
    "    i+=1\n",
    "print(max,ch)\n",
    "print(min,ld)"
   ]
  },
  {
   "cell_type": "code",
   "execution_count": 2,
   "metadata": {},
   "outputs": [
    {
     "name": "stdout",
     "output_type": "stream",
     "text": [
      "pYTHON@1234\n"
     ]
    }
   ],
   "source": [
    "#i/p='Python@1234' o/p='pYTHON@1234'\n",
    "st='Python@1234'\n",
    "i=1\n",
    "res=\"\"\n",
    "if 'A'<=st[0]<='Z':\n",
    "    res+=chr(ord(st[0])+32)\n",
    "else:\n",
    "    res+=st[0]\n",
    "while i<len(st):\n",
    "    if 'a'<=st[i]<='z':\n",
    "        res+=chr(ord(st[i])-32)\n",
    "    else:\n",
    "        res+=st[i]\n",
    "    i+=1\n",
    "print(res)\n"
   ]
  },
  {
   "cell_type": "code",
   "execution_count": 2,
   "metadata": {},
   "outputs": [
    {
     "name": "stdout",
     "output_type": "stream",
     "text": [
      "6 [1, 2, 3]\n",
      "15 [4, 5, 6]\n",
      "24 [7, 8, 9]\n"
     ]
    }
   ],
   "source": [
    "#i/p=[[1,2,3],[4,5,6],[7,8,9]] op=6,15,24\n",
    "l=[[1,2,3],[4,5,6],[7,8,9]]\n",
    "i=0\n",
    "while i<len(l):\n",
    "    sum=0\n",
    "    x=0\n",
    "    while x<len(l[i]):\n",
    "        sum+=l[i][x]\n",
    "        x+=1\n",
    "    print(sum,l[i])\n",
    "    i+=1"
   ]
  },
  {
   "cell_type": "code",
   "execution_count": 1,
   "metadata": {},
   "outputs": [
    {
     "name": "stdout",
     "output_type": "stream",
     "text": [
      "28\n",
      "80\n",
      "162\n"
     ]
    }
   ],
   "source": [
    "#i/p=[[1,2,3],[4,5,6],[7,8,9]] op=28,80,182\n",
    "l=[[1,2,3],[4,5,6],[7,8,9]]\n",
    "i=0\n",
    "while i<len(l[0]):\n",
    "    prod=1\n",
    "    x=0\n",
    "    while x<len(l):\n",
    "        prod*=l[x][i]\n",
    "        x+=1\n",
    "    print(prod)\n",
    "    i+=1\n"
   ]
  },
  {
   "cell_type": "code",
   "execution_count": 1,
   "metadata": {},
   "outputs": [
    {
     "name": "stdout",
     "output_type": "stream",
     "text": [
      "aaabbcccc\n"
     ]
    }
   ],
   "source": [
    "#i/p=\"a3b2c4\" o/p=\"aaabbcccc\"\n",
    "st=\"a3b2c4\"\n",
    "res=\"\"\n",
    "i=0\n",
    "while i<len(st):\n",
    "    if len(st)-1!=i:\n",
    "        res+=st[i]*int(st[i+1])\n",
    "    i=i+2\n",
    "print(res)\n"
   ]
  },
  {
   "cell_type": "code",
   "execution_count": 15,
   "metadata": {},
   "outputs": [
    {
     "name": "stdout",
     "output_type": "stream",
     "text": [
      "abc\n",
      "a3b2c3\n"
     ]
    }
   ],
   "source": [
    "#o/p=\"a3b2c4\" i/p=\"aaabbcccc\"\n",
    "st=\"aaabbccc\"\n",
    "i=0\n",
    "res=\"\"\n",
    "while i<len(st):\n",
    "    if st[i] not in res:\n",
    "        res+=st[i]\n",
    "    i+=1\n",
    "print(res)\n",
    "x=0\n",
    "s=\"\"\n",
    "while x<len(res):\n",
    "    count=0\n",
    "    y=0\n",
    "    while y<len(st):\n",
    "        if res[x]==st[y]:\n",
    "            count+=1\n",
    "        y+=1\n",
    "    s=s+res[x]+str(count)\n",
    "    x+=1\n",
    "print(s)\n",
    "\n",
    "\n"
   ]
  },
  {
   "cell_type": "code",
   "execution_count": 6,
   "metadata": {},
   "outputs": [
    {
     "name": "stdout",
     "output_type": "stream",
     "text": [
      "{'a': 3, 'B': 3, 'c': 1, 'd': 4, 'f': 5}\n",
      "Bcd\n",
      "B3c1d4\n"
     ]
    }
   ],
   "source": [
    "#i/p =\"aaaBBBcddddfffff\" o/p=(\"B3\",\"c1\",\"f5\")\n",
    "st=\"aaaBBBcddddfffff\"\n",
    "i=0\n",
    "d={}\n",
    "while i<len(st):\n",
    "    if st[i] not in d:\n",
    "        d[st[i]]=1\n",
    "    else:\n",
    "        d[st[i]]+=1\n",
    "    i+=1\n",
    "print(d)\n",
    "l=str(list(d))\n",
    "x=0\n",
    "res=\"\"\n",
    "while x<len(l):\n",
    "    if l[x] in ['B','c','d']:\n",
    "        res+=l[x]\n",
    "    x+=1\n",
    "print(res)\n",
    "y=0\n",
    "t=\"\"\n",
    "while y<len(res):\n",
    "    z=0\n",
    "    while z<len(l):\n",
    "        if res[y]==l[z]:\n",
    "            t+=(l[z]+str(d[l[z]]))\n",
    "        z+=1\n",
    "    y+=1\n",
    "print(t)\n",
    "\n",
    "\n",
    "    \n",
    "\n"
   ]
  },
  {
   "cell_type": "code",
   "execution_count": 13,
   "metadata": {},
   "outputs": [
    {
     "name": "stdout",
     "output_type": "stream",
     "text": [
      "['hello', 'world', 'welcome', 'to', 'python']\n",
      "{'hello': 5, 'world': 5, 'welcome': 7, 'to': 2, 'python': 6}\n",
      "welcome 7\n"
     ]
    }
   ],
   "source": [
    "#find the longest word \n",
    "st=\"hello world welcome to python\"\n",
    "i=0\n",
    "res=\"\"\n",
    "l=[]\n",
    "while i<len(st):\n",
    "    if st[i]!=\" \":\n",
    "        res+=st[i]\n",
    "    else:\n",
    "        if len(res)!=0:\n",
    "            l+=[res]\n",
    "            res=\"\"\n",
    "    i+=1\n",
    "if len(res)!=0:\n",
    "    l+=[res]\n",
    "print(l)\n",
    "uni={}\n",
    "x=0\n",
    "while x<len(l):\n",
    "    if len(l[x]) not in uni:\n",
    "        uni[l[x]]=len(l[x])\n",
    "    x+=1\n",
    "print(uni)\n",
    "n=0\n",
    "small=0\n",
    "ch=\"\"\n",
    "while n<len(l):\n",
    "    if small<uni[l[n]]:\n",
    "        small=uni[l[n]]\n",
    "        ch=(l[n])\n",
    "    n+=1\n",
    "print(ch,small)\n"
   ]
  },
  {
   "cell_type": "code",
   "execution_count": 4,
   "metadata": {},
   "outputs": [
    {
     "name": "stdout",
     "output_type": "stream",
     "text": [
      "odd\n"
     ]
    }
   ],
   "source": [
    "# wap to check given number is even or odd without using % \n",
    "n=23\n",
    "if n:\n",
    "    r=n//2\n",
    "    if r*2==n:\n",
    "        print(\"even\")\n",
    "    else:\n",
    "        print(\"odd\")\n"
   ]
  },
  {
   "cell_type": "code",
   "execution_count": 1,
   "metadata": {},
   "outputs": [
    {
     "name": "stdout",
     "output_type": "stream",
     "text": [
      "[1, 3, 4, 5]\n"
     ]
    }
   ],
   "source": [
    "s={1,3,4,5}\n",
    "l=list(s)\n",
    "print(l)"
   ]
  },
  {
   "cell_type": "code",
   "execution_count": 6,
   "metadata": {},
   "outputs": [
    {
     "name": "stdout",
     "output_type": "stream",
     "text": [
      "624\n"
     ]
    }
   ],
   "source": [
    "st='abc156cde123egf345'\n",
    "sum=0\n",
    "l=\"\"\n",
    "for i in st:\n",
    "    if '0'<=i<='9':\n",
    "        l+=i\n",
    "        \n",
    "    else:\n",
    "        if len(l)>0:\n",
    "            sum+=int(l)\n",
    "            l=\"\"\n",
    "if len(l)>0:\n",
    "    sum+=int(l)\n",
    "print(sum)"
   ]
  },
  {
   "cell_type": "code",
   "execution_count": 20,
   "metadata": {},
   "outputs": [
    {
     "name": "stdout",
     "output_type": "stream",
     "text": [
      "174\n"
     ]
    }
   ],
   "source": [
    "st=\"abc123def456der434\"\n",
    "sum=0\n",
    "res=\"\"\n",
    "for i in st:\n",
    "    if '0'<=i<='9':\n",
    "        res+=i\n",
    "    else:\n",
    "        if len(res)>0:\n",
    "            prod=1\n",
    "            for x in res:\n",
    "                prod*=int(x)\n",
    "            sum+=prod\n",
    "            res=\"\"\n",
    "if len(res)>0:\n",
    "    prod=1\n",
    "    for x in res:\n",
    "        prod*=int(x)\n",
    "    sum+=prod\n",
    "print(sum)"
   ]
  }
 ],
 "metadata": {
  "kernelspec": {
   "display_name": "Python 3",
   "language": "python",
   "name": "python3"
  },
  "language_info": {
   "codemirror_mode": {
    "name": "ipython",
    "version": 3
   },
   "file_extension": ".py",
   "mimetype": "text/x-python",
   "name": "python",
   "nbconvert_exporter": "python",
   "pygments_lexer": "ipython3",
   "version": "3.11.4"
  },
  "orig_nbformat": 4
 },
 "nbformat": 4,
 "nbformat_minor": 2
}
