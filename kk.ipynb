{
 "cells": [
  {
   "cell_type": "code",
   "execution_count": 4,
   "metadata": {},
   "outputs": [
    {
     "name": "stdout",
     "output_type": "stream",
     "text": [
      "n110e101r114j106\n"
     ]
    }
   ],
   "source": [
    "# wap to extract only keys  and values from dict and store inside the string\n",
    "d={'n': 110, 'e': 101, 'r': 114, 'j': 106}\n",
    "t=list(d)\n",
    "i=0\n",
    "st=\"\"\n",
    "while i<len(t):\n",
    "    st+=str(t[i])+str(d[t[i]])\n",
    "    i+=1\n",
    "print(st)"
   ]
  },
  {
   "cell_type": "code",
   "execution_count": 2,
   "metadata": {},
   "outputs": [
    {
     "name": "stdout",
     "output_type": "stream",
     "text": [
      "nerj paw\n"
     ]
    }
   ],
   "source": [
    "#wap to extract only keys from dict and store inside the string\n",
    "d={'n': 110, 'e': 101, 'r': 114, 'j': 106, ' ': 32, 'p': 112, 'a': 97, 'w': 119}\n",
    "s= list(d)                                 #str can consider the {}also char to aviode that convert to list then convert to str\n",
    "i=0\n",
    "st=\"\"\n",
    "while i<len(s):\n",
    "    st+=s[i]\n",
    "    i+=1\n",
    "print(st)"
   ]
  },
  {
   "cell_type": "code",
   "execution_count": 5,
   "metadata": {},
   "outputs": [
    {
     "name": "stdout",
     "output_type": "stream",
     "text": [
      "r\n"
     ]
    }
   ],
   "source": [
    "#wap to print heighest char in a str\n",
    "s=\"helloWO123rld\"\n",
    "i=0\n",
    "small='\\n'\n",
    "while i<len(s):\n",
    "    if small<s[i]:\n",
    "        small=s[i]\n",
    "    i+=1\n",
    "print(small)\n",
    "    "
   ]
  },
  {
   "cell_type": "code",
   "execution_count": 8,
   "metadata": {},
   "outputs": [
    {
     "name": "stdout",
     "output_type": "stream",
     "text": [
      "r\n"
     ]
    }
   ],
   "source": [
    "#wap to print heighest char in a str\n",
    "s=\"helloWO123rld\"\n",
    "i=0\n",
    "small=chr(0)\n",
    "while i<len(s):\n",
    "    if small<s[i]:\n",
    "        small=s[i]\n",
    "    i+=1\n",
    "print(small)"
   ]
  },
  {
   "cell_type": "code",
   "execution_count": 6,
   "metadata": {},
   "outputs": [
    {
     "name": "stdout",
     "output_type": "stream",
     "text": [
      "1\n"
     ]
    }
   ],
   "source": [
    "#wap to print lowest char in a str\n",
    "s=\"helloWO123rld\"\n",
    "i=0\n",
    "ch=chr(127)\n",
    "while i<len(s):\n",
    "    if ch>s[i]:\n",
    "        ch=s[i]\n",
    "    i+=1\n",
    "print(ch)"
   ]
  },
  {
   "cell_type": "code",
   "execution_count": 10,
   "metadata": {},
   "outputs": [
    {
     "name": "stdout",
     "output_type": "stream",
     "text": [
      "10\n"
     ]
    }
   ],
   "source": [
    "#wap to find out largest no in the given list\n",
    "l=[10,0.5,3+5j,False,'hello',[10,20],(10,)]\n",
    "i=0\n",
    "small=0\n",
    "while i<len(l):\n",
    "    if type(l[i]) in [int,float] and small<l[i]:\n",
    "        small=l[i]\n",
    "    i+=1\n",
    "print(small)"
   ]
  },
  {
   "cell_type": "code",
   "execution_count": 11,
   "metadata": {},
   "outputs": [
    {
     "name": "stdout",
     "output_type": "stream",
     "text": [
      "r 114\n"
     ]
    }
   ],
   "source": [
    "#wap to find out largest no in the given dict\n",
    "d={'n': 110, 'e': 101, 'r': 114, 'j': 106}\n",
    "t=list(d)\n",
    "i=0\n",
    "ch=\"\"\n",
    "small=0\n",
    "while i<len(t):\n",
    "    if type(d[t[i]]) in [int,float] and small<d[t[i]]:\n",
    "        small=d[t[i]]\n",
    "        ch=t[i]\n",
    "    i+=1\n",
    "print(ch,small)\n"
   ]
  },
  {
   "cell_type": "code",
   "execution_count": null,
   "metadata": {},
   "outputs": [],
   "source": [
    "#"
   ]
  }
 ],
 "metadata": {
  "kernelspec": {
   "display_name": "Python 3",
   "language": "python",
   "name": "python3"
  },
  "language_info": {
   "codemirror_mode": {
    "name": "ipython",
    "version": 3
   },
   "file_extension": ".py",
   "mimetype": "text/x-python",
   "name": "python",
   "nbconvert_exporter": "python",
   "pygments_lexer": "ipython3",
   "version": "3.11.4"
  },
  "orig_nbformat": 4
 },
 "nbformat": 4,
 "nbformat_minor": 2
}
