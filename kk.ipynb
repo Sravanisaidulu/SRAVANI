{
 "cells": [
  {
   "cell_type": "code",
   "execution_count": 4,
   "metadata": {},
   "outputs": [
    {
     "name": "stdout",
     "output_type": "stream",
     "text": [
      "n110e101r114j106\n"
     ]
    }
   ],
   "source": [
    "# wap to extract only keys  and values from dict and store inside the string\n",
    "d={'n': 110, 'e': 101, 'r': 114, 'j': 106}\n",
    "t=list(d)\n",
    "i=0\n",
    "st=\"\"\n",
    "while i<len(t):\n",
    "    st+=str(t[i])+str(d[t[i]])\n",
    "    i+=1\n",
    "print(st)"
   ]
  },
  {
   "cell_type": "code",
   "execution_count": 2,
   "metadata": {},
   "outputs": [
    {
     "name": "stdout",
     "output_type": "stream",
     "text": [
      "nerj paw\n"
     ]
    }
   ],
   "source": [
    "#wap to extract only keys from dict and store inside the string\n",
    "d={'n': 110, 'e': 101, 'r': 114, 'j': 106, ' ': 32, 'p': 112, 'a': 97, 'w': 119}\n",
    "s= list(d)                                 #str can consider the {}also char to aviode that convert to list then convert to str\n",
    "i=0\n",
    "st=\"\"\n",
    "while i<len(s):\n",
    "    st+=s[i]\n",
    "    i+=1\n",
    "print(st)"
   ]
  },
  {
   "cell_type": "code",
   "execution_count": 5,
   "metadata": {},
   "outputs": [
    {
     "name": "stdout",
     "output_type": "stream",
     "text": [
      "r\n"
     ]
    }
   ],
   "source": [
    "#wap to print heighest char in a str\n",
    "s=\"helloWO123rld\"\n",
    "i=0\n",
    "small='\\n'\n",
    "while i<len(s):\n",
    "    if small<s[i]:\n",
    "        small=s[i]\n",
    "    i+=1\n",
    "print(small)\n",
    "    "
   ]
  },
  {
   "cell_type": "code",
   "execution_count": 8,
   "metadata": {},
   "outputs": [
    {
     "name": "stdout",
     "output_type": "stream",
     "text": [
      "r\n"
     ]
    }
   ],
   "source": [
    "#wap to print heighest char in a str\n",
    "s=\"helloWO123rld\"\n",
    "i=0\n",
    "small=chr(0)\n",
    "while i<len(s):\n",
    "    if small<s[i]:\n",
    "        small=s[i]\n",
    "    i+=1\n",
    "print(small)"
   ]
  },
  {
   "cell_type": "code",
   "execution_count": 6,
   "metadata": {},
   "outputs": [
    {
     "name": "stdout",
     "output_type": "stream",
     "text": [
      "1\n"
     ]
    }
   ],
   "source": [
    "#wap to print lowest char in a str\n",
    "s=\"helloWO123rld\"\n",
    "i=0\n",
    "ch=chr(127)\n",
    "while i<len(s):\n",
    "    if ch>s[i]:\n",
    "        ch=s[i]\n",
    "    i+=1\n",
    "print(ch)"
   ]
  },
  {
   "cell_type": "code",
   "execution_count": 10,
   "metadata": {},
   "outputs": [
    {
     "name": "stdout",
     "output_type": "stream",
     "text": [
      "10\n"
     ]
    }
   ],
   "source": [
    "#wap to find out largest no in the given list\n",
    "l=[10,0.5,3+5j,False,'hello',[10,20],(10,)]\n",
    "i=0\n",
    "small=0\n",
    "while i<len(l):\n",
    "    if type(l[i]) in [int,float] and small<l[i]:\n",
    "        small=l[i]\n",
    "    i+=1\n",
    "print(small)"
   ]
  },
  {
   "cell_type": "code",
   "execution_count": 11,
   "metadata": {},
   "outputs": [
    {
     "name": "stdout",
     "output_type": "stream",
     "text": [
      "r 114\n"
     ]
    }
   ],
   "source": [
    "#wap to find out largest no in the given dict\n",
    "d={'n': 110, 'e': 101, 'r': 114, 'j': 106}\n",
    "t=list(d)\n",
    "i=0\n",
    "ch=\"\"\n",
    "small=0\n",
    "while i<len(t):\n",
    "    if type(d[t[i]]) in [int,float] and small<d[t[i]]:\n",
    "        small=d[t[i]]\n",
    "        ch=t[i]\n",
    "    i+=1\n",
    "print(ch,small)\n"
   ]
  },
  {
   "cell_type": "code",
   "execution_count": 1,
   "metadata": {},
   "outputs": [
    {
     "name": "stdout",
     "output_type": "stream",
     "text": [
      "a 23\n"
     ]
    }
   ],
   "source": [
    "#wap to exract smallest no from the dict\n",
    "d={'h':101,'a':23,'f':67,'j':90}\n",
    "t=list(d)\n",
    "j=d[t[0]]\n",
    "i=1\n",
    "ch=\"\"\n",
    "while i<len(t):\n",
    "    if type(d[t[i]]) in [int,float] and j>d[t[i]]:\n",
    "        j=d[t[i]]\n",
    "        ch=t[i]\n",
    "    i+=1\n",
    "print(ch,j)"
   ]
  },
  {
   "cell_type": "code",
   "execution_count": 16,
   "metadata": {},
   "outputs": [
    {
     "name": "stdout",
     "output_type": "stream",
     "text": [
      "hello haIi WOrld We1v3coMe to py$hOn clAsS\n",
      "Hello Haii World We1V3Come To Py$Hon Class\n"
     ]
    }
   ],
   "source": [
    "# WAP to convert given string to title case\n",
    "st=\"hello haIi WOrld We1v3coMe to py$hOn clAsS\"\n",
    "i=1\n",
    "res=\"\"\n",
    "pos=None\n",
    "if 'a'<=st[0]<='z':\n",
    "    res+=chr(ord(st[0])-32)\n",
    "else:\n",
    "    res+=st[0]\n",
    "while i<(len(st)-1):\n",
    "    if st[i]==\" \" or '0'<=st[i]<='9' or not('A'<=st[i]<='Z' or 'a'<=st[i]<='z'):\n",
    "        res+=st[i]\n",
    "        pos=i\n",
    "        if 'a'<=st[pos+1]<='z':         \n",
    "            res+=chr(ord(st[pos+1])-32)\n",
    "        else:\n",
    "            res+=st[pos+1]\n",
    "        i+=1\n",
    "    elif 'A'<=st[i]<='Z':\n",
    "        res+=chr(ord(st[i])+32)\n",
    "    else:\n",
    "        res+=st[i]   \n",
    "\n",
    "    i+=1\n",
    "if 'A'<=st[-1]<='Z':\n",
    "   res+=chr(ord(st[-1])+32)\n",
    "else:\n",
    "    res+=st[-1]\n",
    "print(st)\n",
    "print(res)\n",
    "\n",
    "\n",
    "\n"
   ]
  },
  {
   "cell_type": "code",
   "execution_count": 1,
   "metadata": {},
   "outputs": [
    {
     "name": "stdout",
     "output_type": "stream",
     "text": [
      "eoo123aii\n"
     ]
    }
   ],
   "source": [
    "# 121 i/p \"hello world 123 haii\" o/p 'eoo123aii'\n",
    "i=\"hello world 123 haii\"\n",
    "x=0\n",
    "ref=\"\"\n",
    "while x<len(i):\n",
    "    if i[x] in 'AEIOUaeiou':\n",
    "        ref+=i[x]\n",
    "    elif '0'<=i[x]<='9':\n",
    "        ref+=i[x]\n",
    "    x+=1\n",
    "print(ref)\n"
   ]
  },
  {
   "cell_type": "code",
   "execution_count": 2,
   "metadata": {},
   "outputs": [
    {
     "name": "stdout",
     "output_type": "stream",
     "text": [
      "eo o 123 aii\n"
     ]
    }
   ],
   "source": [
    "# 122 i/p \"hello world 123 haii\" o/p 'eo o 123 aii'\n",
    "i=\"hello world 123 haii\"\n",
    "s=0\n",
    "ref=\"\"\n",
    "while s<len(i):\n",
    "    if i[s] in 'aeiouAEIOU' or '0'<=i[s]<='9':\n",
    "        ref+=i[s]\n",
    "    elif i[s]==' ':\n",
    "        ref+=i[s]\n",
    "    s+=1\n",
    "print(ref)"
   ]
  },
  {
   "cell_type": "code",
   "execution_count": 3,
   "metadata": {},
   "outputs": [
    {
     "name": "stdout",
     "output_type": "stream",
     "text": [
      "eo o  aii\n"
     ]
    }
   ],
   "source": [
    "# 123 i/p 'hello world 123 haii' o/p'eo o aii'\n",
    "st='hello world 123 haii'\n",
    "i=0\n",
    "ref=\"\"\n",
    "while i<len(st):\n",
    "    if st[i] in 'aeiou' or st[i]==' ':\n",
    "        ref+=st[i]\n",
    "    i+=1\n",
    "print(ref)\n"
   ]
  },
  {
   "cell_type": "code",
   "execution_count": 8,
   "metadata": {},
   "outputs": [],
   "source": [
    "# 124 i/p 'hello world 123 haii' o/p 'hll world haii'\n",
    "ip=\"hello world 123 haii\"\n",
    "x=0\n",
    "ref=\"\"\n"
   ]
  },
  {
   "cell_type": "code",
   "execution_count": 10,
   "metadata": {},
   "outputs": [
    {
     "name": "stdout",
     "output_type": "stream",
     "text": [
      "hll wrld\n",
      "eoo\n"
     ]
    }
   ],
   "source": [
    "# 125 i/p \"hello world\" o/p=\"hll wrld\" ,\"eoo\"\n",
    "st=\"hello world\"\n",
    "con=\"\"\n",
    "v=\"\"\n",
    "x=0\n",
    "while x<len(st):\n",
    "    if st[x] in 'AEIOUaeiou':\n",
    "        v+=st[x]\n",
    "    else:\n",
    "        con+=st[x]\n",
    "    x+=1\n",
    "print(con)\n",
    "print(v)"
   ]
  },
  {
   "cell_type": "code",
   "execution_count": 11,
   "metadata": {},
   "outputs": [
    {
     "name": "stdout",
     "output_type": "stream",
     "text": [
      "hll wrld\n",
      "eoo\n",
      "12344\n"
     ]
    }
   ],
   "source": [
    "# 126 i/p '12hello3 4world4' o/p 'hll wrld','eoo','12344'\n",
    "st=\"12hello3 4world4\"\n",
    "c=\"\"\n",
    "v=\"\"\n",
    "n=\"\"\n",
    "i=0\n",
    "while i<len(st):\n",
    "    if st[i] in 'aeiouAEIOU':\n",
    "        v+=st[i]\n",
    "    elif '0'<=st[i]<='9':\n",
    "        n+=st[i]\n",
    "    elif st[i] not in 'aeiouAEIOU':\n",
    "        c+=st[i]\n",
    "    i+=1\n",
    "print(c)\n",
    "print(v)\n",
    "print(n)"
   ]
  },
  {
   "cell_type": "code",
   "execution_count": 16,
   "metadata": {},
   "outputs": [
    {
     "name": "stdout",
     "output_type": "stream",
     "text": [
      "hllwrld\n",
      "eoo\n",
      "12344\n",
      "(*$ $#*)\n"
     ]
    }
   ],
   "source": [
    "#127 i/p '(*12hello3$ $4#world4*) op 'hllwrld' 'eoo' '12344' '(*$ $#*)\n",
    "st=\"(*12hello3$ $4#world4*)\"\n",
    "c,v,n,s=\"\",\"\",\"\",\"\"\n",
    "i=0\n",
    "while i<len(st):\n",
    "    if st[i] in 'AEIOUaeiou':\n",
    "        v+=st[i]\n",
    "    elif '0'<=st[i]<='9':\n",
    "        n+=st[i]\n",
    "    elif not('A'<=st[i]<='z' or 'a'<=st[i]<'z' or '0'<=st[i]<='9'):\n",
    "        s+=st[i]\n",
    "    else:\n",
    "        c+=st[i]\n",
    "    i+=1\n",
    "print(c)\n",
    "print(v)\n",
    "print(n)\n",
    "print(s)\n"
   ]
  },
  {
   "cell_type": "code",
   "execution_count": 21,
   "metadata": {},
   "outputs": [
    {
     "name": "stdout",
     "output_type": "stream",
     "text": [
      ")*#$ $*(,44321,ooe,dlrwllh\n"
     ]
    }
   ],
   "source": [
    "#128 i/p (*12hello3$ $4#world4*) \n",
    "st=\"(*12hello3$ $4#world4*)\"\n",
    "c,v,n,s,t=\"\",\"\",\"\",\"\",\"\"\n",
    "i=-1\n",
    "while i>=(-len(st)):\n",
    "    if st[i] in 'AEIOUaeiou':\n",
    "        v+=st[i]\n",
    "    elif '0'<=st[i]<='9':\n",
    "        n+=st[i]\n",
    "    elif not('a'<=st[i]<='z' or 'A'<=st[i]<='Z' or '0'<=st[i]<='9'):\n",
    "        s+=st[i]\n",
    "    else:\n",
    "        c+=st[i]\n",
    "    i-=1\n",
    "t+=s+','+n+','+v+','+c\n",
    "print(t)\n"
   ]
  },
  {
   "cell_type": "code",
   "execution_count": 24,
   "metadata": {},
   "outputs": [
    {
     "name": "stdout",
     "output_type": "stream",
     "text": [
      "hllwrld,eoo,12344,(*$ $#*)\n"
     ]
    }
   ],
   "source": [
    "#129 i/p (*12hello3$ $4#world4*) \n",
    "st=\"(*12hello3$ $4#world4*)\"\n",
    "c,v,n,s,t=\"\",\"\",\"\",\"\",\"\"\n",
    "i=0\n",
    "while i<len(st):\n",
    "    if st[i] in 'AEIOUaeiou':\n",
    "        v+=st[i]\n",
    "    elif '0'<=st[i]<='9':\n",
    "        n+=st[i]\n",
    "    elif not('a'<=st[i]<='z' or 'A'<=st[i]<='Z' or '0'<=st[i]<='9'):\n",
    "        s+=st[i]\n",
    "    else:\n",
    "        c+=st[i]\n",
    "    i+=1\n",
    "t+=c+','+v+','+n+','+s\n",
    "print(t)"
   ]
  },
  {
   "cell_type": "code",
   "execution_count": 25,
   "metadata": {},
   "outputs": [
    {
     "name": "stdout",
     "output_type": "stream",
     "text": [
      "hllwrld, )*#$ $*(,eoo,44321\n"
     ]
    }
   ],
   "source": [
    "#130 i/p (*12hello3$ $4#world4*) \n",
    "st=\"(*12hello3$ $4#world4*) \"\n",
    "c,v,n,s,t=\"\",\"\",\"\",\"\",\"\"\n",
    "i=0\n",
    "while i<len(st):\n",
    "    if st[i] in 'AEIOUaeiou':\n",
    "        v+=st[i]\n",
    "    elif '0'<=st[i]<='9':\n",
    "        n+=st[i]\n",
    "    elif not('a'<=st[i]<='z' or 'A'<=st[i]<='Z' or '0'<=st[i]<='9'):\n",
    "        s+=st[i]\n",
    "    else:\n",
    "        c+=st[i]\n",
    "    i+=1\n",
    "t+=c+','+s[::-1]+','+v+','+n[::-1]\n",
    "print(t)"
   ]
  },
  {
   "cell_type": "code",
   "execution_count": 26,
   "metadata": {},
   "outputs": [
    {
     "name": "stdout",
     "output_type": "stream",
     "text": [
      "dlrwllh, )*#$ $*(,ooe,44321\n"
     ]
    }
   ],
   "source": [
    "#131 i/p (*12hello3$ $4#world4*)\n",
    "c,v,n,s,t=\"\",\"\",\"\",\"\",\"\"\n",
    "i=-1\n",
    "while i>=(-len(st)):\n",
    "    if st[i] in 'AEIOUaeiou':\n",
    "        v+=st[i]\n",
    "    elif '0'<=st[i]<='9':\n",
    "        n+=st[i]\n",
    "    elif not('a'<=st[i]<='z' or 'A'<=st[i]<='Z' or '0'<=st[i]<='9'):\n",
    "        s+=st[i]\n",
    "    else:\n",
    "        c+=st[i]\n",
    "    i-=1\n",
    "t+=c+','+s+','+v+','+n\n",
    "print(t)\n"
   ]
  },
  {
   "cell_type": "code",
   "execution_count": 2,
   "metadata": {},
   "outputs": [
    {
     "name": "stdout",
     "output_type": "stream",
     "text": [
      "dlrwllh)*#$ $*(ooe44321\n"
     ]
    }
   ],
   "source": [
    "# 132 i/p (*12hello3$ $4#world4*)\n",
    "st=\"(*12hello3$ $4#world4*)\"\n",
    "c,v,n,s,t=\"\",\"\",\"\",\"\",\"\"\n",
    "i=-1\n",
    "while i>=(-len(st)):\n",
    "    if st[i] in 'AEIOUaeiou':\n",
    "        v+=st[i]\n",
    "    elif '0'<=st[i]<='9':\n",
    "        n+=st[i]\n",
    "    elif not('a'<=st[i]<='z' or 'A'<=st[i]<='Z' or '0'<=st[i]<='9'):\n",
    "        s+=st[i]\n",
    "    else:\n",
    "        c+=st[i]\n",
    "    i-=1\n",
    "t+=c+s+v+n\n",
    "print(t)"
   ]
  },
  {
   "cell_type": "code",
   "execution_count": 4,
   "metadata": {},
   "outputs": [
    {
     "name": "stdout",
     "output_type": "stream",
     "text": [
      "h$ll*w*rld\n"
     ]
    }
   ],
   "source": [
    "# 133 i/p HELLOWORLD\n",
    "st=\"HELLOWORLD\"\n",
    "i=0\n",
    "ref=\"\"\n",
    "while i<len(st):\n",
    "    if st[i] not in 'AEIOU':\n",
    "        ref+=chr(ord(st[i])+32)\n",
    "    elif st[i]=='E':\n",
    "        ref+=\"$\"\n",
    "    elif st[i]=='O':\n",
    "        ref+=\"*\"\n",
    "    i+=1\n",
    "print(ref)"
   ]
  },
  {
   "cell_type": "code",
   "execution_count": 11,
   "metadata": {},
   "outputs": [
    {
     "name": "stdout",
     "output_type": "stream",
     "text": [
      "hll@wrld21\n"
     ]
    }
   ],
   "source": [
    "# 134 i/p 123HELLO WORLD456\n",
    "st=\"123HELLO WORLD456\"\n",
    "c,n,ref=\"\",\"\",\"\"\n",
    "i=0\n",
    "while i<len(st):\n",
    "    if '0'<=st[i]<='9':\n",
    "        n+=st[i]\n",
    "    elif st[i] not in 'AEIOU':\n",
    "        c+=chr(ord(st[i])+32)\n",
    "    i+=1\n",
    "ref+=c+n[(-len(n)+1):(-len(n)-1):-1]\n",
    "print(ref)\n"
   ]
  },
  {
   "cell_type": "code",
   "execution_count": 13,
   "metadata": {},
   "outputs": [
    {
     "name": "stdout",
     "output_type": "stream",
     "text": [
      "123hEllO wOrld456\n"
     ]
    }
   ],
   "source": [
    "# 135 i/p 123HELLO WORLD456\n",
    "st=\"123HELLO WORLD456\"\n",
    "ref=\"\"\n",
    "i=0\n",
    "while i<len(st):\n",
    "    if '0'<=st[i]<='9':\n",
    "        ref+=st[i]\n",
    "    elif st[i] in 'AEIOU':\n",
    "        ref+=st[i]\n",
    "    elif not('A'<=st[i]<='Z' or 'a'<=st[i]<='z' or '0'<=st[i]<='9'):\n",
    "        ref+=st[i]\n",
    "    elif st[i] not in 'AEIOU':\n",
    "        ref+=chr(ord(st[i])+32)\n",
    "    i+=1\n",
    "print(ref)\n",
    "    "
   ]
  },
  {
   "cell_type": "code",
   "execution_count": 22,
   "metadata": {},
   "outputs": [
    {
     "name": "stdout",
     "output_type": "stream",
     "text": [
      "321hEllO wOrld654\n"
     ]
    }
   ],
   "source": [
    "# 136 i/p 123HELLO WORLD456\n",
    "st=\"123HELLO WORLD456\"\n",
    "ref=\"\"\n",
    "#n,c=\"\",\"\"\n",
    "i=0\n",
    "while i<len(st):\n",
    "    if '0'<=st[i]<='9':\n",
    "        ref+=st[i]\n",
    "    elif st[i] in 'AEIOU':\n",
    "        ref+=st[i]\n",
    "    elif not('A'<=st[i]<='Z' or 'a'<=st[i]<='z' or '0'<=st[i]<='9'):\n",
    "        ref+=st[i]\n",
    "    elif st[i] not in 'AEIOU':\n",
    "        ref+=chr(ord(st[i])+32)\n",
    "    i+=1\n",
    "#ref+=n[2::-1]+c+n[len(n)-1:2:-1]\n",
    "ref=ref[2::-1]+ref[3:len(ref)-3:1]+ref[-1:-4:-1]\n",
    "print(ref)"
   ]
  },
  {
   "cell_type": "code",
   "execution_count": 25,
   "metadata": {},
   "outputs": [
    {
     "name": "stdout",
     "output_type": "stream",
     "text": [
      "321*E**O**O***654\n"
     ]
    }
   ],
   "source": [
    "# 137 i/p 123HELLO WORLD456\n",
    "st=\"123HELLO WORLD456\"\n",
    "ref=\"\"\n",
    "i=0\n",
    "while i<len(st):\n",
    "    if '0'<=st[i]<='9':\n",
    "        ref+=st[i]\n",
    "    elif st[i]  in 'AEIOU':\n",
    "        ref+=st[i]\n",
    "    else:\n",
    "        ref+='*'\n",
    "    i+=1\n",
    "ref=ref[2::-1]+ref[3:len(ref)-3:1]+ref[-1:-4:-1]\n",
    "print(ref)"
   ]
  },
  {
   "cell_type": "code",
   "execution_count": 26,
   "metadata": {},
   "outputs": [
    {
     "name": "stdout",
     "output_type": "stream",
     "text": [
      "123*E**O**O***456\n"
     ]
    }
   ],
   "source": [
    "# 138 i/p 123HELLO WORLD456\n",
    "t=\"123HELLO WORLD456\"\n",
    "r=\"\"\n",
    "i=0\n",
    "while i<len(t):\n",
    "    if '0'<=t[i]<='9':\n",
    "        r+=t[i]\n",
    "    elif t[i] in 'AEIOU':\n",
    "        r+=t[i]\n",
    "    else:\n",
    "        r+=\"*\"\n",
    "    i+=1\n",
    "print(r)"
   ]
  },
  {
   "cell_type": "code",
   "execution_count": null,
   "metadata": {},
   "outputs": [],
   "source": [
    "# 140 i/p 'abc i/p 'xyz' op 'axbycz'\n",
    "n='abc'\n",
    "m='xyz'\n",
    "ref=\"\"\n",
    "i=0\n",
    "while i<len(n):\n",
    "    "
   ]
  },
  {
   "cell_type": "code",
   "execution_count": 15,
   "metadata": {},
   "outputs": [
    {
     "name": "stdout",
     "output_type": "stream",
     "text": [
      "hello\n",
      "world\n",
      "guys\n"
     ]
    }
   ],
   "source": [
    "st=\"hello world guys\"\n",
    "i=0\n",
    "pos=\"\"\n",
    "while i<len(st):\n",
    "    if st[i]!=\" \":\n",
    "        pos+=st[i]\n",
    "    else:\n",
    "        print(pos)\n",
    "        pos=\"\"\n",
    "    i+=1\n",
    "print(pos)"
   ]
  },
  {
   "cell_type": "code",
   "execution_count": 5,
   "metadata": {},
   "outputs": [
    {
     "name": "stdout",
     "output_type": "stream",
     "text": [
      "haii\n",
      "how\n",
      "are\n",
      "you\n",
      "sravani\n"
     ]
    }
   ],
   "source": [
    "# 156 wap progtam to split the sentences in a given string \n",
    "st='haii how are you sravani'\n",
    "i=0\n",
    "res=\"\"\n",
    "while i<len(st):\n",
    "    if st[i]!=\" \":\n",
    "        res+=st[i]\n",
    "    else:\n",
    "        print(res)\n",
    "        res=\"\"\n",
    "        \n",
    "    i+=1\n",
    "print(res)\n",
    "        \n"
   ]
  },
  {
   "cell_type": "code",
   "execution_count": 6,
   "metadata": {},
   "outputs": [
    {
     "name": "stdout",
     "output_type": "stream",
     "text": [
      "hello\n",
      "world\n",
      "hai\n",
      "123\n",
      "^&@\n",
      "\n"
     ]
    }
   ],
   "source": [
    "# wap to extract each word from the string\n",
    "st=\" hello  world hai 123 ^&@ \"\n",
    "res=\"\"\n",
    "i=0\n",
    "while i<len(st):\n",
    "    if st[i]!=\" \":\n",
    "        res+=st[i]\n",
    "    else:\n",
    "        if len(res)!=0:\n",
    "            print(res)\n",
    "            res=\"\"\n",
    "    i+=1\n",
    "print(res)\n",
    "\n"
   ]
  },
  {
   "cell_type": "code",
   "execution_count": 8,
   "metadata": {},
   "outputs": [
    {
     "name": "stdout",
     "output_type": "stream",
     "text": [
      "['hello', 'world', 'hai', '123', '^&@']\n"
     ]
    }
   ],
   "source": [
    "st=\" hello  world hai 123 ^&@ \"\n",
    "res=\"\"\n",
    "l=[]\n",
    "i=0\n",
    "while i<len(st):\n",
    "    if st[i]!=\" \":\n",
    "        res+=st[i]\n",
    "    else:\n",
    "        if len(res)!=0:\n",
    "            l+=[res]\n",
    "            res=\"\"\n",
    "    i+=1\n",
    "print(l)\n"
   ]
  },
  {
   "cell_type": "code",
   "execution_count": 10,
   "metadata": {},
   "outputs": [
    {
     "name": "stdout",
     "output_type": "stream",
     "text": [
      "['hello world', 'qwertdfjkpoiuhg', 'dfgvbnm']\n"
     ]
    }
   ],
   "source": [
    "# WAP to segrigate the line in the doc string\n",
    "s=\"hello world\\nqwertdfjkpoiuhg\\ndfgvbnm\"\n",
    "i=0\n",
    "l=[]\n",
    "res=\"\"\n",
    "while i<len(s):\n",
    "    if s[i]!=\"\\n\":\n",
    "        res+=s[i]\n",
    "    else:\n",
    "        if len(res)!=0:\n",
    "            l+=[res]\n",
    "            res=\"\"\n",
    "    i+=1\n",
    "if len(res)!=0:\n",
    "    l+=[res]\n",
    "print(l)"
   ]
  },
  {
   "cell_type": "code",
   "execution_count": 19,
   "metadata": {},
   "outputs": [
    {
     "name": "stdout",
     "output_type": "stream",
     "text": [
      "['hello', 'haii', 'world', 'i', 'love', 'india', 'i', 'like', 'python']\n",
      "hwilp\n",
      "[['hello', 'haii'], ['world'], ['i', 'india', 'i'], ['love', 'like'], ['python']]\n"
     ]
    }
   ],
   "source": [
    "st='hello haii world i love india i like python'\n",
    "#op[['hello','haii'],['world],['i','i','india'],['love','like'],['python]]\n",
    "i=0\n",
    "res=\"\"\n",
    "l=[]\n",
    "while i<len(st):\n",
    "    if st[i]!=\" \":\n",
    "        res+=st[i]\n",
    "    else:\n",
    "        if len(res)!=0:\n",
    "            l+=[res]\n",
    "            res=\"\"\n",
    "    i+=1\n",
    "if len(res)!=0:\n",
    "    l+=[res]\n",
    "print(l)\n",
    "uni=\"\"\n",
    "x=0\n",
    "while x<len(l):\n",
    "    if l[x][0] not in uni:\n",
    "        uni+=l[x][0]\n",
    "    x+=1\n",
    "print(uni)\n",
    "d=[]\n",
    "j=0\n",
    "while j<len(uni):\n",
    "    d+=[[]]\n",
    "    p=0\n",
    "    while p<len(l):\n",
    "        if uni[j]==l[p][0]:\n",
    "            d[-1]+=[l[p]]\n",
    "        p+=1\n",
    "    j+=1\n",
    "print(d)\n"
   ]
  },
  {
   "cell_type": "code",
   "execution_count": 4,
   "metadata": {},
   "outputs": [
    {
     "name": "stdout",
     "output_type": "stream",
     "text": [
      "['hello', 'haii', 'world', 'i', 'love', 'india', 'i', 'like', 'python']\n",
      "[5, 4, 1, 6]\n",
      "[['hello', 'world', 'india'], ['haii', 'love', 'like'], ['i', 'i'], ['python']]\n"
     ]
    }
   ],
   "source": [
    "st='hello haii world i love india i like python'\n",
    "#op [['haii','love','like'],['hello','world','india'],['python'],['i','i']]\n",
    "i=0\n",
    "res=\"\"\n",
    "l=[]\n",
    "while i<len(st):\n",
    "    if st[i]!=\" \":\n",
    "        res+=st[i]\n",
    "    else:\n",
    "        if len(res)!=0:\n",
    "            l+=[res]\n",
    "            res=\"\"\n",
    "    i+=1\n",
    "if len(res)!=0:\n",
    "    l+=[res]\n",
    "print(l)\n",
    "j=0\n",
    "u=[]\n",
    "while j<len(l):\n",
    "    if len(l[j]) not in u:\n",
    "        u=u+[len(l[j])]\n",
    "\n",
    "    j+=1\n",
    "print(u)\n",
    "x=0\n",
    "d=[]\n",
    "while x<len(u):\n",
    "    k=0\n",
    "    d+=[[]]\n",
    "    while k<len(l):\n",
    "        if u[x]==len(l[k]):\n",
    "            d[-1]+=[l[k]]\n",
    "        k+=1\n",
    "    x+=1\n",
    "print(d)\n",
    "\n",
    "\n",
    "\n"
   ]
  }
 ],
 "metadata": {
  "kernelspec": {
   "display_name": "Python 3",
   "language": "python",
   "name": "python3"
  },
  "language_info": {
   "codemirror_mode": {
    "name": "ipython",
    "version": 3
   },
   "file_extension": ".py",
   "mimetype": "text/x-python",
   "name": "python",
   "nbconvert_exporter": "python",
   "pygments_lexer": "ipython3",
   "version": "3.11.4"
  },
  "orig_nbformat": 4
 },
 "nbformat": 4,
 "nbformat_minor": 2
}
