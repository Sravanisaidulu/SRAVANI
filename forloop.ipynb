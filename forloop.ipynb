{
 "cells": [
  {
   "cell_type": "code",
   "execution_count": 1,
   "metadata": {},
   "outputs": [
    {
     "name": "stdout",
     "output_type": "stream",
     "text": [
      "h\n",
      "e\n",
      "l\n",
      "l\n",
      "o\n"
     ]
    }
   ],
   "source": [
    "#for loop execuate based on length of the collection\n",
    "st='hello'\n",
    "for i in st:\n",
    "    print(i)"
   ]
  },
  {
   "cell_type": "code",
   "execution_count": 3,
   "metadata": {},
   "outputs": [
    {
     "name": "stdout",
     "output_type": "stream",
     "text": [
      "10\n",
      "15\n",
      "True\n",
      "[10, 20, 30]\n",
      "{10, 20}\n",
      "{'a': 10}\n",
      "b'1010'\n"
     ]
    }
   ],
   "source": [
    "#2 wap to extract each data item from the collection\n",
    "l=[10,15,True,[10,20,30],{10,20},{'a':10},b'1010']\n",
    "for i in l:\n",
    "    print(i)"
   ]
  },
  {
   "cell_type": "code",
   "execution_count": 4,
   "metadata": {},
   "outputs": [
    {
     "name": "stdout",
     "output_type": "stream",
     "text": [
      "10 15\n",
      "True [10, 20, 30]\n",
      "b'1010' 10\n"
     ]
    }
   ],
   "source": [
    "l={10:15,True:[10,20,30],b'1010':10}\n",
    "for x in l:\n",
    "    print(x,l[x])"
   ]
  },
  {
   "cell_type": "code",
   "execution_count": 6,
   "metadata": {},
   "outputs": [
    {
     "name": "stdout",
     "output_type": "stream",
     "text": [
      "S\n",
      "R\n"
     ]
    }
   ],
   "source": [
    "#3 write aprogram to extract the uppercase character\n",
    "st=\"SRav$%123\"\n",
    "for i in st:\n",
    "    if 'A'<=i<='Z':\n",
    "        print(i)"
   ]
  },
  {
   "cell_type": "code",
   "execution_count": 8,
   "metadata": {},
   "outputs": [
    {
     "name": "stdout",
     "output_type": "stream",
     "text": [
      "srava@*\n"
     ]
    }
   ],
   "source": [
    "#4 wap to store the special char and lowercase char from given string\n",
    "s='sravaNI@3455*'\n",
    "res=\"\"\n",
    "for i in s:\n",
    "    if 'a'<=i<='z' or not('A'<=i<='Z' or '0'<=i<='9'):\n",
    "        res+=i\n",
    "print(res)"
   ]
  },
  {
   "cell_type": "code",
   "execution_count": 9,
   "metadata": {},
   "outputs": [
    {
     "name": "stdout",
     "output_type": "stream",
     "text": [
      "NI\n",
      "srava\n",
      "3455\n",
      "@*\n"
     ]
    }
   ],
   "source": [
    "#5 wap to seggregtie all characters from given string\n",
    "s='sravaNI@3455*'\n",
    "uc,lc,an,ss=\"\",\"\",\"\",\"\"\n",
    "for i in s:\n",
    "    if 'a'<=i<='z':\n",
    "        lc+=i\n",
    "    elif 'A'<=i<='Z':\n",
    "        uc+=i\n",
    "    elif '0'<=i<='9':\n",
    "        an+=i\n",
    "    else:\n",
    "        ss+=i\n",
    "print(uc)\n",
    "print(lc)\n",
    "print(an)\n",
    "print(ss)"
   ]
  },
  {
   "cell_type": "code",
   "execution_count": 15,
   "metadata": {},
   "outputs": [
    {
     "name": "stdout",
     "output_type": "stream",
     "text": [
      "invaild password\n"
     ]
    }
   ],
   "source": [
    "#6wap to check given password is vaild or not 1.i/p should be str and len of str is min 8 and max20\n",
    "#2.mim 1 numeric char 3.min 2 special char except .,(),{},[] 4.min 1 lowercase and max 5 lowercasechar 5.first and last char should be uppercase\n",
    "st=\"Sravan!@1234R\"\n",
    "uc,lc,an,ss,sp=\"\",\"\",\"\",\"\",\"\"\n",
    "if type(st)==str and 8<=len(st)<=20 and 'A'<=st[0]<='Z' and 'A'<=st[-1]<='Z':\n",
    "    for x in st:\n",
    "        if 'A'<=x<='Z':\n",
    "            uc+=x\n",
    "        elif 'a'<=x<='z':\n",
    "            lc+=x\n",
    "        elif '0'<=x<='9':\n",
    "            an+=i\n",
    "        elif x not in '. () {} []':\n",
    "            ss+=x\n",
    "        else:\n",
    "            sp+=x\n",
    "    if len(an)>=1 and 1<=len(lc)<=5 and len(ss)>=2 and len(sp)==0:\n",
    "        print('vaild password')\n",
    "    else:\n",
    "        print(\"invaild password\")\n",
    "else:\n",
    "    print(\"invalid password\")"
   ]
  },
  {
   "cell_type": "code",
   "execution_count": 25,
   "metadata": {},
   "outputs": [
    {
     "name": "stdout",
     "output_type": "stream",
     "text": [
      "password should have min 1 and max 5 lowercase char\n",
      "password should have min 2 special char\n"
     ]
    }
   ],
   "source": [
    "#6wap to check given password is vaild or not 1.i/p should be str and len of str is min 8 and max20\n",
    "#2.mim 1 numeric char 3.min 2 special char except .,(),{},[] 4.min 1 lowercase and max 5 lowercasechar 5.first and last char should be uppercase and\n",
    "# print reasom if itis invaild\n",
    "st=\"Sravanihhj!1234Q\"\n",
    "if not(type(st)==str):\n",
    "    print(\"password should be asrting\") \n",
    "if not(8<=len(st)<=20 ):\n",
    "    print(\"password length min 8 and max20\")\n",
    "if not('A'<=st[0]<='Z' and 'A'<=st[-1]<='Z'):\n",
    "    print(\"password first and last caharacter should be a uppercase\")\n",
    "uc,lc,an,ss,sp=\"\",\"\",\"\",\"\",\"\"\n",
    "for x in st:\n",
    "    if 'A'<=x<='Z':\n",
    "         uc+=x\n",
    "    elif 'a'<=x<='z':\n",
    "        lc+=x\n",
    "    elif '0'<=x<='9':\n",
    "        an+=i\n",
    "    elif x not in '. () {} []':\n",
    "        ss+=x\n",
    "    else:\n",
    "        sp+=x\n",
    "if not(len(an)>=1):\n",
    "    print(\"password should have min one numeric char\")\n",
    "if not(1<=len(lc)<=5):\n",
    "    print(\"password should have min 1 and max 5 lowercase char\")\n",
    "if not(len(ss)>=2):\n",
    "    print(\"password should have min 2 special char\")\n",
    "if not(len(sp)==0):\n",
    "    print(\"password should not have . () {} []\")"
   ]
  },
  {
   "cell_type": "code",
   "execution_count": 28,
   "metadata": {},
   "outputs": [
    {
     "name": "stdout",
     "output_type": "stream",
     "text": [
      "10\n"
     ]
    }
   ],
   "source": [
    "# 7 wap to count the no.of data items in a given collection without length function\n",
    "st=\"helloworld\"\n",
    "if type(st) in [str,list,tuple,set,dict]:\n",
    "    count=0\n",
    "    for i in st:\n",
    "        count+=1\n",
    "    print(count)\n"
   ]
  },
  {
   "cell_type": "code",
   "execution_count": 34,
   "metadata": {},
   "outputs": [
    {
     "name": "stdout",
     "output_type": "stream",
     "text": [
      "2\n"
     ]
    }
   ],
   "source": [
    "## 8 wap to count specific char in given collection\n",
    "st=eval(input(\"enter the value\"))\n",
    "r=eval(input(\"enter the value\"))\n",
    "if type(st) in[list,str,tuple]:\n",
    "    c=0\n",
    "    for x in st:\n",
    "        if x==r:\n",
    "            c+=1\n",
    "    print(c)"
   ]
  },
  {
   "cell_type": "code",
   "execution_count": 36,
   "metadata": {},
   "outputs": [
    {
     "name": "stdout",
     "output_type": "stream",
     "text": [
      "{'h': 1, 'e': 1, 'l': 3, 'o': 2, 'w': 1, 'r': 1, 'd': 1}\n"
     ]
    }
   ],
   "source": [
    "# 9 wap to frequency of each element in the input\n",
    "st=eval(input(\"enter the value\"))\n",
    "d={}\n",
    "if type(st) in [list,tuple,str]:\n",
    "    for x in st:\n",
    "        if x not in d:\n",
    "            d[x]=1\n",
    "        else:\n",
    "            d[x]+=1\n",
    "    print(d)\n",
    "\n"
   ]
  },
  {
   "cell_type": "code",
   "execution_count": 4,
   "metadata": {},
   "outputs": [
    {
     "name": "stdout",
     "output_type": "stream",
     "text": [
      "[10, 20, 40, 50]\n",
      "[[10, 2], [20, 1], [40, 1], [50, 1]]\n"
     ]
    }
   ],
   "source": [
    "#10\n",
    "st=[10,20,40,50,10]\n",
    "uni=[]\n",
    "for i in st:\n",
    "    if i not in uni:\n",
    "        uni+=[i]\n",
    "print(uni)\n",
    "l=[]\n",
    "for i in uni:\n",
    "    count=0\n",
    "    for x in st:\n",
    "        if x==i:\n",
    "            count+=1\n",
    "    l+=[[i,count]]\n",
    "print(l)"
   ]
  },
  {
   "cell_type": "code",
   "execution_count": 10,
   "metadata": {},
   "outputs": [
    {
     "name": "stdout",
     "output_type": "stream",
     "text": [
      "{'g': 2, 'o': 2, 'd': 1, ' ': 1, 'n': 1, 'i': 1, 'h': 1, 't': 1}\n",
      "[['o', 2], ['g', 2]]\n",
      "g 2\n",
      "2\n"
     ]
    }
   ],
   "source": [
    "# 11 wap to extract max occurance char from the string\n",
    "s=\"good night\"\n",
    "d={}\n",
    "for i in s:\n",
    "    if i not in d:\n",
    "        d[i]=1\n",
    "    else:\n",
    "        d[i]+=1\n",
    "print(d)\n",
    "small=0\n",
    "ch=None\n",
    "u=[]\n",
    "for i in d:\n",
    "    if small<d[i]:\n",
    "        small=d[i]\n",
    "        ch=i\n",
    "    elif small==d[i]:\n",
    "        u+=[[i,d[i]]]\n",
    "u+=[[ch,small]]\n",
    "print(u)\n",
    "print(ch,small)\n",
    "print(len(u))\n"
   ]
  },
  {
   "cell_type": "code",
   "execution_count": 2,
   "metadata": {},
   "outputs": [
    {
     "name": "stdout",
     "output_type": "stream",
     "text": [
      "{'h': 1, 'e': 1, 'l': 3, 'o': 2, ' ': 1, 'w': 1, 'r': 1, 'd': 1}\n",
      "{1: ['h', 'e', ' ', 'w', 'r', 'd'], 3: ['l'], 2: ['o']}\n"
     ]
    }
   ],
   "source": [
    "#12  op{1: ['h', 'e', ' ', 'w', 'r', 'd'], 3: ['l'], 2: ['o']}\n",
    "st=\"hello world\"\n",
    "d={}\n",
    "if type(st) in [list,tuple,str]:\n",
    "    for x in st:\n",
    "        if x not in d:\n",
    "            d[x]=1\n",
    "        else:\n",
    "            d[x]+=1\n",
    "    print(d)\n",
    "    s={}\n",
    "    for i in d:\n",
    "        if d[i] not in s:\n",
    "            s[d[i]]=[i]\n",
    "        else:\n",
    "            s[d[i]]+=[i]\n",
    "    print(s)\n"
   ]
  },
  {
   "cell_type": "code",
   "execution_count": 7,
   "metadata": {},
   "outputs": [
    {
     "name": "stdout",
     "output_type": "stream",
     "text": [
      "{'h': 1, 'e': 1, 'l': 3, 'o': 2, ' ': 1, 'w': 1, 'r': 1, 'd': 1}\n",
      "{1: ['h', 'e', ' ', 'w', 'r', 'd'], 3: ['l'], 2: ['o']}\n",
      "['h', 'e', ' ', 'w', 'r', 'd'] 6\n"
     ]
    }
   ],
   "source": [
    "#13\n",
    "st=\"hello world\"\n",
    "d={}\n",
    "if type(st) in [list,tuple,str]:\n",
    "    for x in st:\n",
    "        if x not in d:\n",
    "            d[x]=1\n",
    "        else:\n",
    "            d[x]+=1\n",
    "    print(d)\n",
    "    s={}\n",
    "    for i in d:\n",
    "        if d[i] not in s:\n",
    "            s[d[i]]=[i]\n",
    "        else:\n",
    "            s[d[i]]+=[i]\n",
    "    print(s)\n",
    "    small=9\n",
    "    for z in s:\n",
    "        if small>z:\n",
    "            small=z\n",
    "    print(s[small],len(s[small]))\n",
    "\n"
   ]
  },
  {
   "cell_type": "code",
   "execution_count": 12,
   "metadata": {},
   "outputs": [
    {
     "name": "stdout",
     "output_type": "stream",
     "text": [
      "dlrow olleh\n"
     ]
    }
   ],
   "source": [
    "# 14 wap to reverse the string without slicing\n",
    "st=\"hello world\"\n",
    "res=\"\"\n",
    "for i in st:\n",
    "    res=i+res\n",
    "print(res)"
   ]
  },
  {
   "cell_type": "code",
   "execution_count": 13,
   "metadata": {},
   "outputs": [
    {
     "name": "stdout",
     "output_type": "stream",
     "text": [
      "malayalam\n",
      "palindrome\n"
     ]
    }
   ],
   "source": [
    "# 15 wap to check given string is palindrome or not\n",
    "st=\"malayalam\"\n",
    "res=\"\"\n",
    "for i in st:\n",
    "    res=i+res\n",
    "print(res)\n",
    "if res==st:\n",
    "    print(\"palindrome\")\n",
    "else:\n",
    "    print(\"not palindrome\")"
   ]
  },
  {
   "cell_type": "code",
   "execution_count": 1,
   "metadata": {},
   "outputs": [
    {
     "name": "stdout",
     "output_type": "stream",
     "text": [
      "m\n",
      "mo\n",
      "mob\n",
      "mobi\n",
      "mobil\n",
      "mobile\n"
     ]
    }
   ],
   "source": [
    "# 16wap to exract string \n",
    "s=\"mobile\"\n",
    "pos=1\n",
    "for i in s:\n",
    "    print(s[0:pos])\n",
    "    pos+=1\n"
   ]
  },
  {
   "cell_type": "code",
   "execution_count": 2,
   "metadata": {},
   "outputs": [
    {
     "name": "stdout",
     "output_type": "stream",
     "text": [
      "l\n",
      "le\n",
      "lev\n",
      "leve\n",
      "level\n"
     ]
    }
   ],
   "source": [
    "# 17 using temp var\n",
    "s=\"level\"\n",
    "res=\"\"\n",
    "for i in s:\n",
    "    res+=i\n",
    "    print(res)"
   ]
  },
  {
   "cell_type": "code",
   "execution_count": 5,
   "metadata": {},
   "outputs": [
    {
     "name": "stdout",
     "output_type": "stream",
     "text": [
      "m\n",
      "mo\n",
      "mob\n",
      "mobi\n",
      "mobil\n",
      "mobile\n",
      "\n",
      "o\n",
      "ob\n",
      "obi\n",
      "obil\n",
      "obile\n",
      "\n",
      "\n",
      "b\n",
      "bi\n",
      "bil\n",
      "bile\n",
      "\n",
      "\n",
      "\n",
      "i\n",
      "il\n",
      "ile\n",
      "\n",
      "\n",
      "\n",
      "\n",
      "l\n",
      "le\n",
      "\n",
      "\n",
      "\n",
      "\n",
      "\n",
      "e\n"
     ]
    }
   ],
   "source": [
    "# 18 wap to \n",
    "s=\"mobile\"\n",
    "for i in range(0,len(s)):\n",
    "    for k in range(1,len(s)+1):\n",
    "        print(s[i:k])"
   ]
  },
  {
   "cell_type": "code",
   "execution_count": 6,
   "metadata": {},
   "outputs": [
    {
     "name": "stdout",
     "output_type": "stream",
     "text": [
      "\n",
      "m\n",
      "mo\n",
      "mob\n",
      "mobi\n",
      "mobil\n",
      "mobile\n",
      "\n",
      "o\n",
      "ob\n",
      "obi\n",
      "obil\n",
      "obile\n",
      "\n",
      "b\n",
      "bi\n",
      "bil\n",
      "bile\n",
      "\n",
      "i\n",
      "il\n",
      "ile\n",
      "\n",
      "l\n",
      "le\n",
      "\n",
      "e\n"
     ]
    }
   ],
   "source": [
    "# 19 \n",
    "s=\"mobile\"\n",
    "for i in range(0,len(s)):\n",
    "    for k in range(i,len(s)+1):\n",
    "        print(s[i:k])"
   ]
  },
  {
   "cell_type": "code",
   "execution_count": 16,
   "metadata": {},
   "outputs": [
    {
     "name": "stdout",
     "output_type": "stream",
     "text": [
      "[10, 11, 12, 13, 14, 15, 16, 17, 18, 19]\n",
      "[1, 2, 3, 4, 5, 6, 7, 8, 9]\n",
      "[]\n",
      "[9, 11, 13]\n",
      "[9, 7]\n",
      "[0, 1, 2, 3, 4, 5, 6, 7, 8]\n",
      "[]\n"
     ]
    }
   ],
   "source": [
    "range(10,20)\n",
    "print(list(range(10,20)))\n",
    "print(list(range(1,10)))\n",
    "print(list(range(9,14,-1)))\n",
    "print(list(range(9,14,2)))\n",
    "print(list(range(9,6,-2)))\n",
    "print(list(range(9)))\n",
    "print(list(range(9,-1)))"
   ]
  },
  {
   "cell_type": "code",
   "execution_count": 19,
   "metadata": {},
   "outputs": [
    {
     "name": "stdout",
     "output_type": "stream",
     "text": [
      "5 14\n",
      "5 32\n",
      "5 23\n",
      "5 122\n",
      "5 221\n"
     ]
    }
   ],
   "source": [
    "#20\n",
    "st=\"143231221\"\n",
    "for i in range(0,len(st)):\n",
    "    for j in range(i+1,len(st)+1):\n",
    "        res=int(st[i:j])\n",
    "        sum=0\n",
    "        n=res\n",
    "        while n:\n",
    "            l=n%10\n",
    "            sum+=l\n",
    "            n=n//10\n",
    "        if sum==5:\n",
    "            print(sum,res)\n"
   ]
  },
  {
   "cell_type": "code",
   "execution_count": 13,
   "metadata": {},
   "outputs": [
    {
     "name": "stdout",
     "output_type": "stream",
     "text": [
      "2\n"
     ]
    }
   ],
   "source": [
    "\n",
    "#21\n",
    "s=49321\n",
    "n=str(s)\n",
    "sum=5\n",
    "c=0\n",
    "for start in range(0,len(n)):\n",
    "    for end in range(start+1,len(n)):\n",
    "        if (int(n[start])+int(n[end]))==sum:\n",
    "            c+=1\n",
    "print(c)\n",
    "        "
   ]
  },
  {
   "cell_type": "code",
   "execution_count": 3,
   "metadata": {},
   "outputs": [
    {
     "name": "stdout",
     "output_type": "stream",
     "text": [
      "['abcdcba', 'bcdcb', 'cdc', 'xyzzyx', 'yzzy', 'zz', '5445', '44']\n",
      "8\n"
     ]
    }
   ],
   "source": [
    "# 22 wap to extract palindromes in given collection\n",
    "s=\"abcdcbalifhxyzzyx15445#$5\"\n",
    "l=[]\n",
    "for i in  range(0,len(s)):\n",
    "    for j in range(i+1,len(s)+1):\n",
    "        res=s[i:j]\n",
    "        if len(res)>1 and res==res[::-1]:\n",
    "            l+=[res]\n",
    "print(l)\n",
    "print(len(l)) "
   ]
  },
  {
   "cell_type": "code",
   "execution_count": 7,
   "metadata": {},
   "outputs": [
    {
     "name": "stdout",
     "output_type": "stream",
     "text": [
      "['abcdcba', 'bcdcb', 'cdc', 'xyzzyx', 'yzzy', 'zz', '5445', '44']\n",
      "8\n"
     ]
    }
   ],
   "source": [
    "# 23 wap to extract palindromes in given collection without slicing\n",
    "s=\"abcdcbalifhxyzzyx15445#$5\"\n",
    "l=[]\n",
    "for i in range(0,len(s)):\n",
    "    for j in range(i+1,len(s)+1):\n",
    "        res=\"\"\n",
    "        rev=\"\"\n",
    "        for x in range(i,j):\n",
    "            res+=s[x]\n",
    "            rev=s[x]+rev\n",
    "        if len(res)>1 and res==rev:\n",
    "            l+=[res]\n",
    "print(l)\n",
    "print(len(l))"
   ]
  },
  {
   "cell_type": "code",
   "execution_count": 9,
   "metadata": {},
   "outputs": [
    {
     "name": "stdout",
     "output_type": "stream",
     "text": [
      "4 o\n"
     ]
    }
   ],
   "source": [
    "# 24 wap to display the index value for given character in the string\n",
    "s=\"python\"\n",
    "c=\"o\"\n",
    "for i in range(0,len(s)):\n",
    "    if s[i]==c:\n",
    "        print(i,s[i])"
   ]
  },
  {
   "cell_type": "code",
   "execution_count": 11,
   "metadata": {},
   "outputs": [
    {
     "name": "stdout",
     "output_type": "stream",
     "text": [
      "l 2\n",
      "l 3\n",
      "l 9\n"
     ]
    }
   ],
   "source": [
    "#25\n",
    "s=\"hello world\"\n",
    "c=\"l\"\n",
    "for i in range(0,len(s)):\n",
    "    if s[i]==c:\n",
    "        print(s[i],i)"
   ]
  },
  {
   "cell_type": "code",
   "execution_count": 12,
   "metadata": {},
   "outputs": [
    {
     "name": "stdout",
     "output_type": "stream",
     "text": [
      "g 18\n"
     ]
    }
   ],
   "source": [
    "# wap to display the indexvalue of the specific char only first occurance\n",
    "s=\"python is a codeing language\"\n",
    "c='g'\n",
    "for x in range(0,len(s)):\n",
    "    if s[x]==c:\n",
    "        print(s[x],x)\n",
    "        break"
   ]
  },
  {
   "cell_type": "code",
   "execution_count": 15,
   "metadata": {},
   "outputs": [
    {
     "name": "stdout",
     "output_type": "stream",
     "text": [
      "g 23\n"
     ]
    }
   ],
   "source": [
    "#26  wap to display the indexvalue of the specific char nth occurance\n",
    "s=\"python is a codeing language\"\n",
    "c='g'\n",
    "n=2\n",
    "count=0\n",
    "for i in range(0,len(s)):\n",
    "    if s[i]==c:\n",
    "        count+=1\n",
    "        if count==n:\n",
    "            print(s[i],i)"
   ]
  },
  {
   "cell_type": "code",
   "execution_count": 18,
   "metadata": {},
   "outputs": [
    {
     "name": "stdout",
     "output_type": "stream",
     "text": [
      "26 g\n"
     ]
    }
   ],
   "source": [
    "#27  wap to display the indexvalue of specific cg=har last occurance\n",
    "s=\"python is a codeing language\"\n",
    "c='g'\n",
    "l=[]\n",
    "for x in range(0,len(s)):\n",
    "    if s[x]==c:\n",
    "        l+=[x]\n",
    "print(l[-1],c)\n",
    "\n",
    "\n"
   ]
  },
  {
   "cell_type": "code",
   "execution_count": 20,
   "metadata": {},
   "outputs": [
    {
     "name": "stdout",
     "output_type": "stream",
     "text": [
      "0 8\n"
     ]
    }
   ],
   "source": [
    "# 28 wap to display the start and endingindex position value for the given substrib=ng in given string\n",
    "s=\"hardware\"\n",
    "st=\"hardware jobs are very good\"\n",
    "if s in st:\n",
    "    for j in range(0,len(st)):\n",
    "        if s[0]==st[j]:\n",
    "            if st[j:j+len(s)]==s:\n",
    "                print(j,j+len(s))\n"
   ]
  },
  {
   "cell_type": "code",
   "execution_count": 21,
   "metadata": {},
   "outputs": [
    {
     "name": "stdout",
     "output_type": "stream",
     "text": [
      "12 h\n",
      "1 a\n",
      "10 a\n",
      "13 a\n",
      "17 a\n",
      "14 r\n",
      "18 r\n",
      "15 d\n",
      "16 w\n",
      "1 a\n",
      "10 a\n",
      "13 a\n",
      "17 a\n",
      "14 r\n",
      "18 r\n",
      "19 e\n",
      "27 e\n"
     ]
    }
   ],
   "source": [
    "#29  wap to display the index position values of char of substring in main string\n",
    "s=\"hardware\"\n",
    "st=\"laptop is a hardware component\"\n",
    "for i in range(0,len(s)):\n",
    "    for j in range(0,len(st)):\n",
    "        if s[i]==st[j]:\n",
    "            print(j,s[i])"
   ]
  },
  {
   "cell_type": "code",
   "execution_count": 22,
   "metadata": {},
   "outputs": [
    {
     "name": "stdout",
     "output_type": "stream",
     "text": [
      "1 a\n",
      "2 p\n"
     ]
    }
   ],
   "source": [
    "# 30 wap to print the first index value of the substring in main string\n",
    "s='ap'\n",
    "st=\"laptop\"\n",
    "for i in range(0,len(s)):\n",
    "    for j in range(0,len(st)):\n",
    "        if s[i]==st[j]:\n",
    "            print(j,s[i])\n",
    "            break"
   ]
  },
  {
   "cell_type": "code",
   "execution_count": 32,
   "metadata": {},
   "outputs": [
    {
     "name": "stdout",
     "output_type": "stream",
     "text": [
      "[74, 78]\n"
     ]
    }
   ],
   "source": [
    "#31 wap to find the nth occurance starting and ending indexvalueof substring in the main string\n",
    "s=\"gram\"\n",
    "c=\"python is a programming language,java is a programming language,c is a programming language\"\n",
    "l=[]\n",
    "for i in range(0,len(c)):\n",
    "    if s[0]==c[i]:\n",
    "        if c[i:i+len(s)]==s:\n",
    "            l+=[i,i+len(s)]\n",
    "print(l[-2::1])"
   ]
  },
  {
   "cell_type": "code",
   "execution_count": 2,
   "metadata": {},
   "outputs": [
    {
     "name": "stdout",
     "output_type": "stream",
     "text": [
      "[1, 2, 4, 1, 6, 2, 4]\n"
     ]
    }
   ],
   "source": [
    "# 32 wap to eliminate repeated values in the given collection\n",
    "s=[1,2,3,4,1,3,6,3,2,4]\n",
    "u=s.copy()\n",
    "c=0\n",
    "for i in range(0,len(u)):\n",
    "    if u[i]==3:\n",
    "        del s[i-c]\n",
    "        c+=1\n",
    "print(s)\n"
   ]
  },
  {
   "cell_type": "code",
   "execution_count": 4,
   "metadata": {},
   "outputs": [
    {
     "name": "stdout",
     "output_type": "stream",
     "text": [
      "[1, 2, 3, 4, 6]\n"
     ]
    }
   ],
   "source": [
    "#32 wap to eliminate the duplicate valuse in the given collection\n",
    "s=[1,2,3,4,1,3,6,3,2,4]\n",
    "u=s.copy()\n",
    "d=[]\n",
    "c=0\n",
    "for i in range(len(u)):\n",
    "    if u[i] not in d:\n",
    "        d+=[s[i]]\n",
    "    else:\n",
    "        del s[i-c]\n",
    "        c+=1\n",
    "print(s)"
   ]
  },
  {
   "cell_type": "code",
   "execution_count": 5,
   "metadata": {},
   "outputs": [
    {
     "name": "stdout",
     "output_type": "stream",
     "text": [
      "[1, 2, 3, 4, 6, 5, 8]\n",
      "[1, 2, 3, 4, 6, 1, 2, 6, 5, 6, 8, 2]\n"
     ]
    }
   ],
   "source": [
    "#33 wap to del the eact data item nth occurance value in the given collection\n",
    "st=[1,2,3,4,1,2,6,1,2,6,6,5,6,8,2,3]\n",
    "n=2\n",
    "c=0\n",
    "uni=[]\n",
    "for i in range(0,len(st)):\n",
    "    if st[i] not in uni:\n",
    "        uni+=[st[i]]\n",
    "print(uni)\n",
    "for j in uni:\n",
    "    count=0\n",
    "    for x in range(0,len(st)):\n",
    "        if j==st[x]:\n",
    "            count+=1\n",
    "        if count==n:\n",
    "            del st[x]\n",
    "            break\n",
    "print(st)\n"
   ]
  },
  {
   "cell_type": "code",
   "execution_count": 28,
   "metadata": {},
   "outputs": [
    {
     "name": "stdout",
     "output_type": "stream",
     "text": [
      "{1: 3, 2: 4, 3: 2, 4: 1, 6: 4, 5: 1, 8: 1}\n",
      "[1, 2, 3, 4, 6, 5, 8]\n",
      "4\n",
      "[2, 6]\n",
      "[1, 2, 3, 4, 1, 2, 6, 1, 2, 6, 6, 5, 8, 3]\n"
     ]
    }
   ],
   "source": [
    "st=[1,2,3,4,1,2,6,1,2,6,6,5,6,8,2,3]\n",
    "uni={}\n",
    "for i in range(0,len(st)):\n",
    "    if st[i] not in uni:\n",
    "        uni[st[i]]=1\n",
    "    else:\n",
    "        uni[st[i]]+=1\n",
    "print(uni)\n",
    "l=list(uni)\n",
    "print(l)\n",
    "small=0\n",
    "for x in range(0,len(l)):\n",
    "    if uni[l[x]]>small:\n",
    "        small=uni[l[x]]\n",
    "print(small)\n",
    "ch=[]\n",
    "for s in range(len(l)):       \n",
    "    if small==uni[l[s]]:\n",
    "        ch+=[l[s]]\n",
    "print(ch)\n",
    "for m in ch:\n",
    "    count=0\n",
    "    for d in range(0,len(st)):\n",
    "        if st[d]==m:\n",
    "            count+=1\n",
    "        if count==small:\n",
    "            del st[d]\n",
    "            break\n",
    "print(st)\n",
    "\n",
    "\n"
   ]
  },
  {
   "cell_type": "code",
   "execution_count": 6,
   "metadata": {},
   "outputs": [
    {
     "name": "stdout",
     "output_type": "stream",
     "text": [
      "[1, 2, 3, 4, 1, 2, 6, 1, 2, 6, 5, 6, 8, 2, 3]\n"
     ]
    }
   ],
   "source": [
    "# 34 wap to del the specfic char nth occurance in the collection\n",
    "st=[1,2,3,4,1,2,6,1,2,6,6,5,6,8,2,3]\n",
    "sp=6\n",
    "n=3\n",
    "count=0\n",
    "for i in range(0,len(st)):\n",
    "    if sp==st[i]:\n",
    "        count+=1\n",
    "    if count==n:\n",
    "        del st[i]\n",
    "        break\n",
    "print(st)"
   ]
  },
  {
   "cell_type": "code",
   "execution_count": 7,
   "metadata": {},
   "outputs": [
    {
     "name": "stdout",
     "output_type": "stream",
     "text": [
      "iphone iwatch pad\n"
     ]
    }
   ],
   "source": [
    "# for string\n",
    "s=\"iphone iwatch ipad\"\n",
    "n=3\n",
    "sp='i'\n",
    "c=0\n",
    "for i in range(0,len(st)):\n",
    "    if sp==s[i]:\n",
    "        c+=1\n",
    "    if c==n:\n",
    "        s=s[0:i]+s[i+1:]\n",
    "        break\n",
    "print(s)"
   ]
  },
  {
   "cell_type": "code",
   "execution_count": 8,
   "metadata": {},
   "outputs": [
    {
     "name": "stdout",
     "output_type": "stream",
     "text": [
      "(1, 2, 3, 4, 2, 6, 1, 2, 6, 6, 5, 6, 8, 2, 3)\n"
     ]
    }
   ],
   "source": [
    "# for tuple\n",
    "t=(1,2,3,4,1,2,6,1,2,6,6,5,6,8,2,3)\n",
    "sp=1\n",
    "c=0\n",
    "n=2\n",
    "for i in range(0,len(t)):\n",
    "    if sp==t[i]:\n",
    "        c+=1\n",
    "    if c==n:\n",
    "        t=t[0:i]+t[i+1:]\n",
    "        break\n",
    "print(t)"
   ]
  },
  {
   "cell_type": "code",
   "execution_count": 14,
   "metadata": {},
   "outputs": [
    {
     "name": "stdout",
     "output_type": "stream",
     "text": [
      "iphone iwatch pad\n"
     ]
    }
   ],
   "source": [
    "s=\"iphone iwatch ipad\"\n",
    "n=3\n",
    "sp='i'\n",
    "c=0\n",
    "res=''\n",
    "for i in range(0,len(s)):\n",
    "    if sp!=s[i]:\n",
    "        res+=s[i]\n",
    "    else:\n",
    "        c+=1\n",
    "        if c!=n:\n",
    "            res+=s[i]\n",
    "print(res)"
   ]
  },
  {
   "cell_type": "code",
   "execution_count": 15,
   "metadata": {},
   "outputs": [
    {
     "name": "stdout",
     "output_type": "stream",
     "text": [
      "(1, 2, 3, 4, 1, 2, 6, 1, 2, 6, 6, 5, 8, 2, 3)\n"
     ]
    }
   ],
   "source": [
    "s=(1,2,3,4,1,2,6,1,2,6,6,5,6,8,2,3)\n",
    "sp=6\n",
    "n=4\n",
    "c=0\n",
    "res=()\n",
    "for i in range(0,len(s)):\n",
    "    if sp!=s[i]:\n",
    "        res+=(s[i],)\n",
    "    else:\n",
    "        c+=1\n",
    "        if c!=n:\n",
    "            res+=(s[i],)\n",
    "print(res)"
   ]
  },
  {
   "cell_type": "code",
   "execution_count": 17,
   "metadata": {},
   "outputs": [
    {
     "name": "stdout",
     "output_type": "stream",
     "text": [
      "(9+9j)\n"
     ]
    }
   ],
   "source": [
    "#35 wap to sum the all values in give collection\n",
    "l=[1,2,True,5+9j,'str',(10,20,40)]\n",
    "if type(l) in [list,tuple,set]:\n",
    "    sum=0\n",
    "    for i in l:\n",
    "        if type(i) in [int,float,complex,bool]:\n",
    "            sum+=i\n",
    "print(sum)"
   ]
  },
  {
   "cell_type": "code",
   "execution_count": 18,
   "metadata": {},
   "outputs": [
    {
     "name": "stdout",
     "output_type": "stream",
     "text": [
      "18\n"
     ]
    }
   ],
   "source": [
    "# 36 o/p=18\n",
    "st=\"abc156cde123\"\n",
    "sum=0\n",
    "for i in st:\n",
    "    if '0'<=i<='9':\n",
    "        sum+=int(i)\n",
    "print(sum)\n"
   ]
  },
  {
   "cell_type": "code",
   "execution_count": 21,
   "metadata": {},
   "outputs": [
    {
     "name": "stdout",
     "output_type": "stream",
     "text": [
      "279\n"
     ]
    }
   ],
   "source": [
    "# 37 o/p=279\n",
    "s='acb156cfw123efg'\n",
    "sum=0\n",
    "res=\"\"\n",
    "for i in s:\n",
    "    if '0'<=i<='9':\n",
    "        res+=i\n",
    "    else:\n",
    "        if len(res)!=0:\n",
    "            sum+=int(res)\n",
    "        res=\"\"\n",
    "if len(res)!=0:\n",
    "    sum+=int(res)\n",
    "print(sum)"
   ]
  },
  {
   "cell_type": "code",
   "execution_count": 23,
   "metadata": {},
   "outputs": [
    {
     "name": "stdout",
     "output_type": "stream",
     "text": [
      "46\n"
     ]
    }
   ],
   "source": [
    "\n",
    "# 38 o/p=46\n",
    "st=\"abc326def125der\"\n",
    "sum=0\n",
    "res=\"\"\n",
    "for i in st:\n",
    "    if '0'<=i<='9':\n",
    "        res+=i\n",
    "    else:\n",
    "        if len(res)>0:\n",
    "            prod=1\n",
    "            for x in res:\n",
    "                prod*=int(x)\n",
    "            sum+=prod\n",
    "            res=\"\"\n",
    "if len(res)>0:\n",
    "    prod=1\n",
    "    for x in res:\n",
    "        prod*=int(x)\n",
    "    sum+=prod\n",
    "print(sum)"
   ]
  }
 ],
 "metadata": {
  "kernelspec": {
   "display_name": "Python 3",
   "language": "python",
   "name": "python3"
  },
  "language_info": {
   "codemirror_mode": {
    "name": "ipython",
    "version": 3
   },
   "file_extension": ".py",
   "mimetype": "text/x-python",
   "name": "python",
   "nbconvert_exporter": "python",
   "pygments_lexer": "ipython3",
   "version": "3.11.4"
  },
  "orig_nbformat": 4
 },
 "nbformat": 4,
 "nbformat_minor": 2
}
