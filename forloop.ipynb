{
 "cells": [
  {
   "cell_type": "code",
   "execution_count": 1,
   "metadata": {},
   "outputs": [
    {
     "name": "stdout",
     "output_type": "stream",
     "text": [
      "h\n",
      "e\n",
      "l\n",
      "l\n",
      "o\n"
     ]
    }
   ],
   "source": [
    "#for loop execuate based on length of the collection\n",
    "st='hello'\n",
    "for i in st:\n",
    "    print(i)"
   ]
  },
  {
   "cell_type": "code",
   "execution_count": 3,
   "metadata": {},
   "outputs": [
    {
     "name": "stdout",
     "output_type": "stream",
     "text": [
      "10\n",
      "15\n",
      "True\n",
      "[10, 20, 30]\n",
      "{10, 20}\n",
      "{'a': 10}\n",
      "b'1010'\n"
     ]
    }
   ],
   "source": [
    "#2 wap to extract each data item from the collection\n",
    "l=[10,15,True,[10,20,30],{10,20},{'a':10},b'1010']\n",
    "for i in l:\n",
    "    print(i)"
   ]
  },
  {
   "cell_type": "code",
   "execution_count": 4,
   "metadata": {},
   "outputs": [
    {
     "name": "stdout",
     "output_type": "stream",
     "text": [
      "10 15\n",
      "True [10, 20, 30]\n",
      "b'1010' 10\n"
     ]
    }
   ],
   "source": [
    "l={10:15,True:[10,20,30],b'1010':10}\n",
    "for x in l:\n",
    "    print(x,l[x])"
   ]
  },
  {
   "cell_type": "code",
   "execution_count": 6,
   "metadata": {},
   "outputs": [
    {
     "name": "stdout",
     "output_type": "stream",
     "text": [
      "S\n",
      "R\n"
     ]
    }
   ],
   "source": [
    "#3 write aprogram to extract the uppercase character\n",
    "st=\"SRav$%123\"\n",
    "for i in st:\n",
    "    if 'A'<=i<='Z':\n",
    "        print(i)"
   ]
  },
  {
   "cell_type": "code",
   "execution_count": 8,
   "metadata": {},
   "outputs": [
    {
     "name": "stdout",
     "output_type": "stream",
     "text": [
      "srava@*\n"
     ]
    }
   ],
   "source": [
    "#4 wap to store the special char and lowercase char from given string\n",
    "s='sravaNI@3455*'\n",
    "res=\"\"\n",
    "for i in s:\n",
    "    if 'a'<=i<='z' or not('A'<=i<='Z' or '0'<=i<='9'):\n",
    "        res+=i\n",
    "print(res)"
   ]
  },
  {
   "cell_type": "code",
   "execution_count": 9,
   "metadata": {},
   "outputs": [
    {
     "name": "stdout",
     "output_type": "stream",
     "text": [
      "NI\n",
      "srava\n",
      "3455\n",
      "@*\n"
     ]
    }
   ],
   "source": [
    "#5 wap to seggregtie all characters from given string\n",
    "s='sravaNI@3455*'\n",
    "uc,lc,an,ss=\"\",\"\",\"\",\"\"\n",
    "for i in s:\n",
    "    if 'a'<=i<='z':\n",
    "        lc+=i\n",
    "    elif 'A'<=i<='Z':\n",
    "        uc+=i\n",
    "    elif '0'<=i<='9':\n",
    "        an+=i\n",
    "    else:\n",
    "        ss+=i\n",
    "print(uc)\n",
    "print(lc)\n",
    "print(an)\n",
    "print(ss)"
   ]
  },
  {
   "cell_type": "code",
   "execution_count": 15,
   "metadata": {},
   "outputs": [
    {
     "name": "stdout",
     "output_type": "stream",
     "text": [
      "invaild password\n"
     ]
    }
   ],
   "source": [
    "#6wap to check given password is vaild or not 1.i/p should be str and len of str is min 8 and max20\n",
    "#2.mim 1 numeric char 3.min 2 special char except .,(),{},[] 4.min 1 lowercase and max 5 lowercasechar 5.first and last char should be uppercase\n",
    "st=\"Sravan!@1234R\"\n",
    "uc,lc,an,ss,sp=\"\",\"\",\"\",\"\",\"\"\n",
    "if type(st)==str and 8<=len(st)<=20 and 'A'<=st[0]<='Z' and 'A'<=st[-1]<='Z':\n",
    "    for x in st:\n",
    "        if 'A'<=x<='Z':\n",
    "            uc+=x\n",
    "        elif 'a'<=x<='z':\n",
    "            lc+=x\n",
    "        elif '0'<=x<='9':\n",
    "            an+=i\n",
    "        elif x not in '. () {} []':\n",
    "            ss+=x\n",
    "        else:\n",
    "            sp+=x\n",
    "    if len(an)>=1 and 1<=len(lc)<=5 and len(ss)>=2 and len(sp)==0:\n",
    "        print('vaild password')\n",
    "    else:\n",
    "        print(\"invaild password\")\n",
    "else:\n",
    "    print(\"invalid password\")"
   ]
  },
  {
   "cell_type": "code",
   "execution_count": 25,
   "metadata": {},
   "outputs": [
    {
     "name": "stdout",
     "output_type": "stream",
     "text": [
      "password should have min 1 and max 5 lowercase char\n",
      "password should have min 2 special char\n"
     ]
    }
   ],
   "source": [
    "#6wap to check given password is vaild or not 1.i/p should be str and len of str is min 8 and max20\n",
    "#2.mim 1 numeric char 3.min 2 special char except .,(),{},[] 4.min 1 lowercase and max 5 lowercasechar 5.first and last char should be uppercase and\n",
    "# print reasom if itis invaild\n",
    "st=\"Sravanihhj!1234Q\"\n",
    "if not(type(st)==str):\n",
    "    print(\"password should be asrting\") \n",
    "if not(8<=len(st)<=20 ):\n",
    "    print(\"password length min 8 and max20\")\n",
    "if not('A'<=st[0]<='Z' and 'A'<=st[-1]<='Z'):\n",
    "    print(\"password first and last caharacter should be a uppercase\")\n",
    "uc,lc,an,ss,sp=\"\",\"\",\"\",\"\",\"\"\n",
    "for x in st:\n",
    "    if 'A'<=x<='Z':\n",
    "         uc+=x\n",
    "    elif 'a'<=x<='z':\n",
    "        lc+=x\n",
    "    elif '0'<=x<='9':\n",
    "        an+=i\n",
    "    elif x not in '. () {} []':\n",
    "        ss+=x\n",
    "    else:\n",
    "        sp+=x\n",
    "if not(len(an)>=1):\n",
    "    print(\"password should have min one numeric char\")\n",
    "if not(1<=len(lc)<=5):\n",
    "    print(\"password should have min 1 and max 5 lowercase char\")\n",
    "if not(len(ss)>=2):\n",
    "    print(\"password should have min 2 special char\")\n",
    "if not(len(sp)==0):\n",
    "    print(\"password should not have . () {} []\")"
   ]
  },
  {
   "cell_type": "code",
   "execution_count": 28,
   "metadata": {},
   "outputs": [
    {
     "name": "stdout",
     "output_type": "stream",
     "text": [
      "10\n"
     ]
    }
   ],
   "source": [
    "#wap to count the no.of data items in a given collection without length function\n",
    "st=\"helloworld\"\n",
    "if type(st) in [str,list,tuple,set,dict]:\n",
    "    count=0\n",
    "    for i in st:\n",
    "        count+=1\n",
    "    print(count)\n"
   ]
  },
  {
   "cell_type": "code",
   "execution_count": 34,
   "metadata": {},
   "outputs": [
    {
     "name": "stdout",
     "output_type": "stream",
     "text": [
      "2\n"
     ]
    }
   ],
   "source": [
    "##wap to count specific char in given collection\n",
    "st=eval(input(\"enter the value\"))\n",
    "r=eval(input(\"enter the value\"))\n",
    "if type(st) in[list,str,tuple]:\n",
    "    c=0\n",
    "    for x in st:\n",
    "        if x==r:\n",
    "            c+=1\n",
    "    print(c)"
   ]
  },
  {
   "cell_type": "code",
   "execution_count": 36,
   "metadata": {},
   "outputs": [
    {
     "name": "stdout",
     "output_type": "stream",
     "text": [
      "{'h': 1, 'e': 1, 'l': 3, 'o': 2, 'w': 1, 'r': 1, 'd': 1}\n"
     ]
    }
   ],
   "source": [
    "#wap to frequency of each element in the input\n",
    "st=eval(input(\"enter the value\"))\n",
    "d={}\n",
    "if type(st) in [list,tuple,str]:\n",
    "    for x in st:\n",
    "        if x not in d:\n",
    "            d[x]=1\n",
    "        else:\n",
    "            d[x]+=1\n",
    "    print(d)\n",
    "\n"
   ]
  }
 ],
 "metadata": {
  "kernelspec": {
   "display_name": "Python 3",
   "language": "python",
   "name": "python3"
  },
  "language_info": {
   "codemirror_mode": {
    "name": "ipython",
    "version": 3
   },
   "file_extension": ".py",
   "mimetype": "text/x-python",
   "name": "python",
   "nbconvert_exporter": "python",
   "pygments_lexer": "ipython3",
   "version": "3.11.4"
  },
  "orig_nbformat": 4
 },
 "nbformat": 4,
 "nbformat_minor": 2
}
